{
 "cells": [
  {
   "cell_type": "code",
   "execution_count": 141,
   "metadata": {},
   "outputs": [],
   "source": [
    "import numpy as np\n",
    "from matplotlib import pyplot as plt\n",
    "from sklearn.linear_model import LinearRegression\n",
    "from sklearn.metrics import r2_score, roc_auc_score\n",
    "from sklearn.model_selection import train_test_split\n",
    "import itertools\n",
    "import mne\n",
    "from mne.decoding import CSP\n",
    "from mne import Epochs\n",
    "from mne.decoding import SPoC\n",
    "mne.set_log_level(verbose='warning') #to avoid info at terminal\n",
    "import pickle\n",
    "import sys\n",
    "import IO\n",
    "import os\n",
    "import time \n",
    "\n",
    "import tensorflow as tf\n",
    "import keras\n",
    "from keras.layers import BatchNormalization\n",
    "from keras.callbacks import EarlyStopping\n",
    "from keras.callbacks import ModelCheckpoint\n",
    "from keras.models import Sequential\n",
    "from keras.layers import Dense\n",
    "from keras.models import load_model\n",
    "from keras.layers import Dropout\n",
    "from keras.wrappers.scikit_learn import KerasClassifier, KerasRegressor\n",
    "from keras.optimizers import Adam, SGD\n",
    "from keras.layers import Dense, Conv2D , MaxPool2D , Flatten , Dropout\n",
    "\n",
    "from tensorflow.python.keras import backend as K\n",
    "from sklearn.model_selection import StratifiedKFold\n",
    "\n",
    "from sklearn.linear_model import Ridge\n",
    "from sklearn.linear_model import LinearRegression\n",
    "from sklearn.linear_model import LogisticRegression\n",
    "from sklearn.linear_model import LassoCV\n",
    "from sklearn.linear_model import ElasticNetCV\n",
    "from sklearn.linear_model import ElasticNet\n",
    "\n",
    "from scipy import stats\n",
    "from collections import OrderedDict\n",
    "from sklearn.model_selection import KFold, cross_val_score\n",
    "from sklearn.pipeline import make_pipeline\n",
    "from sklearn import metrics\n",
    "from bayes_opt import BayesianOptimization\n",
    "from skopt.space import Real, Integer, Categorical\n",
    "from skopt.utils import use_named_args\n",
    "from skopt import gp_minimize\n",
    "import gc\n",
    "from sklearn.preprocessing import StandardScaler\n",
    "\n",
    "import xgboost as xgb\n",
    "from xgboost import XGBRegressor\n"
   ]
  },
  {
   "cell_type": "code",
   "execution_count": 2,
   "metadata": {},
   "outputs": [],
   "source": [
    "gpu_devices = tf.config.experimental.list_physical_devices('GPU')\n",
    "tf.config.experimental.set_memory_growth(gpu_devices[0], True)"
   ]
  },
  {
   "cell_type": "markdown",
   "metadata": {},
   "source": [
    "### get the data"
   ]
  },
  {
   "cell_type": "code",
   "execution_count": 3,
   "metadata": {},
   "outputs": [],
   "source": [
    "def get_int_runs(subject_id, subfolder):\n",
    "    \"\"\"\n",
    "\n",
    "    :param patient_idx:\n",
    "    :return: list with all run files for the given patient\n",
    "    \"\"\"\n",
    "    os.listdir(settings['out_path'])\n",
    "\n",
    "    if 'right' in str(subfolder):\n",
    "        list_subject = [i for i in os.listdir(settings['out_path']) if i.startswith('sub_'+subject_id+'_sess_right') and i.endswith('.p')]\n",
    "    else:\n",
    "        list_subject = [i for i in os.listdir(settings['out_path']) if i.startswith('sub_'+subject_id+'_sess_left') and i.endswith('.p')]\n",
    "\n",
    "    return list_subject\n",
    "\n",
    "\n",
    "def append_time_dim(arr, y_, time_stamps):\n",
    "    \"\"\"\n",
    "    apply added time dimension for the data array and label given time_stamps (with downsample_rate=100) in 100ms / need to check with 1375Hz\n",
    "    \"\"\"\n",
    "    time_arr = np.zeros([arr.shape[0]-time_stamps, int(time_stamps*arr.shape[1])])\n",
    "    for time_idx, time_ in enumerate(np.arange(time_stamps, arr.shape[0])):\n",
    "        for time_point in range(time_stamps):\n",
    "            time_arr[time_idx, time_point*arr.shape[1]:(time_point+1)*arr.shape[1]] = arr[time_-time_point,:]\n",
    "    return time_arr, y_[time_stamps:]\n",
    "#%%"
   ]
  },
  {
   "cell_type": "code",
   "execution_count": 4,
   "metadata": {},
   "outputs": [],
   "source": [
    "settings = {}\n",
    "settings['BIDS_path'] = \"C:\\\\Users\\\\ICN_admin\\\\Dropbox (Brain Modulation Lab)\\\\Shared Lab Folders\\\\CRCNS\\\\MOVEMENT DATA\\\\\"\n",
    "settings['out_path'] = \"C:\\\\Users\\\\ICN_admin\\\\Dropbox (Brain Modulation Lab)\\\\Shared Lab Folders\\\\CRCNS\\\\MOVEMENT DATA\\\\derivatives\\\\Int_old_grid\\\\\"\n",
    "settings['out_path_process'] = \"C:\\\\Users\\\\ICN_admin\\\\Dropbox (Brain Modulation Lab)\\\\Shared Lab Folders\\\\CRCNS\\MOVEMENT DATA\\\\ECoG_STN\\XGB_Out_Full\\\\\"\n",
    "settings['frequencyranges']=[[4, 8], [8, 12], [13, 20], [20, 35], [13, 35], [60, 80], [90, 200], [60, 200]]\n",
    "settings['seglengths']=[1, 2, 2, 3, 3, 3, 10, 10, 10]\n",
    "settings['num_patients']=['000', '001', '004', '005', '006', '007', '008', '009', '010', '013', '014']\n"
   ]
  },
  {
   "cell_type": "code",
   "execution_count": 99,
   "metadata": {},
   "outputs": [
    {
     "name": "stdout",
     "output_type": "stream",
     "text": [
      "ses-left\n",
      "ses-right\n",
      "RUNNIN SUBJECT_001_SESS_ses-left_SIGNAL_ECOG\n",
      "RUNNIN SUBJECT_001_SESS_ses-right_SIGNAL_ECOG\n"
     ]
    }
   ],
   "source": [
    "signal_ = \"ECOG\"\n",
    "sub_idx = 1\n",
    "subject_path=settings['BIDS_path'] + 'sub-' + settings['num_patients'][sub_idx]\n",
    "subfolder=IO.get_subfolders(subject_path)\n",
    "\n",
    "X=[]\n",
    "Y_con=[]\n",
    "Y_ips=[]\n",
    "for sess_idx in range(len(subfolder)):\n",
    "    X=[]\n",
    "    Y_con=[]\n",
    "    Y_ips=[]\n",
    "    list_subject=get_int_runs(settings['num_patients'][sub_idx], subfolder[sess_idx])\n",
    "    list_subject=sorted(list_subject)\n",
    "    if signal_==\"ECOG\":\n",
    "        if sub_idx==4 and sess_idx==0: #for sake of comparison with spoc\n",
    "            list_subject.pop(0)\n",
    "        if sub_idx==4 and sess_idx==1:\n",
    "            list_subject.pop(2)\n",
    "\n",
    "    print('RUNNIN SUBJECT_'+ settings['num_patients'][sub_idx]+ '_SESS_'+ str(subfolder[sess_idx]) + '_SIGNAL_' + signal_)\n",
    "\n",
    "    for run_idx in range(len(list_subject)):\n",
    "        with open(settings['out_path']+ '/'+ list_subject[run_idx], 'rb') as handle:\n",
    "            run_ = pickle.load(handle)\n",
    "\n",
    "        #concatenate features\n",
    "        #get cortex data only\n",
    "        if signal_==\"ECOG\":\n",
    "            ind_cortex=run_['used_channels']['cortex']\n",
    "            rf=run_['rf_data_median']\n",
    "            x=rf[:,ind_cortex,:]\n",
    "            x=np.clip(x, -2,2) # this should have been implemented in the pipeline\n",
    "            y=run_['label_baseline_corrected']\n",
    "            con_true=run_['label_con_true']\n",
    "            y_con=np.squeeze(y[con_true==True])\n",
    "            y_ips=np.squeeze(y[con_true==False])\n",
    "            X.append(x)\n",
    "            Y_con.append(y_con)\n",
    "            Y_ips.append(y_ips)\n",
    "        else:\n",
    "            ind_subcortex=run_['used_channels']['subcortex']\n",
    "            if ind_subcortex is not None:\n",
    "\n",
    "                rf=run_['rf_data_median']\n",
    "                x=rf[:,ind_subcortex,:]\n",
    "                x=np.clip(x, -2,2)\n",
    "\n",
    "                y=run_['label_baseline_corrected']\n",
    "                con_true=run_['label_con_true']\n",
    "                y_con=np.squeeze(y[con_true==True])\n",
    "                y_ips=np.squeeze(y[con_true==False])\n",
    "\n",
    "                X.append(x)\n",
    "                Y_con.append(y_con)\n",
    "                Y_ips.append(y_ips)\n",
    "\n",
    "    gc.collect() # free unreferenced memory\n",
    "\n",
    "    X=np.concatenate(X, axis=0)\n",
    "    Y_con=np.concatenate(Y_con, axis=0)\n",
    "    Y_ips=np.concatenate(Y_ips, axis=0)\n",
    "    \n",
    "    "
   ]
  },
  {
   "cell_type": "code",
   "execution_count": 100,
   "metadata": {},
   "outputs": [],
   "source": [
    "X,Y_con = append_time_dim(X[:,0,:], Y_con, time_stamps=5)"
   ]
  },
  {
   "cell_type": "code",
   "execution_count": 101,
   "metadata": {},
   "outputs": [
    {
     "data": {
      "text/plain": [
       "(10955, 40)"
      ]
     },
     "execution_count": 101,
     "metadata": {},
     "output_type": "execute_result"
    }
   ],
   "source": [
    "X.shape"
   ]
  },
  {
   "cell_type": "code",
   "execution_count": 102,
   "metadata": {},
   "outputs": [
    {
     "data": {
      "text/plain": [
       "(10955,)"
      ]
     },
     "execution_count": 102,
     "metadata": {},
     "output_type": "execute_result"
    }
   ],
   "source": [
    "Y_con.shape"
   ]
  },
  {
   "cell_type": "code",
   "execution_count": 240,
   "metadata": {},
   "outputs": [
    {
     "data": {
      "text/plain": [
       "[<matplotlib.lines.Line2D at 0x20be90d9f48>]"
      ]
     },
     "execution_count": 240,
     "metadata": {},
     "output_type": "execute_result"
    },
    {
     "data": {
      "image/png": "[encoded data removed]",
      "text/plain": [
       "<Figure size 432x288 with 1 Axes>"
      ]
     },
     "metadata": {
      "needs_background": "light"
     },
     "output_type": "display_data"
    }
   ],
   "source": [
    "plt.plot(Y_con[250:300])"
   ]
  },
  {
   "cell_type": "markdown",
   "metadata": {},
   "source": [
    "### model definition"
   ]
  },
  {
   "cell_type": "code",
   "execution_count": 103,
   "metadata": {},
   "outputs": [],
   "source": [
    "def r2_keras(y_true, y_pred):\n",
    "    SS_res =  K.sum(K.square(y_true - y_pred)) \n",
    "    SS_tot = K.sum(K.square(y_true - K.mean(y_true))) \n",
    "    return ( 1 - SS_res/(SS_tot + K.epsilon()) )"
   ]
  },
  {
   "cell_type": "markdown",
   "metadata": {},
   "source": [
    "### MLP"
   ]
  },
  {
   "cell_type": "code",
   "execution_count": 226,
   "metadata": {},
   "outputs": [],
   "source": [
    "activation = \"relu\"\n",
    "num_dense_layers =5\n",
    "num_dense_nodes = 10\n",
    "num_input_nodes = 15"
   ]
  },
  {
   "cell_type": "code",
   "execution_count": 227,
   "metadata": {},
   "outputs": [],
   "source": [
    "model = Sequential()\n",
    "model.add(BatchNormalization())\n",
    "model.add(Dropout(0.2))\n",
    "model.add(Dense(num_input_nodes, input_shape=(40,), activation=activation))\n",
    "\n",
    "#create a loop making a new dense layer for the amount passed to this model.\n",
    "#naming the layers helps avoid tensorflow error deep in the stack trace.\n",
    "for i in range(num_dense_layers):\n",
    "    name = 'layer_dense_{0}'.format(i+1)\n",
    "    model.add(BatchNormalization())\n",
    "    model.add(Dropout(0.2))\n",
    "    model.add(Dense(num_dense_nodes,\n",
    "             activation=activation,\n",
    "                    name=name\n",
    "             ))\n",
    "#add our classification layer.\n",
    "model.add(Dropout(0.2))\n",
    "model.add(BatchNormalization())\n",
    "model.add(Dense(1,activation='linear'))\n",
    "\n",
    "#setup our optimizer and compile\n",
    "adam = Adam()\n",
    "model.compile(optimizer=adam, loss='mean_squared_error',\n",
    "             metrics=[r2_keras])"
   ]
  },
  {
   "cell_type": "code",
   "execution_count": null,
   "metadata": {},
   "outputs": [],
   "source": []
  },
  {
   "cell_type": "code",
   "execution_count": 228,
   "metadata": {
    "scrolled": true
   },
   "outputs": [
    {
     "name": "stdout",
     "output_type": "stream",
     "text": [
      "Train on 5137 samples, validate on 2531 samples\n",
      "Epoch 1/2000\n",
      "5137/5137 [==============================] - 2s 353us/step - loss: 0.9835 - r2_keras: -42.4148 - val_loss: 0.0618 - val_r2_keras: -1.1233\n",
      "\n",
      "Epoch 00001: val_r2_keras improved from -inf to -1.12333, saving model to best_model.h5\n",
      "Epoch 2/2000\n",
      "5137/5137 [==============================] - 1s 104us/step - loss: 0.5359 - r2_keras: -22.0391 - val_loss: 0.0642 - val_r2_keras: -1.2192\n",
      "\n",
      "Epoch 00002: val_r2_keras did not improve from -1.12333\n",
      "Epoch 3/2000\n",
      "5137/5137 [==============================] - 1s 105us/step - loss: 0.3930 - r2_keras: -18.0788 - val_loss: 0.0589 - val_r2_keras: -1.0193\n",
      "\n",
      "Epoch 00003: val_r2_keras improved from -1.12333 to -1.01926, saving model to best_model.h5\n",
      "Epoch 4/2000\n",
      "5137/5137 [==============================] - 1s 107us/step - loss: 0.2925 - r2_keras: -11.2833 - val_loss: 0.0572 - val_r2_keras: -0.9751\n",
      "\n",
      "Epoch 00004: val_r2_keras improved from -1.01926 to -0.97510, saving model to best_model.h5\n",
      "Epoch 5/2000\n",
      "5137/5137 [==============================] - 1s 103us/step - loss: 0.2298 - r2_keras: -7.8369 - val_loss: 0.0514 - val_r2_keras: -0.7383\n",
      "\n",
      "Epoch 00005: val_r2_keras improved from -0.97510 to -0.73825, saving model to best_model.h5\n",
      "Epoch 6/2000\n",
      "5137/5137 [==============================] - 1s 106us/step - loss: 0.1925 - r2_keras: -7.7115 - val_loss: 0.0483 - val_r2_keras: -0.6199\n",
      "\n",
      "Epoch 00006: val_r2_keras improved from -0.73825 to -0.61994, saving model to best_model.h5\n",
      "Epoch 7/2000\n",
      "5137/5137 [==============================] - 1s 105us/step - loss: 0.1635 - r2_keras: -5.1242 - val_loss: 0.0441 - val_r2_keras: -0.4667\n",
      "\n",
      "Epoch 00007: val_r2_keras improved from -0.61994 to -0.46670, saving model to best_model.h5\n",
      "Epoch 8/2000\n",
      "5137/5137 [==============================] - 1s 104us/step - loss: 0.1442 - r2_keras: -4.7238 - val_loss: 0.0417 - val_r2_keras: -0.3840\n",
      "\n",
      "Epoch 00008: val_r2_keras improved from -0.46670 to -0.38401, saving model to best_model.h5\n",
      "Epoch 9/2000\n",
      "5137/5137 [==============================] - 1s 103us/step - loss: 0.1256 - r2_keras: -3.7225 - val_loss: 0.0400 - val_r2_keras: -0.3209\n",
      "\n",
      "Epoch 00009: val_r2_keras improved from -0.38401 to -0.32093, saving model to best_model.h5\n",
      "Epoch 10/2000\n",
      "5137/5137 [==============================] - 1s 106us/step - loss: 0.1130 - r2_keras: -3.3588 - val_loss: 0.0378 - val_r2_keras: -0.2407\n",
      "\n",
      "Epoch 00010: val_r2_keras improved from -0.32093 to -0.24071, saving model to best_model.h5\n",
      "Epoch 11/2000\n",
      "5137/5137 [==============================] - 1s 104us/step - loss: 0.0933 - r2_keras: -2.6492 - val_loss: 0.0365 - val_r2_keras: -0.1948\n",
      "\n",
      "Epoch 00011: val_r2_keras improved from -0.24071 to -0.19477, saving model to best_model.h5\n",
      "Epoch 12/2000\n",
      "5137/5137 [==============================] - 1s 107us/step - loss: 0.0791 - r2_keras: -3.2607 - val_loss: 0.0359 - val_r2_keras: -0.1723\n",
      "\n",
      "Epoch 00012: val_r2_keras improved from -0.19477 to -0.17231, saving model to best_model.h5\n",
      "Epoch 13/2000\n",
      "5137/5137 [==============================] - 1s 101us/step - loss: 0.0739 - r2_keras: -1.7227 - val_loss: 0.0347 - val_r2_keras: -0.1318\n",
      "\n",
      "Epoch 00013: val_r2_keras improved from -0.17231 to -0.13185, saving model to best_model.h5\n",
      "Epoch 14/2000\n",
      "5137/5137 [==============================] - 1s 103us/step - loss: 0.0669 - r2_keras: -1.4462 - val_loss: 0.0343 - val_r2_keras: -0.1157\n",
      "\n",
      "Epoch 00014: val_r2_keras improved from -0.13185 to -0.11568, saving model to best_model.h5\n",
      "Epoch 15/2000\n",
      "5137/5137 [==============================] - 1s 104us/step - loss: 0.0604 - r2_keras: -1.1566 - val_loss: 0.0336 - val_r2_keras: -0.0920\n",
      "\n",
      "Epoch 00015: val_r2_keras improved from -0.11568 to -0.09204, saving model to best_model.h5\n",
      "Epoch 16/2000\n",
      "5137/5137 [==============================] - 1s 105us/step - loss: 0.0562 - r2_keras: -1.0158 - val_loss: 0.0333 - val_r2_keras: -0.0825\n",
      "\n",
      "Epoch 00016: val_r2_keras improved from -0.09204 to -0.08246, saving model to best_model.h5\n",
      "Epoch 17/2000\n",
      "5137/5137 [==============================] - 1s 106us/step - loss: 0.0522 - r2_keras: -0.8720 - val_loss: 0.0330 - val_r2_keras: -0.0737\n",
      "\n",
      "Epoch 00017: val_r2_keras improved from -0.08246 to -0.07368, saving model to best_model.h5\n",
      "Epoch 18/2000\n",
      "5137/5137 [==============================] - 1s 103us/step - loss: 0.0469 - r2_keras: -0.6380 - val_loss: 0.0327 - val_r2_keras: -0.0635\n",
      "\n",
      "Epoch 00018: val_r2_keras improved from -0.07368 to -0.06352, saving model to best_model.h5\n",
      "Epoch 19/2000\n",
      "5137/5137 [==============================] - 1s 107us/step - loss: 0.0460 - r2_keras: -0.7193 - val_loss: 0.0327 - val_r2_keras: -0.0631\n",
      "\n",
      "Epoch 00019: val_r2_keras improved from -0.06352 to -0.06309, saving model to best_model.h5\n",
      "Epoch 20/2000\n",
      "5137/5137 [==============================] - 1s 104us/step - loss: 0.0432 - r2_keras: -202616.5156 - val_loss: 0.0322 - val_r2_keras: -0.0481\n",
      "\n",
      "Epoch 00020: val_r2_keras improved from -0.06309 to -0.04811, saving model to best_model.h5\n",
      "Epoch 21/2000\n",
      "5137/5137 [==============================] - 1s 105us/step - loss: 0.0403 - r2_keras: -0.4120 - val_loss: 0.0320 - val_r2_keras: -0.0405\n",
      "\n",
      "Epoch 00021: val_r2_keras improved from -0.04811 to -0.04054, saving model to best_model.h5\n",
      "Epoch 22/2000\n",
      "5137/5137 [==============================] - 1s 107us/step - loss: 0.0411 - r2_keras: -0.4589 - val_loss: 0.0318 - val_r2_keras: -0.0363\n",
      "\n",
      "Epoch 00022: val_r2_keras improved from -0.04054 to -0.03628, saving model to best_model.h5\n",
      "Epoch 23/2000\n",
      "5137/5137 [==============================] - 1s 104us/step - loss: 0.0377 - r2_keras: -57729.4102 - val_loss: 0.0315 - val_r2_keras: -0.0265\n",
      "\n",
      "Epoch 00023: val_r2_keras improved from -0.03628 to -0.02649, saving model to best_model.h5\n",
      "Epoch 24/2000\n",
      "5137/5137 [==============================] - 1s 105us/step - loss: 0.0373 - r2_keras: -0.2838 - val_loss: 0.0313 - val_r2_keras: -0.0208\n",
      "\n",
      "Epoch 00024: val_r2_keras improved from -0.02649 to -0.02081, saving model to best_model.h5\n",
      "Epoch 25/2000\n",
      "5137/5137 [==============================] - 1s 103us/step - loss: 0.0355 - r2_keras: -0.2049 - val_loss: 0.0315 - val_r2_keras: -0.0255\n",
      "\n",
      "Epoch 00025: val_r2_keras did not improve from -0.02081\n",
      "Epoch 26/2000\n",
      "5137/5137 [==============================] - 1s 103us/step - loss: 0.0348 - r2_keras: -0.1716 - val_loss: 0.0312 - val_r2_keras: -0.0170\n",
      "\n",
      "Epoch 00026: val_r2_keras improved from -0.02081 to -0.01699, saving model to best_model.h5\n",
      "Epoch 27/2000\n",
      "5137/5137 [==============================] - 1s 102us/step - loss: 0.0344 - r2_keras: -0.2398 - val_loss: 0.0312 - val_r2_keras: -0.0166\n",
      "\n",
      "Epoch 00027: val_r2_keras improved from -0.01699 to -0.01657, saving model to best_model.h5\n",
      "Epoch 28/2000\n",
      "5137/5137 [==============================] - 1s 103us/step - loss: 0.0341 - r2_keras: -0.2326 - val_loss: 0.0310 - val_r2_keras: -0.0137\n",
      "\n",
      "Epoch 00028: val_r2_keras improved from -0.01657 to -0.01369, saving model to best_model.h5\n",
      "Epoch 29/2000\n",
      "5137/5137 [==============================] - 1s 106us/step - loss: 0.0333 - r2_keras: -0.1525 - val_loss: 0.0310 - val_r2_keras: -0.0128\n",
      "\n",
      "Epoch 00029: val_r2_keras improved from -0.01369 to -0.01285, saving model to best_model.h5\n",
      "Epoch 30/2000\n",
      "5137/5137 [==============================] - 1s 102us/step - loss: 0.0330 - r2_keras: -20706.7148 - val_loss: 0.0310 - val_r2_keras: -0.0137\n",
      "\n",
      "Epoch 00030: val_r2_keras did not improve from -0.01285\n",
      "Epoch 31/2000\n",
      "5137/5137 [==============================] - 1s 100us/step - loss: 0.0330 - r2_keras: -20159.3652 - val_loss: 0.0310 - val_r2_keras: -0.0135\n",
      "\n",
      "Epoch 00031: val_r2_keras did not improve from -0.01285\n",
      "Epoch 32/2000\n",
      "5137/5137 [==============================] - 1s 100us/step - loss: 0.0322 - r2_keras: -0.0811 - val_loss: 0.0308 - val_r2_keras: -0.0088\n",
      "\n",
      "Epoch 00032: val_r2_keras improved from -0.01285 to -0.00877, saving model to best_model.h5\n",
      "Epoch 33/2000\n",
      "5137/5137 [==============================] - 1s 104us/step - loss: 0.0318 - r2_keras: -19042.7012 - val_loss: 0.0308 - val_r2_keras: -0.0070\n",
      "\n",
      "Epoch 00033: val_r2_keras improved from -0.00877 to -0.00703, saving model to best_model.h5\n",
      "Epoch 34/2000\n",
      "5137/5137 [==============================] - 1s 103us/step - loss: 0.0320 - r2_keras: -19351.3906 - val_loss: 0.0308 - val_r2_keras: -0.0092\n",
      "\n",
      "Epoch 00034: val_r2_keras did not improve from -0.00703\n",
      "Epoch 35/2000\n"
     ]
    },
    {
     "name": "stdout",
     "output_type": "stream",
     "text": [
      "5137/5137 [==============================] - 1s 102us/step - loss: 0.0313 - r2_keras: -0.1371 - val_loss: 0.0308 - val_r2_keras: -0.0067\n",
      "\n",
      "Epoch 00035: val_r2_keras improved from -0.00703 to -0.00670, saving model to best_model.h5\n",
      "Epoch 36/2000\n",
      "5137/5137 [==============================] - 1s 101us/step - loss: 0.0314 - r2_keras: -20678.1035 - val_loss: 0.0308 - val_r2_keras: -0.0088\n",
      "\n",
      "Epoch 00036: val_r2_keras did not improve from -0.00670\n",
      "Epoch 37/2000\n",
      "5137/5137 [==============================] - 1s 101us/step - loss: 0.0312 - r2_keras: -0.0344 - val_loss: 0.0308 - val_r2_keras: -0.0069\n",
      "\n",
      "Epoch 00037: val_r2_keras did not improve from -0.00670\n",
      "Epoch 38/2000\n",
      "5137/5137 [==============================] - 1s 100us/step - loss: 0.0311 - r2_keras: -0.0418 - val_loss: 0.0306 - val_r2_keras: -0.0031\n",
      "\n",
      "Epoch 00038: val_r2_keras improved from -0.00670 to -0.00309, saving model to best_model.h5\n",
      "Epoch 39/2000\n",
      "5137/5137 [==============================] - 1s 103us/step - loss: 0.0310 - r2_keras: -0.0373 - val_loss: 0.0307 - val_r2_keras: -0.0034\n",
      "\n",
      "Epoch 00039: val_r2_keras did not improve from -0.00309\n",
      "Epoch 40/2000\n",
      "5137/5137 [==============================] - 1s 103us/step - loss: 0.0310 - r2_keras: -0.0252 - val_loss: 0.0305 - val_r2_keras: -3.7455e-04\n",
      "\n",
      "Epoch 00040: val_r2_keras improved from -0.00309 to -0.00037, saving model to best_model.h5\n",
      "Epoch 41/2000\n",
      "5137/5137 [==============================] - 1s 103us/step - loss: 0.0307 - r2_keras: -0.0260 - val_loss: 0.0305 - val_r2_keras: 7.4724e-05\n",
      "\n",
      "Epoch 00041: val_r2_keras improved from -0.00037 to 0.00007, saving model to best_model.h5\n",
      "Epoch 42/2000\n",
      "5137/5137 [==============================] - 1s 99us/step - loss: 0.0308 - r2_keras: -0.0347 - val_loss: 0.0306 - val_r2_keras: -0.0028\n",
      "\n",
      "Epoch 00042: val_r2_keras did not improve from 0.00007\n",
      "Epoch 43/2000\n",
      "5137/5137 [==============================] - 1s 101us/step - loss: 0.0307 - r2_keras: -18055.5840 - val_loss: 0.0306 - val_r2_keras: -0.0019\n",
      "\n",
      "Epoch 00043: val_r2_keras did not improve from 0.00007\n",
      "Epoch 44/2000\n",
      "5137/5137 [==============================] - 1s 100us/step - loss: 0.0305 - r2_keras: -0.0774 - val_loss: 0.0305 - val_r2_keras: 0.0019\n",
      "\n",
      "Epoch 00044: val_r2_keras improved from 0.00007 to 0.00188, saving model to best_model.h5\n",
      "Epoch 45/2000\n",
      "5137/5137 [==============================] - 1s 103us/step - loss: 0.0306 - r2_keras: -42319.0898 - val_loss: 0.0304 - val_r2_keras: 0.0030\n",
      "\n",
      "Epoch 00045: val_r2_keras improved from 0.00188 to 0.00304, saving model to best_model.h5\n",
      "Epoch 46/2000\n",
      "5137/5137 [==============================] - 1s 102us/step - loss: 0.0305 - r2_keras: -0.0129 - val_loss: 0.0303 - val_r2_keras: 0.0045\n",
      "\n",
      "Epoch 00046: val_r2_keras improved from 0.00304 to 0.00447, saving model to best_model.h5\n",
      "Epoch 47/2000\n",
      "5137/5137 [==============================] - 1s 103us/step - loss: 0.0305 - r2_keras: -0.0204 - val_loss: 0.0305 - val_r2_keras: 0.0011\n",
      "\n",
      "Epoch 00047: val_r2_keras did not improve from 0.00447\n",
      "Epoch 48/2000\n",
      "5137/5137 [==============================] - 1s 101us/step - loss: 0.0304 - r2_keras: -0.0019 - val_loss: 0.0305 - val_r2_keras: 1.7054e-04\n",
      "\n",
      "Epoch 00048: val_r2_keras did not improve from 0.00447\n",
      "Epoch 49/2000\n",
      "5137/5137 [==============================] - 1s 102us/step - loss: 0.0303 - r2_keras: -0.0219 - val_loss: 0.0303 - val_r2_keras: 0.0078\n",
      "\n",
      "Epoch 00049: val_r2_keras improved from 0.00447 to 0.00782, saving model to best_model.h5\n",
      "Epoch 50/2000\n",
      "5137/5137 [==============================] - 1s 104us/step - loss: 0.0304 - r2_keras: -0.0100 - val_loss: 0.0303 - val_r2_keras: 0.0059\n",
      "\n",
      "Epoch 00050: val_r2_keras did not improve from 0.00782\n",
      "Epoch 51/2000\n",
      "5137/5137 [==============================] - 1s 99us/step - loss: 0.0304 - r2_keras: -0.0086 - val_loss: 0.0303 - val_r2_keras: 0.0079\n",
      "\n",
      "Epoch 00051: val_r2_keras improved from 0.00782 to 0.00790, saving model to best_model.h5\n",
      "Epoch 52/2000\n",
      "5137/5137 [==============================] - 1s 102us/step - loss: 0.0304 - r2_keras: -0.0147 - val_loss: 0.0303 - val_r2_keras: 0.0048\n",
      "\n",
      "Epoch 00052: val_r2_keras did not improve from 0.00790\n",
      "Epoch 53/2000\n",
      "5137/5137 [==============================] - 1s 101us/step - loss: 0.0303 - r2_keras: -0.0068 - val_loss: 0.0302 - val_r2_keras: 0.0121\n",
      "\n",
      "Epoch 00053: val_r2_keras improved from 0.00790 to 0.01215, saving model to best_model.h5\n",
      "Epoch 54/2000\n",
      "5137/5137 [==============================] - ETA: 0s - loss: 0.0302 - r2_keras: -0.027 - 1s 102us/step - loss: 0.0303 - r2_keras: -17898.1738 - val_loss: 0.0300 - val_r2_keras: 0.0156\n",
      "\n",
      "Epoch 00054: val_r2_keras improved from 0.01215 to 0.01562, saving model to best_model.h5\n",
      "Epoch 55/2000\n",
      "5137/5137 [==============================] - 1s 106us/step - loss: 0.0301 - r2_keras: -0.0303 - val_loss: 0.0301 - val_r2_keras: 0.0157\n",
      "\n",
      "Epoch 00055: val_r2_keras improved from 0.01562 to 0.01574, saving model to best_model.h5\n",
      "Epoch 56/2000\n",
      "5137/5137 [==============================] - 1s 103us/step - loss: 0.0302 - r2_keras: 0.0013 - val_loss: 0.0301 - val_r2_keras: 0.0146\n",
      "\n",
      "Epoch 00056: val_r2_keras did not improve from 0.01574\n",
      "Epoch 57/2000\n",
      "5137/5137 [==============================] - 1s 99us/step - loss: 0.0303 - r2_keras: -0.0027 - val_loss: 0.0301 - val_r2_keras: 0.0152\n",
      "\n",
      "Epoch 00057: val_r2_keras did not improve from 0.01574\n",
      "Epoch 58/2000\n",
      "5137/5137 [==============================] - 0s 97us/step - loss: 0.0303 - r2_keras: -0.0451 - val_loss: 0.0301 - val_r2_keras: 0.0141\n",
      "\n",
      "Epoch 00058: val_r2_keras did not improve from 0.01574\n",
      "Epoch 59/2000\n",
      "5137/5137 [==============================] - 1s 101us/step - loss: 0.0304 - r2_keras: -0.0658 - val_loss: 0.0300 - val_r2_keras: 0.0169\n",
      "\n",
      "Epoch 00059: val_r2_keras improved from 0.01574 to 0.01692, saving model to best_model.h5\n",
      "Epoch 60/2000\n",
      "5137/5137 [==============================] - 1s 102us/step - loss: 0.0303 - r2_keras: 0.0032 - val_loss: 0.0300 - val_r2_keras: 0.0170\n",
      "\n",
      "Epoch 00060: val_r2_keras improved from 0.01692 to 0.01703, saving model to best_model.h5\n",
      "Epoch 61/2000\n",
      "5137/5137 [==============================] - 1s 103us/step - loss: 0.0304 - r2_keras: -0.0405 - val_loss: 0.0298 - val_r2_keras: 0.0212\n",
      "\n",
      "Epoch 00061: val_r2_keras improved from 0.01703 to 0.02121, saving model to best_model.h5\n",
      "Epoch 62/2000\n",
      "5137/5137 [==============================] - 1s 102us/step - loss: 0.0301 - r2_keras: -0.0058 - val_loss: 0.0298 - val_r2_keras: 0.0222\n",
      "\n",
      "Epoch 00062: val_r2_keras improved from 0.02121 to 0.02218, saving model to best_model.h5\n",
      "Epoch 63/2000\n",
      "5137/5137 [==============================] - 1s 102us/step - loss: 0.0302 - r2_keras: -0.0046 - val_loss: 0.0301 - val_r2_keras: 0.0138\n",
      "\n",
      "Epoch 00063: val_r2_keras did not improve from 0.02218\n",
      "Epoch 64/2000\n",
      "5137/5137 [==============================] - 1s 100us/step - loss: 0.0304 - r2_keras: -0.0126 - val_loss: 0.0299 - val_r2_keras: 0.0186\n",
      "\n",
      "Epoch 00064: val_r2_keras did not improve from 0.02218\n",
      "Epoch 65/2000\n",
      "5137/5137 [==============================] - 1s 101us/step - loss: 0.0301 - r2_keras: 0.0015 - val_loss: 0.0299 - val_r2_keras: 0.0200\n",
      "\n",
      "Epoch 00065: val_r2_keras did not improve from 0.02218\n",
      "Epoch 66/2000\n",
      "5137/5137 [==============================] - 1s 99us/step - loss: 0.0303 - r2_keras: 0.0034 - val_loss: 0.0298 - val_r2_keras: 0.0223\n",
      "\n",
      "Epoch 00066: val_r2_keras improved from 0.02218 to 0.02235, saving model to best_model.h5\n",
      "Epoch 67/2000\n",
      "5137/5137 [==============================] - 1s 100us/step - loss: 0.0302 - r2_keras: -0.0049 - val_loss: 0.0298 - val_r2_keras: 0.0220\n",
      "\n",
      "Epoch 00067: val_r2_keras did not improve from 0.02235\n",
      "Epoch 68/2000\n",
      "5137/5137 [==============================] - 1s 99us/step - loss: 0.0299 - r2_keras: 0.0090 - val_loss: 0.0296 - val_r2_keras: 0.0308\n",
      "\n",
      "Epoch 00068: val_r2_keras improved from 0.02235 to 0.03075, saving model to best_model.h5\n",
      "Epoch 69/2000\n",
      "5137/5137 [==============================] - 1s 103us/step - loss: 0.0300 - r2_keras: -0.0207 - val_loss: 0.0294 - val_r2_keras: 0.0366\n",
      "\n",
      "Epoch 00069: val_r2_keras improved from 0.03075 to 0.03664, saving model to best_model.h5\n",
      "Epoch 70/2000\n",
      "5137/5137 [==============================] - 1s 101us/step - loss: 0.0299 - r2_keras: 0.0123 - val_loss: 0.0295 - val_r2_keras: 0.0346\n",
      "\n",
      "Epoch 00070: val_r2_keras did not improve from 0.03664\n",
      "Epoch 71/2000\n"
     ]
    },
    {
     "name": "stdout",
     "output_type": "stream",
     "text": [
      "5137/5137 [==============================] - 1s 100us/step - loss: 0.0298 - r2_keras: -45957.7656 - val_loss: 0.0292 - val_r2_keras: 0.0434\n",
      "\n",
      "Epoch 00071: val_r2_keras improved from 0.03664 to 0.04340, saving model to best_model.h5\n",
      "Epoch 72/2000\n",
      "5137/5137 [==============================] - 1s 101us/step - loss: 0.0298 - r2_keras: -58448.7305 - val_loss: 0.0292 - val_r2_keras: 0.0437\n",
      "\n",
      "Epoch 00072: val_r2_keras improved from 0.04340 to 0.04369, saving model to best_model.h5\n",
      "Epoch 73/2000\n",
      "5137/5137 [==============================] - 1s 101us/step - loss: 0.0296 - r2_keras: -78879.7812 - val_loss: 0.0293 - val_r2_keras: 0.0406\n",
      "\n",
      "Epoch 00073: val_r2_keras did not improve from 0.04369\n",
      "Epoch 74/2000\n",
      "5137/5137 [==============================] - 1s 99us/step - loss: 0.0296 - r2_keras: 0.0202 - val_loss: 0.0288 - val_r2_keras: 0.0556\n",
      "\n",
      "Epoch 00074: val_r2_keras improved from 0.04369 to 0.05561, saving model to best_model.h5\n",
      "Epoch 75/2000\n",
      "5137/5137 [==============================] - 1s 102us/step - loss: 0.0298 - r2_keras: -0.0016 - val_loss: 0.0288 - val_r2_keras: 0.0543\n",
      "\n",
      "Epoch 00075: val_r2_keras did not improve from 0.05561\n",
      "Epoch 76/2000\n",
      "5137/5137 [==============================] - 1s 99us/step - loss: 0.0298 - r2_keras: -0.0059 - val_loss: 0.0287 - val_r2_keras: 0.0589\n",
      "\n",
      "Epoch 00076: val_r2_keras improved from 0.05561 to 0.05887, saving model to best_model.h5\n",
      "Epoch 77/2000\n",
      "5137/5137 [==============================] - 1s 104us/step - loss: 0.0299 - r2_keras: 3.2198e-05 - val_loss: 0.0288 - val_r2_keras: 0.0564\n",
      "\n",
      "Epoch 00077: val_r2_keras did not improve from 0.05887\n",
      "Epoch 78/2000\n",
      "5137/5137 [==============================] - 1s 98us/step - loss: 0.0299 - r2_keras: 0.0133 - val_loss: 0.0286 - val_r2_keras: 0.0600\n",
      "\n",
      "Epoch 00078: val_r2_keras improved from 0.05887 to 0.05999, saving model to best_model.h5\n",
      "Epoch 79/2000\n",
      "5137/5137 [==============================] - 1s 105us/step - loss: 0.0299 - r2_keras: 0.0036 - val_loss: 0.0291 - val_r2_keras: 0.0453\n",
      "\n",
      "Epoch 00079: val_r2_keras did not improve from 0.05999\n",
      "Epoch 80/2000\n",
      "5137/5137 [==============================] - 0s 96us/step - loss: 0.0299 - r2_keras: 0.0044 - val_loss: 0.0292 - val_r2_keras: 0.0399\n",
      "\n",
      "Epoch 00080: val_r2_keras did not improve from 0.05999\n",
      "Epoch 81/2000\n",
      "5137/5137 [==============================] - 1s 100us/step - loss: 0.0293 - r2_keras: -24818.1914 - val_loss: 0.0281 - val_r2_keras: 0.0773\n",
      "\n",
      "Epoch 00081: val_r2_keras improved from 0.05999 to 0.07731, saving model to best_model.h5\n",
      "Epoch 82/2000\n",
      "5137/5137 [==============================] - 1s 102us/step - loss: 0.0297 - r2_keras: 0.0094 - val_loss: 0.0284 - val_r2_keras: 0.0659\n",
      "\n",
      "Epoch 00082: val_r2_keras did not improve from 0.07731\n",
      "Epoch 83/2000\n",
      "5137/5137 [==============================] - 1s 103us/step - loss: 0.0292 - r2_keras: -5.7487e-04 - val_loss: 0.0283 - val_r2_keras: 0.0717\n",
      "\n",
      "Epoch 00083: val_r2_keras did not improve from 0.07731\n",
      "Epoch 84/2000\n",
      "5137/5137 [==============================] - 0s 97us/step - loss: 0.0296 - r2_keras: 0.0291 - val_loss: 0.0284 - val_r2_keras: 0.0705\n",
      "\n",
      "Epoch 00084: val_r2_keras did not improve from 0.07731\n",
      "Epoch 85/2000\n",
      "5137/5137 [==============================] - 1s 101us/step - loss: 0.0293 - r2_keras: 0.0356 - val_loss: 0.0280 - val_r2_keras: 0.0818\n",
      "\n",
      "Epoch 00085: val_r2_keras improved from 0.07731 to 0.08184, saving model to best_model.h5\n",
      "Epoch 86/2000\n",
      "5137/5137 [==============================] - 1s 101us/step - loss: 0.0292 - r2_keras: 0.0198 - val_loss: 0.0280 - val_r2_keras: 0.0816\n",
      "\n",
      "Epoch 00086: val_r2_keras did not improve from 0.08184\n",
      "Epoch 87/2000\n",
      "5137/5137 [==============================] - 1s 103us/step - loss: 0.0288 - r2_keras: 0.0064 - val_loss: 0.0279 - val_r2_keras: 0.0855\n",
      "\n",
      "Epoch 00087: val_r2_keras improved from 0.08184 to 0.08552, saving model to best_model.h5\n",
      "Epoch 88/2000\n",
      "5137/5137 [==============================] - 1s 103us/step - loss: 0.0290 - r2_keras: 0.0358 - val_loss: 0.0275 - val_r2_keras: 0.0971\n",
      "\n",
      "Epoch 00088: val_r2_keras improved from 0.08552 to 0.09711, saving model to best_model.h5\n",
      "Epoch 89/2000\n",
      "5137/5137 [==============================] - 1s 102us/step - loss: 0.0293 - r2_keras: -22793.5215 - val_loss: 0.0281 - val_r2_keras: 0.0788\n",
      "\n",
      "Epoch 00089: val_r2_keras did not improve from 0.09711\n",
      "Epoch 90/2000\n",
      "5137/5137 [==============================] - 1s 99us/step - loss: 0.0287 - r2_keras: 0.0224 - val_loss: 0.0275 - val_r2_keras: 0.0967\n",
      "\n",
      "Epoch 00090: val_r2_keras did not improve from 0.09711\n",
      "Epoch 91/2000\n",
      "5137/5137 [==============================] - 1s 101us/step - loss: 0.0289 - r2_keras: 0.0288 - val_loss: 0.0277 - val_r2_keras: 0.0907\n",
      "\n",
      "Epoch 00091: val_r2_keras did not improve from 0.09711\n",
      "Epoch 92/2000\n",
      "5137/5137 [==============================] - 1s 101us/step - loss: 0.0290 - r2_keras: 0.0343 - val_loss: 0.0275 - val_r2_keras: 0.0955\n",
      "\n",
      "Epoch 00092: val_r2_keras did not improve from 0.09711\n",
      "Epoch 93/2000\n",
      "5137/5137 [==============================] - 1s 98us/step - loss: 0.0289 - r2_keras: 0.0224 - val_loss: 0.0274 - val_r2_keras: 0.1001\n",
      "\n",
      "Epoch 00093: val_r2_keras improved from 0.09711 to 0.10009, saving model to best_model.h5\n",
      "Epoch 94/2000\n",
      "5137/5137 [==============================] - 1s 100us/step - loss: 0.0289 - r2_keras: 0.0446 - val_loss: 0.0273 - val_r2_keras: 0.1037\n",
      "\n",
      "Epoch 00094: val_r2_keras improved from 0.10009 to 0.10372, saving model to best_model.h5\n",
      "Epoch 95/2000\n",
      "5137/5137 [==============================] - 1s 106us/step - loss: 0.0287 - r2_keras: 0.0346 - val_loss: 0.0275 - val_r2_keras: 0.0972\n",
      "\n",
      "Epoch 00095: val_r2_keras did not improve from 0.10372\n",
      "Epoch 96/2000\n",
      "5137/5137 [==============================] - 0s 96us/step - loss: 0.0289 - r2_keras: -21385.0703 - val_loss: 0.0274 - val_r2_keras: 0.0989\n",
      "\n",
      "Epoch 00096: val_r2_keras did not improve from 0.10372\n",
      "Epoch 97/2000\n",
      "5137/5137 [==============================] - 1s 101us/step - loss: 0.0292 - r2_keras: 0.0228 - val_loss: 0.0274 - val_r2_keras: 0.0988\n",
      "\n",
      "Epoch 00097: val_r2_keras did not improve from 0.10372\n",
      "Epoch 98/2000\n",
      "5137/5137 [==============================] - 1s 100us/step - loss: 0.0285 - r2_keras: 0.0528 - val_loss: 0.0269 - val_r2_keras: 0.1143\n",
      "\n",
      "Epoch 00098: val_r2_keras improved from 0.10372 to 0.11434, saving model to best_model.h5\n",
      "Epoch 99/2000\n",
      "5137/5137 [==============================] - 1s 104us/step - loss: 0.0282 - r2_keras: 0.0323 - val_loss: 0.0269 - val_r2_keras: 0.1144\n",
      "\n",
      "Epoch 00099: val_r2_keras improved from 0.11434 to 0.11436, saving model to best_model.h5\n",
      "Epoch 100/2000\n",
      "5137/5137 [==============================] - 1s 100us/step - loss: 0.0284 - r2_keras: 0.0462 - val_loss: 0.0268 - val_r2_keras: 0.1190\n",
      "\n",
      "Epoch 00100: val_r2_keras improved from 0.11436 to 0.11900, saving model to best_model.h5\n",
      "Epoch 101/2000\n",
      "5137/5137 [==============================] - 1s 103us/step - loss: 0.0292 - r2_keras: 0.0245 - val_loss: 0.0274 - val_r2_keras: 0.0985\n",
      "\n",
      "Epoch 00101: val_r2_keras did not improve from 0.11900\n",
      "Epoch 102/2000\n",
      "5137/5137 [==============================] - 1s 100us/step - loss: 0.0282 - r2_keras: 0.0486 - val_loss: 0.0268 - val_r2_keras: 0.1186\n",
      "\n",
      "Epoch 00102: val_r2_keras did not improve from 0.11900\n",
      "Epoch 103/2000\n",
      "5137/5137 [==============================] - 1s 103us/step - loss: 0.0283 - r2_keras: 0.0261 - val_loss: 0.0265 - val_r2_keras: 0.1264\n",
      "\n",
      "Epoch 00103: val_r2_keras improved from 0.11900 to 0.12641, saving model to best_model.h5\n",
      "Epoch 104/2000\n",
      "5137/5137 [==============================] - 1s 103us/step - loss: 0.0287 - r2_keras: -23562.6152 - val_loss: 0.0271 - val_r2_keras: 0.1107\n",
      "\n",
      "Epoch 00104: val_r2_keras did not improve from 0.12641\n",
      "Epoch 105/2000\n",
      "5137/5137 [==============================] - 1s 103us/step - loss: 0.0288 - r2_keras: -25043.9766 - val_loss: 0.0273 - val_r2_keras: 0.1048\n",
      "\n",
      "Epoch 00105: val_r2_keras did not improve from 0.12641\n",
      "Epoch 106/2000\n",
      "5137/5137 [==============================] - 1s 100us/step - loss: 0.0285 - r2_keras: 0.0271 - val_loss: 0.0269 - val_r2_keras: 0.1154\n",
      "\n",
      "Epoch 00106: val_r2_keras did not improve from 0.12641\n",
      "Epoch 107/2000\n",
      "5137/5137 [==============================] - 1s 101us/step - loss: 0.0290 - r2_keras: 0.0287 - val_loss: 0.0269 - val_r2_keras: 0.1131\n",
      "\n",
      "Epoch 00107: val_r2_keras did not improve from 0.12641\n",
      "Epoch 108/2000\n"
     ]
    },
    {
     "name": "stdout",
     "output_type": "stream",
     "text": [
      "5137/5137 [==============================] - 1s 102us/step - loss: 0.0286 - r2_keras: 0.0356 - val_loss: 0.0270 - val_r2_keras: 0.1145\n",
      "\n",
      "Epoch 00108: val_r2_keras did not improve from 0.12641\n",
      "Epoch 109/2000\n",
      "5137/5137 [==============================] - 1s 103us/step - loss: 0.0282 - r2_keras: -0.1545 - val_loss: 0.0265 - val_r2_keras: 0.1304\n",
      "\n",
      "Epoch 00109: val_r2_keras improved from 0.12641 to 0.13036, saving model to best_model.h5\n",
      "Epoch 110/2000\n",
      "5137/5137 [==============================] - 1s 106us/step - loss: 0.0282 - r2_keras: -0.0032 - val_loss: 0.0261 - val_r2_keras: 0.1389\n",
      "\n",
      "Epoch 00110: val_r2_keras improved from 0.13036 to 0.13894, saving model to best_model.h5\n",
      "Epoch 111/2000\n",
      "5137/5137 [==============================] - 1s 102us/step - loss: 0.0282 - r2_keras: -28807.4727 - val_loss: 0.0263 - val_r2_keras: 0.1348\n",
      "\n",
      "Epoch 00111: val_r2_keras did not improve from 0.13894\n",
      "Epoch 112/2000\n",
      "5137/5137 [==============================] - 1s 101us/step - loss: 0.0281 - r2_keras: 0.0145 - val_loss: 0.0263 - val_r2_keras: 0.1340\n",
      "\n",
      "Epoch 00112: val_r2_keras did not improve from 0.13894\n",
      "Epoch 113/2000\n",
      "5137/5137 [==============================] - 1s 102us/step - loss: 0.0280 - r2_keras: 0.0277 - val_loss: 0.0259 - val_r2_keras: 0.1461\n",
      "\n",
      "Epoch 00113: val_r2_keras improved from 0.13894 to 0.14615, saving model to best_model.h5\n",
      "Epoch 114/2000\n",
      "5137/5137 [==============================] - 1s 101us/step - loss: 0.0277 - r2_keras: 0.0811 - val_loss: 0.0259 - val_r2_keras: 0.1446\n",
      "\n",
      "Epoch 00114: val_r2_keras did not improve from 0.14615\n",
      "Epoch 115/2000\n",
      "5137/5137 [==============================] - 1s 103us/step - loss: 0.0283 - r2_keras: 4.6411e-04 - val_loss: 0.0268 - val_r2_keras: 0.1177\n",
      "\n",
      "Epoch 00115: val_r2_keras did not improve from 0.14615\n",
      "Epoch 116/2000\n",
      "5137/5137 [==============================] - 1s 101us/step - loss: 0.0286 - r2_keras: 0.0218 - val_loss: 0.0264 - val_r2_keras: 0.1325\n",
      "\n",
      "Epoch 00116: val_r2_keras did not improve from 0.14615\n",
      "Epoch 117/2000\n",
      "5137/5137 [==============================] - 1s 102us/step - loss: 0.0279 - r2_keras: 0.0742 - val_loss: 0.0260 - val_r2_keras: 0.1424\n",
      "\n",
      "Epoch 00117: val_r2_keras did not improve from 0.14615\n",
      "Epoch 118/2000\n",
      "5137/5137 [==============================] - 1s 102us/step - loss: 0.0279 - r2_keras: -0.1042 - val_loss: 0.0258 - val_r2_keras: 0.1475\n",
      "\n",
      "Epoch 00118: val_r2_keras improved from 0.14615 to 0.14748, saving model to best_model.h5\n",
      "Epoch 119/2000\n",
      "5137/5137 [==============================] - 1s 101us/step - loss: 0.0281 - r2_keras: 0.0590 - val_loss: 0.0262 - val_r2_keras: 0.1357\n",
      "\n",
      "Epoch 00119: val_r2_keras did not improve from 0.14748\n",
      "Epoch 120/2000\n",
      "5137/5137 [==============================] - 1s 100us/step - loss: 0.0282 - r2_keras: 0.0539 - val_loss: 0.0262 - val_r2_keras: 0.1370\n",
      "\n",
      "Epoch 00120: val_r2_keras did not improve from 0.14748\n",
      "Epoch 121/2000\n",
      "5137/5137 [==============================] - 1s 99us/step - loss: 0.0282 - r2_keras: 0.0552 - val_loss: 0.0258 - val_r2_keras: 0.1474\n",
      "\n",
      "Epoch 00121: val_r2_keras did not improve from 0.14748\n",
      "Epoch 122/2000\n",
      "5137/5137 [==============================] - 1s 101us/step - loss: 0.0282 - r2_keras: 0.0358 - val_loss: 0.0256 - val_r2_keras: 0.1520\n",
      "\n",
      "Epoch 00122: val_r2_keras improved from 0.14748 to 0.15202, saving model to best_model.h5\n",
      "Epoch 123/2000\n",
      "5137/5137 [==============================] - 1s 100us/step - loss: 0.0275 - r2_keras: 0.0721 - val_loss: 0.0262 - val_r2_keras: 0.1373\n",
      "\n",
      "Epoch 00123: val_r2_keras did not improve from 0.15202\n",
      "Epoch 124/2000\n",
      "5137/5137 [==============================] - 1s 102us/step - loss: 0.0276 - r2_keras: 0.0577 - val_loss: 0.0261 - val_r2_keras: 0.1390\n",
      "\n",
      "Epoch 00124: val_r2_keras did not improve from 0.15202\n",
      "Epoch 125/2000\n",
      "5137/5137 [==============================] - 1s 100us/step - loss: 0.0276 - r2_keras: 0.0594 - val_loss: 0.0256 - val_r2_keras: 0.1548\n",
      "\n",
      "Epoch 00125: val_r2_keras improved from 0.15202 to 0.15478, saving model to best_model.h5\n",
      "Epoch 126/2000\n",
      "5137/5137 [==============================] - 1s 102us/step - loss: 0.0273 - r2_keras: 0.0762 - val_loss: 0.0258 - val_r2_keras: 0.1510\n",
      "\n",
      "Epoch 00126: val_r2_keras did not improve from 0.15478\n",
      "Epoch 127/2000\n",
      "5137/5137 [==============================] - 1s 101us/step - loss: 0.0280 - r2_keras: 0.0234 - val_loss: 0.0261 - val_r2_keras: 0.1418\n",
      "\n",
      "Epoch 00127: val_r2_keras did not improve from 0.15478\n",
      "Epoch 128/2000\n",
      "5137/5137 [==============================] - 1s 99us/step - loss: 0.0276 - r2_keras: -0.0168 - val_loss: 0.0254 - val_r2_keras: 0.1608\n",
      "\n",
      "Epoch 00128: val_r2_keras improved from 0.15478 to 0.16079, saving model to best_model.h5\n",
      "Epoch 129/2000\n",
      "5137/5137 [==============================] - 1s 103us/step - loss: 0.0273 - r2_keras: 0.0205 - val_loss: 0.0252 - val_r2_keras: 0.1653\n",
      "\n",
      "Epoch 00129: val_r2_keras improved from 0.16079 to 0.16525, saving model to best_model.h5\n",
      "Epoch 130/2000\n",
      "5137/5137 [==============================] - 1s 107us/step - loss: 0.0274 - r2_keras: -44412.1914 - val_loss: 0.0253 - val_r2_keras: 0.1626\n",
      "\n",
      "Epoch 00130: val_r2_keras did not improve from 0.16525\n",
      "Epoch 131/2000\n",
      "5137/5137 [==============================] - 1s 100us/step - loss: 0.0273 - r2_keras: 0.0777 - val_loss: 0.0250 - val_r2_keras: 0.1699\n",
      "\n",
      "Epoch 00131: val_r2_keras improved from 0.16525 to 0.16990, saving model to best_model.h5\n",
      "Epoch 132/2000\n",
      "5137/5137 [==============================] - 1s 100us/step - loss: 0.0271 - r2_keras: 0.0799 - val_loss: 0.0254 - val_r2_keras: 0.1629\n",
      "\n",
      "Epoch 00132: val_r2_keras did not improve from 0.16990\n",
      "Epoch 133/2000\n",
      "5137/5137 [==============================] - 1s 101us/step - loss: 0.0272 - r2_keras: 0.0875 - val_loss: 0.0257 - val_r2_keras: 0.1537\n",
      "\n",
      "Epoch 00133: val_r2_keras did not improve from 0.16990\n",
      "Epoch 134/2000\n",
      "5137/5137 [==============================] - 1s 103us/step - loss: 0.0272 - r2_keras: 0.0615 - val_loss: 0.0257 - val_r2_keras: 0.1530\n",
      "\n",
      "Epoch 00134: val_r2_keras did not improve from 0.16990\n",
      "Epoch 135/2000\n",
      "5137/5137 [==============================] - 1s 100us/step - loss: 0.0268 - r2_keras: 0.0754 - val_loss: 0.0253 - val_r2_keras: 0.1665\n",
      "\n",
      "Epoch 00135: val_r2_keras did not improve from 0.16990\n",
      "Epoch 136/2000\n",
      "5137/5137 [==============================] - 1s 99us/step - loss: 0.0272 - r2_keras: 0.0854 - val_loss: 0.0252 - val_r2_keras: 0.1670\n",
      "\n",
      "Epoch 00136: val_r2_keras did not improve from 0.16990\n",
      "Epoch 137/2000\n",
      "5137/5137 [==============================] - 1s 101us/step - loss: 0.0269 - r2_keras: 0.0844 - val_loss: 0.0249 - val_r2_keras: 0.1755\n",
      "\n",
      "Epoch 00137: val_r2_keras improved from 0.16990 to 0.17554, saving model to best_model.h5\n",
      "Epoch 138/2000\n",
      "5137/5137 [==============================] - 1s 106us/step - loss: 0.0270 - r2_keras: 0.0986 - val_loss: 0.0249 - val_r2_keras: 0.1756\n",
      "\n",
      "Epoch 00138: val_r2_keras improved from 0.17554 to 0.17560, saving model to best_model.h5\n",
      "Epoch 139/2000\n",
      "5137/5137 [==============================] - 1s 104us/step - loss: 0.0274 - r2_keras: 0.0465 - val_loss: 0.0253 - val_r2_keras: 0.1667\n",
      "\n",
      "Epoch 00139: val_r2_keras did not improve from 0.17560\n",
      "Epoch 140/2000\n",
      "5137/5137 [==============================] - 1s 103us/step - loss: 0.0273 - r2_keras: 0.0801 - val_loss: 0.0249 - val_r2_keras: 0.1755\n",
      "\n",
      "Epoch 00140: val_r2_keras did not improve from 0.17560\n",
      "Epoch 141/2000\n",
      "5137/5137 [==============================] - 1s 100us/step - loss: 0.0268 - r2_keras: 0.0835 - val_loss: 0.0248 - val_r2_keras: 0.1797\n",
      "\n",
      "Epoch 00141: val_r2_keras improved from 0.17560 to 0.17972, saving model to best_model.h5\n",
      "Epoch 142/2000\n",
      "5137/5137 [==============================] - 1s 102us/step - loss: 0.0268 - r2_keras: 0.0806 - val_loss: 0.0249 - val_r2_keras: 0.1786\n",
      "\n",
      "Epoch 00142: val_r2_keras did not improve from 0.17972\n",
      "Epoch 143/2000\n",
      "5137/5137 [==============================] - 1s 98us/step - loss: 0.0268 - r2_keras: 0.0532 - val_loss: 0.0253 - val_r2_keras: 0.1678\n",
      "\n",
      "Epoch 00143: val_r2_keras did not improve from 0.17972\n",
      "Epoch 144/2000\n",
      "5137/5137 [==============================] - 1s 104us/step - loss: 0.0271 - r2_keras: 0.0701 - val_loss: 0.0249 - val_r2_keras: 0.1769\n",
      "\n",
      "Epoch 00144: val_r2_keras did not improve from 0.17972\n",
      "Epoch 145/2000\n",
      "5137/5137 [==============================] - 1s 107us/step - loss: 0.0268 - r2_keras: 0.0077 - val_loss: 0.0252 - val_r2_keras: 0.1686\n",
      "\n",
      "Epoch 00145: val_r2_keras did not improve from 0.17972\n",
      "Epoch 146/2000\n"
     ]
    },
    {
     "name": "stdout",
     "output_type": "stream",
     "text": [
      "5137/5137 [==============================] - 1s 103us/step - loss: 0.0273 - r2_keras: 0.0143 - val_loss: 0.0251 - val_r2_keras: 0.1709\n",
      "\n",
      "Epoch 00146: val_r2_keras did not improve from 0.17972\n",
      "Epoch 147/2000\n",
      "5137/5137 [==============================] - 1s 101us/step - loss: 0.0265 - r2_keras: 0.0800 - val_loss: 0.0250 - val_r2_keras: 0.1745\n",
      "\n",
      "Epoch 00147: val_r2_keras did not improve from 0.17972\n",
      "Epoch 148/2000\n",
      "5137/5137 [==============================] - 1s 99us/step - loss: 0.0263 - r2_keras: 0.0829 - val_loss: 0.0252 - val_r2_keras: 0.1669\n",
      "\n",
      "Epoch 00148: val_r2_keras did not improve from 0.17972\n",
      "Epoch 149/2000\n",
      "5137/5137 [==============================] - 1s 101us/step - loss: 0.0268 - r2_keras: 0.0934 - val_loss: 0.0250 - val_r2_keras: 0.1749\n",
      "\n",
      "Epoch 00149: val_r2_keras did not improve from 0.17972\n",
      "Epoch 150/2000\n",
      "5137/5137 [==============================] - 1s 99us/step - loss: 0.0264 - r2_keras: -41320.5820 - val_loss: 0.0255 - val_r2_keras: 0.1627\n",
      "\n",
      "Epoch 00150: val_r2_keras did not improve from 0.17972\n",
      "Epoch 151/2000\n",
      "5137/5137 [==============================] - 1s 103us/step - loss: 0.0268 - r2_keras: -43315.1406 - val_loss: 0.0250 - val_r2_keras: 0.1767\n",
      "\n",
      "Epoch 00151: val_r2_keras did not improve from 0.17972\n",
      "Epoch 00151: early stopping\n"
     ]
    }
   ],
   "source": [
    "start = time.time()\n",
    "\n",
    "X_ch = X\n",
    "\n",
    "X_train, X_test, y_train, y_test = train_test_split(X_ch, Y_con, train_size=0.7,shuffle=True)\n",
    "X_train, X_val, y_train, y_val = train_test_split(X_train, y_train, test_size=0.33, random_state=0, shuffle=True)\n",
    "\n",
    "\n",
    "with tf.device('/cpu:0'):\n",
    "    \n",
    "    es = EarlyStopping(monitor='val_r2_keras', mode='max', verbose=1, patience=20)\n",
    "    mc = ModelCheckpoint('best_model.h5', monitor='val_r2_keras', mode='max', verbose=1, save_best_only=True)\n",
    "    hist = model.fit(X_train, y_train, epochs=2000, batch_size=100, \\\n",
    "                     validation_data=(X_val, y_val), callbacks=[es,mc]) \n",
    "    model = load_model('best_model.h5', custom_objects={'r2_keras': r2_keras})\n",
    "\n",
    "end = time.time()"
   ]
  },
  {
   "cell_type": "code",
   "execution_count": 229,
   "metadata": {},
   "outputs": [
    {
     "name": "stdout",
     "output_type": "stream",
     "text": [
      "Model: \"sequential_25\"\n",
      "_________________________________________________________________\n",
      "Layer (type)                 Output Shape              Param #   \n",
      "=================================================================\n",
      "batch_normalization_135 (Bat (None, 40)                160       \n",
      "_________________________________________________________________\n",
      "dropout_81 (Dropout)         (None, 40)                0         \n",
      "_________________________________________________________________\n",
      "dense_45 (Dense)             (None, 15)                615       \n",
      "_________________________________________________________________\n",
      "batch_normalization_136 (Bat (None, 15)                60        \n",
      "_________________________________________________________________\n",
      "dropout_82 (Dropout)         (None, 15)                0         \n",
      "_________________________________________________________________\n",
      "layer_dense_1 (Dense)        (None, 10)                160       \n",
      "_________________________________________________________________\n",
      "batch_normalization_137 (Bat (None, 10)                40        \n",
      "_________________________________________________________________\n",
      "dropout_83 (Dropout)         (None, 10)                0         \n",
      "_________________________________________________________________\n",
      "layer_dense_2 (Dense)        (None, 10)                110       \n",
      "_________________________________________________________________\n",
      "batch_normalization_138 (Bat (None, 10)                40        \n",
      "_________________________________________________________________\n",
      "dropout_84 (Dropout)         (None, 10)                0         \n",
      "_________________________________________________________________\n",
      "layer_dense_3 (Dense)        (None, 10)                110       \n",
      "_________________________________________________________________\n",
      "batch_normalization_139 (Bat (None, 10)                40        \n",
      "_________________________________________________________________\n",
      "dropout_85 (Dropout)         (None, 10)                0         \n",
      "_________________________________________________________________\n",
      "layer_dense_4 (Dense)        (None, 10)                110       \n",
      "_________________________________________________________________\n",
      "batch_normalization_140 (Bat (None, 10)                40        \n",
      "_________________________________________________________________\n",
      "dropout_86 (Dropout)         (None, 10)                0         \n",
      "_________________________________________________________________\n",
      "layer_dense_5 (Dense)        (None, 10)                110       \n",
      "_________________________________________________________________\n",
      "dropout_87 (Dropout)         (None, 10)                0         \n",
      "_________________________________________________________________\n",
      "batch_normalization_141 (Bat (None, 10)                40        \n",
      "_________________________________________________________________\n",
      "dense_46 (Dense)             (None, 1)                 11        \n",
      "=================================================================\n",
      "Total params: 1,646\n",
      "Trainable params: 1,436\n",
      "Non-trainable params: 210\n",
      "_________________________________________________________________\n"
     ]
    }
   ],
   "source": [
    "model.summary()"
   ]
  },
  {
   "cell_type": "code",
   "execution_count": null,
   "metadata": {},
   "outputs": [],
   "source": []
  },
  {
   "cell_type": "code",
   "execution_count": 231,
   "metadata": {},
   "outputs": [
    {
     "data": {
      "text/plain": [
       "93.48684811592102"
      ]
     },
     "execution_count": 231,
     "metadata": {},
     "output_type": "execute_result"
    }
   ],
   "source": [
    "end - start"
   ]
  },
  {
   "cell_type": "code",
   "execution_count": 232,
   "metadata": {},
   "outputs": [
    {
     "data": {
      "text/plain": [
       "11.685856014490128"
      ]
     },
     "execution_count": 232,
     "metadata": {},
     "output_type": "execute_result"
    }
   ],
   "source": [
    "((end - start)*3*3* 60 *20)/ (3600*24)"
   ]
  },
  {
   "cell_type": "code",
   "execution_count": 233,
   "metadata": {},
   "outputs": [
    {
     "name": "stdout",
     "output_type": "stream",
     "text": [
      "0.20290005767229302\n"
     ]
    }
   ],
   "source": [
    "with tf.device('/cpu:0'):\n",
    "    print(metrics.r2_score(y_train, model.predict(X_train)[:,0]))"
   ]
  },
  {
   "cell_type": "code",
   "execution_count": 234,
   "metadata": {},
   "outputs": [
    {
     "name": "stdout",
     "output_type": "stream",
     "text": [
      "0.19771520360910022\n"
     ]
    }
   ],
   "source": [
    "with tf.device('/cpu:0'):\n",
    "    print(metrics.r2_score(y_test, model.predict(X_test)[:,0]))"
   ]
  },
  {
   "cell_type": "code",
   "execution_count": 235,
   "metadata": {},
   "outputs": [
    {
     "data": {
      "text/plain": [
       "dict_keys(['val_loss', 'val_r2_keras', 'loss', 'r2_keras'])"
      ]
     },
     "execution_count": 235,
     "metadata": {},
     "output_type": "execute_result"
    }
   ],
   "source": [
    "hist.history.keys()"
   ]
  },
  {
   "cell_type": "code",
   "execution_count": 236,
   "metadata": {},
   "outputs": [
    {
     "data": {
      "text/plain": [
       "<matplotlib.legend.Legend at 0x20be4813e88>"
      ]
     },
     "execution_count": 236,
     "metadata": {},
     "output_type": "execute_result"
    },
    {
     "data": {
      "image/png": "[encoded data removed]",
      "text/plain": [
       "<Figure size 432x288 with 1 Axes>"
      ]
     },
     "metadata": {
      "needs_background": "light"
     },
     "output_type": "display_data"
    }
   ],
   "source": [
    "plt.plot(hist.history[\"r2_keras\"], label=\"r2\")\n",
    "plt.plot(hist.history[\"val_r2_keras\"], label=\"val_r2\")\n",
    "plt.ylim(0, 1)\n",
    "plt.legend()"
   ]
  },
  {
   "cell_type": "markdown",
   "metadata": {},
   "source": [
    "### CNN"
   ]
  },
  {
   "cell_type": "code",
   "execution_count": 160,
   "metadata": {},
   "outputs": [],
   "source": [
    "def define_model():\n",
    "    model = Sequential()\n",
    "    model.add(Conv2D(32 , (3,3) , strides = 1 , padding = 'same' , activation = 'relu' , input_shape = (8,5,1)))\n",
    "    model.add(BatchNormalization())\n",
    "    model.add(MaxPool2D((2,2) , strides = 2 , padding = 'same'))\n",
    "    model.add(Conv2D(64 , (3,3) , strides = 1 , padding = 'same' , activation = 'relu'))\n",
    "    model.add(BatchNormalization())\n",
    "    model.add(MaxPool2D((2,2) , strides = 2 , padding = 'same'))\n",
    "    model.add(Conv2D(64 , (3,3) , strides = 1 , padding = 'same' , activation = 'relu'))\n",
    "    model.add(BatchNormalization())\n",
    "    model.add(MaxPool2D((2,2) , strides = 2 , padding = 'same'))\n",
    "    model.add(Conv2D(128 , (3,3) , strides = 1 , padding = 'same' , activation = 'relu'))\n",
    "    model.add(BatchNormalization())\n",
    "    model.add(MaxPool2D((2,2) , strides = 2 , padding = 'same'))\n",
    "    model.add(BatchNormalization())\n",
    "    model.add(Conv2D(256 , (3,3) , strides = 1 , padding = 'same' , activation = 'relu'))\n",
    "    model.add(MaxPool2D((2,2) , strides = 2 , padding = 'same'))\n",
    "    model.add(BatchNormalization())\n",
    "    model.add(Flatten())\n",
    "    model.add(Dense(units = 50 , activation = 'relu'))\n",
    "    model.add(BatchNormalization())\n",
    "    model.add(Dropout(0.2))\n",
    "    model.add(Dense(units = 1 , activation = 'linear'))\n",
    "    adam = Adam()\n",
    "    #sgd = SGD()\n",
    "    model.compile(optimizer=adam, loss='mean_squared_error',\n",
    "             metrics=[r2_keras])\n",
    "    return model"
   ]
  },
  {
   "cell_type": "code",
   "execution_count": 161,
   "metadata": {},
   "outputs": [
    {
     "data": {
      "text/plain": [
       "(10955, 40)"
      ]
     },
     "execution_count": 161,
     "metadata": {},
     "output_type": "execute_result"
    }
   ],
   "source": [
    "X_ch.shape"
   ]
  },
  {
   "cell_type": "code",
   "execution_count": 162,
   "metadata": {},
   "outputs": [],
   "source": [
    "X_ch_ = np.reshape(X_ch, (X_ch.shape[0], 8, 5), \"F\")\n",
    "X_ch_ = X_ch_.reshape(-1, 8, 5, 1)"
   ]
  },
  {
   "cell_type": "code",
   "execution_count": 190,
   "metadata": {
    "scrolled": true
   },
   "outputs": [
    {
     "name": "stdout",
     "output_type": "stream",
     "text": [
      "Train on 5367 samples, validate on 2301 samples\n",
      "Epoch 1/2000\n",
      "5367/5367 [==============================] - 2s 418us/step - loss: 0.7630 - r2_keras: -27.8963 - val_loss: 0.1590 - val_r2_keras: -71111.8203\n",
      "\n",
      "Epoch 00001: val_r2_keras improved from -inf to -71111.82031, saving model to best_model.h5\n",
      "Epoch 2/2000\n",
      "5367/5367 [==============================] - 1s 152us/step - loss: 0.3791 - r2_keras: -13.1630 - val_loss: 0.2259 - val_r2_keras: -107035.3359\n",
      "\n",
      "Epoch 00002: val_r2_keras did not improve from -71111.82031\n",
      "Epoch 3/2000\n",
      "5367/5367 [==============================] - 1s 154us/step - loss: 0.3042 - r2_keras: -10.9781 - val_loss: 0.1508 - val_r2_keras: -76998.3438\n",
      "\n",
      "Epoch 00003: val_r2_keras did not improve from -71111.82031\n",
      "Epoch 4/2000\n",
      "5367/5367 [==============================] - 1s 154us/step - loss: 0.2377 - r2_keras: -8.3800 - val_loss: 0.1181 - val_r2_keras: -71161.7891\n",
      "\n",
      "Epoch 00004: val_r2_keras did not improve from -71111.82031\n",
      "Epoch 5/2000\n",
      "5367/5367 [==============================] - 1s 160us/step - loss: 0.1850 - r2_keras: -7.2658 - val_loss: 0.0834 - val_r2_keras: -35427.1953\n",
      "\n",
      "Epoch 00005: val_r2_keras improved from -71111.82031 to -35427.19531, saving model to best_model.h5\n",
      "Epoch 6/2000\n",
      "5367/5367 [==============================] - 1s 160us/step - loss: 0.1494 - r2_keras: -4.7077 - val_loss: 0.0410 - val_r2_keras: -7628.9688\n",
      "\n",
      "Epoch 00006: val_r2_keras improved from -35427.19531 to -7628.96875, saving model to best_model.h5\n",
      "Epoch 7/2000\n",
      "5367/5367 [==============================] - 1s 158us/step - loss: 0.1217 - r2_keras: -3.8241 - val_loss: 0.0296 - val_r2_keras: -4557.0737\n",
      "\n",
      "Epoch 00007: val_r2_keras improved from -7628.96875 to -4557.07373, saving model to best_model.h5\n",
      "Epoch 8/2000\n",
      "5367/5367 [==============================] - 1s 153us/step - loss: 0.0958 - r2_keras: -5.7681 - val_loss: 0.0254 - val_r2_keras: -142.9206\n",
      "\n",
      "Epoch 00008: val_r2_keras improved from -4557.07373 to -142.92062, saving model to best_model.h5\n",
      "Epoch 9/2000\n",
      "5367/5367 [==============================] - 1s 152us/step - loss: 0.0814 - r2_keras: -2.0368 - val_loss: 0.0251 - val_r2_keras: -1134.2557\n",
      "\n",
      "Epoch 00009: val_r2_keras did not improve from -142.92062\n",
      "Epoch 10/2000\n",
      "5367/5367 [==============================] - 1s 148us/step - loss: 0.0660 - r2_keras: -1.5556 - val_loss: 0.0231 - val_r2_keras: -94.1119\n",
      "\n",
      "Epoch 00010: val_r2_keras improved from -142.92062 to -94.11193, saving model to best_model.h5\n",
      "Epoch 11/2000\n",
      "5367/5367 [==============================] - 1s 150us/step - loss: 0.0549 - r2_keras: -1.3777 - val_loss: 0.0256 - val_r2_keras: -1111.8383\n",
      "\n",
      "Epoch 00011: val_r2_keras did not improve from -94.11193\n",
      "Epoch 12/2000\n",
      "5367/5367 [==============================] - 1s 151us/step - loss: 0.0461 - r2_keras: -1.0538 - val_loss: 0.0230 - val_r2_keras: -159.8474\n",
      "\n",
      "Epoch 00012: val_r2_keras did not improve from -94.11193\n",
      "Epoch 13/2000\n",
      "5367/5367 [==============================] - 1s 151us/step - loss: 0.0389 - r2_keras: -397316.2812 - val_loss: 0.0219 - val_r2_keras: -5.0043\n",
      "\n",
      "Epoch 00013: val_r2_keras improved from -94.11193 to -5.00432, saving model to best_model.h5\n",
      "Epoch 14/2000\n",
      "5367/5367 [==============================] - 1s 151us/step - loss: 0.0336 - r2_keras: -0.3310 - val_loss: 0.0216 - val_r2_keras: -246.9995\n",
      "\n",
      "Epoch 00014: val_r2_keras did not improve from -5.00432\n",
      "Epoch 15/2000\n",
      "5367/5367 [==============================] - 1s 155us/step - loss: 0.0299 - r2_keras: -0.1448 - val_loss: 0.0215 - val_r2_keras: -6.1016\n",
      "\n",
      "Epoch 00015: val_r2_keras did not improve from -5.00432\n",
      "Epoch 16/2000\n",
      "5367/5367 [==============================] - 1s 158us/step - loss: 0.0282 - r2_keras: -0.0020 - val_loss: 0.0226 - val_r2_keras: -54.5453\n",
      "\n",
      "Epoch 00016: val_r2_keras did not improve from -5.00432\n",
      "Epoch 17/2000\n",
      "5367/5367 [==============================] - 1s 153us/step - loss: 0.0253 - r2_keras: 0.0932 - val_loss: 0.0224 - val_r2_keras: -318.0038\n",
      "\n",
      "Epoch 00017: val_r2_keras did not improve from -5.00432\n",
      "Epoch 18/2000\n",
      "5367/5367 [==============================] - 1s 154us/step - loss: 0.0239 - r2_keras: 0.1263 - val_loss: 0.0220 - val_r2_keras: -55.6750\n",
      "\n",
      "Epoch 00018: val_r2_keras did not improve from -5.00432\n",
      "Epoch 19/2000\n",
      "5367/5367 [==============================] - 1s 154us/step - loss: 0.0212 - r2_keras: 0.2453 - val_loss: 0.0216 - val_r2_keras: -32.2343\n",
      "\n",
      "Epoch 00019: val_r2_keras did not improve from -5.00432\n",
      "Epoch 20/2000\n",
      "5367/5367 [==============================] - 1s 156us/step - loss: 0.0203 - r2_keras: -0.1147 - val_loss: 0.0231 - val_r2_keras: -1.3206\n",
      "\n",
      "Epoch 00020: val_r2_keras improved from -5.00432 to -1.32063, saving model to best_model.h5\n",
      "Epoch 21/2000\n",
      "5367/5367 [==============================] - 1s 156us/step - loss: 0.0192 - r2_keras: -267708.4688 - val_loss: 0.0220 - val_r2_keras: -29.6254\n",
      "\n",
      "Epoch 00021: val_r2_keras did not improve from -1.32063\n",
      "Epoch 22/2000\n",
      "5367/5367 [==============================] - 1s 150us/step - loss: 0.0181 - r2_keras: 0.2532 - val_loss: 0.0247 - val_r2_keras: -101.7517\n",
      "\n",
      "Epoch 00022: val_r2_keras did not improve from -1.32063\n",
      "Epoch 23/2000\n",
      "5367/5367 [==============================] - 1s 151us/step - loss: 0.0172 - r2_keras: -0.0932 - val_loss: 0.0230 - val_r2_keras: -112.9288\n",
      "\n",
      "Epoch 00023: val_r2_keras did not improve from -1.32063\n",
      "Epoch 24/2000\n",
      "5367/5367 [==============================] - 1s 149us/step - loss: 0.0169 - r2_keras: -232901.3125 - val_loss: 0.0255 - val_r2_keras: -74.0135\n",
      "\n",
      "Epoch 00024: val_r2_keras did not improve from -1.32063\n",
      "Epoch 25/2000\n",
      "5367/5367 [==============================] - 1s 149us/step - loss: 0.0148 - r2_keras: -0.2324 - val_loss: 0.0239 - val_r2_keras: -105.5611\n",
      "\n",
      "Epoch 00025: val_r2_keras did not improve from -1.32063\n",
      "Epoch 26/2000\n",
      "5367/5367 [==============================] - 1s 149us/step - loss: 0.0150 - r2_keras: 0.3633 - val_loss: 0.0235 - val_r2_keras: -98.2851\n",
      "\n",
      "Epoch 00026: val_r2_keras did not improve from -1.32063\n",
      "Epoch 27/2000\n",
      "5367/5367 [==============================] - 1s 149us/step - loss: 0.0139 - r2_keras: 0.4908 - val_loss: 0.0243 - val_r2_keras: -142.1850\n",
      "\n",
      "Epoch 00027: val_r2_keras did not improve from -1.32063\n",
      "Epoch 28/2000\n",
      "5367/5367 [==============================] - 1s 148us/step - loss: 0.0126 - r2_keras: 0.4770 - val_loss: 0.0257 - val_r2_keras: -266.4358\n",
      "\n",
      "Epoch 00028: val_r2_keras did not improve from -1.32063\n",
      "Epoch 29/2000\n",
      "5367/5367 [==============================] - 1s 149us/step - loss: 0.0129 - r2_keras: 0.3549 - val_loss: 0.0248 - val_r2_keras: -0.5280\n",
      "\n",
      "Epoch 00029: val_r2_keras improved from -1.32063 to -0.52803, saving model to best_model.h5\n",
      "Epoch 30/2000\n",
      "5367/5367 [==============================] - 1s 151us/step - loss: 0.0115 - r2_keras: 0.5082 - val_loss: 0.0330 - val_r2_keras: -14.2763\n",
      "\n",
      "Epoch 00030: val_r2_keras did not improve from -0.52803\n",
      "Epoch 31/2000\n",
      "5367/5367 [==============================] - 1s 151us/step - loss: 0.0111 - r2_keras: 0.5583 - val_loss: 0.0259 - val_r2_keras: -810.5566\n",
      "\n",
      "Epoch 00031: val_r2_keras did not improve from -0.52803\n",
      "Epoch 32/2000\n",
      "5367/5367 [==============================] - 1s 155us/step - loss: 0.0110 - r2_keras: 0.5998 - val_loss: 0.0293 - val_r2_keras: -139.1556\n",
      "\n",
      "Epoch 00032: val_r2_keras did not improve from -0.52803\n",
      "Epoch 33/2000\n",
      "5367/5367 [==============================] - 1s 152us/step - loss: 0.0106 - r2_keras: 0.5650 - val_loss: 0.0264 - val_r2_keras: -8.7425\n",
      "\n",
      "Epoch 00033: val_r2_keras did not improve from -0.52803\n",
      "Epoch 34/2000\n",
      "5367/5367 [==============================] - 1s 153us/step - loss: 0.0098 - r2_keras: 0.6464 - val_loss: 0.0255 - val_r2_keras: -11.7672\n",
      "\n",
      "Epoch 00034: val_r2_keras did not improve from -0.52803\n",
      "Epoch 35/2000\n",
      "5367/5367 [==============================] - 1s 150us/step - loss: 0.0091 - r2_keras: 0.6676 - val_loss: 0.0261 - val_r2_keras: -295.2836\n",
      "\n",
      "Epoch 00035: val_r2_keras did not improve from -0.52803\n",
      "Epoch 36/2000\n",
      "5367/5367 [==============================] - 1s 151us/step - loss: 0.0100 - r2_keras: 0.6214 - val_loss: 0.0269 - val_r2_keras: -28.6226\n",
      "\n",
      "Epoch 00036: val_r2_keras did not improve from -0.52803\n",
      "Epoch 37/2000\n",
      "5367/5367 [==============================] - 1s 153us/step - loss: 0.0093 - r2_keras: 0.6266 - val_loss: 0.0335 - val_r2_keras: -35.1957\n",
      "\n",
      "Epoch 00037: val_r2_keras did not improve from -0.52803\n",
      "Epoch 38/2000\n"
     ]
    },
    {
     "name": "stdout",
     "output_type": "stream",
     "text": [
      "5367/5367 [==============================] - 1s 153us/step - loss: 0.0100 - r2_keras: 0.6326 - val_loss: 0.0255 - val_r2_keras: -3.6341\n",
      "\n",
      "Epoch 00038: val_r2_keras did not improve from -0.52803\n",
      "Epoch 39/2000\n",
      "5367/5367 [==============================] - 1s 154us/step - loss: 0.0088 - r2_keras: 0.5023 - val_loss: 0.0253 - val_r2_keras: -17.4260\n",
      "\n",
      "Epoch 00039: val_r2_keras did not improve from -0.52803\n",
      "Epoch 40/2000\n",
      "5367/5367 [==============================] - 1s 154us/step - loss: 0.0087 - r2_keras: 0.5885 - val_loss: 0.0246 - val_r2_keras: -0.9074\n",
      "\n",
      "Epoch 00040: val_r2_keras did not improve from -0.52803\n",
      "Epoch 41/2000\n",
      "5367/5367 [==============================] - 1s 154us/step - loss: 0.0084 - r2_keras: 0.6411 - val_loss: 0.0266 - val_r2_keras: -118.3214\n",
      "\n",
      "Epoch 00041: val_r2_keras did not improve from -0.52803\n",
      "Epoch 42/2000\n",
      "5367/5367 [==============================] - 1s 152us/step - loss: 0.0080 - r2_keras: 0.6007 - val_loss: 0.0290 - val_r2_keras: -52.2875\n",
      "\n",
      "Epoch 00042: val_r2_keras did not improve from -0.52803\n",
      "Epoch 43/2000\n",
      "5367/5367 [==============================] - 1s 155us/step - loss: 0.0066 - r2_keras: 0.7458 - val_loss: 0.0272 - val_r2_keras: -29.5644\n",
      "\n",
      "Epoch 00043: val_r2_keras did not improve from -0.52803\n",
      "Epoch 44/2000\n",
      "5367/5367 [==============================] - 1s 152us/step - loss: 0.0066 - r2_keras: 0.7662 - val_loss: 0.0258 - val_r2_keras: -440.5541\n",
      "\n",
      "Epoch 00044: val_r2_keras did not improve from -0.52803\n",
      "Epoch 00044: early stopping\n"
     ]
    }
   ],
   "source": [
    "start = time.time()\n",
    "\n",
    "X_train, X_test, y_train, y_test = train_test_split(X_ch_, Y_con, train_size=0.7,shuffle=True)\n",
    "X_train, X_val, y_train, y_val = train_test_split(X_train, y_train, test_size=0.3, random_state=0, shuffle=True)\n",
    "\n",
    "\n",
    "with tf.device('/gpu:0'):\n",
    "    \n",
    "    es = EarlyStopping(monitor='val_r2_keras', mode='max', verbose=1, patience=15)\n",
    "    mc = ModelCheckpoint('best_model.h5', monitor='val_r2_keras', mode='max', verbose=1, save_best_only=True)\n",
    "    \n",
    "    model = define_model()\n",
    "    \n",
    "    hist = model.fit(X_train, y_train, epochs=2000, batch_size=100, \\\n",
    "                     validation_data=(X_val, y_val), callbacks=[es,mc]) \n",
    "    \n",
    "    model = load_model('best_model.h5', custom_objects={'r2_keras': r2_keras})\n",
    "\n",
    "end = time.time()"
   ]
  },
  {
   "cell_type": "code",
   "execution_count": 191,
   "metadata": {},
   "outputs": [
    {
     "name": "stdout",
     "output_type": "stream",
     "text": [
      "0.712884076981936\n"
     ]
    }
   ],
   "source": [
    "with tf.device('/cpu:0'):\n",
    "    print(metrics.r2_score(y_train, model.predict(X_train)[:,0]))"
   ]
  },
  {
   "cell_type": "code",
   "execution_count": 192,
   "metadata": {},
   "outputs": [
    {
     "name": "stdout",
     "output_type": "stream",
     "text": [
      "0.1448763725670008\n"
     ]
    }
   ],
   "source": [
    "with tf.device('/cpu:0'):\n",
    "    print(metrics.r2_score(y_test, model.predict(X_test)[:,0]))"
   ]
  },
  {
   "cell_type": "code",
   "execution_count": 193,
   "metadata": {},
   "outputs": [
    {
     "data": {
      "text/plain": [
       "<matplotlib.legend.Legend at 0x20bd79d0f88>"
      ]
     },
     "execution_count": 193,
     "metadata": {},
     "output_type": "execute_result"
    },
    {
     "data": {
      "image/png": "[encoded data removed]",
      "text/plain": [
       "<Figure size 432x288 with 1 Axes>"
      ]
     },
     "metadata": {
      "needs_background": "light"
     },
     "output_type": "display_data"
    }
   ],
   "source": [
    "plt.plot(hist.history[\"r2_keras\"], label=\"r2\")\n",
    "plt.plot(hist.history[\"val_r2_keras\"], label=\"val_r2\")\n",
    "plt.ylim(0, 1)\n",
    "plt.legend()"
   ]
  },
  {
   "cell_type": "code",
   "execution_count": 196,
   "metadata": {},
   "outputs": [
    {
     "data": {
      "text/plain": [
       "45.00158977508545"
      ]
     },
     "execution_count": 196,
     "metadata": {},
     "output_type": "execute_result"
    }
   ],
   "source": [
    "end-start"
   ]
  },
  {
   "cell_type": "code",
   "execution_count": 197,
   "metadata": {},
   "outputs": [
    {
     "data": {
      "text/plain": [
       "0.9375331203142802"
      ]
     },
     "execution_count": 197,
     "metadata": {},
     "output_type": "execute_result"
    }
   ],
   "source": [
    "((end - start)*3*3* 200)/ (3600*24)"
   ]
  },
  {
   "cell_type": "code",
   "execution_count": 198,
   "metadata": {},
   "outputs": [],
   "source": [
    "model = define_model()"
   ]
  },
  {
   "cell_type": "code",
   "execution_count": 199,
   "metadata": {},
   "outputs": [
    {
     "name": "stdout",
     "output_type": "stream",
     "text": [
      "Model: \"sequential_20\"\n",
      "_________________________________________________________________\n",
      "Layer (type)                 Output Shape              Param #   \n",
      "=================================================================\n",
      "conv2d_56 (Conv2D)           (None, 8, 5, 32)          320       \n",
      "_________________________________________________________________\n",
      "batch_normalization_100 (Bat (None, 8, 5, 32)          128       \n",
      "_________________________________________________________________\n",
      "max_pooling2d_56 (MaxPooling (None, 4, 3, 32)          0         \n",
      "_________________________________________________________________\n",
      "conv2d_57 (Conv2D)           (None, 4, 3, 64)          18496     \n",
      "_________________________________________________________________\n",
      "batch_normalization_101 (Bat (None, 4, 3, 64)          256       \n",
      "_________________________________________________________________\n",
      "max_pooling2d_57 (MaxPooling (None, 2, 2, 64)          0         \n",
      "_________________________________________________________________\n",
      "conv2d_58 (Conv2D)           (None, 2, 2, 64)          36928     \n",
      "_________________________________________________________________\n",
      "batch_normalization_102 (Bat (None, 2, 2, 64)          256       \n",
      "_________________________________________________________________\n",
      "max_pooling2d_58 (MaxPooling (None, 1, 1, 64)          0         \n",
      "_________________________________________________________________\n",
      "conv2d_59 (Conv2D)           (None, 1, 1, 128)         73856     \n",
      "_________________________________________________________________\n",
      "batch_normalization_103 (Bat (None, 1, 1, 128)         512       \n",
      "_________________________________________________________________\n",
      "max_pooling2d_59 (MaxPooling (None, 1, 1, 128)         0         \n",
      "_________________________________________________________________\n",
      "batch_normalization_104 (Bat (None, 1, 1, 128)         512       \n",
      "_________________________________________________________________\n",
      "conv2d_60 (Conv2D)           (None, 1, 1, 256)         295168    \n",
      "_________________________________________________________________\n",
      "max_pooling2d_60 (MaxPooling (None, 1, 1, 256)         0         \n",
      "_________________________________________________________________\n",
      "batch_normalization_105 (Bat (None, 1, 1, 256)         1024      \n",
      "_________________________________________________________________\n",
      "flatten_12 (Flatten)         (None, 256)               0         \n",
      "_________________________________________________________________\n",
      "dense_35 (Dense)             (None, 50)                12850     \n",
      "_________________________________________________________________\n",
      "batch_normalization_106 (Bat (None, 50)                200       \n",
      "_________________________________________________________________\n",
      "dropout_52 (Dropout)         (None, 50)                0         \n",
      "_________________________________________________________________\n",
      "dense_36 (Dense)             (None, 1)                 51        \n",
      "=================================================================\n",
      "Total params: 440,557\n",
      "Trainable params: 439,113\n",
      "Non-trainable params: 1,444\n",
      "_________________________________________________________________\n"
     ]
    }
   ],
   "source": [
    "model.summary()"
   ]
  },
  {
   "cell_type": "code",
   "execution_count": null,
   "metadata": {},
   "outputs": [],
   "source": []
  }
 ],
 "metadata": {
  "kernelspec": {
   "display_name": "Python 3",
   "language": "python",
   "name": "python3"
  },
  "language_info": {
   "codemirror_mode": {
    "name": "ipython",
    "version": 3
   },
   "file_extension": ".py",
   "mimetype": "text/x-python",
   "name": "python",
   "nbconvert_exporter": "python",
   "pygments_lexer": "ipython3",
   "version": "3.7.4"
  }
 },
 "nbformat": 4,
 "nbformat_minor": 2
}
