{
 "cells": [
  {
   "cell_type": "code",
   "execution_count": 29,
   "metadata": {},
   "outputs": [],
   "source": [
    "import numpy as np\n",
    "from matplotlib import pyplot as plt"
   ]
  },
  {
   "cell_type": "code",
   "execution_count": 163,
   "metadata": {},
   "outputs": [],
   "source": [
    "def generator_regression(features, labels, batch_size, epoch_size, rebalance=False, rebalanced_thr=0): \n",
    "    \n",
    "    \"\"\"\n",
    "    \n",
    "    Given the \"features\" array, this function  returns \"batch_size\" epochs of size \"epoch_size\" balanced or unbalanced.\n",
    "    Batches can be equally sampled by two distributions defined by \"rebalanced_thr\" if \"rebalance\" is True. \n",
    "    In the rebalance=True case returned batches are shuffled. Corresponding \"labels\" are returned in the same manner.\n",
    "    \n",
    "    params: \n",
    "    features (np array) : data array in shape (time, num_channels), \n",
    "    labels (np array) : in shape (time),\n",
    "    batch_size (int) : number of samples per epoch, equivallent to keras model.fit batch_size, \n",
    "    epoch_size (int) : time dimension of data vector defined as one training sample\n",
    "                       dependent on the sampling frequency!,\n",
    "    rebalance (boolean) : if True data is sampled evenly from the greater and smaller rebalanced_thr distributions, \n",
    "    rebalanced_thr (float) : defines rebalancing thresholds for two distributions \n",
    "    \n",
    "    returns:\n",
    "    batch_features (np array) : batch array in shape (batch_size, 1, num_channels, epoch_size), \n",
    "    batch_labels (np array) : label array of size batch_size\n",
    "    \n",
    "    The batch_features shape is necessary for tensorflow train\n",
    "    \"\"\"\n",
    "    chans = features.shape[1]\n",
    "    batch_features = np.zeros([batch_size, 1, chans, epoch_size])  # definition of returned arrays\n",
    "    batch_labels = np.zeros([batch_size]) \n",
    "    \n",
    "    # the True statement is neccessary due to the \"endless\" model.fit iterations\n",
    "    # it is hence terminated by the number of epoch being specified \n",
    "    \n",
    "    while True:\n",
    "        for idx_label in np.arange(epoch_size, features.shape[0]-batch_size, batch_size): \n",
    "            for i in range(batch_size):\n",
    "\n",
    "                for ch in range(chans):\n",
    "                    batch_features[i,0,ch,:] = features[(idx_label+i-epoch_size):i+idx_label,ch]\n",
    "                batch_labels[i] = labels[idx_label+i]\n",
    "                \n",
    "            if rebalance == True:    \n",
    "                \n",
    "                # resample balancing: \n",
    "                # the indices of respective above and below threshold values are concatenated \"num_pos\" times\n",
    "                # respectively the distribution with less samples is repeated \n",
    "                # thus random sampling is avoided, but data samples are only concatenated \n",
    "                \n",
    "                dat_ = (batch_features, batch_labels)\n",
    "                ind_below = np.where(batch_labels<=rebalanced_thr)[0]\n",
    "                ind_above = np.where(batch_labels>rebalanced_thr)[0]\n",
    "                \n",
    "                # unformly sample from both distributions\n",
    "                ind_sample_below = np.random.randint(0, ind_below.shape[0], size=int(batch_size/2))\n",
    "                ind_sample_above = np.random.randint(0, ind_above.shape[0], size=int(batch_size/2))                \n",
    "                \n",
    "                batch_features_ = np.concatenate((batch_features[ind_below[ind_sample_below],:,:,:], \\\n",
    "                                batch_features[ind_above[ind_sample_above],:,:,:]), axis=0)\n",
    "                batch_labels_ = np.concatenate((batch_labels[ind_below[ind_sample_below]], \\\n",
    "                                batch_labels[ind_above[ind_sample_above]]), axis=0)\n",
    "                yield batch_features_, batch_labels_, [None]\n",
    "            else:\n",
    "                yield batch_features, batch_labels, [None]\n",
    "                "
   ]
  },
  {
   "cell_type": "code",
   "execution_count": 168,
   "metadata": {},
   "outputs": [],
   "source": [
    "epoch_size = 128 # dependent on fs, here fs=1kHz: epoch_size = 128 ms \n",
    "batch_size = 200 # return data of size epoch_size * batch_size \n",
    "\n",
    "# outer loop: run through features with steps: batch_size\n",
    "# inner loop: run through the batch_size segment "
   ]
  },
  {
   "cell_type": "code",
   "execution_count": 169,
   "metadata": {},
   "outputs": [],
   "source": [
    "features = np.random.random([5000,6])\n",
    "labels = np.abs(np.random.laplace(size=5000))"
   ]
  },
  {
   "cell_type": "code",
   "execution_count": 170,
   "metadata": {},
   "outputs": [
    {
     "data": {
      "image/png": "[encoded data removed]",
      "text/plain": [
       "<Figure size 432x288 with 1 Axes>"
      ]
     },
     "metadata": {
      "needs_background": "light"
     },
     "output_type": "display_data"
    }
   ],
   "source": [
    "# THOSE ARE the laplacian generated labels\n",
    "plt.hist(labels, bins=20)\n",
    "plt.show()"
   ]
  },
  {
   "cell_type": "code",
   "execution_count": 182,
   "metadata": {},
   "outputs": [],
   "source": [
    "# defing a generator will now give us labels with two distributions of equal sizes\n",
    "# Above and below the treshold "
   ]
  },
  {
   "cell_type": "code",
   "execution_count": 171,
   "metadata": {},
   "outputs": [],
   "source": [
    "gen = generator_regression(features, labels, batch_size, epoch_size, rebalance=True, rebalanced_thr=4)"
   ]
  },
  {
   "cell_type": "code",
   "execution_count": 172,
   "metadata": {},
   "outputs": [],
   "source": [
    "batch_feature, batch_label, _ = next(gen)"
   ]
  },
  {
   "cell_type": "code",
   "execution_count": 181,
   "metadata": {},
   "outputs": [
    {
     "data": {
      "text/plain": [
       "(200, 1, 6, 128)"
      ]
     },
     "execution_count": 181,
     "metadata": {},
     "output_type": "execute_result"
    }
   ],
   "source": [
    "batch_feature.shape"
   ]
  },
  {
   "cell_type": "code",
   "execution_count": 177,
   "metadata": {},
   "outputs": [
    {
     "data": {
      "image/png": "[encoded data removed]",
      "text/plain": [
       "<Figure size 432x288 with 1 Axes>"
      ]
     },
     "metadata": {
      "needs_background": "light"
     },
     "output_type": "display_data"
    }
   ],
   "source": [
    "plt.hist(batch_label, bins=20)\n",
    "plt.show()"
   ]
  },
  {
   "cell_type": "code",
   "execution_count": null,
   "metadata": {},
   "outputs": [],
   "source": [
    "# adding now a threshold at 0.5 will yield different sampled labels"
   ]
  },
  {
   "cell_type": "code",
   "execution_count": 178,
   "metadata": {},
   "outputs": [],
   "source": [
    "gen = generator_regression(features, labels, batch_size, epoch_size, rebalance=True, rebalanced_thr=0.5)"
   ]
  },
  {
   "cell_type": "code",
   "execution_count": 179,
   "metadata": {},
   "outputs": [],
   "source": [
    "batch_feature, batch_label, _ = next(gen)"
   ]
  },
  {
   "cell_type": "code",
   "execution_count": 180,
   "metadata": {},
   "outputs": [
    {
     "data": {
      "image/png": "[encoded data removed]",
      "text/plain": [
       "<Figure size 432x288 with 1 Axes>"
      ]
     },
     "metadata": {
      "needs_background": "light"
     },
     "output_type": "display_data"
    }
   ],
   "source": [
    "plt.hist(batch_label, bins=20)\n",
    "plt.show()"
   ]
  },
  {
   "cell_type": "code",
   "execution_count": null,
   "metadata": {},
   "outputs": [],
   "source": [
    "# now don't resample, this will yield the origininal distribution"
   ]
  },
  {
   "cell_type": "code",
   "execution_count": 183,
   "metadata": {},
   "outputs": [],
   "source": [
    "gen = generator_regression(features, labels, batch_size, epoch_size, rebalance=False)"
   ]
  },
  {
   "cell_type": "code",
   "execution_count": 184,
   "metadata": {},
   "outputs": [],
   "source": [
    "batch_feature, batch_label, _ = next(gen)"
   ]
  },
  {
   "cell_type": "code",
   "execution_count": 185,
   "metadata": {},
   "outputs": [
    {
     "data": {
      "image/png": "[encoded data removed]",
      "text/plain": [
       "<Figure size 432x288 with 1 Axes>"
      ]
     },
     "metadata": {
      "needs_background": "light"
     },
     "output_type": "display_data"
    }
   ],
   "source": [
    "plt.hist(batch_label, bins=20)\n",
    "plt.show()"
   ]
  },
  {
   "cell_type": "code",
   "execution_count": null,
   "metadata": {},
   "outputs": [],
   "source": []
  }
 ],
 "metadata": {
  "kernelspec": {
   "display_name": "Python 3",
   "language": "python",
   "name": "python3"
  },
  "language_info": {
   "codemirror_mode": {
    "name": "ipython",
    "version": 3
   },
   "file_extension": ".py",
   "mimetype": "text/x-python",
   "name": "python",
   "nbconvert_exporter": "python",
   "pygments_lexer": "ipython3",
   "version": "3.7.4"
  }
 },
 "nbformat": 4,
 "nbformat_minor": 2
}
