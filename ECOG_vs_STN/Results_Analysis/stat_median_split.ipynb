{
 "cells": [
  {
   "cell_type": "code",
   "execution_count": 1,
   "metadata": {},
   "outputs": [],
   "source": [
    "import numpy as np\n",
    "import json\n",
    "import os\n",
    "import pandas as pd\n",
    "from matplotlib import pyplot as plt\n",
    "import sys\n",
    "from scipy import stats, io\n",
    "import statsmodels.api as sm\n",
    "import statsmodels.formula.api as smf\n",
    "import seaborn as sns\n",
    "from sklearn import metrics\n",
    "\n",
    "\n",
    "BIDS_path= \"C:\\\\Users\\\\ICN_admin\\\\Dropbox (Brain Modulation Lab)\\\\Shared Lab Folders\\\\CRCNS\\\\MOVEMENT DATA\\\\\"\n",
    "subjects = ['000', '001', '004', '005', '006', '007', '008', '009', '010', '013', '014']\n"
   ]
  },
  {
   "cell_type": "code",
   "execution_count": 2,
   "metadata": {},
   "outputs": [],
   "source": [
    "df_all = pd.read_csv(\"df_all.csv\", index_col=0)\n",
    "df_best_ECOG_CON = pd.read_csv(\"df_ECOG_CON.csv\", index_col=0)\n",
    "df_best_ECOG_IPS = pd.read_csv(\"df_ECOG_IPS.csv\", index_col=0)\n",
    "df_best_STN_CON = pd.read_csv(\"df_STN_CON.csv\", index_col=0)\n",
    "df_best_STN_IPS = pd.read_csv(\"df_STN_IPS.csv\", index_col=0)"
   ]
  },
  {
   "cell_type": "markdown",
   "metadata": {},
   "source": [
    "### UPDRS total"
   ]
  },
  {
   "cell_type": "code",
   "execution_count": 3,
   "metadata": {},
   "outputs": [
    {
     "data": {
      "text/plain": [
       "array([ 0,  1,  4,  5,  6,  7,  8,  9, 10, 13, 14], dtype=int64)"
      ]
     },
     "execution_count": 3,
     "metadata": {},
     "output_type": "execute_result"
    }
   ],
   "source": [
    "np.unique(df_all[\"sub\"])"
   ]
  },
  {
   "cell_type": "code",
   "execution_count": 4,
   "metadata": {},
   "outputs": [],
   "source": [
    "# hypothesis here: Mean Con and mean ips correlated negatively with UPDRS_tot\n",
    "r2_ECOG = []\n",
    "r2_STN = []\n",
    "UPDRS_tot = []\n",
    "for sub in np.unique(df_all[\"sub\"]):\n",
    "    r2_ECOG.append(np.mean([df_all[(df_all[\"sub\"] == sub)&(df_all[\"loc\"]==\"ECOG\")][\"r2_con\"].mean(),\n",
    "             df_all[(df_all[\"sub\"] == sub)&(df_all[\"loc\"]==\"ECOG\")][\"r2_ips\"].mean()]))\n",
    "    r2_STN.append(np.mean([df_all[(df_all[\"sub\"] == sub)&(df_all[\"loc\"]==\"STN\")][\"r2_con\"].mean(),\n",
    "             df_all[(df_all[\"sub\"] == sub)&(df_all[\"loc\"]==\"STN\")][\"r2_ips\"].mean()]))\n",
    "    UPDRS_tot.append(df_all[(df_all[\"sub\"] == sub)&(df_all[\"loc\"]==\"ECOG\")][\"UPDRS_total\"].mean())\n"
   ]
  },
  {
   "cell_type": "code",
   "execution_count": 5,
   "metadata": {},
   "outputs": [
    {
     "data": {
      "text/plain": [
       "[0.4789592468333333,\n",
       " 0.1821612881428571,\n",
       " 0.13281589924999998,\n",
       " 0.07366119990625,\n",
       " 0.09594195614062499,\n",
       " 0.008926757833333333,\n",
       " 0.09323032149999999,\n",
       " 0.014857093166666668,\n",
       " 0.036876952125,\n",
       " 0.03345566975,\n",
       " 0.027939104833333332]"
      ]
     },
     "execution_count": 5,
     "metadata": {},
     "output_type": "execute_result"
    }
   ],
   "source": [
    "r2_ECOG"
   ]
  },
  {
   "cell_type": "code",
   "execution_count": 6,
   "metadata": {},
   "outputs": [
    {
     "data": {
      "text/plain": [
       "Ttest_indResult(statistic=1.5884476631352276, pvalue=0.15084783642718363)"
      ]
     },
     "execution_count": 6,
     "metadata": {},
     "output_type": "execute_result"
    }
   ],
   "source": [
    "stats.ttest_ind(np.arctanh(r2_ECOG)[np.argsort(UPDRS_tot)][:5],\n",
    "np.arctanh(r2_ECOG)[np.argsort(UPDRS_tot)][6:])"
   ]
  },
  {
   "cell_type": "code",
   "execution_count": 7,
   "metadata": {},
   "outputs": [
    {
     "data": {
      "text/plain": [
       "Ttest_indResult(statistic=1.288353256499087, pvalue=0.23363281379288026)"
      ]
     },
     "execution_count": 7,
     "metadata": {},
     "output_type": "execute_result"
    }
   ],
   "source": [
    "stats.ttest_ind(np.arctanh(r2_STN)[np.argsort(UPDRS_tot)][:5],\n",
    "np.arctanh(r2_STN)[np.argsort(UPDRS_tot)][6:])"
   ]
  },
  {
   "cell_type": "code",
   "execution_count": 8,
   "metadata": {},
   "outputs": [
    {
     "data": {
      "text/plain": [
       "RanksumsResult(statistic=1.775592090748118, pvalue=0.07580017458236125)"
      ]
     },
     "execution_count": 8,
     "metadata": {},
     "output_type": "execute_result"
    }
   ],
   "source": [
    "stats.ranksums(np.arctanh(r2_ECOG)[np.argsort(UPDRS_tot)][:5],\n",
    "np.arctanh(r2_ECOG)[np.argsort(UPDRS_tot)][6:])"
   ]
  },
  {
   "cell_type": "code",
   "execution_count": 9,
   "metadata": {},
   "outputs": [
    {
     "data": {
      "text/plain": [
       "RanksumsResult(statistic=1.8800386843215366, pvalue=0.06010280593886631)"
      ]
     },
     "execution_count": 9,
     "metadata": {},
     "output_type": "execute_result"
    }
   ],
   "source": [
    "stats.ranksums(np.arctanh(r2_STN)[np.argsort(UPDRS_tot)][:5],\n",
    "np.arctanh(r2_STN)[np.argsort(UPDRS_tot)][6:])"
   ]
  },
  {
   "cell_type": "code",
   "execution_count": 88,
   "metadata": {},
   "outputs": [
    {
     "data": {
      "image/png": "[encoded data removed]",
      "text/plain": [
       "<Figure size 432x288 with 2 Axes>"
      ]
     },
     "metadata": {
      "needs_background": "light"
     },
     "output_type": "display_data"
    }
   ],
   "source": [
    "plt.subplot(121)\n",
    "plt.boxplot([np.arctanh(r2_ECOG)[np.argsort(UPDRS_tot)][:5],\n",
    "    np.arctanh(r2_ECOG)[np.argsort(UPDRS_tot)][6:]], showmeans=True)\n",
    "plt.title(\"ECOG MEAN t(4)=1.57, P=0.15\")\n",
    "plt.ylabel(\"Fisher transformed \"+r\"$R^2$\")\n",
    "plt.xlabel(\"Median Groups\")\n",
    "plt.subplot(122)\n",
    "plt.boxplot([np.arctanh(r2_STN)[np.argsort(UPDRS_tot)][:5],\n",
    "    np.arctanh(r2_STN)[np.argsort(UPDRS_tot)][6:]], showmeans=True)\n",
    "plt.title(\"STN MEAN t(4)=1.28, P=0.233\")\n",
    "plt.ylabel(\"Fisher transformed \"+r\"$R^2$\")\n",
    "plt.xlabel(\"Median Groups\")\n",
    "plt.tight_layout()\n",
    "plt.show()"
   ]
  },
  {
   "cell_type": "markdown",
   "metadata": {},
   "source": [
    "### Mean Split Best"
   ]
  },
  {
   "cell_type": "code",
   "execution_count": 11,
   "metadata": {},
   "outputs": [],
   "source": [
    "# hypothesis here: Mean Con and mean ips correlated negatively with UPDRS_tot\n",
    "r2_ECOG_MAX = []\n",
    "r2_STN_MAX = []\n",
    "UPDRS_tot = []\n",
    "for sub in np.unique(df_all[\"sub\"]):\n",
    "    r2_ECOG_MAX.append(np.mean([df_all[(df_all[\"sub\"] == sub)&(df_all[\"loc\"]==\"ECOG\")][\"r2_con\"].max(),\n",
    "             df_all[(df_all[\"sub\"] == sub)&(df_all[\"loc\"]==\"ECOG\")][\"r2_ips\"].max()]))\n",
    "    r2_STN_MAX.append(np.mean([df_all[(df_all[\"sub\"] == sub)&(df_all[\"loc\"]==\"STN\")][\"r2_con\"].max(),\n",
    "             df_all[(df_all[\"sub\"] == sub)&(df_all[\"loc\"]==\"STN\")][\"r2_ips\"].max()]))\n",
    "    UPDRS_tot.append(df_all[(df_all[\"sub\"] == sub)&(df_all[\"loc\"]==\"ECOG\")][\"UPDRS_total\"].mean())\n"
   ]
  },
  {
   "cell_type": "code",
   "execution_count": 12,
   "metadata": {},
   "outputs": [
    {
     "data": {
      "text/plain": [
       "Ttest_indResult(statistic=2.0537965749497427, pvalue=0.07407021257737328)"
      ]
     },
     "execution_count": 12,
     "metadata": {},
     "output_type": "execute_result"
    }
   ],
   "source": [
    "stats.ttest_ind(np.arctanh(r2_ECOG_MAX)[np.argsort(UPDRS_tot)][:5],\n",
    "np.arctanh(r2_ECOG_MAX)[np.argsort(UPDRS_tot)][6:])"
   ]
  },
  {
   "cell_type": "code",
   "execution_count": 13,
   "metadata": {},
   "outputs": [
    {
     "data": {
      "text/plain": [
       "Ttest_indResult(statistic=1.7789784667833495, pvalue=0.11312663147042247)"
      ]
     },
     "execution_count": 13,
     "metadata": {},
     "output_type": "execute_result"
    }
   ],
   "source": [
    "stats.ttest_ind(np.arctanh(r2_STN_MAX)[np.argsort(UPDRS_tot)][:5],\n",
    "np.arctanh(r2_STN_MAX)[np.argsort(UPDRS_tot)][6:])"
   ]
  },
  {
   "cell_type": "code",
   "execution_count": 14,
   "metadata": {},
   "outputs": [
    {
     "data": {
      "text/plain": [
       "RanksumsResult(statistic=1.9844852778949553, pvalue=0.04720176769014221)"
      ]
     },
     "execution_count": 14,
     "metadata": {},
     "output_type": "execute_result"
    }
   ],
   "source": [
    "stats.ranksums(np.arctanh(r2_ECOG_MAX)[np.argsort(UPDRS_tot)][:5],\n",
    "np.arctanh(r2_ECOG_MAX)[np.argsort(UPDRS_tot)][6:])"
   ]
  },
  {
   "cell_type": "code",
   "execution_count": 15,
   "metadata": {},
   "outputs": [
    {
     "data": {
      "text/plain": [
       "RanksumsResult(statistic=1.8800386843215366, pvalue=0.06010280593886631)"
      ]
     },
     "execution_count": 15,
     "metadata": {},
     "output_type": "execute_result"
    }
   ],
   "source": [
    "stats.ranksums(np.arctanh(r2_STN_MAX)[np.argsort(UPDRS_tot)][:5],\n",
    "np.arctanh(r2_STN_MAX)[np.argsort(UPDRS_tot)][6:])"
   ]
  },
  {
   "cell_type": "code",
   "execution_count": null,
   "metadata": {},
   "outputs": [],
   "source": []
  },
  {
   "cell_type": "code",
   "execution_count": 16,
   "metadata": {},
   "outputs": [
    {
     "data": {
      "image/png": "[encoded data removed]",
      "text/plain": [
       "<Figure size 432x288 with 2 Axes>"
      ]
     },
     "metadata": {
      "needs_background": "light"
     },
     "output_type": "display_data"
    }
   ],
   "source": [
    "plt.subplot(121)\n",
    "plt.boxplot([np.arctanh(r2_ECOG_MAX)[np.argsort(UPDRS_tot)][:5],\n",
    "    np.arctanh(r2_ECOG_MAX)[np.argsort(UPDRS_tot)][6:]], showmeans=True)\n",
    "plt.title(\"ECOG MAX t(4)=2.05, P=0.07\")\n",
    "plt.ylabel(\"Fisher transformed \"+r\"$R^2$\")\n",
    "plt.xlabel(\"Median Groups\")\n",
    "plt.subplot(122)\n",
    "plt.boxplot([np.arctanh(r2_STN_MAX)[np.argsort(UPDRS_tot)][:5],\n",
    "    np.arctanh(r2_STN_MAX)[np.argsort(UPDRS_tot)][6:]], showmeans=True)\n",
    "plt.title(\"STN MAX t(4)=1.77, P=0.11\")\n",
    "plt.ylabel(\"Fisher transformed \"+r\"$R^2$\")\n",
    "plt.xlabel(\"Median Groups\")\n",
    "plt.tight_layout()\n",
    "plt.show()"
   ]
  },
  {
   "cell_type": "markdown",
   "metadata": {},
   "source": [
    "### Mean of ECOG and STN UPDRS analysis"
   ]
  },
  {
   "cell_type": "code",
   "execution_count": 52,
   "metadata": {},
   "outputs": [],
   "source": [
    "# hypothesis here: Mean Con and mean ips correlated negatively with UPDRS_tot\n",
    "r2_ECOG = []\n",
    "r2_STN = []\n",
    "UPDRS_tot = []\n",
    "for sub in np.unique(df_all[\"sub\"]):\n",
    "    r2_ECOG.append(np.mean([df_all[(df_all[\"sub\"] == sub)][\"r2_con\"].mean(),\n",
    "             df_all[(df_all[\"sub\"] == sub)][\"r2_ips\"].mean()]))\n",
    "    r2_STN.append(np.mean([df_all[(df_all[\"sub\"] == sub)&(df_all[\"loc\"]==\"STN\")][\"r2_con\"].mean(),\n",
    "             df_all[(df_all[\"sub\"] == sub)&(df_all[\"loc\"]==\"STN\")][\"r2_ips\"].mean()]))\n",
    "    UPDRS_tot.append(df_all[(df_all[\"sub\"] == sub)&(df_all[\"loc\"]==\"ECOG\")][\"UPDRS_total\"].mean())\n"
   ]
  },
  {
   "cell_type": "code",
   "execution_count": 62,
   "metadata": {},
   "outputs": [],
   "source": [
    "df_ = pd.DataFrame()\n",
    "df_[\"r2_ECOG\"] = r2_ECOG#np.arctanh(r2_ECOG)\n",
    "df_[\"r2_STN\"] = np.arctanh(r2_STN)\n",
    "df_[\"UPDRS_tot\"] = UPDRS_tot"
   ]
  },
  {
   "cell_type": "code",
   "execution_count": 63,
   "metadata": {},
   "outputs": [
    {
     "name": "stdout",
     "output_type": "stream",
     "text": [
      "SpearmanrResult(correlation=-0.5512542775696283, pvalue=0.07878928423361271)\n",
      "                            OLS Regression Results                            \n",
      "==============================================================================\n",
      "Dep. Variable:                r2_ECOG   R-squared:                       0.278\n",
      "Model:                            OLS   Adj. R-squared:                  0.198\n",
      "Method:                 Least Squares   F-statistic:                     3.463\n",
      "Date:                Sat, 03 Oct 2020   Prob (F-statistic):             0.0957\n",
      "Time:                        15:54:13   Log-Likelihood:                 8.7784\n",
      "No. Observations:                  11   AIC:                            -13.56\n",
      "Df Residuals:                       9   BIC:                            -12.76\n",
      "Df Model:                           1                                         \n",
      "Covariance Type:            nonrobust                                         \n",
      "==============================================================================\n",
      "                 coef    std err          t      P>|t|      [0.025      0.975]\n",
      "------------------------------------------------------------------------------\n",
      "Intercept      0.3361      0.128      2.621      0.028       0.046       0.626\n",
      "UPDRS_tot     -0.0056      0.003     -1.861      0.096      -0.012       0.001\n",
      "==============================================================================\n",
      "Omnibus:                       14.261   Durbin-Watson:                   1.107\n",
      "Prob(Omnibus):                  0.001   Jarque-Bera (JB):                8.034\n",
      "Skew:                           1.679   Prob(JB):                       0.0180\n",
      "Kurtosis:                       5.500   Cond. No.                         150.\n",
      "==============================================================================\n",
      "\n",
      "Warnings:\n",
      "[1] Standard Errors assume that the covariance matrix of the errors is correctly specified.\n"
     ]
    }
   ],
   "source": [
    "model = smf.ols(\"r2_ECOG~UPDRS_tot\", data=df_)\n",
    "results = model.fit()\n",
    "print(stats.spearmanr(np.arctanh(r2_ECOG), df_[\"UPDRS_tot\"]))\n",
    "print(results.summary())"
   ]
  },
  {
   "cell_type": "code",
   "execution_count": 58,
   "metadata": {},
   "outputs": [
    {
     "data": {
      "text/plain": [
       "0     0.426929\n",
       "1     0.166800\n",
       "2     0.111111\n",
       "3     0.067124\n",
       "4     0.088087\n",
       "5     0.006462\n",
       "6     0.062154\n",
       "7     0.009905\n",
       "8     0.024722\n",
       "9     0.022304\n",
       "10    0.018626\n",
       "Name: r2_ECOG, dtype: float64"
      ]
     },
     "execution_count": 58,
     "metadata": {},
     "output_type": "execute_result"
    }
   ],
   "source": [
    "df_[\"r2_ECOG\"]"
   ]
  },
  {
   "cell_type": "code",
   "execution_count": 42,
   "metadata": {},
   "outputs": [
    {
     "data": {
      "text/plain": [
       "<matplotlib.collections.PathCollection at 0x209af3c7fc8>"
      ]
     },
     "execution_count": 42,
     "metadata": {},
     "output_type": "execute_result"
    },
    {
     "data": {
      "image/png": "[encoded data removed]",
      "text/plain": [
       "<Figure size 432x288 with 1 Axes>"
      ]
     },
     "metadata": {
      "needs_background": "light"
     },
     "output_type": "display_data"
    }
   ],
   "source": [
    "plt.scatter(df_[\"UPDRS_tot\"], df_[\"r2_ECOG\"])"
   ]
  }
 ],
 "metadata": {
  "kernelspec": {
   "display_name": "Python 3",
   "language": "python",
   "name": "python3"
  },
  "language_info": {
   "codemirror_mode": {
    "name": "ipython",
    "version": 3
   },
   "file_extension": ".py",
   "mimetype": "text/x-python",
   "name": "python",
   "nbconvert_exporter": "python",
   "pygments_lexer": "ipython3",
   "version": "3.7.4"
  }
 },
 "nbformat": 4,
 "nbformat_minor": 2
}
