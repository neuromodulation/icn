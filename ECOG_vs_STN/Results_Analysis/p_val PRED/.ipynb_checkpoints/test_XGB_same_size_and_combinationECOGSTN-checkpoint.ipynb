{
 "cells": [
  {
   "cell_type": "code",
   "execution_count": 1,
   "metadata": {},
   "outputs": [],
   "source": [
    "PATH_ = \"C:\\\\Users\\\\ICN_admin\\\\Dropbox (Brain Modulation Lab)\\\\Shared Lab Folders\\\\CRCNS\\\\MOVEMENT DATA\\\\derivatives\\\\Int_old_grid\\\\\""
   ]
  },
  {
   "cell_type": "code",
   "execution_count": 2,
   "metadata": {},
   "outputs": [],
   "source": [
    "import xgboost as xgb\n",
    "from xgboost import XGBRegressor\n",
    "from sklearn import linear_model, metrics\n",
    "from sklearn.model_selection import cross_val_score\n",
    "import os \n",
    "from matplotlib import pyplot as plt\n",
    "import pickle\n",
    "import seaborn as sb\n",
    "import pandas as pd\n",
    "import numpy as np\n",
    "from scipy import stats\n",
    "import sys\n",
    "sys.path.append('C:\\\\Users\\\\ICN_admin\\\\Documents\\\\icn\\\\icn_stats\\\\')\n",
    "import icn_permutation_test"
   ]
  },
  {
   "cell_type": "code",
   "execution_count": 3,
   "metadata": {},
   "outputs": [],
   "source": [
    "def append_time_dim(arr, y_, time_stamps):\n",
    "    \"\"\"\n",
    "    apply added time dimension for the data array and label given time_stamps (with downsample_rate=100) in 100ms / need to check with 1375Hz\n",
    "    \"\"\"\n",
    "    time_arr = np.zeros([arr.shape[0]-time_stamps, int(time_stamps*arr.shape[1])])\n",
    "    for time_idx, time_ in enumerate(np.arange(time_stamps, arr.shape[0])):\n",
    "        for time_point in range(time_stamps):\n",
    "            time_arr[time_idx, time_point*arr.shape[1]:(time_point+1)*arr.shape[1]] = arr[time_-time_point,:]\n",
    "    return time_arr, y_[time_stamps:]"
   ]
  },
  {
   "cell_type": "code",
   "execution_count": 4,
   "metadata": {},
   "outputs": [],
   "source": [
    "def evalerror(preds, dtrain):\n",
    "        \"\"\"\n",
    "        Custom defined r^2 evaluation function\n",
    "        \"\"\"\n",
    "        labels = dtrain.get_label()\n",
    "        # return a pair metric_name, result. The metric name must not contain a\n",
    "        # colon (:) or a space since preds are margin(before logistic\n",
    "        # transformation, cutoff at 0)\n",
    "\n",
    "        r2 = metrics.r2_score(labels, preds)\n",
    "\n",
    "        if r2 < 0:\n",
    "            r2 = 0\n",
    "\n",
    "        return 'r2', r2"
   ]
  },
  {
   "cell_type": "code",
   "execution_count": null,
   "metadata": {},
   "outputs": [],
   "source": [
    "### \n",
    "1. run"
   ]
  },
  {
   "cell_type": "code",
   "execution_count": 7,
   "metadata": {
    "scrolled": true
   },
   "outputs": [
    {
     "name": "stdout",
     "output_type": "stream",
     "text": [
      "000\n",
      "['ECOG_RIGHT_0', 'ECOG_RIGHT_1', 'ECOG_RIGHT_2', 'ECOG_RIGHT_3', 'ECOG_RIGHT_4', 'ECOG_RIGHT_5', 'MOV_RIGHT', 'MOV_LEFT']\n",
      "000\n",
      "['ECOG_RIGHT_0', 'ECOG_RIGHT_1', 'ECOG_RIGHT_2', 'ECOG_RIGHT_3', 'ECOG_RIGHT_4', 'ECOG_RIGHT_5', 'MOV_RIGHT', 'MOV_LEFT']\n",
      "000\n",
      "['ECOG_RIGHT_0', 'ECOG_RIGHT_1', 'ECOG_RIGHT_2', 'ECOG_RIGHT_3', 'ECOG_RIGHT_4', 'ECOG_RIGHT_5', 'MOV_RIGHT', 'MOV_LEFT']\n",
      "000\n",
      "['STN_RIGHT_0', 'STN_RIGHT_1', 'STN_RIGHT_2', 'ECOG_RIGHT_0', 'ECOG_RIGHT_1', 'ECOG_RIGHT_2', 'ECOG_RIGHT_3', 'ECOG_RIGHT_4', 'ECOG_RIGHT_5', 'MOV_RIGHT', 'MOV_LEFT']\n",
      "PROCESS\n",
      "RES JEREKOÜF\n"
     ]
    },
    {
     "ename": "KeyboardInterrupt",
     "evalue": "",
     "output_type": "error",
     "traceback": [
      "\u001b[1;31m---------------------------------------------------------------------------\u001b[0m",
      "\u001b[1;31mKeyboardInterrupt\u001b[0m                         Traceback (most recent call last)",
      "\u001b[1;32m<ipython-input-7-28c334b5c43b>\u001b[0m in \u001b[0;36m<module>\u001b[1;34m\u001b[0m\n\u001b[0;32m     37\u001b[0m             \u001b[1;32mfor\u001b[0m \u001b[0mlabel_idx\u001b[0m\u001b[1;33m,\u001b[0m \u001b[0mlabel\u001b[0m \u001b[1;32min\u001b[0m \u001b[0menumerate\u001b[0m\u001b[1;33m(\u001b[0m\u001b[0mrun_\u001b[0m\u001b[1;33m[\u001b[0m\u001b[1;34m\"label_baseline_corrected\"\u001b[0m\u001b[1;33m]\u001b[0m\u001b[1;33m)\u001b[0m\u001b[1;33m:\u001b[0m\u001b[1;33m\u001b[0m\u001b[1;33m\u001b[0m\u001b[0m\n\u001b[0;32m     38\u001b[0m                 res_ = xgb.cv(xgb.XGBRegressor().get_params(), dtrain=xgb.DMatrix(X_, label=label[time_stamps:]), \n\u001b[1;32m---> 39\u001b[1;33m                               feval=evalerror, nfold=3).iloc[-1][\"test-r2-mean\"]\n\u001b[0m\u001b[0;32m     40\u001b[0m \u001b[1;33m\u001b[0m\u001b[0m\n\u001b[0;32m     41\u001b[0m                 \u001b[1;32mif\u001b[0m \u001b[0mres_\u001b[0m \u001b[1;33m<\u001b[0m \u001b[1;36m0\u001b[0m\u001b[1;33m:\u001b[0m\u001b[1;33m\u001b[0m\u001b[1;33m\u001b[0m\u001b[0m\n",
      "\u001b[1;32m~\\Anaconda3\\lib\\site-packages\\xgboost\\training.py\u001b[0m in \u001b[0;36mcv\u001b[1;34m(params, dtrain, num_boost_round, nfold, stratified, folds, metrics, obj, feval, maximize, early_stopping_rounds, fpreproc, as_pandas, verbose_eval, show_stdv, seed, callbacks, shuffle)\u001b[0m\n\u001b[0;32m    461\u001b[0m     \u001b[0mresults\u001b[0m \u001b[1;33m=\u001b[0m \u001b[1;33m{\u001b[0m\u001b[1;33m}\u001b[0m\u001b[1;33m\u001b[0m\u001b[1;33m\u001b[0m\u001b[0m\n\u001b[0;32m    462\u001b[0m     cvfolds = mknfold(dtrain, nfold, params, seed, metrics, fpreproc,\n\u001b[1;32m--> 463\u001b[1;33m                       stratified, folds, shuffle)\n\u001b[0m\u001b[0;32m    464\u001b[0m \u001b[1;33m\u001b[0m\u001b[0m\n\u001b[0;32m    465\u001b[0m     \u001b[1;31m# setup callbacks\u001b[0m\u001b[1;33m\u001b[0m\u001b[1;33m\u001b[0m\u001b[1;33m\u001b[0m\u001b[0m\n",
      "\u001b[1;32m~\\Anaconda3\\lib\\site-packages\\xgboost\\training.py\u001b[0m in \u001b[0;36mmknfold\u001b[1;34m(dall, nfold, param, seed, evals, fpreproc, stratified, folds, shuffle)\u001b[0m\n\u001b[0;32m    321\u001b[0m         \u001b[1;31m# perform the slicing using the indexes determined by the above methods\u001b[0m\u001b[1;33m\u001b[0m\u001b[1;33m\u001b[0m\u001b[1;33m\u001b[0m\u001b[0m\n\u001b[0;32m    322\u001b[0m         \u001b[0mdtrain\u001b[0m \u001b[1;33m=\u001b[0m \u001b[0mdall\u001b[0m\u001b[1;33m.\u001b[0m\u001b[0mslice\u001b[0m\u001b[1;33m(\u001b[0m\u001b[0min_idset\u001b[0m\u001b[1;33m[\u001b[0m\u001b[0mk\u001b[0m\u001b[1;33m]\u001b[0m\u001b[1;33m)\u001b[0m\u001b[1;33m\u001b[0m\u001b[1;33m\u001b[0m\u001b[0m\n\u001b[1;32m--> 323\u001b[1;33m         \u001b[0mdtest\u001b[0m \u001b[1;33m=\u001b[0m \u001b[0mdall\u001b[0m\u001b[1;33m.\u001b[0m\u001b[0mslice\u001b[0m\u001b[1;33m(\u001b[0m\u001b[0mout_idset\u001b[0m\u001b[1;33m[\u001b[0m\u001b[0mk\u001b[0m\u001b[1;33m]\u001b[0m\u001b[1;33m)\u001b[0m\u001b[1;33m\u001b[0m\u001b[1;33m\u001b[0m\u001b[0m\n\u001b[0m\u001b[0;32m    324\u001b[0m         \u001b[1;31m# run preprocessing on the data set if needed\u001b[0m\u001b[1;33m\u001b[0m\u001b[1;33m\u001b[0m\u001b[1;33m\u001b[0m\u001b[0m\n\u001b[0;32m    325\u001b[0m         \u001b[1;32mif\u001b[0m \u001b[0mfpreproc\u001b[0m \u001b[1;32mis\u001b[0m \u001b[1;32mnot\u001b[0m \u001b[1;32mNone\u001b[0m\u001b[1;33m:\u001b[0m\u001b[1;33m\u001b[0m\u001b[1;33m\u001b[0m\u001b[0m\n",
      "\u001b[1;32m~\\Anaconda3\\lib\\site-packages\\xgboost\\core.py\u001b[0m in \u001b[0;36mslice\u001b[1;34m(self, rindex, allow_groups)\u001b[0m\n\u001b[0;32m    902\u001b[0m                                                  \u001b[0mc_bst_ulong\u001b[0m\u001b[1;33m(\u001b[0m\u001b[0mlen\u001b[0m\u001b[1;33m(\u001b[0m\u001b[0mrindex\u001b[0m\u001b[1;33m)\u001b[0m\u001b[1;33m)\u001b[0m\u001b[1;33m,\u001b[0m\u001b[1;33m\u001b[0m\u001b[1;33m\u001b[0m\u001b[0m\n\u001b[0;32m    903\u001b[0m                                                  \u001b[0mctypes\u001b[0m\u001b[1;33m.\u001b[0m\u001b[0mbyref\u001b[0m\u001b[1;33m(\u001b[0m\u001b[0mres\u001b[0m\u001b[1;33m.\u001b[0m\u001b[0mhandle\u001b[0m\u001b[1;33m)\u001b[0m\u001b[1;33m,\u001b[0m\u001b[1;33m\u001b[0m\u001b[1;33m\u001b[0m\u001b[0m\n\u001b[1;32m--> 904\u001b[1;33m                                                  ctypes.c_int(1 if allow_groups else 0)))\n\u001b[0m\u001b[0;32m    905\u001b[0m         \u001b[1;32mreturn\u001b[0m \u001b[0mres\u001b[0m\u001b[1;33m\u001b[0m\u001b[1;33m\u001b[0m\u001b[0m\n\u001b[0;32m    906\u001b[0m \u001b[1;33m\u001b[0m\u001b[0m\n",
      "\u001b[1;31mKeyboardInterrupt\u001b[0m: "
     ]
    }
   ],
   "source": [
    "# COMBINATION ECOG, STN and both\n",
    "model = linear_model.LinearRegression()\n",
    "df = pd.DataFrame()\n",
    "time_stamps = 5\n",
    "\n",
    "for ch_USED in [\"ECOG_STN\", \"ECOG\", \"STN\"]:\n",
    "    for f in range(len(os.listdir(PATH_))):\n",
    "        sub_ = os.listdir(PATH_)[f][4:7]\n",
    "        if sub_ not in ['000', '001', '004', '005', '006', '007', '008', '009', '010', '013', '014']:\n",
    "            continue\n",
    "        print(sub_)\n",
    "        with open(PATH_+ '\\\\'+ os.listdir(PATH_)[f], 'rb') as handle:\n",
    "            run_ = pickle.load(handle)\n",
    "            print(run_[\"ch_names\"])\n",
    "            if len([ch for ch in run_[\"ch_names\"] if \"STN\" in ch]) == 0:\n",
    "                continue\n",
    "            print(\"PROCESS\")\n",
    "            X_ = []\n",
    "            start = True\n",
    "            for ch_idx, ch_ in enumerate([ch for ch in run_[\"ch_names\"] if \"MOV\" not in ch]):\n",
    "                if ch_USED == \"ECOG\" and \"ECOG\" not in ch_:\n",
    "                    continue\n",
    "                if ch_USED == \"STN\" and \"STN\" not in ch_:\n",
    "                    continue\n",
    "                #ECOG_STN combines all \n",
    "                \n",
    "                X, y = append_time_dim(run_[\"rf_data_median\"][:,ch_idx,:], \\\n",
    "                                       run_[\"label_baseline_corrected\"][0,:], \\\n",
    "                                       time_stamps=time_stamps)\n",
    "                if start == True:\n",
    "                    X_ = X\n",
    "                    start = False\n",
    "                else:\n",
    "                    X_ = np.concatenate((X_, X), axis=1)\n",
    "            \n",
    "            print(\"RES JEREKOÜF\")\n",
    "            for label_idx, label in enumerate(run_[\"label_baseline_corrected\"]):\n",
    "                res_ = xgb.cv(xgb.XGBRegressor().get_params(), dtrain=xgb.DMatrix(X_, label=label[time_stamps:]), \n",
    "                              feval=evalerror, nfold=3).iloc[-1][\"test-r2-mean\"]\n",
    "                \n",
    "                if res_ < 0:\n",
    "                    res_ = 0\n",
    "                if run_[\"label_con_true\"][label_idx] is True:\n",
    "                    lat = \"CON\"\n",
    "                else:\n",
    "                    lat = \"IPS\"\n",
    "                df = df.append({\n",
    "                    \"r2\": res_,\n",
    "                    \"ch_\": ch_,\n",
    "                    \"sub\": sub_,\n",
    "                    \"loc\": ch_USED,\n",
    "                    \"lat\": lat\n",
    "                }, ignore_index=True)\n"
   ]
  },
  {
   "cell_type": "code",
   "execution_count": null,
   "metadata": {},
   "outputs": [],
   "source": []
  },
  {
   "cell_type": "code",
   "execution_count": null,
   "metadata": {},
   "outputs": [],
   "source": []
  },
  {
   "cell_type": "code",
   "execution_count": null,
   "metadata": {},
   "outputs": [],
   "source": []
  }
 ],
 "metadata": {
  "kernelspec": {
   "display_name": "Python 3",
   "language": "python",
   "name": "python3"
  },
  "language_info": {
   "codemirror_mode": {
    "name": "ipython",
    "version": 3
   },
   "file_extension": ".py",
   "mimetype": "text/x-python",
   "name": "python",
   "nbconvert_exporter": "python",
   "pygments_lexer": "ipython3",
   "version": "3.7.4"
  }
 },
 "nbformat": 4,
 "nbformat_minor": 2
}
