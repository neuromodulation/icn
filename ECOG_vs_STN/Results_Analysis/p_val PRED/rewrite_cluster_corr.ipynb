{
 "cells": [
  {
   "cell_type": "code",
   "execution_count": 1,
   "metadata": {},
   "outputs": [],
   "source": [
    "import numpy as np\n",
    "from matplotlib import pyplot as plt\n",
    "from statsmodels import stats\n",
    "from statsmodels.stats.multitest import fdrcorrection\n",
    "import pandas as pd\n",
    "from skimage import measure"
   ]
  },
  {
   "cell_type": "code",
   "execution_count": 3,
   "metadata": {},
   "outputs": [],
   "source": [
    "def cluster_wise_p_val_correction(p_arr, p_sig=0.05, num_permutations=100):\n",
    "    \n",
    "    labels, num_clusters = measure.label(p_arr<p_sig, return_num=True)\n",
    "    \n",
    "    # loop through clusters of p_val series or image\n",
    "    index_cluster = {}\n",
    "    p_cluster_sum = np.zeros(num_clusters)\n",
    "    for cluster_i in range(num_clusters):\n",
    "        index_cluster[cluster_i] = np.where(labels == cluster_i+1)[0] # first cluster is assigned to be 1 from measure.label\n",
    "        p_cluster_sum[cluster_i] = np.sum(np.array(1-p_arr)[index_cluster[cluster_i]])\n",
    "    p_min = np.max(p_cluster_sum) # p_min corresponds to the most unlikely cluster\n",
    "    p_min_index = index_cluster[np.argmax(p_cluster_sum)]\n",
    "\n",
    "    # loop through random permutation cycles\n",
    "    r_per_arr = np.zeros(num_permutations)\n",
    "    for r in range(num_permutations):\n",
    "        r_per = np.random.randint(low=0, high=p_arr.shape[0], size=p_arr.shape[0])\n",
    "\n",
    "        labels, num_clusters = measure.label(p_arr[r_per]<p_sig, return_num=True)\n",
    "\n",
    "        index_cluster = {}\n",
    "        p_cluster_sum = np.zeros(num_clusters)\n",
    "        for cluster_i in range(num_clusters):\n",
    "            index_cluster[cluster_i] = np.where(labels == cluster_i+1)[0] # first cluster is assigned to be 1 from measure.label\n",
    "            p_cluster_sum[cluster_i] = np.sum(np.array(1-p_arr[r_per])[index_cluster[cluster_i]])\n",
    "        r_per_arr[r] = np.max(p_cluster_sum) # corresponds to the most unlikely cluster\n",
    "        \n",
    "        sorted_r =  np.sort(r_per_arr)\n",
    "        \n",
    "    def find_arg_nearest(array, value):\n",
    "        array = np.asarray(array)\n",
    "        idx = (np.abs(array - value)).argmin()\n",
    "        return idx\n",
    "    \n",
    "    p = 1 - find_arg_nearest(sorted_r, p_min) / num_permutations\n",
    "    \n",
    "    return p, p_min_index"
   ]
  },
  {
   "cell_type": "code",
   "execution_count": 5,
   "metadata": {},
   "outputs": [
    {
     "data": {
      "text/plain": [
       "(0.0010000000000000009,\n",
       " array([29, 30, 31, 32, 33, 34, 35, 36, 37], dtype=int64))"
      ]
     },
     "execution_count": 5,
     "metadata": {},
     "output_type": "execute_result"
    }
   ],
   "source": [
    "df_corrected = pd.read_csv(\"corrected_p_val_rho_ECOGSTN.csv\")\n",
    "\n",
    "cluster_wise_p_val_correction(df_corrected[\"p_ECOG\"], p_sig=0.05, num_permutations=1000)"
   ]
  },
  {
   "cell_type": "code",
   "execution_count": null,
   "metadata": {},
   "outputs": [],
   "source": []
  },
  {
   "cell_type": "code",
   "execution_count": null,
   "metadata": {},
   "outputs": [],
   "source": []
  },
  {
   "cell_type": "code",
   "execution_count": 2,
   "metadata": {},
   "outputs": [],
   "source": [
    "df_corrected = pd.read_csv(\"corrected_p_val_rho_ECOGSTN.csv\")"
   ]
  },
  {
   "cell_type": "code",
   "execution_count": 5,
   "metadata": {},
   "outputs": [
    {
     "data": {
      "text/plain": [
       "[<matplotlib.lines.Line2D at 0x22a900e1508>]"
      ]
     },
     "execution_count": 5,
     "metadata": {},
     "output_type": "execute_result"
    },
    {
     "data": {
      "image/png": "[encoded data removed]",
      "text/plain": [
       "<Figure size 432x288 with 1 Axes>"
      ]
     },
     "metadata": {
      "needs_background": "light"
     },
     "output_type": "display_data"
    }
   ],
   "source": [
    "plt.plot(df_corrected[\"p_ECOG\"])"
   ]
  },
  {
   "cell_type": "code",
   "execution_count": 24,
   "metadata": {},
   "outputs": [],
   "source": [
    "p_sig = 0.05\n",
    "p_arr = df_corrected[\"p_ECOG\"]\n",
    "\n"
   ]
  },
  {
   "cell_type": "code",
   "execution_count": 53,
   "metadata": {},
   "outputs": [],
   "source": []
  },
  {
   "cell_type": "code",
   "execution_count": 41,
   "metadata": {},
   "outputs": [
    {
     "data": {
      "text/plain": [
       "8.853"
      ]
     },
     "execution_count": 41,
     "metadata": {},
     "output_type": "execute_result"
    }
   ],
   "source": [
    "p_min"
   ]
  },
  {
   "cell_type": "code",
   "execution_count": 57,
   "metadata": {},
   "outputs": [
    {
     "data": {
      "text/plain": [
       "array([23, 26, 20,  2, 22,  7, 57,  2, 13, 28, 46,  7,  1, 33, 20, 11, 21,\n",
       "       58, 33, 53, 38, 36, 19, 17, 52, 47, 37, 54, 33, 58,  5,  1, 37, 26,\n",
       "       12, 24, 44, 41, 21, 45, 29, 59, 48, 33, 31, 19, 11,  8, 39, 40, 59,\n",
       "       34, 33, 22, 56, 51, 20,  7, 34,  7])"
      ]
     },
     "execution_count": 57,
     "metadata": {},
     "output_type": "execute_result"
    }
   ],
   "source": [
    "r_per"
   ]
  },
  {
   "cell_type": "code",
   "execution_count": 58,
   "metadata": {},
   "outputs": [],
   "source": [
    "num_per = 10000\n",
    "r_per_arr = np.zeros(num_per)\n",
    "\n",
    "for r in range(num_per):\n",
    "    r_per = np.random.randint(low=0, high=p_arr.shape[0], size=p_arr.shape[0])\n",
    "\n",
    "    labels, num_clusters = measure.label(p_arr[r_per]<p_sig, return_num=True)\n",
    "\n",
    "    index_cluster = {}\n",
    "    p_cluster_sum = np.zeros(num_clusters)\n",
    "    for cluster_i in range(num_clusters):\n",
    "        index_cluster[cluster_i] = np.where(labels == cluster_i+1)[0] # first cluster is assigned to be 1 from measure.label\n",
    "        p_cluster_sum[cluster_i] = np.sum(np.array(1-p_arr[r_per])[index_cluster[cluster_i]])\n",
    "    r_per_arr[r] = np.max(p_cluster_sum) # corresponds to the most unlikely cluster"
   ]
  },
  {
   "cell_type": "code",
   "execution_count": 59,
   "metadata": {},
   "outputs": [],
   "source": [
    "sorted_r =  np.sort(r_per_arr)"
   ]
  },
  {
   "cell_type": "code",
   "execution_count": 60,
   "metadata": {},
   "outputs": [
    {
     "data": {
      "text/plain": [
       "array([0.9599, 0.9699, 0.9699, ..., 6.9111, 6.916 , 7.868 ])"
      ]
     },
     "execution_count": 60,
     "metadata": {},
     "output_type": "execute_result"
    }
   ],
   "source": [
    "sorted_r"
   ]
  },
  {
   "cell_type": "code",
   "execution_count": 69,
   "metadata": {},
   "outputs": [],
   "source": [
    "def find_arg_nearest(array, value):\n",
    "    array = np.asarray(array)\n",
    "    idx = (np.abs(array - value)).argmin()\n",
    "    return idx"
   ]
  },
  {
   "cell_type": "code",
   "execution_count": 70,
   "metadata": {},
   "outputs": [],
   "source": [
    "p = 1 - find_arg_nearest(sorted_r, p_min) / num_per"
   ]
  },
  {
   "cell_type": "code",
   "execution_count": 71,
   "metadata": {},
   "outputs": [
    {
     "data": {
      "text/plain": [
       "9.999999999998899e-05"
      ]
     },
     "execution_count": 71,
     "metadata": {},
     "output_type": "execute_result"
    }
   ],
   "source": [
    "p"
   ]
  },
  {
   "cell_type": "code",
   "execution_count": null,
   "metadata": {},
   "outputs": [],
   "source": []
  }
 ],
 "metadata": {
  "kernelspec": {
   "display_name": "Python 3",
   "language": "python",
   "name": "python3"
  },
  "language_info": {
   "codemirror_mode": {
    "name": "ipython",
    "version": 3
   },
   "file_extension": ".py",
   "mimetype": "text/x-python",
   "name": "python",
   "nbconvert_exporter": "python",
   "pygments_lexer": "ipython3",
   "version": "3.7.4"
  }
 },
 "nbformat": 4,
 "nbformat_minor": 2
}
