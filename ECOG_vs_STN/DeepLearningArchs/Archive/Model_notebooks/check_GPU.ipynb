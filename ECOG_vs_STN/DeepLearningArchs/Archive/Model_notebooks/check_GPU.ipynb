{
 "cells": [
  {
   "cell_type": "code",
   "execution_count": 1,
   "metadata": {},
   "outputs": [],
   "source": [
    "import numpy"
   ]
  },
  {
   "cell_type": "code",
   "execution_count": 2,
   "metadata": {
    "scrolled": true
   },
   "outputs": [],
   "source": [
    "import tensorflow as tf"
   ]
  },
  {
   "cell_type": "code",
   "execution_count": 3,
   "metadata": {},
   "outputs": [],
   "source": [
    "import keras"
   ]
  },
  {
   "cell_type": "code",
   "execution_count": 4,
   "metadata": {},
   "outputs": [
    {
     "data": {
      "text/plain": [
       "'2.3.1'"
      ]
     },
     "execution_count": 4,
     "metadata": {},
     "output_type": "execute_result"
    }
   ],
   "source": [
    "tf.__version__"
   ]
  },
  {
   "cell_type": "code",
   "execution_count": 6,
   "metadata": {},
   "outputs": [
    {
     "data": {
      "text/plain": [
       "[PhysicalDevice(name='/physical_device:GPU:0', device_type='GPU')]"
      ]
     },
     "execution_count": 6,
     "metadata": {},
     "output_type": "execute_result"
    }
   ],
   "source": [
    "tf.config.list_physical_devices('GPU')"
   ]
  },
  {
   "cell_type": "code",
   "execution_count": 7,
   "metadata": {},
   "outputs": [
    {
     "data": {
      "text/plain": [
       "'/device:GPU:0'"
      ]
     },
     "execution_count": 7,
     "metadata": {},
     "output_type": "execute_result"
    }
   ],
   "source": [
    "tf.test.gpu_device_name()"
   ]
  },
  {
   "cell_type": "code",
   "execution_count": 8,
   "metadata": {},
   "outputs": [
    {
     "data": {
      "text/plain": [
       "[PhysicalDevice(name='/physical_device:CPU:0', device_type='CPU'),\n",
       " PhysicalDevice(name='/physical_device:XLA_CPU:0', device_type='XLA_CPU'),\n",
       " PhysicalDevice(name='/physical_device:GPU:0', device_type='GPU'),\n",
       " PhysicalDevice(name='/physical_device:XLA_GPU:0', device_type='XLA_GPU')]"
      ]
     },
     "execution_count": 8,
     "metadata": {},
     "output_type": "execute_result"
    }
   ],
   "source": [
    "tf.config.list_physical_devices()"
   ]
  },
  {
   "cell_type": "code",
   "execution_count": 13,
   "metadata": {},
   "outputs": [
    {
     "data": {
      "text/plain": [
       "[PhysicalDevice(name='/physical_device:XLA_GPU:0', device_type='XLA_GPU')]"
      ]
     },
     "execution_count": 13,
     "metadata": {},
     "output_type": "execute_result"
    }
   ],
   "source": [
    "tf.config.list_physical_devices('XLA_GPU')"
   ]
  },
  {
   "cell_type": "code",
   "execution_count": 11,
   "metadata": {},
   "outputs": [
    {
     "data": {
      "text/plain": [
       "True"
      ]
     },
     "execution_count": 11,
     "metadata": {},
     "output_type": "execute_result"
    }
   ],
   "source": [
    "tf.test.is_gpu_available()"
   ]
  },
  {
   "cell_type": "markdown",
   "metadata": {},
   "source": [
    "### demo of using 1. GPU and 2. balancing generator"
   ]
  },
  {
   "cell_type": "code",
   "execution_count": 10,
   "metadata": {},
   "outputs": [],
   "source": [
    "def generator(features, labels, batch_size, chans, samples, keep_order=False):\n",
    "\n",
    "    # Create empty arrays to contain batch of features and labels#\n",
    "    batch_features = np.zeros([batch_size, 1, chans, samples])\n",
    "    batch_labels = np.zeros([batch_size])\n",
    "\n",
    "    while True:\n",
    "        for idx_label in np.arange(1000, features.shape[0]-batch_size, batch_size):\n",
    "            for i in range(batch_size):\n",
    "\n",
    "                for ch in range(chans):\n",
    "                    batch_features[i,0,ch,:] = features[(idx_label+i-samples):i+idx_label,ch]\n",
    "                batch_labels[i] = labels[idx_label+i]\n",
    "\n",
    "            if keep_order == False:\n",
    "                dat_ = (batch_features, batch_labels)\n",
    "                if np.where(dat_[1] > 0.05)[0].shape[0] == 0:\n",
    "                    continue\n",
    "                num_pos = int(dat_[1].shape[0] / np.where(dat_[1] > 0.05)[0].shape[0])\n",
    "                ind_label = np.concatenate([np.where(dat_[1]>0.05)[0] for i in range(num_pos)])\n",
    "                ind_no_label = np.where(dat_[1]<0.05)[0][:dat_[1].shape[0]-ind_label.shape[0]] # 0 line is not exactly zero\n",
    "                np.random.shuffle(ind_label)\n",
    "                np.random.shuffle(ind_no_label)\n",
    "\n",
    "                batch_labels_ = np.concatenate((dat_[1][ind_no_label], dat_[1][ind_label]), axis=0)\n",
    "                batch_features_ = np.concatenate((dat_[0][ind_no_label,:,:,:], dat_[0][ind_label,:,:,:]), axis=0)\n",
    "\n",
    "                yield batch_features_, batch_labels_, [None]\n",
    "            else:\n",
    "                yield batch_features, batch_labels, [None]\n"
   ]
  },
  {
   "cell_type": "code",
   "execution_count": null,
   "metadata": {},
   "outputs": [],
   "source": [
    "gen_tr = generator(X_train, y_train, batch_size, chans, samples)\n",
    "gen_val = generator(X_val, y_val, batch_size, chans, samples)"
   ]
  },
  {
   "cell_type": "code",
   "execution_count": null,
   "metadata": {},
   "outputs": [],
   "source": []
  },
  {
   "cell_type": "code",
   "execution_count": null,
   "metadata": {},
   "outputs": [],
   "source": []
  },
  {
   "cell_type": "code",
   "execution_count": null,
   "metadata": {},
   "outputs": [],
   "source": []
  }
 ],
 "metadata": {
  "kernelspec": {
   "display_name": "Python 3",
   "language": "python",
   "name": "python3"
  },
  "language_info": {
   "codemirror_mode": {
    "name": "ipython",
    "version": 3
   },
   "file_extension": ".py",
   "mimetype": "text/x-python",
   "name": "python",
   "nbconvert_exporter": "python",
   "pygments_lexer": "ipython3",
   "version": "3.7.9"
  }
 },
 "nbformat": 4,
 "nbformat_minor": 2
}
