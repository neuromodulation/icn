{
 "cells": [
  {
   "cell_type": "code",
   "execution_count": 1,
   "metadata": {},
   "outputs": [],
   "source": [
    "import os\n",
    "import numpy as np \n",
    "import pandas as pd\n",
    "from scipy import stats, signal, io\n",
    "import mne\n",
    "from mne import create_info, EpochsArray\n",
    "from mne.time_frequency import tfr_morlet\n",
    "from bids import BIDSLayout\n",
    "import mne_bids\n",
    "import scipy\n",
    "#import settings\n",
    "import json\n",
    "#from coordinates_io import BIDS_coord\n",
    "from sklearn import linear_model, metrics\n",
    "import multiprocessing\n",
    "from sklearn.model_selection import cross_val_score\n",
    "from sklearn import ensemble, model_selection\n",
    "from matplotlib import pyplot as plt\n",
    "import matplotlib "
   ]
  },
  {
   "cell_type": "code",
   "execution_count": 2,
   "metadata": {},
   "outputs": [],
   "source": [
    "BIDS_path = 'C:\\\\Users\\\\ICN_admin\\\\Documents\\\\BIDS\\\\'\n",
    "subject_id = ['000', '001', '004', '005', '006', '007', '008', '009', '010', '013', '014']\n",
    "out_path = 'C:\\\\Users\\\\ICN_admin\\\\Documents\\\\Ubuntu_SAVE\\\\Documents\\\\raw_out\\\\LM_100ms\\\\'"
   ]
  },
  {
   "cell_type": "code",
   "execution_count": 3,
   "metadata": {},
   "outputs": [],
   "source": [
    "def get_movement_idx(ch, mov_channels, Con=True):\n",
    "    \"\"\"returns index of mov_channels given boolean Con and ch\n",
    "    \n",
    "    Arguments:\n",
    "        ch {string} -- given channel string\n",
    "        mov_channels {list} -- string list of used movement channels including LEFT or RIGHT\n",
    "    \n",
    "    Keyword Arguments:\n",
    "        Con {bool} -- laterality (default: {True})\n",
    "    \n",
    "    Returns:\n",
    "        int -- index of mov_channel of the lateral channel\n",
    "    \"\"\"\n",
    "    mov_idx = 0\n",
    "    if len(mov_channels) > 1:    \n",
    "        if Con is True:\n",
    "            if (\"RIGHT\" in ch and \"LEFT\" in mov_channels[0]) or \\\n",
    "                (\"LEFT\" in ch and \"RIGHT\" in mov_channels[0]):\n",
    "                mov_idx = 0\n",
    "            if (\"RIGHT\" in ch and \"LEFT\" in mov_channels[1]) or \\\n",
    "                (\"LEFT\" in ch and \"RIGHT\" in mov_channels[1]):\n",
    "                mov_idx = 1\n",
    "        else:\n",
    "            if (\"RIGHT\" in ch and \"RIGHT\" in mov_channels[0]) or \\\n",
    "                (\"LEFT\" in ch and \"LEFT\" in mov_channels[0]):\n",
    "                mov_idx = 0\n",
    "            if (\"RIGHT\" in ch and \"RIGHT\" in mov_channels[1]) or \\\n",
    "                (\"LEFT\" in ch and \"LEFT\" in mov_channels[1]):\n",
    "                mov_idx = 1\n",
    "    return mov_idx\n"
   ]
  },
  {
   "cell_type": "code",
   "execution_count": 4,
   "metadata": {},
   "outputs": [],
   "source": [
    "# fs is 10 Hz; estimate the mean +-1 s around the movements\n",
    "def calc_epochs_f_bands(dat_filtered, y_tr, threshold, epoch_lim):\n",
    "     \n",
    "    ind_mov = np.where(np.diff(np.array(y_tr>threshold)*1) == 1)[0]\n",
    "    low_limit = ind_mov>epoch_lim\n",
    "    up_limit = ind_mov < y_tr.shape[0]-epoch_lim\n",
    "    ind_mov = ind_mov[low_limit & up_limit]\n",
    "    filtered_epoch = np.zeros([ind_mov.shape[0], int(epoch_lim*2), dat_filtered.shape[0]])\n",
    "    y_arr = np.zeros([ind_mov.shape[0],int(epoch_lim*2)])\n",
    "    #print(ind_mov)\n",
    "    for idx, i in enumerate(ind_mov):\n",
    "        filtered_epoch[idx,:,:] = dat_filtered[:,i-epoch_lim:i+epoch_lim].T\n",
    "        y_arr[idx,:] = y_tr[i-epoch_lim:i+epoch_lim]\n",
    "\n",
    "    return filtered_epoch, y_arr"
   ]
  },
  {
   "cell_type": "code",
   "execution_count": 5,
   "metadata": {},
   "outputs": [],
   "source": [
    "def get_dat(Con = True, ECOG_=True):\n",
    "    dat_filtered = []\n",
    "    for subject_id_ in subject_id:\n",
    "        with open(out_path+'sub_'+subject_id_+'_patient_concat.json', 'r') as fp:\n",
    "            dict_ch = json.load(fp)\n",
    "\n",
    "        for ch in list(dict_ch.keys()):\n",
    "            if (ECOG_ is True and 'ECOG' in ch) or (ECOG_ is False and 'STN' in ch):\n",
    "                dat_ = np.array(dict_ch[ch]['data'])\n",
    "                mov_dat = np.array(dict_ch[ch]['true_movements'][get_movement_idx(ch, dict_ch[ch]['mov_ch'], Con=Con)])\n",
    "                X_epoch, y_epoch = calc_epochs_f_bands(dat_, mov_dat, threshold=0, epoch_lim=20)\n",
    "                dat_filtered.append(np.mean(X_epoch, axis=0))\n",
    "    return np.array(dat_filtered)\n"
   ]
  },
  {
   "cell_type": "code",
   "execution_count": 6,
   "metadata": {},
   "outputs": [],
   "source": [
    "ECOG_CON_mean_tf = get_dat(True, True)\n",
    "ECOG_IPS_mean_tf = get_dat(False, True)\n",
    "STN_CON_mean_tf = get_dat(True, False)\n",
    "STN_IPS_mean_tf = get_dat(False, False)"
   ]
  },
  {
   "cell_type": "code",
   "execution_count": null,
   "metadata": {},
   "outputs": [],
   "source": [
    "title = ['ECOG con.', 'ECOG ips.', \\\n",
    "        'STN con.', 'STN ips.']\n",
    "plt.figure(figsize=(6,6), dpi=300)\n",
    "for idx, dat_ in enumerate([np.mean(ECOG_CON_mean_tf, axis=0), \\\n",
    "        np.mean(ECOG_IPS_mean_tf, axis=0), np.mean(STN_CON_mean_tf,\\\n",
    "        axis=0), np.mean(STN_IPS_mean_tf, axis=0)]):\n",
    "    plt.subplot(2,2,idx+1)\n",
    "    im = plt.imshow(dat_.T, aspect='auto', extent=[-2,2,8,0])#, cmap='hot')\n",
    "    \n",
    "    #plt.yticks(np.arange(0,8,1), [r'$\\theta$', r'$\\alpha$', r'$l\\beta$', r'$h\\beta$', \\\n",
    "    #                         r'$a\\beta$', r'$l\\gamma$', r'$h\\gamma$', r'$a\\gamma$'])\n",
    "    plt.gca().invert_yaxis()\n",
    "    ax = plt.gca();\n",
    "    #ax.set_xticks(np.arange(0, 10, 1));\n",
    "    ax.set_yticks(np.arange(0.5, 8.5, 1));\n",
    "    ax.set_yticklabels([r'$\\theta$', r'$\\alpha$', r'$l\\beta$', r'$h\\beta$', \\\n",
    "                             r'$a\\beta$', r'$l\\gamma$', r'$HFA$', r'$a\\gamma$']);\n",
    "\n",
    "    plt.clim(0.5,1.2)\n",
    "    #cbar = plt.colorbar()\n",
    "    #cbar.set_label('Normalized spectral power [VAR]')\n",
    "    plt.title(title[idx])\n",
    "    if idx == 0 or idx == 2:\n",
    "        plt.ylabel('Frequency [Hz]')\n",
    "    plt.xlabel('Time [s]')\n",
    "plt.tight_layout()"
   ]
  },
  {
   "cell_type": "code",
   "execution_count": null,
   "metadata": {},
   "outputs": [],
   "source": []
  }
 ],
 "metadata": {
  "kernelspec": {
   "display_name": "Python 3",
   "language": "python",
   "name": "python3"
  },
  "language_info": {
   "codemirror_mode": {
    "name": "ipython",
    "version": 3
   },
   "file_extension": ".py",
   "mimetype": "text/x-python",
   "name": "python",
   "nbconvert_exporter": "python",
   "pygments_lexer": "ipython3",
   "version": "3.7.4"
  }
 },
 "nbformat": 4,
 "nbformat_minor": 2
}
