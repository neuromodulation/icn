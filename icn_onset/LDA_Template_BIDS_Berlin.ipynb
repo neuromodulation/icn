{
 "cells": [
  {
   "cell_type": "code",
   "execution_count": 2,
   "metadata": {},
   "outputs": [
    {
     "name": "stdout",
     "output_type": "stream",
     "text": [
      "Extracting parameters from /Users/richardkoehler/Documents/Neurology_Data/BIDS Berlin/sub-004/ses-20200730/ieeg/sub-004_ses-20200730_task-RotaSelfpaceOFFRefSTNR1_run-16_ieeg.vhdr...\n",
      "Setting channel info structure...\n",
      "Reading 0 ... 2103145  =      0.000 ...   513.167 secs...\n"
     ]
    },
    {
     "ename": "KeyboardInterrupt",
     "evalue": "",
     "output_type": "error",
     "traceback": [
      "\u001b[0;31m---------------------------------------------------------------------------\u001b[0m",
      "\u001b[0;31mKeyboardInterrupt\u001b[0m                         Traceback (most recent call last)",
      "\u001b[0;32m<ipython-input-2-b140ad4b885d>\u001b[0m in \u001b[0;36m<module>\u001b[0;34m\u001b[0m\n\u001b[1;32m     29\u001b[0m \u001b[0;34m\u001b[0m\u001b[0m\n\u001b[1;32m     30\u001b[0m \u001b[0;32mif\u001b[0m \u001b[0mraw\u001b[0m\u001b[0;34m.\u001b[0m\u001b[0minfo\u001b[0m\u001b[0;34m[\u001b[0m\u001b[0;34m'sfreq'\u001b[0m\u001b[0;34m]\u001b[0m \u001b[0;34m>\u001b[0m \u001b[0;36m4096\u001b[0m\u001b[0;34m:\u001b[0m\u001b[0;34m\u001b[0m\u001b[0;34m\u001b[0m\u001b[0m\n\u001b[0;32m---> 31\u001b[0;31m     \u001b[0mraw\u001b[0m\u001b[0;34m.\u001b[0m\u001b[0mresample\u001b[0m\u001b[0;34m(\u001b[0m\u001b[0;36m4096\u001b[0m\u001b[0;34m,\u001b[0m \u001b[0mnpad\u001b[0m\u001b[0;34m=\u001b[0m\u001b[0;34m'auto'\u001b[0m\u001b[0;34m)\u001b[0m\u001b[0;34m\u001b[0m\u001b[0;34m\u001b[0m\u001b[0m\n\u001b[0m\u001b[1;32m     32\u001b[0m \u001b[0;32melif\u001b[0m \u001b[0mraw\u001b[0m\u001b[0;34m.\u001b[0m\u001b[0minfo\u001b[0m\u001b[0;34m[\u001b[0m\u001b[0;34m'sfreq'\u001b[0m\u001b[0;34m]\u001b[0m \u001b[0;34m<\u001b[0m \u001b[0;36m4096\u001b[0m\u001b[0;34m:\u001b[0m\u001b[0;34m\u001b[0m\u001b[0;34m\u001b[0m\u001b[0m\n\u001b[1;32m     33\u001b[0m     \u001b[0mprint\u001b[0m\u001b[0;34m(\u001b[0m\u001b[0;34m'Warning: sfreq < 4096, please adjust preprocessing_RK.py !'\u001b[0m\u001b[0;34m)\u001b[0m\u001b[0;34m\u001b[0m\u001b[0;34m\u001b[0m\u001b[0m\n",
      "\u001b[0;32m</Users/richardkoehler/opt/anaconda3/envs/icn/lib/python3.7/site-packages/mne/externals/decorator.py:decorator-gen-145>\u001b[0m in \u001b[0;36mresample\u001b[0;34m(self, sfreq, npad, window, stim_picks, n_jobs, events, pad, verbose)\u001b[0m\n",
      "\u001b[0;32m~/opt/anaconda3/envs/icn/lib/python3.7/site-packages/mne/utils/_logging.py\u001b[0m in \u001b[0;36mwrapper\u001b[0;34m(*args, **kwargs)\u001b[0m\n\u001b[1;32m     88\u001b[0m             \u001b[0;32mwith\u001b[0m \u001b[0muse_log_level\u001b[0m\u001b[0;34m(\u001b[0m\u001b[0mverbose_level\u001b[0m\u001b[0;34m)\u001b[0m\u001b[0;34m:\u001b[0m\u001b[0;34m\u001b[0m\u001b[0;34m\u001b[0m\u001b[0m\n\u001b[1;32m     89\u001b[0m                 \u001b[0;32mreturn\u001b[0m \u001b[0mfunction\u001b[0m\u001b[0;34m(\u001b[0m\u001b[0;34m*\u001b[0m\u001b[0margs\u001b[0m\u001b[0;34m,\u001b[0m \u001b[0;34m**\u001b[0m\u001b[0mkwargs\u001b[0m\u001b[0;34m)\u001b[0m\u001b[0;34m\u001b[0m\u001b[0;34m\u001b[0m\u001b[0m\n\u001b[0;32m---> 90\u001b[0;31m         \u001b[0;32mreturn\u001b[0m \u001b[0mfunction\u001b[0m\u001b[0;34m(\u001b[0m\u001b[0;34m*\u001b[0m\u001b[0margs\u001b[0m\u001b[0;34m,\u001b[0m \u001b[0;34m**\u001b[0m\u001b[0mkwargs\u001b[0m\u001b[0;34m)\u001b[0m\u001b[0;34m\u001b[0m\u001b[0;34m\u001b[0m\u001b[0m\n\u001b[0m\u001b[1;32m     91\u001b[0m     return FunctionMaker.create(\n\u001b[1;32m     92\u001b[0m         \u001b[0mfunction\u001b[0m\u001b[0;34m,\u001b[0m \u001b[0;34m'return decfunc(%(signature)s)'\u001b[0m\u001b[0;34m,\u001b[0m\u001b[0;34m\u001b[0m\u001b[0;34m\u001b[0m\u001b[0m\n",
      "\u001b[0;32m~/opt/anaconda3/envs/icn/lib/python3.7/site-packages/mne/io/base.py\u001b[0m in \u001b[0;36mresample\u001b[0;34m(self, sfreq, npad, window, stim_picks, n_jobs, events, pad, verbose)\u001b[0m\n\u001b[1;32m   1294\u001b[0m             \u001b[0mdata_chunk\u001b[0m \u001b[0;34m=\u001b[0m \u001b[0mself\u001b[0m\u001b[0;34m.\u001b[0m\u001b[0m_data\u001b[0m\u001b[0;34m[\u001b[0m\u001b[0;34m:\u001b[0m\u001b[0;34m,\u001b[0m \u001b[0moffsets\u001b[0m\u001b[0;34m[\u001b[0m\u001b[0mri\u001b[0m\u001b[0;34m]\u001b[0m\u001b[0;34m:\u001b[0m\u001b[0moffsets\u001b[0m\u001b[0;34m[\u001b[0m\u001b[0mri\u001b[0m \u001b[0;34m+\u001b[0m \u001b[0;36m1\u001b[0m\u001b[0;34m]\u001b[0m\u001b[0;34m]\u001b[0m\u001b[0;34m\u001b[0m\u001b[0;34m\u001b[0m\u001b[0m\n\u001b[1;32m   1295\u001b[0m             new_data.append(resample(data_chunk, sfreq, o_sfreq, npad,\n\u001b[0;32m-> 1296\u001b[0;31m                                      window=window, n_jobs=n_jobs, pad=pad))\n\u001b[0m\u001b[1;32m   1297\u001b[0m             \u001b[0mnew_ntimes\u001b[0m \u001b[0;34m=\u001b[0m \u001b[0mnew_data\u001b[0m\u001b[0;34m[\u001b[0m\u001b[0mri\u001b[0m\u001b[0;34m]\u001b[0m\u001b[0;34m.\u001b[0m\u001b[0mshape\u001b[0m\u001b[0;34m[\u001b[0m\u001b[0;36m1\u001b[0m\u001b[0;34m]\u001b[0m\u001b[0;34m\u001b[0m\u001b[0;34m\u001b[0m\u001b[0m\n\u001b[1;32m   1298\u001b[0m \u001b[0;34m\u001b[0m\u001b[0m\n",
      "\u001b[0;32m</Users/richardkoehler/opt/anaconda3/envs/icn/lib/python3.7/site-packages/mne/externals/decorator.py:decorator-gen-104>\u001b[0m in \u001b[0;36mresample\u001b[0;34m(x, up, down, npad, axis, window, n_jobs, pad, verbose)\u001b[0m\n",
      "\u001b[0;32m~/opt/anaconda3/envs/icn/lib/python3.7/site-packages/mne/utils/_logging.py\u001b[0m in \u001b[0;36mwrapper\u001b[0;34m(*args, **kwargs)\u001b[0m\n\u001b[1;32m     88\u001b[0m             \u001b[0;32mwith\u001b[0m \u001b[0muse_log_level\u001b[0m\u001b[0;34m(\u001b[0m\u001b[0mverbose_level\u001b[0m\u001b[0;34m)\u001b[0m\u001b[0;34m:\u001b[0m\u001b[0;34m\u001b[0m\u001b[0;34m\u001b[0m\u001b[0m\n\u001b[1;32m     89\u001b[0m                 \u001b[0;32mreturn\u001b[0m \u001b[0mfunction\u001b[0m\u001b[0;34m(\u001b[0m\u001b[0;34m*\u001b[0m\u001b[0margs\u001b[0m\u001b[0;34m,\u001b[0m \u001b[0;34m**\u001b[0m\u001b[0mkwargs\u001b[0m\u001b[0;34m)\u001b[0m\u001b[0;34m\u001b[0m\u001b[0;34m\u001b[0m\u001b[0m\n\u001b[0;32m---> 90\u001b[0;31m         \u001b[0;32mreturn\u001b[0m \u001b[0mfunction\u001b[0m\u001b[0;34m(\u001b[0m\u001b[0;34m*\u001b[0m\u001b[0margs\u001b[0m\u001b[0;34m,\u001b[0m \u001b[0;34m**\u001b[0m\u001b[0mkwargs\u001b[0m\u001b[0;34m)\u001b[0m\u001b[0;34m\u001b[0m\u001b[0;34m\u001b[0m\u001b[0m\n\u001b[0m\u001b[1;32m     91\u001b[0m     return FunctionMaker.create(\n\u001b[1;32m     92\u001b[0m         \u001b[0mfunction\u001b[0m\u001b[0;34m,\u001b[0m \u001b[0;34m'return decfunc(%(signature)s)'\u001b[0m\u001b[0;34m,\u001b[0m\u001b[0;34m\u001b[0m\u001b[0;34m\u001b[0m\u001b[0m\n",
      "\u001b[0;32m~/opt/anaconda3/envs/icn/lib/python3.7/site-packages/mne/filter.py\u001b[0m in \u001b[0;36mresample\u001b[0;34m(***failed resolving arguments***)\u001b[0m\n\u001b[1;32m   1448\u001b[0m         \u001b[0;32mfor\u001b[0m \u001b[0mxi\u001b[0m\u001b[0;34m,\u001b[0m \u001b[0mx_\u001b[0m \u001b[0;32min\u001b[0m \u001b[0menumerate\u001b[0m\u001b[0;34m(\u001b[0m\u001b[0mx_flat\u001b[0m\u001b[0;34m)\u001b[0m\u001b[0;34m:\u001b[0m\u001b[0;34m\u001b[0m\u001b[0;34m\u001b[0m\u001b[0m\n\u001b[1;32m   1449\u001b[0m             y[xi] = _fft_resample(x_, new_len, npads, to_removes,\n\u001b[0;32m-> 1450\u001b[0;31m                                   cuda_dict, pad)\n\u001b[0m\u001b[1;32m   1451\u001b[0m     \u001b[0;32melse\u001b[0m\u001b[0;34m:\u001b[0m\u001b[0;34m\u001b[0m\u001b[0;34m\u001b[0m\u001b[0m\n\u001b[1;32m   1452\u001b[0m         \u001b[0mparallel\u001b[0m\u001b[0;34m,\u001b[0m \u001b[0mp_fun\u001b[0m\u001b[0;34m,\u001b[0m \u001b[0m_\u001b[0m \u001b[0;34m=\u001b[0m \u001b[0mparallel_func\u001b[0m\u001b[0;34m(\u001b[0m\u001b[0m_fft_resample\u001b[0m\u001b[0;34m,\u001b[0m \u001b[0mn_jobs\u001b[0m\u001b[0;34m)\u001b[0m\u001b[0;34m\u001b[0m\u001b[0;34m\u001b[0m\u001b[0m\n",
      "\u001b[0;32m~/opt/anaconda3/envs/icn/lib/python3.7/site-packages/mne/cuda.py\u001b[0m in \u001b[0;36m_fft_resample\u001b[0;34m(x, new_len, npads, to_removes, cuda_dict, pad)\u001b[0m\n\u001b[1;32m    332\u001b[0m         \u001b[0mx_fft\u001b[0m\u001b[0;34m[\u001b[0m\u001b[0mnyq\u001b[0m\u001b[0;34m:\u001b[0m\u001b[0mnyq\u001b[0m \u001b[0;34m+\u001b[0m \u001b[0;36m1\u001b[0m\u001b[0;34m]\u001b[0m \u001b[0;34m*=\u001b[0m \u001b[0;36m2\u001b[0m \u001b[0;32mif\u001b[0m \u001b[0mshorter\u001b[0m \u001b[0;32melse\u001b[0m \u001b[0;36m0.5\u001b[0m\u001b[0;34m\u001b[0m\u001b[0;34m\u001b[0m\u001b[0m\n\u001b[1;32m    333\u001b[0m     \u001b[0mx_fft\u001b[0m \u001b[0;34m*=\u001b[0m \u001b[0mcuda_dict\u001b[0m\u001b[0;34m[\u001b[0m\u001b[0;34m'W'\u001b[0m\u001b[0;34m]\u001b[0m\u001b[0;34m\u001b[0m\u001b[0;34m\u001b[0m\u001b[0m\n\u001b[0;32m--> 334\u001b[0;31m     \u001b[0my\u001b[0m \u001b[0;34m=\u001b[0m \u001b[0mcuda_dict\u001b[0m\u001b[0;34m[\u001b[0m\u001b[0;34m'irfft'\u001b[0m\u001b[0;34m]\u001b[0m\u001b[0;34m(\u001b[0m\u001b[0mx_fft\u001b[0m\u001b[0;34m,\u001b[0m \u001b[0mnew_len\u001b[0m\u001b[0;34m)\u001b[0m\u001b[0;34m\u001b[0m\u001b[0;34m\u001b[0m\u001b[0m\n\u001b[0m\u001b[1;32m    335\u001b[0m \u001b[0;34m\u001b[0m\u001b[0m\n\u001b[1;32m    336\u001b[0m     \u001b[0;31m# now let's trim it back to the correct size (if there was padding)\u001b[0m\u001b[0;34m\u001b[0m\u001b[0;34m\u001b[0m\u001b[0;34m\u001b[0m\u001b[0m\n",
      "\u001b[0;32m~/opt/anaconda3/envs/icn/lib/python3.7/site-packages/scipy/fft/_backend.py\u001b[0m in \u001b[0;36m__ua_function__\u001b[0;34m(method, args, kwargs)\u001b[0m\n\u001b[1;32m     21\u001b[0m         \u001b[0;32mif\u001b[0m \u001b[0mfn\u001b[0m \u001b[0;32mis\u001b[0m \u001b[0;32mNone\u001b[0m\u001b[0;34m:\u001b[0m\u001b[0;34m\u001b[0m\u001b[0;34m\u001b[0m\u001b[0m\n\u001b[1;32m     22\u001b[0m             \u001b[0;32mreturn\u001b[0m \u001b[0mNotImplemented\u001b[0m\u001b[0;34m\u001b[0m\u001b[0;34m\u001b[0m\u001b[0m\n\u001b[0;32m---> 23\u001b[0;31m         \u001b[0;32mreturn\u001b[0m \u001b[0mfn\u001b[0m\u001b[0;34m(\u001b[0m\u001b[0;34m*\u001b[0m\u001b[0margs\u001b[0m\u001b[0;34m,\u001b[0m \u001b[0;34m**\u001b[0m\u001b[0mkwargs\u001b[0m\u001b[0;34m)\u001b[0m\u001b[0;34m\u001b[0m\u001b[0;34m\u001b[0m\u001b[0m\n\u001b[0m\u001b[1;32m     24\u001b[0m \u001b[0;34m\u001b[0m\u001b[0m\n\u001b[1;32m     25\u001b[0m \u001b[0;34m\u001b[0m\u001b[0m\n",
      "\u001b[0;32m~/opt/anaconda3/envs/icn/lib/python3.7/site-packages/scipy/fft/_pocketfft/basic.py\u001b[0m in \u001b[0;36mc2r\u001b[0;34m(forward, x, n, axis, norm, overwrite_x, workers, plan)\u001b[0m\n\u001b[1;32m     95\u001b[0m \u001b[0;34m\u001b[0m\u001b[0m\n\u001b[1;32m     96\u001b[0m     \u001b[0;31m# Note: overwrite_x is not utilized\u001b[0m\u001b[0;34m\u001b[0m\u001b[0;34m\u001b[0m\u001b[0;34m\u001b[0m\u001b[0m\n\u001b[0;32m---> 97\u001b[0;31m     \u001b[0;32mreturn\u001b[0m \u001b[0mpfft\u001b[0m\u001b[0;34m.\u001b[0m\u001b[0mc2r\u001b[0m\u001b[0;34m(\u001b[0m\u001b[0mtmp\u001b[0m\u001b[0;34m,\u001b[0m \u001b[0;34m(\u001b[0m\u001b[0maxis\u001b[0m\u001b[0;34m,\u001b[0m\u001b[0;34m)\u001b[0m\u001b[0;34m,\u001b[0m \u001b[0mn\u001b[0m\u001b[0;34m,\u001b[0m \u001b[0mforward\u001b[0m\u001b[0;34m,\u001b[0m \u001b[0mnorm\u001b[0m\u001b[0;34m,\u001b[0m \u001b[0;32mNone\u001b[0m\u001b[0;34m,\u001b[0m \u001b[0mworkers\u001b[0m\u001b[0;34m)\u001b[0m\u001b[0;34m\u001b[0m\u001b[0;34m\u001b[0m\u001b[0m\n\u001b[0m\u001b[1;32m     98\u001b[0m \u001b[0;34m\u001b[0m\u001b[0m\n\u001b[1;32m     99\u001b[0m \u001b[0;34m\u001b[0m\u001b[0m\n",
      "\u001b[0;31mKeyboardInterrupt\u001b[0m: "
     ]
    }
   ],
   "source": [
    "import sys\n",
    "import preprocessing_RK\n",
    "import normalization_RK\n",
    "import os\n",
    "import numpy as np\n",
    "import pandas as pd\n",
    "from scipy import stats, signal\n",
    "import mne\n",
    "#from bids import BIDSLayout\n",
    "import mne_bids\n",
    "#import settings\n",
    "import json\n",
    "#from coordinates_io import BIDS_coord\n",
    "from sklearn import linear_model\n",
    "from sklearn.model_selection import cross_val_score, train_test_split\n",
    "from sklearn.discriminant_analysis import LinearDiscriminantAnalysis\n",
    "from sklearn.metrics import f1_score, confusion_matrix, average_precision_score, auc, precision_recall_curve, \\\n",
    "                            plot_precision_recall_curve\n",
    "import multiprocessing\n",
    "from pybv import write_brainvision\n",
    "import matplotlib.pyplot as plt\n",
    "\n",
    "inpath = '/Users/richardkoehler/Documents/Neurology_Data/BIDS Berlin/sub-004/ses-20200730/ieeg/'\n",
    "outpath = '/Users/richardkoehler/Documents/Neurology_Data/MovementPrediction/test/derivatives/mne-p/'\n",
    "filename = 'sub-004_ses-20200730_task-RotaSelfpaceOFFRefSTNR1_run-16_ieeg'\n",
    "\n",
    "#select file in bids format\n",
    "raw = mne_bids.read.io.brainvision.read_raw_brainvision(inpath + filename + '.vhdr', preload=True)\n",
    "\n",
    "if raw.info['sfreq'] > 4096:\n",
    "    raw.resample(4096, npad='auto')\n",
    "elif raw.info['sfreq'] < 4096:\n",
    "    print('Warning: sfreq < 4096, please adjust preprocessing_RK.py !')"
   ]
  },
  {
   "cell_type": "code",
   "execution_count": 2,
   "metadata": {},
   "outputs": [],
   "source": [
    "#set channeltypes\n",
    "chan_type_set = { 'ECOG_AT_SM_L_{:1}'.format(n) : 'ecog' for n in range(1, 7) }\n",
    "chan_type_set.update({'LFP_BS_STN_R_{:1}'.format(n) : 'ecog' for n in range(1, 9) })\n",
    "chan_type_set.update({'LFP_BS_STN_L_{:1}'.format(n) : 'ecog' for n in range(1, 9) })\n",
    "chan_type_set.update({ 'AUX_3_1' : 'misc' })\n",
    "raw.set_channel_types(mapping=chan_type_set)"
   ]
  },
  {
   "cell_type": "code",
   "execution_count": 3,
   "metadata": {},
   "outputs": [
    {
     "name": "stdout",
     "output_type": "stream",
     "text": [
      "ECoG channel type selected for re-referencing\n",
      "Applying average reference.\n",
      "Applying a custom ECoG reference.\n",
      "ECoG channel type selected for re-referencing\n",
      "Applying a custom ECoG reference.\n"
     ]
    },
    {
     "data": {
      "text/plain": [
       "<RawBrainVision  |  sub-004_ses-20200730_task-RotaSelfpaceOFFRefSTNR1_run-16_ieeg.eeg, n_channels x n_times : 9 x 2103146 (513.2 sec), ~144.4 MB, data loaded>"
      ]
     },
     "execution_count": 3,
     "metadata": {},
     "output_type": "execute_result"
    }
   ],
   "source": [
    "#rereference and rename ECoG channels\n",
    "ecog_list = ['ECOG_AT_SM_L_{:1}'.format(n) for n in range(1, 7)]\n",
    "raw_ecog_reref = raw.copy().pick(ecog_list).set_eeg_reference(ref_channels='average', projection=False)\n",
    "channel_renaming_dict = {name: name + 'r' for name in raw_ecog_reref.ch_names}\n",
    "raw_ecog_reref.rename_channels(channel_renaming_dict)\n",
    "\n",
    "#rereference LFP_STNL8 against LFP_STNL1 and rename\n",
    "raw_lfp_reref = raw.copy().pick(['LFP_BS_STN_L_1', 'LFP_BS_STN_L_8']).set_eeg_reference(ref_channels=['LFP_BS_STN_L_1'], \\\n",
    "                                                                              projection=False)\n",
    "channel_renaming_dict = {name: name + 'r' for name in raw_lfp_reref.ch_names}\n",
    "raw_lfp_reref.rename_channels(channel_renaming_dict)\n",
    "\n",
    "#add rereferenced ECoG channels to raw\n",
    "raw.add_channels([raw_ecog_reref], force_update_info=False)\n",
    "\n",
    "#add rereferenced LFP_STNL8 channel to raw\n",
    "raw.add_channels([raw_lfp_reref.pick(['LFP_BS_STN_L_8r'])], force_update_info=False)\n",
    "\n",
    "#rename rotation channel\n",
    "raw.rename_channels({'AUX_3_1' : 'ROTA'})\n",
    "\n",
    "#extract and reorder relevant channels, ROTA should be last !\n",
    "relev_chans = ['ECOG_AT_SM_L_1r', 'ECOG_AT_SM_L_2r', 'ECOG_AT_SM_L_3r', 'ECOG_AT_SM_L_4r', 'ECOG_AT_SM_L_5r', \\\n",
    "                      'ECOG_AT_SM_L_6r', 'LFP_BS_STN_R_8', 'LFP_BS_STN_L_8r', 'ROTA']\n",
    "raw.reorder_channels(['ECOG_AT_SM_L_1r', 'ECOG_AT_SM_L_2r', 'ECOG_AT_SM_L_3r', 'ECOG_AT_SM_L_4r', 'ECOG_AT_SM_L_5r', \\\n",
    "                      'ECOG_AT_SM_L_6r', 'LFP_BS_STN_R_8', 'LFP_BS_STN_L_8r', 'ROTA'])"
   ]
  },
  {
   "cell_type": "code",
   "execution_count": 4,
   "metadata": {},
   "outputs": [
    {
     "data": {
      "image/png": "[encoded data removed]",
      "text/plain": [
       "<Figure size 432x288 with 1 Axes>"
      ]
     },
     "metadata": {
      "needs_background": "light"
     },
     "output_type": "display_data"
    },
    {
     "data": {
      "image/png": "[encoded data removed]",
      "text/plain": [
       "<Figure size 432x288 with 1 Axes>"
      ]
     },
     "metadata": {
      "needs_background": "light"
     },
     "output_type": "display_data"
    }
   ],
   "source": [
    "# Visual inspection for artefact cropping\n",
    "data = raw.get_data()\n",
    "#get tmin\n",
    "plt.plot(data[-1,:])\n",
    "plt.xlim(0,100000)\n",
    "plt.show()\n",
    "#get tmax\n",
    "plt.plot(data[-1,:])\n",
    "plt.xlim(len(data[-1,:])-100000,len(data[-1,:]))\n",
    "plt.show()"
   ]
  },
  {
   "cell_type": "code",
   "execution_count": 5,
   "metadata": {},
   "outputs": [],
   "source": [
    "#crop artefacts at end and beginning of recording after visual inspection\n",
    "tmin = 50000\n",
    "tmax = 2100000\n",
    "tmax = tmax/raw.info['sfreq']\n",
    "tmin = tmin/raw.info['sfreq']\n",
    "crop_raw = raw.copy().crop(tmin=tmin, tmax=tmax, include_tmax=True)\n",
    "\n",
    "#write data into brainvision file for further analyses\n",
    "crop_data = crop_raw.get_data()\n",
    "write_brainvision(crop_data, raw.info['sfreq'], relev_chans, 'crop_relevchan_' + filename, \\\n",
    "                  outpath, \\\n",
    "                  events=None, resolution=1e-07, unit='uV', scale_data=False, fmt='binary_float32', meas_date=None)\n",
    "\n",
    "## Now copy and modify .tsv and .json files manually"
   ]
  },
  {
   "cell_type": "code",
   "execution_count": null,
   "metadata": {},
   "outputs": [
    {
     "name": "stdout",
     "output_type": "stream",
     "text": [
      "Extracting parameters from /Users/richardkoehler/Documents/Neurology_Data/MovementPrediction/test/derivatives/mne-p/crop_relevchan_reref_sub-004_ses-20200730_task-RotaSelfpaceOFFRefSTNR1_run-16_ieeg.vhdr...\n",
      "Setting channel info structure...\n"
     ]
    }
   ],
   "source": [
    "# Get recropped data, preprocess using modified script by TM\n",
    "vhdr_file = outpath + 'crop_relevchan_reref_' + filename + '.vhdr'\n",
    "xf_zs, ml_zs, xf_zs_r, ml_zs_r = preprocessing_RK.write_out_raw(vhdr_file, folder_out=outpath test_LM=False, \\\n",
    "                                                                resampling=True, write_json=False)"
   ]
  },
  {
   "cell_type": "code",
   "execution_count": null,
   "metadata": {},
   "outputs": [],
   "source": [
    "# Create class labels using VPs normalization script (RK mod)\n",
    "# Do baseline correction\n",
    "mov = ml_zs_r[0,:].T*-1\n",
    "mov_corrected, onoff, mov = normalization_RK.baseline_correction(mov, method='baseline_als', param=[1e3, 1e-4], \\\n",
    "                                                                 thr=1e-1, normalize=True, Decimate=10, Verbose=True)\n",
    "\n",
    "# Create array of events\n",
    "events_arr = normalization_RK.create_events_array(onoff, ml_zs[0,:], 1)\n",
    "print('Number of detected events: ', len(events_arr[:,0])/2)\n",
    "\n",
    "# Plot, evaluate, tweak param+thr in baseline_correction and rerun\n",
    "fig, axs = plt.subplots(2, 2, figsize=(10,8), dpi=300)\n",
    "axs[0, 0].plot(ml_zs_r[0,:])\n",
    "axs[0, 0].set_title('ROTA')\n",
    "axs[0, 1].plot(mov, 'tab:orange')\n",
    "axs[0, 1].set_title('mov')\n",
    "axs[1, 0].plot(mov_corrected, 'tab:green')\n",
    "axs[1, 0].set_title('mov_corrected')\n",
    "axs[1, 1].plot(onoff, 'tab:red')\n",
    "axs[1, 1].set_title('onoff')\n",
    "plt.show()\n",
    "\n",
    "# Now plot and check accuracy\n",
    "plt.figure(dpi=300, figsize=(7,5))\n",
    "plt.title('Accuracy check')\n",
    "plt.plot(events_arr[0:2,0], events_arr[0:2,1], 'r*')\n",
    "plt.plot(ml_zs[0,:events_arr[2,0]]*2)\n",
    "#plt.xlim(events_arr[0][0],events_arr[3][0])\n",
    "plt.show()"
   ]
  },
  {
   "cell_type": "code",
   "execution_count": null,
   "metadata": {},
   "outputs": [],
   "source": [
    "# Run LDA\n",
    "\n",
    "print('Rolling Window = 1s, No Shuffle, Average all channels')\n",
    "\n",
    "# Exclude border artefacts\n",
    "art_ind = 3400\n",
    "cor_ev = events_arr[:,0]-art_ind\n",
    "X = xf_zs[:,:,art_ind:-art_ind]\n",
    "print(X.shape)\n",
    "\n",
    "# Now average over all channels\n",
    "Xm = np.mean(X, axis=1)\n",
    "Xm = Xm.T\n",
    "print(Xm.shape)\n",
    "    \n",
    "# Add class labels from event array\n",
    "y = np.zeros_like(X[0][0])\n",
    "for i in np.arange(0,len(events_arr)-1,2):\n",
    "    for s in np.arange(cor_ev[i], cor_ev[i+1]):\n",
    "        y[s] = 1\n",
    "    i=i+2\n",
    "\n",
    "# Plot for plausability\n",
    "plt.title('Plausability Check')\n",
    "plt.plot(y)\n",
    "plt.plot(ml_zs[0,art_ind:-art_ind])\n",
    "plt.show()\n",
    "\n",
    "#Split samples in test and train set\n",
    "test_size = 0.2\n",
    "X_train, X_test, y_train, y_test = train_test_split(Xm, y, test_size=test_size, shuffle=False)\n",
    "\n",
    "# Create LDA object\n",
    "lda = LinearDiscriminantAnalysis(solver='lsqr', shrinkage='auto')\n",
    "\n",
    "# Train the model using the training sets\n",
    "lda.fit(X_train, y_train)\n",
    "\n",
    "# Make predictions using the testing set\n",
    "y_pred = lda.predict(X_test)\n",
    "y_pred_all = lda.predict(Xm)\n",
    "   \n",
    "# The coefficients\n",
    "print('Coefficients: \\n', lda.coef_)\n",
    "        \n",
    "#Confusion Matrix\n",
    "tn, fp, fn, tp = confusion_matrix(y_test, y_pred).ravel()\n",
    "print('Confusion Matrix (tn, tp, fn, fp): ', (tn, tp, fn, fp))\n",
    "    \n",
    "# The accuracy\n",
    "print('Accuracy: ', lda.score(X_test, y_test))\n",
    "\n",
    "# The F1 Score\n",
    "print('F1: ', f1_score(y_test, y_pred))\n",
    "#metrics.plot_roc_curve(lda, X_test, y_test)\n",
    "    \n",
    "\n",
    "Plot_LDA = True\n",
    "if Plot_LDA == True:\n",
    "    plt.figure(figsize=(20,5))\n",
    "    plt.title('All predictions')\n",
    "    plt.xlabel('Samples')\n",
    "    plt.ylabel('Prediction')\n",
    "    plt.plot(range(0, len(y_pred_all)), y_pred_all[:]*0.9, 'r*')\n",
    "    plt.plot(range(0, len(y_pred_all)), y, 'b*')\n",
    "    plt.show()\n",
    "\n",
    "PlotPR = True\n",
    "if PlotPR == True:\n",
    "    y_score = lda.decision_function(X_test)\n",
    "    ap = average_precision_score(y_test, y_score)\n",
    "    print('Average precision-recall score: {0:0.2f}'.format(ap))\n",
    "    precision, recall, thresh = precision_recall_curve(y_test, y_score)\n",
    "    aucpr = auc(recall,precision)\n",
    "    print('AUCPR: ', aucpr)\n",
    "    # For AUCNPR see: arXiv:1206.4667v2\n",
    "    ratio = sum((tp,fn)) / sum((tn, tp, fn, fp))\n",
    "    print('Ratio: ',ratio)\n",
    "    aucpr_min = 1 + (1-ratio)*np.log(1-ratio)/ratio\n",
    "    #AUCPR_max is 1 for AUCPR over recall in [0,1]\n",
    "    aucpr_max = 1\n",
    "    print('AUCPR_min: ', aucpr_min)\n",
    "    aucnpr = (aucpr-aucpr_min)/(aucpr_max-aucpr_min)\n",
    "    print('AUCNPR: ', aucnpr)\n",
    "    disp = plot_precision_recall_curve(lda, X_test, y_test)\n",
    "    disp.ax_.set_title('2-class Precision-Recall curve: '\n",
    "                   'AUCNPR={0:0.2f}'.format(ap))\n",
    "    plt.show()\n"
   ]
  },
  {
   "cell_type": "code",
   "execution_count": null,
   "metadata": {},
   "outputs": [],
   "source": [
    "# Create and plot epochs\n",
    "def plot_mov_epochs(epoch_pr, epoch_true, mov_true, epoch_lim = 5):\n",
    "    #xlab = np.arange(-epoch_lim, epoch_lim, 1)\n",
    "    xlab = np.round(np.arange(-epoch_lim, epoch_lim, 1),2)\n",
    "    plt.title('LDA Movement Prediction: Mean of all ECoG Channels')\n",
    "    plt.plot(epoch_true.mean(axis=0), color='b',label='classifier')\n",
    "    plt.plot(epoch_pr.mean(axis=0), color='r',label='predict')\n",
    "    plt.plot(mov_true.mean(axis=0), color='c',label='rotameter')\n",
    "    plt.fill_between(np.arange(epoch_pr.shape[1]), epoch_pr.mean(axis=0)-epoch_pr.std(axis=0), \\\n",
    "                epoch_pr.mean(axis=0)+epoch_pr.std(axis=0), alpha=0.5, color='r')\n",
    "    #plt.fill_between(np.arange(epoch_true.shape[1]), epoch_true.mean(axis=0)-epoch_true.std(axis=0), \\\n",
    "     #           epoch_true.mean(axis=0)+epoch_true.std(axis=0), alpha=0.5, color='b')\n",
    "    plt.fill_between(np.arange(mov_true.shape[1]), mov_true.mean(axis=0)-mov_true.std(axis=0), \\\n",
    "                mov_true.mean(axis=0)+mov_true.std(axis=0), alpha=0.5, color='c')\n",
    "    \n",
    "\n",
    "    plt.xticks(np.arange(0,(epoch_lim*2/1)*raw.info['sfreq'], raw.info['sfreq']), xlab)\n",
    "    plt.xlabel('Time [s]')\n",
    "    plt.ylim(-0.25, 1.3)\n",
    "    plt.legend(loc='upper left')\n",
    "    plt.xlim(0*raw.info['sfreq'], 10*raw.info['sfreq'])\n",
    "\n",
    "\n",
    "# Sampling frequency\n",
    "fs_ep = raw.info['sfreq']\n",
    "# Epoch length in sec\n",
    "l_ep = 10\n",
    "# Calculate sampling corrected time factor for plotting\n",
    "fac = int(fs_ep*l_ep/2)\n",
    "\n",
    "# y value correction for plotting\n",
    "M = (ml_zs[0][3400:]-0.5)*-0.33\n",
    "\n",
    "# Epoch data\n",
    "\n",
    "pred_concat = np.empty((fac*2))\n",
    "true_concat = np.empty((fac*2))\n",
    "mov_concat = np.empty((fac*2))\n",
    "#print(pred_concat.shape)\n",
    "\n",
    "for i in np.arange(0,len(cor_ev),2):\n",
    "    pred = y_pred_all[(cor_ev[i]-fac):(cor_ev[i]+fac)]\n",
    "    #pred = y_pred_all[(cor_ev[i]-fac):(cor_ev[i]+fac)]\n",
    "    pred_concat = np.vstack((pred_concat, pred)) \n",
    "    true = y[(cor_ev[i]-fac):(cor_ev[i]+fac)]\n",
    "    true_concat = np.vstack((true_concat, true))\n",
    "    mov = M[(cor_ev[i]-fac):(cor_ev[i]+fac)]\n",
    "    mov_concat = np.vstack((mov_concat, mov))\n",
    "    i=i+2\n",
    "\n",
    "# Temporary bugfix\n",
    "pred_concat = pred_concat[1:]\n",
    "true_concat = true_concat[1:]\n",
    "mov_concat = mov_concat[1:]\n",
    "\n",
    "# Now plot\n",
    "num_ep = len(pred_concat)\n",
    "plot_all = True\n",
    "if plot_all is True:\n",
    "    p_a = 1\n",
    "else:\n",
    "    p_a = test_size\n",
    "ep_min = int(num_ep-p_a*num_ep)\n",
    "plt.figure(dpi=300, figsize=(7,5))\n",
    "plot_mov_epochs(pred_concat[ep_min:], true_concat[ep_min:], mov_concat[ep_min:])\n",
    "plt.tight_layout()"
   ]
  }
 ],
 "metadata": {
  "kernelspec": {
   "display_name": "Python 3",
   "language": "python",
   "name": "python3"
  },
  "language_info": {
   "codemirror_mode": {
    "name": "ipython",
    "version": 3
   },
   "file_extension": ".py",
   "mimetype": "text/x-python",
   "name": "python",
   "nbconvert_exporter": "python",
   "pygments_lexer": "ipython3",
   "version": "3.7.9"
  }
 },
 "nbformat": 4,
 "nbformat_minor": 4
}
