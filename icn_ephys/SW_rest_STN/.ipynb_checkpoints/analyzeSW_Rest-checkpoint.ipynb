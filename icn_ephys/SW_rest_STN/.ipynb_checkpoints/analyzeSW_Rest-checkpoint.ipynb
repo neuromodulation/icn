{
 "cells": [
  {
   "cell_type": "code",
   "execution_count": 1,
   "metadata": {},
   "outputs": [],
   "source": [
    "import numpy as np\n",
    "from matplotlib import pyplot as plt\n",
    "import seaborn as sn\n",
    "import scipy\n",
    "import mne\n",
    "import os\n",
    "import pandas as pd\n",
    "import numpy as np\n",
    "import mne\n",
    "import scipy\n",
    "import pickle\n",
    "import multiprocessing\n",
    "from itertools import repeat"
   ]
  },
  {
   "cell_type": "markdown",
   "metadata": {},
   "source": [
    "### idea here: rewrite SW detection code for STN activity"
   ]
  },
  {
   "cell_type": "code",
   "execution_count": 6,
   "metadata": {},
   "outputs": [],
   "source": [
    "# file to read: \n",
    "PATH = \"C:\\\\Users\\\\ICN_admin\\\\Charité - Universitätsmedizin Berlin\\\\Interventional Cognitive Neuromodulation - Data\\\\BIDS Berlin\\\\sub-002\\\\ses-20200130\\\\ieeg\\\\sub-002_ses-20200130_task-restMEDON20200130T111458_run-0_ieeg.vhdr\"\n",
    "PATH_OUT = \"C:\\\\Users\\\\ICN_admin\\\\Charité - Universitätsmedizin Berlin\\\\Interventional Cognitive Neuromodulation - Data\\\\BIDS Berlin\\\\derivative_SW\\\\\""
   ]
  },
  {
   "cell_type": "code",
   "execution_count": 4,
   "metadata": {},
   "outputs": [
    {
     "name": "stdout",
     "output_type": "stream",
     "text": [
      "Extracting parameters from C:\\Users\\ICN_admin\\Charité - Universitätsmedizin Berlin\\Interventional Cognitive Neuromodulation - Data\\BIDS Berlin\\sub-002\\ses-20200130\\ieeg\\sub-002_ses-20200130_task-restMEDON20200130T111458_run-0_ieeg.vhdr...\n",
      "Setting channel info structure...\n"
     ]
    }
   ],
   "source": [
    "raw = mne.io.read_raw_brainvision(PATH)"
   ]
  },
  {
   "cell_type": "code",
   "execution_count": 27,
   "metadata": {},
   "outputs": [],
   "source": [
    "class NoValidTroughException(Exception):\n",
    "    pass\n",
    "\n",
    "def get_peaks_around(trough_ind, arr_ind_peaks, filtered_dat):\n",
    "\n",
    "        # find all peaks to the right (then left) side, then take the closest one to the trough\n",
    "        ind_greater = np.where(arr_ind_peaks>trough_ind)[0]\n",
    "        if ind_greater.shape[0] == 0:\n",
    "            raise NoValidTroughException(\"No valid trough\")\n",
    "        val_ind_greater = arr_ind_peaks[ind_greater]\n",
    "        peak_right_idx = arr_ind_peaks[ind_greater[np.argsort(val_ind_greater)[0]]]\n",
    "\n",
    "        ind_smaller = np.where(arr_ind_peaks<trough_ind)[0]\n",
    "        if ind_smaller.shape[0] == 0:\n",
    "            raise NoValidTroughException(\"No valid trough\")\n",
    "\n",
    "        val_ind_smaller = arr_ind_peaks[ind_smaller]\n",
    "        peak_left_idx = arr_ind_peaks[ind_smaller[np.argsort(val_ind_smaller)[-1]]]\n",
    "\n",
    "        return peak_left_idx, peak_right_idx, filtered_dat[peak_left_idx], filtered_dat[peak_right_idx]"
   ]
  },
  {
   "cell_type": "code",
   "execution_count": 39,
   "metadata": {},
   "outputs": [],
   "source": [
    "def analyze_waveform(dat, subject_id, DETECT_PEAKS, sample_rate, line_noise, \\\n",
    "                     ch, PATH_OUT, bp_low_cutoff=5, bp_high_cutoff=90, plot_=False):\n",
    "    \n",
    "    \"\"\"\n",
    "    saves dict with pd table of detected sharp waves and sw characetristics \n",
    "    \n",
    "    dat: np array of time vector for used channel\n",
    "    subject_id: str for saving result \n",
    "    DETECT_PEAKS: bool if true PEAKS are analyzed, if false: troughs\n",
    "    sample_rate: int\n",
    "    line_noise: int\n",
    "    ch: str used channel\n",
    "    PATH_OUT: path for saving\n",
    "    bp_low_cutoff: data is bandpass filtered before preprocessing\n",
    "    bp_high_cutoff: data is bandpass filtered before preprocessing\n",
    "    plot_: plot detected SW \n",
    "    \n",
    "    \"\"\"\n",
    "\n",
    "    if DETECT_PEAKS is True:\n",
    "        peak_dist=5; trough_dist=1;  # ms distance between detected troughs / peaks \n",
    "        raw_dat = -dat  # Negative for Peaks\n",
    "    else:\n",
    "        peak_dist=1; trough_dist=5;\n",
    "        raw_dat = dat\n",
    "\n",
    "    # first notch filter data\n",
    "    dat_notch_filtered = mne.filter.notch_filter(x=raw_dat, Fs=sample_rate, trans_bandwidth=7,\n",
    "        freqs=np.arange(line_noise, 4*line_noise, line_noise),\n",
    "        fir_design='firwin', verbose=False, notch_widths=1,filter_length=raw_dat.shape[0]-1)\n",
    "    \n",
    "    filter_ = mne.filter.create_filter(None, sample_rate, l_freq=bp_low_cutoff, h_freq=bp_high_cutoff,\n",
    "                                fir_design='firwin', l_trans_bandwidth=5,\n",
    "                                h_trans_bandwidth=5, filter_length='1000ms')\n",
    "    \n",
    "\n",
    "    filtered_dat = scipy.signal.convolve(dat_notch_filtered, filter_, mode='same')\n",
    "\n",
    "    peaks = scipy.signal.find_peaks(filtered_dat, distance=peak_dist)[0]\n",
    "    troughs = scipy.signal.find_peaks(-filtered_dat, distance=trough_dist)[0]\n",
    "\n",
    "    if plot_ is True:\n",
    "        plt.figure(figsize=(15,5))\n",
    "        plt.plot(peaks, filtered_dat[peaks], \"xr\");\n",
    "        plt.plot(troughs, filtered_dat[troughs], \"ob\");\n",
    "        plt.plot(filtered_dat, color='black'); plt.legend(['peaks', 'trough'])\n",
    "        plt.show()\n",
    "\n",
    "    df  = pd.DataFrame()\n",
    "    sharp_wave = {}\n",
    "    for trough_idx in troughs:\n",
    "        try:\n",
    "            peak_idx_left, peak_idx_right, peak_left, peak_right = get_peaks_around(trough_idx,\n",
    "                                                                                    peaks, filtered_dat)\n",
    "        except NoValidTroughException as e:\n",
    "            # in this case there is no adjacent two peaks around this trough\n",
    "            print(str(e))\n",
    "            continue\n",
    "\n",
    "        # interval\n",
    "        if df.shape[0]>0:\n",
    "            interval_ = (trough_idx - sharp_wave[\"trough_idx\"]) * (1000/sample_rate)\n",
    "        else:\n",
    "            # set first interval to zero\n",
    "            interval_ = 0\n",
    "\n",
    "        # sharpness\n",
    "        if (trough_idx - int(5*(1000/sample_rate)) <= 0) or \\\n",
    "            (trough_idx + int(5*(1000/sample_rate)) >= filtered_dat.shape[0]):\n",
    "            continue\n",
    "        # convert 5 ms to sample rate\n",
    "        sharpness = ((filtered_dat[trough_idx] - filtered_dat[trough_idx-int(5*(1000/sample_rate))]) +\n",
    "                     (filtered_dat[trough_idx] - filtered_dat[trough_idx+int(5*(1000/sample_rate))])) / 2\n",
    "\n",
    "        # rise_steepness, first der. from trough to peak\n",
    "        # here  + 1 due to python syntax, s.t. the last element is included\n",
    "        rise_steepness = np.max(np.diff(filtered_dat[peak_idx_left : trough_idx+1]))\n",
    "\n",
    "        # decay_steepness\n",
    "        decay_steepness = np.max(np.diff(filtered_dat[trough_idx : peak_idx_right+1]))\n",
    "\n",
    "        sharp_wave  = {\n",
    "            \"peak_left\" : peak_left,\n",
    "            \"peak_right\" : peak_right,\n",
    "            \"peak_idx_left\" : peak_idx_left,\n",
    "            \"peak_idx_right\" : peak_idx_right,\n",
    "            \"trough\" : filtered_dat[trough_idx], # mV\n",
    "            \"trough_idx\" : trough_idx,\n",
    "            \"width\" : peak_idx_right - peak_idx_left, # ms\n",
    "            \"prominence\": np.abs((peak_right + peak_left) / 2 - filtered_dat[trough_idx]), # mV\n",
    "            \"interval\" : interval_, # ms\n",
    "            \"decay_time\": (peak_idx_left - trough_idx) *(1000/sample_rate),\n",
    "            \"rise_time\" : (peak_idx_right - trough_idx) *(1000/sample_rate),\n",
    "            \"sharpness\" : sharpness,\n",
    "            \"rise_steepness\" : rise_steepness,\n",
    "            \"decay_steepness\" : decay_steepness,\n",
    "            \"slope_ratio\" : rise_steepness - decay_steepness\n",
    "        }\n",
    "\n",
    "        df = df.append(sharp_wave, ignore_index=True)\n",
    "\n",
    "    df.to_pickle(PATH_OUT + \"sub_\"+subject_id+\"_ch_\"+ch+\".p\")"
   ]
  },
  {
   "cell_type": "code",
   "execution_count": 40,
   "metadata": {},
   "outputs": [
    {
     "data": {
      "text/plain": [
       "'ECOG_AT_SM_L_1'"
      ]
     },
     "execution_count": 40,
     "metadata": {},
     "output_type": "execute_result"
    }
   ],
   "source": [
    "raw.ch_names[19]"
   ]
  },
  {
   "cell_type": "code",
   "execution_count": 30,
   "metadata": {},
   "outputs": [
    {
     "data": {
      "text/plain": [
       "(27, 1232738)"
      ]
     },
     "execution_count": 30,
     "metadata": {},
     "output_type": "execute_result"
    }
   ],
   "source": [
    "raw.get_data().shape"
   ]
  },
  {
   "cell_type": "code",
   "execution_count": 45,
   "metadata": {},
   "outputs": [],
   "source": [
    "subject_id = \"002\"\n",
    "ch = raw.ch_names[19]\n",
    "dat = raw.get_data()[19,:]"
   ]
  },
  {
   "cell_type": "code",
   "execution_count": 46,
   "metadata": {},
   "outputs": [
    {
     "name": "stdout",
     "output_type": "stream",
     "text": [
      "No data specified. Sanity checks related to the length of the signal relative to the filter order will be skipped.\n",
      "Setting up band-pass filter from 5 - 90 Hz\n",
      "\n",
      "FIR filter parameters\n",
      "---------------------\n",
      "Designing a one-pass, zero-phase, non-causal bandpass filter:\n",
      "- Windowed time-domain design (firwin) method\n",
      "- Hamming window with 0.0194 passband ripple and 53 dB stopband attenuation\n",
      "- Lower passband edge: 5.00\n",
      "- Lower transition bandwidth: 5.00 Hz (-6 dB cutoff frequency: 2.50 Hz)\n",
      "- Upper passband edge: 90.00 Hz\n",
      "- Upper transition bandwidth: 5.00 Hz (-6 dB cutoff frequency: 92.50 Hz)\n",
      "- Filter length: 4097 samples (1.000 sec)\n",
      "\n"
     ]
    },
    {
     "name": "stderr",
     "output_type": "stream",
     "text": [
      "C:\\Users\\ICN_admin\\Anaconda3\\lib\\site-packages\\IPython\\core\\pylabtools.py:128: UserWarning: Creating legend with loc=\"best\" can be slow with large amounts of data.\n",
      "  fig.canvas.print_figure(bytes_io, **kw)\n"
     ]
    },
    {
     "data": {
      "image/png": "[encoded data removed]",
      "text/plain": [
       "<Figure size 1080x360 with 1 Axes>"
      ]
     },
     "metadata": {
      "needs_background": "light"
     },
     "output_type": "display_data"
    },
    {
     "name": "stdout",
     "output_type": "stream",
     "text": [
      "No valid trough\n"
     ]
    }
   ],
   "source": [
    "#Remark: Find sample rate in channel.tsv file: \n",
    "# e.g. sub-002_ses-20200130_task-restMEDONAVGREF20200130T112142_run-1_channels\n",
    "\n",
    "analyze_waveform(dat, subject_id=subject_id, DETECT_PEAKS=False, sample_rate=4096, line_noise=50, \\\n",
    "                     ch=ch, PATH_OUT=PATH_OUT, bp_low_cutoff=5, bp_high_cutoff=90, plot_=True)"
   ]
  },
  {
   "cell_type": "code",
   "execution_count": null,
   "metadata": {},
   "outputs": [],
   "source": []
  },
  {
   "cell_type": "code",
   "execution_count": 43,
   "metadata": {},
   "outputs": [],
   "source": [
    "df = pd.read_pickle(PATH_OUT + \"sub_\"+subject_id+\"_ch_\"+ch+\".p\")"
   ]
  },
  {
   "cell_type": "code",
   "execution_count": 44,
   "metadata": {},
   "outputs": [
    {
     "data": {
      "text/html": [
       "<div>\n",
       "<style scoped>\n",
       "    .dataframe tbody tr th:only-of-type {\n",
       "        vertical-align: middle;\n",
       "    }\n",
       "\n",
       "    .dataframe tbody tr th {\n",
       "        vertical-align: top;\n",
       "    }\n",
       "\n",
       "    .dataframe thead th {\n",
       "        text-align: right;\n",
       "    }\n",
       "</style>\n",
       "<table border=\"1\" class=\"dataframe\">\n",
       "  <thead>\n",
       "    <tr style=\"text-align: right;\">\n",
       "      <th></th>\n",
       "      <th>decay_steepness</th>\n",
       "      <th>decay_time</th>\n",
       "      <th>interval</th>\n",
       "      <th>peak_idx_left</th>\n",
       "      <th>peak_idx_right</th>\n",
       "      <th>peak_left</th>\n",
       "      <th>peak_right</th>\n",
       "      <th>prominence</th>\n",
       "      <th>rise_steepness</th>\n",
       "      <th>rise_time</th>\n",
       "      <th>sharpness</th>\n",
       "      <th>slope_ratio</th>\n",
       "      <th>trough</th>\n",
       "      <th>trough_idx</th>\n",
       "      <th>width</th>\n",
       "    </tr>\n",
       "  </thead>\n",
       "  <tbody>\n",
       "    <tr>\n",
       "      <td>0</td>\n",
       "      <td>10.514638</td>\n",
       "      <td>-5.859375</td>\n",
       "      <td>0.000000</td>\n",
       "      <td>21.0</td>\n",
       "      <td>64.0</td>\n",
       "      <td>1368.959044</td>\n",
       "      <td>1090.469938</td>\n",
       "      <td>267.547903</td>\n",
       "      <td>-1.823353</td>\n",
       "      <td>4.638672</td>\n",
       "      <td>-1.141260</td>\n",
       "      <td>-12.337991</td>\n",
       "      <td>962.166588</td>\n",
       "      <td>45.0</td>\n",
       "      <td>43.0</td>\n",
       "    </tr>\n",
       "    <tr>\n",
       "      <td>1</td>\n",
       "      <td>4.138661</td>\n",
       "      <td>-6.591797</td>\n",
       "      <td>11.230469</td>\n",
       "      <td>64.0</td>\n",
       "      <td>107.0</td>\n",
       "      <td>1090.469938</td>\n",
       "      <td>923.240906</td>\n",
       "      <td>126.168071</td>\n",
       "      <td>-0.477547</td>\n",
       "      <td>3.906250</td>\n",
       "      <td>-0.500685</td>\n",
       "      <td>-4.616208</td>\n",
       "      <td>880.687351</td>\n",
       "      <td>91.0</td>\n",
       "      <td>43.0</td>\n",
       "    </tr>\n",
       "    <tr>\n",
       "      <td>2</td>\n",
       "      <td>2.440880</td>\n",
       "      <td>-7.080078</td>\n",
       "      <td>10.986328</td>\n",
       "      <td>107.0</td>\n",
       "      <td>151.0</td>\n",
       "      <td>923.240906</td>\n",
       "      <td>785.444566</td>\n",
       "      <td>92.119324</td>\n",
       "      <td>-0.346909</td>\n",
       "      <td>3.662109</td>\n",
       "      <td>-0.324108</td>\n",
       "      <td>-2.787788</td>\n",
       "      <td>762.223412</td>\n",
       "      <td>136.0</td>\n",
       "      <td>44.0</td>\n",
       "    </tr>\n",
       "    <tr>\n",
       "      <td>3</td>\n",
       "      <td>1.493870</td>\n",
       "      <td>-7.324219</td>\n",
       "      <td>10.986328</td>\n",
       "      <td>151.0</td>\n",
       "      <td>194.0</td>\n",
       "      <td>785.444566</td>\n",
       "      <td>677.371859</td>\n",
       "      <td>66.751248</td>\n",
       "      <td>-0.090384</td>\n",
       "      <td>3.173828</td>\n",
       "      <td>-0.213345</td>\n",
       "      <td>-1.584254</td>\n",
       "      <td>664.656965</td>\n",
       "      <td>181.0</td>\n",
       "      <td>43.0</td>\n",
       "    </tr>\n",
       "    <tr>\n",
       "      <td>4</td>\n",
       "      <td>0.837886</td>\n",
       "      <td>-7.812500</td>\n",
       "      <td>10.986328</td>\n",
       "      <td>194.0</td>\n",
       "      <td>237.0</td>\n",
       "      <td>677.371859</td>\n",
       "      <td>572.298936</td>\n",
       "      <td>58.345733</td>\n",
       "      <td>-0.193948</td>\n",
       "      <td>2.685547</td>\n",
       "      <td>-0.156663</td>\n",
       "      <td>-1.031834</td>\n",
       "      <td>566.489665</td>\n",
       "      <td>226.0</td>\n",
       "      <td>43.0</td>\n",
       "    </tr>\n",
       "    <tr>\n",
       "      <td>...</td>\n",
       "      <td>...</td>\n",
       "      <td>...</td>\n",
       "      <td>...</td>\n",
       "      <td>...</td>\n",
       "      <td>...</td>\n",
       "      <td>...</td>\n",
       "      <td>...</td>\n",
       "      <td>...</td>\n",
       "      <td>...</td>\n",
       "      <td>...</td>\n",
       "      <td>...</td>\n",
       "      <td>...</td>\n",
       "      <td>...</td>\n",
       "      <td>...</td>\n",
       "      <td>...</td>\n",
       "    </tr>\n",
       "    <tr>\n",
       "      <td>15468</td>\n",
       "      <td>0.720370</td>\n",
       "      <td>-8.544922</td>\n",
       "      <td>10.498047</td>\n",
       "      <td>1232465.0</td>\n",
       "      <td>1232510.0</td>\n",
       "      <td>-537.113453</td>\n",
       "      <td>-644.449920</td>\n",
       "      <td>58.144012</td>\n",
       "      <td>-0.020317</td>\n",
       "      <td>2.441406</td>\n",
       "      <td>-0.155721</td>\n",
       "      <td>-0.740687</td>\n",
       "      <td>-648.925699</td>\n",
       "      <td>1232500.0</td>\n",
       "      <td>45.0</td>\n",
       "    </tr>\n",
       "    <tr>\n",
       "      <td>15469</td>\n",
       "      <td>1.383360</td>\n",
       "      <td>-8.056641</td>\n",
       "      <td>10.498047</td>\n",
       "      <td>1232510.0</td>\n",
       "      <td>1232554.0</td>\n",
       "      <td>-644.449920</td>\n",
       "      <td>-763.929564</td>\n",
       "      <td>70.091907</td>\n",
       "      <td>-0.274475</td>\n",
       "      <td>2.685547</td>\n",
       "      <td>-0.225582</td>\n",
       "      <td>-1.657835</td>\n",
       "      <td>-774.281649</td>\n",
       "      <td>1232543.0</td>\n",
       "      <td>44.0</td>\n",
       "    </tr>\n",
       "    <tr>\n",
       "      <td>15470</td>\n",
       "      <td>3.186355</td>\n",
       "      <td>-8.056641</td>\n",
       "      <td>10.742188</td>\n",
       "      <td>1232554.0</td>\n",
       "      <td>1232601.0</td>\n",
       "      <td>-763.929564</td>\n",
       "      <td>-907.507066</td>\n",
       "      <td>102.726754</td>\n",
       "      <td>-0.027142</td>\n",
       "      <td>3.417969</td>\n",
       "      <td>-0.365210</td>\n",
       "      <td>-3.213497</td>\n",
       "      <td>-938.445069</td>\n",
       "      <td>1232587.0</td>\n",
       "      <td>47.0</td>\n",
       "    </tr>\n",
       "    <tr>\n",
       "      <td>15471</td>\n",
       "      <td>5.367009</td>\n",
       "      <td>-7.080078</td>\n",
       "      <td>10.498047</td>\n",
       "      <td>1232601.0</td>\n",
       "      <td>1232646.0</td>\n",
       "      <td>-907.507066</td>\n",
       "      <td>-1034.468667</td>\n",
       "      <td>120.650318</td>\n",
       "      <td>-0.118744</td>\n",
       "      <td>3.906250</td>\n",
       "      <td>-0.537469</td>\n",
       "      <td>-5.485753</td>\n",
       "      <td>-1091.638184</td>\n",
       "      <td>1232630.0</td>\n",
       "      <td>45.0</td>\n",
       "    </tr>\n",
       "    <tr>\n",
       "      <td>15472</td>\n",
       "      <td>12.658421</td>\n",
       "      <td>-6.591797</td>\n",
       "      <td>10.498047</td>\n",
       "      <td>1232646.0</td>\n",
       "      <td>1232692.0</td>\n",
       "      <td>-1034.468667</td>\n",
       "      <td>-1133.271606</td>\n",
       "      <td>203.814595</td>\n",
       "      <td>-0.398028</td>\n",
       "      <td>4.638672</td>\n",
       "      <td>-0.981216</td>\n",
       "      <td>-13.056449</td>\n",
       "      <td>-1287.684732</td>\n",
       "      <td>1232673.0</td>\n",
       "      <td>46.0</td>\n",
       "    </tr>\n",
       "  </tbody>\n",
       "</table>\n",
       "<p>15473 rows × 15 columns</p>\n",
       "</div>"
      ],
      "text/plain": [
       "       decay_steepness  decay_time   interval  peak_idx_left  peak_idx_right  \\\n",
       "0            10.514638   -5.859375   0.000000           21.0            64.0   \n",
       "1             4.138661   -6.591797  11.230469           64.0           107.0   \n",
       "2             2.440880   -7.080078  10.986328          107.0           151.0   \n",
       "3             1.493870   -7.324219  10.986328          151.0           194.0   \n",
       "4             0.837886   -7.812500  10.986328          194.0           237.0   \n",
       "...                ...         ...        ...            ...             ...   \n",
       "15468         0.720370   -8.544922  10.498047      1232465.0       1232510.0   \n",
       "15469         1.383360   -8.056641  10.498047      1232510.0       1232554.0   \n",
       "15470         3.186355   -8.056641  10.742188      1232554.0       1232601.0   \n",
       "15471         5.367009   -7.080078  10.498047      1232601.0       1232646.0   \n",
       "15472        12.658421   -6.591797  10.498047      1232646.0       1232692.0   \n",
       "\n",
       "         peak_left   peak_right  prominence  rise_steepness  rise_time  \\\n",
       "0      1368.959044  1090.469938  267.547903       -1.823353   4.638672   \n",
       "1      1090.469938   923.240906  126.168071       -0.477547   3.906250   \n",
       "2       923.240906   785.444566   92.119324       -0.346909   3.662109   \n",
       "3       785.444566   677.371859   66.751248       -0.090384   3.173828   \n",
       "4       677.371859   572.298936   58.345733       -0.193948   2.685547   \n",
       "...            ...          ...         ...             ...        ...   \n",
       "15468  -537.113453  -644.449920   58.144012       -0.020317   2.441406   \n",
       "15469  -644.449920  -763.929564   70.091907       -0.274475   2.685547   \n",
       "15470  -763.929564  -907.507066  102.726754       -0.027142   3.417969   \n",
       "15471  -907.507066 -1034.468667  120.650318       -0.118744   3.906250   \n",
       "15472 -1034.468667 -1133.271606  203.814595       -0.398028   4.638672   \n",
       "\n",
       "       sharpness  slope_ratio       trough  trough_idx  width  \n",
       "0      -1.141260   -12.337991   962.166588        45.0   43.0  \n",
       "1      -0.500685    -4.616208   880.687351        91.0   43.0  \n",
       "2      -0.324108    -2.787788   762.223412       136.0   44.0  \n",
       "3      -0.213345    -1.584254   664.656965       181.0   43.0  \n",
       "4      -0.156663    -1.031834   566.489665       226.0   43.0  \n",
       "...          ...          ...          ...         ...    ...  \n",
       "15468  -0.155721    -0.740687  -648.925699   1232500.0   45.0  \n",
       "15469  -0.225582    -1.657835  -774.281649   1232543.0   44.0  \n",
       "15470  -0.365210    -3.213497  -938.445069   1232587.0   47.0  \n",
       "15471  -0.537469    -5.485753 -1091.638184   1232630.0   45.0  \n",
       "15472  -0.981216   -13.056449 -1287.684732   1232673.0   46.0  \n",
       "\n",
       "[15473 rows x 15 columns]"
      ]
     },
     "execution_count": 44,
     "metadata": {},
     "output_type": "execute_result"
    }
   ],
   "source": [
    "df"
   ]
  },
  {
   "cell_type": "code",
   "execution_count": 52,
   "metadata": {},
   "outputs": [
    {
     "data": {
      "image/png": "[encoded data removed]",
      "text/plain": [
       "<Figure size 432x288 with 1 Axes>"
      ]
     },
     "metadata": {
      "needs_background": "light"
     },
     "output_type": "display_data"
    }
   ],
   "source": [
    "plt.hist(df[\"prominence\"], bins=200)\n",
    "plt.show()"
   ]
  },
  {
   "cell_type": "markdown",
   "metadata": {},
   "source": [
    "### now check STN activity wrt cortical sharp waves "
   ]
  },
  {
   "cell_type": "code",
   "execution_count": 75,
   "metadata": {},
   "outputs": [
    {
     "data": {
      "text/plain": [
       "'LFP_BS_STN_L_2'"
      ]
     },
     "execution_count": 75,
     "metadata": {},
     "output_type": "execute_result"
    }
   ],
   "source": [
    "raw.ch_names[10]"
   ]
  },
  {
   "cell_type": "code",
   "execution_count": 76,
   "metadata": {},
   "outputs": [],
   "source": [
    "dat_STN_R1 = raw.get_data()[1,:]"
   ]
  },
  {
   "cell_type": "code",
   "execution_count": 77,
   "metadata": {},
   "outputs": [
    {
     "data": {
      "text/plain": [
       "(1232738,)"
      ]
     },
     "execution_count": 77,
     "metadata": {},
     "output_type": "execute_result"
    }
   ],
   "source": [
    "dat_STN_R1.shape"
   ]
  },
  {
   "cell_type": "code",
   "execution_count": 78,
   "metadata": {},
   "outputs": [
    {
     "data": {
      "text/plain": [
       "[<matplotlib.lines.Line2D at 0x2086e8f1948>]"
      ]
     },
     "execution_count": 78,
     "metadata": {},
     "output_type": "execute_result"
    },
    {
     "data": {
      "image/png": "[encoded data removed]",
      "text/plain": [
       "<Figure size 432x288 with 1 Axes>"
      ]
     },
     "metadata": {
      "needs_background": "light"
     },
     "output_type": "display_data"
    }
   ],
   "source": [
    "plt.plot(dat_STN_R1) #### mhhh, strange trace"
   ]
  },
  {
   "cell_type": "code",
   "execution_count": 80,
   "metadata": {},
   "outputs": [],
   "source": [
    "arr_ = []\n",
    "epoch_length = 4096\n",
    "for t in df[\"trough_idx\"].astype(int):\n",
    "    if t-epoch_length < 0 or t + epoch_length > dat_STN_R1.shape[0]:\n",
    "        continue\n",
    "    arr_.append(dat_STN_R1[t-epoch_length:t+epoch_length])"
   ]
  },
  {
   "cell_type": "code",
   "execution_count": 81,
   "metadata": {},
   "outputs": [],
   "source": [
    "arr_ = np.array(arr_)"
   ]
  },
  {
   "cell_type": "code",
   "execution_count": 82,
   "metadata": {},
   "outputs": [
    {
     "data": {
      "text/plain": [
       "(15366, 8192)"
      ]
     },
     "execution_count": 82,
     "metadata": {},
     "output_type": "execute_result"
    }
   ],
   "source": [
    "arr_.shape"
   ]
  },
  {
   "cell_type": "code",
   "execution_count": 83,
   "metadata": {},
   "outputs": [
    {
     "data": {
      "text/plain": [
       "<matplotlib.image.AxesImage at 0x2086f4014c8>"
      ]
     },
     "execution_count": 83,
     "metadata": {},
     "output_type": "execute_result"
    },
    {
     "data": {
      "image/png": "[encoded data removed]",
      "text/plain": [
       "<Figure size 432x288 with 1 Axes>"
      ]
     },
     "metadata": {
      "needs_background": "light"
     },
     "output_type": "display_data"
    }
   ],
   "source": [
    "plt.imshow(arr_, aspect='auto')"
   ]
  },
  {
   "cell_type": "code",
   "execution_count": 66,
   "metadata": {},
   "outputs": [
    {
     "data": {
      "text/plain": [
       "[<matplotlib.lines.Line2D at 0x20868a0d248>]"
      ]
     },
     "execution_count": 66,
     "metadata": {},
     "output_type": "execute_result"
    },
    {
     "data": {
      "image/png": "[encoded data removed]",
      "text/plain": [
       "<Figure size 432x288 with 1 Axes>"
      ]
     },
     "metadata": {
      "needs_background": "light"
     },
     "output_type": "display_data"
    }
   ],
   "source": [
    "plt.plot(np.mean(arr_, axis=0))"
   ]
  },
  {
   "cell_type": "code",
   "execution_count": 85,
   "metadata": {},
   "outputs": [
    {
     "data": {
      "text/plain": [
       "[<matplotlib.lines.Line2D at 0x2086f974548>]"
      ]
     },
     "execution_count": 85,
     "metadata": {},
     "output_type": "execute_result"
    },
    {
     "data": {
      "image/png": "[encoded data removed]",
      "text/plain": [
       "<Figure size 432x288 with 1 Axes>"
      ]
     },
     "metadata": {
      "needs_background": "light"
     },
     "output_type": "display_data"
    }
   ],
   "source": [
    "plt.plot(scipy.stats.zscore(np.mean(arr_, axis=0)[3000:5000]))"
   ]
  },
  {
   "cell_type": "code",
   "execution_count": null,
   "metadata": {},
   "outputs": [],
   "source": []
  },
  {
   "cell_type": "code",
   "execution_count": null,
   "metadata": {},
   "outputs": [],
   "source": []
  },
  {
   "cell_type": "code",
   "execution_count": null,
   "metadata": {},
   "outputs": [],
   "source": []
  },
  {
   "cell_type": "code",
   "execution_count": null,
   "metadata": {},
   "outputs": [],
   "source": []
  }
 ],
 "metadata": {
  "kernelspec": {
   "display_name": "Python 3",
   "language": "python",
   "name": "python3"
  },
  "language_info": {
   "codemirror_mode": {
    "name": "ipython",
    "version": 3
   },
   "file_extension": ".py",
   "mimetype": "text/x-python",
   "name": "python",
   "nbconvert_exporter": "python",
   "pygments_lexer": "ipython3",
   "version": "3.7.4"
  }
 },
 "nbformat": 4,
 "nbformat_minor": 2
}
