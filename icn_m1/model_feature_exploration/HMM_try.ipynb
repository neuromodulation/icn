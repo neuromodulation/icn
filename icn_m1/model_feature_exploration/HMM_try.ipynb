{
 "cells": [
  {
   "cell_type": "code",
   "execution_count": 32,
   "metadata": {},
   "outputs": [],
   "source": [
    "from hmmlearn import hmm\n",
    "import mne_bids\n",
    "from matplotlib import pyplot as plt\n",
    "import numpy as np \n",
    "import json"
   ]
  },
  {
   "cell_type": "markdown",
   "metadata": {},
   "source": [
    "### read examplary data from Berlin data"
   ]
  },
  {
   "cell_type": "code",
   "execution_count": 7,
   "metadata": {},
   "outputs": [
    {
     "name": "stdout",
     "output_type": "stream",
     "text": [
      "Extracting parameters from C:\\Users\\ICN_admin\\Charité - Universitätsmedizin Berlin\\Interventional Cognitive Neuromodulation - Data\\Datasets\\BIDS_Berlin\\sub-002\\ses-20200131\\ieeg\\sub-002_ses-20200131_task-SelfpacedRotationR_acq-MedOn+StimOff_run-4_ieeg.vhdr...\n",
      "Setting channel info structure...\n",
      "Reading events from C:\\Users\\ICN_admin\\Charité - Universitätsmedizin Berlin\\Interventional Cognitive Neuromodulation - Data\\Datasets\\BIDS_Berlin\\sub-002\\ses-20200131\\ieeg\\sub-002_ses-20200131_task-SelfpacedRotationR_acq-MedOn+StimOff_run-4_events.tsv.\n",
      "Reading channel info from C:\\Users\\ICN_admin\\Charité - Universitätsmedizin Berlin\\Interventional Cognitive Neuromodulation - Data\\Datasets\\BIDS_Berlin\\sub-002\\ses-20200131\\ieeg\\sub-002_ses-20200131_task-SelfpacedRotationR_acq-MedOn+StimOff_run-4_channels.tsv.\n",
      "Reading in coordinate system frame other: None.\n",
      "Reading electrode coords from C:\\Users\\ICN_admin\\Charité - Universitätsmedizin Berlin\\Interventional Cognitive Neuromodulation - Data\\Datasets\\BIDS_Berlin\\sub-002\\ses-20200131\\ieeg\\sub-002_ses-20200131_task-SelfpacedRotationR_acq-MedOn+StimOff_run-4_space-mni_electrodes.tsv.\n",
      "The read in electrodes file is: \n",
      " [('name', ['LFP_STN_R_234', 'LFP_STN_R_567', 'LFP_BS_STN_L_1', 'LFP_STN_L_234', 'LFP_STN_L_567', 'ECOG_AT_SM_L_1', 'ECOG_AT_SM_L_2', 'ECOG_AT_SM_L_3', 'ECOG_AT_SM_L_4', 'ECOG_AT_SM_L_5', 'ECOG_AT_SM_L_6', 'ANALOG_ROT_R_1']), ('x', ['-12.9831', '-13.66133333', '11.8327', '12.50906667', '13.20953333', '-40', '-41', '-41', '-40', '-40', '-40', 'n/a']), ('y', ['-16.6197', '-16.0668', '-14.8891', '-14.30276667', '-13.73456667', '-73', '-64', '-55', '-44.5', '-34.5', '-23.5', 'n/a']), ('z', ['-6.544306667', '-4.35119', '-9.10934', '-6.818236667', '-4.560726667', '40', '46.5', '52.5', '55.5', '59.5', '59.5', 'n/a']), ('size', ['n/a', 'n/a', 'n/a', 'n/a', 'n/a', 'n/a', 'n/a', 'n/a', 'n/a', 'n/a', 'n/a', 'n/a'])]\n"
     ]
    },
    {
     "name": "stderr",
     "output_type": "stream",
     "text": [
      "<ipython-input-7-c27250336c19>:5: RuntimeWarning: There are channels without locations (n/a) that are not marked as bad: ['ANALOG_ROT_R_1']\n",
      "  raw_arr = mne_bids.read_raw_bids(bids_path)\n",
      "<ipython-input-7-c27250336c19>:5: RuntimeWarning: Fiducial point nasion not found, assuming identity unknown to head transformation\n",
      "  raw_arr = mne_bids.read_raw_bids(bids_path)\n"
     ]
    }
   ],
   "source": [
    "run_file_to_read = r'C:\\Users\\ICN_admin\\Charité - Universitätsmedizin Berlin\\Interventional Cognitive Neuromodulation - Data\\Datasets\\BIDS_Berlin\\sub-002\\ses-20200131\\ieeg\\sub-002_ses-20200131_task-SelfpacedRotationR_acq-MedOn+StimOff_run-4_ieeg.vhdr'\n",
    "entities = mne_bids.get_entities_from_fname(run_file_to_read)\n",
    "bids_path = mne_bids.BIDSPath(subject=entities[\"subject\"], session=entities[\"session\"], task=entities[\"task\"], \\\n",
    "    run=entities[\"run\"], acquisition=entities[\"acquisition\"], datatype=\"ieeg\", root=\"C:\\\\Users\\\\ICN_admin\\\\Charité - Universitätsmedizin Berlin\\\\Interventional Cognitive Neuromodulation - Data\\\\Datasets\\\\BIDS_Berlin\")\n",
    "raw_arr = mne_bids.read_raw_bids(bids_path)"
   ]
  },
  {
   "cell_type": "code",
   "execution_count": 9,
   "metadata": {},
   "outputs": [
    {
     "data": {
      "text/plain": [
       "(12, 613328)"
      ]
     },
     "execution_count": 9,
     "metadata": {},
     "output_type": "execute_result"
    }
   ],
   "source": [
    "raw_arr.get_data().shape"
   ]
  },
  {
   "cell_type": "code",
   "execution_count": 10,
   "metadata": {},
   "outputs": [
    {
     "data": {
      "text/plain": [
       "['LFP_STN_R_234',\n",
       " 'LFP_STN_R_567',\n",
       " 'LFP_BS_STN_L_1',\n",
       " 'LFP_STN_L_234',\n",
       " 'LFP_STN_L_567',\n",
       " 'ECOG_AT_SM_L_1',\n",
       " 'ECOG_AT_SM_L_2',\n",
       " 'ECOG_AT_SM_L_3',\n",
       " 'ECOG_AT_SM_L_4',\n",
       " 'ECOG_AT_SM_L_5',\n",
       " 'ECOG_AT_SM_L_6',\n",
       " 'ANALOG_ROT_R_1']"
      ]
     },
     "execution_count": 10,
     "metadata": {},
     "output_type": "execute_result"
    }
   ],
   "source": [
    "raw_arr.ch_names"
   ]
  },
  {
   "cell_type": "code",
   "execution_count": 21,
   "metadata": {},
   "outputs": [],
   "source": [
    "X = raw_arr.get_data()[:-1,100000:][:,::10]\n",
    "y = raw_arr.get_data()[-1,100000:][::10]"
   ]
  },
  {
   "cell_type": "code",
   "execution_count": 22,
   "metadata": {},
   "outputs": [
    {
     "data": {
      "text/plain": [
       "(11, 51333)"
      ]
     },
     "execution_count": 22,
     "metadata": {},
     "output_type": "execute_result"
    }
   ],
   "source": [
    "X.shape"
   ]
  },
  {
   "cell_type": "code",
   "execution_count": 23,
   "metadata": {},
   "outputs": [
    {
     "data": {
      "text/plain": [
       "[<matplotlib.lines.Line2D at 0x20bf5ec0048>]"
      ]
     },
     "execution_count": 23,
     "metadata": {},
     "output_type": "execute_result"
    },
    {
     "data": {
      "image/png": "[encoded data removed]",
      "text/plain": [
       "<Figure size 432x288 with 1 Axes>"
      ]
     },
     "metadata": {
      "needs_background": "light"
     },
     "output_type": "display_data"
    }
   ],
   "source": [
    "plt.plot(y)"
   ]
  },
  {
   "cell_type": "code",
   "execution_count": 4,
   "metadata": {},
   "outputs": [],
   "source": [
    "remodel = hmm.GaussianHMM(n_components=3, covariance_type=\"full\", n_iter=100)"
   ]
  },
  {
   "cell_type": "code",
   "execution_count": 15,
   "metadata": {},
   "outputs": [
    {
     "data": {
      "text/plain": [
       "ConvergenceMonitor(\n",
       "    history=[],\n",
       "    iter=0,\n",
       "    n_iter=100,\n",
       "    tol=0.01,\n",
       "    verbose=False,\n",
       ")"
      ]
     },
     "execution_count": 15,
     "metadata": {},
     "output_type": "execute_result"
    }
   ],
   "source": [
    "remodel.monitor_"
   ]
  },
  {
   "cell_type": "markdown",
   "metadata": {},
   "source": [
    "### read feature dat"
   ]
  },
  {
   "cell_type": "code",
   "execution_count": 26,
   "metadata": {},
   "outputs": [],
   "source": [
    "file = r'C:\\Users\\ICN_admin\\Dropbox (Brain Modulation Lab)\\Shared Lab Folders\\CRCNS\\MOVEMENT DATA\\ECoG_STN\\combined_dat\\dat\\sub_000_patient_concat.json'"
   ]
  },
  {
   "cell_type": "code",
   "execution_count": 27,
   "metadata": {},
   "outputs": [],
   "source": [
    "import json\n",
    "\n",
    "with open(file) as json_file:\n",
    "    data = json.load(json_file)"
   ]
  },
  {
   "cell_type": "code",
   "execution_count": 38,
   "metadata": {},
   "outputs": [],
   "source": [
    "X = np.array(data[\"ECOG_RIGHT_0\"][\"data\"])\n",
    "y = np.array(data[\"ECOG_RIGHT_0\"][\"true_movements\"])"
   ]
  },
  {
   "cell_type": "code",
   "execution_count": 78,
   "metadata": {},
   "outputs": [],
   "source": [
    "hmm.GaussianHMM?"
   ]
  },
  {
   "cell_type": "code",
   "execution_count": 84,
   "metadata": {},
   "outputs": [],
   "source": [
    "remodel = hmm.GaussianHMM(n_components=2, covariance_type=\"full\", n_iter=100)"
   ]
  },
  {
   "cell_type": "code",
   "execution_count": 85,
   "metadata": {},
   "outputs": [
    {
     "data": {
      "text/plain": [
       "GaussianHMM(algorithm='viterbi', covariance_type='full', covars_prior=0.01,\n",
       "            covars_weight=1, init_params='stmc', means_prior=0, means_weight=0,\n",
       "            min_covar=0.001, n_components=2, n_iter=100, params='stmc',\n",
       "            random_state=None, startprob_prior=1.0, tol=0.01,\n",
       "            transmat_prior=1.0, verbose=False)"
      ]
     },
     "execution_count": 85,
     "metadata": {},
     "output_type": "execute_result"
    }
   ],
   "source": [
    "remodel.fit(X=X.T)"
   ]
  },
  {
   "cell_type": "code",
   "execution_count": 86,
   "metadata": {},
   "outputs": [
    {
     "data": {
      "text/plain": [
       "{'algorithm': 'viterbi',\n",
       " 'covariance_type': 'full',\n",
       " 'covars_prior': 0.01,\n",
       " 'covars_weight': 1,\n",
       " 'init_params': 'stmc',\n",
       " 'means_prior': 0,\n",
       " 'means_weight': 0,\n",
       " 'min_covar': 0.001,\n",
       " 'n_components': 2,\n",
       " 'n_iter': 100,\n",
       " 'params': 'stmc',\n",
       " 'random_state': None,\n",
       " 'startprob_prior': 1.0,\n",
       " 'tol': 0.01,\n",
       " 'transmat_prior': 1.0,\n",
       " 'verbose': False}"
      ]
     },
     "execution_count": 86,
     "metadata": {},
     "output_type": "execute_result"
    }
   ],
   "source": [
    "remodel.get_params()"
   ]
  },
  {
   "cell_type": "code",
   "execution_count": 87,
   "metadata": {},
   "outputs": [
    {
     "data": {
      "text/plain": [
       "ConvergenceMonitor(\n",
       "    history=[6855.67752479209, 6855.685592614144],\n",
       "    iter=20,\n",
       "    n_iter=100,\n",
       "    tol=0.01,\n",
       "    verbose=False,\n",
       ")"
      ]
     },
     "execution_count": 87,
     "metadata": {},
     "output_type": "execute_result"
    }
   ],
   "source": [
    "remodel.monitor_"
   ]
  },
  {
   "cell_type": "code",
   "execution_count": 99,
   "metadata": {},
   "outputs": [],
   "source": [
    "from sklearn import metrics"
   ]
  },
  {
   "cell_type": "code",
   "execution_count": 100,
   "metadata": {},
   "outputs": [
    {
     "data": {
      "text/plain": [
       "0.16914161193704358"
      ]
     },
     "execution_count": 100,
     "metadata": {},
     "output_type": "execute_result"
    }
   ],
   "source": [
    "metrics.r2_score(y.sum(axis=0), remodel.predict(X.T))"
   ]
  },
  {
   "cell_type": "code",
   "execution_count": 104,
   "metadata": {},
   "outputs": [
    {
     "data": {
      "text/plain": [
       "Text(0.5, 1.0, 'sum con-ips movement $r^2$=0.17')"
      ]
     },
     "execution_count": 104,
     "metadata": {},
     "output_type": "execute_result"
    },
    {
     "data": {
      "image/png": "[encoded data removed]",
      "text/plain": [
       "<Figure size 432x288 with 1 Axes>"
      ]
     },
     "metadata": {
      "needs_background": "light"
     },
     "output_type": "display_data"
    }
   ],
   "source": [
    "x_ = np.arange(0, 1000, 1)*0.1\n",
    "plt.plot(x_, remodel.predict(X.T)[:1000], label=\"state prediction params\")\n",
    "plt.plot(x_, y[0,:1000], label=\"label con\")\n",
    "plt.plot(x_, y[1,:1000], label=\"label ips\")\n",
    "plt.legend()\n",
    "plt.xlabel(\"Time [s]\")\n",
    "plt.ylabel(\"Force\")\n",
    "plt.title(\"sum con-ips movement \"+r\"$r^2$\"+\"=\"+str(np.round(metrics.r2_score(y.sum(axis=0), remodel.predict(X.T)),2)))"
   ]
  },
  {
   "cell_type": "code",
   "execution_count": 75,
   "metadata": {},
   "outputs": [
    {
     "data": {
      "text/plain": [
       "(27298.379134229017, array([0, 0, 0, ..., 5, 5, 5]))"
      ]
     },
     "execution_count": 75,
     "metadata": {},
     "output_type": "execute_result"
    }
   ],
   "source": [
    "remodel.decode(X.T)"
   ]
  },
  {
   "cell_type": "code",
   "execution_count": 58,
   "metadata": {},
   "outputs": [],
   "source": [
    "remodel.decode?"
   ]
  },
  {
   "cell_type": "code",
   "execution_count": 63,
   "metadata": {},
   "outputs": [],
   "source": [
    "arr_sampled = remodel.sample(1000)"
   ]
  },
  {
   "cell_type": "code",
   "execution_count": 98,
   "metadata": {},
   "outputs": [
    {
     "data": {
      "image/png": "[encoded data removed]",
      "text/plain": [
       "<Figure size 432x288 with 2 Axes>"
      ]
     },
     "metadata": {
      "needs_background": "light"
     },
     "output_type": "display_data"
    }
   ],
   "source": [
    "plt.imshow(arr_sampled[0].T, aspect='auto')\n",
    "plt.gca().invert_yaxis()\n",
    "x_ = np.arange(0, 1000, 1)*0.1\n",
    "plt.xticks(np.arange(0, 1000, 100), x_[::100])\n",
    "plt.xlabel(\"Time [s]\")\n",
    "plt.ylabel(\"F-bands\")\n",
    "cbar = plt.colorbar()\n",
    "cbar.set_label(\"band power\")\n",
    "plt.title(\"HMM 2-state generated data\")\n",
    "plt.show()"
   ]
  },
  {
   "cell_type": "code",
   "execution_count": 68,
   "metadata": {},
   "outputs": [],
   "source": [
    "remodel.fit?"
   ]
  },
  {
   "cell_type": "code",
   "execution_count": 112,
   "metadata": {},
   "outputs": [
    {
     "data": {
      "text/plain": [
       "array([[0.97198596, 0.02801404],\n",
       "       [0.0631055 , 0.9368945 ]])"
      ]
     },
     "execution_count": 112,
     "metadata": {},
     "output_type": "execute_result"
    }
   ],
   "source": [
    "remodel.transmat_"
   ]
  },
  {
   "cell_type": "code",
   "execution_count": 111,
   "metadata": {},
   "outputs": [
    {
     "data": {
      "text/plain": [
       "(-0.5, 1.5)"
      ]
     },
     "execution_count": 111,
     "metadata": {},
     "output_type": "execute_result"
    },
    {
     "data": {
      "image/png": "[encoded data removed]",
      "text/plain": [
       "<Figure size 432x288 with 2 Axes>"
      ]
     },
     "metadata": {
      "needs_background": "light"
     },
     "output_type": "display_data"
    }
   ],
   "source": [
    "plt.imshow(remodel.transmat_)\n",
    "cbar = plt.colorbar()\n",
    "cbar.set_label(\"p\")\n",
    "plt.title(\"transition probability matrix\")\n",
    "plt.xticks([0,1],[0,1])\n",
    "plt.yticks([0,1],[0,1])\n",
    "plt.xlabel(\"state #1\")\n",
    "plt.ylabel(\"state #2\")\n",
    "plt.ylim(-0.5, 1.5)"
   ]
  },
  {
   "cell_type": "code",
   "execution_count": null,
   "metadata": {},
   "outputs": [],
   "source": []
  }
 ],
 "metadata": {
  "kernelspec": {
   "display_name": "Python 3",
   "language": "python",
   "name": "python3"
  },
  "language_info": {
   "codemirror_mode": {
    "name": "ipython",
    "version": 3
   },
   "file_extension": ".py",
   "mimetype": "text/x-python",
   "name": "python",
   "nbconvert_exporter": "python",
   "pygments_lexer": "ipython3",
   "version": "3.7.4"
  }
 },
 "nbformat": 4,
 "nbformat_minor": 2
}
