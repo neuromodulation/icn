{
 "cells": [
  {
   "cell_type": "code",
   "execution_count": 17,
   "metadata": {},
   "outputs": [],
   "source": [
    "from collections import OrderedDict\n",
    "from pathlib import Path\n",
    "\n",
    "import mne\n",
    "from mne_bids import (BIDSPath, read_raw_bids, write_raw_bids)\n",
    "import numpy as np\n",
    "\n",
    "import IO"
   ]
  },
  {
   "cell_type": "code",
   "execution_count": 24,
   "metadata": {},
   "outputs": [],
   "source": [
    "# Enter filename and BIDS root\n",
    "\n",
    "#bids_root = Path('/Users/richardkoehler/Documents/Neurology_Data/BIDS Berlin/')\n",
    "#bids_root = \"C:\\\\Users\\\\ICN_admin\\\\Charité - Universitätsmedizin Berlin\\\\Interventional Cognitive Neuromodulation - Data\\\\Datasets\\\\BIDS Berlin\"\n",
    "bids_root = r\"C:\\Users\\ICN_admin\\Charité - Universitätsmedizin Berlin\\Interventional Cognitive Neuromodulation - Data\\Datasets\\BIDS Pittsburgh\"\n",
    "#filename = 'sub-002_ses-20200131_task-selfpacedrotation202001310001_run-4_ieeg'\n",
    "filename = 'sub-000_ses-right_task-force_run-0_ieeg'\n",
    "\n",
    "subject, session, task, run = IO.get_subject_sess_task_run(filename)\n",
    "dataype = 'ieeg'\n",
    "bids_path = BIDSPath(subject=subject, session=session, task=task, run=run, datatype=dataype, root=bids_root)"
   ]
  },
  {
   "cell_type": "code",
   "execution_count": 25,
   "metadata": {},
   "outputs": [
    {
     "data": {
      "text/plain": [
       "'force'"
      ]
     },
     "execution_count": 25,
     "metadata": {},
     "output_type": "execute_result"
    }
   ],
   "source": [
    "task"
   ]
  },
  {
   "cell_type": "code",
   "execution_count": 26,
   "metadata": {},
   "outputs": [
    {
     "data": {
      "text/plain": [
       "BIDSPath(\n",
       "root: C:\\Users\\ICN_admin\\Charité - Universitätsmedizin Berlin\\Interventional Cognitive Neuromodulation - Data\\Datasets\\BIDS Pittsburgh\n",
       "datatype: ieeg\n",
       "basename: sub-000_ses-right_task-force_run-0)"
      ]
     },
     "execution_count": 26,
     "metadata": {},
     "output_type": "execute_result"
    }
   ],
   "source": [
    "bids_path"
   ]
  },
  {
   "cell_type": "code",
   "execution_count": 27,
   "metadata": {},
   "outputs": [
    {
     "name": "stdout",
     "output_type": "stream",
     "text": [
      "Extracting parameters from C:\\Users\\ICN_admin\\Charité - Universitätsmedizin Berlin\\Interventional Cognitive Neuromodulation - Data\\Datasets\\BIDS Pittsburgh\\sub-000\\ses-right\\ieeg\\sub-000_ses-right_task-force_run-0_ieeg.vhdr...\n",
      "Setting channel info structure...\n",
      "Reading channel info from C:\\Users\\ICN_admin\\Charité - Universitätsmedizin Berlin\\Interventional Cognitive Neuromodulation - Data\\Datasets\\BIDS Pittsburgh\\sub-000\\ses-right\\ieeg\\sub-000_ses-right_task-force_run-0_channels.tsv.\n",
      "Reading electrode coords from C:\\Users\\ICN_admin\\Charité - Universitätsmedizin Berlin\\Interventional Cognitive Neuromodulation - Data\\Datasets\\BIDS Pittsburgh\\sub-000\\ses-right\\ieeg\\sub-000_ses-right_task-force_run-0_space-mni_electrodes.tsv.\n"
     ]
    },
    {
     "name": "stderr",
     "output_type": "stream",
     "text": [
      "<ipython-input-27-3c1f71791417>:2: RuntimeWarning: Did not find any events.tsv associated with sub-000_ses-right_task-force_run-0.\n",
      "\n",
      "The search_str was \"C:\\Users\\ICN_admin\\Charité - Universitätsmedizin Berlin\\Interventional Cognitive Neuromodulation - Data\\Datasets\\BIDS Pittsburgh\\sub-000\\**\\sub-000_ses-right*events.tsv\"\n",
      "  raw = read_raw_bids(bids_path=bids_path, extra_params=dict(preload=False), verbose=False)\n",
      "<ipython-input-27-3c1f71791417>:2: RuntimeWarning: There are channels without locations (n/a) that are not marked as bad: ['MOV_RIGHT', 'MOV_LEFT', 'MOV_RIGHT_CLEAN', 'MOV_LEFT_CLEAN']\n",
      "  raw = read_raw_bids(bids_path=bids_path, extra_params=dict(preload=False), verbose=False)\n",
      "<ipython-input-27-3c1f71791417>:2: RuntimeWarning: Fiducial point nasion not found, assuming identity unknown to head transformation\n",
      "  raw = read_raw_bids(bids_path=bids_path, extra_params=dict(preload=False), verbose=False)\n"
     ]
    }
   ],
   "source": [
    "# If preload is set to TRUE, write_raw_bids might not work. Only load_data if necessary.\n",
    "raw = read_raw_bids(bids_path=bids_path, extra_params=dict(preload=False), verbose=False)"
   ]
  },
  {
   "cell_type": "code",
   "execution_count": null,
   "metadata": {},
   "outputs": [],
   "source": []
  },
  {
   "cell_type": "code",
   "execution_count": 30,
   "metadata": {},
   "outputs": [],
   "source": [
    "mne.channels.make_dig_montage?"
   ]
  },
  {
   "cell_type": "code",
   "execution_count": 32,
   "metadata": {},
   "outputs": [
    {
     "data": {
      "text/plain": [
       "array([[ 0.03731817, -0.04861013,  0.06179765],\n",
       "       [ 0.04015989, -0.03731593,  0.06431172],\n",
       "       [ 0.04094304, -0.02721778,  0.06409518],\n",
       "       [ 0.03978396, -0.01700523,  0.06386618],\n",
       "       [ 0.03968814, -0.00552802,  0.06168254],\n",
       "       [ 0.03751916,  0.00430491,  0.06054126],\n",
       "       [        nan,         nan,         nan],\n",
       "       [        nan,         nan,         nan],\n",
       "       [        nan,         nan,         nan],\n",
       "       [        nan,         nan,         nan]])"
      ]
     },
     "execution_count": 32,
     "metadata": {},
     "output_type": "execute_result"
    }
   ],
   "source": [
    "elec / 1000"
   ]
  },
  {
   "cell_type": "code",
   "execution_count": 33,
   "metadata": {},
   "outputs": [
    {
     "name": "stdout",
     "output_type": "stream",
     "text": [
      "Created 10 channel positions\n",
      "{'ECOG_RIGHT_0': array([ 37.318174  , -48.61012664,  61.79765474]), 'ECOG_RIGHT_1': array([ 40.1598943 , -37.31592983,  64.31171618]), 'ECOG_RIGHT_2': array([ 40.94303578, -27.21778456,  64.09518408]), 'ECOG_RIGHT_3': array([ 39.78395522, -17.00523081,  63.86618136]), 'ECOG_RIGHT_4': array([39.68813641, -5.52802457, 61.68254254]), 'ECOG_RIGHT_5': array([37.51915924,  4.30491341, 60.54126355]), 'STN_RIGHT_0': array([ 11.82808023, -15.15974827,  -7.76909846]), 'STN_RIGHT_1': array([ 12.3908352 , -14.29250828,  -5.9367987 ]), 'STN_RIGHT_2': array([ 12.93084915, -13.41284994,  -4.09165662]), 'STN_RIGHT_3': array([ 13.44457579, -12.52669693,  -2.24263538])}\n"
     ]
    },
    {
     "name": "stderr",
     "output_type": "stream",
     "text": [
      "<ipython-input-33-c8e7ea4517db>:26: RuntimeWarning: Fiducial point nasion not found, assuming identity unknown to head transformation\n",
      "  raw.set_montage(montage, on_missing='warn')\n",
      "<ipython-input-33-c8e7ea4517db>:26: RuntimeWarning: DigMontage is only a subset of info. There are 4 channel positions not present in the DigMontage. The required channels are:\n",
      "\n",
      "['MOV_RIGHT', 'MOV_LEFT', 'MOV_RIGHT_CLEAN', 'MOV_LEFT_CLEAN'].\n",
      "\n",
      "Consider using inst.set_channel_types if these are not EEG channels, or use the on_missing parameter if the channel positions are allowed to be unknown in your analyses.\n",
      "  raw.set_montage(montage, on_missing='warn')\n"
     ]
    },
    {
     "data": {
      "text/plain": [
       "<RawBrainVision | sub-000_ses-right_task-force_run-0_ieeg.eeg, 10 x 130001 (130.0 s), ~31 kB, data not loaded>"
      ]
     },
     "execution_count": 33,
     "metadata": {},
     "output_type": "execute_result"
    }
   ],
   "source": [
    "# Read in file containing electrode locations\n",
    "electr_file = bids_path.directory / 'sub-000_electrodes.tsv'\n",
    "\n",
    "data = np.loadtxt(electr_file, dtype=str, delimiter='\\t', comments=None, encoding='utf-8')\n",
    "column_names = data[0, :]\n",
    "info = data[1:, :]\n",
    "\n",
    "electrode_tsv = OrderedDict()\n",
    "for i, name in enumerate(column_names):\n",
    "    electrode_tsv[name] = info[:, i].tolist()\n",
    "\n",
    "# Load in channel names\n",
    "ch_names = electrode_tsv['name']\n",
    "\n",
    "# Load in the xyz coordinates as a float\n",
    "elec = np.empty(shape=(len(ch_names), 3))\n",
    "for ind, axis in enumerate(['x', 'y', 'z']):\n",
    "    elec[:, ind] = list(map(float, electrode_tsv[axis]))\n",
    "\n",
    "# Create mne montage\n",
    "montage = mne.channels.make_dig_montage(ch_pos=dict(zip(ch_names, elec / 1000)), coord_frame='mni_tal')\n",
    "print('Created %s channel positions' % len(ch_names))\n",
    "print(dict(zip(ch_names, elec)))\n",
    "\n",
    "# Set montage. Warning is issued if channels don't match. Consider getting locations for missing channels.\n",
    "raw.set_montage(montage, on_missing='warn')"
   ]
  },
  {
   "cell_type": "code",
   "execution_count": 34,
   "metadata": {},
   "outputs": [
    {
     "name": "stdout",
     "output_type": "stream",
     "text": [
      "Extracting parameters from C:\\Users\\ICN_admin\\Charité - Universitätsmedizin Berlin\\Interventional Cognitive Neuromodulation - Data\\Datasets\\BIDS Pittsburgh\\sub-000\\ses-right\\ieeg\\sub-000_ses-right_task-force_run-0_ieeg.vhdr...\n",
      "Setting channel info structure...\n",
      "\n",
      "Writing 'C:\\Users\\ICN_admin\\Charité - Universitätsmedizin Berlin\\Interventional Cognitive Neuromodulation - Data\\Datasets\\BIDS Pittsburgh\\participants.tsv'...\n",
      "\n",
      "participant_id\tage\tsex\tcenter_ID\tdisease\tcenter\tcurator\tUPDRS_total\tUPDRS_left\tUPDRS_right\tline_noise\tLength_of_diagnosis_prior_to_surgery\thand\n",
      "sub-000\tn/a\tF\tDBS4017\tPD\tUPMC\tRichardson\t28\t11\t9\t60\t10.7\tn/a\n",
      "sub-001\t51.2\tM\tDBS4029\tPD\tUPMC\tRichardson\t27\t5\t7\t60\t14\tn/a\n",
      "sub-002\t63.8\tM\tDBS4011\tPD\tUPMC\tRichardson\t40\t10\t16\t60\t4.5\tn/a\n",
      "sub-003\t54.7\tM\tDBS4020\tPD\tUPMC\tRichardson\tn/a\tn/a\tn/a\t60\t21.8\tn/a\n",
      "sub-004\t53.8\tM\tDBS4033\tPD\tUPMC\tRichardson\t33\t13\t13\t60\t7.2\tn/a\n",
      "\n",
      "Writing 'C:\\Users\\ICN_admin\\Charité - Universitätsmedizin Berlin\\Interventional Cognitive Neuromodulation - Data\\Datasets\\BIDS Pittsburgh\\participants.json'...\n",
      "\n",
      "{\n",
      "    \"participant_id\": {\n",
      "        \"Description\": \"Unique participant identifier\"\n",
      "    },\n",
      "    \"age\": {\n",
      "        \"Description\": \"Age of the participant at time of testing\",\n",
      "        \"Units\": \"years\"\n",
      "    },\n",
      "    \"sex\": {\n",
      "        \"Description\": \"Biological sex of the participant\",\n",
      "        \"Levels\": {\n",
      "            \"F\": \"female\",\n",
      "            \"M\": \"male\"\n",
      "        }\n",
      "    },\n",
      "    \"hand\": {\n",
      "        \"Description\": \"Handedness of the participant\",\n",
      "        \"Levels\": {\n",
      "            \"R\": \"right\",\n",
      "            \"L\": \"left\",\n",
      "            \"A\": \"ambidextrous\"\n",
      "        }\n",
      "    }\n",
      "}\n",
      "Writing electrodes file to...  C:\\Users\\ICN_admin\\Charité - Universitätsmedizin Berlin\\Interventional Cognitive Neuromodulation - Data\\Datasets\\BIDS Pittsburgh\\sub-000\\ses-right\\ieeg\\sub-000_ses-right_task-force_run-0_electrodes.tsv\n",
      "Writing coordsytem file to...  C:\\Users\\ICN_admin\\Charité - Universitätsmedizin Berlin\\Interventional Cognitive Neuromodulation - Data\\Datasets\\BIDS Pittsburgh\\sub-000\\ses-right\\ieeg\\sub-000_ses-right_coordsystem.json\n",
      "\n",
      "Writing 'C:\\Users\\ICN_admin\\Charité - Universitätsmedizin Berlin\\Interventional Cognitive Neuromodulation - Data\\Datasets\\BIDS Pittsburgh\\sub-000\\ses-right\\ieeg\\sub-000_ses-right_task-force_run-0_space-mni_electrodes.tsv'...\n",
      "\n",
      "name\tx\ty\tz\tsize\timpedance\n",
      "ECOG_RIGHT_0\t0.037318173999999996\t-0.048610126639999994\t0.06179765474\tn/a\tn/a\n",
      "ECOG_RIGHT_1\t0.0401598943\t-0.037315929830000004\t0.06431171618\tn/a\tn/a\n",
      "ECOG_RIGHT_2\t0.040943035780000005\t-0.02721778456\t0.06409518407999999\tn/a\tn/a\n",
      "ECOG_RIGHT_3\t0.03978395522\t-0.01700523081\t0.06386618136\tn/a\tn/a\n",
      "ECOG_RIGHT_4\t0.03968813641\t-0.005528024572\t0.06168254254\tn/a\tn/a\n",
      "Using the `Other` keyword for the CoordinateSystem field. Please specify the CoordinateSystemDescription field manually.\n",
      "\n",
      "Writing 'C:\\Users\\ICN_admin\\Charité - Universitätsmedizin Berlin\\Interventional Cognitive Neuromodulation - Data\\Datasets\\BIDS Pittsburgh\\sub-000\\ses-right\\ieeg\\sub-000_ses-right_space-mni_coordsystem.json'...\n",
      "\n",
      "{\n",
      "    \"iEEGCoordinateSystem\": \"Other\",\n",
      "    \"iEEGCoordinateSystemDescription\": \"n/a\",\n",
      "    \"iEEGCoordinateUnits\": \"m\"\n",
      "}\n"
     ]
    },
    {
     "name": "stderr",
     "output_type": "stream",
     "text": [
      "<ipython-input-34-91edfaef2876>:10: RuntimeWarning: No events found or provided. Please make sure to set channel type using raw.set_channel_types or provide events_data.\n",
      "  write_raw_bids(raw, bids_path, overwrite=True, verbose=True)\n"
     ]
    },
    {
     "ename": "ValueError",
     "evalue": "Previous BIDS version used, please redo the conversion to BIDS in a new directory after ensuring all software is updated",
     "output_type": "error",
     "traceback": [
      "\u001b[1;31m---------------------------------------------------------------------------\u001b[0m",
      "\u001b[1;31mValueError\u001b[0m                                Traceback (most recent call last)",
      "\u001b[1;32m<ipython-input-34-91edfaef2876>\u001b[0m in \u001b[0;36m<module>\u001b[1;34m\u001b[0m\n\u001b[0;32m      8\u001b[0m     \u001b[0mraw\u001b[0m \u001b[1;33m=\u001b[0m \u001b[0mmne\u001b[0m\u001b[1;33m.\u001b[0m\u001b[0mio\u001b[0m\u001b[1;33m.\u001b[0m\u001b[0mread_raw_fif\u001b[0m\u001b[1;33m(\u001b[0m\u001b[0mfname_fif\u001b[0m\u001b[1;33m,\u001b[0m \u001b[0mpreload\u001b[0m\u001b[1;33m=\u001b[0m\u001b[1;32mFalse\u001b[0m\u001b[1;33m,\u001b[0m \u001b[0mverbose\u001b[0m\u001b[1;33m=\u001b[0m\u001b[1;32mFalse\u001b[0m\u001b[1;33m)\u001b[0m\u001b[1;33m\u001b[0m\u001b[1;33m\u001b[0m\u001b[0m\n\u001b[0;32m      9\u001b[0m \u001b[1;33m\u001b[0m\u001b[0m\n\u001b[1;32m---> 10\u001b[1;33m \u001b[0mwrite_raw_bids\u001b[0m\u001b[1;33m(\u001b[0m\u001b[0mraw\u001b[0m\u001b[1;33m,\u001b[0m \u001b[0mbids_path\u001b[0m\u001b[1;33m,\u001b[0m \u001b[0moverwrite\u001b[0m\u001b[1;33m=\u001b[0m\u001b[1;32mTrue\u001b[0m\u001b[1;33m,\u001b[0m \u001b[0mverbose\u001b[0m\u001b[1;33m=\u001b[0m\u001b[1;32mTrue\u001b[0m\u001b[1;33m)\u001b[0m\u001b[1;33m\u001b[0m\u001b[1;33m\u001b[0m\u001b[0m\n\u001b[0m",
      "\u001b[1;32m~\\Anaconda3\\lib\\site-packages\\mne_bids\\write.py\u001b[0m in \u001b[0;36mwrite_raw_bids\u001b[1;34m(raw, bids_path, events_data, event_id, anonymize, overwrite, verbose)\u001b[0m\n\u001b[0;32m   1112\u001b[0m \u001b[1;33m\u001b[0m\u001b[0m\n\u001b[0;32m   1113\u001b[0m     make_dataset_description(bids_path.root, name=\" \", overwrite=overwrite,\n\u001b[1;32m-> 1114\u001b[1;33m                              verbose=verbose)\n\u001b[0m\u001b[0;32m   1115\u001b[0m \u001b[1;33m\u001b[0m\u001b[0m\n\u001b[0;32m   1116\u001b[0m     _sidecar_json(raw, bids_path.task, manufacturer, sidecar_path.fpath,\n",
      "\u001b[1;32m~\\Anaconda3\\lib\\site-packages\\mne_bids\\write.py\u001b[0m in \u001b[0;36mmake_dataset_description\u001b[1;34m(path, name, data_license, authors, acknowledgements, how_to_acknowledge, funding, references_and_links, doi, dataset_type, overwrite, verbose)\u001b[0m\n\u001b[0;32m    787\u001b[0m         \u001b[1;32mif\u001b[0m \u001b[1;34m'BIDSVersion'\u001b[0m \u001b[1;32min\u001b[0m \u001b[0morig_cols\u001b[0m \u001b[1;32mand\u001b[0m\u001b[0;31m \u001b[0m\u001b[0;31m\\\u001b[0m\u001b[1;33m\u001b[0m\u001b[1;33m\u001b[0m\u001b[0m\n\u001b[0;32m    788\u001b[0m                 \u001b[0morig_cols\u001b[0m\u001b[1;33m[\u001b[0m\u001b[1;34m'BIDSVersion'\u001b[0m\u001b[1;33m]\u001b[0m \u001b[1;33m!=\u001b[0m \u001b[0mBIDS_VERSION\u001b[0m\u001b[1;33m:\u001b[0m\u001b[1;33m\u001b[0m\u001b[1;33m\u001b[0m\u001b[0m\n\u001b[1;32m--> 789\u001b[1;33m             raise ValueError('Previous BIDS version used, please redo the '\n\u001b[0m\u001b[0;32m    790\u001b[0m                              \u001b[1;34m'conversion to BIDS in a new directory '\u001b[0m\u001b[1;33m\u001b[0m\u001b[1;33m\u001b[0m\u001b[0m\n\u001b[0;32m    791\u001b[0m                              'after ensuring all software is updated')\n",
      "\u001b[1;31mValueError\u001b[0m: Previous BIDS version used, please redo the conversion to BIDS in a new directory after ensuring all software is updated"
     ]
    }
   ],
   "source": [
    "# Write out files in BIDS format\n",
    "# Might issue SameFileError if no changes are made to raw. Can be ignored, since _ieeg files don't need to be overwritten.\n",
    "\n",
    "# Workaround, if raw data has been loaded.\n",
    "if raw.preload == True:\n",
    "    fname_fif = bids_path.directory / (bids_path.basename + 'raw.fif')\n",
    "    raw.save(fname_fif, proj=True, overwrite=True)\n",
    "    raw = mne.io.read_raw_fif(fname_fif, preload=False, verbose=False)\n",
    "\n",
    "write_raw_bids(raw, bids_path, overwrite=True, verbose=True)"
   ]
  },
  {
   "cell_type": "code",
   "execution_count": null,
   "metadata": {},
   "outputs": [],
   "source": []
  }
 ],
 "metadata": {
  "kernelspec": {
   "display_name": "Python 3",
   "language": "python",
   "name": "python3"
  },
  "language_info": {
   "codemirror_mode": {
    "name": "ipython",
    "version": 3
   },
   "file_extension": ".py",
   "mimetype": "text/x-python",
   "name": "python",
   "nbconvert_exporter": "python",
   "pygments_lexer": "ipython3",
   "version": "3.7.4"
  }
 },
 "nbformat": 4,
 "nbformat_minor": 4
}
