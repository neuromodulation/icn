{
 "cells": [
  {
   "cell_type": "code",
   "execution_count": null,
   "metadata": {},
   "outputs": [],
   "source": [
    "import os\n",
    "\n",
    "import IO"
   ]
  },
  {
   "cell_type": "code",
   "execution_count": null,
   "metadata": {},
   "outputs": [],
   "source": [
    "# If necessary, modify this template to interpolate missing LFP electrode localizations\n",
    "import numpy as np\n",
    "import pandas as pd\n",
    "\n",
    "df = pd.read_csv(electr_file, sep='\\t', header=0)\n",
    "print(df)\n",
    "L_2_4 = np.mean(df.loc[7:9,'x':'z'].to_numpy(), axis=0)\n",
    "L_5_7 = np.mean(df.loc[10:12,'x':'z'].to_numpy(), axis=0)\n",
    "R_2_4 = np.mean(df.loc[15:17,'x':'z'].to_numpy(), axis=0)\n",
    "R_5_7 = np.mean(df.loc[18:20,'x':'z'].to_numpy(), axis=0)\n",
    "df1 = pd.DataFrame([['LFP_STN_L_234',L_2_4[0],L_2_4[1],L_2_4[2], 4]],columns=df.columns)\n",
    "df2 = pd.DataFrame([['LFP_STN_L_567',L_5_7[0],L_5_7[1],L_5_7[2], 4]],columns=df.columns)\n",
    "df3 = pd.DataFrame([['LFP_STN_R_234',R_2_4[0],R_2_4[1],R_2_4[2], 4]],columns=df.columns)\n",
    "df4 = pd.DataFrame([['LFP_STN_R_567',R_5_7[0],R_5_7[1],R_5_7[2], 4]],columns=df.columns)\n",
    "df = df.append([df1,df2,df3,df4], ignore_index=True)\n",
    "print(df)\n",
    "df.to_csv(bids_path.directory / 'sub_002_electrodes2.tsv', sep='\\t', header=True, index=False)"
   ]
  },
  {
   "cell_type": "code",
   "execution_count": null,
   "metadata": {},
   "outputs": [],
   "source": [
    "bids_root = '/Users/richardkoehler/Documents/Neurology_Data/BIDS Peking/'\n",
    "outpath = '/Users/richardkoehler/Documents/Neurology_Data/BIDS Peking 2/'\n",
    "\n",
    "vhdr_files = IO.get_all_ieeg_files(bids_root)\n",
    "for vhdr_file in vhdr_files:\n",
    "    IO.write_bids(bids_root, os.path.basename(vhdr_file), outpath=outpath, )"
   ]
  }
 ],
 "metadata": {
  "kernelspec": {
   "display_name": "Python 3",
   "language": "python",
   "name": "python3"
  },
  "language_info": {
   "codemirror_mode": {
    "name": "ipython",
    "version": 3
   },
   "file_extension": ".py",
   "mimetype": "text/x-python",
   "name": "python",
   "nbconvert_exporter": "python",
   "pygments_lexer": "ipython3",
   "version": "3.8.5"
  }
 },
 "nbformat": 4,
 "nbformat_minor": 4
}
