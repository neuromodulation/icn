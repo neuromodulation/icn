{
 "cells": [
  {
   "cell_type": "code",
   "execution_count": null,
   "metadata": {},
   "outputs": [],
   "source": [
    "from collections import OrderedDict\n",
    "from pathlib import Path\n",
    "\n",
    "import mne\n",
    "from mne_bids import (BIDSPath, read_raw_bids, write_raw_bids)\n",
    "import numpy as np\n",
    "\n",
    "import IO"
   ]
  },
  {
   "cell_type": "code",
   "execution_count": null,
   "metadata": {},
   "outputs": [],
   "source": [
    "# Enter filename and BIDS root\n",
    "bids_root = Path('/Users/richardkoehler/Documents/Neurology_Data/BIDS Berlin/')\n",
    "filename = 'sub-002_ses-20200131_task-selfpacedrotation202001310001_run-4_ieeg'\n",
    "\n",
    "subject, session, task, run = IO.get_subject_sess_task_run(filename)\n",
    "dataype = 'ieeg'\n",
    "bids_path = BIDSPath(subject=subject, session=session, task=task, run=run, datatype=dataype, root=bids_root)"
   ]
  },
  {
   "cell_type": "code",
   "execution_count": null,
   "metadata": {},
   "outputs": [],
   "source": [
    "# If preload is set to TRUE, write_raw_bids might not work. Only load_data if necessary.\n",
    "raw = read_raw_bids(bids_path=bids_path, extra_params=dict(preload=False), verbose=False)"
   ]
  },
  {
   "cell_type": "code",
   "execution_count": null,
   "metadata": {},
   "outputs": [],
   "source": [
    "# Read in file containing electrode locations\n",
    "electr_file = bids_path.directory / 'sub-002_electrodes.tsv'\n",
    "\n",
    "data = np.loadtxt(electr_file, dtype=str, delimiter='\\t', comments=None, encoding='utf-8')\n",
    "column_names = data[0, :]\n",
    "info = data[1:, :]\n",
    "\n",
    "electrode_tsv = OrderedDict()\n",
    "for i, name in enumerate(column_names):\n",
    "    electrode_tsv[name] = info[:, i].tolist()\n",
    "\n",
    "# Load in channel names\n",
    "ch_names = electrode_tsv['name']\n",
    "\n",
    "# Load in the xyz coordinates as a float\n",
    "elec = np.empty(shape=(len(ch_names), 3))\n",
    "for ind, axis in enumerate(['x', 'y', 'z']):\n",
    "    elec[:, ind] = list(map(float, electrode_tsv[axis]))\n",
    "\n",
    "# Create mne montage\n",
    "montage = mne.channels.make_dig_montage(ch_pos=dict(zip(ch_names, elec)), coord_frame='mni_tal')\n",
    "print('Created %s channel positions' % len(ch_names))\n",
    "print(dict(zip(ch_names, elec)))\n",
    "\n",
    "# Set montage. Warning is issued if channels don't match. Consider getting locations for missing channels.\n",
    "raw.set_montage(montage, on_missing='warn')"
   ]
  },
  {
   "cell_type": "code",
   "execution_count": null,
   "metadata": {},
   "outputs": [],
   "source": [
    "# Write out files in BIDS format\n",
    "# Might issue SameFileError if no changes are made to raw. Can be ignored, since _ieeg files don't need to be overwritten.\n",
    "\n",
    "# Workaround, if raw data has been loaded.\n",
    "if raw.preload == True:\n",
    "    fname_fif = bids_path.directory / (bids_path.basename + 'raw.fif')\n",
    "    raw.save(fname_fif, proj=True, overwrite=True)\n",
    "    raw = mne.io.read_raw_fif(fname_fif, preload=False, verbose=False)\n",
    "\n",
    "write_raw_bids(raw, bids_path, overwrite=True, verbose=True)"
   ]
  }
 ],
 "metadata": {
  "kernelspec": {
   "display_name": "Python 3",
   "language": "python",
   "name": "python3"
  },
  "language_info": {
   "codemirror_mode": {
    "name": "ipython",
    "version": 3
   },
   "file_extension": ".py",
   "mimetype": "text/x-python",
   "name": "python",
   "nbconvert_exporter": "python",
   "pygments_lexer": "ipython3",
   "version": "3.8.5"
  }
 },
 "nbformat": 4,
 "nbformat_minor": 4
}
