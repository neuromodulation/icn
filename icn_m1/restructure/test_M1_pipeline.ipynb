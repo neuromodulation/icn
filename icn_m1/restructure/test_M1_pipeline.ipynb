{
 "cells": [
  {
   "cell_type": "code",
   "execution_count": 2,
   "metadata": {},
   "outputs": [],
   "source": [
    "import filter\n",
    "import IO\n",
    "import settings\n",
    "import numpy as np\n",
    "import json\n",
    "import os\n",
    "import pickle \n",
    "from matplotlib import pyplot as plt\n",
    "import scipy\n",
    "import mne"
   ]
  },
  {
   "cell_type": "code",
   "execution_count": 8,
   "metadata": {},
   "outputs": [],
   "source": [
    "with open('settings\\\\settings.json', 'rb') as f:\n",
    "        settings = json.load(f)"
   ]
  },
  {
   "cell_type": "code",
   "execution_count": 9,
   "metadata": {},
   "outputs": [
    {
     "data": {
      "text/plain": [
       "{'BIDS_path': 'C:\\\\Users\\\\ICN_admin\\\\Charité - Universitätsmedizin Berlin\\\\Interventional Cognitive Neuromodulation - Data\\\\BIDS Berlin',\n",
       " 'out_path': 'C:\\\\Users\\\\ICN_admin\\\\Documents\\\\icn\\\\icn_m1\\\\restructure\\\\BIDS_Berlin_M1',\n",
       " 'resamplingrate': 10,\n",
       " 'max_dist_cortex': 20,\n",
       " 'max_dist_subcortex': 5,\n",
       " 'normalization_time': 10,\n",
       " 'frequencyranges': [[4, 8],\n",
       "  [8, 12],\n",
       "  [13, 20],\n",
       "  [20, 35],\n",
       "  [13, 35],\n",
       "  [60, 80],\n",
       "  [90, 200],\n",
       "  [60, 200]],\n",
       " 'seglengths': [1, 2, 2, 3, 3, 3, 10, 10, 10]}"
      ]
     },
     "execution_count": 9,
     "metadata": {},
     "output_type": "execute_result"
    }
   ],
   "source": [
    "settings"
   ]
  },
  {
   "cell_type": "code",
   "execution_count": 10,
   "metadata": {},
   "outputs": [],
   "source": [
    "ieeg_files = IO.get_all_ieeg_files(settings['BIDS_path'])"
   ]
  },
  {
   "cell_type": "code",
   "execution_count": 11,
   "metadata": {
    "scrolled": true
   },
   "outputs": [
    {
     "data": {
      "text/plain": [
       "['C:\\\\Users\\\\ICN_admin\\\\Charité - Universitätsmedizin Berlin\\\\Interventional Cognitive Neuromodulation - Data\\\\BIDS Berlin\\\\sub-002\\\\ses-20200130\\\\ieeg\\\\sub-002_ses-20200130_task-restMEDON20200130T111458_run-0_ieeg.vhdr',\n",
       " 'C:\\\\Users\\\\ICN_admin\\\\Charité - Universitätsmedizin Berlin\\\\Interventional Cognitive Neuromodulation - Data\\\\BIDS Berlin\\\\sub-002\\\\ses-20200130\\\\ieeg\\\\sub-002_ses-20200130_task-restMEDONAVGREF20200130T112142_run-1_ieeg.vhdr',\n",
       " 'C:\\\\Users\\\\ICN_admin\\\\Charité - Universitätsmedizin Berlin\\\\Interventional Cognitive Neuromodulation - Data\\\\BIDS Berlin\\\\sub-002\\\\ses-20200131\\\\ieeg\\\\sub-002_ses-20200131_task-evoked202001310001_run-0_ieeg.vhdr',\n",
       " 'C:\\\\Users\\\\ICN_admin\\\\Charité - Universitätsmedizin Berlin\\\\Interventional Cognitive Neuromodulation - Data\\\\BIDS Berlin\\\\sub-002\\\\ses-20200131\\\\ieeg\\\\sub-002_ses-20200131_task-evoked202001310002_run-1_ieeg.vhdr',\n",
       " 'C:\\\\Users\\\\ICN_admin\\\\Charité - Universitätsmedizin Berlin\\\\Interventional Cognitive Neuromodulation - Data\\\\BIDS Berlin\\\\sub-002\\\\ses-20200131\\\\ieeg\\\\sub-002_ses-20200131_task-evoked202001310003_run-2_ieeg.vhdr',\n",
       " 'C:\\\\Users\\\\ICN_admin\\\\Charité - Universitätsmedizin Berlin\\\\Interventional Cognitive Neuromodulation - Data\\\\BIDS Berlin\\\\sub-002\\\\ses-20200131\\\\ieeg\\\\sub-002_ses-20200131_task-rest202001310001_run-3_ieeg.vhdr',\n",
       " 'C:\\\\Users\\\\ICN_admin\\\\Charité - Universitätsmedizin Berlin\\\\Interventional Cognitive Neuromodulation - Data\\\\BIDS Berlin\\\\sub-002\\\\ses-20200131\\\\ieeg\\\\sub-002_ses-20200131_task-restAGREF20200131T104719_run-5_ieeg.vhdr',\n",
       " 'C:\\\\Users\\\\ICN_admin\\\\Charité - Universitätsmedizin Berlin\\\\Interventional Cognitive Neuromodulation - Data\\\\BIDS Berlin\\\\sub-002\\\\ses-20200131\\\\ieeg\\\\sub-002_ses-20200131_task-restMEDON20200130T111458_run-7_ieeg.vhdr',\n",
       " 'C:\\\\Users\\\\ICN_admin\\\\Charité - Universitätsmedizin Berlin\\\\Interventional Cognitive Neuromodulation - Data\\\\BIDS Berlin\\\\sub-002\\\\ses-20200131\\\\ieeg\\\\sub-002_ses-20200131_task-restMEDONAVGREF20200130T112142_run-6_ieeg.vhdr',\n",
       " 'C:\\\\Users\\\\ICN_admin\\\\Charité - Universitätsmedizin Berlin\\\\Interventional Cognitive Neuromodulation - Data\\\\BIDS Berlin\\\\sub-002\\\\ses-20200131\\\\ieeg\\\\sub-002_ses-20200131_task-restSTNR8REF20200131T105228_run-8_ieeg.vhdr',\n",
       " 'C:\\\\Users\\\\ICN_admin\\\\Charité - Universitätsmedizin Berlin\\\\Interventional Cognitive Neuromodulation - Data\\\\BIDS Berlin\\\\sub-002\\\\ses-20200131\\\\ieeg\\\\sub-002_ses-20200131_task-selfpacedrotation202001310001_run-4_ieeg.vhdr',\n",
       " 'C:\\\\Users\\\\ICN_admin\\\\Charité - Universitätsmedizin Berlin\\\\Interventional Cognitive Neuromodulation - Data\\\\BIDS Berlin\\\\sub-002\\\\ses-20200131\\\\ieeg\\\\sub-002_ses-20200131_task-speechSTN8REF20200131T105546_run-9_ieeg.vhdr',\n",
       " 'C:\\\\Users\\\\ICN_admin\\\\Charité - Universitätsmedizin Berlin\\\\Interventional Cognitive Neuromodulation - Data\\\\BIDS Berlin\\\\sub-002\\\\ses-20200201\\\\ieeg\\\\sub-002_ses-20200201_task-restEARLOBEREF_run-5_ieeg.vhdr',\n",
       " 'C:\\\\Users\\\\ICN_admin\\\\Charité - Universitätsmedizin Berlin\\\\Interventional Cognitive Neuromodulation - Data\\\\BIDS Berlin\\\\sub-002\\\\ses-20200201\\\\ieeg\\\\sub-002_ses-20200201_task-restGREF20200201T113050_run-6_ieeg.vhdr',\n",
       " 'C:\\\\Users\\\\ICN_admin\\\\Charité - Universitätsmedizin Berlin\\\\Interventional Cognitive Neuromodulation - Data\\\\BIDS Berlin\\\\sub-002\\\\ses-20200201\\\\ieeg\\\\sub-002_ses-20200201_task-restSTIM2Hz_run-4_ieeg.vhdr',\n",
       " 'C:\\\\Users\\\\ICN_admin\\\\Charité - Universitätsmedizin Berlin\\\\Interventional Cognitive Neuromodulation - Data\\\\BIDS Berlin\\\\sub-002\\\\ses-20200201\\\\ieeg\\\\sub-002_ses-20200201_task-restSTIMOFF202002013_run-0_ieeg.vhdr',\n",
       " 'C:\\\\Users\\\\ICN_admin\\\\Charité - Universitätsmedizin Berlin\\\\Interventional Cognitive Neuromodulation - Data\\\\BIDS Berlin\\\\sub-002\\\\ses-20200201\\\\ieeg\\\\sub-002_ses-20200201_task-restSTIMONSTNL1TO0DOT8mA_run-1_ieeg.vhdr',\n",
       " 'C:\\\\Users\\\\ICN_admin\\\\Charité - Universitätsmedizin Berlin\\\\Interventional Cognitive Neuromodulation - Data\\\\BIDS Berlin\\\\sub-002\\\\ses-20200201\\\\ieeg\\\\sub-002_ses-20200201_task-restSTNR8REF20200201T114227_run-7_ieeg.vhdr',\n",
       " 'C:\\\\Users\\\\ICN_admin\\\\Charité - Universitätsmedizin Berlin\\\\Interventional Cognitive Neuromodulation - Data\\\\BIDS Berlin\\\\sub-002\\\\ses-20200201\\\\ieeg\\\\sub-002_ses-20200201_task-selfpacedrotationSTIMOFF_run-2_ieeg.vhdr',\n",
       " 'C:\\\\Users\\\\ICN_admin\\\\Charité - Universitätsmedizin Berlin\\\\Interventional Cognitive Neuromodulation - Data\\\\BIDS Berlin\\\\sub-002\\\\ses-20200201\\\\ieeg\\\\sub-002_ses-20200201_task-selfpacedrotationSTIMONL18TO0DOT8_run-3_ieeg.vhdr',\n",
       " 'C:\\\\Users\\\\ICN_admin\\\\Charité - Universitätsmedizin Berlin\\\\Interventional Cognitive Neuromodulation - Data\\\\BIDS Berlin\\\\sub-003\\\\ses-20201107\\\\ieeg\\\\sub-003_ses-20201107_task-RotameterbradyOnRefStnr_run-0_ieeg.vhdr',\n",
       " 'C:\\\\Users\\\\ICN_admin\\\\Charité - Universitätsmedizin Berlin\\\\Interventional Cognitive Neuromodulation - Data\\\\BIDS Berlin\\\\sub-003\\\\ses-20201107\\\\ieeg\\\\sub-003_ses-20201107_task-SelfpacedOnRefSTNR110010001_run-1_ieeg.vhdr',\n",
       " 'C:\\\\Users\\\\ICN_admin\\\\Charité - Universitätsmedizin Berlin\\\\Interventional Cognitive Neuromodulation - Data\\\\BIDS Berlin\\\\sub-004\\\\ses-20200308\\\\ieeg\\\\sub-004_ses-20200308_task-rest5minStimOnLeftSTN0001_run-2_ieeg.vhdr',\n",
       " 'C:\\\\Users\\\\ICN_admin\\\\Charité - Universitätsmedizin Berlin\\\\Interventional Cognitive Neuromodulation - Data\\\\BIDS Berlin\\\\sub-004\\\\ses-20200308\\\\ieeg\\\\sub-004_ses-20200308_task-rest5minStimOn_run-1_ieeg.vhdr',\n",
       " 'C:\\\\Users\\\\ICN_admin\\\\Charité - Universitätsmedizin Berlin\\\\Interventional Cognitive Neuromodulation - Data\\\\BIDS Berlin\\\\sub-004\\\\ses-20200308\\\\ieeg\\\\sub-004_ses-20200308_task-rest5min_run-0_ieeg.vhdr',\n",
       " 'C:\\\\Users\\\\ICN_admin\\\\Charité - Universitätsmedizin Berlin\\\\Interventional Cognitive Neuromodulation - Data\\\\BIDS Berlin\\\\sub-004\\\\ses-20200308\\\\ieeg\\\\sub-004_ses-20200308_task-rotameterLefOffstim0001_run-3_ieeg.vhdr',\n",
       " 'C:\\\\Users\\\\ICN_admin\\\\Charité - Universitätsmedizin Berlin\\\\Interventional Cognitive Neuromodulation - Data\\\\BIDS Berlin\\\\sub-004\\\\ses-20200308\\\\ieeg\\\\sub-004_ses-20200308_task-rotameterRightOffstim0001_run-4_ieeg.vhdr',\n",
       " 'C:\\\\Users\\\\ICN_admin\\\\Charité - Universitätsmedizin Berlin\\\\Interventional Cognitive Neuromodulation - Data\\\\BIDS Berlin\\\\sub-004\\\\ses-20200308\\\\ieeg\\\\sub-004_ses-20200308_task-rotameterRightOnstim0002_run-5_ieeg.vhdr',\n",
       " 'C:\\\\Users\\\\ICN_admin\\\\Charité - Universitätsmedizin Berlin\\\\Interventional Cognitive Neuromodulation - Data\\\\BIDS Berlin\\\\sub-004\\\\ses-20200308\\\\ieeg\\\\sub-004_ses-20200308_task-testStim0001_run-6_ieeg.vhdr',\n",
       " 'C:\\\\Users\\\\ICN_admin\\\\Charité - Universitätsmedizin Berlin\\\\Interventional Cognitive Neuromodulation - Data\\\\BIDS Berlin\\\\sub-004\\\\ses-20200308\\\\ieeg\\\\sub-004_ses-20200308_task-testStimLeft0001_run-6_ieeg.vhdr',\n",
       " 'C:\\\\Users\\\\ICN_admin\\\\Charité - Universitätsmedizin Berlin\\\\Interventional Cognitive Neuromodulation - Data\\\\BIDS Berlin\\\\sub-004\\\\ses-20200308\\\\ieeg\\\\sub-004_ses-20200308_task-testStimRight0001_run-7_ieeg.vhdr',\n",
       " 'C:\\\\Users\\\\ICN_admin\\\\Charité - Universitätsmedizin Berlin\\\\Interventional Cognitive Neuromodulation - Data\\\\BIDS Berlin\\\\sub-004\\\\ses-20200730\\\\ieeg\\\\sub-004_ses-20200730_task-MED2xLTREFSTNR1_run-0_ieeg.vhdr',\n",
       " 'C:\\\\Users\\\\ICN_admin\\\\Charité - Universitätsmedizin Berlin\\\\Interventional Cognitive Neuromodulation - Data\\\\BIDS Berlin\\\\sub-004\\\\ses-20200730\\\\ieeg\\\\sub-004_ses-20200730_task-OFF2xLTLONG_run-1_ieeg.vhdr',\n",
       " 'C:\\\\Users\\\\ICN_admin\\\\Charité - Universitätsmedizin Berlin\\\\Interventional Cognitive Neuromodulation - Data\\\\BIDS Berlin\\\\sub-004\\\\ses-20200730\\\\ieeg\\\\sub-004_ses-20200730_task-ON2xLTRefSTNR1_run-1_ieeg.vhdr',\n",
       " 'C:\\\\Users\\\\ICN_admin\\\\Charité - Universitätsmedizin Berlin\\\\Interventional Cognitive Neuromodulation - Data\\\\BIDS Berlin\\\\sub-004\\\\ses-20200730\\\\ieeg\\\\sub-004_ses-20200730_task-ON2xLTRefSTNR1_run-2_ieeg.vhdr',\n",
       " 'C:\\\\Users\\\\ICN_admin\\\\Charité - Universitätsmedizin Berlin\\\\Interventional Cognitive Neuromodulation - Data\\\\BIDS Berlin\\\\sub-004\\\\ses-20200730\\\\ieeg\\\\sub-004_ses-20200730_task-ONRest2xLTRefSTNR1_run-3_ieeg.vhdr',\n",
       " 'C:\\\\Users\\\\ICN_admin\\\\Charité - Universitätsmedizin Berlin\\\\Interventional Cognitive Neuromodulation - Data\\\\BIDS Berlin\\\\sub-004\\\\ses-20200730\\\\ieeg\\\\sub-004_ses-20200730_task-ONRestRefCAvg_run-4_ieeg.vhdr',\n",
       " 'C:\\\\Users\\\\ICN_admin\\\\Charité - Universitätsmedizin Berlin\\\\Interventional Cognitive Neuromodulation - Data\\\\BIDS Berlin\\\\sub-004\\\\ses-20200730\\\\ieeg\\\\sub-004_ses-20200730_task-ONRestRefMastoid_run-5_ieeg.vhdr',\n",
       " 'C:\\\\Users\\\\ICN_admin\\\\Charité - Universitätsmedizin Berlin\\\\Interventional Cognitive Neuromodulation - Data\\\\BIDS Berlin\\\\sub-004\\\\ses-20200730\\\\ieeg\\\\sub-004_ses-20200730_task-ONRotaBlockLRefSTNR1_run-6_ieeg.vhdr',\n",
       " 'C:\\\\Users\\\\ICN_admin\\\\Charité - Universitätsmedizin Berlin\\\\Interventional Cognitive Neuromodulation - Data\\\\BIDS Berlin\\\\sub-004\\\\ses-20200730\\\\ieeg\\\\sub-004_ses-20200730_task-ONRotaBlockRig2xLTRefSTNR1_run-7_ieeg.vhdr',\n",
       " 'C:\\\\Users\\\\ICN_admin\\\\Charité - Universitätsmedizin Berlin\\\\Interventional Cognitive Neuromodulation - Data\\\\BIDS Berlin\\\\sub-004\\\\ses-20200730\\\\ieeg\\\\sub-004_ses-20200730_task-OnRotaSelfpR2xLTRefSTNR1_run-8_ieeg.vhdr',\n",
       " 'C:\\\\Users\\\\ICN_admin\\\\Charité - Universitätsmedizin Berlin\\\\Interventional Cognitive Neuromodulation - Data\\\\BIDS Berlin\\\\sub-004\\\\ses-20200730\\\\ieeg\\\\sub-004_ses-20200730_task-ONSelfpacedBlockLRefStnr1_run-9_ieeg.vhdr',\n",
       " 'C:\\\\Users\\\\ICN_admin\\\\Charité - Universitätsmedizin Berlin\\\\Interventional Cognitive Neuromodulation - Data\\\\BIDS Berlin\\\\sub-004\\\\ses-20200730\\\\ieeg\\\\sub-004_ses-20200730_task-ONSpeech2xLTRefSTNR1_run-10_ieeg.vhdr',\n",
       " 'C:\\\\Users\\\\ICN_admin\\\\Charité - Universitätsmedizin Berlin\\\\Interventional Cognitive Neuromodulation - Data\\\\BIDS Berlin\\\\sub-004\\\\ses-20200730\\\\ieeg\\\\sub-004_ses-20200730_task-RestOffRefMastoid_run-11_ieeg.vhdr',\n",
       " 'C:\\\\Users\\\\ICN_admin\\\\Charité - Universitätsmedizin Berlin\\\\Interventional Cognitive Neuromodulation - Data\\\\BIDS Berlin\\\\sub-004\\\\ses-20200730\\\\ieeg\\\\sub-004_ses-20200730_task-RestOffRefSTNR1_run-12_ieeg.vhdr',\n",
       " 'C:\\\\Users\\\\ICN_admin\\\\Charité - Universitätsmedizin Berlin\\\\Interventional Cognitive Neuromodulation - Data\\\\BIDS Berlin\\\\sub-004\\\\ses-20200730\\\\ieeg\\\\sub-004_ses-20200730_task-rotaBlockOffLeftRefSTNR1_run-13_ieeg.vhdr',\n",
       " 'C:\\\\Users\\\\ICN_admin\\\\Charité - Universitätsmedizin Berlin\\\\Interventional Cognitive Neuromodulation - Data\\\\BIDS Berlin\\\\sub-004\\\\ses-20200730\\\\ieeg\\\\sub-004_ses-20200730_task-rotaBlockOffRefSTNR1_run-14_ieeg.vhdr',\n",
       " 'C:\\\\Users\\\\ICN_admin\\\\Charité - Universitätsmedizin Berlin\\\\Interventional Cognitive Neuromodulation - Data\\\\BIDS Berlin\\\\sub-004\\\\ses-20200730\\\\ieeg\\\\sub-004_ses-20200730_task-RotaSelfpaceOFFLeftRefSTNR1_run-15_ieeg.vhdr',\n",
       " 'C:\\\\Users\\\\ICN_admin\\\\Charité - Universitätsmedizin Berlin\\\\Interventional Cognitive Neuromodulation - Data\\\\BIDS Berlin\\\\sub-004\\\\ses-20200730\\\\ieeg\\\\sub-004_ses-20200730_task-RotaSelfpaceOFFRefSTNR1_run-16_ieeg.vhdr',\n",
       " 'C:\\\\Users\\\\ICN_admin\\\\Charité - Universitätsmedizin Berlin\\\\Interventional Cognitive Neuromodulation - Data\\\\BIDS Berlin\\\\sub-004\\\\ses-20200730\\\\ieeg\\\\sub-004_ses-20200730_task-SpeechRefSTNR1_run-17_ieeg.vhdr',\n",
       " 'C:\\\\Users\\\\ICN_admin\\\\Charité - Universitätsmedizin Berlin\\\\Interventional Cognitive Neuromodulation - Data\\\\BIDS Berlin\\\\sub-004\\\\ses-20200730\\\\ieeg\\\\sub-004_ses-20200730_task-UPDRSIIIOffRefSTNR1_run-18_ieeg.vhdr']"
      ]
     },
     "execution_count": 11,
     "metadata": {},
     "output_type": "execute_result"
    }
   ],
   "source": [
    "ieeg_files"
   ]
  },
  {
   "cell_type": "code",
   "execution_count": 12,
   "metadata": {},
   "outputs": [],
   "source": [
    "subject, run, sess = IO.get_sess_run_subject(ieeg_files[0])"
   ]
  },
  {
   "cell_type": "code",
   "execution_count": 13,
   "metadata": {},
   "outputs": [
    {
     "data": {
      "text/plain": [
       "'002'"
      ]
     },
     "execution_count": 13,
     "metadata": {},
     "output_type": "execute_result"
    }
   ],
   "source": [
    "subject"
   ]
  },
  {
   "cell_type": "code",
   "execution_count": 14,
   "metadata": {},
   "outputs": [
    {
     "data": {
      "text/plain": [
       "'0'"
      ]
     },
     "execution_count": 14,
     "metadata": {},
     "output_type": "execute_result"
    }
   ],
   "source": [
    "run"
   ]
  },
  {
   "cell_type": "code",
   "execution_count": 15,
   "metadata": {},
   "outputs": [
    {
     "data": {
      "text/plain": [
       "'20200130'"
      ]
     },
     "execution_count": 15,
     "metadata": {},
     "output_type": "execute_result"
    }
   ],
   "source": [
    "sess"
   ]
  },
  {
   "cell_type": "code",
   "execution_count": 16,
   "metadata": {},
   "outputs": [],
   "source": [
    "sf=IO.read_run_sampling_frequency(ieeg_files[0])"
   ]
  },
  {
   "cell_type": "code",
   "execution_count": 17,
   "metadata": {
    "scrolled": true
   },
   "outputs": [
    {
     "data": {
      "text/plain": [
       "0     4098.360656\n",
       "1     4098.360656\n",
       "2     4098.360656\n",
       "3     4098.360656\n",
       "4     4098.360656\n",
       "5     4098.360656\n",
       "6     4098.360656\n",
       "7     4098.360656\n",
       "8     4098.360656\n",
       "9     4098.360656\n",
       "10    4098.360656\n",
       "11    4098.360656\n",
       "12    4098.360656\n",
       "13    4098.360656\n",
       "14    4098.360656\n",
       "15    4098.360656\n",
       "16    4098.360656\n",
       "17    4098.360656\n",
       "18    4098.360656\n",
       "19    4098.360656\n",
       "20    4098.360656\n",
       "21    4098.360656\n",
       "22    4098.360656\n",
       "23    4098.360656\n",
       "24    4098.360656\n",
       "25    4098.360656\n",
       "26    4098.360656\n",
       "Name: sampling_frequency, dtype: float64"
      ]
     },
     "execution_count": 17,
     "metadata": {},
     "output_type": "execute_result"
    }
   ],
   "source": [
    "sf"
   ]
  },
  {
   "cell_type": "code",
   "execution_count": 18,
   "metadata": {
    "scrolled": true
   },
   "outputs": [
    {
     "ename": "FileNotFoundError",
     "evalue": "[Errno 2] File b'C:\\\\Users\\\\ICN_admin\\\\Charit\\xc3\\xa9 - Universit\\xc3\\xa4tsmedizin Berlin\\\\Interventional Cognitive Neuromodulation - Data\\\\BIDS Berlinparticipants.tsv' does not exist: b'C:\\\\Users\\\\ICN_admin\\\\Charit\\xc3\\xa9 - Universit\\xc3\\xa4tsmedizin Berlin\\\\Interventional Cognitive Neuromodulation - Data\\\\BIDS Berlinparticipants.tsv'",
     "output_type": "error",
     "traceback": [
      "\u001b[1;31m---------------------------------------------------------------------------\u001b[0m",
      "\u001b[1;31mFileNotFoundError\u001b[0m                         Traceback (most recent call last)",
      "\u001b[1;32m<ipython-input-18-8cda130f88f6>\u001b[0m in \u001b[0;36m<module>\u001b[1;34m\u001b[0m\n\u001b[1;32m----> 1\u001b[1;33m \u001b[0mline_noise\u001b[0m \u001b[1;33m=\u001b[0m \u001b[0mIO\u001b[0m\u001b[1;33m.\u001b[0m\u001b[0mread_line_noise\u001b[0m\u001b[1;33m(\u001b[0m\u001b[0msettings\u001b[0m\u001b[1;33m[\u001b[0m\u001b[1;34m'BIDS_path'\u001b[0m\u001b[1;33m]\u001b[0m\u001b[1;33m,\u001b[0m\u001b[1;34m\"002\"\u001b[0m\u001b[1;33m)\u001b[0m\u001b[1;33m\u001b[0m\u001b[1;33m\u001b[0m\u001b[0m\n\u001b[0m",
      "\u001b[1;32m~\\Documents\\icn\\icn_m1\\restructure\\IO.py\u001b[0m in \u001b[0;36mread_line_noise\u001b[1;34m(BIDS_path, subject)\u001b[0m\n\u001b[0;32m    200\u001b[0m     \u001b[1;32mreturn\u001b[0m \u001b[0mthe\u001b[0m \u001b[0mline\u001b[0m \u001b[0mnoise\u001b[0m \u001b[1;32mfor\u001b[0m \u001b[0ma\u001b[0m \u001b[0mgiven\u001b[0m \u001b[0msubject\u001b[0m \u001b[1;33m(\u001b[0m\u001b[1;32min\u001b[0m \u001b[0mshape\u001b[0m \u001b[1;34m'000'\u001b[0m\u001b[1;33m)\u001b[0m \u001b[1;32mfrom\u001b[0m \u001b[0mparticipants\u001b[0m\u001b[1;33m.\u001b[0m\u001b[0mtsv\u001b[0m\u001b[1;33m\u001b[0m\u001b[1;33m\u001b[0m\u001b[0m\n\u001b[0;32m    201\u001b[0m     \"\"\"\n\u001b[1;32m--> 202\u001b[1;33m     \u001b[0mdf\u001b[0m \u001b[1;33m=\u001b[0m \u001b[0mpd\u001b[0m\u001b[1;33m.\u001b[0m\u001b[0mread_csv\u001b[0m\u001b[1;33m(\u001b[0m\u001b[0mBIDS_path\u001b[0m\u001b[1;33m+\u001b[0m\u001b[1;34m'participants.tsv'\u001b[0m\u001b[1;33m,\u001b[0m \u001b[0msep\u001b[0m\u001b[1;33m=\u001b[0m\u001b[1;34m\"\\t\"\u001b[0m\u001b[1;33m)\u001b[0m\u001b[1;33m\u001b[0m\u001b[1;33m\u001b[0m\u001b[0m\n\u001b[0m\u001b[0;32m    203\u001b[0m     \u001b[0mrow_\u001b[0m \u001b[1;33m=\u001b[0m \u001b[0mnp\u001b[0m\u001b[1;33m.\u001b[0m\u001b[0mwhere\u001b[0m\u001b[1;33m(\u001b[0m\u001b[0mdf\u001b[0m\u001b[1;33m[\u001b[0m\u001b[1;34m'participant_id'\u001b[0m\u001b[1;33m]\u001b[0m \u001b[1;33m==\u001b[0m \u001b[1;34m'sub-'\u001b[0m\u001b[1;33m+\u001b[0m\u001b[0mstr\u001b[0m\u001b[1;33m(\u001b[0m\u001b[0msubject\u001b[0m\u001b[1;33m)\u001b[0m\u001b[1;33m)\u001b[0m\u001b[1;33m[\u001b[0m\u001b[1;36m0\u001b[0m\u001b[1;33m]\u001b[0m\u001b[1;33m[\u001b[0m\u001b[1;36m0\u001b[0m\u001b[1;33m]\u001b[0m\u001b[1;33m\u001b[0m\u001b[1;33m\u001b[0m\u001b[0m\n\u001b[0;32m    204\u001b[0m     \u001b[1;32mreturn\u001b[0m \u001b[0mdf\u001b[0m\u001b[1;33m.\u001b[0m\u001b[0miloc\u001b[0m\u001b[1;33m[\u001b[0m\u001b[0mrow_\u001b[0m\u001b[1;33m]\u001b[0m\u001b[1;33m[\u001b[0m\u001b[1;34m'line_noise'\u001b[0m\u001b[1;33m]\u001b[0m\u001b[1;33m\u001b[0m\u001b[1;33m\u001b[0m\u001b[0m\n",
      "\u001b[1;32m~\\Anaconda3\\lib\\site-packages\\pandas\\io\\parsers.py\u001b[0m in \u001b[0;36mparser_f\u001b[1;34m(filepath_or_buffer, sep, delimiter, header, names, index_col, usecols, squeeze, prefix, mangle_dupe_cols, dtype, engine, converters, true_values, false_values, skipinitialspace, skiprows, skipfooter, nrows, na_values, keep_default_na, na_filter, verbose, skip_blank_lines, parse_dates, infer_datetime_format, keep_date_col, date_parser, dayfirst, cache_dates, iterator, chunksize, compression, thousands, decimal, lineterminator, quotechar, quoting, doublequote, escapechar, comment, encoding, dialect, error_bad_lines, warn_bad_lines, delim_whitespace, low_memory, memory_map, float_precision)\u001b[0m\n\u001b[0;32m    683\u001b[0m         )\n\u001b[0;32m    684\u001b[0m \u001b[1;33m\u001b[0m\u001b[0m\n\u001b[1;32m--> 685\u001b[1;33m         \u001b[1;32mreturn\u001b[0m \u001b[0m_read\u001b[0m\u001b[1;33m(\u001b[0m\u001b[0mfilepath_or_buffer\u001b[0m\u001b[1;33m,\u001b[0m \u001b[0mkwds\u001b[0m\u001b[1;33m)\u001b[0m\u001b[1;33m\u001b[0m\u001b[1;33m\u001b[0m\u001b[0m\n\u001b[0m\u001b[0;32m    686\u001b[0m \u001b[1;33m\u001b[0m\u001b[0m\n\u001b[0;32m    687\u001b[0m     \u001b[0mparser_f\u001b[0m\u001b[1;33m.\u001b[0m\u001b[0m__name__\u001b[0m \u001b[1;33m=\u001b[0m \u001b[0mname\u001b[0m\u001b[1;33m\u001b[0m\u001b[1;33m\u001b[0m\u001b[0m\n",
      "\u001b[1;32m~\\Anaconda3\\lib\\site-packages\\pandas\\io\\parsers.py\u001b[0m in \u001b[0;36m_read\u001b[1;34m(filepath_or_buffer, kwds)\u001b[0m\n\u001b[0;32m    455\u001b[0m \u001b[1;33m\u001b[0m\u001b[0m\n\u001b[0;32m    456\u001b[0m     \u001b[1;31m# Create the parser.\u001b[0m\u001b[1;33m\u001b[0m\u001b[1;33m\u001b[0m\u001b[1;33m\u001b[0m\u001b[0m\n\u001b[1;32m--> 457\u001b[1;33m     \u001b[0mparser\u001b[0m \u001b[1;33m=\u001b[0m \u001b[0mTextFileReader\u001b[0m\u001b[1;33m(\u001b[0m\u001b[0mfp_or_buf\u001b[0m\u001b[1;33m,\u001b[0m \u001b[1;33m**\u001b[0m\u001b[0mkwds\u001b[0m\u001b[1;33m)\u001b[0m\u001b[1;33m\u001b[0m\u001b[1;33m\u001b[0m\u001b[0m\n\u001b[0m\u001b[0;32m    458\u001b[0m \u001b[1;33m\u001b[0m\u001b[0m\n\u001b[0;32m    459\u001b[0m     \u001b[1;32mif\u001b[0m \u001b[0mchunksize\u001b[0m \u001b[1;32mor\u001b[0m \u001b[0miterator\u001b[0m\u001b[1;33m:\u001b[0m\u001b[1;33m\u001b[0m\u001b[1;33m\u001b[0m\u001b[0m\n",
      "\u001b[1;32m~\\Anaconda3\\lib\\site-packages\\pandas\\io\\parsers.py\u001b[0m in \u001b[0;36m__init__\u001b[1;34m(self, f, engine, **kwds)\u001b[0m\n\u001b[0;32m    893\u001b[0m             \u001b[0mself\u001b[0m\u001b[1;33m.\u001b[0m\u001b[0moptions\u001b[0m\u001b[1;33m[\u001b[0m\u001b[1;34m\"has_index_names\"\u001b[0m\u001b[1;33m]\u001b[0m \u001b[1;33m=\u001b[0m \u001b[0mkwds\u001b[0m\u001b[1;33m[\u001b[0m\u001b[1;34m\"has_index_names\"\u001b[0m\u001b[1;33m]\u001b[0m\u001b[1;33m\u001b[0m\u001b[1;33m\u001b[0m\u001b[0m\n\u001b[0;32m    894\u001b[0m \u001b[1;33m\u001b[0m\u001b[0m\n\u001b[1;32m--> 895\u001b[1;33m         \u001b[0mself\u001b[0m\u001b[1;33m.\u001b[0m\u001b[0m_make_engine\u001b[0m\u001b[1;33m(\u001b[0m\u001b[0mself\u001b[0m\u001b[1;33m.\u001b[0m\u001b[0mengine\u001b[0m\u001b[1;33m)\u001b[0m\u001b[1;33m\u001b[0m\u001b[1;33m\u001b[0m\u001b[0m\n\u001b[0m\u001b[0;32m    896\u001b[0m \u001b[1;33m\u001b[0m\u001b[0m\n\u001b[0;32m    897\u001b[0m     \u001b[1;32mdef\u001b[0m \u001b[0mclose\u001b[0m\u001b[1;33m(\u001b[0m\u001b[0mself\u001b[0m\u001b[1;33m)\u001b[0m\u001b[1;33m:\u001b[0m\u001b[1;33m\u001b[0m\u001b[1;33m\u001b[0m\u001b[0m\n",
      "\u001b[1;32m~\\Anaconda3\\lib\\site-packages\\pandas\\io\\parsers.py\u001b[0m in \u001b[0;36m_make_engine\u001b[1;34m(self, engine)\u001b[0m\n\u001b[0;32m   1133\u001b[0m     \u001b[1;32mdef\u001b[0m \u001b[0m_make_engine\u001b[0m\u001b[1;33m(\u001b[0m\u001b[0mself\u001b[0m\u001b[1;33m,\u001b[0m \u001b[0mengine\u001b[0m\u001b[1;33m=\u001b[0m\u001b[1;34m\"c\"\u001b[0m\u001b[1;33m)\u001b[0m\u001b[1;33m:\u001b[0m\u001b[1;33m\u001b[0m\u001b[1;33m\u001b[0m\u001b[0m\n\u001b[0;32m   1134\u001b[0m         \u001b[1;32mif\u001b[0m \u001b[0mengine\u001b[0m \u001b[1;33m==\u001b[0m \u001b[1;34m\"c\"\u001b[0m\u001b[1;33m:\u001b[0m\u001b[1;33m\u001b[0m\u001b[1;33m\u001b[0m\u001b[0m\n\u001b[1;32m-> 1135\u001b[1;33m             \u001b[0mself\u001b[0m\u001b[1;33m.\u001b[0m\u001b[0m_engine\u001b[0m \u001b[1;33m=\u001b[0m \u001b[0mCParserWrapper\u001b[0m\u001b[1;33m(\u001b[0m\u001b[0mself\u001b[0m\u001b[1;33m.\u001b[0m\u001b[0mf\u001b[0m\u001b[1;33m,\u001b[0m \u001b[1;33m**\u001b[0m\u001b[0mself\u001b[0m\u001b[1;33m.\u001b[0m\u001b[0moptions\u001b[0m\u001b[1;33m)\u001b[0m\u001b[1;33m\u001b[0m\u001b[1;33m\u001b[0m\u001b[0m\n\u001b[0m\u001b[0;32m   1136\u001b[0m         \u001b[1;32melse\u001b[0m\u001b[1;33m:\u001b[0m\u001b[1;33m\u001b[0m\u001b[1;33m\u001b[0m\u001b[0m\n\u001b[0;32m   1137\u001b[0m             \u001b[1;32mif\u001b[0m \u001b[0mengine\u001b[0m \u001b[1;33m==\u001b[0m \u001b[1;34m\"python\"\u001b[0m\u001b[1;33m:\u001b[0m\u001b[1;33m\u001b[0m\u001b[1;33m\u001b[0m\u001b[0m\n",
      "\u001b[1;32m~\\Anaconda3\\lib\\site-packages\\pandas\\io\\parsers.py\u001b[0m in \u001b[0;36m__init__\u001b[1;34m(self, src, **kwds)\u001b[0m\n\u001b[0;32m   1915\u001b[0m         \u001b[0mkwds\u001b[0m\u001b[1;33m[\u001b[0m\u001b[1;34m\"usecols\"\u001b[0m\u001b[1;33m]\u001b[0m \u001b[1;33m=\u001b[0m \u001b[0mself\u001b[0m\u001b[1;33m.\u001b[0m\u001b[0musecols\u001b[0m\u001b[1;33m\u001b[0m\u001b[1;33m\u001b[0m\u001b[0m\n\u001b[0;32m   1916\u001b[0m \u001b[1;33m\u001b[0m\u001b[0m\n\u001b[1;32m-> 1917\u001b[1;33m         \u001b[0mself\u001b[0m\u001b[1;33m.\u001b[0m\u001b[0m_reader\u001b[0m \u001b[1;33m=\u001b[0m \u001b[0mparsers\u001b[0m\u001b[1;33m.\u001b[0m\u001b[0mTextReader\u001b[0m\u001b[1;33m(\u001b[0m\u001b[0msrc\u001b[0m\u001b[1;33m,\u001b[0m \u001b[1;33m**\u001b[0m\u001b[0mkwds\u001b[0m\u001b[1;33m)\u001b[0m\u001b[1;33m\u001b[0m\u001b[1;33m\u001b[0m\u001b[0m\n\u001b[0m\u001b[0;32m   1918\u001b[0m         \u001b[0mself\u001b[0m\u001b[1;33m.\u001b[0m\u001b[0munnamed_cols\u001b[0m \u001b[1;33m=\u001b[0m \u001b[0mself\u001b[0m\u001b[1;33m.\u001b[0m\u001b[0m_reader\u001b[0m\u001b[1;33m.\u001b[0m\u001b[0munnamed_cols\u001b[0m\u001b[1;33m\u001b[0m\u001b[1;33m\u001b[0m\u001b[0m\n\u001b[0;32m   1919\u001b[0m \u001b[1;33m\u001b[0m\u001b[0m\n",
      "\u001b[1;32mpandas\\_libs\\parsers.pyx\u001b[0m in \u001b[0;36mpandas._libs.parsers.TextReader.__cinit__\u001b[1;34m()\u001b[0m\n",
      "\u001b[1;32mpandas\\_libs\\parsers.pyx\u001b[0m in \u001b[0;36mpandas._libs.parsers.TextReader._setup_parser_source\u001b[1;34m()\u001b[0m\n",
      "\u001b[1;31mFileNotFoundError\u001b[0m: [Errno 2] File b'C:\\\\Users\\\\ICN_admin\\\\Charit\\xc3\\xa9 - Universit\\xc3\\xa4tsmedizin Berlin\\\\Interventional Cognitive Neuromodulation - Data\\\\BIDS Berlinparticipants.tsv' does not exist: b'C:\\\\Users\\\\ICN_admin\\\\Charit\\xc3\\xa9 - Universit\\xc3\\xa4tsmedizin Berlin\\\\Interventional Cognitive Neuromodulation - Data\\\\BIDS Berlinparticipants.tsv'"
     ]
    }
   ],
   "source": [
    "line_noise = IO.read_line_noise(settings['BIDS_path'],\"002\") # the line noise column is missing in the \n",
    "# participants.tsv"
   ]
  },
  {
   "cell_type": "code",
   "execution_count": 22,
   "metadata": {},
   "outputs": [
    {
     "data": {
      "text/plain": [
       "4098.360655737705"
      ]
     },
     "execution_count": 22,
     "metadata": {},
     "output_type": "execute_result"
    }
   ],
   "source": [
    "sf[0]"
   ]
  },
  {
   "cell_type": "markdown",
   "metadata": {},
   "source": [
    "### adapt the filter function! "
   ]
  },
  {
   "cell_type": "code",
   "execution_count": 23,
   "metadata": {},
   "outputs": [],
   "source": [
    "if sf[0]>1000:\n",
    "    filter_len=sf\n",
    "else:\n",
    "    filter_len=1001"
   ]
  },
  {
   "cell_type": "code",
   "execution_count": 28,
   "metadata": {},
   "outputs": [
    {
     "data": {
      "text/plain": [
       "[[4, 8], [8, 12], [13, 20], [20, 35], [13, 35], [60, 80], [90, 200], [60, 200]]"
      ]
     },
     "execution_count": 28,
     "metadata": {},
     "output_type": "execute_result"
    }
   ],
   "source": [
    "settings['frequencyranges']"
   ]
  },
  {
   "cell_type": "code",
   "execution_count": 29,
   "metadata": {},
   "outputs": [
    {
     "data": {
      "text/plain": [
       "4098.360655737705"
      ]
     },
     "execution_count": 29,
     "metadata": {},
     "output_type": "execute_result"
    }
   ],
   "source": [
    "filter_len[0]"
   ]
  },
  {
   "cell_type": "code",
   "execution_count": 32,
   "metadata": {},
   "outputs": [
    {
     "data": {
      "text/plain": [
       "4099.0"
      ]
     },
     "execution_count": 32,
     "metadata": {},
     "output_type": "execute_result"
    }
   ],
   "source": [
    "np.ceil(filter_len[0])"
   ]
  },
  {
   "cell_type": "code",
   "execution_count": 35,
   "metadata": {},
   "outputs": [
    {
     "data": {
      "text/plain": [
       "[1, 2, 2, 3, 3, 3, 10, 10, 10]"
      ]
     },
     "execution_count": 35,
     "metadata": {},
     "output_type": "execute_result"
    }
   ],
   "source": [
    "settings['seglengths']"
   ]
  },
  {
   "cell_type": "code",
   "execution_count": 37,
   "metadata": {},
   "outputs": [
    {
     "name": "stdout",
     "output_type": "stream",
     "text": [
      "No data specified. Sanity checks related to the length of the signal relative to the filter order will be skipped.\n",
      "Setting up band-pass filter from 4 - 8 Hz\n",
      "\n",
      "FIR filter parameters\n",
      "---------------------\n",
      "Designing a one-pass, zero-phase, non-causal bandpass filter:\n",
      "- Windowed time-domain design (firwin) method\n",
      "- Hamming window with 0.0194 passband ripple and 53 dB stopband attenuation\n",
      "- Lower passband edge: 4.00\n",
      "- Lower transition bandwidth: 4.00 Hz (-6 dB cutoff frequency: 2.00 Hz)\n",
      "- Upper passband edge: 8.00 Hz\n",
      "- Upper transition bandwidth: 4.00 Hz (-6 dB cutoff frequency: 10.00 Hz)\n",
      "- Filter length: 4099 samples (1.000 sec)\n",
      "\n",
      "No data specified. Sanity checks related to the length of the signal relative to the filter order will be skipped.\n",
      "Setting up band-pass filter from 8 - 12 Hz\n",
      "\n",
      "FIR filter parameters\n",
      "---------------------\n",
      "Designing a one-pass, zero-phase, non-causal bandpass filter:\n",
      "- Windowed time-domain design (firwin) method\n",
      "- Hamming window with 0.0194 passband ripple and 53 dB stopband attenuation\n",
      "- Lower passband edge: 8.00\n",
      "- Lower transition bandwidth: 4.00 Hz (-6 dB cutoff frequency: 6.00 Hz)\n",
      "- Upper passband edge: 12.00 Hz\n",
      "- Upper transition bandwidth: 4.00 Hz (-6 dB cutoff frequency: 14.00 Hz)\n",
      "- Filter length: 4099 samples (1.000 sec)\n",
      "\n",
      "No data specified. Sanity checks related to the length of the signal relative to the filter order will be skipped.\n",
      "Setting up band-pass filter from 13 - 20 Hz\n",
      "\n",
      "FIR filter parameters\n",
      "---------------------\n",
      "Designing a one-pass, zero-phase, non-causal bandpass filter:\n",
      "- Windowed time-domain design (firwin) method\n",
      "- Hamming window with 0.0194 passband ripple and 53 dB stopband attenuation\n",
      "- Lower passband edge: 13.00\n",
      "- Lower transition bandwidth: 4.00 Hz (-6 dB cutoff frequency: 11.00 Hz)\n",
      "- Upper passband edge: 20.00 Hz\n",
      "- Upper transition bandwidth: 4.00 Hz (-6 dB cutoff frequency: 22.00 Hz)\n",
      "- Filter length: 4099 samples (1.000 sec)\n",
      "\n",
      "No data specified. Sanity checks related to the length of the signal relative to the filter order will be skipped.\n",
      "Setting up band-pass filter from 20 - 35 Hz\n",
      "\n",
      "FIR filter parameters\n",
      "---------------------\n",
      "Designing a one-pass, zero-phase, non-causal bandpass filter:\n",
      "- Windowed time-domain design (firwin) method\n",
      "- Hamming window with 0.0194 passband ripple and 53 dB stopband attenuation\n",
      "- Lower passband edge: 20.00\n",
      "- Lower transition bandwidth: 4.00 Hz (-6 dB cutoff frequency: 18.00 Hz)\n",
      "- Upper passband edge: 35.00 Hz\n",
      "- Upper transition bandwidth: 4.00 Hz (-6 dB cutoff frequency: 37.00 Hz)\n",
      "- Filter length: 4099 samples (1.000 sec)\n",
      "\n",
      "No data specified. Sanity checks related to the length of the signal relative to the filter order will be skipped.\n",
      "Setting up band-pass filter from 13 - 35 Hz\n",
      "\n",
      "FIR filter parameters\n",
      "---------------------\n",
      "Designing a one-pass, zero-phase, non-causal bandpass filter:\n",
      "- Windowed time-domain design (firwin) method\n",
      "- Hamming window with 0.0194 passband ripple and 53 dB stopband attenuation\n",
      "- Lower passband edge: 13.00\n",
      "- Lower transition bandwidth: 4.00 Hz (-6 dB cutoff frequency: 11.00 Hz)\n",
      "- Upper passband edge: 35.00 Hz\n",
      "- Upper transition bandwidth: 4.00 Hz (-6 dB cutoff frequency: 37.00 Hz)\n",
      "- Filter length: 4099 samples (1.000 sec)\n",
      "\n",
      "No data specified. Sanity checks related to the length of the signal relative to the filter order will be skipped.\n",
      "Setting up band-pass filter from 60 - 80 Hz\n",
      "\n",
      "FIR filter parameters\n",
      "---------------------\n",
      "Designing a one-pass, zero-phase, non-causal bandpass filter:\n",
      "- Windowed time-domain design (firwin) method\n",
      "- Hamming window with 0.0194 passband ripple and 53 dB stopband attenuation\n",
      "- Lower passband edge: 60.00\n",
      "- Lower transition bandwidth: 4.00 Hz (-6 dB cutoff frequency: 58.00 Hz)\n",
      "- Upper passband edge: 80.00 Hz\n",
      "- Upper transition bandwidth: 4.00 Hz (-6 dB cutoff frequency: 82.00 Hz)\n",
      "- Filter length: 4099 samples (1.000 sec)\n",
      "\n",
      "No data specified. Sanity checks related to the length of the signal relative to the filter order will be skipped.\n",
      "Setting up band-pass filter from 90 - 2e+02 Hz\n",
      "\n",
      "FIR filter parameters\n",
      "---------------------\n",
      "Designing a one-pass, zero-phase, non-causal bandpass filter:\n",
      "- Windowed time-domain design (firwin) method\n",
      "- Hamming window with 0.0194 passband ripple and 53 dB stopband attenuation\n",
      "- Lower passband edge: 90.00\n",
      "- Lower transition bandwidth: 4.00 Hz (-6 dB cutoff frequency: 88.00 Hz)\n",
      "- Upper passband edge: 200.00 Hz\n",
      "- Upper transition bandwidth: 4.00 Hz (-6 dB cutoff frequency: 202.00 Hz)\n",
      "- Filter length: 4099 samples (1.000 sec)\n",
      "\n",
      "No data specified. Sanity checks related to the length of the signal relative to the filter order will be skipped.\n",
      "Setting up band-pass filter from 60 - 2e+02 Hz\n",
      "\n",
      "FIR filter parameters\n",
      "---------------------\n",
      "Designing a one-pass, zero-phase, non-causal bandpass filter:\n",
      "- Windowed time-domain design (firwin) method\n",
      "- Hamming window with 0.0194 passband ripple and 53 dB stopband attenuation\n",
      "- Lower passband edge: 60.00\n",
      "- Lower transition bandwidth: 4.00 Hz (-6 dB cutoff frequency: 58.00 Hz)\n",
      "- Upper passband edge: 200.00 Hz\n",
      "- Upper transition bandwidth: 4.00 Hz (-6 dB cutoff frequency: 202.00 Hz)\n",
      "- Filter length: 4099 samples (1.000 sec)\n",
      "\n"
     ]
    }
   ],
   "source": [
    "filter_fun = filter.calc_band_filters(settings['frequencyranges'], sample_rate=sf[0], filter_len=int(np.ceil(filter_len[0])))\n",
    "    \n",
    "offset_start = int((sf[0]/settings['seglengths'][0]) / (sf[0]/settings['resamplingrate']))"
   ]
  },
  {
   "cell_type": "code",
   "execution_count": 47,
   "metadata": {},
   "outputs": [
    {
     "data": {
      "image/png": "[encoded data removed]",
      "text/plain": [
       "<Figure size 1440x360 with 2 Axes>"
      ]
     },
     "metadata": {
      "needs_background": "light"
     },
     "output_type": "display_data"
    }
   ],
   "source": [
    "plt.figure(figsize=(20,5))\n",
    "plt.imshow(filter_fun, aspect='auto')\n",
    "plt.colorbar()\n",
    "plt.show()"
   ]
  },
  {
   "cell_type": "code",
   "execution_count": 40,
   "metadata": {},
   "outputs": [
    {
     "data": {
      "text/plain": [
       "10"
      ]
     },
     "execution_count": 40,
     "metadata": {},
     "output_type": "execute_result"
    }
   ],
   "source": [
    "offset_start"
   ]
  },
  {
   "cell_type": "code",
   "execution_count": 48,
   "metadata": {},
   "outputs": [
    {
     "name": "stdout",
     "output_type": "stream",
     "text": [
      "Extracting parameters from C:\\Users\\ICN_admin\\Charité - Universitätsmedizin Berlin\\Interventional Cognitive Neuromodulation - Data\\BIDS Berlin\\sub-002\\ses-20200130\\ieeg\\sub-002_ses-20200130_task-restMEDON20200130T111458_run-0_ieeg.vhdr...\n",
      "Setting channel info structure...\n"
     ]
    }
   ],
   "source": [
    "ieeg_raw, ch_names = IO.read_BIDS_file(ieeg_files[0])"
   ]
  },
  {
   "cell_type": "code",
   "execution_count": 49,
   "metadata": {
    "scrolled": true
   },
   "outputs": [
    {
     "data": {
      "text/plain": [
       "['CREF',\n",
       " 'LFP_BS_STN_R_1',\n",
       " 'LFP_BS_STN_R_2',\n",
       " 'LFP_BS_STN_R_3',\n",
       " 'LFP_BS_STN_R_4',\n",
       " 'LFP_BS_STN_R_5',\n",
       " 'LFP_BS_STN_R_6',\n",
       " 'LFP_BS_STN_R_7',\n",
       " 'LFP_BS_STN_R_8',\n",
       " 'LFP_BS_STN_L_1',\n",
       " 'LFP_BS_STN_L_2',\n",
       " 'LFP_BS_STN_L_3',\n",
       " 'LFP_BS_STN_L_4',\n",
       " 'LFP_BS_STN_L_5',\n",
       " 'LFP_BS_STN_L_6',\n",
       " 'LFP_BS_STN_L_7',\n",
       " 'LFP_BS_STN_L_8',\n",
       " 'EEG_TM_Cz__1',\n",
       " 'EEG_TM_Cz__2',\n",
       " 'ECOG_AT_SM_L_1',\n",
       " 'ECOG_AT_SM_L_2',\n",
       " 'ECOG_AT_SM_L_3',\n",
       " 'ECOG_AT_SM_L_4',\n",
       " 'ECOG_AT_SM_L_5',\n",
       " 'ECOG_AT_SM_L_6',\n",
       " 'EMG_TM_BR_R_1',\n",
       " 'EMG_TM_BR_L_1']"
      ]
     },
     "execution_count": 49,
     "metadata": {},
     "output_type": "execute_result"
    }
   ],
   "source": [
    "ch_names"
   ]
  },
  {
   "cell_type": "code",
   "execution_count": 51,
   "metadata": {},
   "outputs": [
    {
     "data": {
      "text/plain": [
       "(27, 1232738)"
      ]
     },
     "execution_count": 51,
     "metadata": {},
     "output_type": "execute_result"
    }
   ],
   "source": [
    "ieeg_raw.shape"
   ]
  },
  {
   "cell_type": "markdown",
   "metadata": {},
   "source": [
    "### now call / rewrite run file"
   ]
  },
  {
   "cell_type": "code",
   "execution_count": null,
   "metadata": {},
   "outputs": [],
   "source": [
    "sampling with new fs"
   ]
  },
  {
   "cell_type": "code",
   "execution_count": null,
   "metadata": {},
   "outputs": [],
   "source": [
    "fs = 1000\n",
    "fs_new = 10\n",
    "fs / "
   ]
  },
  {
   "cell_type": "code",
   "execution_count": 86,
   "metadata": {},
   "outputs": [],
   "source": [
    "#given the ieeg raw file write a generator\n",
    "def ieeg_raw_generator(ieeg_raw, fs, fs_new, offset_start):\n",
    "     \n",
    "    cnt_fsnew = 0\n",
    "    for cnt in range(ieeg_raw.shape[1]):\n",
    "        if cnt < offset_start:\n",
    "            cnt_fsnew +=1\n",
    "            continue\n",
    "        \n",
    "        cnt_fsnew +=1\n",
    "        if cnt_fsnew >= (fs/fs_new):\n",
    "            cnt_fsnew = 0\n",
    "            yield ieeg_raw[:,cnt-offset_start:cnt]"
   ]
  },
  {
   "cell_type": "code",
   "execution_count": 87,
   "metadata": {},
   "outputs": [],
   "source": [
    "gen_ = ieeg_raw_generator(ieeg_raw, fs=4096, fs_new=10, offset_start=4096)"
   ]
  },
  {
   "cell_type": "code",
   "execution_count": 88,
   "metadata": {},
   "outputs": [],
   "source": [
    "arr = next(gen_)"
   ]
  },
  {
   "cell_type": "code",
   "execution_count": 92,
   "metadata": {},
   "outputs": [
    {
     "data": {
      "text/plain": [
       "[1, 2, 2, 3, 3, 3, 10, 10, 10]"
      ]
     },
     "execution_count": 92,
     "metadata": {},
     "output_type": "execute_result"
    }
   ],
   "source": [
    "settings[\"seglengths\"]"
   ]
  },
  {
   "cell_type": "code",
   "execution_count": 94,
   "metadata": {},
   "outputs": [
    {
     "data": {
      "text/plain": [
       "array([4096.        , 2048.        , 2048.        , 1365.33333333,\n",
       "       1365.33333333, 1365.33333333,  409.6       ,  409.6       ,\n",
       "        409.6       ])"
      ]
     },
     "execution_count": 94,
     "metadata": {},
     "output_type": "execute_result"
    }
   ],
   "source": [
    "4096/np.array(settings[\"seglengths\"])"
   ]
  },
  {
   "cell_type": "code",
   "execution_count": 97,
   "metadata": {},
   "outputs": [
    {
     "data": {
      "text/plain": [
       "array([4096, 2048, 2048, 1365, 1365, 1365,  409,  409,  409])"
      ]
     },
     "execution_count": 97,
     "metadata": {},
     "output_type": "execute_result"
    }
   ],
   "source": [
    "(4096/np.array(settings[\"seglengths\"])).astype(int)"
   ]
  },
  {
   "cell_type": "code",
   "execution_count": 100,
   "metadata": {},
   "outputs": [
    {
     "data": {
      "text/plain": [
       "(8, 4099)"
      ]
     },
     "execution_count": 100,
     "metadata": {},
     "output_type": "execute_result"
    }
   ],
   "source": [
    "filter_fun.shape"
   ]
  },
  {
   "cell_type": "code",
   "execution_count": 108,
   "metadata": {},
   "outputs": [
    {
     "data": {
      "text/plain": [
       "26"
      ]
     },
     "execution_count": 108,
     "metadata": {},
     "output_type": "execute_result"
    }
   ],
   "source": [
    "arr.shape[0]-1"
   ]
  },
  {
   "cell_type": "code",
   "execution_count": 111,
   "metadata": {},
   "outputs": [
    {
     "name": "stderr",
     "output_type": "stream",
     "text": [
      "<ipython-input-111-af4568edbcd1>:3: RuntimeWarning: filter_length (4095) is longer than the signal (27), distortion is likely. Reduce filter length or filter a longer signal.\n",
      "  fir_design='firwin', verbose=False, notch_widths=1,filter_length=arr.T.shape[0]-1)\n"
     ]
    }
   ],
   "source": [
    "dat_notch_filtered = mne.filter.notch_filter(x=arr.T, Fs=4096, trans_bandwidth=7,\n",
    "            freqs=np.arange(50, 4*50, 50),\n",
    "            fir_design='firwin', verbose=False, notch_widths=1,filter_length=arr.T.shape[0]-1)"
   ]
  },
  {
   "cell_type": "code",
   "execution_count": 110,
   "metadata": {},
   "outputs": [],
   "source": [
    "from mne import viz"
   ]
  },
  {
   "cell_type": "code",
   "execution_count": 113,
   "metadata": {},
   "outputs": [
    {
     "name": "stdout",
     "output_type": "stream",
     "text": [
      "Creating RawArray with float64 data, n_channels=27, n_times=4096\n",
      "    Range : 0 ... 4095 =      0.000 ...     1.000 secs\n",
      "Ready.\n"
     ]
    }
   ],
   "source": [
    "info = mne.create_info(ch_names, 4096, ch_types='ecog')\n",
    "raw = mne.io.RawArray(arr, info)"
   ]
  },
  {
   "cell_type": "code",
   "execution_count": 125,
   "metadata": {},
   "outputs": [
    {
     "data": {
      "text/plain": [
       "['CREF',\n",
       " 'LFP_BS_STN_R_1',\n",
       " 'LFP_BS_STN_R_2',\n",
       " 'LFP_BS_STN_R_3',\n",
       " 'LFP_BS_STN_R_4',\n",
       " 'LFP_BS_STN_R_5',\n",
       " 'LFP_BS_STN_R_6',\n",
       " 'LFP_BS_STN_R_7',\n",
       " 'LFP_BS_STN_R_8',\n",
       " 'LFP_BS_STN_L_1',\n",
       " 'LFP_BS_STN_L_2',\n",
       " 'LFP_BS_STN_L_3',\n",
       " 'LFP_BS_STN_L_4',\n",
       " 'LFP_BS_STN_L_5',\n",
       " 'LFP_BS_STN_L_6',\n",
       " 'LFP_BS_STN_L_7',\n",
       " 'LFP_BS_STN_L_8',\n",
       " 'EEG_TM_Cz__1',\n",
       " 'EEG_TM_Cz__2',\n",
       " 'ECOG_AT_SM_L_1',\n",
       " 'ECOG_AT_SM_L_2',\n",
       " 'ECOG_AT_SM_L_3',\n",
       " 'ECOG_AT_SM_L_4',\n",
       " 'ECOG_AT_SM_L_5',\n",
       " 'ECOG_AT_SM_L_6',\n",
       " 'EMG_TM_BR_R_1',\n",
       " 'EMG_TM_BR_L_1']"
      ]
     },
     "execution_count": 125,
     "metadata": {},
     "output_type": "execute_result"
    }
   ],
   "source": [
    "ch_names"
   ]
  },
  {
   "cell_type": "code",
   "execution_count": 128,
   "metadata": {},
   "outputs": [
    {
     "name": "stdout",
     "output_type": "stream",
     "text": [
      "Effective window size : 0.500 (s)\n"
     ]
    },
    {
     "name": "stderr",
     "output_type": "stream",
     "text": [
      "<ipython-input-128-a638265c3c62>:1: RuntimeWarning: Channel locations not available. Disabling spatial colors.\n",
      "  raw.plot_psd(picks=[\"ECOG_AT_SM_L_1\", \"ECOG_AT_SM_L_2\", \"ECOG_AT_SM_L_3\"])\n"
     ]
    },
    {
     "data": {
      "image/png": "[encoded data removed]",
      "text/plain": [
       "<Figure size 432x288 with 1 Axes>"
      ]
     },
     "metadata": {
      "needs_background": "light"
     },
     "output_type": "display_data"
    }
   ],
   "source": [
    "raw.plot_psd(picks=[\"ECOG_AT_SM_L_1\", \"ECOG_AT_SM_L_2\", \"ECOG_AT_SM_L_3\"])\n",
    "plt.show()"
   ]
  },
  {
   "cell_type": "code",
   "execution_count": 98,
   "metadata": {},
   "outputs": [
    {
     "ename": "ValueError",
     "evalue": "The requested filter length 27 is too short for the requested 1.75 Hz transition band, which requires 3863 samples",
     "output_type": "error",
     "traceback": [
      "\u001b[1;31m---------------------------------------------------------------------------\u001b[0m",
      "\u001b[1;31mValueError\u001b[0m                                Traceback (most recent call last)",
      "\u001b[1;32m<ipython-input-98-a0192ce267bf>\u001b[0m in \u001b[0;36m<module>\u001b[1;34m\u001b[0m\n\u001b[0;32m      1\u001b[0m dat_filt = filter.apply_filter(arr, sample_rate=4096, filter_fun=filter_fun, \\\n\u001b[1;32m----> 2\u001b[1;33m                                line_noise=50, seglengths=(4096/np.array(settings[\"seglengths\"])).astype(int))\n\u001b[0m",
      "\u001b[1;32m~\\Documents\\icn\\icn_m1\\restructure\\filter.py\u001b[0m in \u001b[0;36mapply_filter\u001b[1;34m(dat_, sample_rate, filter_fun, line_noise, variance, seglengths)\u001b[0m\n\u001b[0;32m     70\u001b[0m     dat_noth_filtered = mne.filter.notch_filter(x=dat_, Fs=sample_rate, trans_bandwidth=7,\n\u001b[0;32m     71\u001b[0m             \u001b[0mfreqs\u001b[0m\u001b[1;33m=\u001b[0m\u001b[0mnp\u001b[0m\u001b[1;33m.\u001b[0m\u001b[0marange\u001b[0m\u001b[1;33m(\u001b[0m\u001b[0mline_noise\u001b[0m\u001b[1;33m,\u001b[0m \u001b[1;36m4\u001b[0m\u001b[1;33m*\u001b[0m\u001b[0mline_noise\u001b[0m\u001b[1;33m,\u001b[0m \u001b[0mline_noise\u001b[0m\u001b[1;33m)\u001b[0m\u001b[1;33m,\u001b[0m\u001b[1;33m\u001b[0m\u001b[1;33m\u001b[0m\u001b[0m\n\u001b[1;32m---> 72\u001b[1;33m             fir_design='firwin', verbose=False, notch_widths=1,filter_length=dat_.shape[0]-1)\n\u001b[0m\u001b[0;32m     73\u001b[0m \u001b[1;33m\u001b[0m\u001b[0m\n\u001b[0;32m     74\u001b[0m \u001b[1;33m\u001b[0m\u001b[0m\n",
      "\u001b[1;32m<decorator-gen-117>\u001b[0m in \u001b[0;36mnotch_filter\u001b[1;34m(x, Fs, freqs, filter_length, notch_widths, trans_bandwidth, method, iir_params, mt_bandwidth, p_value, picks, n_jobs, copy, phase, fir_window, fir_design, pad, verbose)\u001b[0m\n",
      "\u001b[1;32m~\\Anaconda3\\lib\\site-packages\\mne\\filter.py\u001b[0m in \u001b[0;36mnotch_filter\u001b[1;34m(x, Fs, freqs, filter_length, notch_widths, trans_bandwidth, method, iir_params, mt_bandwidth, p_value, picks, n_jobs, copy, phase, fir_window, fir_design, pad, verbose)\u001b[0m\n\u001b[0;32m   1190\u001b[0m         xf = filter_data(x, Fs, highs, lows, picks, filter_length, tb_2, tb_2,\n\u001b[0;32m   1191\u001b[0m                          \u001b[0mn_jobs\u001b[0m\u001b[1;33m,\u001b[0m \u001b[0mmethod\u001b[0m\u001b[1;33m,\u001b[0m \u001b[0miir_params\u001b[0m\u001b[1;33m,\u001b[0m \u001b[0mcopy\u001b[0m\u001b[1;33m,\u001b[0m \u001b[0mphase\u001b[0m\u001b[1;33m,\u001b[0m \u001b[0mfir_window\u001b[0m\u001b[1;33m,\u001b[0m\u001b[1;33m\u001b[0m\u001b[1;33m\u001b[0m\u001b[0m\n\u001b[1;32m-> 1192\u001b[1;33m                          fir_design, pad=pad)\n\u001b[0m\u001b[0;32m   1193\u001b[0m     \u001b[1;32melif\u001b[0m \u001b[0mmethod\u001b[0m \u001b[1;33m==\u001b[0m \u001b[1;34m'spectrum_fit'\u001b[0m\u001b[1;33m:\u001b[0m\u001b[1;33m\u001b[0m\u001b[1;33m\u001b[0m\u001b[0m\n\u001b[0;32m   1194\u001b[0m         xf = _mt_spectrum_proc(x, Fs, freqs, notch_widths, mt_bandwidth,\n",
      "\u001b[1;32m<decorator-gen-115>\u001b[0m in \u001b[0;36mfilter_data\u001b[1;34m(data, sfreq, l_freq, h_freq, picks, filter_length, l_trans_bandwidth, h_trans_bandwidth, n_jobs, method, iir_params, copy, phase, fir_window, fir_design, pad, verbose)\u001b[0m\n",
      "\u001b[1;32m~\\Anaconda3\\lib\\site-packages\\mne\\filter.py\u001b[0m in \u001b[0;36mfilter_data\u001b[1;34m(data, sfreq, l_freq, h_freq, picks, filter_length, l_trans_bandwidth, h_trans_bandwidth, n_jobs, method, iir_params, copy, phase, fir_window, fir_design, pad, verbose)\u001b[0m\n\u001b[0;32m    817\u001b[0m     filt = create_filter(\n\u001b[0;32m    818\u001b[0m         \u001b[0mdata\u001b[0m\u001b[1;33m,\u001b[0m \u001b[0msfreq\u001b[0m\u001b[1;33m,\u001b[0m \u001b[0ml_freq\u001b[0m\u001b[1;33m,\u001b[0m \u001b[0mh_freq\u001b[0m\u001b[1;33m,\u001b[0m \u001b[0mfilter_length\u001b[0m\u001b[1;33m,\u001b[0m \u001b[0ml_trans_bandwidth\u001b[0m\u001b[1;33m,\u001b[0m\u001b[1;33m\u001b[0m\u001b[1;33m\u001b[0m\u001b[0m\n\u001b[1;32m--> 819\u001b[1;33m         h_trans_bandwidth, method, iir_params, phase, fir_window, fir_design)\n\u001b[0m\u001b[0;32m    820\u001b[0m     \u001b[1;32mif\u001b[0m \u001b[0mmethod\u001b[0m \u001b[1;32min\u001b[0m \u001b[1;33m(\u001b[0m\u001b[1;34m'fir'\u001b[0m\u001b[1;33m,\u001b[0m \u001b[1;34m'fft'\u001b[0m\u001b[1;33m)\u001b[0m\u001b[1;33m:\u001b[0m\u001b[1;33m\u001b[0m\u001b[1;33m\u001b[0m\u001b[0m\n\u001b[0;32m    821\u001b[0m         data = _overlap_add_filter(data, filt, None, phase, picks, n_jobs,\n",
      "\u001b[1;32m<decorator-gen-116>\u001b[0m in \u001b[0;36mcreate_filter\u001b[1;34m(data, sfreq, l_freq, h_freq, filter_length, l_trans_bandwidth, h_trans_bandwidth, method, iir_params, phase, fir_window, fir_design, verbose)\u001b[0m\n",
      "\u001b[1;32m~\\Anaconda3\\lib\\site-packages\\mne\\filter.py\u001b[0m in \u001b[0;36mcreate_filter\u001b[1;34m(data, sfreq, l_freq, h_freq, filter_length, l_trans_bandwidth, h_trans_bandwidth, method, iir_params, phase, fir_window, fir_design, verbose)\u001b[0m\n\u001b[0;32m   1066\u001b[0m     \u001b[1;32mif\u001b[0m \u001b[0mmethod\u001b[0m \u001b[1;33m==\u001b[0m \u001b[1;34m'fir'\u001b[0m\u001b[1;33m:\u001b[0m\u001b[1;33m\u001b[0m\u001b[1;33m\u001b[0m\u001b[0m\n\u001b[0;32m   1067\u001b[0m         out = _construct_fir_filter(sfreq, freq, gain, filter_length, phase,\n\u001b[1;32m-> 1068\u001b[1;33m                                     fir_window, fir_design)\n\u001b[0m\u001b[0;32m   1069\u001b[0m     \u001b[1;32mreturn\u001b[0m \u001b[0mout\u001b[0m\u001b[1;33m\u001b[0m\u001b[1;33m\u001b[0m\u001b[0m\n\u001b[0;32m   1070\u001b[0m \u001b[1;33m\u001b[0m\u001b[0m\n",
      "\u001b[1;32m~\\Anaconda3\\lib\\site-packages\\mne\\filter.py\u001b[0m in \u001b[0;36m_construct_fir_filter\u001b[1;34m(sfreq, freq, gain, filter_length, phase, fir_window, fir_design)\u001b[0m\n\u001b[0;32m    387\u001b[0m         \u001b[0mh\u001b[0m \u001b[1;33m=\u001b[0m \u001b[0mminimum_phase\u001b[0m\u001b[1;33m(\u001b[0m\u001b[0mh\u001b[0m\u001b[1;33m)\u001b[0m\u001b[1;33m\u001b[0m\u001b[1;33m\u001b[0m\u001b[0m\n\u001b[0;32m    388\u001b[0m     \u001b[1;32melse\u001b[0m\u001b[1;33m:\u001b[0m\u001b[1;33m\u001b[0m\u001b[1;33m\u001b[0m\u001b[0m\n\u001b[1;32m--> 389\u001b[1;33m         \u001b[0mh\u001b[0m \u001b[1;33m=\u001b[0m \u001b[0mfir_design\u001b[0m\u001b[1;33m(\u001b[0m\u001b[0mN\u001b[0m\u001b[1;33m,\u001b[0m \u001b[0mfreq\u001b[0m\u001b[1;33m,\u001b[0m \u001b[0mgain\u001b[0m\u001b[1;33m,\u001b[0m \u001b[0mwindow\u001b[0m\u001b[1;33m=\u001b[0m\u001b[0mfir_window\u001b[0m\u001b[1;33m)\u001b[0m\u001b[1;33m\u001b[0m\u001b[1;33m\u001b[0m\u001b[0m\n\u001b[0m\u001b[0;32m    390\u001b[0m     \u001b[1;32massert\u001b[0m \u001b[0mh\u001b[0m\u001b[1;33m.\u001b[0m\u001b[0msize\u001b[0m \u001b[1;33m==\u001b[0m \u001b[0mN\u001b[0m\u001b[1;33m\u001b[0m\u001b[1;33m\u001b[0m\u001b[0m\n\u001b[0;32m    391\u001b[0m     \u001b[0matt_db\u001b[0m\u001b[1;33m,\u001b[0m \u001b[0matt_freq\u001b[0m \u001b[1;33m=\u001b[0m \u001b[0m_filter_attenuation\u001b[0m\u001b[1;33m(\u001b[0m\u001b[0mh\u001b[0m\u001b[1;33m,\u001b[0m \u001b[0mfreq\u001b[0m\u001b[1;33m,\u001b[0m \u001b[0mgain\u001b[0m\u001b[1;33m)\u001b[0m\u001b[1;33m\u001b[0m\u001b[1;33m\u001b[0m\u001b[0m\n",
      "\u001b[1;32m~\\Anaconda3\\lib\\site-packages\\mne\\filter.py\u001b[0m in \u001b[0;36m_firwin_design\u001b[1;34m(N, freq, gain, window, sfreq)\u001b[0m\n\u001b[0;32m    309\u001b[0m                                  \u001b[1;34m'for the requested %0.2f Hz transition band, '\u001b[0m\u001b[1;33m\u001b[0m\u001b[1;33m\u001b[0m\u001b[0m\n\u001b[0;32m    310\u001b[0m                                  \u001b[1;34m'which requires %s samples'\u001b[0m\u001b[1;33m\u001b[0m\u001b[1;33m\u001b[0m\u001b[0m\n\u001b[1;32m--> 311\u001b[1;33m                                  % (N, transition * sfreq / 2., this_N))\n\u001b[0m\u001b[0;32m    312\u001b[0m             \u001b[1;31m# Construct a lowpass\u001b[0m\u001b[1;33m\u001b[0m\u001b[1;33m\u001b[0m\u001b[1;33m\u001b[0m\u001b[0m\n\u001b[0;32m    313\u001b[0m             this_h = firwin(this_N, (prev_freq + this_freq) / 2.,\n",
      "\u001b[1;31mValueError\u001b[0m: The requested filter length 27 is too short for the requested 1.75 Hz transition band, which requires 3863 samples"
     ]
    }
   ],
   "source": [
    "dat_filt = filter.apply_filter(arr, sample_rate=4096, filter_fun=a, \\\n",
    "                               line_noise=50, seglengths=(4096/np.array(settings[\"seglengths\"])).astype(int))"
   ]
  },
  {
   "cell_type": "code",
   "execution_count": null,
   "metadata": {},
   "outputs": [],
   "source": []
  }
 ],
 "metadata": {
  "kernelspec": {
   "display_name": "Python 3",
   "language": "python",
   "name": "python3"
  },
  "language_info": {
   "codemirror_mode": {
    "name": "ipython",
    "version": 3
   },
   "file_extension": ".py",
   "mimetype": "text/x-python",
   "name": "python",
   "nbconvert_exporter": "python",
   "pygments_lexer": "ipython3",
   "version": "3.7.4"
  }
 },
 "nbformat": 4,
 "nbformat_minor": 2
}
