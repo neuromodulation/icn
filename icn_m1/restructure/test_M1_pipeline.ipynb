{
 "cells": [
  {
   "cell_type": "code",
   "execution_count": 1,
   "metadata": {},
   "outputs": [],
   "source": [
    "import filter\n",
    "import IO\n",
    "import settings\n",
    "import numpy as np\n",
    "import json\n",
    "import os\n",
    "import pickle \n",
    "from matplotlib import pyplot as plt\n",
    "import scipy\n",
    "import mne"
   ]
  },
  {
   "cell_type": "code",
   "execution_count": 2,
   "metadata": {},
   "outputs": [],
   "source": [
    "with open('settings\\\\settings.json', 'rb') as f:\n",
    "        settings = json.load(f)"
   ]
  },
  {
   "cell_type": "code",
   "execution_count": 3,
   "metadata": {},
   "outputs": [
    {
     "data": {
      "text/plain": [
       "{'BIDS_path': 'C:\\\\Users\\\\icn_admin\\\\OneDrive - Charité - Universitätsmedizin Berlin\\\\Data\\\\BIDS Berlin',\n",
       " 'out_path': 'C:\\\\Users\\\\ICN_admin\\\\Documents\\\\icn\\\\icn_m1\\\\restructure\\\\BIDS_Berlin_M1',\n",
       " 'resamplingrate': 10,\n",
       " 'max_dist_cortex': 20,\n",
       " 'max_dist_subcortex': 5,\n",
       " 'normalization_time': 10,\n",
       " 'frequencyranges': [[4, 8],\n",
       "  [8, 12],\n",
       "  [13, 20],\n",
       "  [20, 35],\n",
       "  [13, 35],\n",
       "  [60, 80],\n",
       "  [90, 200],\n",
       "  [60, 200]],\n",
       " 'seglengths': [1, 2, 2, 3, 3, 3, 10, 10, 10]}"
      ]
     },
     "execution_count": 3,
     "metadata": {},
     "output_type": "execute_result"
    }
   ],
   "source": [
    "settings"
   ]
  },
  {
   "cell_type": "code",
   "execution_count": 4,
   "metadata": {},
   "outputs": [],
   "source": [
    "ieeg_files = IO.get_all_ieeg_files(settings['BIDS_path'])"
   ]
  },
  {
   "cell_type": "code",
   "execution_count": 5,
   "metadata": {
    "scrolled": true
   },
   "outputs": [
    {
     "data": {
      "text/plain": [
       "['C:\\\\Users\\\\icn_admin\\\\OneDrive - Charité - Universitätsmedizin Berlin\\\\Data\\\\BIDS Berlin\\\\sub-002\\\\ses-20200130\\\\ieeg\\\\sub-002_ses-20200130_task-restMEDON20200130T111458_run-0_ieeg.vhdr',\n",
       " 'C:\\\\Users\\\\icn_admin\\\\OneDrive - Charité - Universitätsmedizin Berlin\\\\Data\\\\BIDS Berlin\\\\sub-002\\\\ses-20200130\\\\ieeg\\\\sub-002_ses-20200130_task-restMEDONAVGREF20200130T112142_run-1_ieeg.vhdr',\n",
       " 'C:\\\\Users\\\\icn_admin\\\\OneDrive - Charité - Universitätsmedizin Berlin\\\\Data\\\\BIDS Berlin\\\\sub-002\\\\ses-20200131\\\\ieeg\\\\sub-002_ses-20200131_task-evoked202001310001_run-0_ieeg.vhdr',\n",
       " 'C:\\\\Users\\\\icn_admin\\\\OneDrive - Charité - Universitätsmedizin Berlin\\\\Data\\\\BIDS Berlin\\\\sub-002\\\\ses-20200131\\\\ieeg\\\\sub-002_ses-20200131_task-evoked202001310002_run-1_ieeg.vhdr',\n",
       " 'C:\\\\Users\\\\icn_admin\\\\OneDrive - Charité - Universitätsmedizin Berlin\\\\Data\\\\BIDS Berlin\\\\sub-002\\\\ses-20200131\\\\ieeg\\\\sub-002_ses-20200131_task-evoked202001310003_run-2_ieeg.vhdr',\n",
       " 'C:\\\\Users\\\\icn_admin\\\\OneDrive - Charité - Universitätsmedizin Berlin\\\\Data\\\\BIDS Berlin\\\\sub-002\\\\ses-20200131\\\\ieeg\\\\sub-002_ses-20200131_task-rest202001310001_run-3_ieeg.vhdr',\n",
       " 'C:\\\\Users\\\\icn_admin\\\\OneDrive - Charité - Universitätsmedizin Berlin\\\\Data\\\\BIDS Berlin\\\\sub-002\\\\ses-20200131\\\\ieeg\\\\sub-002_ses-20200131_task-restAGREF20200131T104719_run-5_ieeg.vhdr',\n",
       " 'C:\\\\Users\\\\icn_admin\\\\OneDrive - Charité - Universitätsmedizin Berlin\\\\Data\\\\BIDS Berlin\\\\sub-002\\\\ses-20200131\\\\ieeg\\\\sub-002_ses-20200131_task-restMEDON20200130T111458_run-7_ieeg.vhdr',\n",
       " 'C:\\\\Users\\\\icn_admin\\\\OneDrive - Charité - Universitätsmedizin Berlin\\\\Data\\\\BIDS Berlin\\\\sub-002\\\\ses-20200131\\\\ieeg\\\\sub-002_ses-20200131_task-restMEDONAVGREF20200130T112142_run-6_ieeg.vhdr',\n",
       " 'C:\\\\Users\\\\icn_admin\\\\OneDrive - Charité - Universitätsmedizin Berlin\\\\Data\\\\BIDS Berlin\\\\sub-002\\\\ses-20200131\\\\ieeg\\\\sub-002_ses-20200131_task-restSTNR8REF20200131T105228_run-8_ieeg.vhdr',\n",
       " 'C:\\\\Users\\\\icn_admin\\\\OneDrive - Charité - Universitätsmedizin Berlin\\\\Data\\\\BIDS Berlin\\\\sub-002\\\\ses-20200131\\\\ieeg\\\\sub-002_ses-20200131_task-selfpacedrotation202001310001_run-4_ieeg.vhdr',\n",
       " 'C:\\\\Users\\\\icn_admin\\\\OneDrive - Charité - Universitätsmedizin Berlin\\\\Data\\\\BIDS Berlin\\\\sub-002\\\\ses-20200131\\\\ieeg\\\\sub-002_ses-20200131_task-speechSTN8REF20200131T105546_run-9_ieeg.vhdr',\n",
       " 'C:\\\\Users\\\\icn_admin\\\\OneDrive - Charité - Universitätsmedizin Berlin\\\\Data\\\\BIDS Berlin\\\\sub-002\\\\ses-20200201\\\\ieeg\\\\sub-002_ses-20200201_task-restEARLOBEREF_run-5_ieeg.vhdr',\n",
       " 'C:\\\\Users\\\\icn_admin\\\\OneDrive - Charité - Universitätsmedizin Berlin\\\\Data\\\\BIDS Berlin\\\\sub-002\\\\ses-20200201\\\\ieeg\\\\sub-002_ses-20200201_task-restGREF20200201T113050_run-6_ieeg.vhdr',\n",
       " 'C:\\\\Users\\\\icn_admin\\\\OneDrive - Charité - Universitätsmedizin Berlin\\\\Data\\\\BIDS Berlin\\\\sub-002\\\\ses-20200201\\\\ieeg\\\\sub-002_ses-20200201_task-restSTIM2Hz_run-4_ieeg.vhdr',\n",
       " 'C:\\\\Users\\\\icn_admin\\\\OneDrive - Charité - Universitätsmedizin Berlin\\\\Data\\\\BIDS Berlin\\\\sub-002\\\\ses-20200201\\\\ieeg\\\\sub-002_ses-20200201_task-restSTIMOFF202002013_run-0_ieeg.vhdr',\n",
       " 'C:\\\\Users\\\\icn_admin\\\\OneDrive - Charité - Universitätsmedizin Berlin\\\\Data\\\\BIDS Berlin\\\\sub-002\\\\ses-20200201\\\\ieeg\\\\sub-002_ses-20200201_task-restSTIMONSTNL1TO0DOT8mA_run-1_ieeg.vhdr',\n",
       " 'C:\\\\Users\\\\icn_admin\\\\OneDrive - Charité - Universitätsmedizin Berlin\\\\Data\\\\BIDS Berlin\\\\sub-002\\\\ses-20200201\\\\ieeg\\\\sub-002_ses-20200201_task-restSTNR8REF20200201T114227_run-7_ieeg.vhdr',\n",
       " 'C:\\\\Users\\\\icn_admin\\\\OneDrive - Charité - Universitätsmedizin Berlin\\\\Data\\\\BIDS Berlin\\\\sub-002\\\\ses-20200201\\\\ieeg\\\\sub-002_ses-20200201_task-selfpacedrotationSTIMOFF_run-2_ieeg.vhdr',\n",
       " 'C:\\\\Users\\\\icn_admin\\\\OneDrive - Charité - Universitätsmedizin Berlin\\\\Data\\\\BIDS Berlin\\\\sub-002\\\\ses-20200201\\\\ieeg\\\\sub-002_ses-20200201_task-selfpacedrotationSTIMONL18TO0DOT8_run-3_ieeg.vhdr',\n",
       " 'C:\\\\Users\\\\icn_admin\\\\OneDrive - Charité - Universitätsmedizin Berlin\\\\Data\\\\BIDS Berlin\\\\sub-003\\\\ses-20201107\\\\ieeg\\\\sub-003_ses-20201107_task-RotameterbradyOnRefStnr_run-0_ieeg.vhdr',\n",
       " 'C:\\\\Users\\\\icn_admin\\\\OneDrive - Charité - Universitätsmedizin Berlin\\\\Data\\\\BIDS Berlin\\\\sub-003\\\\ses-20201107\\\\ieeg\\\\sub-003_ses-20201107_task-SelfpacedOnRefSTNR110010001_run-1_ieeg.vhdr',\n",
       " 'C:\\\\Users\\\\icn_admin\\\\OneDrive - Charité - Universitätsmedizin Berlin\\\\Data\\\\BIDS Berlin\\\\sub-004\\\\ses-20200308\\\\ieeg\\\\sub-004_ses-20200308_task-rest5minStimOnLeftSTN0001_run-2_ieeg.vhdr',\n",
       " 'C:\\\\Users\\\\icn_admin\\\\OneDrive - Charité - Universitätsmedizin Berlin\\\\Data\\\\BIDS Berlin\\\\sub-004\\\\ses-20200308\\\\ieeg\\\\sub-004_ses-20200308_task-rest5minStimOn_run-1_ieeg.vhdr',\n",
       " 'C:\\\\Users\\\\icn_admin\\\\OneDrive - Charité - Universitätsmedizin Berlin\\\\Data\\\\BIDS Berlin\\\\sub-004\\\\ses-20200308\\\\ieeg\\\\sub-004_ses-20200308_task-rest5min_run-0_ieeg.vhdr',\n",
       " 'C:\\\\Users\\\\icn_admin\\\\OneDrive - Charité - Universitätsmedizin Berlin\\\\Data\\\\BIDS Berlin\\\\sub-004\\\\ses-20200308\\\\ieeg\\\\sub-004_ses-20200308_task-rotameterLefOffstim0001_run-3_ieeg.vhdr',\n",
       " 'C:\\\\Users\\\\icn_admin\\\\OneDrive - Charité - Universitätsmedizin Berlin\\\\Data\\\\BIDS Berlin\\\\sub-004\\\\ses-20200308\\\\ieeg\\\\sub-004_ses-20200308_task-rotameterRightOffstim0001_run-4_ieeg.vhdr',\n",
       " 'C:\\\\Users\\\\icn_admin\\\\OneDrive - Charité - Universitätsmedizin Berlin\\\\Data\\\\BIDS Berlin\\\\sub-004\\\\ses-20200308\\\\ieeg\\\\sub-004_ses-20200308_task-rotameterRightOnstim0002_run-5_ieeg.vhdr',\n",
       " 'C:\\\\Users\\\\icn_admin\\\\OneDrive - Charité - Universitätsmedizin Berlin\\\\Data\\\\BIDS Berlin\\\\sub-004\\\\ses-20200308\\\\ieeg\\\\sub-004_ses-20200308_task-testStim0001_run-6_ieeg.vhdr',\n",
       " 'C:\\\\Users\\\\icn_admin\\\\OneDrive - Charité - Universitätsmedizin Berlin\\\\Data\\\\BIDS Berlin\\\\sub-004\\\\ses-20200308\\\\ieeg\\\\sub-004_ses-20200308_task-testStimLeft0001_run-6_ieeg.vhdr',\n",
       " 'C:\\\\Users\\\\icn_admin\\\\OneDrive - Charité - Universitätsmedizin Berlin\\\\Data\\\\BIDS Berlin\\\\sub-004\\\\ses-20200308\\\\ieeg\\\\sub-004_ses-20200308_task-testStimRight0001_run-7_ieeg.vhdr',\n",
       " 'C:\\\\Users\\\\icn_admin\\\\OneDrive - Charité - Universitätsmedizin Berlin\\\\Data\\\\BIDS Berlin\\\\sub-004\\\\ses-20200730\\\\ieeg\\\\sub-004_ses-20200730_task-MED2xLTREFSTNR1_run-0_ieeg.vhdr',\n",
       " 'C:\\\\Users\\\\icn_admin\\\\OneDrive - Charité - Universitätsmedizin Berlin\\\\Data\\\\BIDS Berlin\\\\sub-004\\\\ses-20200730\\\\ieeg\\\\sub-004_ses-20200730_task-OFF2xLTLONG_run-1_ieeg.vhdr',\n",
       " 'C:\\\\Users\\\\icn_admin\\\\OneDrive - Charité - Universitätsmedizin Berlin\\\\Data\\\\BIDS Berlin\\\\sub-004\\\\ses-20200730\\\\ieeg\\\\sub-004_ses-20200730_task-ON2xLTRefSTNR1_run-1_ieeg.vhdr',\n",
       " 'C:\\\\Users\\\\icn_admin\\\\OneDrive - Charité - Universitätsmedizin Berlin\\\\Data\\\\BIDS Berlin\\\\sub-004\\\\ses-20200730\\\\ieeg\\\\sub-004_ses-20200730_task-ON2xLTRefSTNR1_run-2_ieeg.vhdr',\n",
       " 'C:\\\\Users\\\\icn_admin\\\\OneDrive - Charité - Universitätsmedizin Berlin\\\\Data\\\\BIDS Berlin\\\\sub-004\\\\ses-20200730\\\\ieeg\\\\sub-004_ses-20200730_task-ONRest2xLTRefSTNR1_run-3_ieeg.vhdr',\n",
       " 'C:\\\\Users\\\\icn_admin\\\\OneDrive - Charité - Universitätsmedizin Berlin\\\\Data\\\\BIDS Berlin\\\\sub-004\\\\ses-20200730\\\\ieeg\\\\sub-004_ses-20200730_task-ONRestRefCAvg_run-4_ieeg.vhdr',\n",
       " 'C:\\\\Users\\\\icn_admin\\\\OneDrive - Charité - Universitätsmedizin Berlin\\\\Data\\\\BIDS Berlin\\\\sub-004\\\\ses-20200730\\\\ieeg\\\\sub-004_ses-20200730_task-ONRestRefMastoid_run-5_ieeg.vhdr',\n",
       " 'C:\\\\Users\\\\icn_admin\\\\OneDrive - Charité - Universitätsmedizin Berlin\\\\Data\\\\BIDS Berlin\\\\sub-004\\\\ses-20200730\\\\ieeg\\\\sub-004_ses-20200730_task-ONRotaBlockLRefSTNR1_run-6_ieeg.vhdr',\n",
       " 'C:\\\\Users\\\\icn_admin\\\\OneDrive - Charité - Universitätsmedizin Berlin\\\\Data\\\\BIDS Berlin\\\\sub-004\\\\ses-20200730\\\\ieeg\\\\sub-004_ses-20200730_task-ONRotaBlockRig2xLTRefSTNR1_run-7_ieeg.vhdr',\n",
       " 'C:\\\\Users\\\\icn_admin\\\\OneDrive - Charité - Universitätsmedizin Berlin\\\\Data\\\\BIDS Berlin\\\\sub-004\\\\ses-20200730\\\\ieeg\\\\sub-004_ses-20200730_task-OnRotaSelfpR2xLTRefSTNR1_run-8_ieeg.vhdr',\n",
       " 'C:\\\\Users\\\\icn_admin\\\\OneDrive - Charité - Universitätsmedizin Berlin\\\\Data\\\\BIDS Berlin\\\\sub-004\\\\ses-20200730\\\\ieeg\\\\sub-004_ses-20200730_task-ONSelfpacedBlockLRefStnr1_run-9_ieeg.vhdr',\n",
       " 'C:\\\\Users\\\\icn_admin\\\\OneDrive - Charité - Universitätsmedizin Berlin\\\\Data\\\\BIDS Berlin\\\\sub-004\\\\ses-20200730\\\\ieeg\\\\sub-004_ses-20200730_task-ONSpeech2xLTRefSTNR1_run-10_ieeg.vhdr',\n",
       " 'C:\\\\Users\\\\icn_admin\\\\OneDrive - Charité - Universitätsmedizin Berlin\\\\Data\\\\BIDS Berlin\\\\sub-004\\\\ses-20200730\\\\ieeg\\\\sub-004_ses-20200730_task-RestOffRefMastoid_run-11_ieeg.vhdr',\n",
       " 'C:\\\\Users\\\\icn_admin\\\\OneDrive - Charité - Universitätsmedizin Berlin\\\\Data\\\\BIDS Berlin\\\\sub-004\\\\ses-20200730\\\\ieeg\\\\sub-004_ses-20200730_task-RestOffRefSTNR1_run-12_ieeg.vhdr',\n",
       " 'C:\\\\Users\\\\icn_admin\\\\OneDrive - Charité - Universitätsmedizin Berlin\\\\Data\\\\BIDS Berlin\\\\sub-004\\\\ses-20200730\\\\ieeg\\\\sub-004_ses-20200730_task-rotaBlockOffLeftRefSTNR1_run-13_ieeg.vhdr',\n",
       " 'C:\\\\Users\\\\icn_admin\\\\OneDrive - Charité - Universitätsmedizin Berlin\\\\Data\\\\BIDS Berlin\\\\sub-004\\\\ses-20200730\\\\ieeg\\\\sub-004_ses-20200730_task-rotaBlockOffRefSTNR1_run-14_ieeg.vhdr',\n",
       " 'C:\\\\Users\\\\icn_admin\\\\OneDrive - Charité - Universitätsmedizin Berlin\\\\Data\\\\BIDS Berlin\\\\sub-004\\\\ses-20200730\\\\ieeg\\\\sub-004_ses-20200730_task-RotaSelfpaceOFFLeftRefSTNR1_run-15_ieeg.vhdr',\n",
       " 'C:\\\\Users\\\\icn_admin\\\\OneDrive - Charité - Universitätsmedizin Berlin\\\\Data\\\\BIDS Berlin\\\\sub-004\\\\ses-20200730\\\\ieeg\\\\sub-004_ses-20200730_task-RotaSelfpaceOFFRefSTNR1_run-16_ieeg.vhdr',\n",
       " 'C:\\\\Users\\\\icn_admin\\\\OneDrive - Charité - Universitätsmedizin Berlin\\\\Data\\\\BIDS Berlin\\\\sub-004\\\\ses-20200730\\\\ieeg\\\\sub-004_ses-20200730_task-SpeechRefSTNR1_run-17_ieeg.vhdr',\n",
       " 'C:\\\\Users\\\\icn_admin\\\\OneDrive - Charité - Universitätsmedizin Berlin\\\\Data\\\\BIDS Berlin\\\\sub-004\\\\ses-20200730\\\\ieeg\\\\sub-004_ses-20200730_task-UPDRSIIIOffRefSTNR1_run-18_ieeg.vhdr']"
      ]
     },
     "execution_count": 5,
     "metadata": {},
     "output_type": "execute_result"
    }
   ],
   "source": [
    "ieeg_files"
   ]
  },
  {
   "cell_type": "code",
   "execution_count": 6,
   "metadata": {},
   "outputs": [],
   "source": [
    "subject, run, sess = IO.get_sess_run_subject(ieeg_files[0])"
   ]
  },
  {
   "cell_type": "code",
   "execution_count": 7,
   "metadata": {},
   "outputs": [
    {
     "data": {
      "text/plain": [
       "'002'"
      ]
     },
     "execution_count": 7,
     "metadata": {},
     "output_type": "execute_result"
    }
   ],
   "source": [
    "subject"
   ]
  },
  {
   "cell_type": "code",
   "execution_count": 8,
   "metadata": {},
   "outputs": [
    {
     "data": {
      "text/plain": [
       "'0'"
      ]
     },
     "execution_count": 8,
     "metadata": {},
     "output_type": "execute_result"
    }
   ],
   "source": [
    "run"
   ]
  },
  {
   "cell_type": "code",
   "execution_count": 9,
   "metadata": {
    "scrolled": true
   },
   "outputs": [
    {
     "data": {
      "text/plain": [
       "'20200130'"
      ]
     },
     "execution_count": 9,
     "metadata": {},
     "output_type": "execute_result"
    }
   ],
   "source": [
    "sess"
   ]
  },
  {
   "cell_type": "code",
   "execution_count": 10,
   "metadata": {},
   "outputs": [],
   "source": [
    "sf=IO.read_run_sampling_frequency(ieeg_files[0])"
   ]
  },
  {
   "cell_type": "code",
   "execution_count": 11,
   "metadata": {
    "scrolled": true
   },
   "outputs": [
    {
     "data": {
      "text/plain": [
       "0     4098.360656\n",
       "1     4098.360656\n",
       "2     4098.360656\n",
       "3     4098.360656\n",
       "4     4098.360656\n",
       "5     4098.360656\n",
       "6     4098.360656\n",
       "7     4098.360656\n",
       "8     4098.360656\n",
       "9     4098.360656\n",
       "10    4098.360656\n",
       "11    4098.360656\n",
       "12    4098.360656\n",
       "13    4098.360656\n",
       "14    4098.360656\n",
       "15    4098.360656\n",
       "16    4098.360656\n",
       "17    4098.360656\n",
       "18    4098.360656\n",
       "19    4098.360656\n",
       "20    4098.360656\n",
       "21    4098.360656\n",
       "22    4098.360656\n",
       "23    4098.360656\n",
       "24    4098.360656\n",
       "25    4098.360656\n",
       "26    4098.360656\n",
       "Name: sampling_frequency, dtype: float64"
      ]
     },
     "execution_count": 11,
     "metadata": {},
     "output_type": "execute_result"
    }
   ],
   "source": [
    "sf"
   ]
  },
  {
   "cell_type": "code",
   "execution_count": 12,
   "metadata": {
    "scrolled": true
   },
   "outputs": [],
   "source": [
    "line_noise = IO.read_line_noise(settings['BIDS_path'],\"002\") # the line noise column is missing in the \n",
    "# participants.tsv"
   ]
  },
  {
   "cell_type": "code",
   "execution_count": 13,
   "metadata": {},
   "outputs": [
    {
     "data": {
      "text/plain": [
       "4098.360655737705"
      ]
     },
     "execution_count": 13,
     "metadata": {},
     "output_type": "execute_result"
    }
   ],
   "source": [
    "sf[0]"
   ]
  },
  {
   "cell_type": "code",
   "execution_count": 14,
   "metadata": {},
   "outputs": [
    {
     "data": {
      "text/plain": [
       "50"
      ]
     },
     "execution_count": 14,
     "metadata": {},
     "output_type": "execute_result"
    }
   ],
   "source": [
    "line_noise"
   ]
  },
  {
   "cell_type": "markdown",
   "metadata": {},
   "source": [
    "### adapt the filter function! "
   ]
  },
  {
   "cell_type": "code",
   "execution_count": null,
   "metadata": {},
   "outputs": [],
   "source": []
  },
  {
   "cell_type": "code",
   "execution_count": 24,
   "metadata": {},
   "outputs": [],
   "source": [
    "# this had been necessary due to an error calculating the MNE filters in MNE\n",
    "if sf[0]>1000:\n",
    "    filter_len=sf\n",
    "else:\n",
    "    filter_len=1001\n",
    "    \n",
    "# but in general, set the filter length to the sampling frequency\n",
    "filter_len = int(np.ceil(sf[0]))"
   ]
  },
  {
   "cell_type": "code",
   "execution_count": 25,
   "metadata": {},
   "outputs": [
    {
     "data": {
      "text/plain": [
       "4099"
      ]
     },
     "execution_count": 25,
     "metadata": {},
     "output_type": "execute_result"
    }
   ],
   "source": [
    "filter_len"
   ]
  },
  {
   "cell_type": "code",
   "execution_count": 26,
   "metadata": {},
   "outputs": [
    {
     "data": {
      "text/plain": [
       "[[4, 8], [8, 12], [13, 20], [20, 35], [13, 35], [60, 80], [90, 200], [60, 200]]"
      ]
     },
     "execution_count": 26,
     "metadata": {},
     "output_type": "execute_result"
    }
   ],
   "source": [
    "settings['frequencyranges']"
   ]
  },
  {
   "cell_type": "code",
   "execution_count": 27,
   "metadata": {},
   "outputs": [
    {
     "data": {
      "text/plain": [
       "[1, 2, 2, 3, 3, 3, 10, 10, 10]"
      ]
     },
     "execution_count": 27,
     "metadata": {},
     "output_type": "execute_result"
    }
   ],
   "source": [
    "settings['seglengths'] # in Hz"
   ]
  },
  {
   "cell_type": "code",
   "execution_count": 74,
   "metadata": {},
   "outputs": [],
   "source": [
    "fs = 4099"
   ]
  },
  {
   "cell_type": "code",
   "execution_count": 75,
   "metadata": {},
   "outputs": [
    {
     "name": "stdout",
     "output_type": "stream",
     "text": [
      "No data specified. Sanity checks related to the length of the signal relative to the filter order will be skipped.\n",
      "Setting up band-pass filter from 4 - 8 Hz\n",
      "\n",
      "FIR filter parameters\n",
      "---------------------\n",
      "Designing a one-pass, zero-phase, non-causal bandpass filter:\n",
      "- Windowed time-domain design (firwin) method\n",
      "- Hamming window with 0.0194 passband ripple and 53 dB stopband attenuation\n",
      "- Lower passband edge: 4.00\n",
      "- Lower transition bandwidth: 4.00 Hz (-6 dB cutoff frequency: 2.00 Hz)\n",
      "- Upper passband edge: 8.00 Hz\n",
      "- Upper transition bandwidth: 4.00 Hz (-6 dB cutoff frequency: 10.00 Hz)\n",
      "- Filter length: 4099 samples (1.000 sec)\n",
      "\n",
      "No data specified. Sanity checks related to the length of the signal relative to the filter order will be skipped.\n",
      "Setting up band-pass filter from 8 - 12 Hz\n",
      "\n",
      "FIR filter parameters\n",
      "---------------------\n",
      "Designing a one-pass, zero-phase, non-causal bandpass filter:\n",
      "- Windowed time-domain design (firwin) method\n",
      "- Hamming window with 0.0194 passband ripple and 53 dB stopband attenuation\n",
      "- Lower passband edge: 8.00\n",
      "- Lower transition bandwidth: 4.00 Hz (-6 dB cutoff frequency: 6.00 Hz)\n",
      "- Upper passband edge: 12.00 Hz\n",
      "- Upper transition bandwidth: 4.00 Hz (-6 dB cutoff frequency: 14.00 Hz)\n",
      "- Filter length: 4099 samples (1.000 sec)\n",
      "\n",
      "No data specified. Sanity checks related to the length of the signal relative to the filter order will be skipped.\n",
      "Setting up band-pass filter from 13 - 20 Hz\n",
      "\n",
      "FIR filter parameters\n",
      "---------------------\n",
      "Designing a one-pass, zero-phase, non-causal bandpass filter:\n",
      "- Windowed time-domain design (firwin) method\n",
      "- Hamming window with 0.0194 passband ripple and 53 dB stopband attenuation\n",
      "- Lower passband edge: 13.00\n",
      "- Lower transition bandwidth: 4.00 Hz (-6 dB cutoff frequency: 11.00 Hz)\n",
      "- Upper passband edge: 20.00 Hz\n",
      "- Upper transition bandwidth: 4.00 Hz (-6 dB cutoff frequency: 22.00 Hz)\n",
      "- Filter length: 4099 samples (1.000 sec)\n",
      "\n",
      "No data specified. Sanity checks related to the length of the signal relative to the filter order will be skipped.\n",
      "Setting up band-pass filter from 20 - 35 Hz\n",
      "\n",
      "FIR filter parameters\n",
      "---------------------\n",
      "Designing a one-pass, zero-phase, non-causal bandpass filter:\n",
      "- Windowed time-domain design (firwin) method\n",
      "- Hamming window with 0.0194 passband ripple and 53 dB stopband attenuation\n",
      "- Lower passband edge: 20.00\n",
      "- Lower transition bandwidth: 4.00 Hz (-6 dB cutoff frequency: 18.00 Hz)\n",
      "- Upper passband edge: 35.00 Hz\n",
      "- Upper transition bandwidth: 4.00 Hz (-6 dB cutoff frequency: 37.00 Hz)\n",
      "- Filter length: 4099 samples (1.000 sec)\n",
      "\n",
      "No data specified. Sanity checks related to the length of the signal relative to the filter order will be skipped.\n",
      "Setting up band-pass filter from 13 - 35 Hz\n",
      "\n",
      "FIR filter parameters\n",
      "---------------------\n",
      "Designing a one-pass, zero-phase, non-causal bandpass filter:\n",
      "- Windowed time-domain design (firwin) method\n",
      "- Hamming window with 0.0194 passband ripple and 53 dB stopband attenuation\n",
      "- Lower passband edge: 13.00\n",
      "- Lower transition bandwidth: 4.00 Hz (-6 dB cutoff frequency: 11.00 Hz)\n",
      "- Upper passband edge: 35.00 Hz\n",
      "- Upper transition bandwidth: 4.00 Hz (-6 dB cutoff frequency: 37.00 Hz)\n",
      "- Filter length: 4099 samples (1.000 sec)\n",
      "\n",
      "No data specified. Sanity checks related to the length of the signal relative to the filter order will be skipped.\n",
      "Setting up band-pass filter from 60 - 80 Hz\n",
      "\n",
      "FIR filter parameters\n",
      "---------------------\n",
      "Designing a one-pass, zero-phase, non-causal bandpass filter:\n",
      "- Windowed time-domain design (firwin) method\n",
      "- Hamming window with 0.0194 passband ripple and 53 dB stopband attenuation\n",
      "- Lower passband edge: 60.00\n",
      "- Lower transition bandwidth: 4.00 Hz (-6 dB cutoff frequency: 58.00 Hz)\n",
      "- Upper passband edge: 80.00 Hz\n",
      "- Upper transition bandwidth: 4.00 Hz (-6 dB cutoff frequency: 82.00 Hz)\n",
      "- Filter length: 4099 samples (1.000 sec)\n",
      "\n",
      "No data specified. Sanity checks related to the length of the signal relative to the filter order will be skipped.\n",
      "Setting up band-pass filter from 90 - 2e+02 Hz\n",
      "\n",
      "FIR filter parameters\n",
      "---------------------\n",
      "Designing a one-pass, zero-phase, non-causal bandpass filter:\n",
      "- Windowed time-domain design (firwin) method\n",
      "- Hamming window with 0.0194 passband ripple and 53 dB stopband attenuation\n",
      "- Lower passband edge: 90.00\n",
      "- Lower transition bandwidth: 4.00 Hz (-6 dB cutoff frequency: 88.00 Hz)\n",
      "- Upper passband edge: 200.00 Hz\n",
      "- Upper transition bandwidth: 4.00 Hz (-6 dB cutoff frequency: 202.00 Hz)\n",
      "- Filter length: 4099 samples (1.000 sec)\n",
      "\n",
      "No data specified. Sanity checks related to the length of the signal relative to the filter order will be skipped.\n",
      "Setting up band-pass filter from 60 - 2e+02 Hz\n",
      "\n",
      "FIR filter parameters\n",
      "---------------------\n",
      "Designing a one-pass, zero-phase, non-causal bandpass filter:\n",
      "- Windowed time-domain design (firwin) method\n",
      "- Hamming window with 0.0194 passband ripple and 53 dB stopband attenuation\n",
      "- Lower passband edge: 60.00\n",
      "- Lower transition bandwidth: 4.00 Hz (-6 dB cutoff frequency: 58.00 Hz)\n",
      "- Upper passband edge: 200.00 Hz\n",
      "- Upper transition bandwidth: 4.00 Hz (-6 dB cutoff frequency: 202.00 Hz)\n",
      "- Filter length: 4099 samples (1.000 sec)\n",
      "\n"
     ]
    }
   ],
   "source": [
    "filter_fun = filter.calc_band_filters(settings['frequencyranges'], sample_rate=fs, filter_len=filter_len)"
   ]
  },
  {
   "cell_type": "code",
   "execution_count": null,
   "metadata": {},
   "outputs": [],
   "source": []
  },
  {
   "cell_type": "code",
   "execution_count": 76,
   "metadata": {},
   "outputs": [
    {
     "data": {
      "image/png": "[encoded data removed]",
      "text/plain": [
       "<Figure size 1440x360 with 2 Axes>"
      ]
     },
     "metadata": {
      "needs_background": "light"
     },
     "output_type": "display_data"
    }
   ],
   "source": [
    "plt.figure(figsize=(20,5))\n",
    "plt.imshow(filter_fun, aspect='auto')\n",
    "plt.colorbar()\n",
    "plt.show()"
   ]
  },
  {
   "cell_type": "code",
   "execution_count": 78,
   "metadata": {},
   "outputs": [],
   "source": [
    "offset_start = int(np.ceil(settings[\"seglengths\"][0] * fs))"
   ]
  },
  {
   "cell_type": "code",
   "execution_count": 79,
   "metadata": {},
   "outputs": [
    {
     "data": {
      "text/plain": [
       "4099"
      ]
     },
     "execution_count": 79,
     "metadata": {},
     "output_type": "execute_result"
    }
   ],
   "source": [
    "offset_start"
   ]
  },
  {
   "cell_type": "code",
   "execution_count": 42,
   "metadata": {},
   "outputs": [
    {
     "name": "stdout",
     "output_type": "stream",
     "text": [
      "Extracting parameters from C:\\Users\\icn_admin\\OneDrive - Charité - Universitätsmedizin Berlin\\Data\\BIDS Berlin\\sub-002\\ses-20200130\\ieeg\\sub-002_ses-20200130_task-restMEDON20200130T111458_run-0_ieeg.vhdr...\n",
      "Setting channel info structure...\n"
     ]
    }
   ],
   "source": [
    "ieeg_raw, ch_names = IO.read_BIDS_file(ieeg_files[0])"
   ]
  },
  {
   "cell_type": "code",
   "execution_count": 43,
   "metadata": {
    "scrolled": true
   },
   "outputs": [
    {
     "data": {
      "text/plain": [
       "['CREF',\n",
       " 'LFP_BS_STN_R_1',\n",
       " 'LFP_BS_STN_R_2',\n",
       " 'LFP_BS_STN_R_3',\n",
       " 'LFP_BS_STN_R_4',\n",
       " 'LFP_BS_STN_R_5',\n",
       " 'LFP_BS_STN_R_6',\n",
       " 'LFP_BS_STN_R_7',\n",
       " 'LFP_BS_STN_R_8',\n",
       " 'LFP_BS_STN_L_1',\n",
       " 'LFP_BS_STN_L_2',\n",
       " 'LFP_BS_STN_L_3',\n",
       " 'LFP_BS_STN_L_4',\n",
       " 'LFP_BS_STN_L_5',\n",
       " 'LFP_BS_STN_L_6',\n",
       " 'LFP_BS_STN_L_7',\n",
       " 'LFP_BS_STN_L_8',\n",
       " 'EEG_TM_Cz__1',\n",
       " 'EEG_TM_Cz__2',\n",
       " 'ECOG_AT_SM_L_1',\n",
       " 'ECOG_AT_SM_L_2',\n",
       " 'ECOG_AT_SM_L_3',\n",
       " 'ECOG_AT_SM_L_4',\n",
       " 'ECOG_AT_SM_L_5',\n",
       " 'ECOG_AT_SM_L_6',\n",
       " 'EMG_TM_BR_R_1',\n",
       " 'EMG_TM_BR_L_1']"
      ]
     },
     "execution_count": 43,
     "metadata": {},
     "output_type": "execute_result"
    }
   ],
   "source": [
    "ch_names"
   ]
  },
  {
   "cell_type": "code",
   "execution_count": 44,
   "metadata": {},
   "outputs": [
    {
     "data": {
      "text/plain": [
       "(27, 1232738)"
      ]
     },
     "execution_count": 44,
     "metadata": {},
     "output_type": "execute_result"
    }
   ],
   "source": [
    "ieeg_raw.shape"
   ]
  },
  {
   "cell_type": "markdown",
   "metadata": {},
   "source": [
    "### now call / rewrite run file"
   ]
  },
  {
   "cell_type": "code",
   "execution_count": 46,
   "metadata": {},
   "outputs": [],
   "source": [
    "#given the ieeg raw file write a generator\n",
    "def ieeg_raw_generator(ieeg_raw, fs, fs_new, offset_start):\n",
    "     \n",
    "    cnt_fsnew = 0\n",
    "    for cnt in range(ieeg_raw.shape[1]):\n",
    "        if cnt < offset_start:\n",
    "            cnt_fsnew +=1\n",
    "            continue\n",
    "        \n",
    "        cnt_fsnew +=1\n",
    "        if cnt_fsnew >= (fs/fs_new):\n",
    "            cnt_fsnew = 0\n",
    "            yield ieeg_raw[:,cnt-offset_start:cnt]"
   ]
  },
  {
   "cell_type": "code",
   "execution_count": 80,
   "metadata": {},
   "outputs": [],
   "source": [
    "gen_ = ieeg_raw_generator(ieeg_raw, fs=fs, fs_new=10, offset_start=offset_start)"
   ]
  },
  {
   "cell_type": "code",
   "execution_count": 247,
   "metadata": {},
   "outputs": [
    {
     "data": {
      "text/plain": [
       "10"
      ]
     },
     "execution_count": 247,
     "metadata": {},
     "output_type": "execute_result"
    }
   ],
   "source": [
    "settings[\"resamplingrate\"]"
   ]
  },
  {
   "cell_type": "code",
   "execution_count": null,
   "metadata": {},
   "outputs": [],
   "source": [
    "# call apply_filter function \n",
    "# apply_filter: notch filter and filter convoluation "
   ]
  },
  {
   "cell_type": "code",
   "execution_count": 81,
   "metadata": {},
   "outputs": [],
   "source": [
    "arr = next(gen_)"
   ]
  },
  {
   "cell_type": "code",
   "execution_count": 82,
   "metadata": {},
   "outputs": [
    {
     "name": "stderr",
     "output_type": "stream",
     "text": [
      "<ipython-input-82-5a1408800f77>:3: RuntimeWarning: filter_length (4099) is longer than the signal (27), distortion is likely. Reduce filter length or filter a longer signal.\n",
      "  fir_design='firwin', verbose=False, notch_widths=1,filter_length=arr.T.shape[0]-1)\n"
     ]
    }
   ],
   "source": [
    "dat_notch_filtered = mne.filter.notch_filter(x=arr.T, Fs=fs, trans_bandwidth=7,\n",
    "            freqs=np.arange(50, 4*50, 50),\n",
    "            fir_design='firwin', verbose=False, notch_widths=1,filter_length=arr.T.shape[0]-1)"
   ]
  },
  {
   "cell_type": "code",
   "execution_count": 83,
   "metadata": {},
   "outputs": [
    {
     "data": {
      "text/plain": [
       "(4099, 27)"
      ]
     },
     "execution_count": 83,
     "metadata": {},
     "output_type": "execute_result"
    }
   ],
   "source": [
    "dat_notch_filtered.shape"
   ]
  },
  {
   "cell_type": "code",
   "execution_count": 84,
   "metadata": {},
   "outputs": [
    {
     "data": {
      "text/plain": [
       "(8, 4099)"
      ]
     },
     "execution_count": 84,
     "metadata": {},
     "output_type": "execute_result"
    }
   ],
   "source": [
    "filter_fun.shape"
   ]
  },
  {
   "cell_type": "code",
   "execution_count": 85,
   "metadata": {},
   "outputs": [
    {
     "data": {
      "image/png": "[encoded data removed]",
      "text/plain": [
       "<Figure size 432x288 with 1 Axes>"
      ]
     },
     "metadata": {
      "needs_background": "light"
     },
     "output_type": "display_data"
    }
   ],
   "source": [
    "plt.imshow(dat_notch_filtered.T, aspect='auto')\n",
    "plt.show()"
   ]
  },
  {
   "cell_type": "code",
   "execution_count": 86,
   "metadata": {},
   "outputs": [
    {
     "data": {
      "image/png": "[encoded data removed]",
      "text/plain": [
       "<Figure size 432x288 with 1 Axes>"
      ]
     },
     "metadata": {
      "needs_background": "light"
     },
     "output_type": "display_data"
    }
   ],
   "source": [
    "plt.imshow(filter_fun, aspect='auto')\n",
    "plt.show()"
   ]
  },
  {
   "cell_type": "code",
   "execution_count": 94,
   "metadata": {},
   "outputs": [
    {
     "data": {
      "text/plain": [
       "(8, 4099)"
      ]
     },
     "execution_count": 94,
     "metadata": {},
     "output_type": "execute_result"
    }
   ],
   "source": [
    "filter_fun.shape"
   ]
  },
  {
   "cell_type": "code",
   "execution_count": 93,
   "metadata": {},
   "outputs": [
    {
     "data": {
      "text/plain": [
       "(4099, 27)"
      ]
     },
     "execution_count": 93,
     "metadata": {},
     "output_type": "execute_result"
    }
   ],
   "source": [
    "dat_notch_filtered.shape"
   ]
  },
  {
   "cell_type": "code",
   "execution_count": 89,
   "metadata": {},
   "outputs": [
    {
     "data": {
      "text/plain": [
       "array([4096, 2048, 2048, 1365, 1365, 1365,  409,  409,  409])"
      ]
     },
     "execution_count": 89,
     "metadata": {},
     "output_type": "execute_result"
    }
   ],
   "source": [
    "(4096/np.array(settings[\"seglengths\"])).astype(int)"
   ]
  },
  {
   "cell_type": "code",
   "execution_count": 98,
   "metadata": {},
   "outputs": [
    {
     "name": "stderr",
     "output_type": "stream",
     "text": [
      "C:\\code\\icn\\icn_m1\\restructure\\filter.py:72: RuntimeWarning: filter_length (4099) is longer than the signal (27), distortion is likely. Reduce filter length or filter a longer signal.\n",
      "  fir_design='firwin', verbose=False, notch_widths=1,filter_length=dat_.shape[0]-1)\n"
     ]
    },
    {
     "ename": "ValueError",
     "evalue": "volume and kernel should have the same dimensionality",
     "output_type": "error",
     "traceback": [
      "\u001b[1;31m---------------------------------------------------------------------------\u001b[0m",
      "\u001b[1;31mValueError\u001b[0m                                Traceback (most recent call last)",
      "\u001b[1;32m<ipython-input-98-80ce2b73b981>\u001b[0m in \u001b[0;36m<module>\u001b[1;34m\u001b[0m\n\u001b[0;32m      1\u001b[0m dat_filt = filter.apply_filter(arr.T, sample_rate=fs, \\\n\u001b[0;32m      2\u001b[0m                                \u001b[0mfilter_fun\u001b[0m\u001b[1;33m=\u001b[0m\u001b[0mfilter_fun\u001b[0m\u001b[1;33m.\u001b[0m\u001b[0mT\u001b[0m\u001b[1;33m,\u001b[0m\u001b[1;33m\u001b[0m\u001b[1;33m\u001b[0m\u001b[0m\n\u001b[1;32m----> 3\u001b[1;33m                                line_noise=50, seglengths=(fs/np.array(settings[\"seglengths\"])).astype(int))\n\u001b[0m",
      "\u001b[1;32mC:\\code\\icn\\icn_m1\\restructure\\filter.py\u001b[0m in \u001b[0;36mapply_filter\u001b[1;34m(dat_, sample_rate, filter_fun, line_noise, variance, seglengths)\u001b[0m\n\u001b[0;32m     78\u001b[0m         \u001b[1;32mif\u001b[0m \u001b[0mvariance\u001b[0m\u001b[1;33m:\u001b[0m\u001b[1;33m\u001b[0m\u001b[1;33m\u001b[0m\u001b[0m\n\u001b[0;32m     79\u001b[0m             filtered.append(np.var(scipy.signal.convolve(filter_fun[filt,:], \n\u001b[1;32m---> 80\u001b[1;33m                                                dat_noth_filtered, mode='same')[-seglengths[filt]:]))\n\u001b[0m\u001b[0;32m     81\u001b[0m         \u001b[1;32melse\u001b[0m\u001b[1;33m:\u001b[0m\u001b[1;33m\u001b[0m\u001b[1;33m\u001b[0m\u001b[0m\n\u001b[0;32m     82\u001b[0m             \u001b[1;31m# filtered.append(scipy.signal.convolve(filter_fun[filt,:],\u001b[0m\u001b[1;33m\u001b[0m\u001b[1;33m\u001b[0m\u001b[1;33m\u001b[0m\u001b[0m\n",
      "\u001b[1;32mC:\\code\\Anaconda3\\lib\\site-packages\\scipy\\signal\\signaltools.py\u001b[0m in \u001b[0;36mconvolve\u001b[1;34m(in1, in2, mode, method)\u001b[0m\n\u001b[0;32m   1257\u001b[0m         \u001b[1;32mreturn\u001b[0m \u001b[0mvolume\u001b[0m \u001b[1;33m*\u001b[0m \u001b[0mkernel\u001b[0m\u001b[1;33m\u001b[0m\u001b[1;33m\u001b[0m\u001b[0m\n\u001b[0;32m   1258\u001b[0m     \u001b[1;32melif\u001b[0m \u001b[0mvolume\u001b[0m\u001b[1;33m.\u001b[0m\u001b[0mndim\u001b[0m \u001b[1;33m!=\u001b[0m \u001b[0mkernel\u001b[0m\u001b[1;33m.\u001b[0m\u001b[0mndim\u001b[0m\u001b[1;33m:\u001b[0m\u001b[1;33m\u001b[0m\u001b[1;33m\u001b[0m\u001b[0m\n\u001b[1;32m-> 1259\u001b[1;33m         raise ValueError(\"volume and kernel should have the same \"\n\u001b[0m\u001b[0;32m   1260\u001b[0m                          \"dimensionality\")\n\u001b[0;32m   1261\u001b[0m \u001b[1;33m\u001b[0m\u001b[0m\n",
      "\u001b[1;31mValueError\u001b[0m: volume and kernel should have the same dimensionality"
     ]
    }
   ],
   "source": [
    "dat_filt = filter.apply_filter(arr.T, sample_rate=fs, \\\n",
    "                               filter_fun=filter_fun.T,\n",
    "                               line_noise=50, seglengths=(fs/np.array(settings[\"seglengths\"])).astype(int))"
   ]
  },
  {
   "cell_type": "code",
   "execution_count": 101,
   "metadata": {},
   "outputs": [],
   "source": [
    "dat_ = arr.T\n",
    "sample_rate = fs\n",
    "filter_fun = filter_fun\n",
    "line_noise = line_noise\n",
    "variance=True\n",
    "seglengths=(fs/np.array(settings[\"seglengths\"])).astype(int)"
   ]
  },
  {
   "cell_type": "code",
   "execution_count": 114,
   "metadata": {},
   "outputs": [
    {
     "name": "stderr",
     "output_type": "stream",
     "text": [
      "<ipython-input-114-e667d12fe972>:3: RuntimeWarning: filter_length (4099) is longer than the signal (27), distortion is likely. Reduce filter length or filter a longer signal.\n",
      "  fir_design='firwin', verbose=False, notch_widths=1,filter_length=dat_.shape[0]-1)\n"
     ]
    }
   ],
   "source": [
    "dat_noth_filtered = mne.filter.notch_filter(x=dat_, Fs=sample_rate, trans_bandwidth=7,\n",
    "            freqs=np.arange(line_noise, 4*line_noise, line_noise),\n",
    "            fir_design='firwin', verbose=False, notch_widths=1,filter_length=dat_.shape[0]-1)"
   ]
  },
  {
   "cell_type": "code",
   "execution_count": 108,
   "metadata": {},
   "outputs": [
    {
     "data": {
      "text/plain": [
       "(4099, 1)"
      ]
     },
     "execution_count": 108,
     "metadata": {},
     "output_type": "execute_result"
    }
   ],
   "source": [
    "np.expand_dims(filter_fun[filt,:], axis=1).shape"
   ]
  },
  {
   "cell_type": "code",
   "execution_count": 107,
   "metadata": {},
   "outputs": [
    {
     "data": {
      "text/plain": [
       "(4099, 27)"
      ]
     },
     "execution_count": 107,
     "metadata": {},
     "output_type": "execute_result"
    }
   ],
   "source": [
    "dat_noth_filtered.shape"
   ]
  },
  {
   "cell_type": "code",
   "execution_count": 113,
   "metadata": {},
   "outputs": [],
   "source": [
    "scipy.signal.convolve?"
   ]
  },
  {
   "cell_type": "code",
   "execution_count": 110,
   "metadata": {},
   "outputs": [],
   "source": [
    "filtered = []\n",
    "\n",
    "for filt in range(filter_fun.shape[0]):\n",
    "    if variance:\n",
    "        filtered.append(np.var(scipy.signal.convolve(filter_fun[filt,:], \\\n",
    "                                           dat_noth_filtered[:,5], mode='same')[-seglengths[filt]:]))\n",
    "    else:\n",
    "        # filtered.append(scipy.signal.convolve(filter_fun[filt,:], \n",
    "        #                                     dat_noth_filtered, mode='same')[-seglengths[filt]:])\n",
    "        filtered.append(scipy.signal.convolve(filter_fun[filt,:] , \\\n",
    "                                            dat_noth_filtered, mode='same'))"
   ]
  },
  {
   "cell_type": "code",
   "execution_count": 112,
   "metadata": {},
   "outputs": [
    {
     "data": {
      "text/plain": [
       "[12047960.374935554,\n",
       " 3528808.9923731694,\n",
       " 1789123.547775341,\n",
       " 1758856.5351953262,\n",
       " 3888250.3203928843,\n",
       " 319663.9213517903,\n",
       " 1394622.6310177695,\n",
       " 2650913.889701031]"
      ]
     },
     "execution_count": 112,
     "metadata": {},
     "output_type": "execute_result"
    }
   ],
   "source": [
    "filtered"
   ]
  },
  {
   "cell_type": "code",
   "execution_count": 53,
   "metadata": {
    "scrolled": true
   },
   "outputs": [
    {
     "data": {
      "text/plain": [
       "[1, 2, 2, 3, 3, 3, 10, 10, 10]"
      ]
     },
     "execution_count": 53,
     "metadata": {},
     "output_type": "execute_result"
    }
   ],
   "source": [
    "settings[\"seglengths\"]"
   ]
  },
  {
   "cell_type": "code",
   "execution_count": 94,
   "metadata": {},
   "outputs": [
    {
     "data": {
      "text/plain": [
       "array([4096.        , 2048.        , 2048.        , 1365.33333333,\n",
       "       1365.33333333, 1365.33333333,  409.6       ,  409.6       ,\n",
       "        409.6       ])"
      ]
     },
     "execution_count": 94,
     "metadata": {},
     "output_type": "execute_result"
    }
   ],
   "source": [
    "4096/np.array(settings[\"seglengths\"])"
   ]
  },
  {
   "cell_type": "code",
   "execution_count": 97,
   "metadata": {},
   "outputs": [
    {
     "data": {
      "text/plain": [
       "array([4096, 2048, 2048, 1365, 1365, 1365,  409,  409,  409])"
      ]
     },
     "execution_count": 97,
     "metadata": {},
     "output_type": "execute_result"
    }
   ],
   "source": [
    "(4096/np.array(settings[\"seglengths\"])).astype(int)"
   ]
  },
  {
   "cell_type": "code",
   "execution_count": 100,
   "metadata": {},
   "outputs": [
    {
     "data": {
      "text/plain": [
       "(8, 4099)"
      ]
     },
     "execution_count": 100,
     "metadata": {},
     "output_type": "execute_result"
    }
   ],
   "source": [
    "filter_fun.shape"
   ]
  },
  {
   "cell_type": "code",
   "execution_count": 108,
   "metadata": {},
   "outputs": [
    {
     "data": {
      "text/plain": [
       "26"
      ]
     },
     "execution_count": 108,
     "metadata": {},
     "output_type": "execute_result"
    }
   ],
   "source": [
    "arr.shape[0]-1"
   ]
  },
  {
   "cell_type": "code",
   "execution_count": null,
   "metadata": {},
   "outputs": [],
   "source": []
  },
  {
   "cell_type": "code",
   "execution_count": 111,
   "metadata": {},
   "outputs": [
    {
     "name": "stderr",
     "output_type": "stream",
     "text": [
      "<ipython-input-111-af4568edbcd1>:3: RuntimeWarning: filter_length (4095) is longer than the signal (27), distortion is likely. Reduce filter length or filter a longer signal.\n",
      "  fir_design='firwin', verbose=False, notch_widths=1,filter_length=arr.T.shape[0]-1)\n"
     ]
    }
   ],
   "source": []
  },
  {
   "cell_type": "code",
   "execution_count": 110,
   "metadata": {},
   "outputs": [],
   "source": [
    "from mne import viz"
   ]
  },
  {
   "cell_type": "code",
   "execution_count": 113,
   "metadata": {},
   "outputs": [
    {
     "name": "stdout",
     "output_type": "stream",
     "text": [
      "Creating RawArray with float64 data, n_channels=27, n_times=4096\n",
      "    Range : 0 ... 4095 =      0.000 ...     1.000 secs\n",
      "Ready.\n"
     ]
    }
   ],
   "source": [
    "info = mne.create_info(ch_names, 4096, ch_types='ecog')\n",
    "raw = mne.io.RawArray(arr, info)"
   ]
  },
  {
   "cell_type": "code",
   "execution_count": 125,
   "metadata": {},
   "outputs": [
    {
     "data": {
      "text/plain": [
       "['CREF',\n",
       " 'LFP_BS_STN_R_1',\n",
       " 'LFP_BS_STN_R_2',\n",
       " 'LFP_BS_STN_R_3',\n",
       " 'LFP_BS_STN_R_4',\n",
       " 'LFP_BS_STN_R_5',\n",
       " 'LFP_BS_STN_R_6',\n",
       " 'LFP_BS_STN_R_7',\n",
       " 'LFP_BS_STN_R_8',\n",
       " 'LFP_BS_STN_L_1',\n",
       " 'LFP_BS_STN_L_2',\n",
       " 'LFP_BS_STN_L_3',\n",
       " 'LFP_BS_STN_L_4',\n",
       " 'LFP_BS_STN_L_5',\n",
       " 'LFP_BS_STN_L_6',\n",
       " 'LFP_BS_STN_L_7',\n",
       " 'LFP_BS_STN_L_8',\n",
       " 'EEG_TM_Cz__1',\n",
       " 'EEG_TM_Cz__2',\n",
       " 'ECOG_AT_SM_L_1',\n",
       " 'ECOG_AT_SM_L_2',\n",
       " 'ECOG_AT_SM_L_3',\n",
       " 'ECOG_AT_SM_L_4',\n",
       " 'ECOG_AT_SM_L_5',\n",
       " 'ECOG_AT_SM_L_6',\n",
       " 'EMG_TM_BR_R_1',\n",
       " 'EMG_TM_BR_L_1']"
      ]
     },
     "execution_count": 125,
     "metadata": {},
     "output_type": "execute_result"
    }
   ],
   "source": [
    "ch_names"
   ]
  },
  {
   "cell_type": "code",
   "execution_count": 128,
   "metadata": {},
   "outputs": [
    {
     "name": "stdout",
     "output_type": "stream",
     "text": [
      "Effective window size : 0.500 (s)\n"
     ]
    },
    {
     "name": "stderr",
     "output_type": "stream",
     "text": [
      "<ipython-input-128-a638265c3c62>:1: RuntimeWarning: Channel locations not available. Disabling spatial colors.\n",
      "  raw.plot_psd(picks=[\"ECOG_AT_SM_L_1\", \"ECOG_AT_SM_L_2\", \"ECOG_AT_SM_L_3\"])\n"
     ]
    },
    {
     "data": {
      "image/png": "[encoded data removed]",
      "text/plain": [
       "<Figure size 432x288 with 1 Axes>"
      ]
     },
     "metadata": {
      "needs_background": "light"
     },
     "output_type": "display_data"
    }
   ],
   "source": [
    "raw.plot_psd(picks=[\"ECOG_AT_SM_L_1\", \"ECOG_AT_SM_L_2\", \"ECOG_AT_SM_L_3\"])\n",
    "plt.show()"
   ]
  },
  {
   "cell_type": "code",
   "execution_count": null,
   "metadata": {},
   "outputs": [],
   "source": []
  },
  {
   "cell_type": "code",
   "execution_count": 98,
   "metadata": {
    "scrolled": true
   },
   "outputs": [
    {
     "ename": "ValueError",
     "evalue": "The requested filter length 27 is too short for the requested 1.75 Hz transition band, which requires 3863 samples",
     "output_type": "error",
     "traceback": [
      "\u001b[1;31m---------------------------------------------------------------------------\u001b[0m",
      "\u001b[1;31mValueError\u001b[0m                                Traceback (most recent call last)",
      "\u001b[1;32m<ipython-input-98-a0192ce267bf>\u001b[0m in \u001b[0;36m<module>\u001b[1;34m\u001b[0m\n\u001b[0;32m      1\u001b[0m dat_filt = filter.apply_filter(arr, sample_rate=4096, filter_fun=filter_fun, \\\n\u001b[1;32m----> 2\u001b[1;33m                                line_noise=50, seglengths=(4096/np.array(settings[\"seglengths\"])).astype(int))\n\u001b[0m",
      "\u001b[1;32m~\\Documents\\icn\\icn_m1\\restructure\\filter.py\u001b[0m in \u001b[0;36mapply_filter\u001b[1;34m(dat_, sample_rate, filter_fun, line_noise, variance, seglengths)\u001b[0m\n\u001b[0;32m     70\u001b[0m     dat_noth_filtered = mne.filter.notch_filter(x=dat_, Fs=sample_rate, trans_bandwidth=7,\n\u001b[0;32m     71\u001b[0m             \u001b[0mfreqs\u001b[0m\u001b[1;33m=\u001b[0m\u001b[0mnp\u001b[0m\u001b[1;33m.\u001b[0m\u001b[0marange\u001b[0m\u001b[1;33m(\u001b[0m\u001b[0mline_noise\u001b[0m\u001b[1;33m,\u001b[0m \u001b[1;36m4\u001b[0m\u001b[1;33m*\u001b[0m\u001b[0mline_noise\u001b[0m\u001b[1;33m,\u001b[0m \u001b[0mline_noise\u001b[0m\u001b[1;33m)\u001b[0m\u001b[1;33m,\u001b[0m\u001b[1;33m\u001b[0m\u001b[1;33m\u001b[0m\u001b[0m\n\u001b[1;32m---> 72\u001b[1;33m             fir_design='firwin', verbose=False, notch_widths=1,filter_length=dat_.shape[0]-1)\n\u001b[0m\u001b[0;32m     73\u001b[0m \u001b[1;33m\u001b[0m\u001b[0m\n\u001b[0;32m     74\u001b[0m \u001b[1;33m\u001b[0m\u001b[0m\n",
      "\u001b[1;32m<decorator-gen-117>\u001b[0m in \u001b[0;36mnotch_filter\u001b[1;34m(x, Fs, freqs, filter_length, notch_widths, trans_bandwidth, method, iir_params, mt_bandwidth, p_value, picks, n_jobs, copy, phase, fir_window, fir_design, pad, verbose)\u001b[0m\n",
      "\u001b[1;32m~\\Anaconda3\\lib\\site-packages\\mne\\filter.py\u001b[0m in \u001b[0;36mnotch_filter\u001b[1;34m(x, Fs, freqs, filter_length, notch_widths, trans_bandwidth, method, iir_params, mt_bandwidth, p_value, picks, n_jobs, copy, phase, fir_window, fir_design, pad, verbose)\u001b[0m\n\u001b[0;32m   1190\u001b[0m         xf = filter_data(x, Fs, highs, lows, picks, filter_length, tb_2, tb_2,\n\u001b[0;32m   1191\u001b[0m                          \u001b[0mn_jobs\u001b[0m\u001b[1;33m,\u001b[0m \u001b[0mmethod\u001b[0m\u001b[1;33m,\u001b[0m \u001b[0miir_params\u001b[0m\u001b[1;33m,\u001b[0m \u001b[0mcopy\u001b[0m\u001b[1;33m,\u001b[0m \u001b[0mphase\u001b[0m\u001b[1;33m,\u001b[0m \u001b[0mfir_window\u001b[0m\u001b[1;33m,\u001b[0m\u001b[1;33m\u001b[0m\u001b[1;33m\u001b[0m\u001b[0m\n\u001b[1;32m-> 1192\u001b[1;33m                          fir_design, pad=pad)\n\u001b[0m\u001b[0;32m   1193\u001b[0m     \u001b[1;32melif\u001b[0m \u001b[0mmethod\u001b[0m \u001b[1;33m==\u001b[0m \u001b[1;34m'spectrum_fit'\u001b[0m\u001b[1;33m:\u001b[0m\u001b[1;33m\u001b[0m\u001b[1;33m\u001b[0m\u001b[0m\n\u001b[0;32m   1194\u001b[0m         xf = _mt_spectrum_proc(x, Fs, freqs, notch_widths, mt_bandwidth,\n",
      "\u001b[1;32m<decorator-gen-115>\u001b[0m in \u001b[0;36mfilter_data\u001b[1;34m(data, sfreq, l_freq, h_freq, picks, filter_length, l_trans_bandwidth, h_trans_bandwidth, n_jobs, method, iir_params, copy, phase, fir_window, fir_design, pad, verbose)\u001b[0m\n",
      "\u001b[1;32m~\\Anaconda3\\lib\\site-packages\\mne\\filter.py\u001b[0m in \u001b[0;36mfilter_data\u001b[1;34m(data, sfreq, l_freq, h_freq, picks, filter_length, l_trans_bandwidth, h_trans_bandwidth, n_jobs, method, iir_params, copy, phase, fir_window, fir_design, pad, verbose)\u001b[0m\n\u001b[0;32m    817\u001b[0m     filt = create_filter(\n\u001b[0;32m    818\u001b[0m         \u001b[0mdata\u001b[0m\u001b[1;33m,\u001b[0m \u001b[0msfreq\u001b[0m\u001b[1;33m,\u001b[0m \u001b[0ml_freq\u001b[0m\u001b[1;33m,\u001b[0m \u001b[0mh_freq\u001b[0m\u001b[1;33m,\u001b[0m \u001b[0mfilter_length\u001b[0m\u001b[1;33m,\u001b[0m \u001b[0ml_trans_bandwidth\u001b[0m\u001b[1;33m,\u001b[0m\u001b[1;33m\u001b[0m\u001b[1;33m\u001b[0m\u001b[0m\n\u001b[1;32m--> 819\u001b[1;33m         h_trans_bandwidth, method, iir_params, phase, fir_window, fir_design)\n\u001b[0m\u001b[0;32m    820\u001b[0m     \u001b[1;32mif\u001b[0m \u001b[0mmethod\u001b[0m \u001b[1;32min\u001b[0m \u001b[1;33m(\u001b[0m\u001b[1;34m'fir'\u001b[0m\u001b[1;33m,\u001b[0m \u001b[1;34m'fft'\u001b[0m\u001b[1;33m)\u001b[0m\u001b[1;33m:\u001b[0m\u001b[1;33m\u001b[0m\u001b[1;33m\u001b[0m\u001b[0m\n\u001b[0;32m    821\u001b[0m         data = _overlap_add_filter(data, filt, None, phase, picks, n_jobs,\n",
      "\u001b[1;32m<decorator-gen-116>\u001b[0m in \u001b[0;36mcreate_filter\u001b[1;34m(data, sfreq, l_freq, h_freq, filter_length, l_trans_bandwidth, h_trans_bandwidth, method, iir_params, phase, fir_window, fir_design, verbose)\u001b[0m\n",
      "\u001b[1;32m~\\Anaconda3\\lib\\site-packages\\mne\\filter.py\u001b[0m in \u001b[0;36mcreate_filter\u001b[1;34m(data, sfreq, l_freq, h_freq, filter_length, l_trans_bandwidth, h_trans_bandwidth, method, iir_params, phase, fir_window, fir_design, verbose)\u001b[0m\n\u001b[0;32m   1066\u001b[0m     \u001b[1;32mif\u001b[0m \u001b[0mmethod\u001b[0m \u001b[1;33m==\u001b[0m \u001b[1;34m'fir'\u001b[0m\u001b[1;33m:\u001b[0m\u001b[1;33m\u001b[0m\u001b[1;33m\u001b[0m\u001b[0m\n\u001b[0;32m   1067\u001b[0m         out = _construct_fir_filter(sfreq, freq, gain, filter_length, phase,\n\u001b[1;32m-> 1068\u001b[1;33m                                     fir_window, fir_design)\n\u001b[0m\u001b[0;32m   1069\u001b[0m     \u001b[1;32mreturn\u001b[0m \u001b[0mout\u001b[0m\u001b[1;33m\u001b[0m\u001b[1;33m\u001b[0m\u001b[0m\n\u001b[0;32m   1070\u001b[0m \u001b[1;33m\u001b[0m\u001b[0m\n",
      "\u001b[1;32m~\\Anaconda3\\lib\\site-packages\\mne\\filter.py\u001b[0m in \u001b[0;36m_construct_fir_filter\u001b[1;34m(sfreq, freq, gain, filter_length, phase, fir_window, fir_design)\u001b[0m\n\u001b[0;32m    387\u001b[0m         \u001b[0mh\u001b[0m \u001b[1;33m=\u001b[0m \u001b[0mminimum_phase\u001b[0m\u001b[1;33m(\u001b[0m\u001b[0mh\u001b[0m\u001b[1;33m)\u001b[0m\u001b[1;33m\u001b[0m\u001b[1;33m\u001b[0m\u001b[0m\n\u001b[0;32m    388\u001b[0m     \u001b[1;32melse\u001b[0m\u001b[1;33m:\u001b[0m\u001b[1;33m\u001b[0m\u001b[1;33m\u001b[0m\u001b[0m\n\u001b[1;32m--> 389\u001b[1;33m         \u001b[0mh\u001b[0m \u001b[1;33m=\u001b[0m \u001b[0mfir_design\u001b[0m\u001b[1;33m(\u001b[0m\u001b[0mN\u001b[0m\u001b[1;33m,\u001b[0m \u001b[0mfreq\u001b[0m\u001b[1;33m,\u001b[0m \u001b[0mgain\u001b[0m\u001b[1;33m,\u001b[0m \u001b[0mwindow\u001b[0m\u001b[1;33m=\u001b[0m\u001b[0mfir_window\u001b[0m\u001b[1;33m)\u001b[0m\u001b[1;33m\u001b[0m\u001b[1;33m\u001b[0m\u001b[0m\n\u001b[0m\u001b[0;32m    390\u001b[0m     \u001b[1;32massert\u001b[0m \u001b[0mh\u001b[0m\u001b[1;33m.\u001b[0m\u001b[0msize\u001b[0m \u001b[1;33m==\u001b[0m \u001b[0mN\u001b[0m\u001b[1;33m\u001b[0m\u001b[1;33m\u001b[0m\u001b[0m\n\u001b[0;32m    391\u001b[0m     \u001b[0matt_db\u001b[0m\u001b[1;33m,\u001b[0m \u001b[0matt_freq\u001b[0m \u001b[1;33m=\u001b[0m \u001b[0m_filter_attenuation\u001b[0m\u001b[1;33m(\u001b[0m\u001b[0mh\u001b[0m\u001b[1;33m,\u001b[0m \u001b[0mfreq\u001b[0m\u001b[1;33m,\u001b[0m \u001b[0mgain\u001b[0m\u001b[1;33m)\u001b[0m\u001b[1;33m\u001b[0m\u001b[1;33m\u001b[0m\u001b[0m\n",
      "\u001b[1;32m~\\Anaconda3\\lib\\site-packages\\mne\\filter.py\u001b[0m in \u001b[0;36m_firwin_design\u001b[1;34m(N, freq, gain, window, sfreq)\u001b[0m\n\u001b[0;32m    309\u001b[0m                                  \u001b[1;34m'for the requested %0.2f Hz transition band, '\u001b[0m\u001b[1;33m\u001b[0m\u001b[1;33m\u001b[0m\u001b[0m\n\u001b[0;32m    310\u001b[0m                                  \u001b[1;34m'which requires %s samples'\u001b[0m\u001b[1;33m\u001b[0m\u001b[1;33m\u001b[0m\u001b[0m\n\u001b[1;32m--> 311\u001b[1;33m                                  % (N, transition * sfreq / 2., this_N))\n\u001b[0m\u001b[0;32m    312\u001b[0m             \u001b[1;31m# Construct a lowpass\u001b[0m\u001b[1;33m\u001b[0m\u001b[1;33m\u001b[0m\u001b[1;33m\u001b[0m\u001b[0m\n\u001b[0;32m    313\u001b[0m             this_h = firwin(this_N, (prev_freq + this_freq) / 2.,\n",
      "\u001b[1;31mValueError\u001b[0m: The requested filter length 27 is too short for the requested 1.75 Hz transition band, which requires 3863 samples"
     ]
    }
   ],
   "source": [
    "dat_filt = filter.apply_filter(arr, sample_rate=4096, filter_fun=a, \\\n",
    "                               line_noise=50, seglengths=(4096/np.array(settings[\"seglengths\"])).astype(int))"
   ]
  },
  {
   "cell_type": "code",
   "execution_count": 116,
   "metadata": {},
   "outputs": [],
   "source": [
    "if arr is None:\n",
    "    print(\"true\")"
   ]
  },
  {
   "cell_type": "code",
   "execution_count": 130,
   "metadata": {},
   "outputs": [],
   "source": [
    "def gen_here():\n",
    "    for i in range(5):\n",
    "        yield i"
   ]
  },
  {
   "cell_type": "code",
   "execution_count": 131,
   "metadata": {},
   "outputs": [],
   "source": [
    "gen = gen_here()"
   ]
  },
  {
   "cell_type": "code",
   "execution_count": 140,
   "metadata": {},
   "outputs": [
    {
     "name": "stdout",
     "output_type": "stream",
     "text": [
      "None\n"
     ]
    }
   ],
   "source": [
    "print(next(gen, None))"
   ]
  },
  {
   "cell_type": "markdown",
   "metadata": {},
   "source": [
    "### test run function"
   ]
  },
  {
   "cell_type": "code",
   "execution_count": 144,
   "metadata": {},
   "outputs": [],
   "source": []
  },
  {
   "cell_type": "code",
   "execution_count": 205,
   "metadata": {},
   "outputs": [],
   "source": [
    "def run(gen, seglengths, f_ranges, line_noise, fs, fs_new, filter_fun, num_channels, clip_low=-2, clip_high=2, usemean_=True, normalize=True,\\\n",
    "        normalize_time=30):\n",
    "\n",
    "    num_features = 8 # later important to be distinguishible for different features\n",
    "    feature_arr = np.zeros([1, num_channels, num_features])\n",
    "    \n",
    "    cnt_samples = 0 \n",
    "    \n",
    "    if normalize is True:\n",
    "        normalize_samples = int(normalize_time*fs_new)\n",
    "        feature_arr_norm = np.zeros(feature_arr.shape)\n",
    "    while True:\n",
    "        ieeg_batch = next(gen, None)\n",
    "        \n",
    "        if ieeg_batch is None: \n",
    "            if normalize is True:\n",
    "                return feature_arr_norm\n",
    "            else: \n",
    "                return feature_arr\n",
    "        \n",
    "        # notch filter and feature estimation\n",
    "        features_sample = np.zeros([num_channels,num_features])\n",
    "        for ch_idx, ch in enumerate(np.arange(0,num_channels,1)):\n",
    "            dat_filt = filter.apply_filter(ieeg_batch[ch_idx,:], sample_rate=fs, filter_fun=filter_fun, line_noise=line_noise, seglengths=(fs/seglengths).astype(int))\n",
    "            features_sample[ch_idx,:] = dat_filt\n",
    "        \n",
    "        feature_arr = np.concatenate((feature_arr, np.expand_dims(features_sample, axis=0)), axis=0)\n",
    "\n",
    "        if normalize is True:\n",
    "            \n",
    "            if cnt_samples < normalize_samples:\n",
    "                if cnt_samples == 0:\n",
    "                    n_idx = 0\n",
    "                else:\n",
    "                    n_idx = np.arange(0,cnt_samples,1)\n",
    "            else:\n",
    "                n_idx = np.arange(cnt_samples-normalize_samples, cnt_samples, 1)\n",
    "\n",
    "            if cnt_samples == 0:\n",
    "                feature_arr_norm[n_idx,:,:] = np.clip(feature_arr[n_idx,:,:], clip_low, clip_high)\n",
    "            else:\n",
    "                if usemean_ is True:   \n",
    "                    norm_previous = np.mean(feature_arr[n_idx,:,:], axis=0)\n",
    "                else:\n",
    "                    norm_previous = np.median(feature_arr[n_idx,:,:], axis=0)\n",
    "                    \n",
    "                feature_norm = (feature_arr[cnt_samples,:,:] - norm_previous) / norm_previous\n",
    "                feature_norm = np.clip(feature_norm, clip_low, clip_high)\n",
    "                feature_arr_norm = np.concatenate((feature_arr_norm, np.expand_dims(feature_norm,axis=0)), axis=0) \n",
    "            cnt_samples += 1\n",
    "            print(cnt_samples)"
   ]
  },
  {
   "cell_type": "code",
   "execution_count": 176,
   "metadata": {},
   "outputs": [
    {
     "data": {
      "text/plain": [
       "4099"
      ]
     },
     "execution_count": 176,
     "metadata": {},
     "output_type": "execute_result"
    }
   ],
   "source": [
    "fs"
   ]
  },
  {
   "cell_type": "code",
   "execution_count": 150,
   "metadata": {},
   "outputs": [],
   "source": [
    "fs_new = 10"
   ]
  },
  {
   "cell_type": "code",
   "execution_count": 152,
   "metadata": {},
   "outputs": [
    {
     "data": {
      "text/plain": [
       "4099"
      ]
     },
     "execution_count": 152,
     "metadata": {},
     "output_type": "execute_result"
    }
   ],
   "source": [
    "offset_start"
   ]
  },
  {
   "cell_type": "code",
   "execution_count": 210,
   "metadata": {},
   "outputs": [
    {
     "data": {
      "text/plain": [
       "(27, 1232738)"
      ]
     },
     "execution_count": 210,
     "metadata": {},
     "output_type": "execute_result"
    }
   ],
   "source": [
    "ieeg_raw.shape"
   ]
  },
  {
   "cell_type": "code",
   "execution_count": 212,
   "metadata": {},
   "outputs": [],
   "source": [
    "gen = ieeg_raw_generator(ieeg_raw[:,:40000], fs, fs_new, offset_start)"
   ]
  },
  {
   "cell_type": "code",
   "execution_count": 154,
   "metadata": {},
   "outputs": [
    {
     "data": {
      "text/plain": [
       "array([4099, 2049, 2049, 1366, 1366, 1366,  409,  409,  409])"
      ]
     },
     "execution_count": 154,
     "metadata": {},
     "output_type": "execute_result"
    }
   ],
   "source": [
    "seglengths"
   ]
  },
  {
   "cell_type": "code",
   "execution_count": 248,
   "metadata": {},
   "outputs": [
    {
     "name": "stdout",
     "output_type": "stream",
     "text": [
      "Collecting cvxpy\n",
      "  Downloading cvxpy-1.1.7-cp37-cp37m-win_amd64.whl (782 kB)\n",
      "Collecting ecos>=2\n",
      "  Downloading ecos-2.0.7.post1.tar.gz (126 kB)\n",
      "Collecting scs>=1.1.6\n",
      "  Downloading scs-2.1.2.tar.gz (3.5 MB)\n",
      "Requirement already satisfied: numpy>=1.15 in c:\\code\\anaconda3\\lib\\site-packages (from cvxpy) (1.19.2)\n",
      "Requirement already satisfied: scipy>=1.1.0 in c:\\code\\anaconda3\\lib\\site-packages (from cvxpy) (1.5.2)\n",
      "Collecting osqp>=0.4.1\n",
      "  Downloading osqp-0.6.1-cp37-cp37m-win_amd64.whl (156 kB)\n",
      "Requirement already satisfied: future in c:\\code\\anaconda3\\lib\\site-packages (from osqp>=0.4.1->cvxpy) (0.18.2)\n",
      "Building wheels for collected packages: ecos, scs\n",
      "  Building wheel for ecos (setup.py): started\n",
      "  Building wheel for ecos (setup.py): finished with status 'error'\n",
      "  Running setup.py clean for ecos\n",
      "  Building wheel for scs (setup.py): started\n",
      "  Building wheel for scs (setup.py): finished with status 'error'\n",
      "  Running setup.py clean for scs\n",
      "Failed to build ecos scs\n",
      "Installing collected packages: ecos, scs, osqp, cvxpy\n",
      "    Running setup.py install for ecos: started\n",
      "    Running setup.py install for ecos: finished with status 'error'\n"
     ]
    },
    {
     "name": "stderr",
     "output_type": "stream",
     "text": [
      "  ERROR: Command errored out with exit status 1:\n",
      "   command: 'C:\\code\\Anaconda3\\python.exe' -u -c 'import sys, setuptools, tokenize; sys.argv[0] = '\"'\"'C:\\\\Users\\\\ICN_AD~1\\\\AppData\\\\Local\\\\Temp\\\\pip-install-oeor8zir\\\\ecos\\\\setup.py'\"'\"'; __file__='\"'\"'C:\\\\Users\\\\ICN_AD~1\\\\AppData\\\\Local\\\\Temp\\\\pip-install-oeor8zir\\\\ecos\\\\setup.py'\"'\"';f=getattr(tokenize, '\"'\"'open'\"'\"', open)(__file__);code=f.read().replace('\"'\"'\\r\\n'\"'\"', '\"'\"'\\n'\"'\"');f.close();exec(compile(code, __file__, '\"'\"'exec'\"'\"'))' bdist_wheel -d 'C:\\Users\\ICN_AD~1\\AppData\\Local\\Temp\\pip-wheel-7pps7ckg'\n",
      "       cwd: C:\\Users\\ICN_AD~1\\AppData\\Local\\Temp\\pip-install-oeor8zir\\ecos\\\n",
      "  Complete output (12 lines):\n",
      "  running bdist_wheel\n",
      "  running build\n",
      "  running build_py\n",
      "  creating build\n",
      "  creating build\\lib.win-amd64-3.7\n",
      "  creating build\\lib.win-amd64-3.7\\ecos\n",
      "  copying src\\ecos\\ecos.py -> build\\lib.win-amd64-3.7\\ecos\n",
      "  copying src\\ecos\\version.py -> build\\lib.win-amd64-3.7\\ecos\n",
      "  copying src\\ecos\\__init__.py -> build\\lib.win-amd64-3.7\\ecos\n",
      "  running build_ext\n",
      "  building '_ecos' extension\n",
      "  error: Microsoft Visual C++ 14.0 or greater is required. Get it with \"Microsoft C++ Build Tools\": https://visualstudio.microsoft.com/visual-cpp-build-tools/\n",
      "  ----------------------------------------\n",
      "  ERROR: Failed building wheel for ecos\n",
      "  ERROR: Command errored out with exit status 1:\n",
      "   command: 'C:\\code\\Anaconda3\\python.exe' -u -c 'import sys, setuptools, tokenize; sys.argv[0] = '\"'\"'C:\\\\Users\\\\ICN_AD~1\\\\AppData\\\\Local\\\\Temp\\\\pip-install-oeor8zir\\\\scs\\\\setup.py'\"'\"'; __file__='\"'\"'C:\\\\Users\\\\ICN_AD~1\\\\AppData\\\\Local\\\\Temp\\\\pip-install-oeor8zir\\\\scs\\\\setup.py'\"'\"';f=getattr(tokenize, '\"'\"'open'\"'\"', open)(__file__);code=f.read().replace('\"'\"'\\r\\n'\"'\"', '\"'\"'\\n'\"'\"');f.close();exec(compile(code, __file__, '\"'\"'exec'\"'\"'))' bdist_wheel -d 'C:\\Users\\ICN_AD~1\\AppData\\Local\\Temp\\pip-wheel-xdv3i0ak'\n",
      "       cwd: C:\\Users\\ICN_AD~1\\AppData\\Local\\Temp\\pip-install-oeor8zir\\scs\\\n",
      "  Complete output (76 lines):\n",
      "  Namespace(blas64=False, extraverbose=False, float32=False, gpu=False, int32=False, scs=False)\n",
      "  running bdist_wheel\n",
      "  running build\n",
      "  running build_py\n",
      "  creating build\n",
      "  creating build\\lib.win-amd64-3.7\n",
      "  creating build\\lib.win-amd64-3.7\\scs\n",
      "  copying src\\__init__.py -> build\\lib.win-amd64-3.7\\scs\n",
      "  running build_ext\n",
      "  blas_mkl_info:\n",
      "      libraries = ['mkl_rt']\n",
      "      library_dirs = ['C:/code/Anaconda3\\\\Library\\\\lib']\n",
      "      define_macros = [('SCIPY_MKL_H', None), ('HAVE_CBLAS', None)]\n",
      "      include_dirs = ['C:/code/Anaconda3\\\\Library\\\\include']\n",
      "  blas_opt_info:\n",
      "      libraries = ['mkl_rt']\n",
      "      library_dirs = ['C:/code/Anaconda3\\\\Library\\\\lib']\n",
      "      define_macros = [('SCIPY_MKL_H', None), ('HAVE_CBLAS', None)]\n",
      "      include_dirs = ['C:/code/Anaconda3\\\\Library\\\\include']\n",
      "  lapack_mkl_info:\n",
      "      libraries = ['mkl_rt']\n",
      "      library_dirs = ['C:/code/Anaconda3\\\\Library\\\\lib']\n",
      "      define_macros = [('SCIPY_MKL_H', None), ('HAVE_CBLAS', None)]\n",
      "      include_dirs = ['C:/code/Anaconda3\\\\Library\\\\include']\n",
      "  lapack_opt_info:\n",
      "      libraries = ['mkl_rt']\n",
      "      library_dirs = ['C:/code/Anaconda3\\\\Library\\\\lib']\n",
      "      define_macros = [('SCIPY_MKL_H', None), ('HAVE_CBLAS', None)]\n",
      "      include_dirs = ['C:/code/Anaconda3\\\\Library\\\\include']\n",
      "  Could not locate executable g77\n",
      "  Could not locate executable f77\n",
      "  Could not locate executable ifort\n",
      "  Could not locate executable ifl\n",
      "  Could not locate executable f90\n",
      "  Could not locate executable DF\n",
      "  Could not locate executable efl\n",
      "  Could not locate executable gfortran\n",
      "  Could not locate executable f95\n",
      "  Could not locate executable g95\n",
      "  Could not locate executable efort\n",
      "  Could not locate executable efc\n",
      "  Could not locate executable flang\n",
      "  don't know how to compile Fortran code on platform 'nt'\n",
      "  C:\\code\\Anaconda3\\lib\\site-packages\\numpy\\distutils\\system_info.py:1914: UserWarning:\n",
      "      Optimized (vendor) Blas libraries are not found.\n",
      "      Falls back to netlib Blas library which has worse performance.\n",
      "      A better performance should be easily gained by switching\n",
      "      Blas library.\n",
      "    if self._calc_info(blas):\n",
      "  C:\\code\\Anaconda3\\lib\\site-packages\\numpy\\distutils\\system_info.py:1914: UserWarning:\n",
      "      Blas (http://www.netlib.org/blas/) libraries not found.\n",
      "      Directories to search for the libraries can be specified in the\n",
      "      numpy/distutils/site.cfg file (section [blas]) or by setting\n",
      "      the BLAS environment variable.\n",
      "    if self._calc_info(blas):\n",
      "  C:\\code\\Anaconda3\\lib\\site-packages\\numpy\\distutils\\system_info.py:1914: UserWarning:\n",
      "      Blas (http://www.netlib.org/blas/) sources not found.\n",
      "      Directories to search for the sources can be specified in the\n",
      "      numpy/distutils/site.cfg file (section [blas_src]) or by setting\n",
      "      the BLAS_SRC environment variable.\n",
      "    if self._calc_info(blas):\n",
      "  C:\\code\\Anaconda3\\lib\\site-packages\\numpy\\distutils\\system_info.py:1748: UserWarning:\n",
      "      Lapack (http://www.netlib.org/lapack/) libraries not found.\n",
      "      Directories to search for the libraries can be specified in the\n",
      "      numpy/distutils/site.cfg file (section [lapack]) or by setting\n",
      "      the LAPACK environment variable.\n",
      "    return getattr(self, '_calc_info_{}'.format(name))()\n",
      "  C:\\code\\Anaconda3\\lib\\site-packages\\numpy\\distutils\\system_info.py:1748: UserWarning:\n",
      "      Lapack (http://www.netlib.org/lapack/) sources not found.\n",
      "      Directories to search for the sources can be specified in the\n",
      "      numpy/distutils/site.cfg file (section [lapack_src]) or by setting\n",
      "      the LAPACK_SRC environment variable.\n",
      "    return getattr(self, '_calc_info_{}'.format(name))()\n",
      "  error: Microsoft Visual C++ 14.0 or greater is required. Get it with \"Microsoft C++ Build Tools\": https://visualstudio.microsoft.com/visual-cpp-build-tools/\n",
      "  {}\n",
      "  {}\n",
      "  ----------------------------------------\n",
      "  ERROR: Failed building wheel for scs\n",
      "    ERROR: Command errored out with exit status 1:\n",
      "     command: 'C:\\code\\Anaconda3\\python.exe' -u -c 'import sys, setuptools, tokenize; sys.argv[0] = '\"'\"'C:\\\\Users\\\\ICN_AD~1\\\\AppData\\\\Local\\\\Temp\\\\pip-install-oeor8zir\\\\ecos\\\\setup.py'\"'\"'; __file__='\"'\"'C:\\\\Users\\\\ICN_AD~1\\\\AppData\\\\Local\\\\Temp\\\\pip-install-oeor8zir\\\\ecos\\\\setup.py'\"'\"';f=getattr(tokenize, '\"'\"'open'\"'\"', open)(__file__);code=f.read().replace('\"'\"'\\r\\n'\"'\"', '\"'\"'\\n'\"'\"');f.close();exec(compile(code, __file__, '\"'\"'exec'\"'\"'))' install --record 'C:\\Users\\ICN_AD~1\\AppData\\Local\\Temp\\pip-record-xscjr92h\\install-record.txt' --single-version-externally-managed --compile --install-headers 'C:\\code\\Anaconda3\\Include\\ecos'\n",
      "         cwd: C:\\Users\\ICN_AD~1\\AppData\\Local\\Temp\\pip-install-oeor8zir\\ecos\\\n",
      "    Complete output (12 lines):\n",
      "    running install\n",
      "    running build\n",
      "    running build_py\n",
      "    creating build\n",
      "    creating build\\lib.win-amd64-3.7\n",
      "    creating build\\lib.win-amd64-3.7\\ecos\n",
      "    copying src\\ecos\\ecos.py -> build\\lib.win-amd64-3.7\\ecos\n",
      "    copying src\\ecos\\version.py -> build\\lib.win-amd64-3.7\\ecos\n",
      "    copying src\\ecos\\__init__.py -> build\\lib.win-amd64-3.7\\ecos\n",
      "    running build_ext\n",
      "    building '_ecos' extension\n",
      "    error: Microsoft Visual C++ 14.0 or greater is required. Get it with \"Microsoft C++ Build Tools\": https://visualstudio.microsoft.com/visual-cpp-build-tools/\n",
      "    ----------------------------------------\n",
      "ERROR: Command errored out with exit status 1: 'C:\\code\\Anaconda3\\python.exe' -u -c 'import sys, setuptools, tokenize; sys.argv[0] = '\"'\"'C:\\\\Users\\\\ICN_AD~1\\\\AppData\\\\Local\\\\Temp\\\\pip-install-oeor8zir\\\\ecos\\\\setup.py'\"'\"'; __file__='\"'\"'C:\\\\Users\\\\ICN_AD~1\\\\AppData\\\\Local\\\\Temp\\\\pip-install-oeor8zir\\\\ecos\\\\setup.py'\"'\"';f=getattr(tokenize, '\"'\"'open'\"'\"', open)(__file__);code=f.read().replace('\"'\"'\\r\\n'\"'\"', '\"'\"'\\n'\"'\"');f.close();exec(compile(code, __file__, '\"'\"'exec'\"'\"'))' install --record 'C:\\Users\\ICN_AD~1\\AppData\\Local\\Temp\\pip-record-xscjr92h\\install-record.txt' --single-version-externally-managed --compile --install-headers 'C:\\code\\Anaconda3\\Include\\ecos' Check the logs for full command output.\n"
     ]
    }
   ],
   "source": [
    "!pip install cvxpy"
   ]
  },
  {
   "cell_type": "code",
   "execution_count": 157,
   "metadata": {},
   "outputs": [
    {
     "data": {
      "text/plain": [
       "{'BIDS_path': 'C:\\\\Users\\\\icn_admin\\\\OneDrive - Charité - Universitätsmedizin Berlin\\\\Data\\\\BIDS Berlin',\n",
       " 'out_path': 'C:\\\\Users\\\\ICN_admin\\\\Documents\\\\icn\\\\icn_m1\\\\restructure\\\\BIDS_Berlin_M1',\n",
       " 'resamplingrate': 10,\n",
       " 'max_dist_cortex': 20,\n",
       " 'max_dist_subcortex': 5,\n",
       " 'normalization_time': 10,\n",
       " 'frequencyranges': [[4, 8],\n",
       "  [8, 12],\n",
       "  [13, 20],\n",
       "  [20, 35],\n",
       "  [13, 35],\n",
       "  [60, 80],\n",
       "  [90, 200],\n",
       "  [60, 200]],\n",
       " 'seglengths': [1, 2, 2, 3, 3, 3, 10, 10, 10]}"
      ]
     },
     "execution_count": 157,
     "metadata": {},
     "output_type": "execute_result"
    }
   ],
   "source": [
    "settings"
   ]
  },
  {
   "cell_type": "code",
   "execution_count": 158,
   "metadata": {},
   "outputs": [],
   "source": [
    "f_ranges = settings[\"frequencyranges\"]"
   ]
  },
  {
   "cell_type": "code",
   "execution_count": 159,
   "metadata": {},
   "outputs": [
    {
     "data": {
      "text/plain": [
       "50"
      ]
     },
     "execution_count": 159,
     "metadata": {},
     "output_type": "execute_result"
    }
   ],
   "source": [
    "line_noise"
   ]
  },
  {
   "cell_type": "code",
   "execution_count": 160,
   "metadata": {},
   "outputs": [
    {
     "data": {
      "text/plain": [
       "4099"
      ]
     },
     "execution_count": 160,
     "metadata": {},
     "output_type": "execute_result"
    }
   ],
   "source": [
    "fs"
   ]
  },
  {
   "cell_type": "code",
   "execution_count": 161,
   "metadata": {},
   "outputs": [
    {
     "data": {
      "text/plain": [
       "(8, 4099)"
      ]
     },
     "execution_count": 161,
     "metadata": {},
     "output_type": "execute_result"
    }
   ],
   "source": [
    "filter_fun.shape"
   ]
  },
  {
   "cell_type": "code",
   "execution_count": 163,
   "metadata": {},
   "outputs": [
    {
     "data": {
      "text/plain": [
       "(27, 1232738)"
      ]
     },
     "execution_count": 163,
     "metadata": {},
     "output_type": "execute_result"
    }
   ],
   "source": [
    "ieeg_raw.shape"
   ]
  },
  {
   "cell_type": "code",
   "execution_count": 164,
   "metadata": {},
   "outputs": [],
   "source": [
    "num_channels = ieeg_raw.shape[0]"
   ]
  },
  {
   "cell_type": "code",
   "execution_count": 170,
   "metadata": {},
   "outputs": [
    {
     "data": {
      "text/plain": [
       "27"
      ]
     },
     "execution_count": 170,
     "metadata": {},
     "output_type": "execute_result"
    }
   ],
   "source": [
    "num_channels"
   ]
  },
  {
   "cell_type": "code",
   "execution_count": 177,
   "metadata": {},
   "outputs": [],
   "source": [
    "ieeg_batch = next(gen)"
   ]
  },
  {
   "cell_type": "code",
   "execution_count": 179,
   "metadata": {},
   "outputs": [
    {
     "data": {
      "text/plain": [
       "(27, 4099)"
      ]
     },
     "execution_count": 179,
     "metadata": {},
     "output_type": "execute_result"
    }
   ],
   "source": [
    "ieeg_batch.shape"
   ]
  },
  {
   "cell_type": "code",
   "execution_count": 185,
   "metadata": {},
   "outputs": [],
   "source": [
    "ch_idx = 0"
   ]
  },
  {
   "cell_type": "code",
   "execution_count": 191,
   "metadata": {},
   "outputs": [],
   "source": [
    "dat_filt = filter.apply_filter(ieeg_batch[ch_idx,:], sample_rate=fs, filter_fun=filter_fun, line_noise=line_noise, seglengths=(fs/seglengths).astype(int))"
   ]
  },
  {
   "cell_type": "code",
   "execution_count": 195,
   "metadata": {},
   "outputs": [
    {
     "data": {
      "text/plain": [
       "(1, 4099)"
      ]
     },
     "execution_count": 195,
     "metadata": {},
     "output_type": "execute_result"
    }
   ],
   "source": [
    "next(gen).shape"
   ]
  },
  {
   "cell_type": "code",
   "execution_count": 219,
   "metadata": {},
   "outputs": [],
   "source": [
    "import time"
   ]
  },
  {
   "cell_type": "code",
   "execution_count": 224,
   "metadata": {},
   "outputs": [],
   "source": [
    "time_start = time.time()"
   ]
  },
  {
   "cell_type": "code",
   "execution_count": 225,
   "metadata": {},
   "outputs": [],
   "source": [
    "time_stop = time.time()"
   ]
  },
  {
   "cell_type": "code",
   "execution_count": 226,
   "metadata": {},
   "outputs": [
    {
     "data": {
      "text/plain": [
       "0.17845511436462402"
      ]
     },
     "execution_count": 226,
     "metadata": {},
     "output_type": "execute_result"
    }
   ],
   "source": [
    "time_stop - time_start"
   ]
  },
  {
   "cell_type": "code",
   "execution_count": null,
   "metadata": {},
   "outputs": [],
   "source": [
    "#given the ieeg raw file write a generator\n",
    "def ieeg_raw_generator(ieeg_raw, fs, fs_new, offset_start):\n",
    "     \n",
    "    cnt_fsnew = 0\n",
    "    for cnt in range(ieeg_raw.shape[1]):\n",
    "        if cnt < offset_start:\n",
    "            cnt_fsnew +=1\n",
    "            continue\n",
    "        \n",
    "        cnt_fsnew +=1\n",
    "        if cnt_fsnew >= (fs/fs_new):\n",
    "            cnt_fsnew = 0\n",
    "            yield ieeg_raw[:,cnt-offset_start:cnt]"
   ]
  },
  {
   "cell_type": "code",
   "execution_count": 244,
   "metadata": {},
   "outputs": [],
   "source": [
    "gen = ieeg_raw_generator(ieeg_raw[:6,:8200], fs, fs_new, offset_start)"
   ]
  },
  {
   "cell_type": "code",
   "execution_count": 245,
   "metadata": {
    "scrolled": true
   },
   "outputs": [
    {
     "name": "stdout",
     "output_type": "stream",
     "text": [
      "1\n",
      "2\n"
     ]
    },
    {
     "name": "stderr",
     "output_type": "stream",
     "text": [
      "C:\\code\\Anaconda3\\lib\\site-packages\\ipykernel_launcher.py:47: RuntimeWarning: divide by zero encountered in true_divide\n",
      "C:\\code\\Anaconda3\\lib\\site-packages\\ipykernel_launcher.py:47: RuntimeWarning: invalid value encountered in true_divide\n"
     ]
    },
    {
     "name": "stdout",
     "output_type": "stream",
     "text": [
      "3\n",
      "4\n",
      "5\n",
      "6\n",
      "7\n",
      "8\n",
      "9\n",
      "10\n",
      "11\n",
      "2.045640707015991\n"
     ]
    }
   ],
   "source": [
    "time_start = time.time()\n",
    "res = run(gen, seglengths, f_ranges, line_noise, fs, fs_new, filter_fun, num_channels=6, clip_low=-2, clip_high=2, \\\n",
    "    usemean_=True, normalize=True, normalize_time=30)\n",
    "\n",
    "time_stop = time.time()\n",
    "print(time_stop -time_start)"
   ]
  },
  {
   "cell_type": "code",
   "execution_count": 233,
   "metadata": {},
   "outputs": [
    {
     "data": {
      "text/plain": [
       "1.25"
      ]
     },
     "execution_count": 233,
     "metadata": {},
     "output_type": "execute_result"
    }
   ],
   "source": [
    "15 / 12"
   ]
  },
  {
   "cell_type": "code",
   "execution_count": 171,
   "metadata": {},
   "outputs": [
    {
     "data": {
      "text/plain": [
       "array([ 0,  1,  2,  3,  4,  5,  6,  7,  8,  9, 10, 11, 12, 13, 14, 15, 16,\n",
       "       17, 18, 19, 20, 21, 22, 23, 24, 25, 26])"
      ]
     },
     "execution_count": 171,
     "metadata": {},
     "output_type": "execute_result"
    }
   ],
   "source": [
    "np.arange(0,num_channels,1)"
   ]
  },
  {
   "cell_type": "code",
   "execution_count": null,
   "metadata": {},
   "outputs": [],
   "source": []
  },
  {
   "cell_type": "code",
   "execution_count": null,
   "metadata": {},
   "outputs": [],
   "source": []
  },
  {
   "cell_type": "code",
   "execution_count": null,
   "metadata": {},
   "outputs": [],
   "source": []
  },
  {
   "cell_type": "code",
   "execution_count": null,
   "metadata": {},
   "outputs": [],
   "source": []
  }
 ],
 "metadata": {
  "kernelspec": {
   "display_name": "Python 3",
   "language": "python",
   "name": "python3"
  },
  "language_info": {
   "codemirror_mode": {
    "name": "ipython",
    "version": 3
   },
   "file_extension": ".py",
   "mimetype": "text/x-python",
   "name": "python",
   "nbconvert_exporter": "python",
   "pygments_lexer": "ipython3",
   "version": "3.7.9"
  }
 },
 "nbformat": 4,
 "nbformat_minor": 2
}
