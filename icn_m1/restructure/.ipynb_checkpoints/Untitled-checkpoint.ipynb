{
 "cells": [
  {
   "cell_type": "code",
   "execution_count": 3,
   "metadata": {},
   "outputs": [],
   "source": [
    "import filter\n",
    "import IO\n",
    "import sys\n",
    "import numpy as np\n",
    "#import offline_analysis\n",
    "import time\n",
    "import json\n",
    "import os\n",
    "import pandas as pd"
   ]
  },
  {
   "cell_type": "markdown",
   "metadata": {},
   "source": [
    "### read M1 tsv"
   ]
  },
  {
   "cell_type": "code",
   "execution_count": 2,
   "metadata": {},
   "outputs": [],
   "source": [
    "PATH_M1 = \"C:\\\\Users\\\\ICN_admin\\\\Charité - Universitätsmedizin Berlin\\\\Interventional Cognitive Neuromodulation - Data\\\\Datasets\\\\BIDS Berlin\\\\sub-002\\\\ses-20200131\\\\ieeg\\\\sub-002_ses-20200131_task-selfpacedrotation202001310001_run-4_channels_M1.tsv\""
   ]
  },
  {
   "cell_type": "code",
   "execution_count": 4,
   "metadata": {},
   "outputs": [],
   "source": [
    "df_M1 = pd.read_csv(PATH_M1, sep=\"\\t\") "
   ]
  },
  {
   "cell_type": "code",
   "execution_count": 5,
   "metadata": {},
   "outputs": [
    {
     "data": {
      "text/html": [
       "<div>\n",
       "<style scoped>\n",
       "    .dataframe tbody tr th:only-of-type {\n",
       "        vertical-align: middle;\n",
       "    }\n",
       "\n",
       "    .dataframe tbody tr th {\n",
       "        vertical-align: top;\n",
       "    }\n",
       "\n",
       "    .dataframe thead th {\n",
       "        text-align: right;\n",
       "    }\n",
       "</style>\n",
       "<table border=\"1\" class=\"dataframe\">\n",
       "  <thead>\n",
       "    <tr style=\"text-align: right;\">\n",
       "      <th></th>\n",
       "      <th>name</th>\n",
       "      <th>rereference</th>\n",
       "      <th>used</th>\n",
       "      <th>target</th>\n",
       "      <th>ECOG</th>\n",
       "    </tr>\n",
       "  </thead>\n",
       "  <tbody>\n",
       "    <tr>\n",
       "      <td>0</td>\n",
       "      <td>LFP_STN_R_234</td>\n",
       "      <td>average</td>\n",
       "      <td>1</td>\n",
       "      <td>0</td>\n",
       "      <td>0</td>\n",
       "    </tr>\n",
       "    <tr>\n",
       "      <td>1</td>\n",
       "      <td>LFP_STN_R_567</td>\n",
       "      <td>average</td>\n",
       "      <td>1</td>\n",
       "      <td>0</td>\n",
       "      <td>0</td>\n",
       "    </tr>\n",
       "    <tr>\n",
       "      <td>2</td>\n",
       "      <td>LFP_BS_STN_L_1</td>\n",
       "      <td>average</td>\n",
       "      <td>1</td>\n",
       "      <td>0</td>\n",
       "      <td>0</td>\n",
       "    </tr>\n",
       "    <tr>\n",
       "      <td>3</td>\n",
       "      <td>LFP_STN_L_234</td>\n",
       "      <td>average</td>\n",
       "      <td>1</td>\n",
       "      <td>0</td>\n",
       "      <td>0</td>\n",
       "    </tr>\n",
       "    <tr>\n",
       "      <td>4</td>\n",
       "      <td>LFP_STN_L_567</td>\n",
       "      <td>average</td>\n",
       "      <td>1</td>\n",
       "      <td>0</td>\n",
       "      <td>0</td>\n",
       "    </tr>\n",
       "    <tr>\n",
       "      <td>5</td>\n",
       "      <td>ECOG_AT_SM_L_1</td>\n",
       "      <td>average</td>\n",
       "      <td>1</td>\n",
       "      <td>0</td>\n",
       "      <td>1</td>\n",
       "    </tr>\n",
       "    <tr>\n",
       "      <td>6</td>\n",
       "      <td>ECOG_AT_SM_L_2</td>\n",
       "      <td>average</td>\n",
       "      <td>1</td>\n",
       "      <td>0</td>\n",
       "      <td>1</td>\n",
       "    </tr>\n",
       "    <tr>\n",
       "      <td>7</td>\n",
       "      <td>ECOG_AT_SM_L_3</td>\n",
       "      <td>average</td>\n",
       "      <td>1</td>\n",
       "      <td>0</td>\n",
       "      <td>1</td>\n",
       "    </tr>\n",
       "    <tr>\n",
       "      <td>8</td>\n",
       "      <td>ECOG_AT_SM_L_4</td>\n",
       "      <td>average</td>\n",
       "      <td>1</td>\n",
       "      <td>0</td>\n",
       "      <td>1</td>\n",
       "    </tr>\n",
       "    <tr>\n",
       "      <td>9</td>\n",
       "      <td>ECOG_AT_SM_L_5</td>\n",
       "      <td>average</td>\n",
       "      <td>1</td>\n",
       "      <td>0</td>\n",
       "      <td>1</td>\n",
       "    </tr>\n",
       "    <tr>\n",
       "      <td>10</td>\n",
       "      <td>ECOG_AT_SM_L_6</td>\n",
       "      <td>average</td>\n",
       "      <td>1</td>\n",
       "      <td>0</td>\n",
       "      <td>1</td>\n",
       "    </tr>\n",
       "    <tr>\n",
       "      <td>11</td>\n",
       "      <td>ANALOG_ROT_R_1</td>\n",
       "      <td>average</td>\n",
       "      <td>1</td>\n",
       "      <td>1</td>\n",
       "      <td>0</td>\n",
       "    </tr>\n",
       "  </tbody>\n",
       "</table>\n",
       "</div>"
      ],
      "text/plain": [
       "              name rereference  used  target  ECOG\n",
       "0    LFP_STN_R_234     average     1       0     0\n",
       "1    LFP_STN_R_567     average     1       0     0\n",
       "2   LFP_BS_STN_L_1     average     1       0     0\n",
       "3    LFP_STN_L_234     average     1       0     0\n",
       "4    LFP_STN_L_567     average     1       0     0\n",
       "5   ECOG_AT_SM_L_1     average     1       0     1\n",
       "6   ECOG_AT_SM_L_2     average     1       0     1\n",
       "7   ECOG_AT_SM_L_3     average     1       0     1\n",
       "8   ECOG_AT_SM_L_4     average     1       0     1\n",
       "9   ECOG_AT_SM_L_5     average     1       0     1\n",
       "10  ECOG_AT_SM_L_6     average     1       0     1\n",
       "11  ANALOG_ROT_R_1     average     1       1     0"
      ]
     },
     "execution_count": 5,
     "metadata": {},
     "output_type": "execute_result"
    }
   ],
   "source": [
    "df_M1"
   ]
  },
  {
   "cell_type": "markdown",
   "metadata": {},
   "source": [
    "### read settings "
   ]
  },
  {
   "cell_type": "code",
   "execution_count": 8,
   "metadata": {},
   "outputs": [],
   "source": [
    "with open('settings\\\\settings.json', 'rb') as f:\n",
    "    settings = json.load(f)"
   ]
  },
  {
   "cell_type": "code",
   "execution_count": 9,
   "metadata": {},
   "outputs": [
    {
     "data": {
      "text/plain": [
       "{'BIDS_path': 'C:\\\\Users\\\\icn_admin\\\\OneDrive - Charité - Universitätsmedizin Berlin\\\\Data\\\\BIDS Berlin',\n",
       " 'out_path': 'C:\\\\Users\\\\ICN_admin\\\\Documents\\\\icn\\\\icn_m1\\\\restructure\\\\BIDS_Berlin_M1',\n",
       " 'resamplingrate': 10,\n",
       " 'max_dist_cortex': 20,\n",
       " 'max_dist_subcortex': 5,\n",
       " 'normalization_time': 10,\n",
       " 'frequencyranges': [[4, 8],\n",
       "  [8, 12],\n",
       "  [13, 20],\n",
       "  [20, 35],\n",
       "  [13, 35],\n",
       "  [60, 80],\n",
       "  [90, 200],\n",
       "  [60, 200]],\n",
       " 'featurelabels': ['theta',\n",
       "  'alpha',\n",
       "  'low beta',\n",
       "  'high beta',\n",
       "  'all beta',\n",
       "  'low gamma',\n",
       "  'HFA',\n",
       "  'all gamma'],\n",
       " 'seglengths': [1, 2, 2, 3, 3, 3, 10, 10, 10]}"
      ]
     },
     "execution_count": 9,
     "metadata": {},
     "output_type": "execute_result"
    }
   ],
   "source": [
    "settings"
   ]
  },
  {
   "cell_type": "code",
   "execution_count": 10,
   "metadata": {},
   "outputs": [],
   "source": [
    "settings[\"BIDS_path\"] = \"C:\\\\Users\\\\ICN_admin\\\\Charité - Universitätsmedizin Berlin\\\\Interventional Cognitive Neuromodulation - Data\\\\Datasets\\\\BIDS Berlin\""
   ]
  },
  {
   "cell_type": "code",
   "execution_count": 11,
   "metadata": {},
   "outputs": [],
   "source": [
    "def ieeg_raw_generator(ieeg_raw, df_M1, settings, fs):\n",
    "    \"\"\"[summary]\n",
    "\n",
    "    Args:\n",
    "        ieeg_raw (np array): shape (channels, time)\n",
    "        fs (float): \n",
    "        fs_new (float): new resampled frequency \n",
    "        offset_start (int): size of highest segmenth length, needs to be skipped at the start to have same feature size\n",
    "\n",
    "    Yields:\n",
    "        np.array: new batch for run function of full segment length shape\n",
    "    \"\"\"\n",
    "\n",
    "    cnt_fsnew = 0\n",
    "    offset_start = int(settings[\"seglengths\"][0] * fs)\n",
    "    fs_new = settings[\"resamplingrate\"]\n",
    "    for cnt in range(ieeg_raw.shape[1]):\n",
    "        if cnt < offset_start:\n",
    "            cnt_fsnew +=1\n",
    "            continue\n",
    "        \n",
    "        cnt_fsnew +=1\n",
    "        if cnt_fsnew >= (fs/fs_new):\n",
    "            cnt_fsnew = 0\n",
    "            yield ieeg_raw[:,cnt-offset_start:cnt]"
   ]
  },
  {
   "cell_type": "code",
   "execution_count": 4,
   "metadata": {},
   "outputs": [],
   "source": []
  },
  {
   "cell_type": "markdown",
   "metadata": {},
   "source": [
    "### pipeline"
   ]
  },
  {
   "cell_type": "code",
   "execution_count": 12,
   "metadata": {},
   "outputs": [],
   "source": [
    "ieeg_files = IO.get_all_ieeg_files(settings['BIDS_path'])"
   ]
  },
  {
   "cell_type": "code",
   "execution_count": 13,
   "metadata": {},
   "outputs": [],
   "source": [
    "run_file_to_read = \"C:\\\\Users\\\\ICN_admin\\\\Charité - Universitätsmedizin Berlin\\\\Interventional Cognitive Neuromodulation - Data\\\\Datasets\\\\BIDS Berlin\\\\sub-002\\\\ses-20200131\\\\ieeg\\\\sub-002_ses-20200131_task-selfpacedrotation202001310001_run-4_ieeg.vhdr\""
   ]
  },
  {
   "cell_type": "code",
   "execution_count": 14,
   "metadata": {},
   "outputs": [],
   "source": [
    "subject, sess, task, run = IO.get_subject_sess_task_run(os.path.basename(run_file_to_read))"
   ]
  },
  {
   "cell_type": "code",
   "execution_count": 15,
   "metadata": {},
   "outputs": [
    {
     "data": {
      "text/plain": [
       "'002'"
      ]
     },
     "execution_count": 15,
     "metadata": {},
     "output_type": "execute_result"
    }
   ],
   "source": [
    "subject"
   ]
  },
  {
   "cell_type": "code",
   "execution_count": 16,
   "metadata": {},
   "outputs": [
    {
     "data": {
      "text/plain": [
       "'20200131'"
      ]
     },
     "execution_count": 16,
     "metadata": {},
     "output_type": "execute_result"
    }
   ],
   "source": [
    "sess"
   ]
  },
  {
   "cell_type": "code",
   "execution_count": 8,
   "metadata": {},
   "outputs": [],
   "source": [
    "settings[\"BIDS_path\"] = \"C:\\\\Users\\\\ICN_admin\\\\Charité - Universitätsmedizin Berlin\\\\Interventional Cognitive Neuromodulation - Data\\\\Datasets\\\\BIDS Berlin\""
   ]
  },
  {
   "cell_type": "code",
   "execution_count": 9,
   "metadata": {},
   "outputs": [
    {
     "data": {
      "text/plain": [
       "{'BIDS_path': 'C:\\\\Users\\\\ICN_admin\\\\Charité - Universitätsmedizin Berlin\\\\Interventional Cognitive Neuromodulation - Data\\\\Datasets\\\\BIDS Berlin',\n",
       " 'out_path': 'C:\\\\Users\\\\ICN_admin\\\\Documents\\\\icn\\\\icn_m1\\\\restructure\\\\BIDS_Berlin_M1',\n",
       " 'resamplingrate': 10,\n",
       " 'max_dist_cortex': 20,\n",
       " 'max_dist_subcortex': 5,\n",
       " 'normalization_time': 10,\n",
       " 'frequencyranges': [[4, 8],\n",
       "  [8, 12],\n",
       "  [13, 20],\n",
       "  [20, 35],\n",
       "  [13, 35],\n",
       "  [60, 80],\n",
       "  [90, 200],\n",
       "  [60, 200]],\n",
       " 'featurelabels': ['theta',\n",
       "  'alpha',\n",
       "  'low beta',\n",
       "  'high beta',\n",
       "  'all beta',\n",
       "  'low gamma',\n",
       "  'HFA',\n",
       "  'all gamma'],\n",
       " 'seglengths': [1, 2, 2, 3, 3, 3, 10, 10, 10]}"
      ]
     },
     "execution_count": 9,
     "metadata": {},
     "output_type": "execute_result"
    }
   ],
   "source": [
    "settings"
   ]
  },
  {
   "cell_type": "code",
   "execution_count": 10,
   "metadata": {},
   "outputs": [],
   "source": [
    "ieeg_files = IO.get_all_ieeg_files(settings['BIDS_path'])\n",
    "run_file_to_read = ieeg_files[0]"
   ]
  },
  {
   "cell_type": "code",
   "execution_count": 12,
   "metadata": {},
   "outputs": [
    {
     "data": {
      "text/plain": [
       "'C:\\\\Users\\\\ICN_admin\\\\Charité - Universitätsmedizin Berlin\\\\Interventional Cognitive Neuromodulation - Data\\\\Datasets\\\\BIDS Berlin\\\\sub-002\\\\ses-20200130\\\\ieeg\\\\sub-002_ses-20200130_task-restMEDON20200130T111458_run-0_ieeg.vhdr'"
      ]
     },
     "execution_count": 12,
     "metadata": {},
     "output_type": "execute_result"
    }
   ],
   "source": [
    "run_file_to_read"
   ]
  },
  {
   "cell_type": "code",
   "execution_count": 26,
   "metadata": {},
   "outputs": [],
   "source": [
    "subject, sess, task, run = IO.get_subject_sess_task_run(os.path.basename(run_file_to_read))"
   ]
  },
  {
   "cell_type": "code",
   "execution_count": 25,
   "metadata": {},
   "outputs": [
    {
     "data": {
      "text/plain": [
       "'sub-002_ses-20200130_task-restMEDON20200130T111458_run-0_ieeg.vhdr'"
      ]
     },
     "execution_count": 25,
     "metadata": {},
     "output_type": "execute_result"
    }
   ],
   "source": [
    "os.path.basename(run_file_to_read)"
   ]
  },
  {
   "cell_type": "code",
   "execution_count": 27,
   "metadata": {},
   "outputs": [
    {
     "data": {
      "text/plain": [
       "'002'"
      ]
     },
     "execution_count": 27,
     "metadata": {},
     "output_type": "execute_result"
    }
   ],
   "source": [
    "subject"
   ]
  },
  {
   "cell_type": "code",
   "execution_count": 28,
   "metadata": {},
   "outputs": [
    {
     "data": {
      "text/plain": [
       "'0'"
      ]
     },
     "execution_count": 28,
     "metadata": {},
     "output_type": "execute_result"
    }
   ],
   "source": [
    "run"
   ]
  },
  {
   "cell_type": "code",
   "execution_count": 29,
   "metadata": {},
   "outputs": [
    {
     "data": {
      "text/plain": [
       "'20200130'"
      ]
     },
     "execution_count": 29,
     "metadata": {},
     "output_type": "execute_result"
    }
   ],
   "source": [
    "sess"
   ]
  },
  {
   "cell_type": "code",
   "execution_count": 30,
   "metadata": {},
   "outputs": [
    {
     "data": {
      "text/plain": [
       "'restMEDON20200130T111458'"
      ]
     },
     "execution_count": 30,
     "metadata": {},
     "output_type": "execute_result"
    }
   ],
   "source": [
    "task"
   ]
  },
  {
   "cell_type": "code",
   "execution_count": 31,
   "metadata": {},
   "outputs": [
    {
     "data": {
      "text/plain": [
       "'C:\\\\Users\\\\ICN_admin\\\\Charité - Universitätsmedizin Berlin\\\\Interventional Cognitive Neuromodulation - Data\\\\Datasets\\\\BIDS Berlin\\\\sub-002\\\\ses-20200130\\\\ieeg\\\\sub-002_ses-20200130_task-restMEDON20200130T111458_run-0_ieeg.vhdr'"
      ]
     },
     "execution_count": 31,
     "metadata": {},
     "output_type": "execute_result"
    }
   ],
   "source": [
    "run_file_to_read"
   ]
  },
  {
   "cell_type": "code",
   "execution_count": null,
   "metadata": {},
   "outputs": [],
   "source": [
    "df_M1 = pd.read_csv(run_file_to_read + \"_channels_M1.tsv\", sep=\"\\t\") "
   ]
  }
 ],
 "metadata": {
  "kernelspec": {
   "display_name": "Python 3",
   "language": "python",
   "name": "python3"
  },
  "language_info": {
   "codemirror_mode": {
    "name": "ipython",
    "version": 3
   },
   "file_extension": ".py",
   "mimetype": "text/x-python",
   "name": "python",
   "nbconvert_exporter": "python",
   "pygments_lexer": "ipython3",
   "version": "3.7.4"
  }
 },
 "nbformat": 4,
 "nbformat_minor": 2
}
