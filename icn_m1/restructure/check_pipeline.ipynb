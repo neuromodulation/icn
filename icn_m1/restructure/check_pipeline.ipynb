{
 "cells": [
  {
   "cell_type": "code",
   "execution_count": 16,
   "metadata": {},
   "outputs": [],
   "source": [
    "import filter\n",
    "import IO\n",
    "import sys\n",
    "import numpy as np\n",
    "#import offline_analysis\n",
    "import time\n",
    "import json\n",
    "import os\n",
    "import pandas as pd\n",
    "import mne\n",
    "import mne_bids"
   ]
  },
  {
   "cell_type": "markdown",
   "metadata": {},
   "source": [
    "### read M1 tsv"
   ]
  },
  {
   "cell_type": "code",
   "execution_count": 2,
   "metadata": {},
   "outputs": [],
   "source": [
    "PATH_M1 = \"C:\\\\Users\\\\ICN_admin\\\\Charité - Universitätsmedizin Berlin\\\\Interventional Cognitive Neuromodulation - Data\\\\Datasets\\\\BIDS Berlin\\\\sub-002\\\\ses-20200131\\\\ieeg\\\\sub-002_ses-20200131_task-selfpacedrotation202001310001_run-4_channels_M1.tsv\""
   ]
  },
  {
   "cell_type": "code",
   "execution_count": 3,
   "metadata": {},
   "outputs": [],
   "source": [
    "df_M1 = pd.read_csv(PATH_M1, sep=\"\\t\") "
   ]
  },
  {
   "cell_type": "code",
   "execution_count": 4,
   "metadata": {},
   "outputs": [
    {
     "data": {
      "text/html": [
       "<div>\n",
       "<style scoped>\n",
       "    .dataframe tbody tr th:only-of-type {\n",
       "        vertical-align: middle;\n",
       "    }\n",
       "\n",
       "    .dataframe tbody tr th {\n",
       "        vertical-align: top;\n",
       "    }\n",
       "\n",
       "    .dataframe thead th {\n",
       "        text-align: right;\n",
       "    }\n",
       "</style>\n",
       "<table border=\"1\" class=\"dataframe\">\n",
       "  <thead>\n",
       "    <tr style=\"text-align: right;\">\n",
       "      <th></th>\n",
       "      <th>name</th>\n",
       "      <th>rereference</th>\n",
       "      <th>used</th>\n",
       "      <th>target</th>\n",
       "      <th>ECOG</th>\n",
       "    </tr>\n",
       "  </thead>\n",
       "  <tbody>\n",
       "    <tr>\n",
       "      <td>0</td>\n",
       "      <td>LFP_STN_R_234</td>\n",
       "      <td>average</td>\n",
       "      <td>1</td>\n",
       "      <td>0</td>\n",
       "      <td>0</td>\n",
       "    </tr>\n",
       "    <tr>\n",
       "      <td>1</td>\n",
       "      <td>LFP_STN_R_567</td>\n",
       "      <td>average</td>\n",
       "      <td>1</td>\n",
       "      <td>0</td>\n",
       "      <td>0</td>\n",
       "    </tr>\n",
       "    <tr>\n",
       "      <td>2</td>\n",
       "      <td>LFP_BS_STN_L_1</td>\n",
       "      <td>average</td>\n",
       "      <td>1</td>\n",
       "      <td>0</td>\n",
       "      <td>0</td>\n",
       "    </tr>\n",
       "    <tr>\n",
       "      <td>3</td>\n",
       "      <td>LFP_STN_L_234</td>\n",
       "      <td>average</td>\n",
       "      <td>1</td>\n",
       "      <td>0</td>\n",
       "      <td>0</td>\n",
       "    </tr>\n",
       "    <tr>\n",
       "      <td>4</td>\n",
       "      <td>LFP_STN_L_567</td>\n",
       "      <td>average</td>\n",
       "      <td>1</td>\n",
       "      <td>0</td>\n",
       "      <td>0</td>\n",
       "    </tr>\n",
       "    <tr>\n",
       "      <td>5</td>\n",
       "      <td>ECOG_AT_SM_L_1</td>\n",
       "      <td>average</td>\n",
       "      <td>1</td>\n",
       "      <td>0</td>\n",
       "      <td>1</td>\n",
       "    </tr>\n",
       "    <tr>\n",
       "      <td>6</td>\n",
       "      <td>ECOG_AT_SM_L_2</td>\n",
       "      <td>average</td>\n",
       "      <td>1</td>\n",
       "      <td>0</td>\n",
       "      <td>1</td>\n",
       "    </tr>\n",
       "    <tr>\n",
       "      <td>7</td>\n",
       "      <td>ECOG_AT_SM_L_3</td>\n",
       "      <td>average</td>\n",
       "      <td>1</td>\n",
       "      <td>0</td>\n",
       "      <td>1</td>\n",
       "    </tr>\n",
       "    <tr>\n",
       "      <td>8</td>\n",
       "      <td>ECOG_AT_SM_L_4</td>\n",
       "      <td>average</td>\n",
       "      <td>1</td>\n",
       "      <td>0</td>\n",
       "      <td>1</td>\n",
       "    </tr>\n",
       "    <tr>\n",
       "      <td>9</td>\n",
       "      <td>ECOG_AT_SM_L_5</td>\n",
       "      <td>average</td>\n",
       "      <td>1</td>\n",
       "      <td>0</td>\n",
       "      <td>1</td>\n",
       "    </tr>\n",
       "    <tr>\n",
       "      <td>10</td>\n",
       "      <td>ECOG_AT_SM_L_6</td>\n",
       "      <td>average</td>\n",
       "      <td>1</td>\n",
       "      <td>0</td>\n",
       "      <td>1</td>\n",
       "    </tr>\n",
       "    <tr>\n",
       "      <td>11</td>\n",
       "      <td>ANALOG_ROT_R_1</td>\n",
       "      <td>average</td>\n",
       "      <td>1</td>\n",
       "      <td>1</td>\n",
       "      <td>0</td>\n",
       "    </tr>\n",
       "  </tbody>\n",
       "</table>\n",
       "</div>"
      ],
      "text/plain": [
       "              name rereference  used  target  ECOG\n",
       "0    LFP_STN_R_234     average     1       0     0\n",
       "1    LFP_STN_R_567     average     1       0     0\n",
       "2   LFP_BS_STN_L_1     average     1       0     0\n",
       "3    LFP_STN_L_234     average     1       0     0\n",
       "4    LFP_STN_L_567     average     1       0     0\n",
       "5   ECOG_AT_SM_L_1     average     1       0     1\n",
       "6   ECOG_AT_SM_L_2     average     1       0     1\n",
       "7   ECOG_AT_SM_L_3     average     1       0     1\n",
       "8   ECOG_AT_SM_L_4     average     1       0     1\n",
       "9   ECOG_AT_SM_L_5     average     1       0     1\n",
       "10  ECOG_AT_SM_L_6     average     1       0     1\n",
       "11  ANALOG_ROT_R_1     average     1       1     0"
      ]
     },
     "execution_count": 4,
     "metadata": {},
     "output_type": "execute_result"
    }
   ],
   "source": [
    "df_M1"
   ]
  },
  {
   "cell_type": "markdown",
   "metadata": {},
   "source": [
    "### read settings "
   ]
  },
  {
   "cell_type": "code",
   "execution_count": 5,
   "metadata": {},
   "outputs": [],
   "source": [
    "with open('settings\\\\settings.json', 'rb') as f:\n",
    "    settings = json.load(f)"
   ]
  },
  {
   "cell_type": "code",
   "execution_count": 6,
   "metadata": {},
   "outputs": [
    {
     "data": {
      "text/plain": [
       "{'BIDS_path': 'C:\\\\Users\\\\icn_admin\\\\OneDrive - Charité - Universitätsmedizin Berlin\\\\Data\\\\BIDS Berlin',\n",
       " 'out_path': 'C:\\\\Users\\\\ICN_admin\\\\Documents\\\\icn\\\\icn_m1\\\\restructure\\\\BIDS_Berlin_M1',\n",
       " 'resamplingrate': 10,\n",
       " 'max_dist_cortex': 20,\n",
       " 'max_dist_subcortex': 5,\n",
       " 'normalization_time': 10,\n",
       " 'frequencyranges': [[4, 8],\n",
       "  [8, 12],\n",
       "  [13, 20],\n",
       "  [20, 35],\n",
       "  [13, 35],\n",
       "  [60, 80],\n",
       "  [90, 200],\n",
       "  [60, 200]],\n",
       " 'featurelabels': ['theta',\n",
       "  'alpha',\n",
       "  'low beta',\n",
       "  'high beta',\n",
       "  'all beta',\n",
       "  'low gamma',\n",
       "  'HFA',\n",
       "  'all gamma'],\n",
       " 'seglengths': [1, 2, 2, 3, 3, 3, 10, 10, 10],\n",
       " 'clip_low': -3,\n",
       " 'clip_high': 3}"
      ]
     },
     "execution_count": 6,
     "metadata": {},
     "output_type": "execute_result"
    }
   ],
   "source": [
    "settings"
   ]
  },
  {
   "cell_type": "code",
   "execution_count": 7,
   "metadata": {},
   "outputs": [],
   "source": [
    "settings[\"BIDS_path\"] = \"C:\\\\Users\\\\ICN_admin\\\\Charité - Universitätsmedizin Berlin\\\\Interventional Cognitive Neuromodulation - Data\\\\Datasets\\\\BIDS Berlin\""
   ]
  },
  {
   "cell_type": "markdown",
   "metadata": {},
   "source": [
    "### pipeline"
   ]
  },
  {
   "cell_type": "code",
   "execution_count": 8,
   "metadata": {},
   "outputs": [],
   "source": [
    "ieeg_files = IO.get_all_ieeg_files(settings['BIDS_path'])"
   ]
  },
  {
   "cell_type": "code",
   "execution_count": 9,
   "metadata": {},
   "outputs": [],
   "source": [
    "run_file_to_read = \"C:\\\\Users\\\\ICN_admin\\\\Charité - Universitätsmedizin Berlin\\\\Interventional Cognitive Neuromodulation - Data\\\\Datasets\\\\BIDS Berlin\\\\sub-002\\\\ses-20200131\\\\ieeg\\\\sub-002_ses-20200131_task-selfpacedrotation202001310001_run-4_ieeg.vhdr\""
   ]
  },
  {
   "cell_type": "code",
   "execution_count": 10,
   "metadata": {},
   "outputs": [],
   "source": [
    "subject, sess, task, run = IO.get_subject_sess_task_run(os.path.basename(run_file_to_read))"
   ]
  },
  {
   "cell_type": "code",
   "execution_count": 11,
   "metadata": {},
   "outputs": [
    {
     "data": {
      "text/plain": [
       "'002'"
      ]
     },
     "execution_count": 11,
     "metadata": {},
     "output_type": "execute_result"
    }
   ],
   "source": [
    "subject"
   ]
  },
  {
   "cell_type": "code",
   "execution_count": 12,
   "metadata": {},
   "outputs": [
    {
     "data": {
      "text/plain": [
       "'20200131'"
      ]
     },
     "execution_count": 12,
     "metadata": {},
     "output_type": "execute_result"
    }
   ],
   "source": [
    "sess"
   ]
  },
  {
   "cell_type": "code",
   "execution_count": 13,
   "metadata": {},
   "outputs": [
    {
     "data": {
      "text/plain": [
       "'selfpacedrotation202001310001'"
      ]
     },
     "execution_count": 13,
     "metadata": {},
     "output_type": "execute_result"
    }
   ],
   "source": [
    "task"
   ]
  },
  {
   "cell_type": "code",
   "execution_count": 14,
   "metadata": {},
   "outputs": [
    {
     "data": {
      "text/plain": [
       "'4'"
      ]
     },
     "execution_count": 14,
     "metadata": {},
     "output_type": "execute_result"
    }
   ],
   "source": [
    "run"
   ]
  },
  {
   "cell_type": "markdown",
   "metadata": {},
   "source": [
    "### read now using mne.io read_bids"
   ]
  },
  {
   "cell_type": "code",
   "execution_count": 19,
   "metadata": {},
   "outputs": [],
   "source": [
    "run_path = mne_bids.BIDSPath(subject=subject, session=sess, task=task, run=run,\n",
    "                     suffix=\"ieeg\", root=settings[\"BIDS_path\"], datatype=\"ieeg\")"
   ]
  },
  {
   "cell_type": "code",
   "execution_count": 21,
   "metadata": {},
   "outputs": [
    {
     "name": "stdout",
     "output_type": "stream",
     "text": [
      "Extracting parameters from C:\\Users\\ICN_admin\\Charité - Universitätsmedizin Berlin\\Interventional Cognitive Neuromodulation - Data\\Datasets\\BIDS Berlin\\sub-002\\ses-20200131\\ieeg\\sub-002_ses-20200131_task-selfpacedrotation202001310001_run-4_ieeg.vhdr...\n",
      "Setting channel info structure...\n",
      "Reading events from C:\\Users\\ICN_admin\\Charité - Universitätsmedizin Berlin\\Interventional Cognitive Neuromodulation - Data\\Datasets\\BIDS Berlin\\sub-002\\ses-20200131\\ieeg\\sub-002_ses-20200131_task-selfpacedrotation202001310001_run-4_events.tsv.\n",
      "Reading channel info from C:\\Users\\ICN_admin\\Charité - Universitätsmedizin Berlin\\Interventional Cognitive Neuromodulation - Data\\Datasets\\BIDS Berlin\\sub-002\\ses-20200131\\ieeg\\sub-002_ses-20200131_task-selfpacedrotation202001310001_run-4_channels.tsv.\n",
      "Reading in coordinate system frame other: None.\n",
      "Reading electrode coords from C:\\Users\\ICN_admin\\Charité - Universitätsmedizin Berlin\\Interventional Cognitive Neuromodulation - Data\\Datasets\\BIDS Berlin\\sub-002\\ses-20200131\\ieeg\\sub-002_ses-20200131_task-selfpacedrotation202001310001_run-4_space-mni_electrodes.tsv.\n",
      "The read in electrodes file is: \n",
      " [('name', ['LFP_STN_R_234', 'LFP_STN_R_567', 'LFP_BS_STN_L_1', 'LFP_STN_L_234', 'LFP_STN_L_567', 'ECOG_AT_SM_L_1', 'ECOG_AT_SM_L_2', 'ECOG_AT_SM_L_3', 'ECOG_AT_SM_L_4', 'ECOG_AT_SM_L_5', 'ECOG_AT_SM_L_6', 'ANALOG_ROT_R_1']), ('x', ['n/a', 'n/a', '11.8327', 'n/a', 'n/a', '-40.0', '-41.0', '-41.0', '-40.0', '-40.0', '-40.0', 'n/a']), ('y', ['n/a', 'n/a', '-14.8891', 'n/a', 'n/a', '-73.0', '-64.0', '-55.0', '-44.5', '-34.5', '-23.5', 'n/a']), ('z', ['n/a', 'n/a', '-9.10934', 'n/a', 'n/a', '40.0', '46.5', '52.5', '55.5', '59.5', '59.5', 'n/a']), ('size', ['n/a', 'n/a', 'n/a', 'n/a', 'n/a', 'n/a', 'n/a', 'n/a', 'n/a', 'n/a', 'n/a', 'n/a'])]\n"
     ]
    },
    {
     "name": "stderr",
     "output_type": "stream",
     "text": [
      "<ipython-input-21-055177aad200>:1: RuntimeWarning: There are channels without locations (n/a) that are not marked as bad: ['LFP_STN_R_234', 'LFP_STN_R_567', 'LFP_STN_L_234', 'LFP_STN_L_567', 'ANALOG_ROT_R_1']\n",
      "  run_raw_arr = mne_bids.read_raw_bids(run_path)\n",
      "<ipython-input-21-055177aad200>:1: RuntimeWarning: Fiducial point nasion not found, assuming identity unknown to head transformation\n",
      "  run_raw_arr = mne_bids.read_raw_bids(run_path)\n"
     ]
    }
   ],
   "source": [
    "run_raw_arr = mne_bids.read_raw_bids(run_path)"
   ]
  },
  {
   "cell_type": "code",
   "execution_count": 24,
   "metadata": {},
   "outputs": [],
   "source": [
    "from matplotlib import pyplot as plt"
   ]
  },
  {
   "cell_type": "code",
   "execution_count": 27,
   "metadata": {},
   "outputs": [
    {
     "data": {
      "text/plain": [
       "[<DigPoint |     EEG #1 : (nan, nan, nan) mm        : MNI Talairach frame>,\n",
       " <DigPoint |     EEG #2 : (nan, nan, nan) mm        : MNI Talairach frame>,\n",
       " <DigPoint |     EEG #3 : (11.8, -14.9, -9.1) mm    : MNI Talairach frame>,\n",
       " <DigPoint |     EEG #4 : (nan, nan, nan) mm        : MNI Talairach frame>,\n",
       " <DigPoint |     EEG #5 : (nan, nan, nan) mm        : MNI Talairach frame>,\n",
       " <DigPoint |     EEG #6 : (-40.0, -73.0, 40.0) mm   : MNI Talairach frame>,\n",
       " <DigPoint |     EEG #7 : (-41.0, -64.0, 46.5) mm   : MNI Talairach frame>,\n",
       " <DigPoint |     EEG #8 : (-41.0, -55.0, 52.5) mm   : MNI Talairach frame>,\n",
       " <DigPoint |     EEG #9 : (-40.0, -44.5, 55.5) mm   : MNI Talairach frame>,\n",
       " <DigPoint |    EEG #10 : (-40.0, -34.5, 59.5) mm   : MNI Talairach frame>,\n",
       " <DigPoint |    EEG #11 : (-40.0, -23.5, 59.5) mm   : MNI Talairach frame>]"
      ]
     },
     "execution_count": 27,
     "metadata": {},
     "output_type": "execute_result"
    }
   ],
   "source": [
    "run_raw_arr.info[\"dig\"]"
   ]
  },
  {
   "cell_type": "code",
   "execution_count": 33,
   "metadata": {},
   "outputs": [
    {
     "data": {
      "text/plain": [
       "<DigMontage | 0 extras (headshape), 0 HPIs, 0 fiducials, 11 channels>"
      ]
     },
     "execution_count": 33,
     "metadata": {},
     "output_type": "execute_result"
    }
   ],
   "source": [
    "run_raw_arr.get_montage()"
   ]
  },
  {
   "cell_type": "code",
   "execution_count": null,
   "metadata": {},
   "outputs": [],
   "source": [
    "fig = plot_alignment(run_raw_arr.info, subject=subject, subjects_dir=subjects_dir,\n",
    "                     surfaces=['pial'], trans=trans, coord_frame='mri')\n",
    "mne.viz.set_3d_view(fig, 200, 70, focalpoint=[0, -0.005, 0.03])\n",
    "\n",
    "xy, im = snapshot_brain_montage(fig, montage)"
   ]
  },
  {
   "cell_type": "code",
   "execution_count": 35,
   "metadata": {},
   "outputs": [
    {
     "name": "stdout",
     "output_type": "stream",
     "text": [
      "Effective window size : 1.489 (s)\n",
      "Effective window size : 1.489 (s)\n"
     ]
    },
    {
     "name": "stderr",
     "output_type": "stream",
     "text": [
      "<ipython-input-35-d426269ebaaf>:1: UserWarning: Infinite value in PSD for channel LFP_STN_R_234.\n",
      "These channels might be dead.\n",
      "  run_raw_arr.plot_psd()\n"
     ]
    },
    {
     "data": {
      "image/png": "[encoded data removed]",
      "text/plain": [
       "<Figure size 432x288 with 4 Axes>"
      ]
     },
     "metadata": {
      "needs_background": "light"
     },
     "output_type": "display_data"
    }
   ],
   "source": [
    "run_raw_arr.plot_psd()\n",
    "plt.show()"
   ]
  },
  {
   "cell_type": "code",
   "execution_count": 36,
   "metadata": {},
   "outputs": [
    {
     "data": {
      "image/png": "[encoded data removed]",
      "text/plain": [
       "<Figure size 432x432 with 1 Axes>"
      ]
     },
     "metadata": {
      "needs_background": "light"
     },
     "output_type": "display_data"
    }
   ],
   "source": [
    "run_raw_arr.plot_sensors()\n",
    "plt.show()"
   ]
  },
  {
   "cell_type": "code",
   "execution_count": null,
   "metadata": {},
   "outputs": [],
   "source": []
  },
  {
   "cell_type": "code",
   "execution_count": null,
   "metadata": {},
   "outputs": [],
   "source": []
  },
  {
   "cell_type": "code",
   "execution_count": 37,
   "metadata": {},
   "outputs": [
    {
     "name": "stdout",
     "output_type": "stream",
     "text": [
      "Extracting parameters from C:\\Users\\ICN_admin\\Charité - Universitätsmedizin Berlin\\Interventional Cognitive Neuromodulation - Data\\Datasets\\BIDS Berlin\\sub-002\\ses-20200131\\ieeg\\sub-002_ses-20200131_task-selfpacedrotation202001310001_run-4_ieeg.vhdr...\n",
      "Setting channel info structure...\n"
     ]
    }
   ],
   "source": [
    "ieeg_raw, ch_names = IO.read_BIDS_file(run_file_to_read)"
   ]
  },
  {
   "cell_type": "code",
   "execution_count": 38,
   "metadata": {},
   "outputs": [
    {
     "data": {
      "text/plain": [
       "(12, 613328)"
      ]
     },
     "execution_count": 38,
     "metadata": {},
     "output_type": "execute_result"
    }
   ],
   "source": [
    "ieeg_raw.shape"
   ]
  },
  {
   "cell_type": "code",
   "execution_count": 39,
   "metadata": {},
   "outputs": [
    {
     "data": {
      "text/plain": [
       "['LFP_STN_R_234',\n",
       " 'LFP_STN_R_567',\n",
       " 'LFP_BS_STN_L_1',\n",
       " 'LFP_STN_L_234',\n",
       " 'LFP_STN_L_567',\n",
       " 'ECOG_AT_SM_L_1',\n",
       " 'ECOG_AT_SM_L_2',\n",
       " 'ECOG_AT_SM_L_3',\n",
       " 'ECOG_AT_SM_L_4',\n",
       " 'ECOG_AT_SM_L_5',\n",
       " 'ECOG_AT_SM_L_6',\n",
       " 'ANALOG_ROT_R_1']"
      ]
     },
     "execution_count": 39,
     "metadata": {},
     "output_type": "execute_result"
    }
   ],
   "source": [
    "ch_names"
   ]
  },
  {
   "cell_type": "markdown",
   "metadata": {},
   "source": [
    "### transfer this fileread to "
   ]
  },
  {
   "cell_type": "code",
   "execution_count": 215,
   "metadata": {},
   "outputs": [],
   "source": [
    "import mne_bids"
   ]
  },
  {
   "cell_type": "code",
   "execution_count": 216,
   "metadata": {},
   "outputs": [
    {
     "data": {
      "text/plain": [
       "'4'"
      ]
     },
     "execution_count": 216,
     "metadata": {},
     "output_type": "execute_result"
    }
   ],
   "source": [
    "run"
   ]
  },
  {
   "cell_type": "code",
   "execution_count": 217,
   "metadata": {},
   "outputs": [
    {
     "data": {
      "text/plain": [
       "'002'"
      ]
     },
     "execution_count": 217,
     "metadata": {},
     "output_type": "execute_result"
    }
   ],
   "source": [
    "subject"
   ]
  },
  {
   "cell_type": "code",
   "execution_count": 218,
   "metadata": {},
   "outputs": [
    {
     "data": {
      "text/plain": [
       "'20200131'"
      ]
     },
     "execution_count": 218,
     "metadata": {},
     "output_type": "execute_result"
    }
   ],
   "source": [
    "sess"
   ]
  },
  {
   "cell_type": "code",
   "execution_count": 269,
   "metadata": {},
   "outputs": [],
   "source": [
    "run_path = mne_bids.BIDSPath(subject=subject, session=sess, task=task, run=run,\n",
    "                     suffix=\"ieeg\", root=settings[\"BIDS_path\"], datatype=\"ieeg\")"
   ]
  },
  {
   "cell_type": "code",
   "execution_count": 270,
   "metadata": {},
   "outputs": [
    {
     "data": {
      "text/plain": [
       "BIDSPath(\n",
       "root: C:\\Users\\icn_admin\\OneDrive - Charité - Universitätsmedizin Berlin\\Data\\BIDS Berlin\n",
       "datatype: ieeg\n",
       "basename: sub-002_ses-20200131_task-selfpacedrotation202001310001_run-4_ieeg)"
      ]
     },
     "execution_count": 270,
     "metadata": {},
     "output_type": "execute_result"
    }
   ],
   "source": [
    "run_path"
   ]
  },
  {
   "cell_type": "code",
   "execution_count": 271,
   "metadata": {},
   "outputs": [
    {
     "name": "stderr",
     "output_type": "stream",
     "text": [
      "<ipython-input-271-055177aad200>:1: RuntimeWarning: Could not locate a data file of a supported format. This is likely a problem with your BIDS dataset. Please run the BIDS validator on your data. (root=C:\\Users\\icn_admin\\OneDrive - Charité - Universitätsmedizin Berlin\\Data\\BIDS Berlin, basename=sub-002_ses-20200131_task-selfpacedrotation202001310001_run-4_ieeg). []\n",
      "  run_raw_arr = mne_bids.read_raw_bids(run_path)\n"
     ]
    },
    {
     "ename": "TypeError",
     "evalue": "expected str, bytes or os.PathLike object, not NoneType",
     "output_type": "error",
     "traceback": [
      "\u001b[1;31m---------------------------------------------------------------------------\u001b[0m",
      "\u001b[1;31mTypeError\u001b[0m                                 Traceback (most recent call last)",
      "\u001b[1;32m<ipython-input-271-055177aad200>\u001b[0m in \u001b[0;36m<module>\u001b[1;34m\u001b[0m\n\u001b[1;32m----> 1\u001b[1;33m \u001b[0mrun_raw_arr\u001b[0m \u001b[1;33m=\u001b[0m \u001b[0mmne_bids\u001b[0m\u001b[1;33m.\u001b[0m\u001b[0mread_raw_bids\u001b[0m\u001b[1;33m(\u001b[0m\u001b[0mrun_path\u001b[0m\u001b[1;33m)\u001b[0m\u001b[1;33m\u001b[0m\u001b[1;33m\u001b[0m\u001b[0m\n\u001b[0m",
      "\u001b[1;32m~\\Anaconda3\\lib\\site-packages\\mne_bids\\read.py\u001b[0m in \u001b[0;36mread_raw_bids\u001b[1;34m(bids_path, extra_params, verbose)\u001b[0m\n\u001b[0;32m    351\u001b[0m         \u001b[0mextra_params\u001b[0m \u001b[1;33m=\u001b[0m \u001b[0mdict\u001b[0m\u001b[1;33m(\u001b[0m\u001b[1;33m)\u001b[0m\u001b[1;33m\u001b[0m\u001b[1;33m\u001b[0m\u001b[0m\n\u001b[0;32m    352\u001b[0m     raw = _read_raw(bids_fpath, electrode=None, hsp=None, hpi=None,\n\u001b[1;32m--> 353\u001b[1;33m                     config=config, verbose=None, **extra_params)\n\u001b[0m\u001b[0;32m    354\u001b[0m \u001b[1;33m\u001b[0m\u001b[0m\n\u001b[0;32m    355\u001b[0m     \u001b[1;31m# Try to find an associated events.tsv to get information about the\u001b[0m\u001b[1;33m\u001b[0m\u001b[1;33m\u001b[0m\u001b[1;33m\u001b[0m\u001b[0m\n",
      "\u001b[1;32m~\\Anaconda3\\lib\\site-packages\\mne_bids\\read.py\u001b[0m in \u001b[0;36m_read_raw\u001b[1;34m(raw_fpath, electrode, hsp, hpi, allow_maxshield, config, verbose, **kwargs)\u001b[0m\n\u001b[0;32m     41\u001b[0m                               \u001b[0mhead_shape_fname\u001b[0m\u001b[1;33m=\u001b[0m\u001b[0mhsp\u001b[0m\u001b[1;33m,\u001b[0m\u001b[1;33m\u001b[0m\u001b[1;33m\u001b[0m\u001b[0m\n\u001b[0;32m     42\u001b[0m                               \u001b[0mpreload\u001b[0m\u001b[1;33m=\u001b[0m\u001b[1;32mFalse\u001b[0m\u001b[1;33m,\u001b[0m \u001b[0mverbose\u001b[0m\u001b[1;33m=\u001b[0m\u001b[0mverbose\u001b[0m\u001b[1;33m,\u001b[0m\u001b[1;33m\u001b[0m\u001b[1;33m\u001b[0m\u001b[0m\n\u001b[1;32m---> 43\u001b[1;33m                               **kwargs)\n\u001b[0m\u001b[0;32m     44\u001b[0m \u001b[1;33m\u001b[0m\u001b[0m\n\u001b[0;32m     45\u001b[0m     \u001b[1;32melif\u001b[0m \u001b[0mext\u001b[0m \u001b[1;33m==\u001b[0m \u001b[1;34m'.fif'\u001b[0m\u001b[1;33m:\u001b[0m\u001b[1;33m\u001b[0m\u001b[1;33m\u001b[0m\u001b[0m\n",
      "\u001b[1;32m<decorator-gen-176>\u001b[0m in \u001b[0;36mread_raw_bti\u001b[1;34m(pdf_fname, config_fname, head_shape_fname, rotation_x, translation, convert, rename_channels, sort_by_ch_name, ecg_ch, eog_ch, preload, verbose)\u001b[0m\n",
      "\u001b[1;32m~\\Anaconda3\\lib\\site-packages\\mne\\io\\bti\\bti.py\u001b[0m in \u001b[0;36mread_raw_bti\u001b[1;34m(pdf_fname, config_fname, head_shape_fname, rotation_x, translation, convert, rename_channels, sort_by_ch_name, ecg_ch, eog_ch, preload, verbose)\u001b[0m\n\u001b[0;32m   1284\u001b[0m                   \u001b[0mconvert\u001b[0m\u001b[1;33m=\u001b[0m\u001b[0mconvert\u001b[0m\u001b[1;33m,\u001b[0m \u001b[0mrename_channels\u001b[0m\u001b[1;33m=\u001b[0m\u001b[0mrename_channels\u001b[0m\u001b[1;33m,\u001b[0m\u001b[1;33m\u001b[0m\u001b[1;33m\u001b[0m\u001b[0m\n\u001b[0;32m   1285\u001b[0m                   \u001b[0msort_by_ch_name\u001b[0m\u001b[1;33m=\u001b[0m\u001b[0msort_by_ch_name\u001b[0m\u001b[1;33m,\u001b[0m \u001b[0mecg_ch\u001b[0m\u001b[1;33m=\u001b[0m\u001b[0mecg_ch\u001b[0m\u001b[1;33m,\u001b[0m\u001b[1;33m\u001b[0m\u001b[1;33m\u001b[0m\u001b[0m\n\u001b[1;32m-> 1286\u001b[1;33m                   eog_ch=eog_ch, preload=preload, verbose=verbose)\n\u001b[0m",
      "\u001b[1;32m<decorator-gen-175>\u001b[0m in \u001b[0;36m__init__\u001b[1;34m(self, pdf_fname, config_fname, head_shape_fname, rotation_x, translation, convert, rename_channels, sort_by_ch_name, ecg_ch, eog_ch, preload, verbose)\u001b[0m\n",
      "\u001b[1;32m~\\Anaconda3\\lib\\site-packages\\mne\\io\\bti\\bti.py\u001b[0m in \u001b[0;36m__init__\u001b[1;34m(self, pdf_fname, config_fname, head_shape_fname, rotation_x, translation, convert, rename_channels, sort_by_ch_name, ecg_ch, eog_ch, preload, verbose)\u001b[0m\n\u001b[0;32m    950\u001b[0m             \u001b[0mtranslation\u001b[0m\u001b[1;33m=\u001b[0m\u001b[0mtranslation\u001b[0m\u001b[1;33m,\u001b[0m \u001b[0mconvert\u001b[0m\u001b[1;33m=\u001b[0m\u001b[0mconvert\u001b[0m\u001b[1;33m,\u001b[0m \u001b[0mecg_ch\u001b[0m\u001b[1;33m=\u001b[0m\u001b[0mecg_ch\u001b[0m\u001b[1;33m,\u001b[0m\u001b[1;33m\u001b[0m\u001b[1;33m\u001b[0m\u001b[0m\n\u001b[0;32m    951\u001b[0m             \u001b[0mrename_channels\u001b[0m\u001b[1;33m=\u001b[0m\u001b[0mrename_channels\u001b[0m\u001b[1;33m,\u001b[0m\u001b[1;33m\u001b[0m\u001b[1;33m\u001b[0m\u001b[0m\n\u001b[1;32m--> 952\u001b[1;33m             sort_by_ch_name=sort_by_ch_name, eog_ch=eog_ch)\n\u001b[0m\u001b[0;32m    953\u001b[0m         \u001b[0mself\u001b[0m\u001b[1;33m.\u001b[0m\u001b[0mbti_ch_labels\u001b[0m \u001b[1;33m=\u001b[0m \u001b[1;33m[\u001b[0m\u001b[0mc\u001b[0m\u001b[1;33m[\u001b[0m\u001b[1;34m'chan_label'\u001b[0m\u001b[1;33m]\u001b[0m \u001b[1;32mfor\u001b[0m \u001b[0mc\u001b[0m \u001b[1;32min\u001b[0m \u001b[0mbti_info\u001b[0m\u001b[1;33m[\u001b[0m\u001b[1;34m'chs'\u001b[0m\u001b[1;33m]\u001b[0m\u001b[1;33m]\u001b[0m\u001b[1;33m\u001b[0m\u001b[1;33m\u001b[0m\u001b[0m\n\u001b[0;32m    954\u001b[0m         \u001b[1;31m# make Raw repr work if we have a BytesIO as input\u001b[0m\u001b[1;33m\u001b[0m\u001b[1;33m\u001b[0m\u001b[1;33m\u001b[0m\u001b[0m\n",
      "\u001b[1;32m~\\Anaconda3\\lib\\site-packages\\mne\\io\\bti\\bti.py\u001b[0m in \u001b[0;36m_get_bti_info\u001b[1;34m(pdf_fname, config_fname, head_shape_fname, rotation_x, translation, convert, ecg_ch, eog_ch, rename_channels, sort_by_ch_name)\u001b[0m\n\u001b[0;32m   1043\u001b[0m \u001b[1;33m\u001b[0m\u001b[0m\n\u001b[0;32m   1044\u001b[0m     \u001b[1;32mif\u001b[0m \u001b[1;32mnot\u001b[0m \u001b[0misinstance\u001b[0m\u001b[1;33m(\u001b[0m\u001b[0mconfig_fname\u001b[0m\u001b[1;33m,\u001b[0m \u001b[0mBytesIO\u001b[0m\u001b[1;33m)\u001b[0m\u001b[1;33m:\u001b[0m\u001b[1;33m\u001b[0m\u001b[1;33m\u001b[0m\u001b[0m\n\u001b[1;32m-> 1045\u001b[1;33m         \u001b[1;32mif\u001b[0m \u001b[1;32mnot\u001b[0m \u001b[0mop\u001b[0m\u001b[1;33m.\u001b[0m\u001b[0misabs\u001b[0m\u001b[1;33m(\u001b[0m\u001b[0mconfig_fname\u001b[0m\u001b[1;33m)\u001b[0m\u001b[1;33m:\u001b[0m\u001b[1;33m\u001b[0m\u001b[1;33m\u001b[0m\u001b[0m\n\u001b[0m\u001b[0;32m   1046\u001b[0m             config_tries = [op.abspath(config_fname),\n\u001b[0;32m   1047\u001b[0m                             op.abspath(op.join(op.dirname(pdf_fname),\n",
      "\u001b[1;32m~\\Anaconda3\\lib\\ntpath.py\u001b[0m in \u001b[0;36misabs\u001b[1;34m(s)\u001b[0m\n\u001b[0;32m     67\u001b[0m \u001b[1;32mdef\u001b[0m \u001b[0misabs\u001b[0m\u001b[1;33m(\u001b[0m\u001b[0ms\u001b[0m\u001b[1;33m)\u001b[0m\u001b[1;33m:\u001b[0m\u001b[1;33m\u001b[0m\u001b[1;33m\u001b[0m\u001b[0m\n\u001b[0;32m     68\u001b[0m     \u001b[1;34m\"\"\"Test whether a path is absolute\"\"\"\u001b[0m\u001b[1;33m\u001b[0m\u001b[1;33m\u001b[0m\u001b[0m\n\u001b[1;32m---> 69\u001b[1;33m     \u001b[0ms\u001b[0m \u001b[1;33m=\u001b[0m \u001b[0mos\u001b[0m\u001b[1;33m.\u001b[0m\u001b[0mfspath\u001b[0m\u001b[1;33m(\u001b[0m\u001b[0ms\u001b[0m\u001b[1;33m)\u001b[0m\u001b[1;33m\u001b[0m\u001b[1;33m\u001b[0m\u001b[0m\n\u001b[0m\u001b[0;32m     70\u001b[0m     \u001b[0ms\u001b[0m \u001b[1;33m=\u001b[0m \u001b[0msplitdrive\u001b[0m\u001b[1;33m(\u001b[0m\u001b[0ms\u001b[0m\u001b[1;33m)\u001b[0m\u001b[1;33m[\u001b[0m\u001b[1;36m1\u001b[0m\u001b[1;33m]\u001b[0m\u001b[1;33m\u001b[0m\u001b[1;33m\u001b[0m\u001b[0m\n\u001b[0;32m     71\u001b[0m     \u001b[1;32mreturn\u001b[0m \u001b[0mlen\u001b[0m\u001b[1;33m(\u001b[0m\u001b[0ms\u001b[0m\u001b[1;33m)\u001b[0m \u001b[1;33m>\u001b[0m \u001b[1;36m0\u001b[0m \u001b[1;32mand\u001b[0m \u001b[0ms\u001b[0m\u001b[1;33m[\u001b[0m\u001b[1;36m0\u001b[0m\u001b[1;33m]\u001b[0m \u001b[1;32min\u001b[0m \u001b[0m_get_bothseps\u001b[0m\u001b[1;33m(\u001b[0m\u001b[0ms\u001b[0m\u001b[1;33m)\u001b[0m\u001b[1;33m\u001b[0m\u001b[1;33m\u001b[0m\u001b[0m\n",
      "\u001b[1;31mTypeError\u001b[0m: expected str, bytes or os.PathLike object, not NoneType"
     ]
    }
   ],
   "source": [
    "run_raw_arr = mne_bids.read_raw_bids(run_path)"
   ]
  },
  {
   "cell_type": "code",
   "execution_count": 183,
   "metadata": {},
   "outputs": [
    {
     "data": {
      "text/plain": [
       "<Info | 9 non-empty values\n",
       " bads: []\n",
       " ch_names: LFP_STN_R_234, LFP_STN_R_567, LFP_BS_STN_L_1, LFP_STN_L_234, ...\n",
       " chs: 12 ECOG\n",
       " custom_ref_applied: False\n",
       " highpass: 0.0 Hz\n",
       " line_freq: 50\n",
       " lowpass: 687.8 Hz\n",
       " meas_date: unspecified\n",
       " nchan: 12\n",
       " projs: []\n",
       " sfreq: 1375.5 Hz\n",
       " subject_info: 5 items (dict)\n",
       ">"
      ]
     },
     "execution_count": 183,
     "metadata": {},
     "output_type": "execute_result"
    }
   ],
   "source": [
    "run_raw_arr.info"
   ]
  },
  {
   "cell_type": "code",
   "execution_count": 184,
   "metadata": {},
   "outputs": [
    {
     "data": {
      "text/plain": [
       "{'participant_id': 'sub-002',\n",
       " 'age': 'n/a',\n",
       " 'sex': 0,\n",
       " 'hand': 0,\n",
       " 'line_noise': '50'}"
      ]
     },
     "execution_count": 184,
     "metadata": {},
     "output_type": "execute_result"
    }
   ],
   "source": [
    "run_raw_arr.info[\"subject_info\"]"
   ]
  },
  {
   "cell_type": "code",
   "execution_count": 185,
   "metadata": {},
   "outputs": [
    {
     "data": {
      "text/plain": [
       "(12, 613328)"
      ]
     },
     "execution_count": 185,
     "metadata": {},
     "output_type": "execute_result"
    }
   ],
   "source": [
    "run_raw_arr.get_data().shape"
   ]
  },
  {
   "cell_type": "code",
   "execution_count": 186,
   "metadata": {},
   "outputs": [
    {
     "data": {
      "text/plain": [
       "['ecog',\n",
       " 'ecog',\n",
       " 'ecog',\n",
       " 'ecog',\n",
       " 'ecog',\n",
       " 'ecog',\n",
       " 'ecog',\n",
       " 'ecog',\n",
       " 'ecog',\n",
       " 'ecog',\n",
       " 'ecog',\n",
       " 'ecog']"
      ]
     },
     "execution_count": 186,
     "metadata": {},
     "output_type": "execute_result"
    }
   ],
   "source": [
    "run_raw_arr.get_channel_types()"
   ]
  },
  {
   "cell_type": "code",
   "execution_count": 187,
   "metadata": {},
   "outputs": [],
   "source": [
    "run_raw_arr.get_montage()"
   ]
  },
  {
   "cell_type": "markdown",
   "metadata": {},
   "source": [
    "### doesn't work, let's stay with custom fct"
   ]
  },
  {
   "cell_type": "code",
   "execution_count": 60,
   "metadata": {},
   "outputs": [
    {
     "name": "stdout",
     "output_type": "stream",
     "text": [
      "Extracting parameters from C:\\Users\\ICN_admin\\Charité - Universitätsmedizin Berlin\\Interventional Cognitive Neuromodulation - Data\\Datasets\\BIDS Berlin\\sub-002\\ses-20200131\\ieeg\\sub-002_ses-20200131_task-selfpacedrotation202001310001_run-4_ieeg.vhdr...\n",
      "Setting channel info structure...\n"
     ]
    }
   ],
   "source": [
    "ieeg_raw, ch_names = IO.read_BIDS_file(run_file_to_read)"
   ]
  },
  {
   "cell_type": "markdown",
   "metadata": {},
   "source": [
    "### read also the coordinates.tsv"
   ]
  },
  {
   "cell_type": "code",
   "execution_count": 64,
   "metadata": {},
   "outputs": [
    {
     "data": {
      "text/plain": [
       "'C:\\\\Users\\\\ICN_admin\\\\Charité - Universitätsmedizin Berlin\\\\Interventional Cognitive Neuromodulation - Data\\\\Datasets\\\\BIDS Berlin\\\\sub-002\\\\ses-20200131\\\\ieeg'"
      ]
     },
     "execution_count": 64,
     "metadata": {},
     "output_type": "execute_result"
    }
   ],
   "source": [
    "os.path.dirname(run_file_to_read)"
   ]
  },
  {
   "cell_type": "code",
   "execution_count": 68,
   "metadata": {},
   "outputs": [],
   "source": [
    "df_coord = pd.read_csv(os.path.join(os.path.dirname(run_file_to_read), \\\n",
    "                                    \"sub-\"+subject+\"_electrodes.tsv\"), sep=\"\\t\")"
   ]
  },
  {
   "cell_type": "code",
   "execution_count": 69,
   "metadata": {
    "scrolled": true
   },
   "outputs": [
    {
     "data": {
      "text/html": [
       "<div>\n",
       "<style scoped>\n",
       "    .dataframe tbody tr th:only-of-type {\n",
       "        vertical-align: middle;\n",
       "    }\n",
       "\n",
       "    .dataframe tbody tr th {\n",
       "        vertical-align: top;\n",
       "    }\n",
       "\n",
       "    .dataframe thead th {\n",
       "        text-align: right;\n",
       "    }\n",
       "</style>\n",
       "<table border=\"1\" class=\"dataframe\">\n",
       "  <thead>\n",
       "    <tr style=\"text-align: right;\">\n",
       "      <th></th>\n",
       "      <th>name</th>\n",
       "      <th>x</th>\n",
       "      <th>y</th>\n",
       "      <th>z</th>\n",
       "      <th>size</th>\n",
       "    </tr>\n",
       "  </thead>\n",
       "  <tbody>\n",
       "    <tr>\n",
       "      <td>0</td>\n",
       "      <td>ECOG_AT_SM_L_1</td>\n",
       "      <td>-40.0000</td>\n",
       "      <td>-73.0000</td>\n",
       "      <td>40.00000</td>\n",
       "      <td>4</td>\n",
       "    </tr>\n",
       "    <tr>\n",
       "      <td>1</td>\n",
       "      <td>ECOG_AT_SM_L_2</td>\n",
       "      <td>-41.0000</td>\n",
       "      <td>-64.0000</td>\n",
       "      <td>46.50000</td>\n",
       "      <td>4</td>\n",
       "    </tr>\n",
       "    <tr>\n",
       "      <td>2</td>\n",
       "      <td>ECOG_AT_SM_L_3</td>\n",
       "      <td>-41.0000</td>\n",
       "      <td>-55.0000</td>\n",
       "      <td>52.50000</td>\n",
       "      <td>4</td>\n",
       "    </tr>\n",
       "    <tr>\n",
       "      <td>3</td>\n",
       "      <td>ECOG_AT_SM_L_4</td>\n",
       "      <td>-40.0000</td>\n",
       "      <td>-44.5000</td>\n",
       "      <td>55.50000</td>\n",
       "      <td>4</td>\n",
       "    </tr>\n",
       "    <tr>\n",
       "      <td>4</td>\n",
       "      <td>ECOG_AT_SM_L_5</td>\n",
       "      <td>-40.0000</td>\n",
       "      <td>-34.5000</td>\n",
       "      <td>59.50000</td>\n",
       "      <td>4</td>\n",
       "    </tr>\n",
       "    <tr>\n",
       "      <td>5</td>\n",
       "      <td>ECOG_AT_SM_L_6</td>\n",
       "      <td>-40.0000</td>\n",
       "      <td>-23.5000</td>\n",
       "      <td>59.50000</td>\n",
       "      <td>4</td>\n",
       "    </tr>\n",
       "    <tr>\n",
       "      <td>6</td>\n",
       "      <td>LFP_BS_STN_L_1</td>\n",
       "      <td>11.8327</td>\n",
       "      <td>-14.8891</td>\n",
       "      <td>-9.10934</td>\n",
       "      <td>4</td>\n",
       "    </tr>\n",
       "    <tr>\n",
       "      <td>7</td>\n",
       "      <td>LFP_BS_STN_L_2</td>\n",
       "      <td>12.3707</td>\n",
       "      <td>-13.6485</td>\n",
       "      <td>-7.03789</td>\n",
       "      <td>4</td>\n",
       "    </tr>\n",
       "    <tr>\n",
       "      <td>8</td>\n",
       "      <td>LFP_BS_STN_L_3</td>\n",
       "      <td>12.0276</td>\n",
       "      <td>-14.6680</td>\n",
       "      <td>-6.40611</td>\n",
       "      <td>4</td>\n",
       "    </tr>\n",
       "    <tr>\n",
       "      <td>9</td>\n",
       "      <td>LFP_BS_STN_L_4</td>\n",
       "      <td>13.1289</td>\n",
       "      <td>-14.5918</td>\n",
       "      <td>-7.01071</td>\n",
       "      <td>4</td>\n",
       "    </tr>\n",
       "    <tr>\n",
       "      <td>10</td>\n",
       "      <td>LFP_BS_STN_L_5</td>\n",
       "      <td>13.0713</td>\n",
       "      <td>-13.0653</td>\n",
       "      <td>-4.77084</td>\n",
       "      <td>4</td>\n",
       "    </tr>\n",
       "    <tr>\n",
       "      <td>11</td>\n",
       "      <td>LFP_BS_STN_L_6</td>\n",
       "      <td>12.7332</td>\n",
       "      <td>-14.1080</td>\n",
       "      <td>-4.15542</td>\n",
       "      <td>4</td>\n",
       "    </tr>\n",
       "    <tr>\n",
       "      <td>12</td>\n",
       "      <td>LFP_BS_STN_L_7</td>\n",
       "      <td>13.8241</td>\n",
       "      <td>-14.0304</td>\n",
       "      <td>-4.75592</td>\n",
       "      <td>4</td>\n",
       "    </tr>\n",
       "    <tr>\n",
       "      <td>13</td>\n",
       "      <td>LFP_BS_STN_L_8</td>\n",
       "      <td>13.9119</td>\n",
       "      <td>-13.1935</td>\n",
       "      <td>-2.28796</td>\n",
       "      <td>4</td>\n",
       "    </tr>\n",
       "    <tr>\n",
       "      <td>14</td>\n",
       "      <td>LFP_BS_STN_R_1</td>\n",
       "      <td>-12.3325</td>\n",
       "      <td>-17.1655</td>\n",
       "      <td>-8.74560</td>\n",
       "      <td>4</td>\n",
       "    </tr>\n",
       "    <tr>\n",
       "      <td>15</td>\n",
       "      <td>LFP_BS_STN_R_2</td>\n",
       "      <td>-13.0522</td>\n",
       "      <td>-16.0040</td>\n",
       "      <td>-6.91854</td>\n",
       "      <td>4</td>\n",
       "    </tr>\n",
       "    <tr>\n",
       "      <td>16</td>\n",
       "      <td>LFP_BS_STN_R_3</td>\n",
       "      <td>-13.5455</td>\n",
       "      <td>-17.1799</td>\n",
       "      <td>-6.53316</td>\n",
       "      <td>4</td>\n",
       "    </tr>\n",
       "    <tr>\n",
       "      <td>17</td>\n",
       "      <td>LFP_BS_STN_R_4</td>\n",
       "      <td>-12.3516</td>\n",
       "      <td>-16.6752</td>\n",
       "      <td>-6.18122</td>\n",
       "      <td>4</td>\n",
       "    </tr>\n",
       "    <tr>\n",
       "      <td>18</td>\n",
       "      <td>LFP_BS_STN_R_5</td>\n",
       "      <td>-13.7334</td>\n",
       "      <td>-15.4365</td>\n",
       "      <td>-4.72797</td>\n",
       "      <td>4</td>\n",
       "    </tr>\n",
       "    <tr>\n",
       "      <td>19</td>\n",
       "      <td>LFP_BS_STN_R_6</td>\n",
       "      <td>-14.2192</td>\n",
       "      <td>-16.6367</td>\n",
       "      <td>-4.34364</td>\n",
       "      <td>4</td>\n",
       "    </tr>\n",
       "    <tr>\n",
       "      <td>20</td>\n",
       "      <td>LFP_BS_STN_R_7</td>\n",
       "      <td>-13.0314</td>\n",
       "      <td>-16.1272</td>\n",
       "      <td>-3.98196</td>\n",
       "      <td>4</td>\n",
       "    </tr>\n",
       "    <tr>\n",
       "      <td>21</td>\n",
       "      <td>LFP_BS_STN_R_8</td>\n",
       "      <td>-14.3399</td>\n",
       "      <td>-15.5135</td>\n",
       "      <td>-2.12905</td>\n",
       "      <td>4</td>\n",
       "    </tr>\n",
       "  </tbody>\n",
       "</table>\n",
       "</div>"
      ],
      "text/plain": [
       "              name        x        y         z  size\n",
       "0   ECOG_AT_SM_L_1 -40.0000 -73.0000  40.00000     4\n",
       "1   ECOG_AT_SM_L_2 -41.0000 -64.0000  46.50000     4\n",
       "2   ECOG_AT_SM_L_3 -41.0000 -55.0000  52.50000     4\n",
       "3   ECOG_AT_SM_L_4 -40.0000 -44.5000  55.50000     4\n",
       "4   ECOG_AT_SM_L_5 -40.0000 -34.5000  59.50000     4\n",
       "5   ECOG_AT_SM_L_6 -40.0000 -23.5000  59.50000     4\n",
       "6   LFP_BS_STN_L_1  11.8327 -14.8891  -9.10934     4\n",
       "7   LFP_BS_STN_L_2  12.3707 -13.6485  -7.03789     4\n",
       "8   LFP_BS_STN_L_3  12.0276 -14.6680  -6.40611     4\n",
       "9   LFP_BS_STN_L_4  13.1289 -14.5918  -7.01071     4\n",
       "10  LFP_BS_STN_L_5  13.0713 -13.0653  -4.77084     4\n",
       "11  LFP_BS_STN_L_6  12.7332 -14.1080  -4.15542     4\n",
       "12  LFP_BS_STN_L_7  13.8241 -14.0304  -4.75592     4\n",
       "13  LFP_BS_STN_L_8  13.9119 -13.1935  -2.28796     4\n",
       "14  LFP_BS_STN_R_1 -12.3325 -17.1655  -8.74560     4\n",
       "15  LFP_BS_STN_R_2 -13.0522 -16.0040  -6.91854     4\n",
       "16  LFP_BS_STN_R_3 -13.5455 -17.1799  -6.53316     4\n",
       "17  LFP_BS_STN_R_4 -12.3516 -16.6752  -6.18122     4\n",
       "18  LFP_BS_STN_R_5 -13.7334 -15.4365  -4.72797     4\n",
       "19  LFP_BS_STN_R_6 -14.2192 -16.6367  -4.34364     4\n",
       "20  LFP_BS_STN_R_7 -13.0314 -16.1272  -3.98196     4\n",
       "21  LFP_BS_STN_R_8 -14.3399 -15.5135  -2.12905     4"
      ]
     },
     "execution_count": 69,
     "metadata": {},
     "output_type": "execute_result"
    }
   ],
   "source": [
    "df_coord"
   ]
  },
  {
   "cell_type": "markdown",
   "metadata": {},
   "source": [
    "### gosh, there are different number of electrode contacts than saved iEEG channels... might be difficult for standard plotting functions"
   ]
  },
  {
   "cell_type": "markdown",
   "metadata": {},
   "source": [
    "### read fs, where we assume that fs is same for all channels"
   ]
  },
  {
   "cell_type": "code",
   "execution_count": 84,
   "metadata": {},
   "outputs": [],
   "source": [
    "fs=IO.read_run_sampling_frequency(run_file_to_read)[0] "
   ]
  },
  {
   "cell_type": "code",
   "execution_count": 85,
   "metadata": {},
   "outputs": [
    {
     "data": {
      "text/plain": [
       "1375.5158184319118"
      ]
     },
     "execution_count": 85,
     "metadata": {},
     "output_type": "execute_result"
    }
   ],
   "source": [
    "fs"
   ]
  },
  {
   "cell_type": "code",
   "execution_count": 86,
   "metadata": {},
   "outputs": [],
   "source": [
    "fs = int(np.ceil(fs)) # cast it to int"
   ]
  },
  {
   "cell_type": "code",
   "execution_count": 87,
   "metadata": {},
   "outputs": [
    {
     "data": {
      "text/plain": [
       "1376"
      ]
     },
     "execution_count": 87,
     "metadata": {},
     "output_type": "execute_result"
    }
   ],
   "source": [
    "fs "
   ]
  },
  {
   "cell_type": "code",
   "execution_count": 191,
   "metadata": {},
   "outputs": [],
   "source": [
    "def ieeg_raw_generator(ieeg_raw, df_M1, settings, fs):\n",
    "    \"\"\"[summary]\n",
    "\n",
    "    Args:\n",
    "        ieeg_raw (np array): shape (channels, time)\n",
    "        fs (float): \n",
    "        fs_new (float): new resampled frequency \n",
    "        offset_start (int): size of highest segmenth length, needs to be skipped at the start to have same feature size\n",
    "\n",
    "    Yields:\n",
    "        np.array: new batch for run function of full segment length shape\n",
    "    \"\"\"\n",
    "\n",
    "    cnt_fsnew = 0\n",
    "    offset_start = settings[\"seglengths\"][0] * fs\n",
    "    fs_new = settings[\"resamplingrate\"]\n",
    "    used_idx = df_M1[(df_M1[\"used\"] == 1) & (df_M1[\"target\"] == 0)].index\n",
    "    \n",
    "    for cnt in range(ieeg_raw.shape[1]):\n",
    "        if cnt < offset_start:\n",
    "            cnt_fsnew +=1\n",
    "            continue\n",
    "        \n",
    "        cnt_fsnew +=1\n",
    "        if cnt_fsnew >= (fs/fs_new):\n",
    "            cnt_fsnew = 0\n",
    "            yield ieeg_raw[used_idx,cnt-offset_start:cnt]"
   ]
  },
  {
   "cell_type": "code",
   "execution_count": 192,
   "metadata": {},
   "outputs": [],
   "source": [
    "gen_ = ieeg_raw_generator(ieeg_raw, df_M1, settings, fs)"
   ]
  },
  {
   "cell_type": "code",
   "execution_count": 90,
   "metadata": {},
   "outputs": [
    {
     "data": {
      "text/plain": [
       "(11, 1376)"
      ]
     },
     "execution_count": 90,
     "metadata": {},
     "output_type": "execute_result"
    }
   ],
   "source": [
    "next(gen_, None).shape # None, since None should be returned when run is finished"
   ]
  },
  {
   "cell_type": "code",
   "execution_count": 173,
   "metadata": {},
   "outputs": [
    {
     "data": {
      "text/plain": [
       "array([[   0.,    0.,    0., ...,    0.,    0.,    0.],\n",
       "       [ -55.,  -59.,  -59., ..., -110., -109., -110.],\n",
       "       [  33.,   28.,   31., ...,   43.,   45.,   45.],\n",
       "       ...,\n",
       "       [   9.,    4.,    8., ...,    1.,    2.,    0.],\n",
       "       [  11.,    5.,    6., ...,    7.,   11.,    9.],\n",
       "       [  30.,   20.,   20., ...,   58.,   60.,   59.]])"
      ]
     },
     "execution_count": 173,
     "metadata": {},
     "output_type": "execute_result"
    }
   ],
   "source": [
    "next(gen_, None)"
   ]
  },
  {
   "cell_type": "markdown",
   "metadata": {},
   "source": [
    "### read line noise"
   ]
  },
  {
   "cell_type": "code",
   "execution_count": 91,
   "metadata": {},
   "outputs": [],
   "source": [
    "line_noise = IO.read_line_noise(settings['BIDS_path'],\"002\") # line noise is a column in the participants.tsv"
   ]
  },
  {
   "cell_type": "code",
   "execution_count": 92,
   "metadata": {},
   "outputs": [
    {
     "data": {
      "text/plain": [
       "50"
      ]
     },
     "execution_count": 92,
     "metadata": {},
     "output_type": "execute_result"
    }
   ],
   "source": [
    "line_noise"
   ]
  },
  {
   "cell_type": "markdown",
   "metadata": {},
   "source": [
    "### calculate filter"
   ]
  },
  {
   "cell_type": "code",
   "execution_count": 109,
   "metadata": {},
   "outputs": [
    {
     "data": {
      "text/plain": [
       "1376"
      ]
     },
     "execution_count": 109,
     "metadata": {},
     "output_type": "execute_result"
    }
   ],
   "source": [
    "fs"
   ]
  },
  {
   "cell_type": "markdown",
   "metadata": {},
   "source": [
    "#### well here I needed t add to the filter_len 1, need to recheck if that's every time neccessary!"
   ]
  },
  {
   "cell_type": "code",
   "execution_count": 113,
   "metadata": {
    "scrolled": true
   },
   "outputs": [
    {
     "name": "stdout",
     "output_type": "stream",
     "text": [
      "No data specified. Sanity checks related to the length of the signal relative to the filter order will be skipped.\n",
      "Setting up band-pass filter from 4 - 8 Hz\n",
      "\n",
      "FIR filter parameters\n",
      "---------------------\n",
      "Designing a one-pass, zero-phase, non-causal bandpass filter:\n",
      "- Windowed time-domain design (firwin) method\n",
      "- Hamming window with 0.0194 passband ripple and 53 dB stopband attenuation\n",
      "- Lower passband edge: 4.00\n",
      "- Lower transition bandwidth: 4.00 Hz (-6 dB cutoff frequency: 2.00 Hz)\n",
      "- Upper passband edge: 8.00 Hz\n",
      "- Upper transition bandwidth: 4.00 Hz (-6 dB cutoff frequency: 10.00 Hz)\n",
      "- Filter length: 1377 samples (1.001 sec)\n",
      "\n",
      "No data specified. Sanity checks related to the length of the signal relative to the filter order will be skipped.\n",
      "Setting up band-pass filter from 8 - 12 Hz\n",
      "\n",
      "FIR filter parameters\n",
      "---------------------\n",
      "Designing a one-pass, zero-phase, non-causal bandpass filter:\n",
      "- Windowed time-domain design (firwin) method\n",
      "- Hamming window with 0.0194 passband ripple and 53 dB stopband attenuation\n",
      "- Lower passband edge: 8.00\n",
      "- Lower transition bandwidth: 4.00 Hz (-6 dB cutoff frequency: 6.00 Hz)\n",
      "- Upper passband edge: 12.00 Hz\n",
      "- Upper transition bandwidth: 4.00 Hz (-6 dB cutoff frequency: 14.00 Hz)\n",
      "- Filter length: 1377 samples (1.001 sec)\n",
      "\n",
      "No data specified. Sanity checks related to the length of the signal relative to the filter order will be skipped.\n",
      "Setting up band-pass filter from 13 - 20 Hz\n",
      "\n",
      "FIR filter parameters\n",
      "---------------------\n",
      "Designing a one-pass, zero-phase, non-causal bandpass filter:\n",
      "- Windowed time-domain design (firwin) method\n",
      "- Hamming window with 0.0194 passband ripple and 53 dB stopband attenuation\n",
      "- Lower passband edge: 13.00\n",
      "- Lower transition bandwidth: 4.00 Hz (-6 dB cutoff frequency: 11.00 Hz)\n",
      "- Upper passband edge: 20.00 Hz\n",
      "- Upper transition bandwidth: 4.00 Hz (-6 dB cutoff frequency: 22.00 Hz)\n",
      "- Filter length: 1377 samples (1.001 sec)\n",
      "\n",
      "No data specified. Sanity checks related to the length of the signal relative to the filter order will be skipped.\n",
      "Setting up band-pass filter from 20 - 35 Hz\n",
      "\n",
      "FIR filter parameters\n",
      "---------------------\n",
      "Designing a one-pass, zero-phase, non-causal bandpass filter:\n",
      "- Windowed time-domain design (firwin) method\n",
      "- Hamming window with 0.0194 passband ripple and 53 dB stopband attenuation\n",
      "- Lower passband edge: 20.00\n",
      "- Lower transition bandwidth: 4.00 Hz (-6 dB cutoff frequency: 18.00 Hz)\n",
      "- Upper passband edge: 35.00 Hz\n",
      "- Upper transition bandwidth: 4.00 Hz (-6 dB cutoff frequency: 37.00 Hz)\n",
      "- Filter length: 1377 samples (1.001 sec)\n",
      "\n",
      "No data specified. Sanity checks related to the length of the signal relative to the filter order will be skipped.\n",
      "Setting up band-pass filter from 13 - 35 Hz\n",
      "\n",
      "FIR filter parameters\n",
      "---------------------\n",
      "Designing a one-pass, zero-phase, non-causal bandpass filter:\n",
      "- Windowed time-domain design (firwin) method\n",
      "- Hamming window with 0.0194 passband ripple and 53 dB stopband attenuation\n",
      "- Lower passband edge: 13.00\n",
      "- Lower transition bandwidth: 4.00 Hz (-6 dB cutoff frequency: 11.00 Hz)\n",
      "- Upper passband edge: 35.00 Hz\n",
      "- Upper transition bandwidth: 4.00 Hz (-6 dB cutoff frequency: 37.00 Hz)\n",
      "- Filter length: 1377 samples (1.001 sec)\n",
      "\n",
      "No data specified. Sanity checks related to the length of the signal relative to the filter order will be skipped.\n",
      "Setting up band-pass filter from 60 - 80 Hz\n",
      "\n",
      "FIR filter parameters\n",
      "---------------------\n",
      "Designing a one-pass, zero-phase, non-causal bandpass filter:\n",
      "- Windowed time-domain design (firwin) method\n",
      "- Hamming window with 0.0194 passband ripple and 53 dB stopband attenuation\n",
      "- Lower passband edge: 60.00\n",
      "- Lower transition bandwidth: 4.00 Hz (-6 dB cutoff frequency: 58.00 Hz)\n",
      "- Upper passband edge: 80.00 Hz\n",
      "- Upper transition bandwidth: 4.00 Hz (-6 dB cutoff frequency: 82.00 Hz)\n",
      "- Filter length: 1377 samples (1.001 sec)\n",
      "\n",
      "No data specified. Sanity checks related to the length of the signal relative to the filter order will be skipped.\n",
      "Setting up band-pass filter from 90 - 2e+02 Hz\n",
      "\n",
      "FIR filter parameters\n",
      "---------------------\n",
      "Designing a one-pass, zero-phase, non-causal bandpass filter:\n",
      "- Windowed time-domain design (firwin) method\n",
      "- Hamming window with 0.0194 passband ripple and 53 dB stopband attenuation\n",
      "- Lower passband edge: 90.00\n",
      "- Lower transition bandwidth: 4.00 Hz (-6 dB cutoff frequency: 88.00 Hz)\n",
      "- Upper passband edge: 200.00 Hz\n",
      "- Upper transition bandwidth: 4.00 Hz (-6 dB cutoff frequency: 202.00 Hz)\n",
      "- Filter length: 1377 samples (1.001 sec)\n",
      "\n",
      "No data specified. Sanity checks related to the length of the signal relative to the filter order will be skipped.\n",
      "Setting up band-pass filter from 60 - 2e+02 Hz\n",
      "\n",
      "FIR filter parameters\n",
      "---------------------\n",
      "Designing a one-pass, zero-phase, non-causal bandpass filter:\n",
      "- Windowed time-domain design (firwin) method\n",
      "- Hamming window with 0.0194 passband ripple and 53 dB stopband attenuation\n",
      "- Lower passband edge: 60.00\n",
      "- Lower transition bandwidth: 4.00 Hz (-6 dB cutoff frequency: 58.00 Hz)\n",
      "- Upper passband edge: 200.00 Hz\n",
      "- Upper transition bandwidth: 4.00 Hz (-6 dB cutoff frequency: 202.00 Hz)\n",
      "- Filter length: 1377 samples (1.001 sec)\n",
      "\n"
     ]
    }
   ],
   "source": [
    "filter_fun = filter.calc_band_filters(settings['frequencyranges'], sample_rate=fs, filter_len=fs+1)"
   ]
  },
  {
   "cell_type": "markdown",
   "metadata": {},
   "source": [
    "### only ECOG and STN data is returned, next implement that in run"
   ]
  },
  {
   "cell_type": "code",
   "execution_count": 124,
   "metadata": {},
   "outputs": [
    {
     "data": {
      "text/plain": [
       "{'BIDS_path': 'C:\\\\Users\\\\ICN_admin\\\\Charité - Universitätsmedizin Berlin\\\\Interventional Cognitive Neuromodulation - Data\\\\Datasets\\\\BIDS Berlin',\n",
       " 'out_path': 'C:\\\\Users\\\\ICN_admin\\\\Documents\\\\icn\\\\icn_m1\\\\restructure\\\\BIDS_Berlin_M1',\n",
       " 'resamplingrate': 10,\n",
       " 'max_dist_cortex': 20,\n",
       " 'max_dist_subcortex': 5,\n",
       " 'normalization_time': 10,\n",
       " 'frequencyranges': [[4, 8],\n",
       "  [8, 12],\n",
       "  [13, 20],\n",
       "  [20, 35],\n",
       "  [13, 35],\n",
       "  [60, 80],\n",
       "  [90, 200],\n",
       "  [60, 200]],\n",
       " 'featurelabels': ['theta',\n",
       "  'alpha',\n",
       "  'low beta',\n",
       "  'high beta',\n",
       "  'all beta',\n",
       "  'low gamma',\n",
       "  'HFA',\n",
       "  'all gamma'],\n",
       " 'seglengths': [1, 2, 2, 3, 3, 3, 10, 10, 10]}"
      ]
     },
     "execution_count": 124,
     "metadata": {},
     "output_type": "execute_result"
    }
   ],
   "source": [
    "settings"
   ]
  },
  {
   "cell_type": "code",
   "execution_count": 228,
   "metadata": {},
   "outputs": [],
   "source": [
    "def run(gen, settings, df_M1, fs, line_noise, filter_fun, usemean_=True, normalize=True):\n",
    "\n",
    "    num_features = 8 # later important to be distinguishible for different features\n",
    "    num_channels = df_M1[(df_M1[\"used\"] == 1) & (df_M1[\"target\"] == 0)].index.shape[0]\n",
    "    feature_arr = np.zeros([1, num_channels, num_features])\n",
    "    \n",
    "    fs_new = int(settings[\"resamplingrate\"])\n",
    "    normalize_time = int(settings[\"normalization_time\"])\n",
    "    cnt_samples = 0 \n",
    "    \n",
    "    if normalize is True:\n",
    "        normalize_samples = int(normalize_time*fs_new)\n",
    "        feature_arr_norm = np.zeros(feature_arr.shape)\n",
    "    while True:\n",
    "        ieeg_batch = next(gen, None)\n",
    "        \n",
    "        if ieeg_batch is None: \n",
    "            if normalize is True:\n",
    "                return feature_arr_norm\n",
    "            else: \n",
    "                return feature_arr\n",
    "        \n",
    "        ### call rereference ###\n",
    "        #ieeg_batch = reference(ieeg_batch, df_M1)\n",
    "        \n",
    "        # notch filter and feature estimation\n",
    "        features_sample = np.zeros([num_channels,num_features])\n",
    "        for ch_idx, ch in enumerate(np.arange(0,num_channels,1)):\n",
    "            dat_filt = filter.apply_filter(ieeg_batch[ch_idx,:], sample_rate=fs, filter_fun=filter_fun, \\\n",
    "                        line_noise=line_noise, seglengths=(fs/np.array(settings[\"seglengths\"])).astype(int))\n",
    "            features_sample[ch_idx,:] = dat_filt\n",
    "        \n",
    "        feature_arr = np.concatenate((feature_arr, np.expand_dims(features_sample, axis=0)), axis=0)\n",
    "        if normalize is True:\n",
    "            if cnt_samples < normalize_samples:\n",
    "                if cnt_samples == 0:\n",
    "                    n_idx = 0\n",
    "                else:\n",
    "                    n_idx = np.arange(0,cnt_samples,1)\n",
    "            else:\n",
    "                n_idx = np.arange(cnt_samples-normalize_samples, cnt_samples, 1)\n",
    "\n",
    "            if cnt_samples == 0:\n",
    "                feature_arr_norm[n_idx,:,:] = np.clip(feature_arr[n_idx,:,:], settings[\"clip_low\"], \\\n",
    "                                                      settings[\"clip_high\"])\n",
    "            else:\n",
    "                if usemean_ is True:   \n",
    "                    norm_previous = np.mean(feature_arr[n_idx,:,:], axis=0)\n",
    "                else:\n",
    "                    norm_previous = np.median(feature_arr[n_idx,:,:], axis=0)\n",
    "                    \n",
    "                feature_norm = (feature_arr[cnt_samples,:,:] - norm_previous) / norm_previous\n",
    "                \n",
    "                ### Artifact rejection ###\n",
    "                feature_norm = np.clip(feature_norm, settings[\"clip_low\"], settings[\"clip_high\"])\n",
    "                feature_arr_norm = np.concatenate((feature_arr_norm, \\\n",
    "                                                   np.expand_dims(feature_norm, axis=0)), axis=0) \n",
    "            print(str(np.round(cnt_samples/fs_new,2))+ \"s\")\n",
    "            cnt_samples += 1 "
   ]
  },
  {
   "cell_type": "code",
   "execution_count": 229,
   "metadata": {},
   "outputs": [
    {
     "data": {
      "text/plain": [
       "(12, 613328)"
      ]
     },
     "execution_count": 229,
     "metadata": {},
     "output_type": "execute_result"
    }
   ],
   "source": [
    "ieeg_raw.shape"
   ]
  },
  {
   "cell_type": "code",
   "execution_count": 230,
   "metadata": {},
   "outputs": [],
   "source": [
    "gen_ = ieeg_raw_generator(ieeg_raw[:,:50000], df_M1, settings, fs) # clip for timing reasons"
   ]
  },
  {
   "cell_type": "code",
   "execution_count": 231,
   "metadata": {
    "scrolled": true
   },
   "outputs": [
    {
     "name": "stdout",
     "output_type": "stream",
     "text": [
      "0.0s\n",
      "0.1s\n"
     ]
    },
    {
     "name": "stderr",
     "output_type": "stream",
     "text": [
      "C:\\Users\\ICN_admin\\Anaconda3\\lib\\site-packages\\ipykernel_launcher.py:52: RuntimeWarning: divide by zero encountered in true_divide\n",
      "C:\\Users\\ICN_admin\\Anaconda3\\lib\\site-packages\\ipykernel_launcher.py:52: RuntimeWarning: invalid value encountered in true_divide\n"
     ]
    },
    {
     "name": "stdout",
     "output_type": "stream",
     "text": [
      "0.2s\n",
      "0.3s\n",
      "0.4s\n",
      "0.5s\n",
      "0.6s\n",
      "0.7s\n",
      "0.8s\n",
      "0.9s\n",
      "1.0s\n",
      "1.1s\n",
      "1.2s\n",
      "1.3s\n",
      "1.4s\n",
      "1.5s\n",
      "1.6s\n",
      "1.7s\n",
      "1.8s\n",
      "1.9s\n",
      "2.0s\n",
      "2.1s\n",
      "2.2s\n",
      "2.3s\n",
      "2.4s\n",
      "2.5s\n",
      "2.6s\n",
      "2.7s\n",
      "2.8s\n",
      "2.9s\n",
      "3.0s\n",
      "3.1s\n",
      "3.2s\n",
      "3.3s\n",
      "3.4s\n",
      "3.5s\n",
      "3.6s\n",
      "3.7s\n",
      "3.8s\n",
      "3.9s\n",
      "4.0s\n",
      "4.1s\n",
      "4.2s\n",
      "4.3s\n",
      "4.4s\n",
      "4.5s\n",
      "4.6s\n",
      "4.7s\n",
      "4.8s\n",
      "4.9s\n",
      "5.0s\n",
      "5.1s\n",
      "5.2s\n",
      "5.3s\n",
      "5.4s\n",
      "5.5s\n",
      "5.6s\n",
      "5.7s\n",
      "5.8s\n",
      "5.9s\n",
      "6.0s\n",
      "6.1s\n",
      "6.2s\n",
      "6.3s\n",
      "6.4s\n",
      "6.5s\n",
      "6.6s\n",
      "6.7s\n",
      "6.8s\n",
      "6.9s\n",
      "7.0s\n",
      "7.1s\n",
      "7.2s\n",
      "7.3s\n",
      "7.4s\n",
      "7.5s\n",
      "7.6s\n",
      "7.7s\n",
      "7.8s\n",
      "7.9s\n",
      "8.0s\n",
      "8.1s\n",
      "8.2s\n",
      "8.3s\n",
      "8.4s\n",
      "8.5s\n",
      "8.6s\n",
      "8.7s\n",
      "8.8s\n",
      "8.9s\n",
      "9.0s\n",
      "9.1s\n",
      "9.2s\n",
      "9.3s\n",
      "9.4s\n",
      "9.5s\n",
      "9.6s\n",
      "9.7s\n",
      "9.8s\n",
      "9.9s\n",
      "10.0s\n",
      "10.1s\n",
      "10.2s\n",
      "10.3s\n",
      "10.4s\n",
      "10.5s\n",
      "10.6s\n",
      "10.7s\n",
      "10.8s\n",
      "10.9s\n",
      "11.0s\n",
      "11.1s\n",
      "11.2s\n",
      "11.3s\n",
      "11.4s\n",
      "11.5s\n",
      "11.6s\n",
      "11.7s\n",
      "11.8s\n",
      "11.9s\n",
      "12.0s\n",
      "12.1s\n",
      "12.2s\n",
      "12.3s\n",
      "12.4s\n",
      "12.5s\n",
      "12.6s\n",
      "12.7s\n",
      "12.8s\n",
      "12.9s\n",
      "13.0s\n",
      "13.1s\n",
      "13.2s\n",
      "13.3s\n",
      "13.4s\n",
      "13.5s\n",
      "13.6s\n",
      "13.7s\n",
      "13.8s\n",
      "13.9s\n",
      "14.0s\n",
      "14.1s\n",
      "14.2s\n",
      "14.3s\n",
      "14.4s\n",
      "14.5s\n",
      "14.6s\n",
      "14.7s\n",
      "14.8s\n",
      "14.9s\n",
      "15.0s\n",
      "15.1s\n",
      "15.2s\n",
      "15.3s\n",
      "15.4s\n",
      "15.5s\n",
      "15.6s\n",
      "15.7s\n",
      "15.8s\n",
      "15.9s\n",
      "16.0s\n",
      "16.1s\n",
      "16.2s\n",
      "16.3s\n",
      "16.4s\n",
      "16.5s\n",
      "16.6s\n",
      "16.7s\n",
      "16.8s\n",
      "16.9s\n",
      "17.0s\n",
      "17.1s\n",
      "17.2s\n",
      "17.3s\n",
      "17.4s\n",
      "17.5s\n",
      "17.6s\n",
      "17.7s\n",
      "17.8s\n",
      "17.9s\n",
      "18.0s\n",
      "18.1s\n",
      "18.2s\n",
      "18.3s\n",
      "18.4s\n",
      "18.5s\n",
      "18.6s\n",
      "18.7s\n",
      "18.8s\n",
      "18.9s\n",
      "19.0s\n",
      "19.1s\n",
      "19.2s\n",
      "19.3s\n",
      "19.4s\n",
      "19.5s\n",
      "19.6s\n",
      "19.7s\n",
      "19.8s\n",
      "19.9s\n",
      "20.0s\n",
      "20.1s\n",
      "20.2s\n",
      "20.3s\n",
      "20.4s\n",
      "20.5s\n",
      "20.6s\n",
      "20.7s\n",
      "20.8s\n",
      "20.9s\n",
      "21.0s\n",
      "21.1s\n",
      "21.2s\n",
      "21.3s\n",
      "21.4s\n",
      "21.5s\n",
      "21.6s\n",
      "21.7s\n",
      "21.8s\n",
      "21.9s\n",
      "22.0s\n",
      "22.1s\n",
      "22.2s\n",
      "22.3s\n",
      "22.4s\n",
      "22.5s\n",
      "22.6s\n",
      "22.7s\n",
      "22.8s\n",
      "22.9s\n",
      "23.0s\n",
      "23.1s\n",
      "23.2s\n",
      "23.3s\n",
      "23.4s\n",
      "23.5s\n",
      "23.6s\n",
      "23.7s\n",
      "23.8s\n",
      "23.9s\n",
      "24.0s\n",
      "24.1s\n",
      "24.2s\n",
      "24.3s\n",
      "24.4s\n",
      "24.5s\n",
      "24.6s\n",
      "24.7s\n",
      "24.8s\n",
      "24.9s\n",
      "25.0s\n",
      "25.1s\n",
      "25.2s\n",
      "25.3s\n",
      "25.4s\n",
      "25.5s\n",
      "25.6s\n",
      "25.7s\n",
      "25.8s\n",
      "25.9s\n",
      "26.0s\n",
      "26.1s\n",
      "26.2s\n",
      "26.3s\n",
      "26.4s\n",
      "26.5s\n",
      "26.6s\n",
      "26.7s\n",
      "26.8s\n",
      "26.9s\n",
      "27.0s\n",
      "27.1s\n",
      "27.2s\n",
      "27.3s\n",
      "27.4s\n",
      "27.5s\n",
      "27.6s\n",
      "27.7s\n",
      "27.8s\n",
      "27.9s\n",
      "28.0s\n",
      "28.1s\n",
      "28.2s\n",
      "28.3s\n",
      "28.4s\n",
      "28.5s\n",
      "28.6s\n",
      "28.7s\n",
      "28.8s\n",
      "28.9s\n",
      "29.0s\n",
      "29.1s\n",
      "29.2s\n",
      "29.3s\n",
      "29.4s\n",
      "29.5s\n",
      "29.6s\n",
      "29.7s\n",
      "29.8s\n",
      "29.9s\n",
      "30.0s\n",
      "30.1s\n",
      "30.2s\n",
      "30.3s\n",
      "30.4s\n",
      "30.5s\n",
      "30.6s\n",
      "30.7s\n",
      "30.8s\n",
      "30.9s\n",
      "31.0s\n",
      "31.1s\n",
      "31.2s\n",
      "31.3s\n",
      "31.4s\n",
      "31.5s\n",
      "31.6s\n",
      "31.7s\n",
      "31.8s\n",
      "31.9s\n",
      "32.0s\n",
      "32.1s\n",
      "32.2s\n",
      "32.3s\n",
      "32.4s\n",
      "32.5s\n",
      "32.6s\n",
      "32.7s\n",
      "32.8s\n",
      "32.9s\n",
      "33.0s\n",
      "33.1s\n",
      "33.2s\n",
      "33.3s\n",
      "33.4s\n",
      "33.5s\n",
      "33.6s\n",
      "33.7s\n",
      "33.8s\n",
      "33.9s\n",
      "34.0s\n",
      "34.1s\n",
      "34.2s\n",
      "34.3s\n",
      "34.4s\n",
      "34.5s\n",
      "34.6s\n",
      "34.7s\n",
      "34.8s\n",
      "34.9s\n",
      "35.0s\n",
      "35.1s\n",
      "35.2s\n"
     ]
    }
   ],
   "source": [
    "data_features = run(gen_, settings, df_M1, fs, line_noise, filter_fun, usemean_=True, normalize=True)"
   ]
  },
  {
   "cell_type": "code",
   "execution_count": 232,
   "metadata": {},
   "outputs": [
    {
     "data": {
      "text/plain": [
       "(353, 11, 8)"
      ]
     },
     "execution_count": 232,
     "metadata": {},
     "output_type": "execute_result"
    }
   ],
   "source": [
    "data_features.shape"
   ]
  },
  {
   "cell_type": "code",
   "execution_count": 247,
   "metadata": {},
   "outputs": [
    {
     "ename": "IndexError",
     "evalue": "index 8 is out of bounds for axis 2 with size 8",
     "output_type": "error",
     "traceback": [
      "\u001b[1;31m---------------------------------------------------------------------------\u001b[0m",
      "\u001b[1;31mIndexError\u001b[0m                                Traceback (most recent call last)",
      "\u001b[1;32m<ipython-input-247-115773c90fd2>\u001b[0m in \u001b[0;36m<module>\u001b[1;34m\u001b[0m\n\u001b[1;32m----> 1\u001b[1;33m \u001b[0mplt\u001b[0m\u001b[1;33m.\u001b[0m\u001b[0mplot\u001b[0m\u001b[1;33m(\u001b[0m\u001b[0mdata_features\u001b[0m\u001b[1;33m[\u001b[0m\u001b[1;33m:\u001b[0m\u001b[1;33m,\u001b[0m\u001b[1;36m0\u001b[0m\u001b[1;33m,\u001b[0m\u001b[1;36m8\u001b[0m\u001b[1;33m]\u001b[0m\u001b[1;33m)\u001b[0m\u001b[1;33m\u001b[0m\u001b[1;33m\u001b[0m\u001b[0m\n\u001b[0m",
      "\u001b[1;31mIndexError\u001b[0m: index 8 is out of bounds for axis 2 with size 8"
     ]
    }
   ],
   "source": [
    "plt.plot(data_features[:,0,8])"
   ]
  },
  {
   "cell_type": "code",
   "execution_count": 249,
   "metadata": {},
   "outputs": [
    {
     "data": {
      "text/plain": [
       "(353, 11, 8)"
      ]
     },
     "execution_count": 249,
     "metadata": {},
     "output_type": "execute_result"
    }
   ],
   "source": [
    "np.nan_to_num(data_features).shape"
   ]
  },
  {
   "cell_type": "code",
   "execution_count": 146,
   "metadata": {},
   "outputs": [],
   "source": [
    "from matplotlib import pyplot as plt"
   ]
  },
  {
   "cell_type": "code",
   "execution_count": 233,
   "metadata": {},
   "outputs": [
    {
     "data": {
      "text/plain": [
       "<matplotlib.colorbar.Colorbar at 0x23ee5807308>"
      ]
     },
     "execution_count": 233,
     "metadata": {},
     "output_type": "execute_result"
    },
    {
     "data": {
      "image/png": "[encoded data removed]",
      "text/plain": [
       "<Figure size 432x288 with 2 Axes>"
      ]
     },
     "metadata": {
      "needs_background": "light"
     },
     "output_type": "display_data"
    }
   ],
   "source": [
    "plt.imshow(data_features[:, -4, :,].T, aspect='auto')\n",
    "plt.colorbar()"
   ]
  },
  {
   "cell_type": "code",
   "execution_count": 237,
   "metadata": {},
   "outputs": [
    {
     "data": {
      "text/plain": [
       "[<matplotlib.lines.Line2D at 0x23ee5540288>]"
      ]
     },
     "execution_count": 237,
     "metadata": {},
     "output_type": "execute_result"
    },
    {
     "data": {
      "image/png": "[encoded data removed]",
      "text/plain": [
       "<Figure size 432x288 with 1 Axes>"
      ]
     },
     "metadata": {
      "needs_background": "light"
     },
     "output_type": "display_data"
    }
   ],
   "source": [
    "plt.plot(ieeg_raw[-1,:])"
   ]
  },
  {
   "cell_type": "code",
   "execution_count": 250,
   "metadata": {},
   "outputs": [],
   "source": [
    "dict_out = {\n",
    "    \"data_features\" : data_features, \n",
    "    \"coord\" : df_coord, \n",
    "    \"fs\" : fs, \n",
    "    \"settings\" : settings, \n",
    "    \"df_M1\" : df_M1, \n",
    "    \"filters used\" : filter_fun\n",
    "}\n"
   ]
  },
  {
   "cell_type": "code",
   "execution_count": 253,
   "metadata": {},
   "outputs": [
    {
     "data": {
      "text/plain": [
       "{'BIDS_path': 'C:\\\\Users\\\\icn_admin\\\\OneDrive - Charité - Universitätsmedizin Berlin\\\\Data\\\\BIDS Berlin',\n",
       " 'out_path': 'C:\\\\Users\\\\ICN_admin\\\\Documents\\\\icn\\\\icn_m1\\\\restructure\\\\BIDS_Berlin_M1',\n",
       " 'resamplingrate': 10,\n",
       " 'max_dist_cortex': 20,\n",
       " 'max_dist_subcortex': 5,\n",
       " 'normalization_time': 10,\n",
       " 'frequencyranges': [[4, 8],\n",
       "  [8, 12],\n",
       "  [13, 20],\n",
       "  [20, 35],\n",
       "  [13, 35],\n",
       "  [60, 80],\n",
       "  [90, 200],\n",
       "  [60, 200]],\n",
       " 'featurelabels': ['theta',\n",
       "  'alpha',\n",
       "  'low beta',\n",
       "  'high beta',\n",
       "  'all beta',\n",
       "  'low gamma',\n",
       "  'HFA',\n",
       "  'all gamma'],\n",
       " 'seglengths': [1, 2, 2, 3, 3, 3, 10, 10, 10],\n",
       " 'clip_low': -3,\n",
       " 'clip_high': 3}"
      ]
     },
     "execution_count": 253,
     "metadata": {},
     "output_type": "execute_result"
    }
   ],
   "source": [
    "dict_out[\"settings\"]"
   ]
  },
  {
   "cell_type": "code",
   "execution_count": null,
   "metadata": {},
   "outputs": [],
   "source": []
  }
 ],
 "metadata": {
  "kernelspec": {
   "display_name": "Python 3",
   "language": "python",
   "name": "python3"
  },
  "language_info": {
   "codemirror_mode": {
    "name": "ipython",
    "version": 3
   },
   "file_extension": ".py",
   "mimetype": "text/x-python",
   "name": "python",
   "nbconvert_exporter": "python",
   "pygments_lexer": "ipython3",
   "version": "3.7.4"
  }
 },
 "nbformat": 4,
 "nbformat_minor": 2
}
