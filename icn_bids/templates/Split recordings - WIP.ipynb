{
 "cells": [
  {
   "cell_type": "code",
   "execution_count": 1,
   "metadata": {},
   "outputs": [],
   "source": [
    "import mne\n",
    "from mne_bids import BIDSPath, read_raw_bids, print_dir_tree, make_report, write_raw_bids\n",
    "import pandas as pd\n",
    "\n",
    "%matplotlib qt"
   ]
  },
  {
   "cell_type": "code",
   "execution_count": 4,
   "metadata": {},
   "outputs": [
    {
     "name": "stdout",
     "output_type": "stream",
     "text": [
      "C:/Users/Jonathan/Charité - Universitätsmedizin Berlin/Interventional Cognitive Neuromodulation - Data/BIDS_Berlin_ECOG_LFP/rawdata/sub-010/ses-EcogLfpMedOn02/ieeg/sub-010_ses-EcogLfpMedOn02_task-SelfpacedHandTapL_acq-StimOff_run-1_ieeg.vhdr\n"
     ]
    },
    {
     "name": "stderr",
     "output_type": "stream",
     "text": [
      "C:\\Users\\Jonathan\\AppData\\Local\\Temp/ipykernel_20472/3379741468.py:15: RuntimeWarning: Did not find any events.tsv associated with sub-010_ses-EcogLfpMedOn02_task-SelfpacedHandTapL_acq-StimOff_run-1.\n",
      "\n",
      "The search_str was \"C:\\Users\\Jonathan\\Charité - Universitätsmedizin Berlin\\Interventional Cognitive Neuromodulation - Data\\BIDS_Berlin_ECOG_LFP\\rawdata\\sub-010\\**\\ieeg\\sub-010_ses-EcogLfpMedOn02*events.tsv\"\n",
      "  raw = read_raw_bids(bids_path=bids_path, verbose=False)\n",
      "C:\\Users\\Jonathan\\AppData\\Local\\Temp/ipykernel_20472/3379741468.py:15: RuntimeWarning: The number of channels in the channels.tsv sidecar file (37) does not match the number of channels in the raw data file (34). Will not try to set channel names.\n",
      "  raw = read_raw_bids(bids_path=bids_path, verbose=False)\n",
      "C:\\Users\\Jonathan\\AppData\\Local\\Temp/ipykernel_20472/3379741468.py:15: RuntimeWarning: Cannot set channel type for the following channels, as they are missing in the raw data: ACC_R_X_D2_TM, ACC_R_Y_D2_TM, ACC_R_Z_D2_TM\n",
      "  raw = read_raw_bids(bids_path=bids_path, verbose=False)\n",
      "C:\\Users\\Jonathan\\AppData\\Local\\Temp/ipykernel_20472/3379741468.py:15: RuntimeWarning: MNI152NLin2009bAsym is not an MNE-Python coordinate frame for IEEG data and so will be set to 'unknown'\n",
      "  raw = read_raw_bids(bids_path=bids_path, verbose=False)\n",
      "C:\\Users\\Jonathan\\AppData\\Local\\Temp/ipykernel_20472/3379741468.py:15: RuntimeWarning: DigMontage is only a subset of info. There are 2 channel positions not present in the DigMontage. The required channels are:\n",
      "\n",
      "['EEG_CZ_TM', 'EEG_FZ_TM'].\n",
      "\n",
      "Consider using inst.set_channel_types if these are not EEG channels, or use the on_missing parameter if the channel positions are allowed to be unknown in your analyses.\n",
      "  raw = read_raw_bids(bids_path=bids_path, verbose=False)\n"
     ]
    },
    {
     "name": "stdout",
     "output_type": "stream",
     "text": [
      "Free RAM space could not be determined because\"psutil\" is not installed. Setting precompute to False.\n"
     ]
    },
    {
     "data": {
      "text/plain": [
       "<mne_qt_browser._pg_figure.MNEQtBrowser at 0x1762139e5e0>"
      ]
     },
     "execution_count": 4,
     "metadata": {},
     "output_type": "execute_result"
    }
   ],
   "source": [
    "bids_root = r\"C:\\Users\\Jonathan\\Charité - Universitätsmedizin Berlin\\Interventional Cognitive Neuromodulation - Data\\BIDS_Berlin_ECOG_LFP\\rawdata\"\n",
    "\n",
    "subject = '010'\n",
    "datatype = 'ieeg'\n",
    "session = 'EcogLfpMedOn02'\n",
    "task = 'SelfpacedHandTapL'\n",
    "acquisition = 'StimOff'\n",
    "run = '1'\n",
    "suffix = 'ieeg'\n",
    "\n",
    "bids_path = BIDSPath(subject=subject, session=session, task=task, acquisition=acquisition, run=run,\n",
    "                     suffix=suffix, datatype=datatype, root=bids_root)\n",
    "\n",
    "print(bids_path)\n",
    "raw = read_raw_bids(bids_path=bids_path, verbose=False)\n",
    "raw.plot()"
   ]
  },
  {
   "cell_type": "code",
   "execution_count": null,
   "metadata": {},
   "outputs": [],
   "source": [
    "# overview cell\n",
    "# total recording time in seconds: 6600\n",
    "# 1 Rest 10:54-10:58\n",
    "\n",
    "0-300\n",
    "# 2 Selfp li ???\n",
    " 300-1180\n",
    "# 3 Rest 3min 11:12 - ???\n",
    " 1180-1340\n",
    "# 4 Selfp Li\n",
    "# 5 Selp re\n",
    " 1340-2015\n",
    "# 6 Rest 11:26 - 11:30\n",
    " 2015-2220\n",
    "# 7 selfp Li 11:30 - 11:37\n",
    " 2220-2800\n",
    "# 8 Free 11:37 - 11:48\n",
    " 2800-3030\n",
    "# 9 Rest 11:48-11:55\n",
    " 3330-3700\n",
    "# 10 Selfp Li 11:55 - 12:01\n",
    " 3700-4110\n",
    "# 11 Free 12:01-12:15\n",
    " 4110-5000\n",
    "# 12 Rest 12:15 - 12:20\n",
    " 5000-5360\n",
    "# 13 Selfp Li 12:20 - 12:27\n",
    "# 14 Selfp Re 12:27 - 12:30\n",
    " 5360-5900\n",
    "# 15 Free 12:30 - 12:37\n",
    " 5900-6300\n",
    "# 16 Rest 12:38 - 12:43\n",
    " 6300-6600\n",
    "\n"
   ]
  },
  {
   "cell_type": "code",
   "execution_count": 5,
   "metadata": {},
   "outputs": [],
   "source": [
    "\n",
    "# create table  for annotations\n",
    "annot_table = []\n",
    "\n",
    "#annot_table.field_names = [\"task\", \"acquisition\", \"onset\", \"end\"]\n",
    "\n",
    "\n",
    "# 1 Rest 10:54-10:58\n",
    "annot_table.append(['Rest','StimOffPreDopa',0,300])\n",
    "# 2 Selfp li ???\n",
    "annot_table.append(['SelfpacedHandTapL','StimOffPreDopa',300,1180])\n",
    "# 3 Rest 3min 11:12 - ???\n",
    "annot_table.append(['Rest','StimOffDopa00',1180,1340])\n",
    "\n",
    "# 4 Selfp Li\n",
    "# 5 Selp re\n",
    "annot_table.append(['SelfpacedHandTapB','StimOffDopa05',1340,2015])\n",
    "# 6 Rest 11:26 - 11:30\n",
    "annot_table.append(['Rest','StimOffDopa15',2015,2220])\n",
    "\n",
    "# 7 selfp Li 11:30 - 11:37\n",
    "annot_table.append(['SelfpacedHandTapL','StimOffDopa20',2220,2800])\n",
    "\n",
    "# 8 Free 11:37 - 11:48\n",
    "\n",
    "annot_table.append(['Free','StimOffDopa25',2800,3030])\n",
    "\n",
    "# 9 Rest 11:48-11:55\n",
    "\n",
    "annot_table.append(['Rest','StimOffDopa35',3330,3700])\n",
    "\n",
    "# 10 Selfp Li 11:55 - 12:01\n",
    "annot_table.append(['SelfpacedHandTapL','StimOffDopa45',3700,4110])\n",
    "\n",
    "# 11 Free 12:01-12:15\n",
    "annot_table.append(['Free','StimOffDopa50',4110,5000])\n",
    "\n",
    "# 12 Rest 12:15 - 12:20\n",
    "annot_table.append(['Rest','StimOffDopa65',5000,5360])\n",
    "\n",
    "# 13 Selfp Li 12:20 - 12:27\n",
    "# 14 Selfp Re 12:27 - 12:30\n",
    "annot_table.append(['SelfpacedHandTapB','StimOffDopa70',5360,5900])\n",
    "\n",
    "# 15 Free 12:30 - 12:37\n",
    "annot_table.append(['Free','StimOffDopa80',5900,6300])\n",
    "\n",
    "# 16 Rest 12:38 - 12:43\n",
    "annot_table.append(['Rest','StimOffDopa85',6300,6600])\n",
    "\n",
    "\n",
    "\n",
    "annot_table = pd.DataFrame(annot_table, columns=[\"task\", \"acquisition\", \"onset\", \"end\"])\n",
    "annot_table['duration'] = annot_table['end'] - annot_table['onset']"
   ]
  },
  {
   "cell_type": "code",
   "execution_count": 6,
   "metadata": {},
   "outputs": [
    {
     "name": "stdout",
     "output_type": "stream",
     "text": [
      "Free RAM space could not be determined because\"psutil\" is not installed. Setting precompute to False.\n"
     ]
    }
   ],
   "source": [
    "\n",
    "annot = mne.Annotations(onset=annot_table['onset'], duration=annot_table['duration'],\n",
    "            description=annot_table['task']+annot_table['acquisition'])\n",
    "\n",
    "raw2 = raw.copy().set_annotations(annot)\n",
    "raw2.plot()\n",
    "\n",
    "raws = raw2.crop_by_annotations(annotations=annot)\n"
   ]
  },
  {
   "cell_type": "code",
   "execution_count": 7,
   "metadata": {},
   "outputs": [
    {
     "name": "stdout",
     "output_type": "stream",
     "text": [
      "<Info | 12 non-empty values\n",
      " bads: []\n",
      " ch_names: LFP_R_01_STN_MT, LFP_R_02_STN_MT, LFP_R_03_STN_MT, ...\n",
      " chs: 16 DBS, 6 ECoG, 2 EEG, 2 EMG, 1 ECG, 7 misc\n",
      " custom_ref_applied: False\n",
      " description: Anonymized using a time shift to preserve age at acquisition\n",
      " dig: 22 items (22 EEG)\n",
      " experimenter: mne_anonymize\n",
      " highpass: 0.0 Hz\n",
      " line_freq: 50.0\n",
      " lowpass: 2000.0 Hz\n",
      " meas_date: 2022-02-08 10:53:06 UTC\n",
      " nchan: 34\n",
      " projs: []\n",
      " sfreq: 4000.0 Hz\n",
      " subject_info: 26 items (dict)\n",
      ">\n",
      "Extracting parameters from C:\\Users\\Jonathan\\Charité - Universitätsmedizin Berlin\\Interventional Cognitive Neuromodulation - Data\\BIDS_Berlin_ECOG_LFP\\rawdata\\sub-010\\ses-EcogLfpMedOn02\\ieeg\\sub-010_ses-EcogLfpMedOn02_task-SelfpacedHandTapL_acq-StimOff_run-1_ieeg.vhdr...\n",
      "Setting channel info structure...\n"
     ]
    },
    {
     "ename": "ValueError",
     "evalue": "The raw data you want to write contains fewer time points than the raw data on disk. It is possible that you cropped your data, which write_raw_bids() won't accept. If you believe you have a valid use case that should be supported, please reach out to the developers at https://github.com/mne-tools/mne-bids/issues",
     "output_type": "error",
     "traceback": [
      "\u001b[1;31m---------------------------------------------------------------------------\u001b[0m",
      "\u001b[1;31mValueError\u001b[0m                                Traceback (most recent call last)",
      "\u001b[1;32m~\\AppData\\Local\\Temp/ipykernel_20472/613748766.py\u001b[0m in \u001b[0;36m<module>\u001b[1;34m\u001b[0m\n\u001b[0;32m     11\u001b[0m                         \u001b[0mdatatype\u001b[0m\u001b[1;33m=\u001b[0m\u001b[0mdatatype\u001b[0m\u001b[1;33m,\u001b[0m\u001b[1;33m\u001b[0m\u001b[1;33m\u001b[0m\u001b[0m\n\u001b[0;32m     12\u001b[0m                         root=r\"C:\\Users\\Jonathan\\Documents\\DATA\\Dykinesia\")\n\u001b[1;32m---> 13\u001b[1;33m     \u001b[0mwrite_raw_bids\u001b[0m\u001b[1;33m(\u001b[0m\u001b[0mra\u001b[0m\u001b[1;33m,\u001b[0m \u001b[0mbids_path\u001b[0m\u001b[1;33m=\u001b[0m\u001b[0mbids_path\u001b[0m\u001b[1;33m)\u001b[0m\u001b[1;33m\u001b[0m\u001b[1;33m\u001b[0m\u001b[0m\n\u001b[0m\u001b[0;32m     14\u001b[0m     \u001b[0mi\u001b[0m\u001b[1;33m+=\u001b[0m\u001b[1;36m1\u001b[0m\u001b[1;33m\u001b[0m\u001b[1;33m\u001b[0m\u001b[0m\n",
      "\u001b[1;32m<decorator-gen-596>\u001b[0m in \u001b[0;36mwrite_raw_bids\u001b[1;34m(raw, bids_path, events_data, event_id, anonymize, format, symlink, empty_room, allow_preload, montage, acpc_aligned, overwrite, verbose)\u001b[0m\n",
      "\u001b[1;32m~\\AppData\\Local\\Programs\\Python\\Python39\\lib\\site-packages\\mne_bids\\write.py\u001b[0m in \u001b[0;36mwrite_raw_bids\u001b[1;34m(raw, bids_path, events_data, event_id, anonymize, format, symlink, empty_room, allow_preload, montage, acpc_aligned, overwrite, verbose)\u001b[0m\n\u001b[0;32m   1484\u001b[0m                 \u001b[1;34m'supported, please reach out to the developers at '\u001b[0m\u001b[1;33m\u001b[0m\u001b[1;33m\u001b[0m\u001b[0m\n\u001b[0;32m   1485\u001b[0m                 'https://github.com/mne-tools/mne-bids/issues')\n\u001b[1;32m-> 1486\u001b[1;33m         \u001b[1;32mraise\u001b[0m \u001b[0mValueError\u001b[0m\u001b[1;33m(\u001b[0m\u001b[0mmsg\u001b[0m\u001b[1;33m)\u001b[0m\u001b[1;33m\u001b[0m\u001b[1;33m\u001b[0m\u001b[0m\n\u001b[0m\u001b[0;32m   1487\u001b[0m \u001b[1;33m\u001b[0m\u001b[0m\n\u001b[0;32m   1488\u001b[0m     \u001b[1;31m# Initialize BIDS path\u001b[0m\u001b[1;33m\u001b[0m\u001b[1;33m\u001b[0m\u001b[1;33m\u001b[0m\u001b[0m\n",
      "\u001b[1;31mValueError\u001b[0m: The raw data you want to write contains fewer time points than the raw data on disk. It is possible that you cropped your data, which write_raw_bids() won't accept. If you believe you have a valid use case that should be supported, please reach out to the developers at https://github.com/mne-tools/mne-bids/issues"
     ]
    }
   ],
   "source": [
    "i=0\n",
    "for ra in raws:\n",
    "    print(ra.info)\n",
    "    \n",
    "    bids_path = BIDSPath(subject=subject,\n",
    "                        session=\"EcogLfpMedOfMedOnDys01\",\n",
    "                        task=annot_table['task'][i],\n",
    "                        acquisition=annot_table['acquisition'][i],\n",
    "                        run=run,\n",
    "                        suffix=suffix,\n",
    "                        datatype=datatype,\n",
    "                        root=r\"C:\\Users\\Jonathan\\Documents\\DATA\\Dykinesia\")\n",
    "    write_raw_bids(ra, bids_path=bids_path)\n",
    "    i+=1"
   ]
  },
  {
   "cell_type": "code",
   "execution_count": 9,
   "metadata": {},
   "outputs": [
    {
     "data": {
      "text/plain": [
       "'Rest'"
      ]
     },
     "execution_count": 9,
     "metadata": {},
     "output_type": "execute_result"
    }
   ],
   "source": [
    "i=0\n",
    "annot_table['task'][i]"
   ]
  }
 ],
 "metadata": {
  "interpreter": {
   "hash": "03eaa2ea944cf99881aa5fab8d165e2f17a4015119a862d5d367392066f26a1e"
  },
  "kernelspec": {
   "display_name": "Python 3.9.1 64-bit",
   "language": "python",
   "name": "python3"
  },
  "language_info": {
   "codemirror_mode": {
    "name": "ipython",
    "version": 3
   },
   "file_extension": ".py",
   "mimetype": "text/x-python",
   "name": "python",
   "nbconvert_exporter": "python",
   "pygments_lexer": "ipython3",
   "version": "3.9.1"
  },
  "orig_nbformat": 4
 },
 "nbformat": 4,
 "nbformat_minor": 2
}
