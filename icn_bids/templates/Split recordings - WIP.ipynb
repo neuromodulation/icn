{
 "cells": [
  {
   "cell_type": "code",
   "execution_count": 1,
   "metadata": {},
   "outputs": [],
   "source": [
    "import mne\n",
    "from mne_bids import BIDSPath, read_raw_bids, print_dir_tree, make_report, write_raw_bids\n",
    "import pandas as pd"
   ]
  },
  {
   "cell_type": "code",
   "execution_count": 2,
   "metadata": {},
   "outputs": [
    {
     "name": "stdout",
     "output_type": "stream",
     "text": [
      "C:/Users/Jonathan/Charité - Universitätsmedizin Berlin/Interventional Cognitive Neuromodulation - Data/BIDS_Berlin_ECOG_LFP/rawdata/sub-010/ses-EcogLfpMedOn02/ieeg/sub-010_ses-EcogLfpMedOn02_task-SelfpacedHandTapL_acq-StimOff_run-1_ieeg.vhdr\n"
     ]
    },
    {
     "name": "stderr",
     "output_type": "stream",
     "text": [
      "C:\\Users\\Jonathan\\AppData\\Local\\Temp/ipykernel_25872/3379741468.py:15: RuntimeWarning: Did not find any events.tsv associated with sub-010_ses-EcogLfpMedOn02_task-SelfpacedHandTapL_acq-StimOff_run-1.\n",
      "\n",
      "The search_str was \"C:\\Users\\Jonathan\\Charité - Universitätsmedizin Berlin\\Interventional Cognitive Neuromodulation - Data\\BIDS_Berlin_ECOG_LFP\\rawdata\\sub-010\\**\\ieeg\\sub-010_ses-EcogLfpMedOn02*events.tsv\"\n",
      "  raw = read_raw_bids(bids_path=bids_path, verbose=False)\n",
      "C:\\Users\\Jonathan\\AppData\\Local\\Temp/ipykernel_25872/3379741468.py:15: RuntimeWarning: Expected to find a single channels file associated with sub-010_ses-EcogLfpMedOn02_task-SelfpacedHandTapL_acq-StimOff_run-1, but found 2: \"['C:\\\\Users\\\\Jonathan\\\\Charité - Universitätsmedizin Berlin\\\\Interventional Cognitive Neuromodulation - Data\\\\BIDS_Berlin_ECOG_LFP\\\\rawdata\\\\sub-010\\\\ses-EcogLfpMedOffOnDys01\\\\ieeg\\\\sub-010_ses-EcogLfpMedOn02_task-SelfpacedHandTapL_acq-StimOff_run-1_channels.tsv', 'C:\\\\Users\\\\Jonathan\\\\Charité - Universitätsmedizin Berlin\\\\Interventional Cognitive Neuromodulation - Data\\\\BIDS_Berlin_ECOG_LFP\\\\rawdata\\\\sub-010\\\\ses-EcogLfpMedOn02\\\\ieeg\\\\sub-010_ses-EcogLfpMedOn02_task-SelfpacedHandTapL_acq-StimOff_run-1_channels.tsv']\".\n",
      "\n",
      "The search_str was \"C:\\Users\\Jonathan\\Charité - Universitätsmedizin Berlin\\Interventional Cognitive Neuromodulation - Data\\BIDS_Berlin_ECOG_LFP\\rawdata\\sub-010\\**\\ieeg\\sub-010_ses-EcogLfpMedOn02*channels.tsv\"\n",
      "  raw = read_raw_bids(bids_path=bids_path, verbose=False)\n",
      "C:\\Users\\Jonathan\\AppData\\Local\\Temp/ipykernel_25872/3379741468.py:15: RuntimeWarning: Expected to find a single electrodes file associated with sub-010_ses-EcogLfpMedOn02_task-SelfpacedHandTapL_acq-StimOff_run-1, but found 2: \"['C:\\\\Users\\\\Jonathan\\\\Charité - Universitätsmedizin Berlin\\\\Interventional Cognitive Neuromodulation - Data\\\\BIDS_Berlin_ECOG_LFP\\\\rawdata\\\\sub-010\\\\ses-EcogLfpMedOffOnDys01\\\\ieeg\\\\sub-010_ses-EcogLfpMedOn02_space-MNI152NLin2009bAsym_electrodes.tsv', 'C:\\\\Users\\\\Jonathan\\\\Charité - Universitätsmedizin Berlin\\\\Interventional Cognitive Neuromodulation - Data\\\\BIDS_Berlin_ECOG_LFP\\\\rawdata\\\\sub-010\\\\ses-EcogLfpMedOn02\\\\ieeg\\\\sub-010_ses-EcogLfpMedOn02_space-MNI152NLin2009bAsym_electrodes.tsv']\".\n",
      "\n",
      "The search_str was \"C:\\Users\\Jonathan\\Charité - Universitätsmedizin Berlin\\Interventional Cognitive Neuromodulation - Data\\BIDS_Berlin_ECOG_LFP\\rawdata\\sub-010\\**\\ieeg\\sub-010_ses-EcogLfpMedOn02*electrodes.tsv\"\n",
      "  raw = read_raw_bids(bids_path=bids_path, verbose=False)\n",
      "C:\\Users\\Jonathan\\AppData\\Local\\Temp/ipykernel_25872/3379741468.py:15: RuntimeWarning: Expected to find a single coordsystem file associated with sub-010_ses-EcogLfpMedOn02_task-SelfpacedHandTapL_acq-StimOff_run-1, but found 2: \"['C:\\\\Users\\\\Jonathan\\\\Charité - Universitätsmedizin Berlin\\\\Interventional Cognitive Neuromodulation - Data\\\\BIDS_Berlin_ECOG_LFP\\\\rawdata\\\\sub-010\\\\ses-EcogLfpMedOffOnDys01\\\\ieeg\\\\sub-010_ses-EcogLfpMedOn02_space-MNI152NLin2009bAsym_coordsystem.json', 'C:\\\\Users\\\\Jonathan\\\\Charité - Universitätsmedizin Berlin\\\\Interventional Cognitive Neuromodulation - Data\\\\BIDS_Berlin_ECOG_LFP\\\\rawdata\\\\sub-010\\\\ses-EcogLfpMedOn02\\\\ieeg\\\\sub-010_ses-EcogLfpMedOn02_space-MNI152NLin2009bAsym_coordsystem.json']\".\n",
      "\n",
      "The search_str was \"C:\\Users\\Jonathan\\Charité - Universitätsmedizin Berlin\\Interventional Cognitive Neuromodulation - Data\\BIDS_Berlin_ECOG_LFP\\rawdata\\sub-010\\**\\ieeg\\sub-010_ses-EcogLfpMedOn02*coordsystem.json\"\n",
      "  raw = read_raw_bids(bids_path=bids_path, verbose=False)\n",
      "C:\\Users\\Jonathan\\AppData\\Local\\Temp/ipykernel_25872/3379741468.py:15: RuntimeWarning: Expected to find a single ieeg file associated with sub-010_ses-EcogLfpMedOn02_task-SelfpacedHandTapL_acq-StimOff_run-1, but found 2: \"['C:\\\\Users\\\\Jonathan\\\\Charité - Universitätsmedizin Berlin\\\\Interventional Cognitive Neuromodulation - Data\\\\BIDS_Berlin_ECOG_LFP\\\\rawdata\\\\sub-010\\\\ses-EcogLfpMedOffOnDys01\\\\ieeg\\\\sub-010_ses-EcogLfpMedOn02_task-SelfpacedHandTapL_acq-StimOff_run-1_ieeg.json', 'C:\\\\Users\\\\Jonathan\\\\Charité - Universitätsmedizin Berlin\\\\Interventional Cognitive Neuromodulation - Data\\\\BIDS_Berlin_ECOG_LFP\\\\rawdata\\\\sub-010\\\\ses-EcogLfpMedOn02\\\\ieeg\\\\sub-010_ses-EcogLfpMedOn02_task-SelfpacedHandTapL_acq-StimOff_run-1_ieeg.json']\".\n",
      "\n",
      "The search_str was \"C:\\Users\\Jonathan\\Charité - Universitätsmedizin Berlin\\Interventional Cognitive Neuromodulation - Data\\BIDS_Berlin_ECOG_LFP\\rawdata\\sub-010\\**\\ieeg\\sub-010_ses-EcogLfpMedOn02*ieeg.json\"\n",
      "  raw = read_raw_bids(bids_path=bids_path, verbose=False)\n"
     ]
    },
    {
     "name": "stdout",
     "output_type": "stream",
     "text": [
      "Using qt as 2D backend.\n",
      "Free RAM space could not be determined because\"psutil\" is not installed. Setting precompute to False.\n"
     ]
    },
    {
     "data": {
      "text/plain": [
       "<mne_qt_browser._pg_figure.MNEQtBrowser at 0x1b703051ee0>"
      ]
     },
     "execution_count": 2,
     "metadata": {},
     "output_type": "execute_result"
    }
   ],
   "source": [
    "bids_root = r\"C:\\Users\\Jonathan\\Charité - Universitätsmedizin Berlin\\Interventional Cognitive Neuromodulation - Data\\BIDS_Berlin_ECOG_LFP\\rawdata\"\n",
    "\n",
    "subject = '010'\n",
    "datatype = 'ieeg'\n",
    "session = 'EcogLfpMedOn02'\n",
    "task = 'SelfpacedHandTapL'\n",
    "acquisition = 'StimOff'\n",
    "run = '1'\n",
    "suffix = 'ieeg'\n",
    "\n",
    "bids_path = BIDSPath(subject=subject, session=session, task=task, acquisition=acquisition, run=run,\n",
    "                     suffix=suffix, datatype=datatype, root=bids_root)\n",
    "\n",
    "print(bids_path)\n",
    "raw = read_raw_bids(bids_path=bids_path, verbose=False)\n",
    "raw.plot()"
   ]
  },
  {
   "cell_type": "code",
   "execution_count": null,
   "metadata": {},
   "outputs": [],
   "source": [
    "# overview cell\n",
    "# total recording time in seconds: 6600\n",
    "# 1 Rest 10:54-10:58\n",
    "\n",
    "0-300\n",
    "# 2 Selfp li ???\n",
    " 300-1180\n",
    "# 3 Rest 3min 11:12 - ???\n",
    " 1180-1340\n",
    "# 4 Selfp Li\n",
    "# 5 Selp re\n",
    " 1340-2015\n",
    "# 6 Rest 11:26 - 11:30\n",
    " 2015-2220\n",
    "# 7 selfp Li 11:30 - 11:37\n",
    " 2220-2800\n",
    "# 8 Free 11:37 - 11:48\n",
    " 2800-3030\n",
    "# 9 Rest 11:48-11:55\n",
    " 3330-3700\n",
    "# 10 Selfp Li 11:55 - 12:01\n",
    " 3700-4110\n",
    "# 11 Free 12:01-12:15\n",
    " 4110-5000\n",
    "# 12 Rest 12:15 - 12:20\n",
    " 5000-5360\n",
    "# 13 Selfp Li 12:20 - 12:27\n",
    "# 14 Selfp Re 12:27 - 12:30\n",
    " 5360-5900\n",
    "# 15 Free 12:30 - 12:37\n",
    " 5900-6300\n",
    "# 16 Rest 12:38 - 12:43\n",
    " 6300-6600\n",
    "\n"
   ]
  },
  {
   "cell_type": "code",
   "execution_count": null,
   "metadata": {},
   "outputs": [],
   "source": [
    "\n",
    "# create table  for annotations\n",
    "annot_table = []\n",
    "\n",
    "#annot_table.field_names = [\"task\", \"acquisition\", \"onset\", \"end\"]\n",
    "\n",
    "\n",
    "# 1 Rest 10:54-10:58\n",
    "annot_table.append(['Rest','StimOffPreDopa',0,300])\n",
    "# 2 Selfp li ???\n",
    "annot_table.append(['SelfpacedHandTapL','StimOffPreDopa',300,1180])\n",
    "# 3 Rest 3min 11:12 - ???\n",
    "annot_table.append(['Rest','StimOffDopa00',1180,1340])\n",
    "\n",
    "# 4 Selfp Li\n",
    "# 5 Selp re\n",
    "annot_table.append(['SelfpacedHandTapB','StimOffDopa05',1340,2015])\n",
    "# 6 Rest 11:26 - 11:30\n",
    "annot_table.append(['Rest','StimOffDopa15',2015,2220])\n",
    "\n",
    "# 7 selfp Li 11:30 - 11:37\n",
    "annot_table.append(['SelfpacedHandTapL','StimOffDopa20',2220,2800])\n",
    "\n",
    "# 8 Free 11:37 - 11:48\n",
    "\n",
    "annot_table.append(['Free','StimOffDopa25',2800,3030])\n",
    "\n",
    "# 9 Rest 11:48-11:55\n",
    "\n",
    "annot_table.append(['Rest','StimOffDopa35',3330,3700])\n",
    "\n",
    "# 10 Selfp Li 11:55 - 12:01\n",
    "annot_table.append(['SelfpacedHandTapL','StimOffDopa45',3700,4110])\n",
    "\n",
    "# 11 Free 12:01-12:15\n",
    "annot_table.append(['Free','StimOffDopa50',4110,5000])\n",
    "\n",
    "# 12 Rest 12:15 - 12:20\n",
    "annot_table.append(['Rest','StimOffDopa65',5000,5360])\n",
    "\n",
    "# 13 Selfp Li 12:20 - 12:27\n",
    "# 14 Selfp Re 12:27 - 12:30\n",
    "annot_table.append(['SelfpacedHandTapB','StimOffDopa70',5360,5900])\n",
    "\n",
    "# 15 Free 12:30 - 12:37\n",
    "annot_table.append(['Free','StimOffDopa80',5900,6300])\n",
    "\n",
    "# 16 Rest 12:38 - 12:43\n",
    "annot_table.append(['Rest','StimOffDopa85',6300,6600])\n",
    "\n",
    "\n",
    "\n",
    "annot_table = pd.DataFrame(annot_table, columns=[\"task\", \"acquisition\", \"onset\", \"end\"])\n",
    "annot_table['duration'] = annot_table['end'] - annot_table['onset']"
   ]
  },
  {
   "cell_type": "code",
   "execution_count": null,
   "metadata": {},
   "outputs": [],
   "source": [
    "\n",
    "annot = mne.Annotations(onset=annot_table['onset'], duration=annot_table['duration'],\n",
    "            description=annot_table['task']+annot_table['acquisition'])\n",
    "\n",
    "raw2 = raw.copy().set_annotations(annot)\n",
    "raw2.plot()\n",
    "\n",
    "raws = raw2.crop_by_annotations(annotations=annot)\n"
   ]
  },
  {
   "cell_type": "code",
   "execution_count": null,
   "metadata": {},
   "outputs": [],
   "source": [
    "for ra in raws:\n",
    "    print(ra.info)\n",
    "    bids_path = BIDSPath(subject=subject,\n",
    "                        session=\"EcogLfpMedOfMedOnDys01\",\n",
    "                        task=task,\n",
    "                        acquisition=acquisition,\n",
    "                        run=run,\n",
    "                        suffix=suffix,\n",
    "                        datatype=datatype,\n",
    "                        root=r\"C:\\Users\\Jonathan\\Documents\\DATA\\Dykinesia\")\n",
    "    write_raw_bids(ra, bids_path=bids_path)"
   ]
  },
  {
   "cell_type": "code",
   "execution_count": null,
   "metadata": {},
   "outputs": [],
   "source": [
    "ra.info"
   ]
  }
 ],
 "metadata": {
  "interpreter": {
   "hash": "03eaa2ea944cf99881aa5fab8d165e2f17a4015119a862d5d367392066f26a1e"
  },
  "kernelspec": {
   "display_name": "Python 3.9.1 64-bit",
   "language": "python",
   "name": "python3"
  },
  "language_info": {
   "codemirror_mode": {
    "name": "ipython",
    "version": 3
   },
   "file_extension": ".py",
   "mimetype": "text/x-python",
   "name": "python",
   "nbconvert_exporter": "python",
   "pygments_lexer": "ipython3",
   "version": "3.9.1"
  },
  "orig_nbformat": 4
 },
 "nbformat": 4,
 "nbformat_minor": 2
}
