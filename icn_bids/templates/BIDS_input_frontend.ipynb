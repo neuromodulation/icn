{
 "cells": [
  {
   "cell_type": "code",
   "execution_count": 7,
   "metadata": {},
   "outputs": [
    {
     "name": "stdout",
     "output_type": "stream",
     "text": [
      "Nothing done.\n"
     ]
    }
   ],
   "source": [
    " %reset"
   ]
  },
  {
   "cell_type": "markdown",
   "metadata": {},
   "source": [
    "# Dependencies and Imports"
   ]
  },
  {
   "cell_type": "code",
   "execution_count": 1,
   "metadata": {},
   "outputs": [],
   "source": [
    "# Dependencies to install before use\n",
    "# conda install -c conda-forge ipywidgets\n",
    "# conda install -c conda-forge ipyfilechooser\n",
    "\n",
    "# Import packages and functions\n",
    "import os\n",
    "import json\n",
    "import ipywidgets as widgets\n",
    "from IPython.display import display\n",
    "from ipyfilechooser import FileChooser\n"
   ]
  },
  {
   "cell_type": "markdown",
   "metadata": {},
   "source": [
    "# Subject-specific information\n",
    "make sure to choose the kernel located at python.exe. Local kernel could let the output be printed twice (This has apart form the visuals no further consequences)\n",
    "\n",
    "\n",
    "The variables inserted in this first widget will be used for every session-specific JSON initialized in the upcoming second widget. There is no separate JSON-file saved with only these data."
   ]
  },
  {
   "cell_type": "code",
   "execution_count": 5,
   "metadata": {},
   "outputs": [],
   "source": [
    "from BIDS_input_backend import *\n",
    "print(\"Subject-specific information\")\n",
    "display(\n",
    "    bids_subject,\n",
    "    bids_sex,\n",
    "    bids_age,\n",
    "    bids_handedness,\n",
    "    bids_date_of_implantation,\n",
    "    bids_disease_duration,\n",
    "    bids_PD_subtype,\n",
    "    bids_symptom_dominant_side,\n",
    "    bids_LEDD,\n",
    "    bids_DBS_target,\n",
    "    bids_DBS_hemispheres,\n",
    "    bids_DBS_model,\n",
    "    bids_DBS_description,\n",
    "    ECOG_present,\n",
    "    output1,\n",
    ")"
   ]
  },
  {
   "cell_type": "markdown",
   "metadata": {},
   "source": [
    "# Session-specific and recording-specific information\n",
    "\n",
    "\n",
    "Select Poly5-file to convert and add additional session info. After closing one session, json-file will be saved, and a window for a next session will pop up.\n",
    "\n",
    "\n",
    "Files are currently saved in folder where this script is stored."
   ]
  },
  {
   "cell_type": "code",
   "execution_count": 4,
   "metadata": {},
   "outputs": [],
   "source": [
    "display(session_creation, output2)"
   ]
  },
  {
   "cell_type": "code",
   "execution_count": null,
   "metadata": {},
   "outputs": [
    {
     "data": {
      "text/plain": [
       "'\\nsubject \\nsession + hardware + space + UPDRS + electrode localizations\\ntask  + run + channel names + reference + stimsettings + time of acquisition\\n\\n1 json file per recording\\n\\nTo Do: electrode size\\n'"
      ]
     },
     "execution_count": 54,
     "metadata": {},
     "output_type": "execute_result"
    }
   ],
   "source": [
    "\"\"\"\n",
    "subject \n",
    "session + hardware + space + UPDRS + electrode localizations\n",
    "task  + run + channel names + reference + stimsettings + time of acquisition\n",
    "\n",
    "1 json file per recording\n",
    "\n",
    "To Do: electrode size\n",
    "\"\"\""
   ]
  }
 ],
 "metadata": {
  "interpreter": {
   "hash": "03eaa2ea944cf99881aa5fab8d165e2f17a4015119a862d5d367392066f26a1e"
  },
  "kernelspec": {
   "display_name": "Python 3.9.1 64-bit",
   "language": "python",
   "name": "python3"
  },
  "language_info": {
   "codemirror_mode": {
    "name": "ipython",
    "version": 3
   },
   "file_extension": ".py",
   "mimetype": "text/x-python",
   "name": "python",
   "nbconvert_exporter": "python",
   "pygments_lexer": "ipython3",
   "version": "3.9.7"
  }
 },
 "nbformat": 4,
 "nbformat_minor": 2
}
