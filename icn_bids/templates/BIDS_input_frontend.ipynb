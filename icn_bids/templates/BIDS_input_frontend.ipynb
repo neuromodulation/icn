{
 "cells": [
  {
   "cell_type": "code",
   "execution_count": 1,
   "metadata": {},
   "outputs": [],
   "source": [
    " %reset"
   ]
  },
  {
   "cell_type": "markdown",
   "metadata": {},
   "source": [
    "# Dependencies and Imports"
   ]
  },
  {
   "cell_type": "code",
   "execution_count": 2,
   "metadata": {},
   "outputs": [
    {
     "name": "stderr",
     "output_type": "stream",
     "text": [
      "c:\\Users\\Jonathan\\Documents\\CODE\\icn\\icn_bids\\templates\\BIDS_input_backend.py:610: SyntaxWarning: \"is not\" with a literal. Did you mean \"!=\"?\n",
      "  if ch is not '':\n"
     ]
    }
   ],
   "source": [
    "# Dependencies to install before use\n",
    "# For ipyfilechooser and ipywidgets\n",
    "# conda install -c conda-forge ipywidgets\n",
    "# conda install -c conda-forge ipyfilechooser\n",
    "# For TMSiSDK\n",
    "# download from https://gitlab.com/tmsi/tmsi-python-interface/-/tree/main/TMSiSDK\n",
    "# and do pip install https://gitlab.com/tmsi/tmsi-python-interface/-/blob/main/requirements_Windows.txt\n",
    "\n",
    "# Import packages and functions\n",
    "import os\n",
    "import json\n",
    "import ipywidgets as widgets\n",
    "from IPython.display import display\n",
    "from ipyfilechooser import FileChooser\n",
    "from BIDS_input_backend import *\n",
    "from TMSiSDK.file_readers import Poly5Reader\n",
    "import numpy as np\n",
    "import mne"
   ]
  },
  {
   "cell_type": "markdown",
   "metadata": {},
   "source": [
    "# Subject-specific information\n",
    "make sure to choose the kernel located at python.exe. Local kernel could let the output be printed twice (This has apart form the visuals no further consequences)\n",
    "\n",
    "\n",
    "The variables inserted in this first widget will be used for every session-specific JSON initialized in the upcoming second widget. There is no separate JSON-file saved with only these data."
   ]
  },
  {
   "cell_type": "code",
   "execution_count": 3,
   "metadata": {},
   "outputs": [
    {
     "name": "stdout",
     "output_type": "stream",
     "text": [
      "Subject-specific information\n"
     ]
    },
    {
     "data": {
      "application/vnd.jupyter.widget-view+json": {
       "model_id": "62112b3c80c14ea99a21f44b4b0ce5b1",
       "version_major": 2,
       "version_minor": 0
      },
      "text/plain": [
       "BoundedIntText(value=0, description='Subject nr:', layout=Layout(width='800px'), max=150, style=DescriptionSty…"
      ]
     },
     "metadata": {},
     "output_type": "display_data"
    },
    {
     "data": {
      "application/vnd.jupyter.widget-view+json": {
       "model_id": "17945a82e89b46359e1c6e8ca5dee389",
       "version_major": 2,
       "version_minor": 0
      },
      "text/plain": [
       "Dropdown(description='Sex:', layout=Layout(width='800px'), options=('n/a', 'female', 'male', 'other'), style=D…"
      ]
     },
     "metadata": {},
     "output_type": "display_data"
    },
    {
     "data": {
      "application/vnd.jupyter.widget-view+json": {
       "model_id": "a7b8bc45686e4dd1bc7bdded027f4586",
       "version_major": 2,
       "version_minor": 0
      },
      "text/plain": [
       "BoundedIntText(value=0, description='Age:', layout=Layout(width='800px'), max=150, style=DescriptionStyle(desc…"
      ]
     },
     "metadata": {},
     "output_type": "display_data"
    },
    {
     "data": {
      "application/vnd.jupyter.widget-view+json": {
       "model_id": "21dd71a3d90d4123aa3b05edad0581ac",
       "version_major": 2,
       "version_minor": 0
      },
      "text/plain": [
       "RadioButtons(description='handedness', layout=Layout(width='800px'), options=('n/a', 'right', 'left'), style=D…"
      ]
     },
     "metadata": {},
     "output_type": "display_data"
    },
    {
     "data": {
      "application/vnd.jupyter.widget-view+json": {
       "model_id": "e73290c67d1e450c8e7ca79087487d52",
       "version_major": 2,
       "version_minor": 0
      },
      "text/plain": [
       "DatePicker(value=None, description='Date of Implantation', layout=Layout(width='800px'), style=DescriptionStyl…"
      ]
     },
     "metadata": {},
     "output_type": "display_data"
    },
    {
     "data": {
      "application/vnd.jupyter.widget-view+json": {
       "model_id": "ce34fcb659a84fbabeb0ee3815b74e8f",
       "version_major": 2,
       "version_minor": 0
      },
      "text/plain": [
       "BoundedIntText(value=0, description='Disease duration:', layout=Layout(width='800px'), max=150, style=Descript…"
      ]
     },
     "metadata": {},
     "output_type": "display_data"
    },
    {
     "data": {
      "application/vnd.jupyter.widget-view+json": {
       "model_id": "fa8dbc023d2d4190a16a1978058c8ce2",
       "version_major": 2,
       "version_minor": 0
      },
      "text/plain": [
       "RadioButtons(description='PD subtype', layout=Layout(width='800px'), options=('n/a', 'akinetic-rigid', 'tremor…"
      ]
     },
     "metadata": {},
     "output_type": "display_data"
    },
    {
     "data": {
      "application/vnd.jupyter.widget-view+json": {
       "model_id": "3d63cb45b5944ad29a214ba986bd6163",
       "version_major": 2,
       "version_minor": 0
      },
      "text/plain": [
       "RadioButtons(description='symptom dominant side', layout=Layout(width='800px'), options=('n/a', 'right', 'left…"
      ]
     },
     "metadata": {},
     "output_type": "display_data"
    },
    {
     "data": {
      "application/vnd.jupyter.widget-view+json": {
       "model_id": "d6e4a8b3ae1248dd8655de288c7b5f22",
       "version_major": 2,
       "version_minor": 0
      },
      "text/plain": [
       "BoundedIntText(value=0, description='Levodopa equivalent daily dose (LEDD):', layout=Layout(width='800px'), ma…"
      ]
     },
     "metadata": {},
     "output_type": "display_data"
    },
    {
     "data": {
      "application/vnd.jupyter.widget-view+json": {
       "model_id": "c418035b66164656a75624632c0f65ed",
       "version_major": 2,
       "version_minor": 0
      },
      "text/plain": [
       "RadioButtons(description='DBS target', layout=Layout(width='800px'), options=('n/a', 'STN', 'GPI', 'VIM'), sty…"
      ]
     },
     "metadata": {},
     "output_type": "display_data"
    },
    {
     "data": {
      "application/vnd.jupyter.widget-view+json": {
       "model_id": "4c0dcd5b681b41b09981a58dac130d2e",
       "version_major": 2,
       "version_minor": 0
      },
      "text/plain": [
       "RadioButtons(description='DBS hemisphere', layout=Layout(width='800px'), options=('n/a', 'right', 'left', 'bil…"
      ]
     },
     "metadata": {},
     "output_type": "display_data"
    },
    {
     "data": {
      "application/vnd.jupyter.widget-view+json": {
       "model_id": "21d0fd4c72124314a3204d1c6c571020",
       "version_major": 2,
       "version_minor": 0
      },
      "text/plain": [
       "RadioButtons(description='DBS model', layout=Layout(width='800px'), options=('n/a', 'SenSight Short', 'SenSigh…"
      ]
     },
     "metadata": {},
     "output_type": "display_data"
    },
    {
     "data": {
      "application/vnd.jupyter.widget-view+json": {
       "model_id": "c0da068075c849aca7177490478e7b01",
       "version_major": 2,
       "version_minor": 0
      },
      "text/plain": [
       "RadioButtons(description='DBS description', layout=Layout(width='800px'), options=('n/a', 'Medtronic: 8-contac…"
      ]
     },
     "metadata": {},
     "output_type": "display_data"
    },
    {
     "data": {
      "application/vnd.jupyter.widget-view+json": {
       "model_id": "4e93f0c818d9467d8fc51bc5ba5fbd94",
       "version_major": 2,
       "version_minor": 0
      },
      "text/plain": [
       "Button(description='ECOG present?', layout=Layout(width='800px'), style=ButtonStyle())"
      ]
     },
     "metadata": {},
     "output_type": "display_data"
    },
    {
     "data": {
      "application/vnd.jupyter.widget-view+json": {
       "model_id": "7187a15eefd8443196a87e050103f4d1",
       "version_major": 2,
       "version_minor": 0
      },
      "text/plain": [
       "Output()"
      ]
     },
     "metadata": {},
     "output_type": "display_data"
    }
   ],
   "source": [
    "\n",
    "print(\"Subject-specific information\")\n",
    "display(\n",
    "    bids_subject,\n",
    "    bids_sex,\n",
    "    bids_age,\n",
    "    bids_handedness,\n",
    "    bids_date_of_implantation,\n",
    "    bids_disease_duration,\n",
    "    bids_PD_subtype,\n",
    "    bids_symptom_dominant_side,\n",
    "    bids_LEDD,\n",
    "    bids_DBS_target,\n",
    "    bids_DBS_hemispheres,\n",
    "    bids_DBS_model,\n",
    "    bids_DBS_description,\n",
    "    ECOG_present,\n",
    "    output1,\n",
    ")"
   ]
  },
  {
   "cell_type": "markdown",
   "metadata": {},
   "source": [
    "# Session-specific and recording-specific information\n",
    "\n",
    "\n",
    "Select Poly5-file to convert and add additional session info. After closing one session, json-file will be saved, and a window for a next session will pop up.\n",
    "\n",
    "\n",
    "Files are currently saved in folder where this script is stored."
   ]
  },
  {
   "cell_type": "code",
   "execution_count": 4,
   "metadata": {},
   "outputs": [
    {
     "data": {
      "application/vnd.jupyter.widget-view+json": {
       "model_id": "92f0da6055f34a6ca29b1ee404e0dcc7",
       "version_major": 2,
       "version_minor": 0
      },
      "text/plain": [
       "Button(description='Create a session', layout=Layout(width='800px'), style=ButtonStyle())"
      ]
     },
     "metadata": {},
     "output_type": "display_data"
    },
    {
     "data": {
      "application/vnd.jupyter.widget-view+json": {
       "model_id": "290ef6fb159b41b6b2dda3f1d31b7575",
       "version_major": 2,
       "version_minor": 0
      },
      "text/plain": [
       "Output()"
      ]
     },
     "metadata": {},
     "output_type": "display_data"
    }
   ],
   "source": [
    "display(session_creation, output2)"
   ]
  },
  {
   "cell_type": "code",
   "execution_count": 6,
   "metadata": {},
   "outputs": [
    {
     "data": {
      "text/plain": [
       "['LFP_R_1_STN_MT',\n",
       " 'LFP_R_2_STN_MT',\n",
       " 'LFP_R_3_STN_MT',\n",
       " 'LFP_R_4_STN_MT',\n",
       " 'LFP_R_5_STN_MT',\n",
       " 'LFP_R_6_STN_MT',\n",
       " 'LFP_R_7_STN_MT',\n",
       " 'LFP_R_8_STN_MT',\n",
       " 'LFP_L_1_STN_MT',\n",
       " 'LFP_L_2_STN_MT',\n",
       " 'LFP_L_3_STN_MT',\n",
       " 'LFP_L_4_STN_MT',\n",
       " 'LFP_L_5_STN_MT',\n",
       " 'LFP_L_6_STN_MT',\n",
       " 'LFP_L_7_STN_MT',\n",
       " 'LFP_L_8_STN_MT',\n",
       " 'ECOG_L_1_SMC_AT',\n",
       " 'ECOG_L_2_SMC_AT',\n",
       " 'ECOG_L_3_SMC_AT',\n",
       " 'ECOG_L_4_SMC_AT',\n",
       " 'ECOG_L_5_SMC_AT',\n",
       " 'ECOG_L_6_SMC_AT',\n",
       " 'EEG_CZ_TM',\n",
       " 'EEG_CZ_TM',\n",
       " 'EMG_R_BR_TM',\n",
       " 'EMG_L_BR_TM',\n",
       " 'ECG',\n",
       " 'ACC_R_X_D2_TM',\n",
       " 'ACC_R_Y_D2_TM',\n",
       " 'ACC_R_Z_D2_TM',\n",
       " 'ACC_L_X_D2_TM',\n",
       " 'ACC_L_Y_D2_TM',\n",
       " 'ACC_L_Z_D2_TM',\n",
       " 'ANALOG_R_ROTA_CH',\n",
       " '',\n",
       " '',\n",
       " '',\n",
       " '',\n",
       " '']"
      ]
     },
     "execution_count": 6,
     "metadata": {},
     "output_type": "execute_result"
    }
   ],
   "source": [
    "\"\"\"\n",
    "subject \n",
    "session + hardware + space + UPDRS + electrode localizations\n",
    "task  + run + channel names + reference + stimsettings + time of acquisition\n",
    "\n",
    "1 json file per recording\n",
    "\n",
    "To Do: electrode size\n",
    "\"\"\""
   ]
  },
  {
   "cell_type": "code",
   "execution_count": 6,
   "metadata": {},
   "outputs": [],
   "source": [
    "    metadict = {}\n",
    "    metadict['inputdata_location'] = bids_filechooser[-1].selected_path + os.sep + bids_filechooser[-1].selected_filename\n",
    "    metadict['inputdata_fname'] = bids_filechooser[-1].selected_filename\n",
    "    metadict['entities'] = {}\n",
    "    metadict['entities']['subject'] = str(bids_subject.value).zfill(3)\n",
    "    metadict['entities']['session'] = bids_session[-1].value\n",
    "    metadict['entities']['task'] = task_options[bids_task[-1].value][0]\n",
    "    metadict['entities']['acquisition'] = bids_acquisition[-1].value\n",
    "    metadict['entities']['run'] = bids_run[-1].value\n",
    "    metadict['entities']['space'] = bids_space[-1].value\n",
    "    metadict['participants'] = {}\n",
    "    metadict['participants']['participants_id'] = str()\n",
    "    metadict['participants']['sex'] = bids_sex.value\n",
    "    metadict['participants']['handedness'] = bids_handedness.value\n",
    "    metadict['participants']['age'] = bids_age.value\n",
    "    try:\n",
    "        bids_date_of_implantation_str = bids_date_of_implantation.value\n",
    "        metadict['participants']['date_of_implantation'] = bids_date_of_implantation_str.strftime(\"%Y-%m-%dT00:00:00\")\n",
    "    except:\n",
    "        metadict['participants']['date_of_implantation'] = \"unknown\"\n",
    "    finally:\n",
    "        pass\n",
    "    metadict['participants']['UPDRS_III_preop_OFF'] = str()\n",
    "    metadict['participants']['UPDRS_III_preop_ON'] = str()\n",
    "    metadict['participants']['disease_duration'] = bids_disease_duration.value\n",
    "    metadict['participants']['PD_subtype'] = bids_PD_subtype.value\n",
    "    metadict['participants']['symptom_dominant_side'] = bids_symptom_dominant_side.value\n",
    "    metadict['participants']['LEDD'] = bids_LEDD.value\n",
    "    metadict['participants']['DBS_target'] = bids_DBS_target.value\n",
    "    metadict['participants']['DBS_hemisphere'] = bids_DBS_hemispheres.value\n",
    "    metadict['participants']['DBS_manufacturer'] = str()\n",
    "    metadict['participants']['DBS_model'] = bids_DBS_model.value\n",
    "    metadict['participants']['DBS_directional'] = str()\n",
    "    metadict['participants']['DBS_contacts'] = str()\n",
    "    metadict['participants']['DBS_description'] = bids_DBS_description.value\n",
    "    metadict['participants']['ECOG_target'] = bids_ECOG_target.value\n",
    "    metadict['participants']['ECOG_hemisphere'] = bids_ECOG_hemisphere.value\n",
    "    metadict['participants']['ECOG_manufacturer'] = str()\n",
    "    metadict['participants']['ECOG_model'] = bids_ECOG_model.value\n",
    "    metadict['participants']['ECOG_location'] = str()\n",
    "    metadict['participants']['ECOG_material'] = str()\n",
    "    metadict['participants']['ECOG_contacts'] = str()\n",
    "    metadict['participants']['ECOG_description'] = bids_ECOG_description.value\n",
    "    metadict['scans_tsv'] = {}\n",
    "    metadict['scans_tsv']['filename'] = str()\n",
    "    metadict['scans_tsv']['acq_time'] = bids_time_of_acquisition[-1].value\n",
    "    metadict['scans_tsv']['medication_state'] = str()\n",
    "    metadict['scans_tsv']['UPDRS_III'] = bids_UPDRS_session[-1].value\n",
    "    metadict['scans_json'] = {}\n",
    "    metadict['scans_json']['acq_time'] = {}\n",
    "    metadict['scans_json']['medication_state'] = {}\n",
    "    metadict['channels_tsv']= {}\n",
    "    metadict['channels_tsv']['name'] = bids_channel_names_list\n",
    "    metadict['channels_tsv']['type'] = []\n",
    "    metadict['channels_tsv']['units'] = []\n",
    "    metadict['channels_tsv']['low_cutoff'] = []\n",
    "    metadict['channels_tsv']['high_cutoff'] = []\n",
    "    metadict['channels_tsv']['reference'] = []\n",
    "    metadict['channels_tsv']['group'] = []\n",
    "    metadict['channels_tsv']['sampling_frequency'] = []\n",
    "    metadict['channels_tsv']['notch'] = []\n",
    "    metadict['channels_tsv']['status'] = []\n",
    "    metadict['channels_tsv']['status_description'] = []\n",
    "    for widget in bids_status_description_widgets:\n",
    "        if widget.value == 'n/a':\n",
    "            metadict['channels_tsv']['status'].append('good')\n",
    "        else:\n",
    "            metadict['channels_tsv']['status'].append('bad')\n",
    "        metadict['channels_tsv']['status_description'].append(widget.value)\n",
    "    metadict['electrodes_tsv'] = {}\n",
    "    metadict['electrodes_tsv']['name'] = []\n",
    "    metadict['electrodes_tsv']['x'] = []\n",
    "    metadict['electrodes_tsv']['y'] = []\n",
    "    metadict['electrodes_tsv']['z'] = []\n",
    "    metadict['electrodes_tsv']['size'] = []\n",
    "    metadict['electrodes_tsv']['material'] = []\n",
    "    metadict['electrodes_tsv']['manufacturer'] = []\n",
    "    metadict['electrodes_tsv']['group'] = []\n",
    "    metadict['electrodes_tsv']['hemisphere'] = []\n",
    "    metadict['electrodes_tsv']['type'] = []\n",
    "    metadict['electrodes_tsv']['impedance'] = []\n",
    "    metadict['electrodes_tsv']['dimension'] = []\n",
    "    metadict['coord_json'] = {}\n",
    "    metadict['coord_json']['IntendedFor'] = str()\n",
    "    metadict['coord_json']['iEEGCoordinateSystem'] = str()\n",
    "    metadict['coord_json']['iEEGCoordinateUnits'] = str()\n",
    "    metadict['coord_json']['iEEGCoordinateSystemDescription'] = str()\n",
    "    metadict['coord_json']['iEEGCoordinateProcessingDescription'] = str()\n",
    "    metadict['coord_json']['iEEGCoordinateProcessingReference'] = str()\n",
    "    metadict['ieeg'] = {}\n",
    "    metadict['ieeg']['DeviceSerialNumber'] = str()\n",
    "    metadict['ieeg']['ECGChannelCount'] = int()\n",
    "    metadict['ieeg']['ECOGChannelCount'] = int()\n",
    "    metadict['ieeg']['EEGChannelCount'] = int()\n",
    "    metadict['ieeg']['EMGChannelCount'] = int()\n",
    "    metadict['ieeg']['EOGChannelCount'] = str()\n",
    "    metadict['ieeg']['ElectricalStimulation'] = bool()\n",
    "    metadict['ieeg']['HardwareFilters'] = str()\n",
    "    metadict['ieeg']['InstitutionAddress'] = str()\n",
    "    metadict['ieeg']['InstitutionName'] = str()\n",
    "    metadict['ieeg']['Instructions'] = bids_task_instructions[-1].value\n",
    "    metadict['ieeg']['Manufacturer'] = str()\n",
    "    metadict['ieeg']['ManufacturersModelName'] = str()\n",
    "    metadict['ieeg']['MiscChannelCount'] = int()\n",
    "    metadict['ieeg']['PowerLineFrequency'] = int()\n",
    "    metadict['ieeg']['RecordingDuration'] = str()\n",
    "    metadict['ieeg']['RecordingType'] = str()\n",
    "    metadict['ieeg']['SEEGChannelCount'] = int()\n",
    "    metadict['ieeg']['SamplingFrequency'] = float()\n",
    "    metadict['ieeg']['SoftwareFilters'] = str()\n",
    "    metadict['ieeg']['SoftwareVersions'] = str()\n",
    "    metadict['ieeg']['TaskDescription'] = str()\n",
    "    metadict['ieeg']['TaskName'] = str()\n",
    "    metadict['ieeg']['TriggerChannelCount'] = int()\n",
    "    metadict['ieeg']['iEEGElectrodeGroups'] = str()\n",
    "    metadict['ieeg']['iEEGGround'] = str()\n",
    "    metadict['ieeg']['iEEGPlacementScheme'] = str()\n",
    "    metadict['ieeg']['iEEGReference'] = bids_reference[-1].value\n",
    "    metadict['poly5'] = {}\n",
    "    for widget in bids_channel_names_widgets:\n",
    "        metadict['poly5'][widget.description] = widget.value\n",
    "\n",
    "\n",
    "\n",
    "\n",
    "    currentfile = bids_filechooser[-1].selected_filename\n",
    "    if not currentfile:\n",
    "        with output2:\n",
    "            print(currentfile)\n",
    "            print(\"The information could not be saved, please select file below\")\n",
    "\n",
    "    else:\n",
    "        currentfile += \".json\"\n",
    "        with open(currentfile, \"w\") as outfile:\n",
    "            json.dump(metadict, outfile, indent=4)\n",
    "\n",
    "        with output2:\n",
    "            print(\"saving to: %.json\", bids_filechooser[-1].selected_filename)\n",
    "            print(\"information is saved and cannot be changed\")"
   ]
  },
  {
   "cell_type": "code",
   "execution_count": null,
   "metadata": {},
   "outputs": [],
   "source": [
    "#from matplotlib import pyplot as plt\n",
    "file = r\"C:\\Users\\Jonathan\\Documents\\DATA\\PROJECT_BERLIN_Conversion\\sourcedata\\sub-010\\ses-EcogLfpMedOff01\\532LO56_MedOff1_Rest_StimOff_1 - 20220207T113556\\532LO56_MedOff1_Rest_StimOff_1-20220207T113556.DATA.Poly5\"\n",
    "data = Poly5Reader(file)\n",
    "\n",
    "dataraw = np.array(data.samples)\n",
    "\n",
    "info = mne.create_info(ch_names=[ch._Channel__name for ch in data.channels], sfreq=data.sample_rate, ch_types=data.num_channels*['misc'])\n",
    "\n",
    "raw = mne.io.RawArray(data.samples, info)\n",
    "\n",
    "#matplotlib qt5Agg\n",
    "#matplotlib.use('Qt5Agg')\n",
    "#%matplotlib qt\n",
    "raw.plot(show=True, block=True, n_channels=raw.info['nchan'])"
   ]
  },
  {
   "cell_type": "code",
   "execution_count": null,
   "metadata": {},
   "outputs": [],
   "source": [
    "# data = Poly5Reader(bids_filechooser[-1].selected_path + os.sep + bids_filechooser[-1].selected_filename)\n",
    "\n",
    "# info = mne.create_info(ch_names=[ch._Channel__name for ch in data.channels], sfreq=data.sample_rate, ch_types=data.num_channels * ['misc'])\n",
    "\n",
    "# raw = mne.io.RawArray(data.samples, info)\n",
    "\n",
    "bids_channel_names = []\n",
    "\n",
    "for ch in raw.ch_names:\n",
    "    if ch.startswith('LFP'):\n",
    "        preset = 'LFP_' + ch[3] + '_' + ch[4] + '_' + ch[5:8] + '_'\n",
    "        if ch.endswith('B'):\n",
    "            preset+='BS'\n",
    "        elif ch.endswith('M'):\n",
    "            preset+='MT'\n",
    "    elif ch.startswith('ECX'):\n",
    "        preset = 'ECOG_' + ch[3] + '_' + ch[4] + '_' + ch[5:8] + '_'\n",
    "        if ch.endswith('B'):\n",
    "            preset+='BS'\n",
    "        elif ch.endswith('M'):\n",
    "            preset+='MT'\n",
    "        elif ch.endswith('A'):\n",
    "            preset+='AT'\n",
    "    elif ch.startswith('EEG'):\n",
    "        preset = 'EEG_'\n",
    "        if ch.upper().find('CZ'):\n",
    "             preset += 'CZ_'\n",
    "        elif ch.upper().find('FZ'):\n",
    "            preset += 'FZ_'\n",
    "        if ch.upper().find('TM'):\n",
    "            preset += 'TM'\n",
    "    elif ch.startswith('BIP 01'):\n",
    "        preset = 'EMG_R_BR_TM'\n",
    "    elif ch.startswith('BIP 02'):\n",
    "        preset = 'EMG_L_BR_TM'\n",
    "    elif ch.startswith('BIP 03'):\n",
    "        preset = 'ECG'\n",
    "    elif ch.startswith('X-0'):\n",
    "        preset = 'ACC_R_X_D2_TM'\n",
    "    elif ch.startswith('Y-0'):\n",
    "        preset = 'ACC_R_Y_D2_TM'\n",
    "    elif ch.startswith('Z-0'):\n",
    "        preset = 'ACC_R_Z_D2_TM'\n",
    "    elif ch.startswith('X-1'):\n",
    "        preset = 'ACC_L_X_D2_TM'\n",
    "    elif ch.startswith('Y-1'):\n",
    "        preset = 'ACC_L_Y_D2_TM'\n",
    "    elif ch.startswith('Z-1'):\n",
    "        preset = 'ACC_L_Z_D2_TM'\n",
    "    elif ch.startswith('ISO aux'):\n",
    "        preset = 'ANALOG_R_ROTA_CH'\n",
    "    else:\n",
    "        preset = None\n",
    "\n",
    "\n",
    "    channel_widget = widgets.Text(\n",
    "        value=preset,\n",
    "        placeholder='***deleted***',\n",
    "        description=ch,\n",
    "        style=style,\n",
    "        layout=layout\n",
    "    )\n",
    "    bids_channel_names.append(channel_widget)\n",
    "\n",
    "\n",
    "raw.plot(show=True, block=True, n_channels=raw.info['nchan'], title=bids_filechooser[-1].selected_filename)\n",
    "for widget in bids_channel_names:\n",
    "    display(widget)\n",
    "display(save_to_json)\n",
    "\n",
    "bids_channel_names[-1].value"
   ]
  },
  {
   "cell_type": "code",
   "execution_count": null,
   "metadata": {},
   "outputs": [],
   "source": [
    "bids_channel_names[-1].value\n",
    "bids_channel_names[-1].description"
   ]
  },
  {
   "cell_type": "code",
   "execution_count": null,
   "metadata": {},
   "outputs": [],
   "source": [
    "raw.ch_names"
   ]
  },
  {
   "cell_type": "code",
   "execution_count": null,
   "metadata": {},
   "outputs": [],
   "source": [
    "#raw.plot(show_options=True, duration=10, title=None, scalings=\"auto\", decim='auto')\n",
    "import mne\n",
    "raw.plot( scalings=\"auto\", decim='auto')"
   ]
  },
  {
   "cell_type": "code",
   "execution_count": null,
   "metadata": {},
   "outputs": [],
   "source": [
    "inputdata_location = str()\n",
    "inputdata_fname = str()\n",
    "entities = {}\n",
    "entities['task'] = str()\n",
    "bidsdict = {}\n",
    "bidsdict['entities'] = {}\n",
    "bidsdict['entities']['task'] = 'task'"
   ]
  },
  {
   "cell_type": "code",
   "execution_count": null,
   "metadata": {},
   "outputs": [],
   "source": [
    "f=bids_filechooser[-1]\n",
    "print(os.sep)"
   ]
  }
 ],
 "metadata": {
  "interpreter": {
   "hash": "03eaa2ea944cf99881aa5fab8d165e2f17a4015119a862d5d367392066f26a1e"
  },
  "kernelspec": {
   "display_name": "Python 3.9.1 64-bit",
   "language": "python",
   "name": "python3"
  },
  "language_info": {
   "codemirror_mode": {
    "name": "ipython",
    "version": 3
   },
   "file_extension": ".py",
   "mimetype": "text/x-python",
   "name": "python",
   "nbconvert_exporter": "python",
   "pygments_lexer": "ipython3",
   "version": "3.9.1"
  }
 },
 "nbformat": 4,
 "nbformat_minor": 2
}
