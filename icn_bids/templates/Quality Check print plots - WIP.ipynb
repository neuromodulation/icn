{
 "cells": [
  {
   "cell_type": "code",
   "execution_count": 1,
   "metadata": {},
   "outputs": [],
   "source": [
    "import mne\n",
    "from mne_bids import BIDSPath, read_raw_bids, print_dir_tree, make_report\n"
   ]
  },
  {
   "cell_type": "code",
   "execution_count": 32,
   "metadata": {},
   "outputs": [],
   "source": [
    "bids_root = r\"C:\\Users\\Jonathan\\Charité - Universitätsmedizin Berlin\\Interventional Cognitive Neuromodulation - Data\\BIDS_Berlin_ECOG_LFP\\rawdata\"\n",
    "\n",
    "subject = '012'\n",
    "datatype = 'ieeg'\n",
    "session = 'EcogLfpMedOff01'\n",
    "task = 'Rest'\n",
    "acquisition = 'StimOff'\n",
    "run = '1'\n",
    "suffix = 'ieeg'\n"
   ]
  },
  {
   "cell_type": "code",
   "execution_count": 33,
   "metadata": {},
   "outputs": [
    {
     "name": "stdout",
     "output_type": "stream",
     "text": [
      "C:/Users/Jonathan/Charité - Universitätsmedizin Berlin/Interventional Cognitive Neuromodulation - Data/BIDS_Berlin_ECOG_LFP/rawdata/sub-012/ses-EcogLfpMedOff01/ieeg/sub-012_ses-EcogLfpMedOff01_task-Rest_acq-StimOff_run-1_ieeg.vhdr\n"
     ]
    }
   ],
   "source": [
    "bids_path = BIDSPath(subject=subject, session=session, task=task, acquisition=acquisition, run=run,\n",
    "                     suffix=suffix, datatype=datatype, root=bids_root)\n",
    "\n",
    "print(bids_path)"
   ]
  },
  {
   "cell_type": "code",
   "execution_count": 34,
   "metadata": {},
   "outputs": [
    {
     "name": "stderr",
     "output_type": "stream",
     "text": [
      "C:\\Users\\Jonathan\\AppData\\Local\\Temp/ipykernel_8412/3433710750.py:1: RuntimeWarning: Did not find any events.tsv associated with sub-012_ses-EcogLfpMedOff01_task-Rest_acq-StimOff_run-1.\n",
      "\n",
      "The search_str was \"C:\\Users\\Jonathan\\Charité - Universitätsmedizin Berlin\\Interventional Cognitive Neuromodulation - Data\\BIDS_Berlin_ECOG_LFP\\rawdata\\sub-012\\**\\ieeg\\sub-012_ses-EcogLfpMedOff01*events.tsv\"\n",
      "  raw = read_raw_bids(bids_path=bids_path, verbose=False)\n",
      "C:\\Users\\Jonathan\\AppData\\Local\\Temp/ipykernel_8412/3433710750.py:1: RuntimeWarning: MNI152NLin2009bAsym is not an MNE-Python coordinate frame for IEEG data and so will be set to 'unknown'\n",
      "  raw = read_raw_bids(bids_path=bids_path, verbose=False)\n",
      "C:\\Users\\Jonathan\\AppData\\Local\\Temp/ipykernel_8412/3433710750.py:1: RuntimeWarning: DigMontage is only a subset of info. There are 2 channel positions not present in the DigMontage. The required channels are:\n",
      "\n",
      "['EEG_CZ_TM', 'EEG_FZ_TM'].\n",
      "\n",
      "Consider using inst.set_channel_types if these are not EEG channels, or use the on_missing parameter if the channel positions are allowed to be unknown in your analyses.\n",
      "  raw = read_raw_bids(bids_path=bids_path, verbose=False)\n"
     ]
    }
   ],
   "source": [
    "raw = read_raw_bids(bids_path=bids_path, verbose=False)"
   ]
  },
  {
   "cell_type": "code",
   "execution_count": 35,
   "metadata": {},
   "outputs": [
    {
     "name": "stdout",
     "output_type": "stream",
     "text": [
      "Opening raw-browser...\n",
      "Free RAM space could not be determined because\"psutil\" is not installed. Setting precompute to False.\n"
     ]
    },
    {
     "data": {
      "text/plain": [
       "<mne_qt_browser._pg_figure.MNEQtBrowser at 0x1718fc65940>"
      ]
     },
     "execution_count": 35,
     "metadata": {},
     "output_type": "execute_result"
    },
    {
     "name": "stdout",
     "output_type": "stream",
     "text": [
      "Closing raw-browser...\n",
      "Channels marked as bad:\n",
      "['LFP_L_01_STN_MT', 'ECOG_R_06_SMC_AT']\n"
     ]
    }
   ],
   "source": [
    "raw.plot()"
   ]
  },
  {
   "cell_type": "code",
   "execution_count": 36,
   "metadata": {},
   "outputs": [
    {
     "name": "stdout",
     "output_type": "stream",
     "text": [
      "C:/Users/Jonathan/Charité - Universitätsmedizin Berlin/Interventional Cognitive Neuromodulation - Data/BIDS_Berlin_ECOG_LFP/rawdata/sub-012/ses-EcogLfpMedOff01/ieeg/sub-012_ses-EcogLfpMedOff01_task-SelfpacedRotationL_acq-StimOff_run-1_ieeg.vhdr\n"
     ]
    },
    {
     "name": "stderr",
     "output_type": "stream",
     "text": [
      "C:\\Users\\Jonathan\\AppData\\Local\\Temp/ipykernel_8412/2177877756.py:15: RuntimeWarning: Did not find any events.tsv associated with sub-012_ses-EcogLfpMedOff01_task-SelfpacedRotationL_acq-StimOff_run-1.\n",
      "\n",
      "The search_str was \"C:\\Users\\Jonathan\\Charité - Universitätsmedizin Berlin\\Interventional Cognitive Neuromodulation - Data\\BIDS_Berlin_ECOG_LFP\\rawdata\\sub-012\\**\\ieeg\\sub-012_ses-EcogLfpMedOff01*events.tsv\"\n",
      "  raw = read_raw_bids(bids_path=bids_path, verbose=False)\n",
      "C:\\Users\\Jonathan\\AppData\\Local\\Temp/ipykernel_8412/2177877756.py:15: RuntimeWarning: MNI152NLin2009bAsym is not an MNE-Python coordinate frame for IEEG data and so will be set to 'unknown'\n",
      "  raw = read_raw_bids(bids_path=bids_path, verbose=False)\n",
      "C:\\Users\\Jonathan\\AppData\\Local\\Temp/ipykernel_8412/2177877756.py:15: RuntimeWarning: DigMontage is only a subset of info. There are 2 channel positions not present in the DigMontage. The required channels are:\n",
      "\n",
      "['EEG_CZ_TM', 'EEG_FZ_TM'].\n",
      "\n",
      "Consider using inst.set_channel_types if these are not EEG channels, or use the on_missing parameter if the channel positions are allowed to be unknown in your analyses.\n",
      "  raw = read_raw_bids(bids_path=bids_path, verbose=False)\n"
     ]
    },
    {
     "name": "stdout",
     "output_type": "stream",
     "text": [
      "Opening raw-browser...\n",
      "Free RAM space could not be determined because\"psutil\" is not installed. Setting precompute to False.\n"
     ]
    },
    {
     "data": {
      "text/plain": [
       "<mne_qt_browser._pg_figure.MNEQtBrowser at 0x1718fa25f70>"
      ]
     },
     "execution_count": 36,
     "metadata": {},
     "output_type": "execute_result"
    },
    {
     "name": "stdout",
     "output_type": "stream",
     "text": [
      "Closing raw-browser...\n",
      "Channels marked as bad:\n",
      "['ECOG_R_06_SMC_AT', 'ACC_L_X_D2_TM']\n"
     ]
    }
   ],
   "source": [
    "bids_root = r\"C:\\Users\\Jonathan\\Charité - Universitätsmedizin Berlin\\Interventional Cognitive Neuromodulation - Data\\BIDS_Berlin_ECOG_LFP\\rawdata\"\n",
    "\n",
    "subject = '012'\n",
    "datatype = 'ieeg'\n",
    "session = 'EcogLfpMedOff01'\n",
    "task = 'SelfpacedRotationL'\n",
    "acquisition = 'StimOff'\n",
    "run = '1'\n",
    "suffix = 'ieeg'\n",
    "\n",
    "bids_path = BIDSPath(subject=subject, session=session, task=task, acquisition=acquisition, run=run,\n",
    "                     suffix=suffix, datatype=datatype, root=bids_root)\n",
    "\n",
    "print(bids_path)\n",
    "raw = read_raw_bids(bids_path=bids_path, verbose=False)\n",
    "raw.plot()"
   ]
  },
  {
   "cell_type": "code",
   "execution_count": 40,
   "metadata": {},
   "outputs": [
    {
     "name": "stdout",
     "output_type": "stream",
     "text": [
      "C:/Users/Jonathan/Charité - Universitätsmedizin Berlin/Interventional Cognitive Neuromodulation - Data/BIDS_Berlin_ECOG_LFP/rawdata/sub-012/ses-EcogLfpMedOff02/ieeg/sub-012_ses-EcogLfpMedOff02_task-Rest_acq-StimOff_run-1_ieeg.vhdr\n"
     ]
    },
    {
     "name": "stderr",
     "output_type": "stream",
     "text": [
      "C:\\Users\\Jonathan\\AppData\\Local\\Temp/ipykernel_8412/1739375453.py:15: RuntimeWarning: Did not find any events.tsv associated with sub-012_ses-EcogLfpMedOff02_task-Rest_acq-StimOff_run-1.\n",
      "\n",
      "The search_str was \"C:\\Users\\Jonathan\\Charité - Universitätsmedizin Berlin\\Interventional Cognitive Neuromodulation - Data\\BIDS_Berlin_ECOG_LFP\\rawdata\\sub-012\\**\\ieeg\\sub-012_ses-EcogLfpMedOff02*events.tsv\"\n",
      "  raw = read_raw_bids(bids_path=bids_path, verbose=False)\n",
      "C:\\Users\\Jonathan\\AppData\\Local\\Temp/ipykernel_8412/1739375453.py:15: RuntimeWarning: MNI152NLin2009bAsym is not an MNE-Python coordinate frame for IEEG data and so will be set to 'unknown'\n",
      "  raw = read_raw_bids(bids_path=bids_path, verbose=False)\n",
      "C:\\Users\\Jonathan\\AppData\\Local\\Temp/ipykernel_8412/1739375453.py:15: RuntimeWarning: DigMontage is only a subset of info. There are 2 channel positions not present in the DigMontage. The required channels are:\n",
      "\n",
      "['EEG_CZ_TM', 'EEG_FZ_TM'].\n",
      "\n",
      "Consider using inst.set_channel_types if these are not EEG channels, or use the on_missing parameter if the channel positions are allowed to be unknown in your analyses.\n",
      "  raw = read_raw_bids(bids_path=bids_path, verbose=False)\n"
     ]
    },
    {
     "name": "stdout",
     "output_type": "stream",
     "text": [
      "Opening raw-browser...\n",
      "Free RAM space could not be determined because\"psutil\" is not installed. Setting precompute to False.\n"
     ]
    },
    {
     "data": {
      "text/plain": [
       "<mne_qt_browser._pg_figure.MNEQtBrowser at 0x171906991f0>"
      ]
     },
     "execution_count": 40,
     "metadata": {},
     "output_type": "execute_result"
    }
   ],
   "source": [
    "bids_root = r\"C:\\Users\\Jonathan\\Charité - Universitätsmedizin Berlin\\Interventional Cognitive Neuromodulation - Data\\BIDS_Berlin_ECOG_LFP\\rawdata\"\n",
    "\n",
    "subject = '012'\n",
    "datatype = 'ieeg'\n",
    "session = 'EcogLfpMedOff02'\n",
    "task = 'Rest'\n",
    "acquisition = 'StimOff'\n",
    "run = '1'\n",
    "suffix = 'ieeg'\n",
    "\n",
    "bids_path = BIDSPath(subject=subject, session=session, task=task, acquisition=acquisition, run=run,\n",
    "                     suffix=suffix, datatype=datatype, root=bids_root)\n",
    "\n",
    "print(bids_path)\n",
    "raw = read_raw_bids(bids_path=bids_path, verbose=False)\n",
    "raw.plot()"
   ]
  },
  {
   "cell_type": "code",
   "execution_count": 2,
   "metadata": {},
   "outputs": [
    {
     "name": "stdout",
     "output_type": "stream",
     "text": [
      "C:/Users/Jonathan/Charité - Universitätsmedizin Berlin/Interventional Cognitive Neuromodulation - Data/BIDS_Berlin_ECOG_LFP/rawdata/sub-009/ses-LfpMedOff04/ieeg/sub-009_ses-LfpMedOff04_task-Rest_acq-StimOff_run-1_ieeg.vhdr\n"
     ]
    },
    {
     "name": "stderr",
     "output_type": "stream",
     "text": [
      "C:\\Users\\Jonathan\\AppData\\Local\\Temp/ipykernel_10720/2683520451.py:15: RuntimeWarning: Did not find any events.tsv associated with sub-009_ses-LfpMedOff04_task-Rest_acq-StimOff_run-1.\n",
      "\n",
      "The search_str was \"C:\\Users\\Jonathan\\Charité - Universitätsmedizin Berlin\\Interventional Cognitive Neuromodulation - Data\\BIDS_Berlin_ECOG_LFP\\rawdata\\sub-009\\**\\ieeg\\sub-009_ses-LfpMedOff04*events.tsv\"\n",
      "  raw = read_raw_bids(bids_path=bids_path, verbose=False)\n",
      "C:\\Users\\Jonathan\\AppData\\Local\\Temp/ipykernel_10720/2683520451.py:15: RuntimeWarning: MNI152NLin2009bAsym is not an MNE-Python coordinate frame for IEEG data and so will be set to 'unknown'\n",
      "  raw = read_raw_bids(bids_path=bids_path, verbose=False)\n",
      "C:\\Users\\Jonathan\\AppData\\Local\\Temp/ipykernel_10720/2683520451.py:15: RuntimeWarning: DigMontage is only a subset of info. There are 2 channel positions not present in the DigMontage. The required channels are:\n",
      "\n",
      "['EEG_CZ_TM', 'EEG_FZ_TM'].\n",
      "\n",
      "Consider using inst.set_channel_types if these are not EEG channels, or use the on_missing parameter if the channel positions are allowed to be unknown in your analyses.\n",
      "  raw = read_raw_bids(bids_path=bids_path, verbose=False)\n"
     ]
    },
    {
     "name": "stdout",
     "output_type": "stream",
     "text": [
      "Using qt as 2D backend.\n",
      "Opening raw-browser...\n",
      "Free RAM space could not be determined because\"psutil\" is not installed. Setting precompute to False.\n"
     ]
    },
    {
     "data": {
      "text/plain": [
       "<mne_qt_browser._pg_figure.MNEQtBrowser at 0x190930ea940>"
      ]
     },
     "execution_count": 2,
     "metadata": {},
     "output_type": "execute_result"
    },
    {
     "name": "stdout",
     "output_type": "stream",
     "text": [
      "Closing raw-browser...\n",
      "Channels marked as bad:\n",
      "['LFP_R_1_STN_MT', 'LFP_R_5_STN_MT']\n"
     ]
    }
   ],
   "source": [
    "bids_root = r\"C:\\Users\\Jonathan\\Charité - Universitätsmedizin Berlin\\Interventional Cognitive Neuromodulation - Data\\BIDS_Berlin_ECOG_LFP\\rawdata\"\n",
    "\n",
    "subject = '009'\n",
    "datatype = 'ieeg'\n",
    "session = 'LfpMedOff04'\n",
    "task = 'Rest'\n",
    "acquisition = 'StimOff'\n",
    "run = '1'\n",
    "suffix = 'ieeg'\n",
    "\n",
    "bids_path = BIDSPath(subject=subject, session=session, task=task, acquisition=acquisition, run=run,\n",
    "                     suffix=suffix, datatype=datatype, root=bids_root)\n",
    "\n",
    "print(bids_path)\n",
    "raw = read_raw_bids(bids_path=bids_path, verbose=False)\n",
    "raw.plot()"
   ]
  }
 ],
 "metadata": {
  "interpreter": {
   "hash": "03eaa2ea944cf99881aa5fab8d165e2f17a4015119a862d5d367392066f26a1e"
  },
  "kernelspec": {
   "display_name": "Python 3.9.1 64-bit",
   "language": "python",
   "name": "python3"
  },
  "language_info": {
   "codemirror_mode": {
    "name": "ipython",
    "version": 3
   },
   "file_extension": ".py",
   "mimetype": "text/x-python",
   "name": "python",
   "nbconvert_exporter": "python",
   "pygments_lexer": "ipython3",
   "version": "3.9.1"
  },
  "orig_nbformat": 4
 },
 "nbformat": 4,
 "nbformat_minor": 2
}
