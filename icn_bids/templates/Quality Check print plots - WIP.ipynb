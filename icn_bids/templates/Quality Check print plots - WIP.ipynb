{
 "cells": [
  {
   "cell_type": "code",
   "execution_count": 15,
   "metadata": {},
   "outputs": [],
   "source": [
    "import mne\n",
    "from mne_bids import BIDSPath, read_raw_bids, print_dir_tree, make_report\n"
   ]
  },
  {
   "cell_type": "code",
   "execution_count": 21,
   "metadata": {},
   "outputs": [],
   "source": [
    "bids_root = r\"C:\\Users\\Jonathan\\Charité - Universitätsmedizin Berlin\\Interventional Cognitive Neuromodulation - Data\\BIDS_01_Berlin_Neurophys\\rawdata\"\n",
    "\n",
    "subject = 'EL012'\n",
    "datatype = 'ieeg'\n",
    "session = 'EcogLfpMedOff01'\n",
    "task = 'Rest'\n",
    "acquisition = 'StimOff'\n",
    "run = '1'\n",
    "suffix = 'ieeg'\n"
   ]
  },
  {
   "cell_type": "code",
   "execution_count": 22,
   "metadata": {},
   "outputs": [
    {
     "name": "stdout",
     "output_type": "stream",
     "text": [
      "C:/Users/Jonathan/Charité - Universitätsmedizin Berlin/Interventional Cognitive Neuromodulation - Data/BIDS_01_Berlin_Neurophys/rawdata/sub-EL012/ses-EcogLfpMedOff01/ieeg/sub-EL012_ses-EcogLfpMedOff01_task-Rest_acq-StimOff_run-1_ieeg.vhdr\n"
     ]
    }
   ],
   "source": [
    "bids_path = BIDSPath(subject=subject, session=session, task=task, acquisition=acquisition, run=run,\n",
    "                     suffix=suffix, datatype=datatype, root=bids_root)\n",
    "\n",
    "print(bids_path)"
   ]
  },
  {
   "cell_type": "code",
   "execution_count": 23,
   "metadata": {},
   "outputs": [
    {
     "name": "stderr",
     "output_type": "stream",
     "text": [
      "C:\\Users\\Jonathan\\AppData\\Local\\Temp/ipykernel_19444/3433710750.py:1: RuntimeWarning: Did not find any events.tsv associated with sub-EL012_ses-EcogLfpMedOff01_task-Rest_acq-StimOff_run-1.\n",
      "\n",
      "The search_str was \"C:\\Users\\Jonathan\\Charité - Universitätsmedizin Berlin\\Interventional Cognitive Neuromodulation - Data\\BIDS_01_Berlin_Neurophys\\rawdata\\sub-EL012\\**\\ieeg\\sub-EL012_ses-EcogLfpMedOff01*events.tsv\"\n",
      "  raw = read_raw_bids(bids_path=bids_path, verbose=False)\n",
      "C:\\Users\\Jonathan\\AppData\\Local\\Temp/ipykernel_19444/3433710750.py:1: RuntimeWarning: MNI152NLin2009bAsym is not an MNE-Python coordinate frame for IEEG data and so will be set to 'unknown'\n",
      "  raw = read_raw_bids(bids_path=bids_path, verbose=False)\n",
      "C:\\Users\\Jonathan\\AppData\\Local\\Temp/ipykernel_19444/3433710750.py:1: RuntimeWarning: DigMontage is only a subset of info. There are 2 channel positions not present in the DigMontage. The required channels are:\n",
      "\n",
      "['EEG_CZ_TM', 'EEG_FZ_TM'].\n",
      "\n",
      "Consider using inst.set_channel_types if these are not EEG channels, or use the on_missing parameter if the channel positions are allowed to be unknown in your analyses.\n",
      "  raw = read_raw_bids(bids_path=bids_path, verbose=False)\n"
     ]
    }
   ],
   "source": [
    "raw = read_raw_bids(bids_path=bids_path, verbose=False)"
   ]
  },
  {
   "cell_type": "code",
   "execution_count": 24,
   "metadata": {},
   "outputs": [
    {
     "name": "stdout",
     "output_type": "stream",
     "text": [
      "Using qt as 2D backend.\n",
      "Free RAM space could not be determined because\"psutil\" is not installed. Setting precompute to False.\n"
     ]
    },
    {
     "data": {
      "text/plain": [
       "<mne_qt_browser._pg_figure.MNEQtBrowser at 0x1faa00f0af0>"
      ]
     },
     "execution_count": 24,
     "metadata": {},
     "output_type": "execute_result"
    }
   ],
   "source": [
    "raw.plot()"
   ]
  },
  {
   "cell_type": "code",
   "execution_count": 33,
   "metadata": {},
   "outputs": [
    {
     "name": "stdout",
     "output_type": "stream",
     "text": [
      "C:/Users/Jonathan/Charité - Universitätsmedizin Berlin/Interventional Cognitive Neuromodulation - Data/BIDS_01_Berlin_Neurophys/rawdata/sub-EL012/ses-EcogLfpMedOffOnDys01/ieeg/sub-EL012_ses-EcogLfpMedOffOnDys01_task-Free_acq-StimOffDopa20_run-1_ieeg.vhdr\n"
     ]
    },
    {
     "name": "stderr",
     "output_type": "stream",
     "text": [
      "C:\\Users\\Jonathan\\AppData\\Local\\Temp/ipykernel_19444/1187479213.py:15: RuntimeWarning: Did not find any events.tsv associated with sub-EL012_ses-EcogLfpMedOffOnDys01_task-Free_acq-StimOffDopa20_run-1.\n",
      "\n",
      "The search_str was \"C:\\Users\\Jonathan\\Charité - Universitätsmedizin Berlin\\Interventional Cognitive Neuromodulation - Data\\BIDS_01_Berlin_Neurophys\\rawdata\\sub-EL012\\**\\ieeg\\sub-EL012_ses-EcogLfpMedOffOnDys01*events.tsv\"\n",
      "  raw = read_raw_bids(bids_path=bids_path, verbose=False)\n",
      "C:\\Users\\Jonathan\\AppData\\Local\\Temp/ipykernel_19444/1187479213.py:15: RuntimeWarning: MNI152NLin2009bAsym is not an MNE-Python coordinate frame for IEEG data and so will be set to 'unknown'\n",
      "  raw = read_raw_bids(bids_path=bids_path, verbose=False)\n",
      "C:\\Users\\Jonathan\\AppData\\Local\\Temp/ipykernel_19444/1187479213.py:15: RuntimeWarning: DigMontage is only a subset of info. There are 2 channel positions not present in the DigMontage. The required channels are:\n",
      "\n",
      "['EEG_CZ_TM', 'EEG_FZ_TM'].\n",
      "\n",
      "Consider using inst.set_channel_types if these are not EEG channels, or use the on_missing parameter if the channel positions are allowed to be unknown in your analyses.\n",
      "  raw = read_raw_bids(bids_path=bids_path, verbose=False)\n"
     ]
    },
    {
     "name": "stdout",
     "output_type": "stream",
     "text": [
      "Free RAM space could not be determined because\"psutil\" is not installed. Setting precompute to False.\n"
     ]
    },
    {
     "data": {
      "text/plain": [
       "<mne_qt_browser._pg_figure.MNEQtBrowser at 0x1fa911d3820>"
      ]
     },
     "execution_count": 33,
     "metadata": {},
     "output_type": "execute_result"
    }
   ],
   "source": [
    "bids_root = r\"C:\\Users\\Jonathan\\Charité - Universitätsmedizin Berlin\\Interventional Cognitive Neuromodulation - Data\\BIDS_01_Berlin_Neurophys\\rawdata\"\n",
    "\n",
    "subject = 'EL012'\n",
    "datatype = 'ieeg'\n",
    "session = 'EcogLfpMedOffOnDys01'\n",
    "task = 'Free'\n",
    "acquisition = 'StimOffDopa20'\n",
    "run = '1'\n",
    "suffix = 'ieeg'\n",
    "\n",
    "bids_path = BIDSPath(subject=subject, session=session, task=task, acquisition=acquisition, run=run,\n",
    "                     suffix=suffix, datatype=datatype, root=bids_root)\n",
    "\n",
    "print(bids_path)\n",
    "raw = read_raw_bids(bids_path=bids_path, verbose=False)\n",
    "raw.plot()"
   ]
  },
  {
   "cell_type": "code",
   "execution_count": 35,
   "metadata": {},
   "outputs": [
    {
     "name": "stdout",
     "output_type": "stream",
     "text": [
      "C:/Users/Jonathan/Charité - Universitätsmedizin Berlin/Interventional Cognitive Neuromodulation - Data/BIDS_01_Berlin_Neurophys/rawdata/sub-EL012/ses-EcogLfpMedOffOnDys01/ieeg/sub-EL012_ses-EcogLfpMedOffOnDys01_task-Free_acq-StimOffDopa50_run-1_ieeg.vhdr\n"
     ]
    },
    {
     "name": "stderr",
     "output_type": "stream",
     "text": [
      "C:\\Users\\Jonathan\\AppData\\Local\\Temp/ipykernel_19444/2834965394.py:16: RuntimeWarning: Did not find any events.tsv associated with sub-EL012_ses-EcogLfpMedOffOnDys01_task-Free_acq-StimOffDopa50_run-1.\n",
      "\n",
      "The search_str was \"C:\\Users\\Jonathan\\Charité - Universitätsmedizin Berlin\\Interventional Cognitive Neuromodulation - Data\\BIDS_01_Berlin_Neurophys\\rawdata\\sub-EL012\\**\\ieeg\\sub-EL012_ses-EcogLfpMedOffOnDys01*events.tsv\"\n",
      "  raw = read_raw_bids(bids_path=bids_path, verbose=False)\n",
      "C:\\Users\\Jonathan\\AppData\\Local\\Temp/ipykernel_19444/2834965394.py:16: RuntimeWarning: MNI152NLin2009bAsym is not an MNE-Python coordinate frame for IEEG data and so will be set to 'unknown'\n",
      "  raw = read_raw_bids(bids_path=bids_path, verbose=False)\n",
      "C:\\Users\\Jonathan\\AppData\\Local\\Temp/ipykernel_19444/2834965394.py:16: RuntimeWarning: DigMontage is only a subset of info. There are 2 channel positions not present in the DigMontage. The required channels are:\n",
      "\n",
      "['EEG_CZ_TM', 'EEG_FZ_TM'].\n",
      "\n",
      "Consider using inst.set_channel_types if these are not EEG channels, or use the on_missing parameter if the channel positions are allowed to be unknown in your analyses.\n",
      "  raw = read_raw_bids(bids_path=bids_path, verbose=False)\n"
     ]
    },
    {
     "name": "stdout",
     "output_type": "stream",
     "text": [
      "Free RAM space could not be determined because\"psutil\" is not installed. Setting precompute to False.\n"
     ]
    },
    {
     "data": {
      "text/plain": [
       "<mne_qt_browser._pg_figure.MNEQtBrowser at 0x1faa9756700>"
      ]
     },
     "execution_count": 35,
     "metadata": {},
     "output_type": "execute_result"
    },
    {
     "name": "stdout",
     "output_type": "stream",
     "text": [
      "Channels marked as bad:\n",
      "['LFP_L_01_STN_MT', 'ECOG_R_06_SMC_AT']\n",
      "Channels marked as bad:\n",
      "['LFP_L_01_STN_MT', 'ECOG_R_06_SMC_AT']\n",
      "Channels marked as bad:\n",
      "['LFP_L_01_STN_MT', 'ECOG_R_06_SMC_AT']\n",
      "Channels marked as bad:\n",
      "['LFP_L_01_STN_MT', 'ECOG_R_06_SMC_AT']\n",
      "Channels marked as bad:\n",
      "['LFP_L_01_STN_MT', 'ECOG_R_06_SMC_AT']\n"
     ]
    }
   ],
   "source": [
    "bids_root = r\"C:\\Users\\Jonathan\\Charité - Universitätsmedizin Berlin\\Interventional Cognitive Neuromodulation - Data\\BIDS_01_Berlin_Neurophys\\rawdata\"\n",
    "\n",
    "\n",
    "subject = 'EL012'\n",
    "datatype = 'ieeg'\n",
    "session = 'EcogLfpMedOffOnDys01'\n",
    "task = 'Free'\n",
    "acquisition = 'StimOffDopa50'\n",
    "run = '1'\n",
    "suffix = 'ieeg'\n",
    "\n",
    "bids_path = BIDSPath(subject=subject, session=session, task=task, acquisition=acquisition, run=run,\n",
    "                     suffix=suffix, datatype=datatype, root=bids_root)\n",
    "\n",
    "print(bids_path)\n",
    "raw = read_raw_bids(bids_path=bids_path, verbose=False)\n",
    "raw.plot()"
   ]
  },
  {
   "cell_type": "code",
   "execution_count": 28,
   "metadata": {},
   "outputs": [
    {
     "name": "stdout",
     "output_type": "stream",
     "text": [
      "C:/Users/Jonathan/Charité - Universitätsmedizin Berlin/Interventional Cognitive Neuromodulation - Data/BIDS_01_Berlin_Neurophys/rawdata/sub-EL012/ses-EcogLfpMedOffOnDys01/ieeg/sub-EL012_ses-EcogLfpMedOffOnDys01_task-Rest_acq-StimOffDopa00_run-1_ieeg.vhdr\n"
     ]
    },
    {
     "name": "stderr",
     "output_type": "stream",
     "text": [
      "C:\\Users\\Jonathan\\AppData\\Local\\Temp/ipykernel_19444/4020616533.py:15: RuntimeWarning: Did not find any events.tsv associated with sub-EL012_ses-EcogLfpMedOffOnDys01_task-Rest_acq-StimOffDopa00_run-1.\n",
      "\n",
      "The search_str was \"C:\\Users\\Jonathan\\Charité - Universitätsmedizin Berlin\\Interventional Cognitive Neuromodulation - Data\\BIDS_01_Berlin_Neurophys\\rawdata\\sub-EL012\\**\\ieeg\\sub-EL012_ses-EcogLfpMedOffOnDys01*events.tsv\"\n",
      "  raw = read_raw_bids(bids_path=bids_path, verbose=False)\n",
      "C:\\Users\\Jonathan\\AppData\\Local\\Temp/ipykernel_19444/4020616533.py:15: RuntimeWarning: MNI152NLin2009bAsym is not an MNE-Python coordinate frame for IEEG data and so will be set to 'unknown'\n",
      "  raw = read_raw_bids(bids_path=bids_path, verbose=False)\n",
      "C:\\Users\\Jonathan\\AppData\\Local\\Temp/ipykernel_19444/4020616533.py:15: RuntimeWarning: DigMontage is only a subset of info. There are 2 channel positions not present in the DigMontage. The required channels are:\n",
      "\n",
      "['EEG_CZ_TM', 'EEG_FZ_TM'].\n",
      "\n",
      "Consider using inst.set_channel_types if these are not EEG channels, or use the on_missing parameter if the channel positions are allowed to be unknown in your analyses.\n",
      "  raw = read_raw_bids(bids_path=bids_path, verbose=False)\n"
     ]
    },
    {
     "name": "stdout",
     "output_type": "stream",
     "text": [
      "Free RAM space could not be determined because\"psutil\" is not installed. Setting precompute to False.\n"
     ]
    },
    {
     "data": {
      "text/plain": [
       "<mne_qt_browser._pg_figure.MNEQtBrowser at 0x1fa91141dc0>"
      ]
     },
     "execution_count": 28,
     "metadata": {},
     "output_type": "execute_result"
    }
   ],
   "source": [
    "bids_root = r\"C:\\Users\\Jonathan\\Charité - Universitätsmedizin Berlin\\Interventional Cognitive Neuromodulation - Data\\BIDS_01_Berlin_Neurophys\\rawdata\"\n",
    "\n",
    "subject = 'EL012'\n",
    "datatype = 'ieeg'\n",
    "session = 'EcogLfpMedOffOnDys01'\n",
    "task = 'Rest'\n",
    "acquisition = 'StimOffDopa00'\n",
    "run = '1'\n",
    "suffix = 'ieeg'\n",
    "\n",
    "bids_path = BIDSPath(subject=subject, session=session, task=task, acquisition=acquisition, run=run,\n",
    "                     suffix=suffix, datatype=datatype, root=bids_root)\n",
    "\n",
    "print(bids_path)\n",
    "raw = read_raw_bids(bids_path=bids_path, verbose=False)\n",
    "raw.plot()"
   ]
  },
  {
   "cell_type": "code",
   "execution_count": 27,
   "metadata": {},
   "outputs": [
    {
     "name": "stdout",
     "output_type": "stream",
     "text": [
      "C:/Users/Jonathan/Charité - Universitätsmedizin Berlin/Interventional Cognitive Neuromodulation - Data/BIDS_01_Berlin_Neurophys/rawdata/sub-EL012/ses-EcogLfpMedOffOnDys01/ieeg/sub-EL012_ses-EcogLfpMedOffOnDys01_task-SelfpacedRotationL_acq-StimOff_run-1_ieeg.vhdr\n"
     ]
    },
    {
     "name": "stderr",
     "output_type": "stream",
     "text": [
      "C:\\Users\\Jonathan\\AppData\\Local\\Temp/ipykernel_19444/880886821.py:15: RuntimeWarning: Did not find any events.tsv associated with sub-EL012_ses-EcogLfpMedOffOnDys01_task-SelfpacedRotationL_acq-StimOff_run-1.\n",
      "\n",
      "The search_str was \"C:\\Users\\Jonathan\\Charité - Universitätsmedizin Berlin\\Interventional Cognitive Neuromodulation - Data\\BIDS_01_Berlin_Neurophys\\rawdata\\sub-EL012\\**\\ieeg\\sub-EL012_ses-EcogLfpMedOffOnDys01*events.tsv\"\n",
      "  raw = read_raw_bids(bids_path=bids_path, verbose=False)\n",
      "C:\\Users\\Jonathan\\AppData\\Local\\Temp/ipykernel_19444/880886821.py:15: RuntimeWarning: MNI152NLin2009bAsym is not an MNE-Python coordinate frame for IEEG data and so will be set to 'unknown'\n",
      "  raw = read_raw_bids(bids_path=bids_path, verbose=False)\n",
      "C:\\Users\\Jonathan\\AppData\\Local\\Temp/ipykernel_19444/880886821.py:15: RuntimeWarning: DigMontage is only a subset of info. There are 2 channel positions not present in the DigMontage. The required channels are:\n",
      "\n",
      "['EEG_CZ_TM', 'EEG_FZ_TM'].\n",
      "\n",
      "Consider using inst.set_channel_types if these are not EEG channels, or use the on_missing parameter if the channel positions are allowed to be unknown in your analyses.\n",
      "  raw = read_raw_bids(bids_path=bids_path, verbose=False)\n"
     ]
    },
    {
     "name": "stdout",
     "output_type": "stream",
     "text": [
      "Free RAM space could not be determined because\"psutil\" is not installed. Setting precompute to False.\n"
     ]
    },
    {
     "data": {
      "text/plain": [
       "<mne_qt_browser._pg_figure.MNEQtBrowser at 0x1fa910ee040>"
      ]
     },
     "execution_count": 27,
     "metadata": {},
     "output_type": "execute_result"
    }
   ],
   "source": [
    "bids_root = r\"C:\\Users\\Jonathan\\Charité - Universitätsmedizin Berlin\\Interventional Cognitive Neuromodulation - Data\\BIDS_01_Berlin_Neurophys\\rawdata\"\n",
    "\n",
    "subject = 'EL012'\n",
    "datatype = 'ieeg'\n",
    "session = 'EcogLfpMedOffOnDys01'\n",
    "task = 'SelfpacedRotationL'\n",
    "acquisition = 'StimOff'\n",
    "run = '1'\n",
    "suffix = 'ieeg'\n",
    "\n",
    "bids_path = BIDSPath(subject=subject, session=session, task=task, acquisition=acquisition, run=run,\n",
    "                     suffix=suffix, datatype=datatype, root=bids_root)\n",
    "\n",
    "print(bids_path)\n",
    "raw = read_raw_bids(bids_path=bids_path, verbose=False)\n",
    "raw.plot()"
   ]
  },
  {
   "cell_type": "code",
   "execution_count": 31,
   "metadata": {},
   "outputs": [
    {
     "name": "stdout",
     "output_type": "stream",
     "text": [
      "C:/Users/Jonathan/Charité - Universitätsmedizin Berlin/Interventional Cognitive Neuromodulation - Data/BIDS_01_Berlin_Neurophys/rawdata/sub-EL012/ses-EcogLfpMedOffOnDys01/ieeg/sub-EL012_ses-EcogLfpMedOffOnDys01_task-Rest_acq-StimOffDopa30_run-1_ieeg.vhdr\n"
     ]
    },
    {
     "name": "stderr",
     "output_type": "stream",
     "text": [
      "C:\\Users\\Jonathan\\AppData\\Local\\Temp/ipykernel_19444/4205596621.py:15: RuntimeWarning: Did not find any events.tsv associated with sub-EL012_ses-EcogLfpMedOffOnDys01_task-Rest_acq-StimOffDopa30_run-1.\n",
      "\n",
      "The search_str was \"C:\\Users\\Jonathan\\Charité - Universitätsmedizin Berlin\\Interventional Cognitive Neuromodulation - Data\\BIDS_01_Berlin_Neurophys\\rawdata\\sub-EL012\\**\\ieeg\\sub-EL012_ses-EcogLfpMedOffOnDys01*events.tsv\"\n",
      "  raw = read_raw_bids(bids_path=bids_path, verbose=False)\n",
      "C:\\Users\\Jonathan\\AppData\\Local\\Temp/ipykernel_19444/4205596621.py:15: RuntimeWarning: MNI152NLin2009bAsym is not an MNE-Python coordinate frame for IEEG data and so will be set to 'unknown'\n",
      "  raw = read_raw_bids(bids_path=bids_path, verbose=False)\n",
      "C:\\Users\\Jonathan\\AppData\\Local\\Temp/ipykernel_19444/4205596621.py:15: RuntimeWarning: DigMontage is only a subset of info. There are 2 channel positions not present in the DigMontage. The required channels are:\n",
      "\n",
      "['EEG_CZ_TM', 'EEG_FZ_TM'].\n",
      "\n",
      "Consider using inst.set_channel_types if these are not EEG channels, or use the on_missing parameter if the channel positions are allowed to be unknown in your analyses.\n",
      "  raw = read_raw_bids(bids_path=bids_path, verbose=False)\n"
     ]
    },
    {
     "name": "stdout",
     "output_type": "stream",
     "text": [
      "Free RAM space could not be determined because\"psutil\" is not installed. Setting precompute to False.\n"
     ]
    },
    {
     "data": {
      "text/plain": [
       "<mne_qt_browser._pg_figure.MNEQtBrowser at 0x1fa911d4ee0>"
      ]
     },
     "execution_count": 31,
     "metadata": {},
     "output_type": "execute_result"
    },
    {
     "name": "stdout",
     "output_type": "stream",
     "text": [
      "Channels marked as bad:\n",
      "['LFP_L_01_STN_MT', 'ECOG_R_06_SMC_AT']\n"
     ]
    }
   ],
   "source": [
    "bids_root = r\"C:\\Users\\Jonathan\\Charité - Universitätsmedizin Berlin\\Interventional Cognitive Neuromodulation - Data\\BIDS_01_Berlin_Neurophys\\rawdata\"\n",
    "\n",
    "\n",
    "subject = 'EL012'\n",
    "datatype = 'ieeg'\n",
    "session = 'EcogLfpMedOffOnDys01'\n",
    "task = 'Rest'\n",
    "acquisition = 'StimOffDopa30'\n",
    "run = '1'\n",
    "suffix = 'ieeg'\n",
    "\n",
    "bids_path = BIDSPath(subject=subject, session=session, task=task, acquisition=acquisition, run=run,\n",
    "                     suffix=suffix, datatype=datatype, root=bids_root)\n",
    "\n",
    "print(bids_path)\n",
    "raw = read_raw_bids(bids_path=bids_path, verbose=False)\n",
    "raw.plot()"
   ]
  },
  {
   "cell_type": "code",
   "execution_count": 38,
   "metadata": {},
   "outputs": [
    {
     "name": "stdout",
     "output_type": "stream",
     "text": [
      "C:/Users/Jonathan/Charité - Universitätsmedizin Berlin/Interventional Cognitive Neuromodulation - Data/BIDS_Berlin_ECOG_LFP/rawdata/sub-004/ses-EcogLfpMedOff01/ieeg/sub-004_ses-EcogLfpMedOff01_task-Rest_acq-StimOff_run-1_ieeg.vhdr\n"
     ]
    },
    {
     "name": "stderr",
     "output_type": "stream",
     "text": [
      "C:\\Users\\Jonathan\\AppData\\Local\\Temp/ipykernel_7504/3940315717.py:15: RuntimeWarning: Did not find any events.tsv associated with sub-004_ses-EcogLfpMedOff01_task-Rest_acq-StimOff_run-1.\n",
      "\n",
      "The search_str was \"C:\\Users\\Jonathan\\Charité - Universitätsmedizin Berlin\\Interventional Cognitive Neuromodulation - Data\\BIDS_Berlin_ECOG_LFP\\rawdata\\sub-004\\**\\ieeg\\sub-004_ses-EcogLfpMedOff01*events.tsv\"\n",
      "  raw = read_raw_bids(bids_path=bids_path, verbose=False)\n",
      "C:\\Users\\Jonathan\\AppData\\Local\\Temp/ipykernel_7504/3940315717.py:15: RuntimeWarning: MNI152NLin2009bAsym is not an MNE-Python coordinate frame for IEEG data and so will be set to 'unknown'\n",
      "  raw = read_raw_bids(bids_path=bids_path, verbose=False)\n",
      "C:\\Users\\Jonathan\\AppData\\Local\\Temp/ipykernel_7504/3940315717.py:15: RuntimeWarning: DigMontage is only a subset of info. There are 2 channel positions not present in the DigMontage. The required channels are:\n",
      "\n",
      "['EEG_CZ_TM', 'EEG_FZ_TM'].\n",
      "\n",
      "Consider using inst.set_channel_types if these are not EEG channels, or use the on_missing parameter if the channel positions are allowed to be unknown in your analyses.\n",
      "  raw = read_raw_bids(bids_path=bids_path, verbose=False)\n"
     ]
    },
    {
     "name": "stdout",
     "output_type": "stream",
     "text": [
      "Opening raw-browser...\n",
      "Free RAM space could not be determined because\"psutil\" is not installed. Setting precompute to False.\n"
     ]
    },
    {
     "data": {
      "text/plain": [
       "<mne_qt_browser._pg_figure.MNEQtBrowser at 0x2512a187700>"
      ]
     },
     "execution_count": 38,
     "metadata": {},
     "output_type": "execute_result"
    }
   ],
   "source": [
    "bids_root = r\"C:\\Users\\Jonathan\\Charité - Universitätsmedizin Berlin\\Interventional Cognitive Neuromodulation - Data\\BIDS_Berlin_ECOG_LFP\\rawdata\"\n",
    "\n",
    "subject = '004'\n",
    "datatype = 'ieeg'\n",
    "session = 'EcogLfpMedOff01'\n",
    "task = 'Rest'\n",
    "acquisition = 'StimOff'\n",
    "run = '1'\n",
    "suffix = 'ieeg'\n",
    "\n",
    "bids_path = BIDSPath(subject=subject, session=session, task=task, acquisition=acquisition, run=run,\n",
    "                     suffix=suffix, datatype=datatype, root=bids_root)\n",
    "\n",
    "print(bids_path)\n",
    "raw = read_raw_bids(bids_path=bids_path, verbose=False)\n",
    "#raw.get_data(units='uV')\n",
    "numpyarray=raw.get_data(picks=['dbs','eeg'],units=dict({'dbs':'uV','eeg':'V'}))\n",
    "#plot(numpyarray)\n",
    "raw.plot() #'misc', 'eeg', 'dbs', 'emg', 'ecog'"
   ]
  },
  {
   "cell_type": "code",
   "execution_count": 57,
   "metadata": {},
   "outputs": [
    {
     "name": "stdout",
     "output_type": "stream",
     "text": [
      "Extracting parameters from C:\\Users\\Jonathan\\Documents\\DATA\\PROJECT_Debug\\sub-004_ses-EcogLfpMedOff01_task-Rest_acq-StimOff_run-1_ieeg.vhdr...\n",
      "Setting channel info structure...\n",
      "Opening raw-browser...\n",
      "Free RAM space could not be determined because\"psutil\" is not installed. Setting precompute to False.\n"
     ]
    },
    {
     "data": {
      "text/plain": [
       "<mne_qt_browser._pg_figure.MNEQtBrowser at 0x2512b47cd30>"
      ]
     },
     "execution_count": 57,
     "metadata": {},
     "output_type": "execute_result"
    }
   ],
   "source": [
    "raw=mne.io.read_raw(r'C:\\Users\\Jonathan\\Documents\\DATA\\PROJECT_Debug\\sub-004_ses-EcogLfpMedOff01_task-Rest_acq-StimOff_run-1_ieeg.vhdr')\n",
    "raw.plot()"
   ]
  }
 ],
 "metadata": {
  "interpreter": {
   "hash": "03eaa2ea944cf99881aa5fab8d165e2f17a4015119a862d5d367392066f26a1e"
  },
  "kernelspec": {
   "display_name": "Python 3.9.1 64-bit",
   "language": "python",
   "name": "python3"
  },
  "language_info": {
   "codemirror_mode": {
    "name": "ipython",
    "version": 3
   },
   "file_extension": ".py",
   "mimetype": "text/x-python",
   "name": "python",
   "nbconvert_exporter": "python",
   "pygments_lexer": "ipython3",
   "version": "3.9.1"
  },
  "orig_nbformat": 4
 },
 "nbformat": 4,
 "nbformat_minor": 2
}
