{
 "cells": [
  {
   "cell_type": "code",
   "execution_count": 1,
   "metadata": {},
   "outputs": [],
   "source": [
    "import os \n",
    "import scipy\n",
    "import numpy as np\n",
    "from matplotlib import pyplot as plt\n",
    "from mne import io\n",
    "from bids import BIDSLayout\n",
    "from mne.decoding import TimeFrequency\n",
    "from matplotlib import pyplot as plt\n",
    "from scipy import stats, signal\n",
    "import mne\n",
    "from mne import create_info, EpochsArray\n",
    "from mne.time_frequency import tfr_morlet\n",
    "import pandas as pd"
   ]
  },
  {
   "cell_type": "code",
   "execution_count": 8,
   "metadata": {},
   "outputs": [],
   "source": [
    "PATH = \"C:\\\\Users\\\\ICN_admin\\\\Dropbox (Brain Modulation Lab)\\\\Shared Lab Folders\\\\CRCNS\\\\PD_ButtonPress\""
   ]
  },
  {
   "cell_type": "code",
   "execution_count": 9,
   "metadata": {},
   "outputs": [],
   "source": [
    "def preprocess_mov(mov_dat):\n",
    "    # the TIME OFF in the TTL signal is ~50 ms\n",
    "    MOV_ON = False\n",
    "    mov_new = np.zeros(mov_dat.shape[0])\n",
    "    mov_new[0] = mov_dat[0]\n",
    "    mov_on_set = 0\n",
    "    for i in range(mov_dat.shape[0]):\n",
    "        if i > 0 and mov_dat[i] > 1:\n",
    "            MOV_ON = True\n",
    "            mov_on_set = i \n",
    "        if (i - mov_on_set) > 100 and mov_dat[i] < 1: \n",
    "            mov_new[i] = 0\n",
    "            MOV_ON = False\n",
    "        if MOV_ON is True:\n",
    "            mov_new[i] = 1\n",
    "    return mov_new"
   ]
  },
  {
   "cell_type": "code",
   "execution_count": 10,
   "metadata": {},
   "outputs": [],
   "source": [
    "# run through every patient and every run in the peking dataset and rewrite the TTL label "
   ]
  },
  {
   "cell_type": "code",
   "execution_count": 16,
   "metadata": {},
   "outputs": [],
   "source": [
    "def get_all_vhdr_files(BIDS_path):\n",
    "    \"\"\"\n",
    "    \n",
    "    Given a BIDS path return all vhdr file paths without BIDS_Layout\n",
    "    Args:\n",
    "        BIDS_path (string)\n",
    "    Returns: \n",
    "        vhdr_files (list)\n",
    "    \"\"\"\n",
    "    vhdr_files = []\n",
    "    for root, dirs, files in os.walk(BIDS_path):\n",
    "        for file in files:\n",
    "            if file.endswith(\".vhdr\"):\n",
    "                vhdr_files.append(os.path.join(root, file))\n",
    "    return vhdr_files\n",
    "\n",
    "def get_all_edf_files(BIDS_path):\n",
    "    \"\"\"\n",
    "    \n",
    "    Given a BIDS path return all vhdr file paths without BIDS_Layout\n",
    "    Args:\n",
    "        BIDS_path (string)\n",
    "    Returns: \n",
    "        vhdr_files (list)\n",
    "    \"\"\"\n",
    "    vhdr_files = []\n",
    "    for root, dirs, files in os.walk(BIDS_path):\n",
    "        for file in files:\n",
    "            if file.endswith(\".edf\"):\n",
    "                vhdr_files.append(os.path.join(root, file))\n",
    "    return vhdr_files"
   ]
  },
  {
   "cell_type": "code",
   "execution_count": 18,
   "metadata": {},
   "outputs": [],
   "source": [
    "edf_files = get_all_edf_files(PATH)"
   ]
  },
  {
   "cell_type": "code",
   "execution_count": 90,
   "metadata": {},
   "outputs": [],
   "source": [
    "ch_clean = preprocess_mov(raw.get_data()[np.where(np.array(raw.ch_names) == \"POL DC10\")[0][0],:])"
   ]
  },
  {
   "cell_type": "code",
   "execution_count": 91,
   "metadata": {},
   "outputs": [
    {
     "data": {
      "text/plain": [
       "[<matplotlib.lines.Line2D at 0x265d76f63c8>]"
      ]
     },
     "execution_count": 91,
     "metadata": {},
     "output_type": "execute_result"
    },
    {
     "data": {
      "image/png": "[encoded data removed]",
      "text/plain": [
       "<Figure size 432x288 with 1 Axes>"
      ]
     },
     "metadata": {
      "needs_background": "light"
     },
     "output_type": "display_data"
    }
   ],
   "source": [
    "plt.plot(ch_clean)"
   ]
  },
  {
   "cell_type": "code",
   "execution_count": 105,
   "metadata": {
    "scrolled": true
   },
   "outputs": [
    {
     "name": "stdout",
     "output_type": "stream",
     "text": [
      "C:\\Users\\ICN_admin\\Dropbox (Brain Modulation Lab)\\Shared Lab Folders\\CRCNS\\PD_ButtonPress\\sub-FOG006\\ses-postimp\\ieeg\\sub-FOG006_ses-postimp_task-buttonPress_run-01_ieeg.edf\n",
      "Extracting EDF parameters from C:\\Users\\ICN_admin\\Dropbox (Brain Modulation Lab)\\Shared Lab Folders\\CRCNS\\PD_ButtonPress\\sub-FOG013\\ses-postimp\\ieeg\\sub-FOG013_ses-postimp_task-buttonPress_run-01_ieeg.edf...\n",
      "EDF file detected\n",
      "Setting channel info structure...\n",
      "Creating raw.info structure...\n",
      "Reading 0 ... 2018174  =      0.000 ...  1009.087 secs...\n",
      "C:\\Users\\ICN_admin\\Dropbox (Brain Modulation Lab)\\Shared Lab Folders\\CRCNS\\PD_ButtonPress\\sub-FOG006\\ses-postimp\\ieeg\\sub-FOG006_ses-postimp_task-restingSit_run-01_ieeg.edf\n",
      "Extracting EDF parameters from C:\\Users\\ICN_admin\\Dropbox (Brain Modulation Lab)\\Shared Lab Folders\\CRCNS\\PD_ButtonPress\\sub-FOG013\\ses-postimp\\ieeg\\sub-FOG013_ses-postimp_task-buttonPress_run-01_ieeg.edf...\n",
      "EDF file detected\n",
      "Setting channel info structure...\n",
      "Creating raw.info structure...\n",
      "Reading 0 ... 2018174  =      0.000 ...  1009.087 secs...\n",
      "C:\\Users\\ICN_admin\\Dropbox (Brain Modulation Lab)\\Shared Lab Folders\\CRCNS\\PD_ButtonPress\\sub-FOG008\\ses-postimp\\ieeg\\sub-FOG008_ses-postimp_task-buttonPress_run-01_ieeg.edf\n",
      "Extracting EDF parameters from C:\\Users\\ICN_admin\\Dropbox (Brain Modulation Lab)\\Shared Lab Folders\\CRCNS\\PD_ButtonPress\\sub-FOG013\\ses-postimp\\ieeg\\sub-FOG013_ses-postimp_task-buttonPress_run-01_ieeg.edf...\n",
      "EDF file detected\n",
      "Setting channel info structure...\n",
      "Creating raw.info structure...\n",
      "Reading 0 ... 2018174  =      0.000 ...  1009.087 secs...\n",
      "C:\\Users\\ICN_admin\\Dropbox (Brain Modulation Lab)\\Shared Lab Folders\\CRCNS\\PD_ButtonPress\\sub-FOG008\\ses-postimp\\ieeg\\sub-FOG008_ses-postimp_task-restingSit_run-01_ieeg.edf\n",
      "Extracting EDF parameters from C:\\Users\\ICN_admin\\Dropbox (Brain Modulation Lab)\\Shared Lab Folders\\CRCNS\\PD_ButtonPress\\sub-FOG013\\ses-postimp\\ieeg\\sub-FOG013_ses-postimp_task-buttonPress_run-01_ieeg.edf...\n",
      "EDF file detected\n",
      "Setting channel info structure...\n",
      "Creating raw.info structure...\n",
      "Reading 0 ... 2018174  =      0.000 ...  1009.087 secs...\n",
      "C:\\Users\\ICN_admin\\Dropbox (Brain Modulation Lab)\\Shared Lab Folders\\CRCNS\\PD_ButtonPress\\sub-FOG010\\ses-postimp\\ieeg\\sub-FOG010_ses-postimp_task-buttonPress_run-01_ieeg.edf\n",
      "Extracting EDF parameters from C:\\Users\\ICN_admin\\Dropbox (Brain Modulation Lab)\\Shared Lab Folders\\CRCNS\\PD_ButtonPress\\sub-FOG013\\ses-postimp\\ieeg\\sub-FOG013_ses-postimp_task-buttonPress_run-01_ieeg.edf...\n",
      "EDF file detected\n",
      "Setting channel info structure...\n",
      "Creating raw.info structure...\n",
      "Reading 0 ... 2018174  =      0.000 ...  1009.087 secs...\n",
      "C:\\Users\\ICN_admin\\Dropbox (Brain Modulation Lab)\\Shared Lab Folders\\CRCNS\\PD_ButtonPress\\sub-FOG010\\ses-postimp\\ieeg\\sub-FOG010_ses-postimp_task-restingSit_run-01_ieeg.edf\n",
      "Extracting EDF parameters from C:\\Users\\ICN_admin\\Dropbox (Brain Modulation Lab)\\Shared Lab Folders\\CRCNS\\PD_ButtonPress\\sub-FOG013\\ses-postimp\\ieeg\\sub-FOG013_ses-postimp_task-buttonPress_run-01_ieeg.edf...\n",
      "EDF file detected\n",
      "Setting channel info structure...\n",
      "Creating raw.info structure...\n",
      "Reading 0 ... 2018174  =      0.000 ...  1009.087 secs...\n",
      "C:\\Users\\ICN_admin\\Dropbox (Brain Modulation Lab)\\Shared Lab Folders\\CRCNS\\PD_ButtonPress\\sub-FOG011\\ses-postimp\\ieeg\\sub-FOG011_ses-postimp_task-buttonPress_run-01_ieeg.edf\n",
      "Extracting EDF parameters from C:\\Users\\ICN_admin\\Dropbox (Brain Modulation Lab)\\Shared Lab Folders\\CRCNS\\PD_ButtonPress\\sub-FOG013\\ses-postimp\\ieeg\\sub-FOG013_ses-postimp_task-buttonPress_run-01_ieeg.edf...\n",
      "EDF file detected\n",
      "Setting channel info structure...\n",
      "Creating raw.info structure...\n",
      "Reading 0 ... 2018174  =      0.000 ...  1009.087 secs...\n",
      "C:\\Users\\ICN_admin\\Dropbox (Brain Modulation Lab)\\Shared Lab Folders\\CRCNS\\PD_ButtonPress\\sub-FOG011\\ses-postimp\\ieeg\\sub-FOG011_ses-postimp_task-restingSit_run-01_ieeg.edf\n",
      "Extracting EDF parameters from C:\\Users\\ICN_admin\\Dropbox (Brain Modulation Lab)\\Shared Lab Folders\\CRCNS\\PD_ButtonPress\\sub-FOG013\\ses-postimp\\ieeg\\sub-FOG013_ses-postimp_task-buttonPress_run-01_ieeg.edf...\n",
      "EDF file detected\n",
      "Setting channel info structure...\n",
      "Creating raw.info structure...\n",
      "Reading 0 ... 2018174  =      0.000 ...  1009.087 secs...\n",
      "C:\\Users\\ICN_admin\\Dropbox (Brain Modulation Lab)\\Shared Lab Folders\\CRCNS\\PD_ButtonPress\\sub-FOG013\\ses-postimp\\ieeg\\sub-FOG013_ses-postimp_task-buttonPress_run-01_ieeg.edf\n",
      "Extracting EDF parameters from C:\\Users\\ICN_admin\\Dropbox (Brain Modulation Lab)\\Shared Lab Folders\\CRCNS\\PD_ButtonPress\\sub-FOG013\\ses-postimp\\ieeg\\sub-FOG013_ses-postimp_task-buttonPress_run-01_ieeg.edf...\n",
      "EDF file detected\n",
      "Setting channel info structure...\n",
      "Creating raw.info structure...\n",
      "Reading 0 ... 2018174  =      0.000 ...  1009.087 secs...\n",
      "C:\\Users\\ICN_admin\\Dropbox (Brain Modulation Lab)\\Shared Lab Folders\\CRCNS\\PD_ButtonPress\\sub-FOG013\\ses-postimp\\ieeg\\sub-FOG013_ses-postimp_task-restingSit_run-01_ieeg.edf\n",
      "Extracting EDF parameters from C:\\Users\\ICN_admin\\Dropbox (Brain Modulation Lab)\\Shared Lab Folders\\CRCNS\\PD_ButtonPress\\sub-FOG013\\ses-postimp\\ieeg\\sub-FOG013_ses-postimp_task-buttonPress_run-01_ieeg.edf...\n",
      "EDF file detected\n",
      "Setting channel info structure...\n",
      "Creating raw.info structure...\n",
      "Reading 0 ... 2018174  =      0.000 ...  1009.087 secs...\n",
      "C:\\Users\\ICN_admin\\Dropbox (Brain Modulation Lab)\\Shared Lab Folders\\CRCNS\\PD_ButtonPress\\sub-FOGC001\\ses-postimp\\ieeg\\sub-FOGC001_ses-postimp_task-buttonPress_run-01_ieeg.edf\n",
      "Extracting EDF parameters from C:\\Users\\ICN_admin\\Dropbox (Brain Modulation Lab)\\Shared Lab Folders\\CRCNS\\PD_ButtonPress\\sub-FOG013\\ses-postimp\\ieeg\\sub-FOG013_ses-postimp_task-buttonPress_run-01_ieeg.edf...\n",
      "EDF file detected\n",
      "Setting channel info structure...\n",
      "Creating raw.info structure...\n",
      "Reading 0 ... 2018174  =      0.000 ...  1009.087 secs...\n",
      "C:\\Users\\ICN_admin\\Dropbox (Brain Modulation Lab)\\Shared Lab Folders\\CRCNS\\PD_ButtonPress\\sub-FOGC001\\ses-postimp\\ieeg\\sub-FOGC001_ses-postimp_task-resting_run-01_ieeg.edf\n",
      "Extracting EDF parameters from C:\\Users\\ICN_admin\\Dropbox (Brain Modulation Lab)\\Shared Lab Folders\\CRCNS\\PD_ButtonPress\\sub-FOG013\\ses-postimp\\ieeg\\sub-FOG013_ses-postimp_task-buttonPress_run-01_ieeg.edf...\n",
      "EDF file detected\n",
      "Setting channel info structure...\n",
      "Creating raw.info structure...\n",
      "Reading 0 ... 2018174  =      0.000 ...  1009.087 secs...\n"
     ]
    }
   ],
   "source": [
    "for edf_file in edf_files:\n",
    "    print(edf_file)\n",
    "    raw = mne.io.read_raw_edf(edf_files[8], preload=True)\n",
    "    if \"buttonPress\" not in edf_files[1]:\n",
    "        continue\n",
    "    raw = mne.io.read_raw_edf(edf_file, preload=True)\n",
    "    info = mne.create_info([\"POL DC10 clean\"], raw.info[\"sfreq\"], ch_types='emg')\n",
    "    raw_clean = mne.io.RawArray(np.expand_dims(ch_clean, axis=0), info)\n",
    "    raw.add_channels([raw_clean.pick(\"POL DC10 clean\")])\n",
    "    raw.save(edf_file, overwrite=True)"
   ]
  },
  {
   "cell_type": "code",
   "execution_count": null,
   "metadata": {},
   "outputs": [],
   "source": []
  }
 ],
 "metadata": {
  "kernelspec": {
   "display_name": "Python 3",
   "language": "python",
   "name": "python3"
  },
  "language_info": {
   "codemirror_mode": {
    "name": "ipython",
    "version": 3
   },
   "file_extension": ".py",
   "mimetype": "text/x-python",
   "name": "python",
   "nbconvert_exporter": "python",
   "pygments_lexer": "ipython3",
   "version": "3.7.4"
  }
 },
 "nbformat": 4,
 "nbformat_minor": 2
}
