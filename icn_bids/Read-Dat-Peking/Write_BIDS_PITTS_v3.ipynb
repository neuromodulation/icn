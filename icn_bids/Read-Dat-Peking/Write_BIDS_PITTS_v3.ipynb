{
 "cells": [
  {
   "cell_type": "code",
   "execution_count": 1,
   "metadata": {},
   "outputs": [],
   "source": [
    "import mne\n",
    "import pybv\n",
    "import mne_bids #version 0.6\n",
    "import os\n",
    "import numpy as np\n",
    "from matplotlib import pyplot as plt\n",
    "import scipy\n",
    "import re #to change any characters in strings"
   ]
  },
  {
   "cell_type": "code",
   "execution_count": 2,
   "metadata": {},
   "outputs": [],
   "source": [
    "from IPython.core.interactiveshell import InteractiveShell\n",
    "InteractiveShell.ast_node_interactivity = \"all\""
   ]
  },
  {
   "cell_type": "code",
   "execution_count": 56,
   "metadata": {},
   "outputs": [
    {
     "ename": "IndentationError",
     "evalue": "unexpected indent (<ipython-input-56-f1e034e0b8bf>, line 5)",
     "output_type": "error",
     "traceback": [
      "\u001b[1;36m  File \u001b[1;32m\"<ipython-input-56-f1e034e0b8bf>\"\u001b[1;36m, line \u001b[1;32m5\u001b[0m\n\u001b[1;33m    def _check_ch_name_length(self):\u001b[0m\n\u001b[1;37m    ^\u001b[0m\n\u001b[1;31mIndentationError\u001b[0m\u001b[1;31m:\u001b[0m unexpected indent\n"
     ]
    }
   ],
   "source": [
    "import inspect\n",
    "print(inspect.getsourcefile(mne))\n",
    "#problem with too long channel names\n",
    "#change mne/io/meas_info.py definition _check_ch_name_length number 15 to number 25\n",
    "    def _check_ch_name_length(self):\n",
    "        \"\"\"Check that channel names are sufficiently short.\"\"\"\n",
    "        bad_names = list()\n",
    "        for ch in self['chs']:\n",
    "            if len(ch['ch_name']) > 25:\n",
    "                bad_names.append(ch['ch_name'])\n",
    "                ch['ch_name'] = ch['ch_name'][:25]\n",
    "        if len(bad_names) > 0:\n",
    "            warn('%d channel names are too long, have been truncated to 25 '\n",
    "                 'characters:\\n%s' % (len(bad_names), bad_names))\n",
    "            self._update_redundant()"
   ]
  },
  {
   "cell_type": "markdown",
   "metadata": {},
   "source": [
    "requirements for a function to write BIDS: \n",
    "1. data \n",
    "2. channel names (maybe wrapper for those channel names)\n",
    "3. BIDS specifications: (BIDS_path, subject_id, session, task, run)\n",
    "    \n",
    " - BIDS need to be written into brainvision! \n"
   ]
  },
  {
   "cell_type": "markdown",
   "metadata": {},
   "source": [
    " save raw file since spm files \n",
    " 1. cannot be read in python \n",
    " 2. .dat files are read as raw_byte streams (not in array shapes) \n",
    " 3. there exists no spm eeg python reader, and the file_array type in \n",
    " Matlab is of SPM type "
   ]
  },
  {
   "cell_type": "markdown",
   "metadata": {},
   "source": [
    "### read .mat struct files"
   ]
  },
  {
   "cell_type": "code",
   "execution_count": 3,
   "metadata": {},
   "outputs": [],
   "source": [
    "#from https://stackoverflow.com/questions/7008608/scipy-io-loadmat-nested-structures-i-e-dictionaries\n",
    "import scipy.io as spio\n",
    "\n",
    "def loadmat(filename):\n",
    "    '''\n",
    "    this function should be called instead of direct spio.loadmat\n",
    "    as it cures the problem of not properly recovering python dictionaries\n",
    "    from mat files. It calls the function check keys to cure all entries\n",
    "    which are still mat-objects\n",
    "    '''\n",
    "    data = spio.loadmat(filename, struct_as_record=False, squeeze_me=True)\n",
    "    return _check_keys(data)\n",
    "\n",
    "def _check_keys(dict):\n",
    "    '''\n",
    "    checks if entries in dictionary are mat-objects. If yes\n",
    "    todict is called to change them to nested dictionaries\n",
    "    '''\n",
    "    for key in dict:\n",
    "        if isinstance(dict[key], spio.matlab.mio5_params.mat_struct):\n",
    "            dict[key] = _todict(dict[key])\n",
    "    return dict        \n",
    "\n",
    "def _todict(matobj):\n",
    "    '''\n",
    "    A recursive function which constructs from matobjects nested dictionaries\n",
    "    '''\n",
    "    dict = {}\n",
    "    for strg in matobj._fieldnames:\n",
    "        elem = matobj.__dict__[strg]\n",
    "        if isinstance(elem, spio.matlab.mio5_params.mat_struct):\n",
    "            dict[strg] = _todict(elem)\n",
    "        else:\n",
    "            dict[strg] = elem\n",
    "    return dict"
   ]
  },
  {
   "cell_type": "markdown",
   "metadata": {},
   "source": [
    "### sub002"
   ]
  },
  {
   "cell_type": "code",
   "execution_count": 4,
   "metadata": {},
   "outputs": [
    {
     "name": "stdout",
     "output_type": "stream",
     "text": [
      "The current working directory is:\n",
      "C:\\Users\\Jonathan\\Documents\\DATA\\Python\\ScriptsPITT\\from_icn_master\n"
     ]
    }
   ],
   "source": [
    "cwd=os.getcwd()\n",
    "print(\"The current working directory is:\")\n",
    "print(cwd)"
   ]
  },
  {
   "cell_type": "code",
   "execution_count": 5,
   "metadata": {},
   "outputs": [
    {
     "name": "stdout",
     "output_type": "stream",
     "text": [
      "The current working directory is:\n",
      "C:\\Users\\Jonathan\\Documents\\DATA\\PROJECT_Pitt\n"
     ]
    }
   ],
   "source": [
    "locationPITTS=\"C:\\\\Users\\\\Jonathan\\\\Documents\\\\DATA\\\\PROJECT_Pitt\"\n",
    "os.chdir(locationPITTS)\n",
    "cwd=os.getcwd()\n",
    "print(\"The current working directory is:\")\n",
    "print(cwd)"
   ]
  },
  {
   "cell_type": "code",
   "execution_count": 6,
   "metadata": {},
   "outputs": [],
   "source": [
    "subjectfilename=(\n",
    "'BIDS_struct_saveDBS3003_ft_raw_post_task_ecogdbs.mat',\t\n",
    "'BIDS_struct_saveDBS3003_ft_raw_pre_task_ecogdbs.mat',\t\n",
    "'BIDS_struct_saveDBS3006_ft_raw_pre_task_ecogdbs.mat',\t\n",
    "'BIDS_struct_saveDBS3011_ft_raw_pre_task_ecogdbs.mat',\t\n",
    "'BIDS_struct_saveDBS3014_ft_raw_pre_task_ecogdbs.mat',\t\n",
    "'BIDS_struct_saveDBS3015_ft_raw_post_task_ecogdbs.mat',\t\n",
    "'BIDS_struct_saveDBS3015_ft_raw_pre_task_ecogdbs.mat',\t\n",
    "'BIDS_struct_saveDBS3016_ft_raw_baseline_ecogdbs.mat',\t\n",
    "'BIDS_struct_saveDBS3017_ft_raw_resting_left_ecogdbs.mat',\t\n",
    "'BIDS_struct_saveDBS3018_ft_raw_post_task_ecogdbs.mat',\t\n",
    "'BIDS_struct_saveDBS3018_ft_raw_pre_task_ecogdbs.mat',\t\n",
    "'BIDS_struct_saveDBS3022_ft_raw_pre_task_ecogdbs.mat',\t\n",
    "'BIDS_struct_saveDBS3026_ft_raw_resting_ecogdbs.mat',\t\n",
    "'BIDS_struct_saveDBS3030_ft_raw_resting_bilateral_ecogdbs.mat',\t\n",
    "'BIDS_struct_saveDBS3030_ft_raw_resting_left_ecogdbs.mat',\t\n",
    "'BIDS_struct_saveDBS3031_ft_raw_resting_bilateral_dbs.mat',\t\n",
    "'BIDS_struct_saveDBS3031_ft_raw_resting_left_ecogdbs.mat',\t\n",
    "'BIDS_struct_saveDBS3032_ft_raw_resting_bilateral_ecogdbs.mat',\t\n",
    "'BIDS_struct_saveDBS3032_ft_raw_resting_left_ecogdbs.mat'\n",
    ")"
   ]
  },
  {
   "cell_type": "markdown",
   "metadata": {},
   "source": [
    "#### run BIDS_save_480NI57_REST_MEDON-20200130T111458.DATA.mat"
   ]
  },
  {
   "cell_type": "code",
   "execution_count": 7,
   "metadata": {},
   "outputs": [
    {
     "name": "stdout",
     "output_type": "stream",
     "text": [
      "BIDS_struct_saveDBS3003_ft_raw_post_task_ecogdbs.mat\n",
      "BIDS_struct_saveDBS3003_ft_raw_pre_task_ecogdbs.mat\n",
      "BIDS_struct_saveDBS3006_ft_raw_pre_task_ecogdbs.mat\n",
      "BIDS_struct_saveDBS3011_ft_raw_pre_task_ecogdbs.mat\n",
      "BIDS_struct_saveDBS3014_ft_raw_pre_task_ecogdbs.mat\n",
      "BIDS_struct_saveDBS3015_ft_raw_post_task_ecogdbs.mat\n",
      "BIDS_struct_saveDBS3015_ft_raw_pre_task_ecogdbs.mat\n",
      "BIDS_struct_saveDBS3016_ft_raw_baseline_ecogdbs.mat\n",
      "BIDS_struct_saveDBS3017_ft_raw_resting_left_ecogdbs.mat\n",
      "BIDS_struct_saveDBS3018_ft_raw_post_task_ecogdbs.mat\n",
      "BIDS_struct_saveDBS3018_ft_raw_pre_task_ecogdbs.mat\n",
      "BIDS_struct_saveDBS3022_ft_raw_pre_task_ecogdbs.mat\n",
      "BIDS_struct_saveDBS3026_ft_raw_resting_ecogdbs.mat\n",
      "BIDS_struct_saveDBS3030_ft_raw_resting_bilateral_ecogdbs.mat\n",
      "BIDS_struct_saveDBS3030_ft_raw_resting_left_ecogdbs.mat\n",
      "BIDS_struct_saveDBS3031_ft_raw_resting_bilateral_dbs.mat\n",
      "BIDS_struct_saveDBS3031_ft_raw_resting_left_ecogdbs.mat\n",
      "BIDS_struct_saveDBS3032_ft_raw_resting_bilateral_ecogdbs.mat\n",
      "BIDS_struct_saveDBS3032_ft_raw_resting_left_ecogdbs.mat\n"
     ]
    }
   ],
   "source": [
    "for subject in subjectfilename:\n",
    "    print(subject)\n"
   ]
  },
  {
   "cell_type": "code",
   "execution_count": 194,
   "metadata": {},
   "outputs": [],
   "source": [
    "subject=subjectfilename[0]\n",
    "dat = loadmat(locationPITTS + os.sep + subject)"
   ]
  },
  {
   "cell_type": "code",
   "execution_count": 186,
   "metadata": {},
   "outputs": [
    {
     "name": "stdout",
     "output_type": "stream",
     "text": [
      "subject_id: 3032 session: 001 task: ftrawrestingleftecogdbs run: 0 fsample: 1000\n"
     ]
    }
   ],
   "source": [
    "subject_id=dat[\"BIDS_struct_save\"][\"subject_id\"]\n",
    "session=dat[\"BIDS_struct_save\"][\"session\"]\n",
    "task=re.sub('[_/-]', '', dat[\"BIDS_struct_save\"][\"task\"])\n",
    "\n",
    "run=dat[\"BIDS_struct_save\"][\"run\"]\n",
    "fsample=dat[\"BIDS_struct_save\"][\"fsample\"]\n",
    "ieegdata=dat[\"BIDS_struct_save\"][\"data\"]\n",
    "BIDS_path=locationPITTS + os.sep + \"BIDS\"\n",
    "print(\"subject_id:\", subject_id, \"session:\", session,\"task:\", task, \"run:\", run, \"fsample:\", fsample)"
   ]
  },
  {
   "cell_type": "code",
   "execution_count": 187,
   "metadata": {},
   "outputs": [
    {
     "data": {
      "text/plain": [
       "(134, 91284)"
      ]
     },
     "execution_count": 187,
     "metadata": {},
     "output_type": "execute_result"
    }
   ],
   "source": [
    "dat[\"BIDS_struct_save\"][\"data\"].shape"
   ]
  },
  {
   "cell_type": "code",
   "execution_count": 188,
   "metadata": {
    "scrolled": true
   },
   "outputs": [
    {
     "data": {
      "text/plain": [
       "['ECOG_PMT_SMC_L_1',\n",
       " 'ECOG_PMT_SMC_L_2',\n",
       " 'ECOG_PMT_SMC_L_3',\n",
       " 'ECOG_PMT_SMC_L_4',\n",
       " 'ECOG_PMT_SMC_L_5',\n",
       " 'ECOG_PMT_SMC_L_6',\n",
       " 'ECOG_PMT_SMC_L_7',\n",
       " 'ECOG_PMT_SMC_L_8',\n",
       " 'ECOG_PMT_SMC_L_9',\n",
       " 'ECOG_PMT_SMC_L_10',\n",
       " 'ECOG_PMT_SMC_L_11',\n",
       " 'ECOG_PMT_SMC_L_12',\n",
       " 'ECOG_PMT_SMC_L_13',\n",
       " 'ECOG_PMT_SMC_L_14',\n",
       " 'ECOG_PMT_SMC_L_15',\n",
       " 'ECOG_PMT_SMC_L_16',\n",
       " 'ECOG_PMT_SMC_L_17',\n",
       " 'ECOG_PMT_SMC_L_18',\n",
       " 'ECOG_PMT_SMC_L_19',\n",
       " 'ECOG_PMT_SMC_L_20',\n",
       " 'ECOG_PMT_SMC_L_21',\n",
       " 'ECOG_PMT_SMC_L_22',\n",
       " 'ECOG_PMT_SMC_L_23',\n",
       " 'ECOG_PMT_SMC_L_24',\n",
       " 'ECOG_PMT_SMC_L_25',\n",
       " 'ECOG_PMT_SMC_L_26',\n",
       " 'ECOG_PMT_SMC_L_27',\n",
       " 'ECOG_PMT_SMC_L_28',\n",
       " 'ECOG_PMT_SMC_L_29',\n",
       " 'ECOG_PMT_SMC_L_30',\n",
       " 'ECOG_PMT_SMC_L_31',\n",
       " 'ECOG_PMT_SMC_L_32',\n",
       " 'ECOG_PMT_SMC_L_33',\n",
       " 'ECOG_PMT_SMC_L_34',\n",
       " 'ECOG_PMT_SMC_L_35',\n",
       " 'ECOG_PMT_SMC_L_36',\n",
       " 'ECOG_PMT_SMC_L_37',\n",
       " 'ECOG_PMT_SMC_L_38',\n",
       " 'ECOG_PMT_SMC_L_39',\n",
       " 'ECOG_PMT_SMC_L_40',\n",
       " 'ECOG_PMT_SMC_L_41',\n",
       " 'ECOG_PMT_SMC_L_42',\n",
       " 'ECOG_PMT_SMC_L_43',\n",
       " 'ECOG_PMT_SMC_L_44',\n",
       " 'ECOG_PMT_SMC_L_45',\n",
       " 'ECOG_PMT_SMC_L_46',\n",
       " 'ECOG_PMT_SMC_L_47',\n",
       " 'ECOG_PMT_SMC_L_48',\n",
       " 'ECOG_PMT_SMC_L_49',\n",
       " 'ECOG_PMT_SMC_L_50',\n",
       " 'ECOG_PMT_SMC_L_51',\n",
       " 'ECOG_PMT_SMC_L_52',\n",
       " 'ECOG_PMT_SMC_L_53',\n",
       " 'ECOG_PMT_SMC_L_54',\n",
       " 'ECOG_PMT_SMC_L_55',\n",
       " 'ECOG_PMT_SMC_L_56',\n",
       " 'ECOG_PMT_SMC_L_57',\n",
       " 'ECOG_PMT_SMC_L_58',\n",
       " 'ECOG_PMT_SMC_L_59',\n",
       " 'ECOG_PMT_SMC_L_60',\n",
       " 'ECOG_PMT_SMC_L_61',\n",
       " 'ECOG_PMT_SMC_L_62',\n",
       " 'ECOG_PMT_SMC_L_63',\n",
       " 'ECOG_PMT_BROCA_L_1',\n",
       " 'ECOG_PMT_BROCA_L_2',\n",
       " 'ECOG_PMT_BROCA_L_3',\n",
       " 'ECOG_PMT_BROCA_L_4',\n",
       " 'ECOG_PMT_BROCA_L_5',\n",
       " 'ECOG_PMT_BROCA_L_6',\n",
       " 'ECOG_PMT_BROCA_L_7',\n",
       " 'ECOG_PMT_BROCA_L_8',\n",
       " 'ECOG_PMT_BROCA_L_9',\n",
       " 'ECOG_PMT_BROCA_L_10',\n",
       " 'ECOG_PMT_BROCA_L_11',\n",
       " 'ECOG_PMT_BROCA_L_12',\n",
       " 'ECOG_PMT_BROCA_L_13',\n",
       " 'ECOG_PMT_BROCA_L_14',\n",
       " 'ECOG_PMT_BROCA_L_15',\n",
       " 'ECOG_PMT_BROCA_L_16',\n",
       " 'ECOG_PMT_BROCA_L_17',\n",
       " 'ECOG_PMT_BROCA_L_18',\n",
       " 'ECOG_PMT_BROCA_L_19',\n",
       " 'ECOG_PMT_BROCA_L_20',\n",
       " 'ECOG_PMT_BROCA_L_21',\n",
       " 'ECOG_PMT_BROCA_L_22',\n",
       " 'ECOG_PMT_BROCA_L_23',\n",
       " 'ECOG_PMT_BROCA_L_24',\n",
       " 'ECOG_PMT_BROCA_L_25',\n",
       " 'ECOG_PMT_BROCA_L_26',\n",
       " 'ECOG_PMT_BROCA_L_27',\n",
       " 'ECOG_PMT_BROCA_L_28',\n",
       " 'ECOG_PMT_BROCA_L_29',\n",
       " 'ECOG_PMT_BROCA_L_30',\n",
       " 'ECOG_PMT_BROCA_L_31',\n",
       " 'ECOG_PMT_BROCA_L_32',\n",
       " 'ECOG_PMT_BROCA_L_33',\n",
       " 'ECOG_PMT_BROCA_L_34',\n",
       " 'ECOG_PMT_BROCA_L_35',\n",
       " 'ECOG_PMT_BROCA_L_36',\n",
       " 'ECOG_PMT_BROCA_L_37',\n",
       " 'ECOG_PMT_BROCA_L_38',\n",
       " 'ECOG_PMT_BROCA_L_39',\n",
       " 'ECOG_PMT_BROCA_L_40',\n",
       " 'ECOG_PMT_BROCA_L_41',\n",
       " 'ECOG_PMT_BROCA_L_42',\n",
       " 'ECOG_PMT_BROCA_L_43',\n",
       " 'ECOG_PMT_BROCA_L_44',\n",
       " 'ECOG_PMT_BROCA_L_45',\n",
       " 'ECOG_PMT_BROCA_L_46',\n",
       " 'ECOG_PMT_BROCA_L_47',\n",
       " 'ECOG_PMT_BROCA_L_48',\n",
       " 'ECOG_PMT_BROCA_L_49',\n",
       " 'ECOG_PMT_BROCA_L_50',\n",
       " 'ECOG_PMT_BROCA_L_51',\n",
       " 'ECOG_PMT_BROCA_L_52',\n",
       " 'ECOG_PMT_BROCA_L_53',\n",
       " 'ECOG_PMT_BROCA_L_54',\n",
       " 'ECOG_PMT_BROCA_L_55',\n",
       " 'ECOG_PMT_BROCA_L_56',\n",
       " 'ECOG_PMT_BROCA_L_57',\n",
       " 'ECOG_PMT_BROCA_L_58',\n",
       " 'ECOG_PMT_BROCA_L_59',\n",
       " 'ECOG_PMT_BROCA_L_60',\n",
       " 'ECOG_PMT_BROCA_L_61',\n",
       " 'ECOG_PMT_BROCA_L_62',\n",
       " 'ECOG_PMT_BROCA_L_63',\n",
       " 'LFP_SJM_STN_L_1',\n",
       " 'LFP_SJM_STN_L_2',\n",
       " 'LFP_SJM_STN_L_3',\n",
       " 'LFP_SJM_STN_L_4',\n",
       " 'LFP_SJM_STN_L_5',\n",
       " 'LFP_SJM_STN_L_6',\n",
       " 'LFP_SJM_STN_L_7',\n",
       " 'LFP_SJM_STN_L_8']"
      ]
     },
     "execution_count": 188,
     "metadata": {},
     "output_type": "execute_result"
    }
   ],
   "source": [
    "ch_labels=list(dat[\"BIDS_struct_save\"][\"labels\"])\n",
    "list(dat[\"BIDS_struct_save\"][\"labels\"])"
   ]
  },
  {
   "cell_type": "code",
   "execution_count": 189,
   "metadata": {},
   "outputs": [
    {
     "data": {
      "text/plain": [
       "(91284,)"
      ]
     },
     "execution_count": 189,
     "metadata": {},
     "output_type": "execute_result"
    }
   ],
   "source": [
    "dat[\"BIDS_struct_save\"][\"data\"][0,:].shape"
   ]
  },
  {
   "cell_type": "code",
   "execution_count": 190,
   "metadata": {},
   "outputs": [
    {
     "data": {
      "text/plain": [
       "[<matplotlib.lines.Line2D at 0x1bb20d4b760>]"
      ]
     },
     "execution_count": 190,
     "metadata": {},
     "output_type": "execute_result"
    },
    {
     "data": {
      "text/plain": [
       "[<matplotlib.lines.Line2D at 0x1bb20d42670>]"
      ]
     },
     "execution_count": 190,
     "metadata": {},
     "output_type": "execute_result"
    },
    {
     "data": {
      "text/plain": [
       "<matplotlib.legend.Legend at 0x1bb20d4b5e0>"
      ]
     },
     "execution_count": 190,
     "metadata": {},
     "output_type": "execute_result"
    },
    {
     "data": {
      "text/plain": [
       "Text(0.5, 0, 'Time [s]')"
      ]
     },
     "execution_count": 190,
     "metadata": {},
     "output_type": "execute_result"
    },
    {
     "data": {
      "image/png": "[encoded data removed]",
      "text/plain": [
       "<Figure size 432x288 with 1 Axes>"
      ]
     },
     "metadata": {
      "needs_background": "light"
     },
     "output_type": "display_data"
    }
   ],
   "source": [
    "time_ = np.arange(0, dat[\"BIDS_struct_save\"][\"data\"][0,:].shape[0],1)*1/fsample\n",
    "plt.plot(time_,dat[\"BIDS_struct_save\"][\"data\"][0,:], label=dat[\"BIDS_struct_save\"][\"labels\"][0])\n",
    "plt.plot(time_,dat[\"BIDS_struct_save\"][\"data\"][1,:], label=dat[\"BIDS_struct_save\"][\"labels\"][1])\n",
    "plt.legend()\n",
    "plt.xlabel(\"Time [s]\")"
   ]
  },
  {
   "cell_type": "code",
   "execution_count": 191,
   "metadata": {},
   "outputs": [
    {
     "name": "stdout",
     "output_type": "stream",
     "text": [
      "Creating RawArray with float64 data, n_channels=134, n_times=91284\n",
      "    Range : 0 ... 91283 =      0.000 ...    91.283 secs\n",
      "Ready.\n",
      "ECoG channel type selected for re-referencing\n",
      "EEG data marked as already having the desired reference.\n"
     ]
    },
    {
     "data": {
      "text/plain": [
       "<RawArray | 134 x 91284 (91.3 s), ~93.6 MB, data loaded>"
      ]
     },
     "execution_count": 191,
     "metadata": {},
     "output_type": "execute_result"
    },
    {
     "name": "stdout",
     "output_type": "stream",
     "text": [
      "Extracting parameters from dummy_write.vhdr...\n",
      "Setting channel info structure...\n"
     ]
    },
    {
     "data": {
      "text/plain": [
       "<RawBrainVision | dummy_write.eeg, 134 x 91284 (91.3 s), ~256 kB, data not loaded>"
      ]
     },
     "execution_count": 191,
     "metadata": {},
     "output_type": "execute_result"
    }
   ],
   "source": [
    "info = mne.create_info(ch_labels, fsample, ch_types='ecog')\n",
    "raw = mne.io.RawArray(ieegdata, info)\n",
    "raw.set_eeg_reference(ref_channels=[]) # idea to set this writing out BIDS with rereference field \n",
    "\n",
    "#bids_basename = mne_bids.make_bids_basename(subject=subject_id, session=session, \\\n",
    "#                                            task=task, run=run)\n",
    "bids_basename = mne_bids.BIDSPath(subject=subject_id, session=session, \\\n",
    "                                            task=task, run=run, root=BIDS_path)\n",
    "pybv.write_brainvision(data=ieegdata, sfreq=fsample, ch_names=ch_labels, fname_base='dummy_write', folder_out=os.getcwd())\n",
    "\n",
    "bv_raw = mne.io.read_raw_brainvision('dummy_write.vhdr')\n",
    "\n",
    "# set all channel types to ECOG for iEEG - BIDS does not allow more than one channel type\n",
    "mapping = {}\n",
    "for ch in range(len(bv_raw.info['ch_names'])):\n",
    "    mapping[bv_raw.info['ch_names'][ch]] = 'ecog'\n",
    "bv_raw.set_channel_types(mapping)"
   ]
  },
  {
   "cell_type": "code",
   "execution_count": 192,
   "metadata": {
    "scrolled": true
   },
   "outputs": [
    {
     "name": "stdout",
     "output_type": "stream",
     "text": [
      "Extracting parameters from C:\\Users\\Jonathan\\Documents\\DATA\\PROJECT_Pitt\\dummy_write.vhdr...\n",
      "Setting channel info structure...\n",
      "\n",
      "Writing 'C:\\Users\\Jonathan\\Documents\\DATA\\PROJECT_Pitt\\BIDS\\participants.tsv'...\n",
      "\n",
      "participant_id\tage\tsex\thand\n",
      "sub-3003\tn/a\tn/a\tn/a\n",
      "sub-3006\tn/a\tn/a\tn/a\n",
      "sub-3011\tn/a\tn/a\tn/a\n",
      "sub-3014\tn/a\tn/a\tn/a\n",
      "sub-3015\tn/a\tn/a\tn/a\n",
      "\n",
      "Writing 'C:\\Users\\Jonathan\\Documents\\DATA\\PROJECT_Pitt\\BIDS\\participants.json'...\n",
      "\n",
      "{\n",
      "    \"participant_id\": {\n",
      "        \"Description\": \"Unique participant identifier\"\n",
      "    },\n",
      "    \"age\": {\n",
      "        \"Description\": \"Age of the participant at time of testing\",\n",
      "        \"Units\": \"years\"\n",
      "    },\n",
      "    \"sex\": {\n",
      "        \"Description\": \"Biological sex of the participant\",\n",
      "        \"Levels\": {\n",
      "            \"F\": \"female\",\n",
      "            \"M\": \"male\"\n",
      "        }\n",
      "    },\n",
      "    \"hand\": {\n",
      "        \"Description\": \"Handedness of the participant\",\n",
      "        \"Levels\": {\n",
      "            \"R\": \"right\",\n",
      "            \"L\": \"left\",\n",
      "            \"A\": \"ambidextrous\"\n",
      "        }\n",
      "    }\n",
      "}\n",
      "\n",
      "Writing 'C:\\Users\\Jonathan\\Documents\\DATA\\PROJECT_Pitt\\BIDS\\dataset_description.json'...\n",
      "\n",
      "{\n",
      "    \"Name\": \" \",\n",
      "    \"BIDSVersion\": \"1.4.0\",\n",
      "    \"DatasetType\": \"raw\",\n",
      "    \"Authors\": [\n",
      "        \"Please cite MNE-BIDS in your publication before removing this (citations in README)\"\n",
      "    ]\n",
      "}\n",
      "\n",
      "Writing 'C:\\Users\\Jonathan\\Documents\\DATA\\PROJECT_Pitt\\BIDS\\sub-3032\\ses-001\\ieeg\\sub-3032_ses-001_task-ftrawrestingleftecogdbs_run-0_ieeg.json'...\n",
      "\n",
      "{\n",
      "    \"TaskName\": \"ftrawrestingleftecogdbs\",\n",
      "    \"Manufacturer\": \"BrainProducts\",\n",
      "    \"PowerLineFrequency\": 60,\n",
      "    \"SamplingFrequency\": 1000.0,\n",
      "    \"SoftwareFilters\": \"n/a\",\n",
      "    \"RecordingDuration\": 91.283,\n",
      "    \"RecordingType\": \"continuous\",\n",
      "    \"iEEGReference\": \"n/a\",\n",
      "    \"ECOGChannelCount\": 134,\n",
      "    \"SEEGChannelCount\": 0,\n",
      "    \"EEGChannelCount\": 0,\n",
      "    \"EOGChannelCount\": 0,\n",
      "    \"ECGChannelCount\": 0,\n",
      "    \"EMGChannelCount\": 0,\n",
      "    \"MiscChannelCount\": 0,\n",
      "    \"TriggerChannelCount\": 0\n",
      "}\n",
      "\n",
      "Writing 'C:\\Users\\Jonathan\\Documents\\DATA\\PROJECT_Pitt\\BIDS\\sub-3032\\ses-001\\ieeg\\sub-3032_ses-001_task-ftrawrestingleftecogdbs_run-0_channels.tsv'...\n",
      "\n",
      "name\ttype\tunits\tlow_cutoff\thigh_cutoff\tdescription\tsampling_frequency\tstatus\tstatus_description\n",
      "ECOG_PMT_SMC_L_1\tECOG\tµV\t0.0\t500.0\tElectrocorticography\t1000.0\tgood\tn/a\n",
      "ECOG_PMT_SMC_L_2\tECOG\tµV\t0.0\t500.0\tElectrocorticography\t1000.0\tgood\tn/a\n",
      "ECOG_PMT_SMC_L_3\tECOG\tµV\t0.0\t500.0\tElectrocorticography\t1000.0\tgood\tn/a\n",
      "ECOG_PMT_SMC_L_4\tECOG\tµV\t0.0\t500.0\tElectrocorticography\t1000.0\tgood\tn/a\n",
      "ECOG_PMT_SMC_L_5\tECOG\tµV\t0.0\t500.0\tElectrocorticography\t1000.0\tgood\tn/a\n",
      "Copying data files to sub-3032_ses-001_task-ftrawrestingleftecogdbs_run-0_ieeg.vhdr\n",
      "\n",
      "Writing 'C:\\Users\\Jonathan\\Documents\\DATA\\PROJECT_Pitt\\BIDS\\sub-3032\\ses-001\\sub-3032_ses-001_scans.tsv'...\n",
      "\n",
      "filename\tacq_time\n",
      "ieeg/sub-3032_ses-001_task-ftrawrestingbilateralecogdbs_run-0_ieeg.vhdr\tn/a\n",
      "ieeg/sub-3032_ses-001_task-ftrawrestingleftecogdbs_run-0_ieeg.vhdr\tn/a\n",
      "Wrote C:\\Users\\Jonathan\\Documents\\DATA\\PROJECT_Pitt\\BIDS\\sub-3032\\ses-001\\sub-3032_ses-001_scans.tsv entry with ieeg\\sub-3032_ses-001_task-ftrawrestingleftecogdbs_run-0_ieeg.vhdr.\n"
     ]
    },
    {
     "name": "stderr",
     "output_type": "stream",
     "text": [
      "<ipython-input-192-266549b2f0cc>:2: RuntimeWarning: No events found or provided. Please make sure to set channel type using raw.set_channel_types or provide events_data.\n",
      "  mne_bids.write_raw_bids(bv_raw, bids_path=bids_basename, overwrite=True)\n"
     ]
    },
    {
     "data": {
      "text/plain": [
       "BIDSPath(\n",
       "root: C:\\Users\\Jonathan\\Documents\\DATA\\PROJECT_Pitt\\BIDS\n",
       "datatype: ieeg\n",
       "basename: sub-3032_ses-001_task-ftrawrestingleftecogdbs_run-0_ieeg.vhdr)"
      ]
     },
     "execution_count": 192,
     "metadata": {},
     "output_type": "execute_result"
    }
   ],
   "source": [
    "bv_raw.info['line_freq'] = 60 #powerlinefrequency\n",
    "mne_bids.write_raw_bids(bv_raw, bids_path=bids_basename, overwrite=True)\n",
    "\n",
    "#  remove dummy file\n",
    "os.remove('dummy_write.vhdr')\n",
    "os.remove('dummy_write.eeg')\n",
    "os.remove('dummy_write.vmrk')"
   ]
  },
  {
   "cell_type": "code",
   "execution_count": null,
   "metadata": {},
   "outputs": [],
   "source": []
  },
  {
   "cell_type": "code",
   "execution_count": 200,
   "metadata": {},
   "outputs": [
    {
     "name": "stdout",
     "output_type": "stream",
     "text": [
      "Extracting parameters from sub-3003_ses-001_task-ftrawposttaskecogdbs_run-0_ieeg.vhdr...\n",
      "Setting channel info structure...\n"
     ]
    },
    {
     "data": {
      "text/plain": [
       "<RawBrainVision | sub-3003_ses-001_task-ftrawposttaskecogdbs_run-0_ieeg.eeg, 74 x 25998 (26.0 s), ~144 kB, data not loaded>"
      ]
     },
     "execution_count": 200,
     "metadata": {},
     "output_type": "execute_result"
    }
   ],
   "source": [
    "os.chdir(locationPITTS)\n",
    "mne.io.read_raw_brainvision(\"sub-3003_ses-001_task-ftrawposttaskecogdbs_run-0_ieeg.vhdr\")"
   ]
  },
  {
   "cell_type": "code",
   "execution_count": 222,
   "metadata": {},
   "outputs": [
    {
     "name": "stdout",
     "output_type": "stream",
     "text": [
      "Extracting parameters from C:\\Users\\Jonathan\\Documents\\DATA\\PROJECT_Pitt\\BIDS\\sub-3032\\ses-001\\ieeg\\sub-3032_ses-001_task-ftrawrestingleftecogdbs_run-0_ieeg.vhdr...\n",
      "Setting channel info structure...\n",
      "Reading channel info from C:\\Users\\Jonathan\\Documents\\DATA\\PROJECT_Pitt\\BIDS\\sub-3032\\ses-001\\ieeg\\sub-3032_ses-001_task-ftrawrestingleftecogdbs_run-0_channels.tsv.\n"
     ]
    },
    {
     "name": "stderr",
     "output_type": "stream",
     "text": [
      "<ipython-input-222-a60aa6361bea>:5: RuntimeWarning: Did not find any events.tsv associated with sub-3032_ses-001_task-ftrawrestingleftecogdbs_run-0.\n",
      "\n",
      "The search_str was \"C:\\Users\\Jonathan\\Documents\\DATA\\PROJECT_Pitt\\BIDS\\sub-3032\\**\\sub-3032_ses-001*events.tsv\"\n",
      "  raw = mne_bids.read_raw_bids(bids_path=bids_basename, verbose=False)\n",
      "<ipython-input-222-a60aa6361bea>:5: RuntimeWarning: Did not find any coordsystem.json associated with sub-3032_ses-001_task-ftrawrestingleftecogdbs_run-0.\n",
      "\n",
      "The search_str was \"C:\\Users\\Jonathan\\Documents\\DATA\\PROJECT_Pitt\\BIDS\\sub-3032\\**\\sub-3032_ses-001*coordsystem.json\"\n",
      "  raw = mne_bids.read_raw_bids(bids_path=bids_basename, verbose=False)\n"
     ]
    }
   ],
   "source": [
    "\n",
    "#from mne_bids import BIDSPath, read_raw_bids, print_dir_tree, make_report\n",
    "\n",
    "#bids_basename = mne_bids.BIDSPath(subject=subject_id, session=session, task=task, run=run, root=BIDS_path)\n",
    "\n",
    "raw = mne_bids.read_raw_bids(bids_path=bids_basename, verbose=False)"
   ]
  },
  {
   "cell_type": "code",
   "execution_count": 221,
   "metadata": {},
   "outputs": [
    {
     "name": "stdout",
     "output_type": "stream",
     "text": [
      "|BIDS\\\n",
      "|--- README\n",
      "|--- dataset_description.json\n",
      "|--- participants.json\n",
      "|--- participants.tsv\n",
      "|--- sub-3003\\\n",
      "|------ ses-001\\\n",
      "|--------- sub-3003_ses-001_scans.tsv\n",
      "|--------- ieeg\\\n",
      "|--- sub-3006\\\n",
      "|------ ses-001\\\n",
      "|--------- sub-3006_ses-001_scans.tsv\n",
      "|--------- ieeg\\\n",
      "|--- sub-3011\\\n",
      "|------ ses-001\\\n",
      "|--------- sub-3011_ses-001_scans.tsv\n",
      "|--------- ieeg\\\n",
      "|--- sub-3014\\\n",
      "|------ ses-001\\\n",
      "|--------- sub-3014_ses-001_scans.tsv\n",
      "|--------- ieeg\\\n",
      "|--- sub-3015\\\n",
      "|------ ses-001\\\n",
      "|--------- sub-3015_ses-001_scans.tsv\n",
      "|--------- ieeg\\\n",
      "|--- sub-3016\\\n",
      "|------ ses-001\\\n",
      "|--------- sub-3016_ses-001_scans.tsv\n",
      "|--------- ieeg\\\n",
      "|--- sub-3017\\\n",
      "|------ ses-001\\\n",
      "|--------- sub-3017_ses-001_scans.tsv\n",
      "|--------- ieeg\\\n",
      "|--- sub-3018\\\n",
      "|------ ses-001\\\n",
      "|--------- sub-3018_ses-001_scans.tsv\n",
      "|--------- ieeg\\\n",
      "|--- sub-3022\\\n",
      "|------ ses-001\\\n",
      "|--------- sub-3022_ses-001_scans.tsv\n",
      "|--------- ieeg\\\n",
      "|--- sub-3026\\\n",
      "|------ ses-001\\\n",
      "|--------- sub-3026_ses-001_scans.tsv\n",
      "|--------- ieeg\\\n",
      "|--- sub-3030\\\n",
      "|------ ses-001\\\n",
      "|--------- sub-3030_ses-001_scans.tsv\n",
      "|--------- ieeg\\\n",
      "|--- sub-3031\\\n",
      "|------ ses-001\\\n",
      "|--------- sub-3031_ses-001_scans.tsv\n",
      "|--------- ieeg\\\n",
      "|--- sub-3032\\\n",
      "|------ ses-001\\\n",
      "|--------- sub-3032_ses-001_scans.tsv\n",
      "|--------- ieeg\\\n"
     ]
    }
   ],
   "source": [
    "print_dir_tree(BIDS_path, max_depth=3)"
   ]
  },
  {
   "cell_type": "code",
   "execution_count": null,
   "metadata": {},
   "outputs": [],
   "source": [
    "\n",
    "\n",
    "\n",
    "\n",
    "\n",
    "\n",
    "\n",
    "\n",
    "\n",
    "\n",
    "\n",
    "\n",
    "\n",
    "\n",
    "\n",
    "\n",
    "\n",
    "\n",
    "\n",
    "\n",
    "\n",
    "\n",
    "\n"
   ]
  },
  {
   "cell_type": "code",
   "execution_count": null,
   "metadata": {},
   "outputs": [],
   "source": []
  },
  {
   "cell_type": "code",
   "execution_count": null,
   "metadata": {},
   "outputs": [],
   "source": []
  },
  {
   "cell_type": "code",
   "execution_count": null,
   "metadata": {},
   "outputs": [],
   "source": []
  },
  {
   "cell_type": "code",
   "execution_count": 8,
   "metadata": {},
   "outputs": [
    {
     "data": {
      "text/plain": [
       "Text(0.5, 0, 'Time [s]')"
      ]
     },
     "execution_count": 8,
     "metadata": {},
     "output_type": "execute_result"
    },
    {
     "data": {
      "image/png": "[encoded data removed]",
      "text/plain": [
       "<Figure size 432x288 with 1 Axes>"
      ]
     },
     "metadata": {
      "needs_background": "light"
     },
     "output_type": "display_data"
    }
   ],
   "source": [
    "time_ = np.arange(0, dat[\"BIDS_struct_save\"][\"data\"][26,:5000].shape[0],1)*1/fsample\n",
    "plt.plot(time_,dat[\"BIDS_struct_save\"][\"data\"][26,:5000], label='BIP 01')\n",
    "plt.plot(time_,dat[\"BIDS_struct_save\"][\"data\"][25,:5000], label='BIP 02')\n",
    "plt.legend()\n",
    "plt.xlabel(\"Time [s]\")"
   ]
  },
  {
   "cell_type": "code",
   "execution_count": 9,
   "metadata": {},
   "outputs": [],
   "source": [
    "ch_labels = [\"CREF\", \"LFP_BS_STN_R_1\", \"LFP_BS_STN_R_2\",\"LFP_BS_STN_R_3\",\"LFP_BS_STN_R_4\",\n",
    "          \"LFP_BS_STN_R_5\",\"LFP_BS_STN_R_6\",\"LFP_BS_STN_R_7\",\"LFP_BS_STN_R_8\",\n",
    "          \"LFP_BS_STN_L_1\", \"LFP_BS_STN_L_2\",\"LFP_BS_STN_L_3\",\"LFP_BS_STN_L_4\",\n",
    "          \"LFP_BS_STN_L_5\",\"LFP_BS_STN_L_6\",\"LFP_BS_STN_L_7\",\"LFP_BS_STN_L_8\",\n",
    "          \"EEG_TM_Cz__1\", \"EEG_TM_Cz__2\", \"ECOG_AT_SM_L_1\", \"ECOG_AT_SM_L_2\", \n",
    "           \"ECOG_AT_SM_L_3\", \"ECOG_AT_SM_L_4\", \"ECOG_AT_SM_L_5\", \"ECOG_AT_SM_L_6\",\n",
    "          \"EMG_TM_BR_R_1\", \"EMG_TM_BR_L_1\"]"
   ]
  },
  {
   "cell_type": "code",
   "execution_count": 10,
   "metadata": {},
   "outputs": [
    {
     "data": {
      "text/plain": [
       "4096"
      ]
     },
     "execution_count": 10,
     "metadata": {},
     "output_type": "execute_result"
    }
   ],
   "source": [
    "dat[\"BIDS_struct_save\"][\"fsample\"]"
   ]
  },
  {
   "cell_type": "code",
   "execution_count": 13,
   "metadata": {},
   "outputs": [],
   "source": [
    "BIDS_path = \"C:\\\\Users\\\\ICN_admin\\\\Documents\\\\WRITE_BERLIN_BIDS\\\\BIDS_Berlin\\\\\"\n",
    "subject_id = \"002\"\n",
    "session = \"20200130\"\n",
    "task = \"restMEDON20200130T111458\"\n",
    "run = \"0\"\n",
    "fsample = dat[\"BIDS_struct_save\"][\"fsample\"]\n",
    "ieegdata = dat[\"BIDS_struct_save\"][\"data\"]"
   ]
  },
  {
   "cell_type": "code",
   "execution_count": 31,
   "metadata": {},
   "outputs": [
    {
     "data": {
      "text/plain": [
       "<RawBrainVision | dummy_write.eeg, 27 x 1232738 (300.8 s), ~57 kB, data not loaded>"
      ]
     },
     "execution_count": 31,
     "metadata": {},
     "output_type": "execute_result"
    }
   ],
   "source": [
    "bv_raw"
   ]
  },
  {
   "cell_type": "code",
   "execution_count": 32,
   "metadata": {},
   "outputs": [
    {
     "data": {
      "text/plain": [
       "BIDSPath(\n",
       "root: C:\\Users\\ICN_admin\\Documents\\WRITE_BERLIN_BIDS\\BIDS_Berlin\n",
       "datatype: None\n",
       "basename: sub-002_ses-20200130_task-restMEDON20200130T111458_run-0)"
      ]
     },
     "execution_count": 32,
     "metadata": {},
     "output_type": "execute_result"
    }
   ],
   "source": [
    "bids_basename"
   ]
  },
  {
   "cell_type": "markdown",
   "metadata": {},
   "source": [
    "#### run 480NI57_REST_MEDON_AVGREF-20200130T112142.DATA"
   ]
  },
  {
   "cell_type": "code",
   "execution_count": 61,
   "metadata": {},
   "outputs": [],
   "source": [
    "dat = loadmat(\"sub002\\\\ses-20200130\\\\run_480NI57_REST_MEDON_AVGREF - 20200130T112142\\\\BIDS_save_480NI57_REST_MEDON_AVGREF-20200130T112142.DATA.mat\")"
   ]
  },
  {
   "cell_type": "code",
   "execution_count": 62,
   "metadata": {},
   "outputs": [],
   "source": [
    "BIDS_path = \"C:\\\\Users\\\\ICN_admin\\\\Documents\\\\WRITE_BERLIN_BIDS\\\\BIDS_Berlin\\\\\"\n",
    "subject_id = \"002\"\n",
    "session = \"20200130\"\n",
    "task = \"restMEDONAVGREF20200130T112142\"\n",
    "run = \"1\"\n",
    "\n",
    "fsample = dat[\"BIDS_struct_save\"][\"fsample\"]\n",
    "labels = list(dat[\"BIDS_struct_save\"][\"labels\"])\n",
    "ieegdata = dat[\"BIDS_struct_save\"][\"data\"]"
   ]
  },
  {
   "cell_type": "code",
   "execution_count": 63,
   "metadata": {
    "scrolled": true
   },
   "outputs": [
    {
     "data": {
      "text/plain": [
       "['LFP_STNR1',\n",
       " 'LFP_STNR2',\n",
       " 'LFP_STNR3',\n",
       " 'LFP_STNR4',\n",
       " 'LFP_STNR5',\n",
       " 'LFP_STNR6',\n",
       " 'LFP_STNR7',\n",
       " 'LFP_STNR8',\n",
       " 'LFP_STNL1',\n",
       " 'LFP_STNL2',\n",
       " 'LFP_STNL3',\n",
       " 'LFP_STNL4',\n",
       " 'LFP_STNL5',\n",
       " 'LFP_STNL6',\n",
       " 'LFP_STNL7',\n",
       " 'LFP_STNL8',\n",
       " 'EEG_Cz',\n",
       " 'EEG_Fz',\n",
       " 'ECOG_L1',\n",
       " 'ECOG_L2',\n",
       " 'ECOG_L3',\n",
       " 'ECOG_L4',\n",
       " 'ECOG_L5',\n",
       " 'ECOG_L6',\n",
       " 'BIP 01',\n",
       " 'BIP 02']"
      ]
     },
     "execution_count": 63,
     "metadata": {},
     "output_type": "execute_result"
    }
   ],
   "source": [
    "labels"
   ]
  },
  {
   "cell_type": "code",
   "execution_count": 64,
   "metadata": {},
   "outputs": [],
   "source": [
    "ch_labels = [\"LFP_BS_STN_R_1\", \"LFP_BS_STN_R_2\",\"LFP_BS_STN_R_3\",\"LFP_BS_STN_R_4\",\n",
    "          \"LFP_BS_STN_R_5\",\"LFP_BS_STN_R_6\",\"LFP_BS_STN_R_7\",\"LFP_BS_STN_R_8\",\n",
    "          \"LFP_BS_STN_L_1\", \"LFP_BS_STN_L_2\",\"LFP_BS_STN_L_3\",\"LFP_BS_STN_L_4\",\n",
    "          \"LFP_BS_STN_L_5\",\"LFP_BS_STN_L_6\",\"LFP_BS_STN_L_7\",\"LFP_BS_STN_L_8\",\n",
    "          \"EEG_TM_Cz__1\", \"EEG_TM_Cz__2\", \"ECOG_AT_SM_L_1\", \"ECOG_AT_SM_L_2\", \n",
    "           \"ECOG_AT_SM_L_3\", \"ECOG_AT_SM_L_4\", \"ECOG_AT_SM_L_5\", \"ECOG_AT_SM_L_6\",\n",
    "          \"EMG_TM_BR_R_1\", \"EMG_TM_BR_L_1\"]"
   ]
  },
  {
   "cell_type": "code",
   "execution_count": 65,
   "metadata": {
    "scrolled": true
   },
   "outputs": [
    {
     "name": "stdout",
     "output_type": "stream",
     "text": [
      "Creating RawArray with float64 data, n_channels=26, n_times=826710\n",
      "    Range : 0 ... 826709 =      0.000 ...   201.833 secs\n",
      "Ready.\n",
      "ECoG channel type selected for re-referencing\n",
      "EEG data marked as already having the desired reference.\n",
      "Extracting parameters from dummy_write.vhdr...\n",
      "Setting channel info structure...\n",
      "Extracting parameters from C:\\Users\\ICN_admin\\Documents\\WRITE_BERLIN_BIDS\\dummy_write.vhdr...\n",
      "Setting channel info structure...\n",
      "\n",
      "Writing 'C:\\Users\\ICN_admin\\Documents\\WRITE_BERLIN_BIDS\\BIDS_Berlin\\participants.tsv'...\n",
      "\n",
      "participant_id\tage\tsex\thand\n",
      "sub-002\tn/a\tn/a\tn/a\n",
      "\n",
      "Writing 'C:\\Users\\ICN_admin\\Documents\\WRITE_BERLIN_BIDS\\BIDS_Berlin\\participants.json'...\n",
      "\n",
      "{\n",
      "    \"participant_id\": {\n",
      "        \"Description\": \"Unique participant identifier\"\n",
      "    },\n",
      "    \"age\": {\n",
      "        \"Description\": \"Age of the participant at time of testing\",\n",
      "        \"Units\": \"years\"\n",
      "    },\n",
      "    \"sex\": {\n",
      "        \"Description\": \"Biological sex of the participant\",\n",
      "        \"Levels\": {\n",
      "            \"F\": \"female\",\n",
      "            \"M\": \"male\"\n",
      "        }\n",
      "    },\n",
      "    \"hand\": {\n",
      "        \"Description\": \"Handedness of the participant\",\n",
      "        \"Levels\": {\n",
      "            \"R\": \"right\",\n",
      "            \"L\": \"left\",\n",
      "            \"A\": \"ambidextrous\"\n",
      "        }\n",
      "    }\n",
      "}\n",
      "\n",
      "Writing 'C:\\Users\\ICN_admin\\Documents\\WRITE_BERLIN_BIDS\\BIDS_Berlin\\dataset_description.json'...\n",
      "\n",
      "{\n",
      "    \"Name\": \" \",\n",
      "    \"BIDSVersion\": \"1.4.0\",\n",
      "    \"DatasetType\": \"raw\",\n",
      "    \"Authors\": [\n",
      "        \"Please cite MNE-BIDS in your publication before removing this (citations in README)\"\n",
      "    ]\n",
      "}\n",
      "\n",
      "Writing 'C:\\Users\\ICN_admin\\Documents\\WRITE_BERLIN_BIDS\\BIDS_Berlin\\sub-002\\ses-20200130\\ieeg\\sub-002_ses-20200130_task-restMEDONAVGREF20200130T112142_run-1_ieeg.json'...\n",
      "\n",
      "{\n",
      "    \"TaskName\": \"restMEDONAVGREF20200130T112142\",\n",
      "    \"Manufacturer\": \"BrainProducts\",\n",
      "    \"PowerLineFrequency\": 50,\n",
      "    \"SamplingFrequency\": 4098.360655737705,\n",
      "    \"SoftwareFilters\": \"n/a\",\n",
      "    \"RecordingDuration\": 201.716996,\n",
      "    \"RecordingType\": \"continuous\",\n",
      "    \"iEEGReference\": \"n/a\",\n",
      "    \"ECOGChannelCount\": 26,\n",
      "    \"SEEGChannelCount\": 0,\n",
      "    \"EEGChannelCount\": 0,\n",
      "    \"EOGChannelCount\": 0,\n",
      "    \"ECGChannelCount\": 0,\n",
      "    \"EMGChannelCount\": 0,\n",
      "    \"MiscChannelCount\": 0,\n",
      "    \"TriggerChannelCount\": 0\n",
      "}\n",
      "\n",
      "Writing 'C:\\Users\\ICN_admin\\Documents\\WRITE_BERLIN_BIDS\\BIDS_Berlin\\sub-002\\ses-20200130\\ieeg\\sub-002_ses-20200130_task-restMEDONAVGREF20200130T112142_run-1_channels.tsv'...\n",
      "\n",
      "name\ttype\tunits\tlow_cutoff\thigh_cutoff\tdescription\tsampling_frequency\tstatus\tstatus_description\n",
      "LFP_BS_STN_R_1\tECOG\tnV\t0.0\t2049.1803278688526\tElectrocorticography\t4098.360655737705\tgood\tn/a\n",
      "LFP_BS_STN_R_2\tECOG\tnV\t0.0\t2049.1803278688526\tElectrocorticography\t4098.360655737705\tgood\tn/a\n",
      "LFP_BS_STN_R_3\tECOG\tnV\t0.0\t2049.1803278688526\tElectrocorticography\t4098.360655737705\tgood\tn/a\n",
      "LFP_BS_STN_R_4\tECOG\tnV\t0.0\t2049.1803278688526\tElectrocorticography\t4098.360655737705\tgood\tn/a\n",
      "LFP_BS_STN_R_5\tECOG\tnV\t0.0\t2049.1803278688526\tElectrocorticography\t4098.360655737705\tgood\tn/a\n",
      "Copying data files to sub-002_ses-20200130_task-restMEDONAVGREF20200130T112142_run-1_ieeg.vhdr\n"
     ]
    },
    {
     "name": "stderr",
     "output_type": "stream",
     "text": [
      "<ipython-input-65-0f011c86cb5a>:20: RuntimeWarning: No events found or provided. Please make sure to set channel type using raw.set_channel_types or provide events_data.\n",
      "  mne_bids.write_raw_bids(bv_raw, bids_path=bids_basename, overwrite=True)\n"
     ]
    },
    {
     "name": "stdout",
     "output_type": "stream",
     "text": [
      "\n",
      "Writing 'C:\\Users\\ICN_admin\\Documents\\WRITE_BERLIN_BIDS\\BIDS_Berlin\\sub-002\\ses-20200130\\sub-002_ses-20200130_scans.tsv'...\n",
      "\n",
      "filename\tacq_time\n",
      "ieeg/sub-002_ses-20200130_task-restMEDON20200130T111458_run-0_ieeg.vhdr\tn/a\n",
      "ieeg/sub-002_ses-20200130_task-restMEDONAVGREF20200130T112142_run-1_ieeg.vhdr\tn/a\n",
      "Wrote C:\\Users\\ICN_admin\\Documents\\WRITE_BERLIN_BIDS\\BIDS_Berlin\\sub-002\\ses-20200130\\sub-002_ses-20200130_scans.tsv entry with ieeg\\sub-002_ses-20200130_task-restMEDONAVGREF20200130T112142_run-1_ieeg.vhdr.\n"
     ]
    }
   ],
   "source": [
    "info = mne.create_info(ch_labels, fsample, ch_types='ecog')\n",
    "raw = mne.io.RawArray(ieegdata, info)\n",
    "raw.set_eeg_reference(ref_channels=[]) # idea to set this writing out BIDS with rereference field \n",
    "\n",
    "#bids_basename = mne_bids.make_bids_basename(subject=subject_id, session=session, \\\n",
    "#                                            task=task, run=run)\n",
    "bids_basename = mne_bids.BIDSPath(subject=subject_id, session=session, \\\n",
    "                                            task=task, run=run, root=BIDS_path)\n",
    "pybv.write_brainvision(ieegdata, fsample, ch_labels, 'dummy_write', os.getcwd())\n",
    "\n",
    "bv_raw = mne.io.read_raw_brainvision('dummy_write.vhdr')\n",
    "\n",
    "# set all channel types to ECOG for iEEG - BIDS does not allow more than one channel type\n",
    "mapping = {}\n",
    "for ch in range(len(bv_raw.info['ch_names'])):\n",
    "    mapping[bv_raw.info['ch_names'][ch]] = 'ecog'\n",
    "bv_raw.set_channel_types(mapping)\n",
    "\n",
    "bv_raw.info['line_freq'] = 50\n",
    "mne_bids.write_raw_bids(bv_raw, bids_path=bids_basename, overwrite=True)\n",
    "\n",
    "#  remove dummy file\n",
    "os.remove('dummy_write.vhdr')\n",
    "os.remove('dummy_write.eeg')\n",
    "os.remove('dummy_write.vmrk')"
   ]
  },
  {
   "cell_type": "markdown",
   "metadata": {},
   "source": [
    "#### AO session sub002\\ses-20200131\\AO "
   ]
  },
  {
   "cell_type": "code",
   "execution_count": 92,
   "metadata": {},
   "outputs": [],
   "source": [
    "dat = loadmat(\"sub002\\\\ses-20200131\\\\AO\\\\BIDS_save_480ni57_evoked_202001310001.mat\")"
   ]
  },
  {
   "cell_type": "code",
   "execution_count": 93,
   "metadata": {},
   "outputs": [],
   "source": [
    "BIDS_path = \"C:\\\\Users\\\\ICN_admin\\\\Documents\\\\WRITE_BERLIN_BIDS\\\\BIDS_Berlin\\\\\"\n",
    "subject_id = \"002\"\n",
    "session = \"20200131\"\n",
    "task = \"evoked202001310001\"\n",
    "run = \"0\"\n",
    "\n",
    "fsample = dat[\"BIDS_struct_save\"][\"fsample\"]\n",
    "labels = list(dat[\"BIDS_struct_save\"][\"labels\"])\n",
    "ieegdata = dat[\"BIDS_struct_save\"][\"data\"]"
   ]
  },
  {
   "cell_type": "code",
   "execution_count": 94,
   "metadata": {},
   "outputs": [
    {
     "data": {
      "text/plain": [
       "1375"
      ]
     },
     "execution_count": 94,
     "metadata": {},
     "output_type": "execute_result"
    }
   ],
   "source": [
    "fsample"
   ]
  },
  {
   "cell_type": "code",
   "execution_count": 95,
   "metadata": {},
   "outputs": [
    {
     "data": {
      "text/plain": [
       "['CECOG_LF_1___02___STNR234',\n",
       " 'CECOG_LF_1___03___STNR567',\n",
       " 'CECOG_LF_1___05___STNL1',\n",
       " 'CECOG_LF_1___06___STNL234',\n",
       " 'CECOG_LF_1___07___STNL567',\n",
       " 'CECOG_LF_1___11___ECOGL1',\n",
       " 'CECOG_LF_1___12___ECOGL2',\n",
       " 'CECOG_LF_1___13___ECOGL3',\n",
       " 'CECOG_LF_1___14___ECOGL4',\n",
       " 'CECOG_LF_1___15___ECOGL5',\n",
       " 'CECOG_LF_1___16___ECOGL6']"
      ]
     },
     "execution_count": 95,
     "metadata": {},
     "output_type": "execute_result"
    }
   ],
   "source": [
    "labels"
   ]
  },
  {
   "cell_type": "code",
   "execution_count": 96,
   "metadata": {},
   "outputs": [
    {
     "data": {
      "text/plain": [
       "(11, 83271)"
      ]
     },
     "execution_count": 96,
     "metadata": {},
     "output_type": "execute_result"
    }
   ],
   "source": [
    "ieegdata.shape"
   ]
  },
  {
   "cell_type": "code",
   "execution_count": 97,
   "metadata": {},
   "outputs": [],
   "source": [
    "ch_labels = [\"LFP_STN_R_234\", \"LFP_STN_R_567\",\"LFP_BS_STN_L_1\",\"LFP_STN_L_234\",\n",
    "          \"LFP_STN_L_567\",\"ECOG_AT_SM_L_1\", \"ECOG_AT_SM_L_2\", \n",
    "           \"ECOG_AT_SM_L_3\", \"ECOG_AT_SM_L_4\", \"ECOG_AT_SM_L_5\", \"ECOG_AT_SM_L_6\"]"
   ]
  },
  {
   "cell_type": "code",
   "execution_count": 98,
   "metadata": {
    "scrolled": true
   },
   "outputs": [
    {
     "name": "stdout",
     "output_type": "stream",
     "text": [
      "Creating RawArray with float64 data, n_channels=11, n_times=83271\n",
      "    Range : 0 ... 83270 =      0.000 ...    60.560 secs\n",
      "Ready.\n",
      "ECoG channel type selected for re-referencing\n",
      "EEG data marked as already having the desired reference.\n",
      "Extracting parameters from dummy_write.vhdr...\n",
      "Setting channel info structure...\n",
      "Extracting parameters from C:\\Users\\ICN_admin\\Documents\\WRITE_BERLIN_BIDS\\dummy_write.vhdr...\n",
      "Setting channel info structure...\n",
      "\n",
      "Writing 'C:\\Users\\ICN_admin\\Documents\\WRITE_BERLIN_BIDS\\BIDS_Berlin\\participants.tsv'...\n",
      "\n",
      "participant_id\tage\tsex\thand\n",
      "sub-002\tn/a\tn/a\tn/a\n",
      "\n",
      "Writing 'C:\\Users\\ICN_admin\\Documents\\WRITE_BERLIN_BIDS\\BIDS_Berlin\\participants.json'...\n",
      "\n",
      "{\n",
      "    \"participant_id\": {\n",
      "        \"Description\": \"Unique participant identifier\"\n",
      "    },\n",
      "    \"age\": {\n",
      "        \"Description\": \"Age of the participant at time of testing\",\n",
      "        \"Units\": \"years\"\n",
      "    },\n",
      "    \"sex\": {\n",
      "        \"Description\": \"Biological sex of the participant\",\n",
      "        \"Levels\": {\n",
      "            \"F\": \"female\",\n",
      "            \"M\": \"male\"\n",
      "        }\n",
      "    },\n",
      "    \"hand\": {\n",
      "        \"Description\": \"Handedness of the participant\",\n",
      "        \"Levels\": {\n",
      "            \"R\": \"right\",\n",
      "            \"L\": \"left\",\n",
      "            \"A\": \"ambidextrous\"\n",
      "        }\n",
      "    }\n",
      "}\n",
      "\n",
      "Writing 'C:\\Users\\ICN_admin\\Documents\\WRITE_BERLIN_BIDS\\BIDS_Berlin\\dataset_description.json'...\n",
      "\n",
      "{\n",
      "    \"Name\": \" \",\n",
      "    \"BIDSVersion\": \"1.4.0\",\n",
      "    \"DatasetType\": \"raw\",\n",
      "    \"Authors\": [\n",
      "        \"Please cite MNE-BIDS in your publication before removing this (citations in README)\"\n",
      "    ]\n",
      "}\n",
      "\n",
      "Writing 'C:\\Users\\ICN_admin\\Documents\\WRITE_BERLIN_BIDS\\BIDS_Berlin\\sub-002\\ses-20200131\\ieeg\\sub-002_ses-20200131_task-evoked202001310001_run-0_ieeg.json'...\n",
      "\n",
      "{\n",
      "    \"TaskName\": \"evoked202001310001\",\n",
      "    \"Manufacturer\": \"BrainProducts\",\n",
      "    \"PowerLineFrequency\": 50,\n",
      "    \"SamplingFrequency\": 1375.515818431912,\n",
      "    \"SoftwareFilters\": \"n/a\",\n",
      "    \"RecordingDuration\": 60.53729,\n",
      "    \"RecordingType\": \"continuous\",\n",
      "    \"iEEGReference\": \"n/a\",\n",
      "    \"ECOGChannelCount\": 11,\n",
      "    \"SEEGChannelCount\": 0,\n",
      "    \"EEGChannelCount\": 0,\n",
      "    \"EOGChannelCount\": 0,\n",
      "    \"ECGChannelCount\": 0,\n",
      "    \"EMGChannelCount\": 0,\n",
      "    \"MiscChannelCount\": 0,\n",
      "    \"TriggerChannelCount\": 0\n",
      "}\n",
      "\n",
      "Writing 'C:\\Users\\ICN_admin\\Documents\\WRITE_BERLIN_BIDS\\BIDS_Berlin\\sub-002\\ses-20200131\\ieeg\\sub-002_ses-20200131_task-evoked202001310001_run-0_channels.tsv'...\n",
      "\n",
      "name\ttype\tunits\tlow_cutoff\thigh_cutoff\tdescription\tsampling_frequency\tstatus\tstatus_description\n",
      "LFP_STN_R_234\tECOG\tnV\t0.0\t687.757909215956\tElectrocorticography\t1375.515818431912\tgood\tn/a\n",
      "LFP_STN_R_567\tECOG\tnV\t0.0\t687.757909215956\tElectrocorticography\t1375.515818431912\tgood\tn/a\n",
      "LFP_BS_STN_L_1\tECOG\tnV\t0.0\t687.757909215956\tElectrocorticography\t1375.515818431912\tgood\tn/a\n",
      "LFP_STN_L_234\tECOG\tnV\t0.0\t687.757909215956\tElectrocorticography\t1375.515818431912\tgood\tn/a\n",
      "LFP_STN_L_567\tECOG\tnV\t0.0\t687.757909215956\tElectrocorticography\t1375.515818431912\tgood\tn/a\n",
      "Copying data files to sub-002_ses-20200131_task-evoked202001310001_run-0_ieeg.vhdr\n",
      "\n",
      "Writing 'C:\\Users\\ICN_admin\\Documents\\WRITE_BERLIN_BIDS\\BIDS_Berlin\\sub-002\\ses-20200131\\sub-002_ses-20200131_scans.tsv'...\n",
      "\n",
      "filename\tacq_time\n",
      "ieeg/sub-002_ses-20200131_task-evoked202001310001_run-0_ieeg.vhdr\tn/a\n",
      "Wrote C:\\Users\\ICN_admin\\Documents\\WRITE_BERLIN_BIDS\\BIDS_Berlin\\sub-002\\ses-20200131\\sub-002_ses-20200131_scans.tsv entry with ieeg\\sub-002_ses-20200131_task-evoked202001310001_run-0_ieeg.vhdr.\n"
     ]
    },
    {
     "name": "stderr",
     "output_type": "stream",
     "text": [
      "<ipython-input-98-0f011c86cb5a>:20: RuntimeWarning: No events found or provided. Please make sure to set channel type using raw.set_channel_types or provide events_data.\n",
      "  mne_bids.write_raw_bids(bv_raw, bids_path=bids_basename, overwrite=True)\n"
     ]
    }
   ],
   "source": [
    "info = mne.create_info(ch_labels, fsample, ch_types='ecog')\n",
    "raw = mne.io.RawArray(ieegdata, info)\n",
    "raw.set_eeg_reference(ref_channels=[]) # idea to set this writing out BIDS with rereference field \n",
    "\n",
    "#bids_basename = mne_bids.make_bids_basename(subject=subject_id, session=session, \\\n",
    "#                                            task=task, run=run)\n",
    "bids_basename = mne_bids.BIDSPath(subject=subject_id, session=session, \\\n",
    "                                            task=task, run=run, root=BIDS_path)\n",
    "pybv.write_brainvision(ieegdata, fsample, ch_labels, 'dummy_write', os.getcwd())\n",
    "\n",
    "bv_raw = mne.io.read_raw_brainvision('dummy_write.vhdr')\n",
    "\n",
    "# set all channel types to ECOG for iEEG - BIDS does not allow more than one channel type\n",
    "mapping = {}\n",
    "for ch in range(len(bv_raw.info['ch_names'])):\n",
    "    mapping[bv_raw.info['ch_names'][ch]] = 'ecog'\n",
    "bv_raw.set_channel_types(mapping)\n",
    "\n",
    "bv_raw.info['line_freq'] = 50\n",
    "mne_bids.write_raw_bids(bv_raw, bids_path=bids_basename, overwrite=True)\n",
    "\n",
    "#  remove dummy file\n",
    "os.remove('dummy_write.vhdr')\n",
    "os.remove('dummy_write.eeg')\n",
    "os.remove('dummy_write.vmrk')"
   ]
  },
  {
   "cell_type": "markdown",
   "metadata": {},
   "source": [
    "#### run BIDS_save_480ni57_evoked_202001310002"
   ]
  },
  {
   "cell_type": "code",
   "execution_count": 99,
   "metadata": {},
   "outputs": [],
   "source": [
    "dat = loadmat(\"sub002\\\\ses-20200131\\\\AO\\\\BIDS_save_480ni57_evoked_202001310002.mat\")"
   ]
  },
  {
   "cell_type": "code",
   "execution_count": 100,
   "metadata": {},
   "outputs": [],
   "source": [
    "BIDS_path = \"C:\\\\Users\\\\ICN_admin\\\\Documents\\\\WRITE_BERLIN_BIDS\\\\BIDS_Berlin\\\\\"\n",
    "subject_id = \"002\"\n",
    "session = \"20200131\"\n",
    "task = \"evoked202001310002\"\n",
    "run = \"1\"\n",
    "\n",
    "fsample = dat[\"BIDS_struct_save\"][\"fsample\"]\n",
    "labels = list(dat[\"BIDS_struct_save\"][\"labels\"])\n",
    "ieegdata = dat[\"BIDS_struct_save\"][\"data\"]"
   ]
  },
  {
   "cell_type": "code",
   "execution_count": 101,
   "metadata": {},
   "outputs": [
    {
     "data": {
      "text/plain": [
       "['CECOG_LF_1___02___STNR234',\n",
       " 'CECOG_LF_1___03___STNR567',\n",
       " 'CECOG_LF_1___05___STNL1',\n",
       " 'CECOG_LF_1___06___STNL234',\n",
       " 'CECOG_LF_1___07___STNL567',\n",
       " 'CECOG_LF_1___11___ECOGL1',\n",
       " 'CECOG_LF_1___12___ECOGL2',\n",
       " 'CECOG_LF_1___13___ECOGL3',\n",
       " 'CECOG_LF_1___14___ECOGL4',\n",
       " 'CECOG_LF_1___15___ECOGL5',\n",
       " 'CECOG_LF_1___16___ECOGL6']"
      ]
     },
     "execution_count": 101,
     "metadata": {},
     "output_type": "execute_result"
    }
   ],
   "source": [
    "labels"
   ]
  },
  {
   "cell_type": "code",
   "execution_count": 102,
   "metadata": {},
   "outputs": [],
   "source": [
    "ch_labels = [\"LFP_STN_R_234\", \"LFP_STN_R_567\",\"LFP_BS_STN_L_1\",\"LFP_STN_L_234\",\n",
    "          \"LFP_STN_L_567\",\"ECOG_AT_SM_L_1\", \"ECOG_AT_SM_L_2\", \n",
    "           \"ECOG_AT_SM_L_3\", \"ECOG_AT_SM_L_4\", \"ECOG_AT_SM_L_5\", \"ECOG_AT_SM_L_6\"]"
   ]
  },
  {
   "cell_type": "code",
   "execution_count": 103,
   "metadata": {
    "scrolled": true
   },
   "outputs": [
    {
     "name": "stdout",
     "output_type": "stream",
     "text": [
      "Creating RawArray with float64 data, n_channels=11, n_times=126288\n",
      "    Range : 0 ... 126287 =      0.000 ...    91.845 secs\n",
      "Ready.\n",
      "ECoG channel type selected for re-referencing\n",
      "EEG data marked as already having the desired reference.\n",
      "Extracting parameters from dummy_write.vhdr...\n",
      "Setting channel info structure...\n",
      "Extracting parameters from C:\\Users\\ICN_admin\\Documents\\WRITE_BERLIN_BIDS\\dummy_write.vhdr...\n",
      "Setting channel info structure...\n",
      "\n",
      "Writing 'C:\\Users\\ICN_admin\\Documents\\WRITE_BERLIN_BIDS\\BIDS_Berlin\\participants.tsv'...\n",
      "\n",
      "participant_id\tage\tsex\thand\n",
      "sub-002\tn/a\tn/a\tn/a\n",
      "\n",
      "Writing 'C:\\Users\\ICN_admin\\Documents\\WRITE_BERLIN_BIDS\\BIDS_Berlin\\participants.json'...\n",
      "\n",
      "{\n",
      "    \"participant_id\": {\n",
      "        \"Description\": \"Unique participant identifier\"\n",
      "    },\n",
      "    \"age\": {\n",
      "        \"Description\": \"Age of the participant at time of testing\",\n",
      "        \"Units\": \"years\"\n",
      "    },\n",
      "    \"sex\": {\n",
      "        \"Description\": \"Biological sex of the participant\",\n",
      "        \"Levels\": {\n",
      "            \"F\": \"female\",\n",
      "            \"M\": \"male\"\n",
      "        }\n",
      "    },\n",
      "    \"hand\": {\n",
      "        \"Description\": \"Handedness of the participant\",\n",
      "        \"Levels\": {\n",
      "            \"R\": \"right\",\n",
      "            \"L\": \"left\",\n",
      "            \"A\": \"ambidextrous\"\n",
      "        }\n",
      "    }\n",
      "}\n",
      "\n",
      "Writing 'C:\\Users\\ICN_admin\\Documents\\WRITE_BERLIN_BIDS\\BIDS_Berlin\\dataset_description.json'...\n",
      "\n",
      "{\n",
      "    \"Name\": \" \",\n",
      "    \"BIDSVersion\": \"1.4.0\",\n",
      "    \"DatasetType\": \"raw\",\n",
      "    \"Authors\": [\n",
      "        \"Please cite MNE-BIDS in your publication before removing this (citations in README)\"\n",
      "    ]\n",
      "}\n",
      "\n",
      "Writing 'C:\\Users\\ICN_admin\\Documents\\WRITE_BERLIN_BIDS\\BIDS_Berlin\\sub-002\\ses-20200131\\ieeg\\sub-002_ses-20200131_task-evoked202001310002_run-1_ieeg.json'...\n",
      "\n",
      "{\n",
      "    \"TaskName\": \"evoked202001310002\",\n",
      "    \"Manufacturer\": \"BrainProducts\",\n",
      "    \"PowerLineFrequency\": 50,\n",
      "    \"SamplingFrequency\": 1375.515818431912,\n",
      "    \"SoftwareFilters\": \"n/a\",\n",
      "    \"RecordingDuration\": 91.810649,\n",
      "    \"RecordingType\": \"continuous\",\n",
      "    \"iEEGReference\": \"n/a\",\n",
      "    \"ECOGChannelCount\": 11,\n",
      "    \"SEEGChannelCount\": 0,\n",
      "    \"EEGChannelCount\": 0,\n",
      "    \"EOGChannelCount\": 0,\n",
      "    \"ECGChannelCount\": 0,\n",
      "    \"EMGChannelCount\": 0,\n",
      "    \"MiscChannelCount\": 0,\n",
      "    \"TriggerChannelCount\": 0\n",
      "}\n",
      "\n",
      "Writing 'C:\\Users\\ICN_admin\\Documents\\WRITE_BERLIN_BIDS\\BIDS_Berlin\\sub-002\\ses-20200131\\ieeg\\sub-002_ses-20200131_task-evoked202001310002_run-1_channels.tsv'...\n",
      "\n",
      "name\ttype\tunits\tlow_cutoff\thigh_cutoff\tdescription\tsampling_frequency\tstatus\tstatus_description\n",
      "LFP_STN_R_234\tECOG\tnV\t0.0\t687.757909215956\tElectrocorticography\t1375.515818431912\tgood\tn/a\n",
      "LFP_STN_R_567\tECOG\tnV\t0.0\t687.757909215956\tElectrocorticography\t1375.515818431912\tgood\tn/a\n",
      "LFP_BS_STN_L_1\tECOG\tnV\t0.0\t687.757909215956\tElectrocorticography\t1375.515818431912\tgood\tn/a\n",
      "LFP_STN_L_234\tECOG\tnV\t0.0\t687.757909215956\tElectrocorticography\t1375.515818431912\tgood\tn/a\n",
      "LFP_STN_L_567\tECOG\tnV\t0.0\t687.757909215956\tElectrocorticography\t1375.515818431912\tgood\tn/a\n",
      "Copying data files to sub-002_ses-20200131_task-evoked202001310002_run-1_ieeg.vhdr\n",
      "\n",
      "Writing 'C:\\Users\\ICN_admin\\Documents\\WRITE_BERLIN_BIDS\\BIDS_Berlin\\sub-002\\ses-20200131\\sub-002_ses-20200131_scans.tsv'...\n",
      "\n",
      "filename\tacq_time\n",
      "ieeg/sub-002_ses-20200131_task-evoked202001310001_run-0_ieeg.vhdr\tn/a\n",
      "ieeg/sub-002_ses-20200131_task-evoked202001310002_run-1_ieeg.vhdr\tn/a\n",
      "Wrote C:\\Users\\ICN_admin\\Documents\\WRITE_BERLIN_BIDS\\BIDS_Berlin\\sub-002\\ses-20200131\\sub-002_ses-20200131_scans.tsv entry with ieeg\\sub-002_ses-20200131_task-evoked202001310002_run-1_ieeg.vhdr.\n"
     ]
    },
    {
     "name": "stderr",
     "output_type": "stream",
     "text": [
      "<ipython-input-103-0f011c86cb5a>:20: RuntimeWarning: No events found or provided. Please make sure to set channel type using raw.set_channel_types or provide events_data.\n",
      "  mne_bids.write_raw_bids(bv_raw, bids_path=bids_basename, overwrite=True)\n"
     ]
    }
   ],
   "source": [
    "info = mne.create_info(ch_labels, fsample, ch_types='ecog')\n",
    "raw = mne.io.RawArray(ieegdata, info)\n",
    "raw.set_eeg_reference(ref_channels=[]) # idea to set this writing out BIDS with rereference field \n",
    "\n",
    "#bids_basename = mne_bids.make_bids_basename(subject=subject_id, session=session, \\\n",
    "#                                            task=task, run=run)\n",
    "bids_basename = mne_bids.BIDSPath(subject=subject_id, session=session, \\\n",
    "                                            task=task, run=run, root=BIDS_path)\n",
    "pybv.write_brainvision(ieegdata, fsample, ch_labels, 'dummy_write', os.getcwd())\n",
    "\n",
    "bv_raw = mne.io.read_raw_brainvision('dummy_write.vhdr')\n",
    "\n",
    "# set all channel types to ECOG for iEEG - BIDS does not allow more than one channel type\n",
    "mapping = {}\n",
    "for ch in range(len(bv_raw.info['ch_names'])):\n",
    "    mapping[bv_raw.info['ch_names'][ch]] = 'ecog'\n",
    "bv_raw.set_channel_types(mapping)\n",
    "\n",
    "bv_raw.info['line_freq'] = 50\n",
    "mne_bids.write_raw_bids(bv_raw, bids_path=bids_basename, overwrite=True)\n",
    "\n",
    "#  remove dummy file\n",
    "os.remove('dummy_write.vhdr')\n",
    "os.remove('dummy_write.eeg')\n",
    "os.remove('dummy_write.vmrk')"
   ]
  },
  {
   "cell_type": "markdown",
   "metadata": {},
   "source": [
    "#### run BIDS_save_480ni57_evoked_202001310003"
   ]
  },
  {
   "cell_type": "code",
   "execution_count": 104,
   "metadata": {},
   "outputs": [],
   "source": [
    "dat = loadmat(\"sub002\\\\ses-20200131\\\\AO\\\\BIDS_save_480ni57_evoked_202001310003.mat\")"
   ]
  },
  {
   "cell_type": "code",
   "execution_count": 105,
   "metadata": {},
   "outputs": [],
   "source": [
    "BIDS_path = \"C:\\\\Users\\\\ICN_admin\\\\Documents\\\\WRITE_BERLIN_BIDS\\\\BIDS_Berlin\\\\\"\n",
    "subject_id = \"002\"\n",
    "session = \"20200131\"\n",
    "task = \"evoked202001310003\"\n",
    "run = \"2\"\n",
    "\n",
    "fsample = dat[\"BIDS_struct_save\"][\"fsample\"]\n",
    "labels = list(dat[\"BIDS_struct_save\"][\"labels\"])\n",
    "ieegdata = dat[\"BIDS_struct_save\"][\"data\"]"
   ]
  },
  {
   "cell_type": "code",
   "execution_count": 106,
   "metadata": {},
   "outputs": [
    {
     "data": {
      "text/plain": [
       "['CECOG_LF_1___02___STNR234',\n",
       " 'CECOG_LF_1___03___STNR567',\n",
       " 'CECOG_LF_1___05___STNL1',\n",
       " 'CECOG_LF_1___06___STNL234',\n",
       " 'CECOG_LF_1___07___STNL567',\n",
       " 'CECOG_LF_1___11___ECOGL1',\n",
       " 'CECOG_LF_1___12___ECOGL2',\n",
       " 'CECOG_LF_1___13___ECOGL3',\n",
       " 'CECOG_LF_1___14___ECOGL4',\n",
       " 'CECOG_LF_1___15___ECOGL5',\n",
       " 'CECOG_LF_1___16___ECOGL6']"
      ]
     },
     "execution_count": 106,
     "metadata": {},
     "output_type": "execute_result"
    }
   ],
   "source": [
    "labels"
   ]
  },
  {
   "cell_type": "code",
   "execution_count": 107,
   "metadata": {},
   "outputs": [],
   "source": [
    "ch_labels = [\"LFP_STN_R_234\", \"LFP_STN_R_567\",\"LFP_BS_STN_L_1\",\"LFP_STN_L_234\",\n",
    "          \"LFP_STN_L_567\",\"ECOG_AT_SM_L_1\", \"ECOG_AT_SM_L_2\", \n",
    "           \"ECOG_AT_SM_L_3\", \"ECOG_AT_SM_L_4\", \"ECOG_AT_SM_L_5\", \"ECOG_AT_SM_L_6\"]"
   ]
  },
  {
   "cell_type": "code",
   "execution_count": 108,
   "metadata": {
    "scrolled": true
   },
   "outputs": [
    {
     "name": "stdout",
     "output_type": "stream",
     "text": [
      "Creating RawArray with float64 data, n_channels=11, n_times=728127\n",
      "    Range : 0 ... 728126 =      0.000 ...   529.546 secs\n",
      "Ready.\n",
      "ECoG channel type selected for re-referencing\n",
      "EEG data marked as already having the desired reference.\n",
      "Extracting parameters from dummy_write.vhdr...\n",
      "Setting channel info structure...\n",
      "Extracting parameters from C:\\Users\\ICN_admin\\Documents\\WRITE_BERLIN_BIDS\\dummy_write.vhdr...\n",
      "Setting channel info structure...\n",
      "\n",
      "Writing 'C:\\Users\\ICN_admin\\Documents\\WRITE_BERLIN_BIDS\\BIDS_Berlin\\participants.tsv'...\n",
      "\n",
      "participant_id\tage\tsex\thand\n",
      "sub-002\tn/a\tn/a\tn/a\n",
      "\n",
      "Writing 'C:\\Users\\ICN_admin\\Documents\\WRITE_BERLIN_BIDS\\BIDS_Berlin\\participants.json'...\n",
      "\n",
      "{\n",
      "    \"participant_id\": {\n",
      "        \"Description\": \"Unique participant identifier\"\n",
      "    },\n",
      "    \"age\": {\n",
      "        \"Description\": \"Age of the participant at time of testing\",\n",
      "        \"Units\": \"years\"\n",
      "    },\n",
      "    \"sex\": {\n",
      "        \"Description\": \"Biological sex of the participant\",\n",
      "        \"Levels\": {\n",
      "            \"F\": \"female\",\n",
      "            \"M\": \"male\"\n",
      "        }\n",
      "    },\n",
      "    \"hand\": {\n",
      "        \"Description\": \"Handedness of the participant\",\n",
      "        \"Levels\": {\n",
      "            \"R\": \"right\",\n",
      "            \"L\": \"left\",\n",
      "            \"A\": \"ambidextrous\"\n",
      "        }\n",
      "    }\n",
      "}\n",
      "\n",
      "Writing 'C:\\Users\\ICN_admin\\Documents\\WRITE_BERLIN_BIDS\\BIDS_Berlin\\dataset_description.json'...\n",
      "\n",
      "{\n",
      "    \"Name\": \" \",\n",
      "    \"BIDSVersion\": \"1.4.0\",\n",
      "    \"DatasetType\": \"raw\",\n",
      "    \"Authors\": [\n",
      "        \"Please cite MNE-BIDS in your publication before removing this (citations in README)\"\n",
      "    ]\n",
      "}\n",
      "\n",
      "Writing 'C:\\Users\\ICN_admin\\Documents\\WRITE_BERLIN_BIDS\\BIDS_Berlin\\sub-002\\ses-20200131\\ieeg\\sub-002_ses-20200131_task-evoked202001310003_run-2_ieeg.json'...\n",
      "\n",
      "{\n",
      "    \"TaskName\": \"evoked202001310003\",\n",
      "    \"Manufacturer\": \"BrainProducts\",\n",
      "    \"PowerLineFrequency\": 50,\n",
      "    \"SamplingFrequency\": 1375.515818431912,\n",
      "    \"SoftwareFilters\": \"n/a\",\n",
      "    \"RecordingDuration\": 529.3476019999999,\n",
      "    \"RecordingType\": \"continuous\",\n",
      "    \"iEEGReference\": \"n/a\",\n",
      "    \"ECOGChannelCount\": 11,\n",
      "    \"SEEGChannelCount\": 0,\n",
      "    \"EEGChannelCount\": 0,\n",
      "    \"EOGChannelCount\": 0,\n",
      "    \"ECGChannelCount\": 0,\n",
      "    \"EMGChannelCount\": 0,\n",
      "    \"MiscChannelCount\": 0,\n",
      "    \"TriggerChannelCount\": 0\n",
      "}\n",
      "\n",
      "Writing 'C:\\Users\\ICN_admin\\Documents\\WRITE_BERLIN_BIDS\\BIDS_Berlin\\sub-002\\ses-20200131\\ieeg\\sub-002_ses-20200131_task-evoked202001310003_run-2_channels.tsv'...\n",
      "\n",
      "name\ttype\tunits\tlow_cutoff\thigh_cutoff\tdescription\tsampling_frequency\tstatus\tstatus_description\n",
      "LFP_STN_R_234\tECOG\tnV\t0.0\t687.757909215956\tElectrocorticography\t1375.515818431912\tgood\tn/a\n",
      "LFP_STN_R_567\tECOG\tnV\t0.0\t687.757909215956\tElectrocorticography\t1375.515818431912\tgood\tn/a\n",
      "LFP_BS_STN_L_1\tECOG\tnV\t0.0\t687.757909215956\tElectrocorticography\t1375.515818431912\tgood\tn/a\n",
      "LFP_STN_L_234\tECOG\tnV\t0.0\t687.757909215956\tElectrocorticography\t1375.515818431912\tgood\tn/a\n",
      "LFP_STN_L_567\tECOG\tnV\t0.0\t687.757909215956\tElectrocorticography\t1375.515818431912\tgood\tn/a\n",
      "Copying data files to sub-002_ses-20200131_task-evoked202001310003_run-2_ieeg.vhdr\n",
      "\n",
      "Writing 'C:\\Users\\ICN_admin\\Documents\\WRITE_BERLIN_BIDS\\BIDS_Berlin\\sub-002\\ses-20200131\\sub-002_ses-20200131_scans.tsv'...\n",
      "\n",
      "filename\tacq_time\n",
      "ieeg/sub-002_ses-20200131_task-evoked202001310001_run-0_ieeg.vhdr\tn/a\n",
      "ieeg/sub-002_ses-20200131_task-evoked202001310002_run-1_ieeg.vhdr\tn/a\n",
      "ieeg/sub-002_ses-20200131_task-evoked202001310003_run-2_ieeg.vhdr\tn/a\n",
      "Wrote C:\\Users\\ICN_admin\\Documents\\WRITE_BERLIN_BIDS\\BIDS_Berlin\\sub-002\\ses-20200131\\sub-002_ses-20200131_scans.tsv entry with ieeg\\sub-002_ses-20200131_task-evoked202001310003_run-2_ieeg.vhdr.\n"
     ]
    },
    {
     "name": "stderr",
     "output_type": "stream",
     "text": [
      "<ipython-input-108-0f011c86cb5a>:20: RuntimeWarning: No events found or provided. Please make sure to set channel type using raw.set_channel_types or provide events_data.\n",
      "  mne_bids.write_raw_bids(bv_raw, bids_path=bids_basename, overwrite=True)\n"
     ]
    }
   ],
   "source": [
    "info = mne.create_info(ch_labels, fsample, ch_types='ecog')\n",
    "raw = mne.io.RawArray(ieegdata, info)\n",
    "raw.set_eeg_reference(ref_channels=[]) # idea to set this writing out BIDS with rereference field \n",
    "\n",
    "#bids_basename = mne_bids.make_bids_basename(subject=subject_id, session=session, \\\n",
    "#                                            task=task, run=run)\n",
    "bids_basename = mne_bids.BIDSPath(subject=subject_id, session=session, \\\n",
    "                                            task=task, run=run, root=BIDS_path)\n",
    "pybv.write_brainvision(ieegdata, fsample, ch_labels, 'dummy_write', os.getcwd())\n",
    "\n",
    "bv_raw = mne.io.read_raw_brainvision('dummy_write.vhdr')\n",
    "\n",
    "# set all channel types to ECOG for iEEG - BIDS does not allow more than one channel type\n",
    "mapping = {}\n",
    "for ch in range(len(bv_raw.info['ch_names'])):\n",
    "    mapping[bv_raw.info['ch_names'][ch]] = 'ecog'\n",
    "bv_raw.set_channel_types(mapping)\n",
    "\n",
    "bv_raw.info['line_freq'] = 50\n",
    "mne_bids.write_raw_bids(bv_raw, bids_path=bids_basename, overwrite=True)\n",
    "\n",
    "#  remove dummy file\n",
    "os.remove('dummy_write.vhdr')\n",
    "os.remove('dummy_write.eeg')\n",
    "os.remove('dummy_write.vmrk')"
   ]
  },
  {
   "cell_type": "markdown",
   "metadata": {},
   "source": [
    "#### run BIDS_save_480ni57_rest_202001310001"
   ]
  },
  {
   "cell_type": "code",
   "execution_count": 109,
   "metadata": {},
   "outputs": [],
   "source": [
    "dat = loadmat(\"sub002\\\\ses-20200131\\\\AO\\\\BIDS_save_480ni57_rest_202001310001.mat\")"
   ]
  },
  {
   "cell_type": "code",
   "execution_count": 110,
   "metadata": {},
   "outputs": [],
   "source": [
    "BIDS_path = \"C:\\\\Users\\\\ICN_admin\\\\Documents\\\\WRITE_BERLIN_BIDS\\\\BIDS_Berlin\\\\\"\n",
    "subject_id = \"002\"\n",
    "session = \"20200131\"\n",
    "task = \"rest202001310001\"\n",
    "run = \"3\"\n",
    "\n",
    "fsample = dat[\"BIDS_struct_save\"][\"fsample\"]\n",
    "labels = list(dat[\"BIDS_struct_save\"][\"labels\"])\n",
    "ieegdata = dat[\"BIDS_struct_save\"][\"data\"]"
   ]
  },
  {
   "cell_type": "code",
   "execution_count": 111,
   "metadata": {},
   "outputs": [
    {
     "data": {
      "text/plain": [
       "['CECOG_LF_1___02___STNR234',\n",
       " 'CECOG_LF_1___03___STNR567',\n",
       " 'CECOG_LF_1___05___STNL1',\n",
       " 'CECOG_LF_1___06___STNL234',\n",
       " 'CECOG_LF_1___07___STNL567',\n",
       " 'CECOG_LF_1___11___ECOGL1',\n",
       " 'CECOG_LF_1___12___ECOGL2',\n",
       " 'CECOG_LF_1___13___ECOGL3',\n",
       " 'CECOG_LF_1___14___ECOGL4',\n",
       " 'CECOG_LF_1___15___ECOGL5',\n",
       " 'CECOG_LF_1___16___ECOGL6']"
      ]
     },
     "execution_count": 111,
     "metadata": {},
     "output_type": "execute_result"
    }
   ],
   "source": [
    "labels"
   ]
  },
  {
   "cell_type": "code",
   "execution_count": 112,
   "metadata": {},
   "outputs": [],
   "source": [
    "ch_labels = [\"LFP_STN_R_234\", \"LFP_STN_R_567\",\"LFP_BS_STN_L_1\",\"LFP_STN_L_234\",\n",
    "          \"LFP_STN_L_567\",\"ECOG_AT_SM_L_1\", \"ECOG_AT_SM_L_2\", \n",
    "           \"ECOG_AT_SM_L_3\", \"ECOG_AT_SM_L_4\", \"ECOG_AT_SM_L_5\", \"ECOG_AT_SM_L_6\"]"
   ]
  },
  {
   "cell_type": "code",
   "execution_count": 113,
   "metadata": {},
   "outputs": [
    {
     "name": "stdout",
     "output_type": "stream",
     "text": [
      "Creating RawArray with float64 data, n_channels=11, n_times=442712\n",
      "    Range : 0 ... 442711 =      0.000 ...   321.972 secs\n",
      "Ready.\n",
      "ECoG channel type selected for re-referencing\n",
      "EEG data marked as already having the desired reference.\n",
      "Extracting parameters from dummy_write.vhdr...\n",
      "Setting channel info structure...\n",
      "Extracting parameters from C:\\Users\\ICN_admin\\Documents\\WRITE_BERLIN_BIDS\\dummy_write.vhdr...\n",
      "Setting channel info structure...\n",
      "\n",
      "Writing 'C:\\Users\\ICN_admin\\Documents\\WRITE_BERLIN_BIDS\\BIDS_Berlin\\participants.tsv'...\n",
      "\n",
      "participant_id\tage\tsex\thand\n",
      "sub-002\tn/a\tn/a\tn/a\n",
      "\n",
      "Writing 'C:\\Users\\ICN_admin\\Documents\\WRITE_BERLIN_BIDS\\BIDS_Berlin\\participants.json'...\n",
      "\n",
      "{\n",
      "    \"participant_id\": {\n",
      "        \"Description\": \"Unique participant identifier\"\n",
      "    },\n",
      "    \"age\": {\n",
      "        \"Description\": \"Age of the participant at time of testing\",\n",
      "        \"Units\": \"years\"\n",
      "    },\n",
      "    \"sex\": {\n",
      "        \"Description\": \"Biological sex of the participant\",\n",
      "        \"Levels\": {\n",
      "            \"F\": \"female\",\n",
      "            \"M\": \"male\"\n",
      "        }\n",
      "    },\n",
      "    \"hand\": {\n",
      "        \"Description\": \"Handedness of the participant\",\n",
      "        \"Levels\": {\n",
      "            \"R\": \"right\",\n",
      "            \"L\": \"left\",\n",
      "            \"A\": \"ambidextrous\"\n",
      "        }\n",
      "    }\n",
      "}\n",
      "\n",
      "Writing 'C:\\Users\\ICN_admin\\Documents\\WRITE_BERLIN_BIDS\\BIDS_Berlin\\dataset_description.json'...\n",
      "\n",
      "{\n",
      "    \"Name\": \" \",\n",
      "    \"BIDSVersion\": \"1.4.0\",\n",
      "    \"DatasetType\": \"raw\",\n",
      "    \"Authors\": [\n",
      "        \"Please cite MNE-BIDS in your publication before removing this (citations in README)\"\n",
      "    ]\n",
      "}\n",
      "\n",
      "Writing 'C:\\Users\\ICN_admin\\Documents\\WRITE_BERLIN_BIDS\\BIDS_Berlin\\sub-002\\ses-20200131\\ieeg\\sub-002_ses-20200131_task-rest202001310001_run-3_ieeg.json'...\n",
      "\n",
      "{\n",
      "    \"TaskName\": \"rest202001310001\",\n",
      "    \"Manufacturer\": \"BrainProducts\",\n",
      "    \"PowerLineFrequency\": 50,\n",
      "    \"SamplingFrequency\": 1375.515818431912,\n",
      "    \"SoftwareFilters\": \"n/a\",\n",
      "    \"RecordingDuration\": 321.850897,\n",
      "    \"RecordingType\": \"continuous\",\n",
      "    \"iEEGReference\": \"n/a\",\n",
      "    \"ECOGChannelCount\": 11,\n",
      "    \"SEEGChannelCount\": 0,\n",
      "    \"EEGChannelCount\": 0,\n",
      "    \"EOGChannelCount\": 0,\n",
      "    \"ECGChannelCount\": 0,\n",
      "    \"EMGChannelCount\": 0,\n",
      "    \"MiscChannelCount\": 0,\n",
      "    \"TriggerChannelCount\": 0\n",
      "}\n",
      "\n",
      "Writing 'C:\\Users\\ICN_admin\\Documents\\WRITE_BERLIN_BIDS\\BIDS_Berlin\\sub-002\\ses-20200131\\ieeg\\sub-002_ses-20200131_task-rest202001310001_run-3_channels.tsv'...\n",
      "\n",
      "name\ttype\tunits\tlow_cutoff\thigh_cutoff\tdescription\tsampling_frequency\tstatus\tstatus_description\n",
      "LFP_STN_R_234\tECOG\tnV\t0.0\t687.757909215956\tElectrocorticography\t1375.515818431912\tgood\tn/a\n",
      "LFP_STN_R_567\tECOG\tnV\t0.0\t687.757909215956\tElectrocorticography\t1375.515818431912\tgood\tn/a\n",
      "LFP_BS_STN_L_1\tECOG\tnV\t0.0\t687.757909215956\tElectrocorticography\t1375.515818431912\tgood\tn/a\n",
      "LFP_STN_L_234\tECOG\tnV\t0.0\t687.757909215956\tElectrocorticography\t1375.515818431912\tgood\tn/a\n",
      "LFP_STN_L_567\tECOG\tnV\t0.0\t687.757909215956\tElectrocorticography\t1375.515818431912\tgood\tn/a\n",
      "Copying data files to sub-002_ses-20200131_task-rest202001310001_run-3_ieeg.vhdr\n",
      "\n",
      "Writing 'C:\\Users\\ICN_admin\\Documents\\WRITE_BERLIN_BIDS\\BIDS_Berlin\\sub-002\\ses-20200131\\sub-002_ses-20200131_scans.tsv'...\n",
      "\n",
      "filename\tacq_time\n",
      "ieeg/sub-002_ses-20200131_task-evoked202001310001_run-0_ieeg.vhdr\tn/a\n",
      "ieeg/sub-002_ses-20200131_task-evoked202001310002_run-1_ieeg.vhdr\tn/a\n",
      "ieeg/sub-002_ses-20200131_task-evoked202001310003_run-2_ieeg.vhdr\tn/a\n",
      "ieeg/sub-002_ses-20200131_task-rest202001310001_run-3_ieeg.vhdr\tn/a\n",
      "Wrote C:\\Users\\ICN_admin\\Documents\\WRITE_BERLIN_BIDS\\BIDS_Berlin\\sub-002\\ses-20200131\\sub-002_ses-20200131_scans.tsv entry with ieeg\\sub-002_ses-20200131_task-rest202001310001_run-3_ieeg.vhdr.\n"
     ]
    },
    {
     "name": "stderr",
     "output_type": "stream",
     "text": [
      "<ipython-input-113-0f011c86cb5a>:20: RuntimeWarning: No events found or provided. Please make sure to set channel type using raw.set_channel_types or provide events_data.\n",
      "  mne_bids.write_raw_bids(bv_raw, bids_path=bids_basename, overwrite=True)\n"
     ]
    }
   ],
   "source": [
    "info = mne.create_info(ch_labels, fsample, ch_types='ecog')\n",
    "raw = mne.io.RawArray(ieegdata, info)\n",
    "raw.set_eeg_reference(ref_channels=[]) # idea to set this writing out BIDS with rereference field \n",
    "\n",
    "#bids_basename = mne_bids.make_bids_basename(subject=subject_id, session=session, \\\n",
    "#                                            task=task, run=run)\n",
    "bids_basename = mne_bids.BIDSPath(subject=subject_id, session=session, \\\n",
    "                                            task=task, run=run, root=BIDS_path)\n",
    "pybv.write_brainvision(ieegdata, fsample, ch_labels, 'dummy_write', os.getcwd())\n",
    "\n",
    "bv_raw = mne.io.read_raw_brainvision('dummy_write.vhdr')\n",
    "\n",
    "# set all channel types to ECOG for iEEG - BIDS does not allow more than one channel type\n",
    "mapping = {}\n",
    "for ch in range(len(bv_raw.info['ch_names'])):\n",
    "    mapping[bv_raw.info['ch_names'][ch]] = 'ecog'\n",
    "bv_raw.set_channel_types(mapping)\n",
    "\n",
    "bv_raw.info['line_freq'] = 50\n",
    "mne_bids.write_raw_bids(bv_raw, bids_path=bids_basename, overwrite=True)\n",
    "\n",
    "#  remove dummy file\n",
    "os.remove('dummy_write.vhdr')\n",
    "os.remove('dummy_write.eeg')\n",
    "os.remove('dummy_write.vmrk')"
   ]
  },
  {
   "cell_type": "markdown",
   "metadata": {},
   "source": [
    "#### run BIDS_save_480ni57_rota_selfpaced_right_202001310001"
   ]
  },
  {
   "cell_type": "code",
   "execution_count": 115,
   "metadata": {},
   "outputs": [],
   "source": [
    "dat = loadmat(\"sub002\\\\ses-20200131\\\\AO\\\\BIDS_save_480ni57_rota_selfpaced_right_202001310001.mat\")"
   ]
  },
  {
   "cell_type": "code",
   "execution_count": 116,
   "metadata": {},
   "outputs": [],
   "source": [
    "BIDS_path = \"C:\\\\Users\\\\ICN_admin\\\\Documents\\\\WRITE_BERLIN_BIDS\\\\BIDS_Berlin\\\\\"\n",
    "subject_id = \"002\"\n",
    "session = \"20200131\"\n",
    "task = \"selfpacedrotation202001310001\"\n",
    "run = \"4\"\n",
    "\n",
    "fsample = dat[\"BIDS_struct_save\"][\"fsample\"]\n",
    "labels = list(dat[\"BIDS_struct_save\"][\"labels\"])\n",
    "ieegdata = dat[\"BIDS_struct_save\"][\"data\"]"
   ]
  },
  {
   "cell_type": "code",
   "execution_count": 117,
   "metadata": {},
   "outputs": [
    {
     "data": {
      "text/plain": [
       "['CECOG_LF_1___02___STNR234',\n",
       " 'CECOG_LF_1___03___STNR567',\n",
       " 'CECOG_LF_1___05___STNL1',\n",
       " 'CECOG_LF_1___06___STNL234',\n",
       " 'CECOG_LF_1___07___STNL567',\n",
       " 'CECOG_LF_1___11___ECOGL1',\n",
       " 'CECOG_LF_1___12___ECOGL2',\n",
       " 'CECOG_LF_1___13___ECOGL3',\n",
       " 'CECOG_LF_1___14___ECOGL4',\n",
       " 'CECOG_LF_1___15___ECOGL5',\n",
       " 'CECOG_LF_1___16___ECOGL6',\n",
       " 'CANALOG_IN_1']"
      ]
     },
     "execution_count": 117,
     "metadata": {},
     "output_type": "execute_result"
    }
   ],
   "source": [
    "labels"
   ]
  },
  {
   "cell_type": "code",
   "execution_count": 118,
   "metadata": {},
   "outputs": [],
   "source": [
    "ch_labels = [\"LFP_STN_R_234\", \"LFP_STN_R_567\",\"LFP_BS_STN_L_1\",\"LFP_STN_L_234\",\n",
    "          \"LFP_STN_L_567\",\"ECOG_AT_SM_L_1\", \"ECOG_AT_SM_L_2\", \n",
    "           \"ECOG_AT_SM_L_3\", \"ECOG_AT_SM_L_4\", \"ECOG_AT_SM_L_5\", \"ECOG_AT_SM_L_6\",\n",
    "            \"ANALOG_ROT_R_1\"]"
   ]
  },
  {
   "cell_type": "code",
   "execution_count": 119,
   "metadata": {},
   "outputs": [
    {
     "name": "stdout",
     "output_type": "stream",
     "text": [
      "Creating RawArray with float64 data, n_channels=12, n_times=613328\n",
      "    Range : 0 ... 613327 =      0.000 ...   446.056 secs\n",
      "Ready.\n",
      "ECoG channel type selected for re-referencing\n",
      "EEG data marked as already having the desired reference.\n",
      "Extracting parameters from dummy_write.vhdr...\n",
      "Setting channel info structure...\n",
      "Extracting parameters from C:\\Users\\ICN_admin\\Documents\\WRITE_BERLIN_BIDS\\dummy_write.vhdr...\n",
      "Setting channel info structure...\n",
      "\n",
      "Writing 'C:\\Users\\ICN_admin\\Documents\\WRITE_BERLIN_BIDS\\BIDS_Berlin\\participants.tsv'...\n",
      "\n",
      "participant_id\tage\tsex\thand\n",
      "sub-002\tn/a\tn/a\tn/a\n",
      "\n",
      "Writing 'C:\\Users\\ICN_admin\\Documents\\WRITE_BERLIN_BIDS\\BIDS_Berlin\\participants.json'...\n",
      "\n",
      "{\n",
      "    \"participant_id\": {\n",
      "        \"Description\": \"Unique participant identifier\"\n",
      "    },\n",
      "    \"age\": {\n",
      "        \"Description\": \"Age of the participant at time of testing\",\n",
      "        \"Units\": \"years\"\n",
      "    },\n",
      "    \"sex\": {\n",
      "        \"Description\": \"Biological sex of the participant\",\n",
      "        \"Levels\": {\n",
      "            \"F\": \"female\",\n",
      "            \"M\": \"male\"\n",
      "        }\n",
      "    },\n",
      "    \"hand\": {\n",
      "        \"Description\": \"Handedness of the participant\",\n",
      "        \"Levels\": {\n",
      "            \"R\": \"right\",\n",
      "            \"L\": \"left\",\n",
      "            \"A\": \"ambidextrous\"\n",
      "        }\n",
      "    }\n",
      "}\n",
      "\n",
      "Writing 'C:\\Users\\ICN_admin\\Documents\\WRITE_BERLIN_BIDS\\BIDS_Berlin\\dataset_description.json'...\n",
      "\n",
      "{\n",
      "    \"Name\": \" \",\n",
      "    \"BIDSVersion\": \"1.4.0\",\n",
      "    \"DatasetType\": \"raw\",\n",
      "    \"Authors\": [\n",
      "        \"Please cite MNE-BIDS in your publication before removing this (citations in README)\"\n",
      "    ]\n",
      "}\n",
      "\n",
      "Writing 'C:\\Users\\ICN_admin\\Documents\\WRITE_BERLIN_BIDS\\BIDS_Berlin\\sub-002\\ses-20200131\\ieeg\\sub-002_ses-20200131_task-selfpacedrotation202001310001_run-4_ieeg.json'...\n",
      "\n",
      "{\n",
      "    \"TaskName\": \"selfpacedrotation202001310001\",\n",
      "    \"Manufacturer\": \"BrainProducts\",\n",
      "    \"PowerLineFrequency\": 50,\n",
      "    \"SamplingFrequency\": 1375.515818431912,\n",
      "    \"SoftwareFilters\": \"n/a\",\n",
      "    \"RecordingDuration\": 445.88872899999996,\n",
      "    \"RecordingType\": \"continuous\",\n",
      "    \"iEEGReference\": \"n/a\",\n",
      "    \"ECOGChannelCount\": 12,\n",
      "    \"SEEGChannelCount\": 0,\n",
      "    \"EEGChannelCount\": 0,\n",
      "    \"EOGChannelCount\": 0,\n",
      "    \"ECGChannelCount\": 0,\n",
      "    \"EMGChannelCount\": 0,\n",
      "    \"MiscChannelCount\": 0,\n",
      "    \"TriggerChannelCount\": 0\n",
      "}\n",
      "\n",
      "Writing 'C:\\Users\\ICN_admin\\Documents\\WRITE_BERLIN_BIDS\\BIDS_Berlin\\sub-002\\ses-20200131\\ieeg\\sub-002_ses-20200131_task-selfpacedrotation202001310001_run-4_channels.tsv'...\n",
      "\n",
      "name\ttype\tunits\tlow_cutoff\thigh_cutoff\tdescription\tsampling_frequency\tstatus\tstatus_description\n",
      "LFP_STN_R_234\tECOG\tnV\t0.0\t687.757909215956\tElectrocorticography\t1375.515818431912\tgood\tn/a\n",
      "LFP_STN_R_567\tECOG\tnV\t0.0\t687.757909215956\tElectrocorticography\t1375.515818431912\tgood\tn/a\n",
      "LFP_BS_STN_L_1\tECOG\tnV\t0.0\t687.757909215956\tElectrocorticography\t1375.515818431912\tgood\tn/a\n",
      "LFP_STN_L_234\tECOG\tnV\t0.0\t687.757909215956\tElectrocorticography\t1375.515818431912\tgood\tn/a\n",
      "LFP_STN_L_567\tECOG\tnV\t0.0\t687.757909215956\tElectrocorticography\t1375.515818431912\tgood\tn/a\n",
      "Copying data files to sub-002_ses-20200131_task-selfpacedrotation202001310001_run-4_ieeg.vhdr\n",
      "\n",
      "Writing 'C:\\Users\\ICN_admin\\Documents\\WRITE_BERLIN_BIDS\\BIDS_Berlin\\sub-002\\ses-20200131\\sub-002_ses-20200131_scans.tsv'...\n",
      "\n",
      "filename\tacq_time\n",
      "ieeg/sub-002_ses-20200131_task-evoked202001310001_run-0_ieeg.vhdr\tn/a\n",
      "ieeg/sub-002_ses-20200131_task-evoked202001310002_run-1_ieeg.vhdr\tn/a\n",
      "ieeg/sub-002_ses-20200131_task-evoked202001310003_run-2_ieeg.vhdr\tn/a\n",
      "ieeg/sub-002_ses-20200131_task-rest202001310001_run-3_ieeg.vhdr\tn/a\n",
      "ieeg/sub-002_ses-20200131_task-selfpacedrotation202001310001_run-4_ieeg.vhdr\tn/a\n",
      "Wrote C:\\Users\\ICN_admin\\Documents\\WRITE_BERLIN_BIDS\\BIDS_Berlin\\sub-002\\ses-20200131\\sub-002_ses-20200131_scans.tsv entry with ieeg\\sub-002_ses-20200131_task-selfpacedrotation202001310001_run-4_ieeg.vhdr.\n"
     ]
    },
    {
     "name": "stderr",
     "output_type": "stream",
     "text": [
      "<ipython-input-119-0f011c86cb5a>:20: RuntimeWarning: No events found or provided. Please make sure to set channel type using raw.set_channel_types or provide events_data.\n",
      "  mne_bids.write_raw_bids(bv_raw, bids_path=bids_basename, overwrite=True)\n"
     ]
    }
   ],
   "source": [
    "info = mne.create_info(ch_labels, fsample, ch_types='ecog')\n",
    "raw = mne.io.RawArray(ieegdata, info)\n",
    "raw.set_eeg_reference(ref_channels=[]) # idea to set this writing out BIDS with rereference field \n",
    "\n",
    "#bids_basename = mne_bids.make_bids_basename(subject=subject_id, session=session, \\\n",
    "#                                            task=task, run=run)\n",
    "bids_basename = mne_bids.BIDSPath(subject=subject_id, session=session, \\\n",
    "                                            task=task, run=run, root=BIDS_path)\n",
    "pybv.write_brainvision(ieegdata, fsample, ch_labels, 'dummy_write', os.getcwd())\n",
    "\n",
    "bv_raw = mne.io.read_raw_brainvision('dummy_write.vhdr')\n",
    "\n",
    "# set all channel types to ECOG for iEEG - BIDS does not allow more than one channel type\n",
    "mapping = {}\n",
    "for ch in range(len(bv_raw.info['ch_names'])):\n",
    "    mapping[bv_raw.info['ch_names'][ch]] = 'ecog'\n",
    "bv_raw.set_channel_types(mapping)\n",
    "\n",
    "bv_raw.info['line_freq'] = 50\n",
    "mne_bids.write_raw_bids(bv_raw, bids_path=bids_basename, overwrite=True)\n",
    "\n",
    "#  remove dummy file\n",
    "os.remove('dummy_write.vhdr')\n",
    "os.remove('dummy_write.eeg')\n",
    "os.remove('dummy_write.vmrk')"
   ]
  },
  {
   "cell_type": "markdown",
   "metadata": {},
   "source": [
    "### TMSI BIDS_save_480NI57_REST_AVGREF_20200131-20200131T104719.DATA"
   ]
  },
  {
   "cell_type": "code",
   "execution_count": 120,
   "metadata": {},
   "outputs": [],
   "source": [
    "dat = loadmat(\"sub002\\\\ses-20200131\\\\TMSI\\\\BIDS_save_480NI57_REST_AVGREF_20200131-20200131T104719.DATA.mat\")"
   ]
  },
  {
   "cell_type": "code",
   "execution_count": 121,
   "metadata": {},
   "outputs": [],
   "source": [
    "BIDS_path = \"C:\\\\Users\\\\ICN_admin\\\\Documents\\\\WRITE_BERLIN_BIDS\\\\BIDS_Berlin\\\\\"\n",
    "subject_id = \"002\"\n",
    "session = \"20200131\"\n",
    "task = \"restAGREF20200131T104719\"\n",
    "run = \"5\"\n",
    "\n",
    "fsample = dat[\"BIDS_struct_save\"][\"fsample\"]\n",
    "labels = list(dat[\"BIDS_struct_save\"][\"labels\"])\n",
    "ieegdata = dat[\"BIDS_struct_save\"][\"data\"]"
   ]
  },
  {
   "cell_type": "code",
   "execution_count": 122,
   "metadata": {
    "scrolled": true
   },
   "outputs": [
    {
     "data": {
      "text/plain": [
       "['LFP_STNR1',\n",
       " 'LFP_STNR2',\n",
       " 'LFP_STNR3',\n",
       " 'LFP_STNR4',\n",
       " 'LFP_STNR5',\n",
       " 'LFP_STNR6',\n",
       " 'LFP_STNR7',\n",
       " 'LFP_STNR8',\n",
       " 'LFP_STNL1',\n",
       " 'LFP_STNL2',\n",
       " 'LFP_STNL3',\n",
       " 'LFP_STNL4',\n",
       " 'LFP_STNL5',\n",
       " 'LFP_STNL6',\n",
       " 'LFP_STNL7',\n",
       " 'LFP_STNL8',\n",
       " 'ECOG_L1',\n",
       " 'ECOG_L2',\n",
       " 'ECOG_L3',\n",
       " 'ECOG_L4',\n",
       " 'ECOG_L5',\n",
       " 'ECOG_L6']"
      ]
     },
     "execution_count": 122,
     "metadata": {},
     "output_type": "execute_result"
    }
   ],
   "source": [
    "labels"
   ]
  },
  {
   "cell_type": "code",
   "execution_count": 123,
   "metadata": {},
   "outputs": [],
   "source": [
    "ch_labels = [\"LFP_BS_STN_R_1\", \"LFP_BS_STN_R_2\",\"LFP_BS_STN_R_3\",\"LFP_BS_STN_R_4\",\n",
    "          \"LFP_BS_STN_R_5\",\"LFP_BS_STN_R_6\",\"LFP_BS_STN_R_7\",\"LFP_BS_STN_R_8\",\n",
    "          \"LFP_BS_STN_L_1\", \"LFP_BS_STN_L_2\",\"LFP_BS_STN_L_3\",\"LFP_BS_STN_L_4\",\n",
    "          \"LFP_BS_STN_L_5\",\"LFP_BS_STN_L_6\",\"LFP_BS_STN_L_7\",\"LFP_BS_STN_L_8\",\n",
    "          \"ECOG_AT_SM_L_1\", \"ECOG_AT_SM_L_2\", \n",
    "           \"ECOG_AT_SM_L_3\", \"ECOG_AT_SM_L_4\", \"ECOG_AT_SM_L_5\", \"ECOG_AT_SM_L_6\"]"
   ]
  },
  {
   "cell_type": "code",
   "execution_count": 124,
   "metadata": {},
   "outputs": [
    {
     "name": "stdout",
     "output_type": "stream",
     "text": [
      "Creating RawArray with float64 data, n_channels=22, n_times=732218\n",
      "    Range : 0 ... 732217 =      0.000 ...   178.764 secs\n",
      "Ready.\n",
      "ECoG channel type selected for re-referencing\n",
      "EEG data marked as already having the desired reference.\n",
      "Extracting parameters from dummy_write.vhdr...\n",
      "Setting channel info structure...\n",
      "Extracting parameters from C:\\Users\\ICN_admin\\Documents\\WRITE_BERLIN_BIDS\\dummy_write.vhdr...\n",
      "Setting channel info structure...\n",
      "\n",
      "Writing 'C:\\Users\\ICN_admin\\Documents\\WRITE_BERLIN_BIDS\\BIDS_Berlin\\participants.tsv'...\n",
      "\n",
      "participant_id\tage\tsex\thand\n",
      "sub-002\tn/a\tn/a\tn/a\n",
      "\n",
      "Writing 'C:\\Users\\ICN_admin\\Documents\\WRITE_BERLIN_BIDS\\BIDS_Berlin\\participants.json'...\n",
      "\n",
      "{\n",
      "    \"participant_id\": {\n",
      "        \"Description\": \"Unique participant identifier\"\n",
      "    },\n",
      "    \"age\": {\n",
      "        \"Description\": \"Age of the participant at time of testing\",\n",
      "        \"Units\": \"years\"\n",
      "    },\n",
      "    \"sex\": {\n",
      "        \"Description\": \"Biological sex of the participant\",\n",
      "        \"Levels\": {\n",
      "            \"F\": \"female\",\n",
      "            \"M\": \"male\"\n",
      "        }\n",
      "    },\n",
      "    \"hand\": {\n",
      "        \"Description\": \"Handedness of the participant\",\n",
      "        \"Levels\": {\n",
      "            \"R\": \"right\",\n",
      "            \"L\": \"left\",\n",
      "            \"A\": \"ambidextrous\"\n",
      "        }\n",
      "    }\n",
      "}\n",
      "\n",
      "Writing 'C:\\Users\\ICN_admin\\Documents\\WRITE_BERLIN_BIDS\\BIDS_Berlin\\dataset_description.json'...\n",
      "\n",
      "{\n",
      "    \"Name\": \" \",\n",
      "    \"BIDSVersion\": \"1.4.0\",\n",
      "    \"DatasetType\": \"raw\",\n",
      "    \"Authors\": [\n",
      "        \"Please cite MNE-BIDS in your publication before removing this (citations in README)\"\n",
      "    ]\n",
      "}\n",
      "\n",
      "Writing 'C:\\Users\\ICN_admin\\Documents\\WRITE_BERLIN_BIDS\\BIDS_Berlin\\sub-002\\ses-20200131\\ieeg\\sub-002_ses-20200131_task-restAGREF20200131T104719_run-5_ieeg.json'...\n",
      "\n",
      "{\n",
      "    \"TaskName\": \"restAGREF20200131T104719\",\n",
      "    \"Manufacturer\": \"BrainProducts\",\n",
      "    \"PowerLineFrequency\": 50,\n",
      "    \"SamplingFrequency\": 4098.360655737705,\n",
      "    \"SoftwareFilters\": \"n/a\",\n",
      "    \"RecordingDuration\": 178.660948,\n",
      "    \"RecordingType\": \"continuous\",\n",
      "    \"iEEGReference\": \"n/a\",\n",
      "    \"ECOGChannelCount\": 22,\n",
      "    \"SEEGChannelCount\": 0,\n",
      "    \"EEGChannelCount\": 0,\n",
      "    \"EOGChannelCount\": 0,\n",
      "    \"ECGChannelCount\": 0,\n",
      "    \"EMGChannelCount\": 0,\n",
      "    \"MiscChannelCount\": 0,\n",
      "    \"TriggerChannelCount\": 0\n",
      "}\n",
      "\n",
      "Writing 'C:\\Users\\ICN_admin\\Documents\\WRITE_BERLIN_BIDS\\BIDS_Berlin\\sub-002\\ses-20200131\\ieeg\\sub-002_ses-20200131_task-restAGREF20200131T104719_run-5_channels.tsv'...\n",
      "\n",
      "name\ttype\tunits\tlow_cutoff\thigh_cutoff\tdescription\tsampling_frequency\tstatus\tstatus_description\n",
      "LFP_BS_STN_R_1\tECOG\tnV\t0.0\t2049.1803278688526\tElectrocorticography\t4098.360655737705\tgood\tn/a\n",
      "LFP_BS_STN_R_2\tECOG\tnV\t0.0\t2049.1803278688526\tElectrocorticography\t4098.360655737705\tgood\tn/a\n",
      "LFP_BS_STN_R_3\tECOG\tnV\t0.0\t2049.1803278688526\tElectrocorticography\t4098.360655737705\tgood\tn/a\n",
      "LFP_BS_STN_R_4\tECOG\tnV\t0.0\t2049.1803278688526\tElectrocorticography\t4098.360655737705\tgood\tn/a\n",
      "LFP_BS_STN_R_5\tECOG\tnV\t0.0\t2049.1803278688526\tElectrocorticography\t4098.360655737705\tgood\tn/a\n",
      "Copying data files to sub-002_ses-20200131_task-restAGREF20200131T104719_run-5_ieeg.vhdr\n",
      "\n",
      "Writing 'C:\\Users\\ICN_admin\\Documents\\WRITE_BERLIN_BIDS\\BIDS_Berlin\\sub-002\\ses-20200131\\sub-002_ses-20200131_scans.tsv'...\n",
      "\n",
      "filename\tacq_time\n",
      "ieeg/sub-002_ses-20200131_task-evoked202001310001_run-0_ieeg.vhdr\tn/a\n",
      "ieeg/sub-002_ses-20200131_task-evoked202001310002_run-1_ieeg.vhdr\tn/a\n",
      "ieeg/sub-002_ses-20200131_task-evoked202001310003_run-2_ieeg.vhdr\tn/a\n",
      "ieeg/sub-002_ses-20200131_task-rest202001310001_run-3_ieeg.vhdr\tn/a\n",
      "ieeg/sub-002_ses-20200131_task-restAGREF20200131T104719_run-5_ieeg.vhdr\tn/a\n",
      "Wrote C:\\Users\\ICN_admin\\Documents\\WRITE_BERLIN_BIDS\\BIDS_Berlin\\sub-002\\ses-20200131\\sub-002_ses-20200131_scans.tsv entry with ieeg\\sub-002_ses-20200131_task-restAGREF20200131T104719_run-5_ieeg.vhdr.\n"
     ]
    },
    {
     "name": "stderr",
     "output_type": "stream",
     "text": [
      "<ipython-input-124-0f011c86cb5a>:20: RuntimeWarning: No events found or provided. Please make sure to set channel type using raw.set_channel_types or provide events_data.\n",
      "  mne_bids.write_raw_bids(bv_raw, bids_path=bids_basename, overwrite=True)\n"
     ]
    }
   ],
   "source": [
    "info = mne.create_info(ch_labels, fsample, ch_types='ecog')\n",
    "raw = mne.io.RawArray(ieegdata, info)\n",
    "raw.set_eeg_reference(ref_channels=[]) # idea to set this writing out BIDS with rereference field \n",
    "\n",
    "#bids_basename = mne_bids.make_bids_basename(subject=subject_id, session=session, \\\n",
    "#                                            task=task, run=run)\n",
    "bids_basename = mne_bids.BIDSPath(subject=subject_id, session=session, \\\n",
    "                                            task=task, run=run, root=BIDS_path)\n",
    "pybv.write_brainvision(ieegdata, fsample, ch_labels, 'dummy_write', os.getcwd())\n",
    "\n",
    "bv_raw = mne.io.read_raw_brainvision('dummy_write.vhdr')\n",
    "\n",
    "# set all channel types to ECOG for iEEG - BIDS does not allow more than one channel type\n",
    "mapping = {}\n",
    "for ch in range(len(bv_raw.info['ch_names'])):\n",
    "    mapping[bv_raw.info['ch_names'][ch]] = 'ecog'\n",
    "bv_raw.set_channel_types(mapping)\n",
    "\n",
    "bv_raw.info['line_freq'] = 50\n",
    "mne_bids.write_raw_bids(bv_raw, bids_path=bids_basename, overwrite=True)\n",
    "\n",
    "#  remove dummy file\n",
    "os.remove('dummy_write.vhdr')\n",
    "os.remove('dummy_write.eeg')\n",
    "os.remove('dummy_write.vmrk')"
   ]
  },
  {
   "cell_type": "markdown",
   "metadata": {},
   "source": [
    "#### BIDS_save_480NI57_REST_MEDON_AVGREF-20200130T112142.DATA"
   ]
  },
  {
   "cell_type": "code",
   "execution_count": 125,
   "metadata": {},
   "outputs": [],
   "source": [
    "dat = loadmat(\"sub002\\\\ses-20200131\\\\TMSI\\\\BIDS_save_480NI57_REST_MEDON_AVGREF-20200130T112142.DATA.mat\")"
   ]
  },
  {
   "cell_type": "code",
   "execution_count": 126,
   "metadata": {},
   "outputs": [],
   "source": [
    "BIDS_path = \"C:\\\\Users\\\\ICN_admin\\\\Documents\\\\WRITE_BERLIN_BIDS\\\\BIDS_Berlin\\\\\"\n",
    "subject_id = \"002\"\n",
    "session = \"20200131\"\n",
    "task = \"restMEDONAVGREF20200130T112142\"\n",
    "run = \"6\"\n",
    "\n",
    "fsample = dat[\"BIDS_struct_save\"][\"fsample\"]\n",
    "labels = list(dat[\"BIDS_struct_save\"][\"labels\"])\n",
    "ieegdata = dat[\"BIDS_struct_save\"][\"data\"]"
   ]
  },
  {
   "cell_type": "code",
   "execution_count": 127,
   "metadata": {
    "scrolled": true
   },
   "outputs": [
    {
     "data": {
      "text/plain": [
       "['LFP_STNR1',\n",
       " 'LFP_STNR2',\n",
       " 'LFP_STNR3',\n",
       " 'LFP_STNR4',\n",
       " 'LFP_STNR5',\n",
       " 'LFP_STNR6',\n",
       " 'LFP_STNR7',\n",
       " 'LFP_STNR8',\n",
       " 'LFP_STNL1',\n",
       " 'LFP_STNL2',\n",
       " 'LFP_STNL3',\n",
       " 'LFP_STNL4',\n",
       " 'LFP_STNL5',\n",
       " 'LFP_STNL6',\n",
       " 'LFP_STNL7',\n",
       " 'LFP_STNL8',\n",
       " 'EEG_Cz',\n",
       " 'EEG_Fz',\n",
       " 'ECOG_L1',\n",
       " 'ECOG_L2',\n",
       " 'ECOG_L3',\n",
       " 'ECOG_L4',\n",
       " 'ECOG_L5',\n",
       " 'ECOG_L6',\n",
       " 'BIP 01',\n",
       " 'BIP 02']"
      ]
     },
     "execution_count": 127,
     "metadata": {},
     "output_type": "execute_result"
    }
   ],
   "source": [
    "labels"
   ]
  },
  {
   "cell_type": "code",
   "execution_count": 128,
   "metadata": {},
   "outputs": [],
   "source": [
    "ch_labels = [\"LFP_BS_STN_R_1\", \"LFP_BS_STN_R_2\",\"LFP_BS_STN_R_3\",\"LFP_BS_STN_R_4\",\n",
    "          \"LFP_BS_STN_R_5\",\"LFP_BS_STN_R_6\",\"LFP_BS_STN_R_7\",\"LFP_BS_STN_R_8\",\n",
    "          \"LFP_BS_STN_L_1\", \"LFP_BS_STN_L_2\",\"LFP_BS_STN_L_3\",\"LFP_BS_STN_L_4\",\n",
    "          \"LFP_BS_STN_L_5\",\"LFP_BS_STN_L_6\",\"LFP_BS_STN_L_7\",\"LFP_BS_STN_L_8\",\n",
    "          \"EEG_TM_Cz__1\", \"EEG_TM_Cz__2\",\"ECOG_AT_SM_L_1\", \"ECOG_AT_SM_L_2\", \n",
    "           \"ECOG_AT_SM_L_3\", \"ECOG_AT_SM_L_4\", \"ECOG_AT_SM_L_5\", \"ECOG_AT_SM_L_6\",\n",
    "            \"EMG_TM_BR_R_1\", \"EMG_TM_BR_L_1\"]"
   ]
  },
  {
   "cell_type": "code",
   "execution_count": 129,
   "metadata": {},
   "outputs": [
    {
     "name": "stdout",
     "output_type": "stream",
     "text": [
      "Creating RawArray with float64 data, n_channels=26, n_times=826710\n",
      "    Range : 0 ... 826709 =      0.000 ...   201.833 secs\n",
      "Ready.\n",
      "ECoG channel type selected for re-referencing\n",
      "EEG data marked as already having the desired reference.\n",
      "Extracting parameters from dummy_write.vhdr...\n",
      "Setting channel info structure...\n",
      "Extracting parameters from C:\\Users\\ICN_admin\\Documents\\WRITE_BERLIN_BIDS\\dummy_write.vhdr...\n",
      "Setting channel info structure...\n",
      "\n",
      "Writing 'C:\\Users\\ICN_admin\\Documents\\WRITE_BERLIN_BIDS\\BIDS_Berlin\\participants.tsv'...\n",
      "\n",
      "participant_id\tage\tsex\thand\n",
      "sub-002\tn/a\tn/a\tn/a\n",
      "\n",
      "Writing 'C:\\Users\\ICN_admin\\Documents\\WRITE_BERLIN_BIDS\\BIDS_Berlin\\participants.json'...\n",
      "\n",
      "{\n",
      "    \"participant_id\": {\n",
      "        \"Description\": \"Unique participant identifier\"\n",
      "    },\n",
      "    \"age\": {\n",
      "        \"Description\": \"Age of the participant at time of testing\",\n",
      "        \"Units\": \"years\"\n",
      "    },\n",
      "    \"sex\": {\n",
      "        \"Description\": \"Biological sex of the participant\",\n",
      "        \"Levels\": {\n",
      "            \"F\": \"female\",\n",
      "            \"M\": \"male\"\n",
      "        }\n",
      "    },\n",
      "    \"hand\": {\n",
      "        \"Description\": \"Handedness of the participant\",\n",
      "        \"Levels\": {\n",
      "            \"R\": \"right\",\n",
      "            \"L\": \"left\",\n",
      "            \"A\": \"ambidextrous\"\n",
      "        }\n",
      "    }\n",
      "}\n",
      "\n",
      "Writing 'C:\\Users\\ICN_admin\\Documents\\WRITE_BERLIN_BIDS\\BIDS_Berlin\\dataset_description.json'...\n",
      "\n",
      "{\n",
      "    \"Name\": \" \",\n",
      "    \"BIDSVersion\": \"1.4.0\",\n",
      "    \"DatasetType\": \"raw\",\n",
      "    \"Authors\": [\n",
      "        \"Please cite MNE-BIDS in your publication before removing this (citations in README)\"\n",
      "    ]\n",
      "}\n",
      "\n",
      "Writing 'C:\\Users\\ICN_admin\\Documents\\WRITE_BERLIN_BIDS\\BIDS_Berlin\\sub-002\\ses-20200131\\ieeg\\sub-002_ses-20200131_task-restMEDONAVGREF20200130T112142_run-6_ieeg.json'...\n",
      "\n",
      "{\n",
      "    \"TaskName\": \"restMEDONAVGREF20200130T112142\",\n",
      "    \"Manufacturer\": \"BrainProducts\",\n",
      "    \"PowerLineFrequency\": 50,\n",
      "    \"SamplingFrequency\": 4098.360655737705,\n",
      "    \"SoftwareFilters\": \"n/a\",\n",
      "    \"RecordingDuration\": 201.716996,\n",
      "    \"RecordingType\": \"continuous\",\n",
      "    \"iEEGReference\": \"n/a\",\n",
      "    \"ECOGChannelCount\": 26,\n",
      "    \"SEEGChannelCount\": 0,\n",
      "    \"EEGChannelCount\": 0,\n",
      "    \"EOGChannelCount\": 0,\n",
      "    \"ECGChannelCount\": 0,\n",
      "    \"EMGChannelCount\": 0,\n",
      "    \"MiscChannelCount\": 0,\n",
      "    \"TriggerChannelCount\": 0\n",
      "}\n",
      "\n",
      "Writing 'C:\\Users\\ICN_admin\\Documents\\WRITE_BERLIN_BIDS\\BIDS_Berlin\\sub-002\\ses-20200131\\ieeg\\sub-002_ses-20200131_task-restMEDONAVGREF20200130T112142_run-6_channels.tsv'...\n",
      "\n",
      "name\ttype\tunits\tlow_cutoff\thigh_cutoff\tdescription\tsampling_frequency\tstatus\tstatus_description\n",
      "LFP_BS_STN_R_1\tECOG\tnV\t0.0\t2049.1803278688526\tElectrocorticography\t4098.360655737705\tgood\tn/a\n",
      "LFP_BS_STN_R_2\tECOG\tnV\t0.0\t2049.1803278688526\tElectrocorticography\t4098.360655737705\tgood\tn/a\n",
      "LFP_BS_STN_R_3\tECOG\tnV\t0.0\t2049.1803278688526\tElectrocorticography\t4098.360655737705\tgood\tn/a\n",
      "LFP_BS_STN_R_4\tECOG\tnV\t0.0\t2049.1803278688526\tElectrocorticography\t4098.360655737705\tgood\tn/a\n",
      "LFP_BS_STN_R_5\tECOG\tnV\t0.0\t2049.1803278688526\tElectrocorticography\t4098.360655737705\tgood\tn/a\n",
      "Copying data files to sub-002_ses-20200131_task-restMEDONAVGREF20200130T112142_run-6_ieeg.vhdr\n",
      "\n",
      "Writing 'C:\\Users\\ICN_admin\\Documents\\WRITE_BERLIN_BIDS\\BIDS_Berlin\\sub-002\\ses-20200131\\sub-002_ses-20200131_scans.tsv'...\n",
      "\n",
      "filename\tacq_time\n",
      "ieeg/sub-002_ses-20200131_task-evoked202001310001_run-0_ieeg.vhdr\tn/a\n",
      "ieeg/sub-002_ses-20200131_task-evoked202001310002_run-1_ieeg.vhdr\tn/a\n",
      "ieeg/sub-002_ses-20200131_task-evoked202001310003_run-2_ieeg.vhdr\tn/a\n",
      "ieeg/sub-002_ses-20200131_task-rest202001310001_run-3_ieeg.vhdr\tn/a\n",
      "ieeg/sub-002_ses-20200131_task-restAGREF20200131T104719_run-5_ieeg.vhdr\tn/a\n",
      "Wrote C:\\Users\\ICN_admin\\Documents\\WRITE_BERLIN_BIDS\\BIDS_Berlin\\sub-002\\ses-20200131\\sub-002_ses-20200131_scans.tsv entry with ieeg\\sub-002_ses-20200131_task-restMEDONAVGREF20200130T112142_run-6_ieeg.vhdr.\n"
     ]
    },
    {
     "name": "stderr",
     "output_type": "stream",
     "text": [
      "<ipython-input-129-0f011c86cb5a>:20: RuntimeWarning: No events found or provided. Please make sure to set channel type using raw.set_channel_types or provide events_data.\n",
      "  mne_bids.write_raw_bids(bv_raw, bids_path=bids_basename, overwrite=True)\n"
     ]
    }
   ],
   "source": [
    "info = mne.create_info(ch_labels, fsample, ch_types='ecog')\n",
    "raw = mne.io.RawArray(ieegdata, info)\n",
    "raw.set_eeg_reference(ref_channels=[]) # idea to set this writing out BIDS with rereference field \n",
    "\n",
    "#bids_basename = mne_bids.make_bids_basename(subject=subject_id, session=session, \\\n",
    "#                                            task=task, run=run)\n",
    "bids_basename = mne_bids.BIDSPath(subject=subject_id, session=session, \\\n",
    "                                            task=task, run=run, root=BIDS_path)\n",
    "pybv.write_brainvision(ieegdata, fsample, ch_labels, 'dummy_write', os.getcwd())\n",
    "\n",
    "bv_raw = mne.io.read_raw_brainvision('dummy_write.vhdr')\n",
    "\n",
    "# set all channel types to ECOG for iEEG - BIDS does not allow more than one channel type\n",
    "mapping = {}\n",
    "for ch in range(len(bv_raw.info['ch_names'])):\n",
    "    mapping[bv_raw.info['ch_names'][ch]] = 'ecog'\n",
    "bv_raw.set_channel_types(mapping)\n",
    "\n",
    "bv_raw.info['line_freq'] = 50\n",
    "mne_bids.write_raw_bids(bv_raw, bids_path=bids_basename, overwrite=True)\n",
    "\n",
    "#  remove dummy file\n",
    "os.remove('dummy_write.vhdr')\n",
    "os.remove('dummy_write.eeg')\n",
    "os.remove('dummy_write.vmrk')"
   ]
  },
  {
   "cell_type": "markdown",
   "metadata": {},
   "source": [
    "#### BIDS_save_480NI57_REST_MEDON-20200130T111458.DATA"
   ]
  },
  {
   "cell_type": "code",
   "execution_count": 134,
   "metadata": {},
   "outputs": [],
   "source": [
    "dat = loadmat(\"sub002\\\\ses-20200131\\\\TMSI\\\\BIDS_save_480NI57_REST_MEDON-20200130T111458.DATA.mat\")"
   ]
  },
  {
   "cell_type": "code",
   "execution_count": 135,
   "metadata": {},
   "outputs": [],
   "source": [
    "BIDS_path = \"C:\\\\Users\\\\ICN_admin\\\\Documents\\\\WRITE_BERLIN_BIDS\\\\BIDS_Berlin\\\\\"\n",
    "subject_id = \"002\"\n",
    "session = \"20200131\"\n",
    "task = \"restMEDON20200130T111458\"\n",
    "run = \"7\"\n",
    "fsample = dat[\"BIDS_struct_save\"][\"fsample\"]\n",
    "labels = list(dat[\"BIDS_struct_save\"][\"labels\"])\n",
    "ieegdata = dat[\"BIDS_struct_save\"][\"data\"]"
   ]
  },
  {
   "cell_type": "code",
   "execution_count": 136,
   "metadata": {
    "scrolled": true
   },
   "outputs": [
    {
     "data": {
      "text/plain": [
       "['CREF',\n",
       " 'LFP_STNR1',\n",
       " 'LFP_STNR2',\n",
       " 'LFP_STNR3',\n",
       " 'LFP_STNR4',\n",
       " 'LFP_STNR5',\n",
       " 'LFP_STNR6',\n",
       " 'LFP_STNR7',\n",
       " 'LFP_STNR8',\n",
       " 'LFP_STNL1',\n",
       " 'LFP_STNL2',\n",
       " 'LFP_STNL3',\n",
       " 'LFP_STNL4',\n",
       " 'LFP_STNL5',\n",
       " 'LFP_STNL6',\n",
       " 'LFP_STNL7',\n",
       " 'LFP_STNL8',\n",
       " 'EEG_Cz',\n",
       " 'EEG_Fz',\n",
       " 'ECOG_L1',\n",
       " 'ECOG_L2',\n",
       " 'ECOG_L3',\n",
       " 'ECOG_L4',\n",
       " 'ECOG_L5',\n",
       " 'ECOG_L6',\n",
       " 'BIP 01',\n",
       " 'BIP 02']"
      ]
     },
     "execution_count": 136,
     "metadata": {},
     "output_type": "execute_result"
    }
   ],
   "source": [
    "labels"
   ]
  },
  {
   "cell_type": "code",
   "execution_count": 137,
   "metadata": {},
   "outputs": [],
   "source": [
    "ch_labels = [\"CREF\", \"LFP_BS_STN_R_1\", \"LFP_BS_STN_R_2\",\"LFP_BS_STN_R_3\",\"LFP_BS_STN_R_4\",\n",
    "          \"LFP_BS_STN_R_5\",\"LFP_BS_STN_R_6\",\"LFP_BS_STN_R_7\",\"LFP_BS_STN_R_8\",\n",
    "          \"LFP_BS_STN_L_1\", \"LFP_BS_STN_L_2\",\"LFP_BS_STN_L_3\",\"LFP_BS_STN_L_4\",\n",
    "          \"LFP_BS_STN_L_5\",\"LFP_BS_STN_L_6\",\"LFP_BS_STN_L_7\",\"LFP_BS_STN_L_8\",\n",
    "          \"EEG_TM_Cz__1\", \"EEG_TM_Cz__2\",\"ECOG_AT_SM_L_1\", \"ECOG_AT_SM_L_2\", \n",
    "           \"ECOG_AT_SM_L_3\", \"ECOG_AT_SM_L_4\", \"ECOG_AT_SM_L_5\", \"ECOG_AT_SM_L_6\",\n",
    "            \"EMG_TM_BR_R_1\", \"EMG_TM_BR_L_1\"]"
   ]
  },
  {
   "cell_type": "code",
   "execution_count": 138,
   "metadata": {},
   "outputs": [
    {
     "data": {
      "text/plain": [
       "27"
      ]
     },
     "execution_count": 138,
     "metadata": {},
     "output_type": "execute_result"
    }
   ],
   "source": [
    "len(ch_labels)"
   ]
  },
  {
   "cell_type": "code",
   "execution_count": 139,
   "metadata": {},
   "outputs": [
    {
     "data": {
      "text/plain": [
       "(27, 1232738)"
      ]
     },
     "execution_count": 139,
     "metadata": {},
     "output_type": "execute_result"
    }
   ],
   "source": [
    "ieegdata.shape"
   ]
  },
  {
   "cell_type": "code",
   "execution_count": 140,
   "metadata": {},
   "outputs": [
    {
     "name": "stdout",
     "output_type": "stream",
     "text": [
      "Creating RawArray with float64 data, n_channels=27, n_times=1232738\n",
      "    Range : 0 ... 1232737 =      0.000 ...   300.961 secs\n",
      "Ready.\n",
      "ECoG channel type selected for re-referencing\n",
      "EEG data marked as already having the desired reference.\n",
      "Extracting parameters from dummy_write.vhdr...\n",
      "Setting channel info structure...\n",
      "Extracting parameters from C:\\Users\\ICN_admin\\Documents\\WRITE_BERLIN_BIDS\\dummy_write.vhdr...\n",
      "Setting channel info structure...\n",
      "\n",
      "Writing 'C:\\Users\\ICN_admin\\Documents\\WRITE_BERLIN_BIDS\\BIDS_Berlin\\participants.tsv'...\n",
      "\n",
      "participant_id\tage\tsex\thand\n",
      "sub-002\tn/a\tn/a\tn/a\n",
      "\n",
      "Writing 'C:\\Users\\ICN_admin\\Documents\\WRITE_BERLIN_BIDS\\BIDS_Berlin\\participants.json'...\n",
      "\n",
      "{\n",
      "    \"participant_id\": {\n",
      "        \"Description\": \"Unique participant identifier\"\n",
      "    },\n",
      "    \"age\": {\n",
      "        \"Description\": \"Age of the participant at time of testing\",\n",
      "        \"Units\": \"years\"\n",
      "    },\n",
      "    \"sex\": {\n",
      "        \"Description\": \"Biological sex of the participant\",\n",
      "        \"Levels\": {\n",
      "            \"F\": \"female\",\n",
      "            \"M\": \"male\"\n",
      "        }\n",
      "    },\n",
      "    \"hand\": {\n",
      "        \"Description\": \"Handedness of the participant\",\n",
      "        \"Levels\": {\n",
      "            \"R\": \"right\",\n",
      "            \"L\": \"left\",\n",
      "            \"A\": \"ambidextrous\"\n",
      "        }\n",
      "    }\n",
      "}\n",
      "\n",
      "Writing 'C:\\Users\\ICN_admin\\Documents\\WRITE_BERLIN_BIDS\\BIDS_Berlin\\dataset_description.json'...\n",
      "\n",
      "{\n",
      "    \"Name\": \" \",\n",
      "    \"BIDSVersion\": \"1.4.0\",\n",
      "    \"DatasetType\": \"raw\",\n",
      "    \"Authors\": [\n",
      "        \"Please cite MNE-BIDS in your publication before removing this (citations in README)\"\n",
      "    ]\n",
      "}\n",
      "\n",
      "Writing 'C:\\Users\\ICN_admin\\Documents\\WRITE_BERLIN_BIDS\\BIDS_Berlin\\sub-002\\ses-20200131\\ieeg\\sub-002_ses-20200131_task-restMEDON20200130T111458_run-7_ieeg.json'...\n",
      "\n",
      "{\n",
      "    \"TaskName\": \"restMEDON20200130T111458\",\n",
      "    \"Manufacturer\": \"BrainProducts\",\n",
      "    \"PowerLineFrequency\": 50,\n",
      "    \"SamplingFrequency\": 4098.360655737705,\n",
      "    \"SoftwareFilters\": \"n/a\",\n",
      "    \"RecordingDuration\": 300.787828,\n",
      "    \"RecordingType\": \"continuous\",\n",
      "    \"iEEGReference\": \"n/a\",\n",
      "    \"ECOGChannelCount\": 27,\n",
      "    \"SEEGChannelCount\": 0,\n",
      "    \"EEGChannelCount\": 0,\n",
      "    \"EOGChannelCount\": 0,\n",
      "    \"ECGChannelCount\": 0,\n",
      "    \"EMGChannelCount\": 0,\n",
      "    \"MiscChannelCount\": 0,\n",
      "    \"TriggerChannelCount\": 0\n",
      "}\n",
      "\n",
      "Writing 'C:\\Users\\ICN_admin\\Documents\\WRITE_BERLIN_BIDS\\BIDS_Berlin\\sub-002\\ses-20200131\\ieeg\\sub-002_ses-20200131_task-restMEDON20200130T111458_run-7_channels.tsv'...\n",
      "\n",
      "name\ttype\tunits\tlow_cutoff\thigh_cutoff\tdescription\tsampling_frequency\tstatus\tstatus_description\n",
      "CREF\tECOG\tnV\t0.0\t2049.1803278688526\tElectrocorticography\t4098.360655737705\tgood\tn/a\n",
      "LFP_BS_STN_R_1\tECOG\tnV\t0.0\t2049.1803278688526\tElectrocorticography\t4098.360655737705\tgood\tn/a\n",
      "LFP_BS_STN_R_2\tECOG\tnV\t0.0\t2049.1803278688526\tElectrocorticography\t4098.360655737705\tgood\tn/a\n",
      "LFP_BS_STN_R_3\tECOG\tnV\t0.0\t2049.1803278688526\tElectrocorticography\t4098.360655737705\tgood\tn/a\n",
      "LFP_BS_STN_R_4\tECOG\tnV\t0.0\t2049.1803278688526\tElectrocorticography\t4098.360655737705\tgood\tn/a\n",
      "Copying data files to sub-002_ses-20200131_task-restMEDON20200130T111458_run-7_ieeg.vhdr\n"
     ]
    },
    {
     "name": "stderr",
     "output_type": "stream",
     "text": [
      "<ipython-input-140-0f011c86cb5a>:20: RuntimeWarning: No events found or provided. Please make sure to set channel type using raw.set_channel_types or provide events_data.\n",
      "  mne_bids.write_raw_bids(bv_raw, bids_path=bids_basename, overwrite=True)\n"
     ]
    },
    {
     "name": "stdout",
     "output_type": "stream",
     "text": [
      "\n",
      "Writing 'C:\\Users\\ICN_admin\\Documents\\WRITE_BERLIN_BIDS\\BIDS_Berlin\\sub-002\\ses-20200131\\sub-002_ses-20200131_scans.tsv'...\n",
      "\n",
      "filename\tacq_time\n",
      "ieeg/sub-002_ses-20200131_task-evoked202001310001_run-0_ieeg.vhdr\tn/a\n",
      "ieeg/sub-002_ses-20200131_task-evoked202001310002_run-1_ieeg.vhdr\tn/a\n",
      "ieeg/sub-002_ses-20200131_task-evoked202001310003_run-2_ieeg.vhdr\tn/a\n",
      "ieeg/sub-002_ses-20200131_task-rest202001310001_run-3_ieeg.vhdr\tn/a\n",
      "ieeg/sub-002_ses-20200131_task-restAGREF20200131T104719_run-5_ieeg.vhdr\tn/a\n",
      "Wrote C:\\Users\\ICN_admin\\Documents\\WRITE_BERLIN_BIDS\\BIDS_Berlin\\sub-002\\ses-20200131\\sub-002_ses-20200131_scans.tsv entry with ieeg\\sub-002_ses-20200131_task-restMEDON20200130T111458_run-7_ieeg.vhdr.\n"
     ]
    }
   ],
   "source": [
    "info = mne.create_info(ch_labels, fsample, ch_types='ecog')\n",
    "raw = mne.io.RawArray(ieegdata, info)\n",
    "raw.set_eeg_reference(ref_channels=[]) # idea to set this writing out BIDS with rereference field \n",
    "\n",
    "#bids_basename = mne_bids.make_bids_basename(subject=subject_id, session=session, \\\n",
    "#                                            task=task, run=run)\n",
    "bids_basename = mne_bids.BIDSPath(subject=subject_id, session=session, \\\n",
    "                                            task=task, run=run, root=BIDS_path)\n",
    "pybv.write_brainvision(ieegdata, fsample, ch_labels, 'dummy_write', os.getcwd())\n",
    "\n",
    "bv_raw = mne.io.read_raw_brainvision('dummy_write.vhdr')\n",
    "\n",
    "# set all channel types to ECOG for iEEG - BIDS does not allow more than one channel type\n",
    "mapping = {}\n",
    "for ch in range(len(bv_raw.info['ch_names'])):\n",
    "    mapping[bv_raw.info['ch_names'][ch]] = 'ecog'\n",
    "bv_raw.set_channel_types(mapping)\n",
    "\n",
    "bv_raw.info['line_freq'] = 50\n",
    "mne_bids.write_raw_bids(bv_raw, bids_path=bids_basename, overwrite=True)\n",
    "\n",
    "#  remove dummy file\n",
    "os.remove('dummy_write.vhdr')\n",
    "os.remove('dummy_write.eeg')\n",
    "os.remove('dummy_write.vmrk')"
   ]
  },
  {
   "cell_type": "markdown",
   "metadata": {},
   "source": [
    "#### BIDS_save_480NI57_REST_STNR8REF_20200131-20200131T105228.DATA"
   ]
  },
  {
   "cell_type": "code",
   "execution_count": 141,
   "metadata": {},
   "outputs": [],
   "source": [
    "dat = loadmat(\"sub002\\\\ses-20200131\\\\TMSI\\\\BIDS_save_480NI57_REST_STNR8REF_20200131-20200131T105228.DATA.mat\")"
   ]
  },
  {
   "cell_type": "code",
   "execution_count": 142,
   "metadata": {},
   "outputs": [],
   "source": [
    "BIDS_path = \"C:\\\\Users\\\\ICN_admin\\\\Documents\\\\WRITE_BERLIN_BIDS\\\\BIDS_Berlin\\\\\"\n",
    "subject_id = \"002\"\n",
    "session = \"20200131\"\n",
    "task = \"restSTNR8REF20200131T105228\"\n",
    "run = \"8\"\n",
    "\n",
    "fsample = dat[\"BIDS_struct_save\"][\"fsample\"]\n",
    "labels = list(dat[\"BIDS_struct_save\"][\"labels\"])\n",
    "ieegdata = dat[\"BIDS_struct_save\"][\"data\"]"
   ]
  },
  {
   "cell_type": "code",
   "execution_count": 143,
   "metadata": {
    "scrolled": true
   },
   "outputs": [
    {
     "data": {
      "text/plain": [
       "['CREF',\n",
       " 'LFP_STNR1',\n",
       " 'LFP_STNR2',\n",
       " 'LFP_STNR3',\n",
       " 'LFP_STNR4',\n",
       " 'LFP_STNR5',\n",
       " 'LFP_STNR6',\n",
       " 'LFP_STNR7',\n",
       " 'LFP_STNL1',\n",
       " 'LFP_STNL2',\n",
       " 'LFP_STNL3',\n",
       " 'LFP_STNL4',\n",
       " 'LFP_STNL5',\n",
       " 'LFP_STNL6',\n",
       " 'LFP_STNL7',\n",
       " 'LFP_STNL8',\n",
       " 'ECOG_L1',\n",
       " 'ECOG_L2',\n",
       " 'ECOG_L3',\n",
       " 'ECOG_L4',\n",
       " 'ECOG_L5',\n",
       " 'ECOG_L6']"
      ]
     },
     "execution_count": 143,
     "metadata": {},
     "output_type": "execute_result"
    }
   ],
   "source": [
    "labels"
   ]
  },
  {
   "cell_type": "code",
   "execution_count": 144,
   "metadata": {},
   "outputs": [],
   "source": [
    "ch_labels = [\"CREF\", \"LFP_BS_STN_R_1\", \"LFP_BS_STN_R_2\",\"LFP_BS_STN_R_3\",\"LFP_BS_STN_R_4\",\n",
    "          \"LFP_BS_STN_R_5\",\"LFP_BS_STN_R_6\",\"LFP_BS_STN_R_7\",\n",
    "          \"LFP_BS_STN_L_1\", \"LFP_BS_STN_L_2\",\"LFP_BS_STN_L_3\",\"LFP_BS_STN_L_4\",\n",
    "          \"LFP_BS_STN_L_5\",\"LFP_BS_STN_L_6\",\"LFP_BS_STN_L_7\",\"LFP_BS_STN_L_8\",\n",
    "          \"ECOG_AT_SM_L_1\", \"ECOG_AT_SM_L_2\", \n",
    "           \"ECOG_AT_SM_L_3\", \"ECOG_AT_SM_L_4\", \"ECOG_AT_SM_L_5\", \"ECOG_AT_SM_L_6\"]"
   ]
  },
  {
   "cell_type": "code",
   "execution_count": 145,
   "metadata": {},
   "outputs": [
    {
     "name": "stdout",
     "output_type": "stream",
     "text": [
      "Creating RawArray with float64 data, n_channels=22, n_times=743208\n",
      "    Range : 0 ... 743207 =      0.000 ...   181.447 secs\n",
      "Ready.\n",
      "ECoG channel type selected for re-referencing\n",
      "EEG data marked as already having the desired reference.\n",
      "Extracting parameters from dummy_write.vhdr...\n",
      "Setting channel info structure...\n",
      "Extracting parameters from C:\\Users\\ICN_admin\\Documents\\WRITE_BERLIN_BIDS\\dummy_write.vhdr...\n",
      "Setting channel info structure...\n",
      "\n",
      "Writing 'C:\\Users\\ICN_admin\\Documents\\WRITE_BERLIN_BIDS\\BIDS_Berlin\\participants.tsv'...\n",
      "\n",
      "participant_id\tage\tsex\thand\n",
      "sub-002\tn/a\tn/a\tn/a\n",
      "\n",
      "Writing 'C:\\Users\\ICN_admin\\Documents\\WRITE_BERLIN_BIDS\\BIDS_Berlin\\participants.json'...\n",
      "\n",
      "{\n",
      "    \"participant_id\": {\n",
      "        \"Description\": \"Unique participant identifier\"\n",
      "    },\n",
      "    \"age\": {\n",
      "        \"Description\": \"Age of the participant at time of testing\",\n",
      "        \"Units\": \"years\"\n",
      "    },\n",
      "    \"sex\": {\n",
      "        \"Description\": \"Biological sex of the participant\",\n",
      "        \"Levels\": {\n",
      "            \"F\": \"female\",\n",
      "            \"M\": \"male\"\n",
      "        }\n",
      "    },\n",
      "    \"hand\": {\n",
      "        \"Description\": \"Handedness of the participant\",\n",
      "        \"Levels\": {\n",
      "            \"R\": \"right\",\n",
      "            \"L\": \"left\",\n",
      "            \"A\": \"ambidextrous\"\n",
      "        }\n",
      "    }\n",
      "}\n",
      "\n",
      "Writing 'C:\\Users\\ICN_admin\\Documents\\WRITE_BERLIN_BIDS\\BIDS_Berlin\\dataset_description.json'...\n",
      "\n",
      "{\n",
      "    \"Name\": \" \",\n",
      "    \"BIDSVersion\": \"1.4.0\",\n",
      "    \"DatasetType\": \"raw\",\n",
      "    \"Authors\": [\n",
      "        \"Please cite MNE-BIDS in your publication before removing this (citations in README)\"\n",
      "    ]\n",
      "}\n",
      "\n",
      "Writing 'C:\\Users\\ICN_admin\\Documents\\WRITE_BERLIN_BIDS\\BIDS_Berlin\\sub-002\\ses-20200131\\ieeg\\sub-002_ses-20200131_task-restSTNR8REF20200131T105228_run-8_ieeg.json'...\n",
      "\n",
      "{\n",
      "    \"TaskName\": \"restSTNR8REF20200131T105228\",\n",
      "    \"Manufacturer\": \"BrainProducts\",\n",
      "    \"PowerLineFrequency\": 50,\n",
      "    \"SamplingFrequency\": 4098.360655737705,\n",
      "    \"SoftwareFilters\": \"n/a\",\n",
      "    \"RecordingDuration\": 181.34250799999998,\n",
      "    \"RecordingType\": \"continuous\",\n",
      "    \"iEEGReference\": \"n/a\",\n",
      "    \"ECOGChannelCount\": 22,\n",
      "    \"SEEGChannelCount\": 0,\n",
      "    \"EEGChannelCount\": 0,\n",
      "    \"EOGChannelCount\": 0,\n",
      "    \"ECGChannelCount\": 0,\n",
      "    \"EMGChannelCount\": 0,\n",
      "    \"MiscChannelCount\": 0,\n",
      "    \"TriggerChannelCount\": 0\n",
      "}\n",
      "\n",
      "Writing 'C:\\Users\\ICN_admin\\Documents\\WRITE_BERLIN_BIDS\\BIDS_Berlin\\sub-002\\ses-20200131\\ieeg\\sub-002_ses-20200131_task-restSTNR8REF20200131T105228_run-8_channels.tsv'...\n",
      "\n",
      "name\ttype\tunits\tlow_cutoff\thigh_cutoff\tdescription\tsampling_frequency\tstatus\tstatus_description\n",
      "CREF\tECOG\tnV\t0.0\t2049.1803278688526\tElectrocorticography\t4098.360655737705\tgood\tn/a\n",
      "LFP_BS_STN_R_1\tECOG\tnV\t0.0\t2049.1803278688526\tElectrocorticography\t4098.360655737705\tgood\tn/a\n",
      "LFP_BS_STN_R_2\tECOG\tnV\t0.0\t2049.1803278688526\tElectrocorticography\t4098.360655737705\tgood\tn/a\n",
      "LFP_BS_STN_R_3\tECOG\tnV\t0.0\t2049.1803278688526\tElectrocorticography\t4098.360655737705\tgood\tn/a\n",
      "LFP_BS_STN_R_4\tECOG\tnV\t0.0\t2049.1803278688526\tElectrocorticography\t4098.360655737705\tgood\tn/a\n",
      "Copying data files to sub-002_ses-20200131_task-restSTNR8REF20200131T105228_run-8_ieeg.vhdr\n",
      "\n",
      "Writing 'C:\\Users\\ICN_admin\\Documents\\WRITE_BERLIN_BIDS\\BIDS_Berlin\\sub-002\\ses-20200131\\sub-002_ses-20200131_scans.tsv'...\n",
      "\n",
      "filename\tacq_time\n",
      "ieeg/sub-002_ses-20200131_task-evoked202001310001_run-0_ieeg.vhdr\tn/a\n",
      "ieeg/sub-002_ses-20200131_task-evoked202001310002_run-1_ieeg.vhdr\tn/a\n",
      "ieeg/sub-002_ses-20200131_task-evoked202001310003_run-2_ieeg.vhdr\tn/a\n",
      "ieeg/sub-002_ses-20200131_task-rest202001310001_run-3_ieeg.vhdr\tn/a\n",
      "ieeg/sub-002_ses-20200131_task-restAGREF20200131T104719_run-5_ieeg.vhdr\tn/a\n",
      "Wrote C:\\Users\\ICN_admin\\Documents\\WRITE_BERLIN_BIDS\\BIDS_Berlin\\sub-002\\ses-20200131\\sub-002_ses-20200131_scans.tsv entry with ieeg\\sub-002_ses-20200131_task-restSTNR8REF20200131T105228_run-8_ieeg.vhdr.\n"
     ]
    },
    {
     "name": "stderr",
     "output_type": "stream",
     "text": [
      "<ipython-input-145-0f011c86cb5a>:20: RuntimeWarning: No events found or provided. Please make sure to set channel type using raw.set_channel_types or provide events_data.\n",
      "  mne_bids.write_raw_bids(bv_raw, bids_path=bids_basename, overwrite=True)\n"
     ]
    }
   ],
   "source": [
    "info = mne.create_info(ch_labels, fsample, ch_types='ecog')\n",
    "raw = mne.io.RawArray(ieegdata, info)\n",
    "raw.set_eeg_reference(ref_channels=[]) # idea to set this writing out BIDS with rereference field \n",
    "\n",
    "#bids_basename = mne_bids.make_bids_basename(subject=subject_id, session=session, \\\n",
    "#                                            task=task, run=run)\n",
    "bids_basename = mne_bids.BIDSPath(subject=subject_id, session=session, \\\n",
    "                                            task=task, run=run, root=BIDS_path)\n",
    "pybv.write_brainvision(ieegdata, fsample, ch_labels, 'dummy_write', os.getcwd())\n",
    "\n",
    "bv_raw = mne.io.read_raw_brainvision('dummy_write.vhdr')\n",
    "\n",
    "# set all channel types to ECOG for iEEG - BIDS does not allow more than one channel type\n",
    "mapping = {}\n",
    "for ch in range(len(bv_raw.info['ch_names'])):\n",
    "    mapping[bv_raw.info['ch_names'][ch]] = 'ecog'\n",
    "bv_raw.set_channel_types(mapping)\n",
    "\n",
    "bv_raw.info['line_freq'] = 50\n",
    "mne_bids.write_raw_bids(bv_raw, bids_path=bids_basename, overwrite=True)\n",
    "\n",
    "#  remove dummy file\n",
    "os.remove('dummy_write.vhdr')\n",
    "os.remove('dummy_write.eeg')\n",
    "os.remove('dummy_write.vmrk')"
   ]
  },
  {
   "cell_type": "markdown",
   "metadata": {},
   "source": [
    "#### BIDS_save_480NI57_SPEECH_STNR8REF_20200131-20200131T105546.DATA"
   ]
  },
  {
   "cell_type": "code",
   "execution_count": 150,
   "metadata": {},
   "outputs": [],
   "source": [
    "dat = loadmat(\"sub002\\\\ses-20200131\\\\TMSI\\\\BIDS_save_480NI57_SPEECH_STNR8REF_20200131-20200131T105546.DATA\")"
   ]
  },
  {
   "cell_type": "code",
   "execution_count": 151,
   "metadata": {},
   "outputs": [],
   "source": [
    "BIDS_path = \"C:\\\\Users\\\\ICN_admin\\\\Documents\\\\WRITE_BERLIN_BIDS\\\\BIDS_Berlin\\\\\"\n",
    "subject_id = \"002\"\n",
    "session = \"20200131\"\n",
    "task = \"speechSTN8REF20200131T105546\"\n",
    "run = \"9\"\n",
    "\n",
    "fsample = dat[\"BIDS_struct_save\"][\"fsample\"]\n",
    "labels = list(dat[\"BIDS_struct_save\"][\"labels\"])\n",
    "ieegdata = dat[\"BIDS_struct_save\"][\"data\"]"
   ]
  },
  {
   "cell_type": "code",
   "execution_count": 152,
   "metadata": {
    "scrolled": true
   },
   "outputs": [
    {
     "data": {
      "text/plain": [
       "['CREF',\n",
       " 'LFP_STNR1',\n",
       " 'LFP_STNR2',\n",
       " 'LFP_STNR3',\n",
       " 'LFP_STNR4',\n",
       " 'LFP_STNR5',\n",
       " 'LFP_STNR6',\n",
       " 'LFP_STNR7',\n",
       " 'LFP_STNL1',\n",
       " 'LFP_STNL2',\n",
       " 'LFP_STNL3',\n",
       " 'LFP_STNL4',\n",
       " 'LFP_STNL5',\n",
       " 'LFP_STNL6',\n",
       " 'LFP_STNL7',\n",
       " 'LFP_STNL8',\n",
       " 'ECOG_L1',\n",
       " 'ECOG_L2',\n",
       " 'ECOG_L3',\n",
       " 'ECOG_L4',\n",
       " 'ECOG_L5',\n",
       " 'ECOG_L6']"
      ]
     },
     "execution_count": 152,
     "metadata": {},
     "output_type": "execute_result"
    }
   ],
   "source": [
    "labels"
   ]
  },
  {
   "cell_type": "code",
   "execution_count": 153,
   "metadata": {},
   "outputs": [],
   "source": [
    "ch_labels = [\"CREF\", \"LFP_BS_STN_R_1\", \"LFP_BS_STN_R_2\",\"LFP_BS_STN_R_3\",\"LFP_BS_STN_R_4\",\n",
    "          \"LFP_BS_STN_R_5\",\"LFP_BS_STN_R_6\",\"LFP_BS_STN_R_7\",\n",
    "          \"LFP_BS_STN_L_1\", \"LFP_BS_STN_L_2\",\"LFP_BS_STN_L_3\",\"LFP_BS_STN_L_4\",\n",
    "          \"LFP_BS_STN_L_5\",\"LFP_BS_STN_L_6\",\"LFP_BS_STN_L_7\",\"LFP_BS_STN_L_8\",\n",
    "          \"ECOG_AT_SM_L_1\", \"ECOG_AT_SM_L_2\", \n",
    "           \"ECOG_AT_SM_L_3\", \"ECOG_AT_SM_L_4\", \"ECOG_AT_SM_L_5\", \"ECOG_AT_SM_L_6\"]"
   ]
  },
  {
   "cell_type": "code",
   "execution_count": 154,
   "metadata": {},
   "outputs": [
    {
     "name": "stdout",
     "output_type": "stream",
     "text": [
      "Creating RawArray with float64 data, n_channels=22, n_times=915908\n",
      "    Range : 0 ... 915907 =      0.000 ...   223.610 secs\n",
      "Ready.\n",
      "ECoG channel type selected for re-referencing\n",
      "EEG data marked as already having the desired reference.\n",
      "Extracting parameters from dummy_write.vhdr...\n",
      "Setting channel info structure...\n",
      "Extracting parameters from C:\\Users\\ICN_admin\\Documents\\WRITE_BERLIN_BIDS\\dummy_write.vhdr...\n",
      "Setting channel info structure...\n",
      "\n",
      "Writing 'C:\\Users\\ICN_admin\\Documents\\WRITE_BERLIN_BIDS\\BIDS_Berlin\\participants.tsv'...\n",
      "\n",
      "participant_id\tage\tsex\thand\n",
      "sub-002\tn/a\tn/a\tn/a\n",
      "\n",
      "Writing 'C:\\Users\\ICN_admin\\Documents\\WRITE_BERLIN_BIDS\\BIDS_Berlin\\participants.json'...\n",
      "\n",
      "{\n",
      "    \"participant_id\": {\n",
      "        \"Description\": \"Unique participant identifier\"\n",
      "    },\n",
      "    \"age\": {\n",
      "        \"Description\": \"Age of the participant at time of testing\",\n",
      "        \"Units\": \"years\"\n",
      "    },\n",
      "    \"sex\": {\n",
      "        \"Description\": \"Biological sex of the participant\",\n",
      "        \"Levels\": {\n",
      "            \"F\": \"female\",\n",
      "            \"M\": \"male\"\n",
      "        }\n",
      "    },\n",
      "    \"hand\": {\n",
      "        \"Description\": \"Handedness of the participant\",\n",
      "        \"Levels\": {\n",
      "            \"R\": \"right\",\n",
      "            \"L\": \"left\",\n",
      "            \"A\": \"ambidextrous\"\n",
      "        }\n",
      "    }\n",
      "}\n",
      "\n",
      "Writing 'C:\\Users\\ICN_admin\\Documents\\WRITE_BERLIN_BIDS\\BIDS_Berlin\\dataset_description.json'...\n",
      "\n",
      "{\n",
      "    \"Name\": \" \",\n",
      "    \"BIDSVersion\": \"1.4.0\",\n",
      "    \"DatasetType\": \"raw\",\n",
      "    \"Authors\": [\n",
      "        \"Please cite MNE-BIDS in your publication before removing this (citations in README)\"\n",
      "    ]\n",
      "}\n",
      "\n",
      "Writing 'C:\\Users\\ICN_admin\\Documents\\WRITE_BERLIN_BIDS\\BIDS_Berlin\\sub-002\\ses-20200131\\ieeg\\sub-002_ses-20200131_task-speechSTN8REF20200131T105546_run-9_ieeg.json'...\n",
      "\n",
      "{\n",
      "    \"TaskName\": \"speechSTN8REF20200131T105546\",\n",
      "    \"Manufacturer\": \"BrainProducts\",\n",
      "    \"PowerLineFrequency\": 50,\n",
      "    \"SamplingFrequency\": 4098.360655737705,\n",
      "    \"SoftwareFilters\": \"n/a\",\n",
      "    \"RecordingDuration\": 223.48130799999998,\n",
      "    \"RecordingType\": \"continuous\",\n",
      "    \"iEEGReference\": \"n/a\",\n",
      "    \"ECOGChannelCount\": 22,\n",
      "    \"SEEGChannelCount\": 0,\n",
      "    \"EEGChannelCount\": 0,\n",
      "    \"EOGChannelCount\": 0,\n",
      "    \"ECGChannelCount\": 0,\n",
      "    \"EMGChannelCount\": 0,\n",
      "    \"MiscChannelCount\": 0,\n",
      "    \"TriggerChannelCount\": 0\n",
      "}\n",
      "\n",
      "Writing 'C:\\Users\\ICN_admin\\Documents\\WRITE_BERLIN_BIDS\\BIDS_Berlin\\sub-002\\ses-20200131\\ieeg\\sub-002_ses-20200131_task-speechSTN8REF20200131T105546_run-9_channels.tsv'...\n",
      "\n",
      "name\ttype\tunits\tlow_cutoff\thigh_cutoff\tdescription\tsampling_frequency\tstatus\tstatus_description\n",
      "CREF\tECOG\tnV\t0.0\t2049.1803278688526\tElectrocorticography\t4098.360655737705\tgood\tn/a\n",
      "LFP_BS_STN_R_1\tECOG\tnV\t0.0\t2049.1803278688526\tElectrocorticography\t4098.360655737705\tgood\tn/a\n",
      "LFP_BS_STN_R_2\tECOG\tnV\t0.0\t2049.1803278688526\tElectrocorticography\t4098.360655737705\tgood\tn/a\n",
      "LFP_BS_STN_R_3\tECOG\tnV\t0.0\t2049.1803278688526\tElectrocorticography\t4098.360655737705\tgood\tn/a\n",
      "LFP_BS_STN_R_4\tECOG\tnV\t0.0\t2049.1803278688526\tElectrocorticography\t4098.360655737705\tgood\tn/a\n",
      "Copying data files to sub-002_ses-20200131_task-speechSTN8REF20200131T105546_run-9_ieeg.vhdr\n"
     ]
    },
    {
     "name": "stderr",
     "output_type": "stream",
     "text": [
      "<ipython-input-154-0f011c86cb5a>:20: RuntimeWarning: No events found or provided. Please make sure to set channel type using raw.set_channel_types or provide events_data.\n",
      "  mne_bids.write_raw_bids(bv_raw, bids_path=bids_basename, overwrite=True)\n"
     ]
    },
    {
     "name": "stdout",
     "output_type": "stream",
     "text": [
      "\n",
      "Writing 'C:\\Users\\ICN_admin\\Documents\\WRITE_BERLIN_BIDS\\BIDS_Berlin\\sub-002\\ses-20200131\\sub-002_ses-20200131_scans.tsv'...\n",
      "\n",
      "filename\tacq_time\n",
      "ieeg/sub-002_ses-20200131_task-evoked202001310001_run-0_ieeg.vhdr\tn/a\n",
      "ieeg/sub-002_ses-20200131_task-evoked202001310002_run-1_ieeg.vhdr\tn/a\n",
      "ieeg/sub-002_ses-20200131_task-evoked202001310003_run-2_ieeg.vhdr\tn/a\n",
      "ieeg/sub-002_ses-20200131_task-rest202001310001_run-3_ieeg.vhdr\tn/a\n",
      "ieeg/sub-002_ses-20200131_task-restAGREF20200131T104719_run-5_ieeg.vhdr\tn/a\n",
      "Wrote C:\\Users\\ICN_admin\\Documents\\WRITE_BERLIN_BIDS\\BIDS_Berlin\\sub-002\\ses-20200131\\sub-002_ses-20200131_scans.tsv entry with ieeg\\sub-002_ses-20200131_task-speechSTN8REF20200131T105546_run-9_ieeg.vhdr.\n"
     ]
    }
   ],
   "source": [
    "info = mne.create_info(ch_labels, fsample, ch_types='ecog')\n",
    "raw = mne.io.RawArray(ieegdata, info)\n",
    "raw.set_eeg_reference(ref_channels=[]) # idea to set this writing out BIDS with rereference field \n",
    "\n",
    "#bids_basename = mne_bids.make_bids_basename(subject=subject_id, session=session, \\\n",
    "#                                            task=task, run=run)\n",
    "bids_basename = mne_bids.BIDSPath(subject=subject_id, session=session, \\\n",
    "                                            task=task, run=run, root=BIDS_path)\n",
    "pybv.write_brainvision(ieegdata, fsample, ch_labels, 'dummy_write', os.getcwd())\n",
    "\n",
    "bv_raw = mne.io.read_raw_brainvision('dummy_write.vhdr')\n",
    "\n",
    "# set all channel types to ECOG for iEEG - BIDS does not allow more than one channel type\n",
    "mapping = {}\n",
    "for ch in range(len(bv_raw.info['ch_names'])):\n",
    "    mapping[bv_raw.info['ch_names'][ch]] = 'ecog'\n",
    "bv_raw.set_channel_types(mapping)\n",
    "\n",
    "bv_raw.info['line_freq'] = 50\n",
    "mne_bids.write_raw_bids(bv_raw, bids_path=bids_basename, overwrite=True)\n",
    "\n",
    "#  remove dummy file\n",
    "os.remove('dummy_write.vhdr')\n",
    "os.remove('dummy_write.eeg')\n",
    "os.remove('dummy_write.vmrk')"
   ]
  },
  {
   "cell_type": "markdown",
   "metadata": {},
   "source": [
    "### session 20200201 run BIDS_save_480NI57_rest_stim_off_202002013"
   ]
  },
  {
   "cell_type": "code",
   "execution_count": 194,
   "metadata": {},
   "outputs": [],
   "source": [
    "dat = loadmat(\"sub002\\\\ses-20200201\\\\AO\\\\BIDS_save_480NI57_rest_stim_off_202002013.mat\")"
   ]
  },
  {
   "cell_type": "code",
   "execution_count": 195,
   "metadata": {},
   "outputs": [],
   "source": [
    "BIDS_path = \"C:\\\\Users\\\\ICN_admin\\\\Documents\\\\WRITE_BERLIN_BIDS\\\\BIDS_Berlin\\\\\"\n",
    "subject_id = \"002\"\n",
    "session = \"20200201\"\n",
    "task = \"restSTIMOFF202002013\"\n",
    "run = \"0\"\n",
    "\n",
    "fsample = dat[\"BIDS_struct_save\"][\"fsample\"]\n",
    "labels = list(dat[\"BIDS_struct_save\"][\"labels\"])\n",
    "ieegdata = dat[\"BIDS_struct_save\"][\"data\"]"
   ]
  },
  {
   "cell_type": "code",
   "execution_count": 196,
   "metadata": {
    "scrolled": true
   },
   "outputs": [
    {
     "data": {
      "text/plain": [
       "['CECOG_LF_1___01___STNR1',\n",
       " 'CECOG_LF_1___02___STNR2',\n",
       " 'CECOG_LF_1___03___STNR3',\n",
       " 'CECOG_LF_1___04___STNR4',\n",
       " 'CECOG_LF_1___05___STNR5',\n",
       " 'CECOG_LF_1___06___STNR6',\n",
       " 'CECOG_LF_1___07___STNR7',\n",
       " 'CECOG_LF_1___08___STNR8',\n",
       " 'CECOG_LF_1___09___STNL1',\n",
       " 'CECOG_LF_1___10___STNL2',\n",
       " 'CECOG_LF_1___11___STNL3',\n",
       " 'CECOG_LF_1___12___STNL4',\n",
       " 'CECOG_LF_1___13___STNL5',\n",
       " 'CECOG_LF_1___14___STNL6',\n",
       " 'CECOG_LF_1___15___STNL7',\n",
       " 'CECOG_LF_1___16___STNL8',\n",
       " 'CEEG_2___01___ECOGL1',\n",
       " 'CEEG_2___02___ECOGL2',\n",
       " 'CEEG_2___03___ECOGL3',\n",
       " 'CEEG_2___04___ECOGL4',\n",
       " 'CEEG_2___05___ECOGL5',\n",
       " 'CEEG_2___06___ECOGL6',\n",
       " 'CEEG_2___07___EEG_Cz',\n",
       " 'CEEG_2___08___EEG_Fz',\n",
       " 'CEEG_2___09___EMG_BcR1',\n",
       " 'CEEG_2___10___EMG_BcR2',\n",
       " 'CEEG_2___11___EMG_FxR1',\n",
       " 'CEEG_2___12___EMG_FxR2']"
      ]
     },
     "execution_count": 196,
     "metadata": {},
     "output_type": "execute_result"
    }
   ],
   "source": [
    "labels"
   ]
  },
  {
   "cell_type": "code",
   "execution_count": 197,
   "metadata": {},
   "outputs": [],
   "source": [
    "ch_labels = [\"LFP_BS_STN_R_1\", \"LFP_BS_STN_R_2\",\"LFP_BS_STN_R_3\",\"LFP_BS_STN_R_4\",\n",
    "          \"LFP_BS_STN_R_5\",\"LFP_BS_STN_R_6\",\"LFP_BS_STN_R_7\",\"LFP_BS_STN_R_8\",\n",
    "          \"LFP_BS_STN_L_1\", \"LFP_BS_STN_L_2\",\"LFP_BS_STN_L_3\",\"LFP_BS_STN_L_4\",\n",
    "          \"LFP_BS_STN_L_5\",\"LFP_BS_STN_L_6\",\"LFP_BS_STN_L_7\",\"LFP_BS_STN_L_8\",\n",
    "          \"ECOG_AT_SM_L_1\", \"ECOG_AT_SM_L_2\", \n",
    "          \"ECOG_AT_SM_L_3\", \"ECOG_AT_SM_L_4\", \"ECOG_AT_SM_L_5\", \"ECOG_AT_SM_L_6\",\n",
    "          \"EEG_TM_Cz__1\", \"EEG_TM_Fz__1\", \"EMG_TM_BR_1\", \"EMG_TM_BR_2\", \"EMG_TM_FDI_1\",\n",
    "          \"EMG_TM_FDI_2\"]"
   ]
  },
  {
   "cell_type": "code",
   "execution_count": 198,
   "metadata": {
    "scrolled": true
   },
   "outputs": [
    {
     "name": "stdout",
     "output_type": "stream",
     "text": [
      "Creating RawArray with float64 data, n_channels=28, n_times=241786\n",
      "    Range : 0 ... 241785 =      0.000 ...   175.844 secs\n",
      "Ready.\n",
      "ECoG channel type selected for re-referencing\n",
      "EEG data marked as already having the desired reference.\n",
      "Extracting parameters from dummy_write.vhdr...\n",
      "Setting channel info structure...\n",
      "Extracting parameters from C:\\Users\\ICN_admin\\Documents\\WRITE_BERLIN_BIDS\\dummy_write.vhdr...\n",
      "Setting channel info structure...\n",
      "\n",
      "Writing 'C:\\Users\\ICN_admin\\Documents\\WRITE_BERLIN_BIDS\\BIDS_Berlin\\participants.tsv'...\n",
      "\n",
      "participant_id\tage\tsex\thand\n",
      "sub-002\tn/a\tn/a\tn/a\n",
      "\n",
      "Writing 'C:\\Users\\ICN_admin\\Documents\\WRITE_BERLIN_BIDS\\BIDS_Berlin\\participants.json'...\n",
      "\n",
      "{\n",
      "    \"participant_id\": {\n",
      "        \"Description\": \"Unique participant identifier\"\n",
      "    },\n",
      "    \"age\": {\n",
      "        \"Description\": \"Age of the participant at time of testing\",\n",
      "        \"Units\": \"years\"\n",
      "    },\n",
      "    \"sex\": {\n",
      "        \"Description\": \"Biological sex of the participant\",\n",
      "        \"Levels\": {\n",
      "            \"F\": \"female\",\n",
      "            \"M\": \"male\"\n",
      "        }\n",
      "    },\n",
      "    \"hand\": {\n",
      "        \"Description\": \"Handedness of the participant\",\n",
      "        \"Levels\": {\n",
      "            \"R\": \"right\",\n",
      "            \"L\": \"left\",\n",
      "            \"A\": \"ambidextrous\"\n",
      "        }\n",
      "    }\n",
      "}\n",
      "\n",
      "Writing 'C:\\Users\\ICN_admin\\Documents\\WRITE_BERLIN_BIDS\\BIDS_Berlin\\dataset_description.json'...\n",
      "\n",
      "{\n",
      "    \"Name\": \" \",\n",
      "    \"BIDSVersion\": \"1.4.0\",\n",
      "    \"DatasetType\": \"raw\",\n",
      "    \"Authors\": [\n",
      "        \"Please cite MNE-BIDS in your publication before removing this (citations in README)\"\n",
      "    ]\n",
      "}\n",
      "\n",
      "Writing 'C:\\Users\\ICN_admin\\Documents\\WRITE_BERLIN_BIDS\\BIDS_Berlin\\sub-002\\ses-20200201\\ieeg\\sub-002_ses-20200201_task-restSTIMOFF202002013_run-0_ieeg.json'...\n",
      "\n",
      "{\n",
      "    \"TaskName\": \"restSTIMOFF202002013\",\n",
      "    \"Manufacturer\": \"BrainProducts\",\n",
      "    \"PowerLineFrequency\": 50,\n",
      "    \"SamplingFrequency\": 1375.515818431912,\n",
      "    \"SoftwareFilters\": \"n/a\",\n",
      "    \"RecordingDuration\": 175.777695,\n",
      "    \"RecordingType\": \"continuous\",\n",
      "    \"iEEGReference\": \"n/a\",\n",
      "    \"ECOGChannelCount\": 28,\n",
      "    \"SEEGChannelCount\": 0,\n",
      "    \"EEGChannelCount\": 0,\n",
      "    \"EOGChannelCount\": 0,\n",
      "    \"ECGChannelCount\": 0,\n",
      "    \"EMGChannelCount\": 0,\n",
      "    \"MiscChannelCount\": 0,\n",
      "    \"TriggerChannelCount\": 0\n",
      "}\n",
      "\n",
      "Writing 'C:\\Users\\ICN_admin\\Documents\\WRITE_BERLIN_BIDS\\BIDS_Berlin\\sub-002\\ses-20200201\\ieeg\\sub-002_ses-20200201_task-restSTIMOFF202002013_run-0_channels.tsv'...\n",
      "\n",
      "name\ttype\tunits\tlow_cutoff\thigh_cutoff\tdescription\tsampling_frequency\tstatus\tstatus_description\n",
      "LFP_BS_STN_R_1\tECOG\tnV\t0.0\t687.757909215956\tElectrocorticography\t1375.515818431912\tgood\tn/a\n",
      "LFP_BS_STN_R_2\tECOG\tnV\t0.0\t687.757909215956\tElectrocorticography\t1375.515818431912\tgood\tn/a\n",
      "LFP_BS_STN_R_3\tECOG\tnV\t0.0\t687.757909215956\tElectrocorticography\t1375.515818431912\tgood\tn/a\n",
      "LFP_BS_STN_R_4\tECOG\tnV\t0.0\t687.757909215956\tElectrocorticography\t1375.515818431912\tgood\tn/a\n",
      "LFP_BS_STN_R_5\tECOG\tnV\t0.0\t687.757909215956\tElectrocorticography\t1375.515818431912\tgood\tn/a\n",
      "Copying data files to sub-002_ses-20200201_task-restSTIMOFF202002013_run-0_ieeg.vhdr\n",
      "\n",
      "Writing 'C:\\Users\\ICN_admin\\Documents\\WRITE_BERLIN_BIDS\\BIDS_Berlin\\sub-002\\ses-20200201\\sub-002_ses-20200201_scans.tsv'...\n",
      "\n",
      "filename\tacq_time\n",
      "ieeg/sub-002_ses-20200201_task-restSTIMOFF202002013_run-0_ieeg.vhdr\tn/a\n",
      "Wrote C:\\Users\\ICN_admin\\Documents\\WRITE_BERLIN_BIDS\\BIDS_Berlin\\sub-002\\ses-20200201\\sub-002_ses-20200201_scans.tsv entry with ieeg\\sub-002_ses-20200201_task-restSTIMOFF202002013_run-0_ieeg.vhdr.\n"
     ]
    },
    {
     "name": "stderr",
     "output_type": "stream",
     "text": [
      "<ipython-input-198-0f011c86cb5a>:20: RuntimeWarning: No events found or provided. Please make sure to set channel type using raw.set_channel_types or provide events_data.\n",
      "  mne_bids.write_raw_bids(bv_raw, bids_path=bids_basename, overwrite=True)\n"
     ]
    }
   ],
   "source": [
    "info = mne.create_info(ch_labels, fsample, ch_types='ecog')\n",
    "raw = mne.io.RawArray(ieegdata, info)\n",
    "raw.set_eeg_reference(ref_channels=[]) # idea to set this writing out BIDS with rereference field \n",
    "\n",
    "#bids_basename = mne_bids.make_bids_basename(subject=subject_id, session=session, \\\n",
    "#                                            task=task, run=run)\n",
    "bids_basename = mne_bids.BIDSPath(subject=subject_id, session=session, \\\n",
    "                                            task=task, run=run, root=BIDS_path)\n",
    "pybv.write_brainvision(ieegdata, fsample, ch_labels, 'dummy_write', os.getcwd())\n",
    "\n",
    "bv_raw = mne.io.read_raw_brainvision('dummy_write.vhdr')\n",
    "\n",
    "# set all channel types to ECOG for iEEG - BIDS does not allow more than one channel type\n",
    "mapping = {}\n",
    "for ch in range(len(bv_raw.info['ch_names'])):\n",
    "    mapping[bv_raw.info['ch_names'][ch]] = 'ecog'\n",
    "bv_raw.set_channel_types(mapping)\n",
    "\n",
    "bv_raw.info['line_freq'] = 50\n",
    "mne_bids.write_raw_bids(bv_raw, bids_path=bids_basename, overwrite=True)\n",
    "\n",
    "#  remove dummy file\n",
    "os.remove('dummy_write.vhdr')\n",
    "os.remove('dummy_write.eeg')\n",
    "os.remove('dummy_write.vmrk')"
   ]
  },
  {
   "cell_type": "markdown",
   "metadata": {},
   "source": [
    "### BIDS_save_480NI57_rest_stimon_stnl1-8_0.8mA_20200201"
   ]
  },
  {
   "cell_type": "code",
   "execution_count": 199,
   "metadata": {},
   "outputs": [],
   "source": [
    "dat = loadmat(\"sub002\\\\ses-20200201\\\\AO\\\\BIDS_save_480NI57_rest_stimon_stnl1-8_0.8mA_20200201.mat\")"
   ]
  },
  {
   "cell_type": "code",
   "execution_count": 200,
   "metadata": {},
   "outputs": [],
   "source": [
    "BIDS_path = \"C:\\\\Users\\\\ICN_admin\\\\Documents\\\\WRITE_BERLIN_BIDS\\\\BIDS_Berlin\\\\\"\n",
    "subject_id = \"002\"\n",
    "session = \"20200201\"\n",
    "task = \"restSTIMONSTNL1TO0DOT8mA\"\n",
    "run = \"1\"\n",
    "\n",
    "fsample = dat[\"BIDS_struct_save\"][\"fsample\"]\n",
    "labels = list(dat[\"BIDS_struct_save\"][\"labels\"])\n",
    "ieegdata = dat[\"BIDS_struct_save\"][\"data\"]"
   ]
  },
  {
   "cell_type": "code",
   "execution_count": 201,
   "metadata": {
    "scrolled": true
   },
   "outputs": [
    {
     "data": {
      "text/plain": [
       "['CECOG_LF_1___01___STNR1',\n",
       " 'CECOG_LF_1___02___STNR2',\n",
       " 'CECOG_LF_1___03___STNR3',\n",
       " 'CECOG_LF_1___04___STNR4',\n",
       " 'CECOG_LF_1___05___STNR5',\n",
       " 'CECOG_LF_1___06___STNR6',\n",
       " 'CECOG_LF_1___07___STNR7',\n",
       " 'CECOG_LF_1___08___STNR8',\n",
       " 'CECOG_LF_1___09___STNL1',\n",
       " 'CECOG_LF_1___10___STNL2',\n",
       " 'CECOG_LF_1___11___STNL3',\n",
       " 'CECOG_LF_1___12___STNL4',\n",
       " 'CECOG_LF_1___13___STNL5',\n",
       " 'CECOG_LF_1___14___STNL6',\n",
       " 'CECOG_LF_1___15___STNL7',\n",
       " 'CECOG_LF_1___16___STNL8',\n",
       " 'CEEG_2___01___ECOGL1',\n",
       " 'CEEG_2___02___ECOGL2',\n",
       " 'CEEG_2___03___ECOGL3',\n",
       " 'CEEG_2___04___ECOGL4',\n",
       " 'CEEG_2___05___ECOGL5',\n",
       " 'CEEG_2___06___ECOGL6',\n",
       " 'CEEG_2___07___EEG_Cz',\n",
       " 'CEEG_2___08___EEG_Fz',\n",
       " 'CEEG_2___09___EMG_BcR1',\n",
       " 'CEEG_2___10___EMG_BcR2',\n",
       " 'CEEG_2___11___EMG_FxR1',\n",
       " 'CEEG_2___12___EMG_FxR2']"
      ]
     },
     "execution_count": 201,
     "metadata": {},
     "output_type": "execute_result"
    }
   ],
   "source": [
    "labels"
   ]
  },
  {
   "cell_type": "code",
   "execution_count": 202,
   "metadata": {},
   "outputs": [],
   "source": [
    "ch_labels = [\"LFP_BS_STN_R_1\", \"LFP_BS_STN_R_2\",\"LFP_BS_STN_R_3\",\"LFP_BS_STN_R_4\",\n",
    "          \"LFP_BS_STN_R_5\",\"LFP_BS_STN_R_6\",\"LFP_BS_STN_R_7\",\"LFP_BS_STN_R_8\",\n",
    "          \"LFP_BS_STN_L_1\", \"LFP_BS_STN_L_2\",\"LFP_BS_STN_L_3\",\"LFP_BS_STN_L_4\",\n",
    "          \"LFP_BS_STN_L_5\",\"LFP_BS_STN_L_6\",\"LFP_BS_STN_L_7\",\"LFP_BS_STN_L_8\",\n",
    "          \"ECOG_AT_SM_L_1\", \"ECOG_AT_SM_L_2\", \n",
    "          \"ECOG_AT_SM_L_3\", \"ECOG_AT_SM_L_4\", \"ECOG_AT_SM_L_5\", \"ECOG_AT_SM_L_6\",\n",
    "          \"EEG_TM_Cz__1\", \"EEG_TM_Fz__1\", \"EMG_TM_BR_1\", \"EMG_TM_BR_2\", \"EMG_TM_FDI_1\",\n",
    "          \"EMG_TM_FDI_2\"]"
   ]
  },
  {
   "cell_type": "code",
   "execution_count": 203,
   "metadata": {
    "scrolled": true
   },
   "outputs": [
    {
     "name": "stdout",
     "output_type": "stream",
     "text": [
      "Creating RawArray with float64 data, n_channels=28, n_times=418229\n",
      "    Range : 0 ... 418228 =      0.000 ...   304.166 secs\n",
      "Ready.\n",
      "ECoG channel type selected for re-referencing\n",
      "EEG data marked as already having the desired reference.\n",
      "Extracting parameters from dummy_write.vhdr...\n",
      "Setting channel info structure...\n",
      "Extracting parameters from C:\\Users\\ICN_admin\\Documents\\WRITE_BERLIN_BIDS\\dummy_write.vhdr...\n",
      "Setting channel info structure...\n",
      "\n",
      "Writing 'C:\\Users\\ICN_admin\\Documents\\WRITE_BERLIN_BIDS\\BIDS_Berlin\\participants.tsv'...\n",
      "\n",
      "participant_id\tage\tsex\thand\n",
      "sub-002\tn/a\tn/a\tn/a\n",
      "\n",
      "Writing 'C:\\Users\\ICN_admin\\Documents\\WRITE_BERLIN_BIDS\\BIDS_Berlin\\participants.json'...\n",
      "\n",
      "{\n",
      "    \"participant_id\": {\n",
      "        \"Description\": \"Unique participant identifier\"\n",
      "    },\n",
      "    \"age\": {\n",
      "        \"Description\": \"Age of the participant at time of testing\",\n",
      "        \"Units\": \"years\"\n",
      "    },\n",
      "    \"sex\": {\n",
      "        \"Description\": \"Biological sex of the participant\",\n",
      "        \"Levels\": {\n",
      "            \"F\": \"female\",\n",
      "            \"M\": \"male\"\n",
      "        }\n",
      "    },\n",
      "    \"hand\": {\n",
      "        \"Description\": \"Handedness of the participant\",\n",
      "        \"Levels\": {\n",
      "            \"R\": \"right\",\n",
      "            \"L\": \"left\",\n",
      "            \"A\": \"ambidextrous\"\n",
      "        }\n",
      "    }\n",
      "}\n",
      "\n",
      "Writing 'C:\\Users\\ICN_admin\\Documents\\WRITE_BERLIN_BIDS\\BIDS_Berlin\\dataset_description.json'...\n",
      "\n",
      "{\n",
      "    \"Name\": \" \",\n",
      "    \"BIDSVersion\": \"1.4.0\",\n",
      "    \"DatasetType\": \"raw\",\n",
      "    \"Authors\": [\n",
      "        \"Please cite MNE-BIDS in your publication before removing this (citations in README)\"\n",
      "    ]\n",
      "}\n",
      "\n",
      "Writing 'C:\\Users\\ICN_admin\\Documents\\WRITE_BERLIN_BIDS\\BIDS_Berlin\\sub-002\\ses-20200201\\ieeg\\sub-002_ses-20200201_task-restSTIMONSTNL1TO0DOT8mA_run-1_ieeg.json'...\n",
      "\n",
      "{\n",
      "    \"TaskName\": \"restSTIMONSTNL1TO0DOT8mA\",\n",
      "    \"Manufacturer\": \"BrainProducts\",\n",
      "    \"PowerLineFrequency\": 50,\n",
      "    \"SamplingFrequency\": 1375.515818431912,\n",
      "    \"SoftwareFilters\": \"n/a\",\n",
      "    \"RecordingDuration\": 304.05175599999995,\n",
      "    \"RecordingType\": \"continuous\",\n",
      "    \"iEEGReference\": \"n/a\",\n",
      "    \"ECOGChannelCount\": 28,\n",
      "    \"SEEGChannelCount\": 0,\n",
      "    \"EEGChannelCount\": 0,\n",
      "    \"EOGChannelCount\": 0,\n",
      "    \"ECGChannelCount\": 0,\n",
      "    \"EMGChannelCount\": 0,\n",
      "    \"MiscChannelCount\": 0,\n",
      "    \"TriggerChannelCount\": 0\n",
      "}\n",
      "\n",
      "Writing 'C:\\Users\\ICN_admin\\Documents\\WRITE_BERLIN_BIDS\\BIDS_Berlin\\sub-002\\ses-20200201\\ieeg\\sub-002_ses-20200201_task-restSTIMONSTNL1TO0DOT8mA_run-1_channels.tsv'...\n",
      "\n",
      "name\ttype\tunits\tlow_cutoff\thigh_cutoff\tdescription\tsampling_frequency\tstatus\tstatus_description\n",
      "LFP_BS_STN_R_1\tECOG\tnV\t0.0\t687.757909215956\tElectrocorticography\t1375.515818431912\tgood\tn/a\n",
      "LFP_BS_STN_R_2\tECOG\tnV\t0.0\t687.757909215956\tElectrocorticography\t1375.515818431912\tgood\tn/a\n",
      "LFP_BS_STN_R_3\tECOG\tnV\t0.0\t687.757909215956\tElectrocorticography\t1375.515818431912\tgood\tn/a\n",
      "LFP_BS_STN_R_4\tECOG\tnV\t0.0\t687.757909215956\tElectrocorticography\t1375.515818431912\tgood\tn/a\n",
      "LFP_BS_STN_R_5\tECOG\tnV\t0.0\t687.757909215956\tElectrocorticography\t1375.515818431912\tgood\tn/a\n",
      "Copying data files to sub-002_ses-20200201_task-restSTIMONSTNL1TO0DOT8mA_run-1_ieeg.vhdr\n",
      "\n",
      "Writing 'C:\\Users\\ICN_admin\\Documents\\WRITE_BERLIN_BIDS\\BIDS_Berlin\\sub-002\\ses-20200201\\sub-002_ses-20200201_scans.tsv'...\n",
      "\n",
      "filename\tacq_time\n",
      "ieeg/sub-002_ses-20200201_task-restSTIMOFF202002013_run-0_ieeg.vhdr\tn/a\n",
      "ieeg/sub-002_ses-20200201_task-restSTIMONSTNL1TO0DOT8mA_run-1_ieeg.vhdr\tn/a\n",
      "Wrote C:\\Users\\ICN_admin\\Documents\\WRITE_BERLIN_BIDS\\BIDS_Berlin\\sub-002\\ses-20200201\\sub-002_ses-20200201_scans.tsv entry with ieeg\\sub-002_ses-20200201_task-restSTIMONSTNL1TO0DOT8mA_run-1_ieeg.vhdr.\n"
     ]
    },
    {
     "name": "stderr",
     "output_type": "stream",
     "text": [
      "<ipython-input-203-0f011c86cb5a>:20: RuntimeWarning: No events found or provided. Please make sure to set channel type using raw.set_channel_types or provide events_data.\n",
      "  mne_bids.write_raw_bids(bv_raw, bids_path=bids_basename, overwrite=True)\n"
     ]
    }
   ],
   "source": [
    "info = mne.create_info(ch_labels, fsample, ch_types='ecog')\n",
    "raw = mne.io.RawArray(ieegdata, info)\n",
    "raw.set_eeg_reference(ref_channels=[]) # idea to set this writing out BIDS with rereference field \n",
    "\n",
    "#bids_basename = mne_bids.make_bids_basename(subject=subject_id, session=session, \\\n",
    "#                                            task=task, run=run)\n",
    "bids_basename = mne_bids.BIDSPath(subject=subject_id, session=session, \\\n",
    "                                            task=task, run=run, root=BIDS_path)\n",
    "pybv.write_brainvision(ieegdata, fsample, ch_labels, 'dummy_write', os.getcwd())\n",
    "\n",
    "bv_raw = mne.io.read_raw_brainvision('dummy_write.vhdr')\n",
    "\n",
    "# set all channel types to ECOG for iEEG - BIDS does not allow more than one channel type\n",
    "mapping = {}\n",
    "for ch in range(len(bv_raw.info['ch_names'])):\n",
    "    mapping[bv_raw.info['ch_names'][ch]] = 'ecog'\n",
    "bv_raw.set_channel_types(mapping)\n",
    "\n",
    "bv_raw.info['line_freq'] = 50\n",
    "mne_bids.write_raw_bids(bv_raw, bids_path=bids_basename, overwrite=True)\n",
    "\n",
    "#  remove dummy file\n",
    "os.remove('dummy_write.vhdr')\n",
    "os.remove('dummy_write.eeg')\n",
    "os.remove('dummy_write.vmrk')"
   ]
  },
  {
   "cell_type": "markdown",
   "metadata": {},
   "source": [
    "#### BIDS_save_480NI57_rota_selfp_r_stimoff_20200201"
   ]
  },
  {
   "cell_type": "code",
   "execution_count": 204,
   "metadata": {},
   "outputs": [],
   "source": [
    "dat = loadmat(\"sub002\\\\ses-20200201\\\\AO\\\\BIDS_save_480NI57_rota_selfp_r_stimoff_20200201.mat\")"
   ]
  },
  {
   "cell_type": "code",
   "execution_count": 205,
   "metadata": {},
   "outputs": [],
   "source": [
    "BIDS_path = \"C:\\\\Users\\\\ICN_admin\\\\Documents\\\\WRITE_BERLIN_BIDS\\\\BIDS_Berlin\\\\\"\n",
    "subject_id = \"002\"\n",
    "session = \"20200201\"\n",
    "task = \"selfpacedrotationSTIMOFF\"\n",
    "run = \"2\"\n",
    "\n",
    "fsample = dat[\"BIDS_struct_save\"][\"fsample\"]\n",
    "labels = list(dat[\"BIDS_struct_save\"][\"labels\"])\n",
    "ieegdata = dat[\"BIDS_struct_save\"][\"data\"]"
   ]
  },
  {
   "cell_type": "code",
   "execution_count": 206,
   "metadata": {
    "scrolled": true
   },
   "outputs": [
    {
     "data": {
      "text/plain": [
       "['CECOG_LF_1___01___STNR1',\n",
       " 'CECOG_LF_1___02___STNR2',\n",
       " 'CECOG_LF_1___03___STNR3',\n",
       " 'CECOG_LF_1___04___STNR4',\n",
       " 'CECOG_LF_1___05___STNR5',\n",
       " 'CECOG_LF_1___06___STNR6',\n",
       " 'CECOG_LF_1___07___STNR7',\n",
       " 'CECOG_LF_1___08___STNR8',\n",
       " 'CECOG_LF_1___09___STNL1',\n",
       " 'CECOG_LF_1___10___STNL2',\n",
       " 'CECOG_LF_1___11___STNL3',\n",
       " 'CECOG_LF_1___12___STNL4',\n",
       " 'CECOG_LF_1___13___STNL5',\n",
       " 'CECOG_LF_1___14___STNL6',\n",
       " 'CECOG_LF_1___15___STNL7',\n",
       " 'CECOG_LF_1___16___STNL8',\n",
       " 'CEEG_2___01___ECOGL1',\n",
       " 'CEEG_2___02___ECOGL2',\n",
       " 'CEEG_2___03___ECOGL3',\n",
       " 'CEEG_2___04___ECOGL4',\n",
       " 'CEEG_2___05___ECOGL5',\n",
       " 'CEEG_2___06___ECOGL6',\n",
       " 'CEEG_2___07___EEG_Cz',\n",
       " 'CEEG_2___08___EEG_Fz',\n",
       " 'CEEG_2___09___EMG_BcR1',\n",
       " 'CEEG_2___10___EMG_BcR2',\n",
       " 'CEEG_2___11___EMG_FxR1',\n",
       " 'CEEG_2___12___EMG_FxR2',\n",
       " 'CANALOG_IN_1']"
      ]
     },
     "execution_count": 206,
     "metadata": {},
     "output_type": "execute_result"
    }
   ],
   "source": [
    "labels"
   ]
  },
  {
   "cell_type": "code",
   "execution_count": 207,
   "metadata": {},
   "outputs": [],
   "source": [
    "ch_labels = [\"LFP_BS_STN_R_1\", \"LFP_BS_STN_R_2\",\"LFP_BS_STN_R_3\",\"LFP_BS_STN_R_4\",\n",
    "          \"LFP_BS_STN_R_5\",\"LFP_BS_STN_R_6\",\"LFP_BS_STN_R_7\",\"LFP_BS_STN_R_8\",\n",
    "          \"LFP_BS_STN_L_1\", \"LFP_BS_STN_L_2\",\"LFP_BS_STN_L_3\",\"LFP_BS_STN_L_4\",\n",
    "          \"LFP_BS_STN_L_5\",\"LFP_BS_STN_L_6\",\"LFP_BS_STN_L_7\",\"LFP_BS_STN_L_8\",\n",
    "          \"ECOG_AT_SM_L_1\", \"ECOG_AT_SM_L_2\", \n",
    "          \"ECOG_AT_SM_L_3\", \"ECOG_AT_SM_L_4\", \"ECOG_AT_SM_L_5\", \"ECOG_AT_SM_L_6\",\n",
    "          \"EEG_TM_Cz__1\", \"EEG_TM_Fz__1\", \"EMG_TM_BR_1\", \"EMG_TM_BR_2\", \"EMG_TM_FDI_1\",\n",
    "          \"EMG_TM_FDI_2\",\"ANALOG_ROTA_R_1\"]"
   ]
  },
  {
   "cell_type": "code",
   "execution_count": 208,
   "metadata": {
    "scrolled": true
   },
   "outputs": [
    {
     "name": "stdout",
     "output_type": "stream",
     "text": [
      "Creating RawArray with float64 data, n_channels=29, n_times=675534\n",
      "    Range : 0 ... 675533 =      0.000 ...   491.297 secs\n",
      "Ready.\n",
      "ECoG channel type selected for re-referencing\n",
      "EEG data marked as already having the desired reference.\n",
      "Extracting parameters from dummy_write.vhdr...\n",
      "Setting channel info structure...\n",
      "Extracting parameters from C:\\Users\\ICN_admin\\Documents\\WRITE_BERLIN_BIDS\\dummy_write.vhdr...\n",
      "Setting channel info structure...\n",
      "\n",
      "Writing 'C:\\Users\\ICN_admin\\Documents\\WRITE_BERLIN_BIDS\\BIDS_Berlin\\participants.tsv'...\n",
      "\n",
      "participant_id\tage\tsex\thand\n",
      "sub-002\tn/a\tn/a\tn/a\n",
      "\n",
      "Writing 'C:\\Users\\ICN_admin\\Documents\\WRITE_BERLIN_BIDS\\BIDS_Berlin\\participants.json'...\n",
      "\n",
      "{\n",
      "    \"participant_id\": {\n",
      "        \"Description\": \"Unique participant identifier\"\n",
      "    },\n",
      "    \"age\": {\n",
      "        \"Description\": \"Age of the participant at time of testing\",\n",
      "        \"Units\": \"years\"\n",
      "    },\n",
      "    \"sex\": {\n",
      "        \"Description\": \"Biological sex of the participant\",\n",
      "        \"Levels\": {\n",
      "            \"F\": \"female\",\n",
      "            \"M\": \"male\"\n",
      "        }\n",
      "    },\n",
      "    \"hand\": {\n",
      "        \"Description\": \"Handedness of the participant\",\n",
      "        \"Levels\": {\n",
      "            \"R\": \"right\",\n",
      "            \"L\": \"left\",\n",
      "            \"A\": \"ambidextrous\"\n",
      "        }\n",
      "    }\n",
      "}\n",
      "\n",
      "Writing 'C:\\Users\\ICN_admin\\Documents\\WRITE_BERLIN_BIDS\\BIDS_Berlin\\dataset_description.json'...\n",
      "\n",
      "{\n",
      "    \"Name\": \" \",\n",
      "    \"BIDSVersion\": \"1.4.0\",\n",
      "    \"DatasetType\": \"raw\",\n",
      "    \"Authors\": [\n",
      "        \"Please cite MNE-BIDS in your publication before removing this (citations in README)\"\n",
      "    ]\n",
      "}\n",
      "\n",
      "Writing 'C:\\Users\\ICN_admin\\Documents\\WRITE_BERLIN_BIDS\\BIDS_Berlin\\sub-002\\ses-20200201\\ieeg\\sub-002_ses-20200201_task-selfpacedrotationSTIMOFF_run-2_ieeg.json'...\n",
      "\n",
      "{\n",
      "    \"TaskName\": \"selfpacedrotationSTIMOFF\",\n",
      "    \"Manufacturer\": \"BrainProducts\",\n",
      "    \"PowerLineFrequency\": 50,\n",
      "    \"SamplingFrequency\": 1375.515818431912,\n",
      "    \"SoftwareFilters\": \"n/a\",\n",
      "    \"RecordingDuration\": 491.112491,\n",
      "    \"RecordingType\": \"continuous\",\n",
      "    \"iEEGReference\": \"n/a\",\n",
      "    \"ECOGChannelCount\": 29,\n",
      "    \"SEEGChannelCount\": 0,\n",
      "    \"EEGChannelCount\": 0,\n",
      "    \"EOGChannelCount\": 0,\n",
      "    \"ECGChannelCount\": 0,\n",
      "    \"EMGChannelCount\": 0,\n",
      "    \"MiscChannelCount\": 0,\n",
      "    \"TriggerChannelCount\": 0\n",
      "}\n",
      "\n",
      "Writing 'C:\\Users\\ICN_admin\\Documents\\WRITE_BERLIN_BIDS\\BIDS_Berlin\\sub-002\\ses-20200201\\ieeg\\sub-002_ses-20200201_task-selfpacedrotationSTIMOFF_run-2_channels.tsv'...\n",
      "\n",
      "name\ttype\tunits\tlow_cutoff\thigh_cutoff\tdescription\tsampling_frequency\tstatus\tstatus_description\n",
      "LFP_BS_STN_R_1\tECOG\tnV\t0.0\t687.757909215956\tElectrocorticography\t1375.515818431912\tgood\tn/a\n",
      "LFP_BS_STN_R_2\tECOG\tnV\t0.0\t687.757909215956\tElectrocorticography\t1375.515818431912\tgood\tn/a\n",
      "LFP_BS_STN_R_3\tECOG\tnV\t0.0\t687.757909215956\tElectrocorticography\t1375.515818431912\tgood\tn/a\n",
      "LFP_BS_STN_R_4\tECOG\tnV\t0.0\t687.757909215956\tElectrocorticography\t1375.515818431912\tgood\tn/a\n",
      "LFP_BS_STN_R_5\tECOG\tnV\t0.0\t687.757909215956\tElectrocorticography\t1375.515818431912\tgood\tn/a\n",
      "Copying data files to sub-002_ses-20200201_task-selfpacedrotationSTIMOFF_run-2_ieeg.vhdr\n",
      "\n",
      "Writing 'C:\\Users\\ICN_admin\\Documents\\WRITE_BERLIN_BIDS\\BIDS_Berlin\\sub-002\\ses-20200201\\sub-002_ses-20200201_scans.tsv'...\n",
      "\n",
      "filename\tacq_time\n",
      "ieeg/sub-002_ses-20200201_task-restSTIMOFF202002013_run-0_ieeg.vhdr\tn/a\n",
      "ieeg/sub-002_ses-20200201_task-restSTIMONSTNL1TO0DOT8mA_run-1_ieeg.vhdr\tn/a\n",
      "ieeg/sub-002_ses-20200201_task-selfpacedrotationSTIMOFF_run-2_ieeg.vhdr\tn/a\n",
      "Wrote C:\\Users\\ICN_admin\\Documents\\WRITE_BERLIN_BIDS\\BIDS_Berlin\\sub-002\\ses-20200201\\sub-002_ses-20200201_scans.tsv entry with ieeg\\sub-002_ses-20200201_task-selfpacedrotationSTIMOFF_run-2_ieeg.vhdr.\n"
     ]
    },
    {
     "name": "stderr",
     "output_type": "stream",
     "text": [
      "<ipython-input-208-0f011c86cb5a>:20: RuntimeWarning: No events found or provided. Please make sure to set channel type using raw.set_channel_types or provide events_data.\n",
      "  mne_bids.write_raw_bids(bv_raw, bids_path=bids_basename, overwrite=True)\n"
     ]
    }
   ],
   "source": [
    "info = mne.create_info(ch_labels, fsample, ch_types='ecog')\n",
    "raw = mne.io.RawArray(ieegdata, info)\n",
    "raw.set_eeg_reference(ref_channels=[]) # idea to set this writing out BIDS with rereference field \n",
    "\n",
    "#bids_basename = mne_bids.make_bids_basename(subject=subject_id, session=session, \\\n",
    "#                                            task=task, run=run)\n",
    "bids_basename = mne_bids.BIDSPath(subject=subject_id, session=session, \\\n",
    "                                            task=task, run=run, root=BIDS_path)\n",
    "pybv.write_brainvision(ieegdata, fsample, ch_labels, 'dummy_write', os.getcwd())\n",
    "\n",
    "bv_raw = mne.io.read_raw_brainvision('dummy_write.vhdr')\n",
    "\n",
    "# set all channel types to ECOG for iEEG - BIDS does not allow more than one channel type\n",
    "mapping = {}\n",
    "for ch in range(len(bv_raw.info['ch_names'])):\n",
    "    mapping[bv_raw.info['ch_names'][ch]] = 'ecog'\n",
    "bv_raw.set_channel_types(mapping)\n",
    "\n",
    "bv_raw.info['line_freq'] = 50\n",
    "mne_bids.write_raw_bids(bv_raw, bids_path=bids_basename, overwrite=True)\n",
    "\n",
    "#  remove dummy file\n",
    "os.remove('dummy_write.vhdr')\n",
    "os.remove('dummy_write.eeg')\n",
    "os.remove('dummy_write.vmrk')"
   ]
  },
  {
   "cell_type": "markdown",
   "metadata": {},
   "source": [
    "#### BIDS_save_480ni57_rota_selfp_r_stimon_stnl1-8_0.8mA_202002010003"
   ]
  },
  {
   "cell_type": "code",
   "execution_count": 209,
   "metadata": {},
   "outputs": [],
   "source": [
    "dat = loadmat(\"sub002\\\\ses-20200201\\\\AO\\\\BIDS_save_480ni57_rota_selfp_r_stimon_stnl1-8_0.8mA_202002010003.mat\")"
   ]
  },
  {
   "cell_type": "code",
   "execution_count": 210,
   "metadata": {},
   "outputs": [],
   "source": [
    "BIDS_path = \"C:\\\\Users\\\\ICN_admin\\\\Documents\\\\WRITE_BERLIN_BIDS\\\\BIDS_Berlin\\\\\"\n",
    "subject_id = \"002\"\n",
    "session = \"20200201\"\n",
    "task = \"selfpacedrotationSTIMONL18TO0DOT8\"\n",
    "run = \"3\"\n",
    "\n",
    "fsample = dat[\"BIDS_struct_save\"][\"fsample\"]\n",
    "labels = list(dat[\"BIDS_struct_save\"][\"labels\"])\n",
    "ieegdata = dat[\"BIDS_struct_save\"][\"data\"]"
   ]
  },
  {
   "cell_type": "code",
   "execution_count": 211,
   "metadata": {
    "scrolled": true
   },
   "outputs": [
    {
     "data": {
      "text/plain": [
       "['CECOG_LF_1___01___STNR1',\n",
       " 'CECOG_LF_1___02___STNR2',\n",
       " 'CECOG_LF_1___03___STNR3',\n",
       " 'CECOG_LF_1___04___STNR4',\n",
       " 'CECOG_LF_1___05___STNR5',\n",
       " 'CECOG_LF_1___06___STNR6',\n",
       " 'CECOG_LF_1___07___STNR7',\n",
       " 'CECOG_LF_1___08___STNR8',\n",
       " 'CECOG_LF_1___09___STNL1',\n",
       " 'CECOG_LF_1___10___STNL2',\n",
       " 'CECOG_LF_1___11___STNL3',\n",
       " 'CECOG_LF_1___12___STNL4',\n",
       " 'CECOG_LF_1___13___STNL5',\n",
       " 'CECOG_LF_1___14___STNL6',\n",
       " 'CECOG_LF_1___15___STNL7',\n",
       " 'CECOG_LF_1___16___STNL8',\n",
       " 'CEEG_2___01___ECOGL1',\n",
       " 'CEEG_2___02___ECOGL2',\n",
       " 'CEEG_2___03___ECOGL3',\n",
       " 'CEEG_2___04___ECOGL4',\n",
       " 'CEEG_2___05___ECOGL5',\n",
       " 'CEEG_2___06___ECOGL6',\n",
       " 'CEEG_2___07___EEG_Cz',\n",
       " 'CEEG_2___08___EEG_Fz',\n",
       " 'CEEG_2___09___EMG_BcR1',\n",
       " 'CEEG_2___10___EMG_BcR2',\n",
       " 'CEEG_2___11___EMG_FxR1',\n",
       " 'CEEG_2___12___EMG_FxR2',\n",
       " 'CANALOG_IN_1']"
      ]
     },
     "execution_count": 211,
     "metadata": {},
     "output_type": "execute_result"
    }
   ],
   "source": [
    "labels"
   ]
  },
  {
   "cell_type": "code",
   "execution_count": 212,
   "metadata": {},
   "outputs": [],
   "source": [
    "ch_labels = [\"LFP_BS_STN_R_1\", \"LFP_BS_STN_R_2\",\"LFP_BS_STN_R_3\",\"LFP_BS_STN_R_4\",\n",
    "          \"LFP_BS_STN_R_5\",\"LFP_BS_STN_R_6\",\"LFP_BS_STN_R_7\",\"LFP_BS_STN_R_8\",\n",
    "          \"LFP_BS_STN_L_1\", \"LFP_BS_STN_L_2\",\"LFP_BS_STN_L_3\",\"LFP_BS_STN_L_4\",\n",
    "          \"LFP_BS_STN_L_5\",\"LFP_BS_STN_L_6\",\"LFP_BS_STN_L_7\",\"LFP_BS_STN_L_8\",\n",
    "          \"ECOG_AT_SM_L_1\", \"ECOG_AT_SM_L_2\", \n",
    "          \"ECOG_AT_SM_L_3\", \"ECOG_AT_SM_L_4\", \"ECOG_AT_SM_L_5\", \"ECOG_AT_SM_L_6\",\n",
    "          \"EEG_TM_Cz__1\", \"EEG_TM_Fz__1\", \"EMG_TM_BR_1\", \"EMG_TM_BR_2\", \"EMG_TM_FDI_1\",\n",
    "          \"EMG_TM_FDI_2\",\"ANALOG_ROTA_R_1\"]"
   ]
  },
  {
   "cell_type": "code",
   "execution_count": 213,
   "metadata": {},
   "outputs": [
    {
     "name": "stdout",
     "output_type": "stream",
     "text": [
      "Creating RawArray with float64 data, n_channels=29, n_times=578489\n",
      "    Range : 0 ... 578488 =      0.000 ...   420.719 secs\n",
      "Ready.\n",
      "ECoG channel type selected for re-referencing\n",
      "EEG data marked as already having the desired reference.\n",
      "Extracting parameters from dummy_write.vhdr...\n",
      "Setting channel info structure...\n",
      "Extracting parameters from C:\\Users\\ICN_admin\\Documents\\WRITE_BERLIN_BIDS\\dummy_write.vhdr...\n",
      "Setting channel info structure...\n",
      "\n",
      "Writing 'C:\\Users\\ICN_admin\\Documents\\WRITE_BERLIN_BIDS\\BIDS_Berlin\\participants.tsv'...\n",
      "\n",
      "participant_id\tage\tsex\thand\n",
      "sub-002\tn/a\tn/a\tn/a\n",
      "\n",
      "Writing 'C:\\Users\\ICN_admin\\Documents\\WRITE_BERLIN_BIDS\\BIDS_Berlin\\participants.json'...\n",
      "\n",
      "{\n",
      "    \"participant_id\": {\n",
      "        \"Description\": \"Unique participant identifier\"\n",
      "    },\n",
      "    \"age\": {\n",
      "        \"Description\": \"Age of the participant at time of testing\",\n",
      "        \"Units\": \"years\"\n",
      "    },\n",
      "    \"sex\": {\n",
      "        \"Description\": \"Biological sex of the participant\",\n",
      "        \"Levels\": {\n",
      "            \"F\": \"female\",\n",
      "            \"M\": \"male\"\n",
      "        }\n",
      "    },\n",
      "    \"hand\": {\n",
      "        \"Description\": \"Handedness of the participant\",\n",
      "        \"Levels\": {\n",
      "            \"R\": \"right\",\n",
      "            \"L\": \"left\",\n",
      "            \"A\": \"ambidextrous\"\n",
      "        }\n",
      "    }\n",
      "}\n",
      "\n",
      "Writing 'C:\\Users\\ICN_admin\\Documents\\WRITE_BERLIN_BIDS\\BIDS_Berlin\\dataset_description.json'...\n",
      "\n",
      "{\n",
      "    \"Name\": \" \",\n",
      "    \"BIDSVersion\": \"1.4.0\",\n",
      "    \"DatasetType\": \"raw\",\n",
      "    \"Authors\": [\n",
      "        \"Please cite MNE-BIDS in your publication before removing this (citations in README)\"\n",
      "    ]\n",
      "}\n",
      "\n",
      "Writing 'C:\\Users\\ICN_admin\\Documents\\WRITE_BERLIN_BIDS\\BIDS_Berlin\\sub-002\\ses-20200201\\ieeg\\sub-002_ses-20200201_task-selfpacedrotationSTIMONL18TO0DOT8_run-3_ieeg.json'...\n",
      "\n",
      "{\n",
      "    \"TaskName\": \"selfpacedrotationSTIMONL18TO0DOT8\",\n",
      "    \"Manufacturer\": \"BrainProducts\",\n",
      "    \"PowerLineFrequency\": 50,\n",
      "    \"SamplingFrequency\": 1375.515818431912,\n",
      "    \"SoftwareFilters\": \"n/a\",\n",
      "    \"RecordingDuration\": 420.560776,\n",
      "    \"RecordingType\": \"continuous\",\n",
      "    \"iEEGReference\": \"n/a\",\n",
      "    \"ECOGChannelCount\": 29,\n",
      "    \"SEEGChannelCount\": 0,\n",
      "    \"EEGChannelCount\": 0,\n",
      "    \"EOGChannelCount\": 0,\n",
      "    \"ECGChannelCount\": 0,\n",
      "    \"EMGChannelCount\": 0,\n",
      "    \"MiscChannelCount\": 0,\n",
      "    \"TriggerChannelCount\": 0\n",
      "}\n",
      "\n",
      "Writing 'C:\\Users\\ICN_admin\\Documents\\WRITE_BERLIN_BIDS\\BIDS_Berlin\\sub-002\\ses-20200201\\ieeg\\sub-002_ses-20200201_task-selfpacedrotationSTIMONL18TO0DOT8_run-3_channels.tsv'...\n",
      "\n",
      "name\ttype\tunits\tlow_cutoff\thigh_cutoff\tdescription\tsampling_frequency\tstatus\tstatus_description\n",
      "LFP_BS_STN_R_1\tECOG\tnV\t0.0\t687.757909215956\tElectrocorticography\t1375.515818431912\tgood\tn/a\n",
      "LFP_BS_STN_R_2\tECOG\tnV\t0.0\t687.757909215956\tElectrocorticography\t1375.515818431912\tgood\tn/a\n",
      "LFP_BS_STN_R_3\tECOG\tnV\t0.0\t687.757909215956\tElectrocorticography\t1375.515818431912\tgood\tn/a\n",
      "LFP_BS_STN_R_4\tECOG\tnV\t0.0\t687.757909215956\tElectrocorticography\t1375.515818431912\tgood\tn/a\n",
      "LFP_BS_STN_R_5\tECOG\tnV\t0.0\t687.757909215956\tElectrocorticography\t1375.515818431912\tgood\tn/a\n",
      "Copying data files to sub-002_ses-20200201_task-selfpacedrotationSTIMONL18TO0DOT8_run-3_ieeg.vhdr\n",
      "\n",
      "Writing 'C:\\Users\\ICN_admin\\Documents\\WRITE_BERLIN_BIDS\\BIDS_Berlin\\sub-002\\ses-20200201\\sub-002_ses-20200201_scans.tsv'...\n",
      "\n",
      "filename\tacq_time\n",
      "ieeg/sub-002_ses-20200201_task-restSTIMOFF202002013_run-0_ieeg.vhdr\tn/a\n",
      "ieeg/sub-002_ses-20200201_task-restSTIMONSTNL1TO0DOT8mA_run-1_ieeg.vhdr\tn/a\n",
      "ieeg/sub-002_ses-20200201_task-selfpacedrotationSTIMOFF_run-2_ieeg.vhdr\tn/a\n",
      "ieeg/sub-002_ses-20200201_task-selfpacedrotationSTIMONL18TO0DOT8_run-3_ieeg.vhdr\tn/a\n",
      "Wrote C:\\Users\\ICN_admin\\Documents\\WRITE_BERLIN_BIDS\\BIDS_Berlin\\sub-002\\ses-20200201\\sub-002_ses-20200201_scans.tsv entry with ieeg\\sub-002_ses-20200201_task-selfpacedrotationSTIMONL18TO0DOT8_run-3_ieeg.vhdr.\n"
     ]
    },
    {
     "name": "stderr",
     "output_type": "stream",
     "text": [
      "<ipython-input-213-0f011c86cb5a>:20: RuntimeWarning: No events found or provided. Please make sure to set channel type using raw.set_channel_types or provide events_data.\n",
      "  mne_bids.write_raw_bids(bv_raw, bids_path=bids_basename, overwrite=True)\n"
     ]
    }
   ],
   "source": [
    "info = mne.create_info(ch_labels, fsample, ch_types='ecog')\n",
    "raw = mne.io.RawArray(ieegdata, info)\n",
    "raw.set_eeg_reference(ref_channels=[]) # idea to set this writing out BIDS with rereference field \n",
    "\n",
    "#bids_basename = mne_bids.make_bids_basename(subject=subject_id, session=session, \\\n",
    "#                                            task=task, run=run)\n",
    "bids_basename = mne_bids.BIDSPath(subject=subject_id, session=session, \\\n",
    "                                            task=task, run=run, root=BIDS_path)\n",
    "pybv.write_brainvision(ieegdata, fsample, ch_labels, 'dummy_write', os.getcwd())\n",
    "\n",
    "bv_raw = mne.io.read_raw_brainvision('dummy_write.vhdr')\n",
    "\n",
    "# set all channel types to ECOG for iEEG - BIDS does not allow more than one channel type\n",
    "mapping = {}\n",
    "for ch in range(len(bv_raw.info['ch_names'])):\n",
    "    mapping[bv_raw.info['ch_names'][ch]] = 'ecog'\n",
    "bv_raw.set_channel_types(mapping)\n",
    "\n",
    "bv_raw.info['line_freq'] = 50\n",
    "mne_bids.write_raw_bids(bv_raw, bids_path=bids_basename, overwrite=True)\n",
    "\n",
    "#  remove dummy file\n",
    "os.remove('dummy_write.vhdr')\n",
    "os.remove('dummy_write.eeg')\n",
    "os.remove('dummy_write.vmrk')"
   ]
  },
  {
   "cell_type": "markdown",
   "metadata": {},
   "source": [
    "#### BIDS_save_480NI57_stim_2hz_stnl1-8_0.8mA_20200201"
   ]
  },
  {
   "cell_type": "code",
   "execution_count": 214,
   "metadata": {},
   "outputs": [],
   "source": [
    "dat = loadmat(\"sub002\\\\ses-20200201\\\\AO\\\\BIDS_save_480NI57_stim_2hz_stnl1-8_0.8mA_20200201.mat\")"
   ]
  },
  {
   "cell_type": "code",
   "execution_count": 215,
   "metadata": {},
   "outputs": [],
   "source": [
    "BIDS_path = \"C:\\\\Users\\\\ICN_admin\\\\Documents\\\\WRITE_BERLIN_BIDS\\\\BIDS_Berlin\\\\\"\n",
    "subject_id = \"002\"\n",
    "session = \"20200201\"\n",
    "task = \"restSTIM2Hz\"\n",
    "run = \"4\"\n",
    "\n",
    "fsample = dat[\"BIDS_struct_save\"][\"fsample\"]\n",
    "labels = list(dat[\"BIDS_struct_save\"][\"labels\"])\n",
    "ieegdata = dat[\"BIDS_struct_save\"][\"data\"]"
   ]
  },
  {
   "cell_type": "code",
   "execution_count": 216,
   "metadata": {},
   "outputs": [
    {
     "data": {
      "text/plain": [
       "['CECOG_LF_1___01___STNR1',\n",
       " 'CECOG_LF_1___02___STNR2',\n",
       " 'CECOG_LF_1___03___STNR3',\n",
       " 'CECOG_LF_1___04___STNR4',\n",
       " 'CECOG_LF_1___05___STNR5',\n",
       " 'CECOG_LF_1___06___STNR6',\n",
       " 'CECOG_LF_1___07___STNR7',\n",
       " 'CECOG_LF_1___08___STNR8',\n",
       " 'CECOG_LF_1___09___STNL1',\n",
       " 'CECOG_LF_1___10___STNL2',\n",
       " 'CECOG_LF_1___11___STNL3',\n",
       " 'CECOG_LF_1___12___STNL4',\n",
       " 'CECOG_LF_1___13___STNL5',\n",
       " 'CECOG_LF_1___14___STNL6',\n",
       " 'CECOG_LF_1___15___STNL7',\n",
       " 'CECOG_LF_1___16___STNL8',\n",
       " 'CEEG_2___01___ECOGL1',\n",
       " 'CEEG_2___02___ECOGL2',\n",
       " 'CEEG_2___03___ECOGL3',\n",
       " 'CEEG_2___04___ECOGL4',\n",
       " 'CEEG_2___05___ECOGL5',\n",
       " 'CEEG_2___06___ECOGL6',\n",
       " 'CEEG_2___07___EEG_Cz',\n",
       " 'CEEG_2___08___EEG_Fz',\n",
       " 'CEEG_2___09___EMG_BcR1',\n",
       " 'CEEG_2___10___EMG_BcR2',\n",
       " 'CEEG_2___11___EMG_FxR1',\n",
       " 'CEEG_2___12___EMG_FxR2']"
      ]
     },
     "execution_count": 216,
     "metadata": {},
     "output_type": "execute_result"
    }
   ],
   "source": [
    "labels"
   ]
  },
  {
   "cell_type": "code",
   "execution_count": 217,
   "metadata": {},
   "outputs": [],
   "source": [
    "ch_labels = [\"LFP_BS_STN_R_1\", \"LFP_BS_STN_R_2\",\"LFP_BS_STN_R_3\",\"LFP_BS_STN_R_4\",\n",
    "          \"LFP_BS_STN_R_5\",\"LFP_BS_STN_R_6\",\"LFP_BS_STN_R_7\",\"LFP_BS_STN_R_8\",\n",
    "          \"LFP_BS_STN_L_1\", \"LFP_BS_STN_L_2\",\"LFP_BS_STN_L_3\",\"LFP_BS_STN_L_4\",\n",
    "          \"LFP_BS_STN_L_5\",\"LFP_BS_STN_L_6\",\"LFP_BS_STN_L_7\",\"LFP_BS_STN_L_8\",\n",
    "          \"ECOG_AT_SM_L_1\", \"ECOG_AT_SM_L_2\", \n",
    "          \"ECOG_AT_SM_L_3\", \"ECOG_AT_SM_L_4\", \"ECOG_AT_SM_L_5\", \"ECOG_AT_SM_L_6\",\n",
    "          \"EEG_TM_Cz__1\", \"EEG_TM_Fz__1\", \"EMG_TM_BR_1\", \"EMG_TM_BR_2\", \"EMG_TM_FDI_1\",\n",
    "          \"EMG_TM_FDI_2\"]"
   ]
  },
  {
   "cell_type": "code",
   "execution_count": 218,
   "metadata": {},
   "outputs": [
    {
     "name": "stdout",
     "output_type": "stream",
     "text": [
      "Creating RawArray with float64 data, n_channels=28, n_times=166240\n",
      "    Range : 0 ... 166239 =      0.000 ...   120.901 secs\n",
      "Ready.\n",
      "ECoG channel type selected for re-referencing\n",
      "EEG data marked as already having the desired reference.\n",
      "Extracting parameters from dummy_write.vhdr...\n",
      "Setting channel info structure...\n",
      "Extracting parameters from C:\\Users\\ICN_admin\\Documents\\WRITE_BERLIN_BIDS\\dummy_write.vhdr...\n",
      "Setting channel info structure...\n",
      "\n",
      "Writing 'C:\\Users\\ICN_admin\\Documents\\WRITE_BERLIN_BIDS\\BIDS_Berlin\\participants.tsv'...\n",
      "\n",
      "participant_id\tage\tsex\thand\n",
      "sub-002\tn/a\tn/a\tn/a\n",
      "\n",
      "Writing 'C:\\Users\\ICN_admin\\Documents\\WRITE_BERLIN_BIDS\\BIDS_Berlin\\participants.json'...\n",
      "\n",
      "{\n",
      "    \"participant_id\": {\n",
      "        \"Description\": \"Unique participant identifier\"\n",
      "    },\n",
      "    \"age\": {\n",
      "        \"Description\": \"Age of the participant at time of testing\",\n",
      "        \"Units\": \"years\"\n",
      "    },\n",
      "    \"sex\": {\n",
      "        \"Description\": \"Biological sex of the participant\",\n",
      "        \"Levels\": {\n",
      "            \"F\": \"female\",\n",
      "            \"M\": \"male\"\n",
      "        }\n",
      "    },\n",
      "    \"hand\": {\n",
      "        \"Description\": \"Handedness of the participant\",\n",
      "        \"Levels\": {\n",
      "            \"R\": \"right\",\n",
      "            \"L\": \"left\",\n",
      "            \"A\": \"ambidextrous\"\n",
      "        }\n",
      "    }\n",
      "}\n",
      "\n",
      "Writing 'C:\\Users\\ICN_admin\\Documents\\WRITE_BERLIN_BIDS\\BIDS_Berlin\\dataset_description.json'...\n",
      "\n",
      "{\n",
      "    \"Name\": \" \",\n",
      "    \"BIDSVersion\": \"1.4.0\",\n",
      "    \"DatasetType\": \"raw\",\n",
      "    \"Authors\": [\n",
      "        \"Please cite MNE-BIDS in your publication before removing this (citations in README)\"\n",
      "    ]\n",
      "}\n",
      "\n",
      "Writing 'C:\\Users\\ICN_admin\\Documents\\WRITE_BERLIN_BIDS\\BIDS_Berlin\\sub-002\\ses-20200201\\ieeg\\sub-002_ses-20200201_task-restSTIM2Hz_run-4_ieeg.json'...\n",
      "\n",
      "{\n",
      "    \"TaskName\": \"restSTIM2Hz\",\n",
      "    \"Manufacturer\": \"BrainProducts\",\n",
      "    \"PowerLineFrequency\": 50,\n",
      "    \"SamplingFrequency\": 1375.515818431912,\n",
      "    \"SoftwareFilters\": \"n/a\",\n",
      "    \"RecordingDuration\": 120.85575299999999,\n",
      "    \"RecordingType\": \"continuous\",\n",
      "    \"iEEGReference\": \"n/a\",\n",
      "    \"ECOGChannelCount\": 28,\n",
      "    \"SEEGChannelCount\": 0,\n",
      "    \"EEGChannelCount\": 0,\n",
      "    \"EOGChannelCount\": 0,\n",
      "    \"ECGChannelCount\": 0,\n",
      "    \"EMGChannelCount\": 0,\n",
      "    \"MiscChannelCount\": 0,\n",
      "    \"TriggerChannelCount\": 0\n",
      "}\n",
      "\n",
      "Writing 'C:\\Users\\ICN_admin\\Documents\\WRITE_BERLIN_BIDS\\BIDS_Berlin\\sub-002\\ses-20200201\\ieeg\\sub-002_ses-20200201_task-restSTIM2Hz_run-4_channels.tsv'...\n",
      "\n",
      "name\ttype\tunits\tlow_cutoff\thigh_cutoff\tdescription\tsampling_frequency\tstatus\tstatus_description\n",
      "LFP_BS_STN_R_1\tECOG\tnV\t0.0\t687.757909215956\tElectrocorticography\t1375.515818431912\tgood\tn/a\n",
      "LFP_BS_STN_R_2\tECOG\tnV\t0.0\t687.757909215956\tElectrocorticography\t1375.515818431912\tgood\tn/a\n",
      "LFP_BS_STN_R_3\tECOG\tnV\t0.0\t687.757909215956\tElectrocorticography\t1375.515818431912\tgood\tn/a\n",
      "LFP_BS_STN_R_4\tECOG\tnV\t0.0\t687.757909215956\tElectrocorticography\t1375.515818431912\tgood\tn/a\n",
      "LFP_BS_STN_R_5\tECOG\tnV\t0.0\t687.757909215956\tElectrocorticography\t1375.515818431912\tgood\tn/a\n",
      "Copying data files to sub-002_ses-20200201_task-restSTIM2Hz_run-4_ieeg.vhdr\n",
      "\n",
      "Writing 'C:\\Users\\ICN_admin\\Documents\\WRITE_BERLIN_BIDS\\BIDS_Berlin\\sub-002\\ses-20200201\\sub-002_ses-20200201_scans.tsv'...\n",
      "\n",
      "filename\tacq_time\n",
      "ieeg/sub-002_ses-20200201_task-restSTIM2Hz_run-4_ieeg.vhdr\tn/a\n",
      "ieeg/sub-002_ses-20200201_task-restSTIMOFF202002013_run-0_ieeg.vhdr\tn/a\n",
      "ieeg/sub-002_ses-20200201_task-restSTIMONSTNL1TO0DOT8mA_run-1_ieeg.vhdr\tn/a\n",
      "ieeg/sub-002_ses-20200201_task-selfpacedrotationSTIMOFF_run-2_ieeg.vhdr\tn/a\n",
      "ieeg/sub-002_ses-20200201_task-selfpacedrotationSTIMONL18TO0DOT8_run-3_ieeg.vhdr\tn/a\n",
      "Wrote C:\\Users\\ICN_admin\\Documents\\WRITE_BERLIN_BIDS\\BIDS_Berlin\\sub-002\\ses-20200201\\sub-002_ses-20200201_scans.tsv entry with ieeg\\sub-002_ses-20200201_task-restSTIM2Hz_run-4_ieeg.vhdr.\n"
     ]
    },
    {
     "name": "stderr",
     "output_type": "stream",
     "text": [
      "<ipython-input-218-0f011c86cb5a>:20: RuntimeWarning: No events found or provided. Please make sure to set channel type using raw.set_channel_types or provide events_data.\n",
      "  mne_bids.write_raw_bids(bv_raw, bids_path=bids_basename, overwrite=True)\n"
     ]
    }
   ],
   "source": [
    "info = mne.create_info(ch_labels, fsample, ch_types='ecog')\n",
    "raw = mne.io.RawArray(ieegdata, info)\n",
    "raw.set_eeg_reference(ref_channels=[]) # idea to set this writing out BIDS with rereference field \n",
    "\n",
    "#bids_basename = mne_bids.make_bids_basename(subject=subject_id, session=session, \\\n",
    "#                                            task=task, run=run)\n",
    "bids_basename = mne_bids.BIDSPath(subject=subject_id, session=session, \\\n",
    "                                            task=task, run=run, root=BIDS_path)\n",
    "pybv.write_brainvision(ieegdata, fsample, ch_labels, 'dummy_write', os.getcwd())\n",
    "\n",
    "bv_raw = mne.io.read_raw_brainvision('dummy_write.vhdr')\n",
    "\n",
    "# set all channel types to ECOG for iEEG - BIDS does not allow more than one channel type\n",
    "mapping = {}\n",
    "for ch in range(len(bv_raw.info['ch_names'])):\n",
    "    mapping[bv_raw.info['ch_names'][ch]] = 'ecog'\n",
    "bv_raw.set_channel_types(mapping)\n",
    "\n",
    "bv_raw.info['line_freq'] = 50\n",
    "mne_bids.write_raw_bids(bv_raw, bids_path=bids_basename, overwrite=True)\n",
    "\n",
    "#  remove dummy file\n",
    "os.remove('dummy_write.vhdr')\n",
    "os.remove('dummy_write.eeg')\n",
    "os.remove('dummy_write.vmrk')"
   ]
  },
  {
   "cell_type": "markdown",
   "metadata": {},
   "source": [
    "### TMSI BIDS_save_480NI57_REST_20200201_EARLOBEREF-20200201T113336.DATA"
   ]
  },
  {
   "cell_type": "code",
   "execution_count": 219,
   "metadata": {},
   "outputs": [],
   "source": [
    "dat = loadmat(\"sub002\\\\ses-20200201\\\\TMSI\\\\BIDS_save_480NI57_REST_20200201_EARLOBEREF-20200201T113336.DATA.mat\")"
   ]
  },
  {
   "cell_type": "code",
   "execution_count": 220,
   "metadata": {},
   "outputs": [],
   "source": [
    "BIDS_path = \"C:\\\\Users\\\\ICN_admin\\\\Documents\\\\WRITE_BERLIN_BIDS\\\\BIDS_Berlin\\\\\"\n",
    "subject_id = \"002\"\n",
    "session = \"20200201\"\n",
    "task = \"restEARLOBEREF\"\n",
    "run = \"5\"\n",
    "\n",
    "fsample = dat[\"BIDS_struct_save\"][\"fsample\"]\n",
    "labels = list(dat[\"BIDS_struct_save\"][\"labels\"])\n",
    "ieegdata = dat[\"BIDS_struct_save\"][\"data\"]"
   ]
  },
  {
   "cell_type": "code",
   "execution_count": 221,
   "metadata": {},
   "outputs": [
    {
     "data": {
      "text/plain": [
       "['CREF',\n",
       " 'LFP_STNR1',\n",
       " 'LFP_STNR2',\n",
       " 'LFP_STNR3',\n",
       " 'LFP_STNR4',\n",
       " 'LFP_STNR5',\n",
       " 'LFP_STNR6',\n",
       " 'LFP_STNR7',\n",
       " 'LFP_STNR8',\n",
       " 'LFP_STNL1',\n",
       " 'LFP_STNL2',\n",
       " 'LFP_STNL3',\n",
       " 'LFP_STNL4',\n",
       " 'LFP_STNL5',\n",
       " 'LFP_STNL6',\n",
       " 'LFP_STNL7',\n",
       " 'LFP_STNL8',\n",
       " 'EEG_Cz',\n",
       " 'EEG_Fz',\n",
       " 'ECOG_L1',\n",
       " 'ECOG_L2',\n",
       " 'ECOG_L3',\n",
       " 'ECOG_L4',\n",
       " 'ECOG_L5',\n",
       " 'ECOG_L6']"
      ]
     },
     "execution_count": 221,
     "metadata": {},
     "output_type": "execute_result"
    }
   ],
   "source": [
    "labels"
   ]
  },
  {
   "cell_type": "code",
   "execution_count": 222,
   "metadata": {},
   "outputs": [],
   "source": [
    "ch_labels = [\"CREF\", \"LFP_BS_STN_R_1\", \"LFP_BS_STN_R_2\",\"LFP_BS_STN_R_3\",\"LFP_BS_STN_R_4\",\n",
    "          \"LFP_BS_STN_R_5\",\"LFP_BS_STN_R_6\",\"LFP_BS_STN_R_7\",\"LFP_BS_STN_R_8\",\n",
    "          \"LFP_BS_STN_L_1\", \"LFP_BS_STN_L_2\",\"LFP_BS_STN_L_3\",\"LFP_BS_STN_L_4\",\n",
    "          \"LFP_BS_STN_L_5\",\"LFP_BS_STN_L_6\",\"LFP_BS_STN_L_7\",\"LFP_BS_STN_L_8\",\n",
    "          \"EEG_TM_Cz__1\", \"EEG_TM_Fz__1\", \"ECOG_AT_SM_L_1\", \"ECOG_AT_SM_L_2\", \n",
    "          \"ECOG_AT_SM_L_3\", \"ECOG_AT_SM_L_4\", \"ECOG_AT_SM_L_5\", \"ECOG_AT_SM_L_6\"]"
   ]
  },
  {
   "cell_type": "code",
   "execution_count": 224,
   "metadata": {},
   "outputs": [
    {
     "name": "stdout",
     "output_type": "stream",
     "text": [
      "Creating RawArray with float64 data, n_channels=25, n_times=1230914\n",
      "    Range : 0 ... 1230913 =      0.000 ...   300.516 secs\n",
      "Ready.\n",
      "ECoG channel type selected for re-referencing\n",
      "EEG data marked as already having the desired reference.\n",
      "Extracting parameters from dummy_write.vhdr...\n",
      "Setting channel info structure...\n",
      "Extracting parameters from C:\\Users\\ICN_admin\\Documents\\WRITE_BERLIN_BIDS\\dummy_write.vhdr...\n",
      "Setting channel info structure...\n",
      "\n",
      "Writing 'C:\\Users\\ICN_admin\\Documents\\WRITE_BERLIN_BIDS\\BIDS_Berlin\\participants.tsv'...\n",
      "\n",
      "participant_id\tage\tsex\thand\n",
      "sub-002\tn/a\tn/a\tn/a\n",
      "\n",
      "Writing 'C:\\Users\\ICN_admin\\Documents\\WRITE_BERLIN_BIDS\\BIDS_Berlin\\participants.json'...\n",
      "\n",
      "{\n",
      "    \"participant_id\": {\n",
      "        \"Description\": \"Unique participant identifier\"\n",
      "    },\n",
      "    \"age\": {\n",
      "        \"Description\": \"Age of the participant at time of testing\",\n",
      "        \"Units\": \"years\"\n",
      "    },\n",
      "    \"sex\": {\n",
      "        \"Description\": \"Biological sex of the participant\",\n",
      "        \"Levels\": {\n",
      "            \"F\": \"female\",\n",
      "            \"M\": \"male\"\n",
      "        }\n",
      "    },\n",
      "    \"hand\": {\n",
      "        \"Description\": \"Handedness of the participant\",\n",
      "        \"Levels\": {\n",
      "            \"R\": \"right\",\n",
      "            \"L\": \"left\",\n",
      "            \"A\": \"ambidextrous\"\n",
      "        }\n",
      "    }\n",
      "}\n",
      "\n",
      "Writing 'C:\\Users\\ICN_admin\\Documents\\WRITE_BERLIN_BIDS\\BIDS_Berlin\\dataset_description.json'...\n",
      "\n",
      "{\n",
      "    \"Name\": \" \",\n",
      "    \"BIDSVersion\": \"1.4.0\",\n",
      "    \"DatasetType\": \"raw\",\n",
      "    \"Authors\": [\n",
      "        \"Please cite MNE-BIDS in your publication before removing this (citations in README)\"\n",
      "    ]\n",
      "}\n",
      "\n",
      "Writing 'C:\\Users\\ICN_admin\\Documents\\WRITE_BERLIN_BIDS\\BIDS_Berlin\\sub-002\\ses-20200201\\ieeg\\sub-002_ses-20200201_task-restEARLOBEREF_run-5_ieeg.json'...\n",
      "\n",
      "{\n",
      "    \"TaskName\": \"restEARLOBEREF\",\n",
      "    \"Manufacturer\": \"BrainProducts\",\n",
      "    \"PowerLineFrequency\": 50,\n",
      "    \"SamplingFrequency\": 4098.360655737705,\n",
      "    \"SoftwareFilters\": \"n/a\",\n",
      "    \"RecordingDuration\": 300.34277199999997,\n",
      "    \"RecordingType\": \"continuous\",\n",
      "    \"iEEGReference\": \"n/a\",\n",
      "    \"ECOGChannelCount\": 25,\n",
      "    \"SEEGChannelCount\": 0,\n",
      "    \"EEGChannelCount\": 0,\n",
      "    \"EOGChannelCount\": 0,\n",
      "    \"ECGChannelCount\": 0,\n",
      "    \"EMGChannelCount\": 0,\n",
      "    \"MiscChannelCount\": 0,\n",
      "    \"TriggerChannelCount\": 0\n",
      "}\n",
      "\n",
      "Writing 'C:\\Users\\ICN_admin\\Documents\\WRITE_BERLIN_BIDS\\BIDS_Berlin\\sub-002\\ses-20200201\\ieeg\\sub-002_ses-20200201_task-restEARLOBEREF_run-5_channels.tsv'...\n",
      "\n",
      "name\ttype\tunits\tlow_cutoff\thigh_cutoff\tdescription\tsampling_frequency\tstatus\tstatus_description\n",
      "CREF\tECOG\tnV\t0.0\t2049.1803278688526\tElectrocorticography\t4098.360655737705\tgood\tn/a\n",
      "LFP_BS_STN_R_1\tECOG\tnV\t0.0\t2049.1803278688526\tElectrocorticography\t4098.360655737705\tgood\tn/a\n",
      "LFP_BS_STN_R_2\tECOG\tnV\t0.0\t2049.1803278688526\tElectrocorticography\t4098.360655737705\tgood\tn/a\n",
      "LFP_BS_STN_R_3\tECOG\tnV\t0.0\t2049.1803278688526\tElectrocorticography\t4098.360655737705\tgood\tn/a\n",
      "LFP_BS_STN_R_4\tECOG\tnV\t0.0\t2049.1803278688526\tElectrocorticography\t4098.360655737705\tgood\tn/a\n",
      "Copying data files to sub-002_ses-20200201_task-restEARLOBEREF_run-5_ieeg.vhdr\n"
     ]
    },
    {
     "name": "stderr",
     "output_type": "stream",
     "text": [
      "<ipython-input-224-0f011c86cb5a>:20: RuntimeWarning: No events found or provided. Please make sure to set channel type using raw.set_channel_types or provide events_data.\n",
      "  mne_bids.write_raw_bids(bv_raw, bids_path=bids_basename, overwrite=True)\n"
     ]
    },
    {
     "name": "stdout",
     "output_type": "stream",
     "text": [
      "\n",
      "Writing 'C:\\Users\\ICN_admin\\Documents\\WRITE_BERLIN_BIDS\\BIDS_Berlin\\sub-002\\ses-20200201\\sub-002_ses-20200201_scans.tsv'...\n",
      "\n",
      "filename\tacq_time\n",
      "ieeg/sub-002_ses-20200201_task-restEARLOBEREF_run-5_ieeg.vhdr\tn/a\n",
      "ieeg/sub-002_ses-20200201_task-restSTIM2Hz_run-4_ieeg.vhdr\tn/a\n",
      "ieeg/sub-002_ses-20200201_task-restSTIMOFF202002013_run-0_ieeg.vhdr\tn/a\n",
      "ieeg/sub-002_ses-20200201_task-restSTIMONSTNL1TO0DOT8mA_run-1_ieeg.vhdr\tn/a\n",
      "ieeg/sub-002_ses-20200201_task-selfpacedrotationSTIMOFF_run-2_ieeg.vhdr\tn/a\n",
      "Wrote C:\\Users\\ICN_admin\\Documents\\WRITE_BERLIN_BIDS\\BIDS_Berlin\\sub-002\\ses-20200201\\sub-002_ses-20200201_scans.tsv entry with ieeg\\sub-002_ses-20200201_task-restEARLOBEREF_run-5_ieeg.vhdr.\n"
     ]
    }
   ],
   "source": [
    "info = mne.create_info(ch_labels, fsample, ch_types='ecog')\n",
    "raw = mne.io.RawArray(ieegdata, info)\n",
    "raw.set_eeg_reference(ref_channels=[]) # idea to set this writing out BIDS with rereference field \n",
    "\n",
    "#bids_basename = mne_bids.make_bids_basename(subject=subject_id, session=session, \\\n",
    "#                                            task=task, run=run)\n",
    "bids_basename = mne_bids.BIDSPath(subject=subject_id, session=session, \\\n",
    "                                            task=task, run=run, root=BIDS_path)\n",
    "pybv.write_brainvision(ieegdata, fsample, ch_labels, 'dummy_write', os.getcwd())\n",
    "\n",
    "bv_raw = mne.io.read_raw_brainvision('dummy_write.vhdr')\n",
    "\n",
    "# set all channel types to ECOG for iEEG - BIDS does not allow more than one channel type\n",
    "mapping = {}\n",
    "for ch in range(len(bv_raw.info['ch_names'])):\n",
    "    mapping[bv_raw.info['ch_names'][ch]] = 'ecog'\n",
    "bv_raw.set_channel_types(mapping)\n",
    "\n",
    "bv_raw.info['line_freq'] = 50\n",
    "mne_bids.write_raw_bids(bv_raw, bids_path=bids_basename, overwrite=True)\n",
    "\n",
    "#  remove dummy file\n",
    "os.remove('dummy_write.vhdr')\n",
    "os.remove('dummy_write.eeg')\n",
    "os.remove('dummy_write.vmrk')"
   ]
  },
  {
   "cell_type": "markdown",
   "metadata": {},
   "source": [
    "### BIDS_save_480NI57_REST_20200201_GREF-20200201T113050.DATA"
   ]
  },
  {
   "cell_type": "code",
   "execution_count": 225,
   "metadata": {},
   "outputs": [],
   "source": [
    "dat = loadmat(\"sub002\\\\ses-20200201\\\\TMSI\\\\BIDS_save_480NI57_REST_20200201_GREF-20200201T113050.DATA.mat\")"
   ]
  },
  {
   "cell_type": "code",
   "execution_count": 226,
   "metadata": {},
   "outputs": [],
   "source": [
    "BIDS_path = \"C:\\\\Users\\\\ICN_admin\\\\Documents\\\\WRITE_BERLIN_BIDS\\\\BIDS_Berlin\\\\\"\n",
    "subject_id = \"002\"\n",
    "session = \"20200201\"\n",
    "task = \"restGREF20200201T113050\"\n",
    "run = \"6\"\n",
    "\n",
    "fsample = dat[\"BIDS_struct_save\"][\"fsample\"]\n",
    "labels = list(dat[\"BIDS_struct_save\"][\"labels\"])\n",
    "ieegdata = dat[\"BIDS_struct_save\"][\"data\"]"
   ]
  },
  {
   "cell_type": "code",
   "execution_count": 227,
   "metadata": {
    "scrolled": true
   },
   "outputs": [
    {
     "data": {
      "text/plain": [
       "['CREF',\n",
       " 'LFP_STNR1',\n",
       " 'LFP_STNR2',\n",
       " 'LFP_STNR3',\n",
       " 'LFP_STNR4',\n",
       " 'LFP_STNR5',\n",
       " 'LFP_STNR6',\n",
       " 'LFP_STNR7',\n",
       " 'LFP_STNR8',\n",
       " 'LFP_STNL1',\n",
       " 'LFP_STNL2',\n",
       " 'LFP_STNL3',\n",
       " 'LFP_STNL4',\n",
       " 'LFP_STNL5',\n",
       " 'LFP_STNL6',\n",
       " 'LFP_STNL7',\n",
       " 'LFP_STNL8',\n",
       " 'EEG_Cz',\n",
       " 'EEG_Fz',\n",
       " 'ECOG_L1',\n",
       " 'ECOG_L2',\n",
       " 'ECOG_L3',\n",
       " 'ECOG_L4',\n",
       " 'ECOG_L5',\n",
       " 'ECOG_L6']"
      ]
     },
     "execution_count": 227,
     "metadata": {},
     "output_type": "execute_result"
    }
   ],
   "source": [
    "labels"
   ]
  },
  {
   "cell_type": "code",
   "execution_count": 228,
   "metadata": {},
   "outputs": [],
   "source": [
    "ch_labels = [\"CREF\", \"LFP_BS_STN_R_1\", \"LFP_BS_STN_R_2\",\"LFP_BS_STN_R_3\",\"LFP_BS_STN_R_4\",\n",
    "          \"LFP_BS_STN_R_5\",\"LFP_BS_STN_R_6\",\"LFP_BS_STN_R_7\",\"LFP_BS_STN_R_8\",\n",
    "          \"LFP_BS_STN_L_1\", \"LFP_BS_STN_L_2\",\"LFP_BS_STN_L_3\",\"LFP_BS_STN_L_4\",\n",
    "          \"LFP_BS_STN_L_5\",\"LFP_BS_STN_L_6\",\"LFP_BS_STN_L_7\",\"LFP_BS_STN_L_8\",\n",
    "          \"EEG_TM_Cz__1\", \"EEG_TM_Fz__1\", \"ECOG_AT_SM_L_1\", \"ECOG_AT_SM_L_2\", \n",
    "          \"ECOG_AT_SM_L_3\", \"ECOG_AT_SM_L_4\", \"ECOG_AT_SM_L_5\", \"ECOG_AT_SM_L_6\"]"
   ]
  },
  {
   "cell_type": "code",
   "execution_count": 229,
   "metadata": {},
   "outputs": [
    {
     "name": "stdout",
     "output_type": "stream",
     "text": [
      "Creating RawArray with float64 data, n_channels=25, n_times=117719\n",
      "    Range : 0 ... 117718 =      0.000 ...    28.740 secs\n",
      "Ready.\n",
      "ECoG channel type selected for re-referencing\n",
      "EEG data marked as already having the desired reference.\n",
      "Extracting parameters from dummy_write.vhdr...\n",
      "Setting channel info structure...\n",
      "Extracting parameters from C:\\Users\\ICN_admin\\Documents\\WRITE_BERLIN_BIDS\\dummy_write.vhdr...\n",
      "Setting channel info structure...\n",
      "\n",
      "Writing 'C:\\Users\\ICN_admin\\Documents\\WRITE_BERLIN_BIDS\\BIDS_Berlin\\participants.tsv'...\n",
      "\n",
      "participant_id\tage\tsex\thand\n",
      "sub-002\tn/a\tn/a\tn/a\n",
      "\n",
      "Writing 'C:\\Users\\ICN_admin\\Documents\\WRITE_BERLIN_BIDS\\BIDS_Berlin\\participants.json'...\n",
      "\n",
      "{\n",
      "    \"participant_id\": {\n",
      "        \"Description\": \"Unique participant identifier\"\n",
      "    },\n",
      "    \"age\": {\n",
      "        \"Description\": \"Age of the participant at time of testing\",\n",
      "        \"Units\": \"years\"\n",
      "    },\n",
      "    \"sex\": {\n",
      "        \"Description\": \"Biological sex of the participant\",\n",
      "        \"Levels\": {\n",
      "            \"F\": \"female\",\n",
      "            \"M\": \"male\"\n",
      "        }\n",
      "    },\n",
      "    \"hand\": {\n",
      "        \"Description\": \"Handedness of the participant\",\n",
      "        \"Levels\": {\n",
      "            \"R\": \"right\",\n",
      "            \"L\": \"left\",\n",
      "            \"A\": \"ambidextrous\"\n",
      "        }\n",
      "    }\n",
      "}\n",
      "\n",
      "Writing 'C:\\Users\\ICN_admin\\Documents\\WRITE_BERLIN_BIDS\\BIDS_Berlin\\dataset_description.json'...\n",
      "\n",
      "{\n",
      "    \"Name\": \" \",\n",
      "    \"BIDSVersion\": \"1.4.0\",\n",
      "    \"DatasetType\": \"raw\",\n",
      "    \"Authors\": [\n",
      "        \"Please cite MNE-BIDS in your publication before removing this (citations in README)\"\n",
      "    ]\n",
      "}\n",
      "\n",
      "Writing 'C:\\Users\\ICN_admin\\Documents\\WRITE_BERLIN_BIDS\\BIDS_Berlin\\sub-002\\ses-20200201\\ieeg\\sub-002_ses-20200201_task-restGREF20200201T113050_run-6_ieeg.json'...\n",
      "\n",
      "{\n",
      "    \"TaskName\": \"restGREF20200201T113050\",\n",
      "    \"Manufacturer\": \"BrainProducts\",\n",
      "    \"PowerLineFrequency\": 50,\n",
      "    \"SamplingFrequency\": 4098.360655737705,\n",
      "    \"SoftwareFilters\": \"n/a\",\n",
      "    \"RecordingDuration\": 28.723191999999997,\n",
      "    \"RecordingType\": \"continuous\",\n",
      "    \"iEEGReference\": \"n/a\",\n",
      "    \"ECOGChannelCount\": 25,\n",
      "    \"SEEGChannelCount\": 0,\n",
      "    \"EEGChannelCount\": 0,\n",
      "    \"EOGChannelCount\": 0,\n",
      "    \"ECGChannelCount\": 0,\n",
      "    \"EMGChannelCount\": 0,\n",
      "    \"MiscChannelCount\": 0,\n",
      "    \"TriggerChannelCount\": 0\n",
      "}\n",
      "\n",
      "Writing 'C:\\Users\\ICN_admin\\Documents\\WRITE_BERLIN_BIDS\\BIDS_Berlin\\sub-002\\ses-20200201\\ieeg\\sub-002_ses-20200201_task-restGREF20200201T113050_run-6_channels.tsv'...\n",
      "\n",
      "name\ttype\tunits\tlow_cutoff\thigh_cutoff\tdescription\tsampling_frequency\tstatus\tstatus_description\n",
      "CREF\tECOG\tnV\t0.0\t2049.1803278688526\tElectrocorticography\t4098.360655737705\tgood\tn/a\n",
      "LFP_BS_STN_R_1\tECOG\tnV\t0.0\t2049.1803278688526\tElectrocorticography\t4098.360655737705\tgood\tn/a\n",
      "LFP_BS_STN_R_2\tECOG\tnV\t0.0\t2049.1803278688526\tElectrocorticography\t4098.360655737705\tgood\tn/a\n",
      "LFP_BS_STN_R_3\tECOG\tnV\t0.0\t2049.1803278688526\tElectrocorticography\t4098.360655737705\tgood\tn/a\n",
      "LFP_BS_STN_R_4\tECOG\tnV\t0.0\t2049.1803278688526\tElectrocorticography\t4098.360655737705\tgood\tn/a\n",
      "Copying data files to sub-002_ses-20200201_task-restGREF20200201T113050_run-6_ieeg.vhdr\n",
      "\n",
      "Writing 'C:\\Users\\ICN_admin\\Documents\\WRITE_BERLIN_BIDS\\BIDS_Berlin\\sub-002\\ses-20200201\\sub-002_ses-20200201_scans.tsv'...\n",
      "\n",
      "filename\tacq_time\n",
      "ieeg/sub-002_ses-20200201_task-restEARLOBEREF_run-5_ieeg.vhdr\tn/a\n",
      "ieeg/sub-002_ses-20200201_task-restGREF20200201T113050_run-6_ieeg.vhdr\tn/a\n",
      "ieeg/sub-002_ses-20200201_task-restSTIM2Hz_run-4_ieeg.vhdr\tn/a\n",
      "ieeg/sub-002_ses-20200201_task-restSTIMOFF202002013_run-0_ieeg.vhdr\tn/a\n",
      "ieeg/sub-002_ses-20200201_task-restSTIMONSTNL1TO0DOT8mA_run-1_ieeg.vhdr\tn/a\n",
      "Wrote C:\\Users\\ICN_admin\\Documents\\WRITE_BERLIN_BIDS\\BIDS_Berlin\\sub-002\\ses-20200201\\sub-002_ses-20200201_scans.tsv entry with ieeg\\sub-002_ses-20200201_task-restGREF20200201T113050_run-6_ieeg.vhdr.\n"
     ]
    },
    {
     "name": "stderr",
     "output_type": "stream",
     "text": [
      "<ipython-input-229-0f011c86cb5a>:20: RuntimeWarning: No events found or provided. Please make sure to set channel type using raw.set_channel_types or provide events_data.\n",
      "  mne_bids.write_raw_bids(bv_raw, bids_path=bids_basename, overwrite=True)\n"
     ]
    }
   ],
   "source": [
    "info = mne.create_info(ch_labels, fsample, ch_types='ecog')\n",
    "raw = mne.io.RawArray(ieegdata, info)\n",
    "raw.set_eeg_reference(ref_channels=[]) # idea to set this writing out BIDS with rereference field \n",
    "\n",
    "#bids_basename = mne_bids.make_bids_basename(subject=subject_id, session=session, \\\n",
    "#                                            task=task, run=run)\n",
    "bids_basename = mne_bids.BIDSPath(subject=subject_id, session=session, \\\n",
    "                                            task=task, run=run, root=BIDS_path)\n",
    "pybv.write_brainvision(ieegdata, fsample, ch_labels, 'dummy_write', os.getcwd())\n",
    "\n",
    "bv_raw = mne.io.read_raw_brainvision('dummy_write.vhdr')\n",
    "\n",
    "# set all channel types to ECOG for iEEG - BIDS does not allow more than one channel type\n",
    "mapping = {}\n",
    "for ch in range(len(bv_raw.info['ch_names'])):\n",
    "    mapping[bv_raw.info['ch_names'][ch]] = 'ecog'\n",
    "bv_raw.set_channel_types(mapping)\n",
    "\n",
    "bv_raw.info['line_freq'] = 50\n",
    "mne_bids.write_raw_bids(bv_raw, bids_path=bids_basename, overwrite=True)\n",
    "\n",
    "#  remove dummy file\n",
    "os.remove('dummy_write.vhdr')\n",
    "os.remove('dummy_write.eeg')\n",
    "os.remove('dummy_write.vmrk')"
   ]
  },
  {
   "cell_type": "markdown",
   "metadata": {},
   "source": [
    "#### BIDS_save_480NI57_REST_20200201_STNR8REF-20200201T114227.DATA"
   ]
  },
  {
   "cell_type": "code",
   "execution_count": 230,
   "metadata": {
    "scrolled": true
   },
   "outputs": [],
   "source": [
    "dat = loadmat(\"sub002\\\\ses-20200201\\\\TMSI\\\\BIDS_save_480NI57_REST_20200201_STNR8REF-20200201T114227.DATA.mat\")"
   ]
  },
  {
   "cell_type": "code",
   "execution_count": 231,
   "metadata": {},
   "outputs": [],
   "source": [
    "BIDS_path = \"C:\\\\Users\\\\ICN_admin\\\\Documents\\\\WRITE_BERLIN_BIDS\\\\BIDS_Berlin\\\\\"\n",
    "subject_id = \"002\"\n",
    "session = \"20200201\"\n",
    "task = \"restSTNR8REF20200201T114227\"\n",
    "run = \"7\"\n",
    "\n",
    "fsample = dat[\"BIDS_struct_save\"][\"fsample\"]\n",
    "labels = list(dat[\"BIDS_struct_save\"][\"labels\"])\n",
    "ieegdata = dat[\"BIDS_struct_save\"][\"data\"]"
   ]
  },
  {
   "cell_type": "code",
   "execution_count": 232,
   "metadata": {},
   "outputs": [
    {
     "data": {
      "text/plain": [
       "['CREF',\n",
       " 'LFP_STNR1',\n",
       " 'LFP_STNR2',\n",
       " 'LFP_STNR3',\n",
       " 'LFP_STNR4',\n",
       " 'LFP_STNR5',\n",
       " 'LFP_STNR6',\n",
       " 'LFP_STNR7',\n",
       " 'LFP_STNR8',\n",
       " 'LFP_STNL1',\n",
       " 'LFP_STNL2',\n",
       " 'LFP_STNL3',\n",
       " 'LFP_STNL4',\n",
       " 'LFP_STNL5',\n",
       " 'LFP_STNL6',\n",
       " 'LFP_STNL7',\n",
       " 'LFP_STNL8',\n",
       " 'EEG_Cz',\n",
       " 'EEG_Fz',\n",
       " 'ECOG_L1',\n",
       " 'ECOG_L2',\n",
       " 'ECOG_L3',\n",
       " 'ECOG_L4',\n",
       " 'ECOG_L5',\n",
       " 'ECOG_L6']"
      ]
     },
     "execution_count": 232,
     "metadata": {},
     "output_type": "execute_result"
    }
   ],
   "source": [
    "labels"
   ]
  },
  {
   "cell_type": "code",
   "execution_count": 233,
   "metadata": {},
   "outputs": [],
   "source": [
    "ch_labels = [\"CREF\", \"LFP_BS_STN_R_1\", \"LFP_BS_STN_R_2\",\"LFP_BS_STN_R_3\",\"LFP_BS_STN_R_4\",\n",
    "          \"LFP_BS_STN_R_5\",\"LFP_BS_STN_R_6\",\"LFP_BS_STN_R_7\",\"LFP_BS_STN_R_8\",\n",
    "          \"LFP_BS_STN_L_1\", \"LFP_BS_STN_L_2\",\"LFP_BS_STN_L_3\",\"LFP_BS_STN_L_4\",\n",
    "          \"LFP_BS_STN_L_5\",\"LFP_BS_STN_L_6\",\"LFP_BS_STN_L_7\",\"LFP_BS_STN_L_8\",\n",
    "          \"EEG_TM_Cz__1\", \"EEG_TM_Fz__1\", \"ECOG_AT_SM_L_1\", \"ECOG_AT_SM_L_2\", \n",
    "          \"ECOG_AT_SM_L_3\", \"ECOG_AT_SM_L_4\", \"ECOG_AT_SM_L_5\", \"ECOG_AT_SM_L_6\"]"
   ]
  },
  {
   "cell_type": "code",
   "execution_count": 234,
   "metadata": {},
   "outputs": [
    {
     "name": "stdout",
     "output_type": "stream",
     "text": [
      "Creating RawArray with float64 data, n_channels=25, n_times=1248962\n",
      "    Range : 0 ... 1248961 =      0.000 ...   304.922 secs\n",
      "Ready.\n",
      "ECoG channel type selected for re-referencing\n",
      "EEG data marked as already having the desired reference.\n",
      "Extracting parameters from dummy_write.vhdr...\n",
      "Setting channel info structure...\n",
      "Extracting parameters from C:\\Users\\ICN_admin\\Documents\\WRITE_BERLIN_BIDS\\dummy_write.vhdr...\n",
      "Setting channel info structure...\n",
      "\n",
      "Writing 'C:\\Users\\ICN_admin\\Documents\\WRITE_BERLIN_BIDS\\BIDS_Berlin\\participants.tsv'...\n",
      "\n",
      "participant_id\tage\tsex\thand\n",
      "sub-002\tn/a\tn/a\tn/a\n",
      "\n",
      "Writing 'C:\\Users\\ICN_admin\\Documents\\WRITE_BERLIN_BIDS\\BIDS_Berlin\\participants.json'...\n",
      "\n",
      "{\n",
      "    \"participant_id\": {\n",
      "        \"Description\": \"Unique participant identifier\"\n",
      "    },\n",
      "    \"age\": {\n",
      "        \"Description\": \"Age of the participant at time of testing\",\n",
      "        \"Units\": \"years\"\n",
      "    },\n",
      "    \"sex\": {\n",
      "        \"Description\": \"Biological sex of the participant\",\n",
      "        \"Levels\": {\n",
      "            \"F\": \"female\",\n",
      "            \"M\": \"male\"\n",
      "        }\n",
      "    },\n",
      "    \"hand\": {\n",
      "        \"Description\": \"Handedness of the participant\",\n",
      "        \"Levels\": {\n",
      "            \"R\": \"right\",\n",
      "            \"L\": \"left\",\n",
      "            \"A\": \"ambidextrous\"\n",
      "        }\n",
      "    }\n",
      "}\n",
      "\n",
      "Writing 'C:\\Users\\ICN_admin\\Documents\\WRITE_BERLIN_BIDS\\BIDS_Berlin\\dataset_description.json'...\n",
      "\n",
      "{\n",
      "    \"Name\": \" \",\n",
      "    \"BIDSVersion\": \"1.4.0\",\n",
      "    \"DatasetType\": \"raw\",\n",
      "    \"Authors\": [\n",
      "        \"Please cite MNE-BIDS in your publication before removing this (citations in README)\"\n",
      "    ]\n",
      "}\n",
      "\n",
      "Writing 'C:\\Users\\ICN_admin\\Documents\\WRITE_BERLIN_BIDS\\BIDS_Berlin\\sub-002\\ses-20200201\\ieeg\\sub-002_ses-20200201_task-restSTNR8REF20200201T114227_run-7_ieeg.json'...\n",
      "\n",
      "{\n",
      "    \"TaskName\": \"restSTNR8REF20200201T114227\",\n",
      "    \"Manufacturer\": \"BrainProducts\",\n",
      "    \"PowerLineFrequency\": 50,\n",
      "    \"SamplingFrequency\": 4098.360655737705,\n",
      "    \"SoftwareFilters\": \"n/a\",\n",
      "    \"RecordingDuration\": 304.74648399999995,\n",
      "    \"RecordingType\": \"continuous\",\n",
      "    \"iEEGReference\": \"n/a\",\n",
      "    \"ECOGChannelCount\": 25,\n",
      "    \"SEEGChannelCount\": 0,\n",
      "    \"EEGChannelCount\": 0,\n",
      "    \"EOGChannelCount\": 0,\n",
      "    \"ECGChannelCount\": 0,\n",
      "    \"EMGChannelCount\": 0,\n",
      "    \"MiscChannelCount\": 0,\n",
      "    \"TriggerChannelCount\": 0\n",
      "}\n",
      "\n",
      "Writing 'C:\\Users\\ICN_admin\\Documents\\WRITE_BERLIN_BIDS\\BIDS_Berlin\\sub-002\\ses-20200201\\ieeg\\sub-002_ses-20200201_task-restSTNR8REF20200201T114227_run-7_channels.tsv'...\n",
      "\n",
      "name\ttype\tunits\tlow_cutoff\thigh_cutoff\tdescription\tsampling_frequency\tstatus\tstatus_description\n",
      "CREF\tECOG\tnV\t0.0\t2049.1803278688526\tElectrocorticography\t4098.360655737705\tgood\tn/a\n",
      "LFP_BS_STN_R_1\tECOG\tnV\t0.0\t2049.1803278688526\tElectrocorticography\t4098.360655737705\tgood\tn/a\n",
      "LFP_BS_STN_R_2\tECOG\tnV\t0.0\t2049.1803278688526\tElectrocorticography\t4098.360655737705\tgood\tn/a\n",
      "LFP_BS_STN_R_3\tECOG\tnV\t0.0\t2049.1803278688526\tElectrocorticography\t4098.360655737705\tgood\tn/a\n",
      "LFP_BS_STN_R_4\tECOG\tnV\t0.0\t2049.1803278688526\tElectrocorticography\t4098.360655737705\tgood\tn/a\n",
      "Copying data files to sub-002_ses-20200201_task-restSTNR8REF20200201T114227_run-7_ieeg.vhdr\n"
     ]
    },
    {
     "name": "stderr",
     "output_type": "stream",
     "text": [
      "<ipython-input-234-0f011c86cb5a>:20: RuntimeWarning: No events found or provided. Please make sure to set channel type using raw.set_channel_types or provide events_data.\n",
      "  mne_bids.write_raw_bids(bv_raw, bids_path=bids_basename, overwrite=True)\n"
     ]
    },
    {
     "name": "stdout",
     "output_type": "stream",
     "text": [
      "\n",
      "Writing 'C:\\Users\\ICN_admin\\Documents\\WRITE_BERLIN_BIDS\\BIDS_Berlin\\sub-002\\ses-20200201\\sub-002_ses-20200201_scans.tsv'...\n",
      "\n",
      "filename\tacq_time\n",
      "ieeg/sub-002_ses-20200201_task-restEARLOBEREF_run-5_ieeg.vhdr\tn/a\n",
      "ieeg/sub-002_ses-20200201_task-restGREF20200201T113050_run-6_ieeg.vhdr\tn/a\n",
      "ieeg/sub-002_ses-20200201_task-restSTIM2Hz_run-4_ieeg.vhdr\tn/a\n",
      "ieeg/sub-002_ses-20200201_task-restSTIMOFF202002013_run-0_ieeg.vhdr\tn/a\n",
      "ieeg/sub-002_ses-20200201_task-restSTIMONSTNL1TO0DOT8mA_run-1_ieeg.vhdr\tn/a\n",
      "Wrote C:\\Users\\ICN_admin\\Documents\\WRITE_BERLIN_BIDS\\BIDS_Berlin\\sub-002\\ses-20200201\\sub-002_ses-20200201_scans.tsv entry with ieeg\\sub-002_ses-20200201_task-restSTNR8REF20200201T114227_run-7_ieeg.vhdr.\n"
     ]
    }
   ],
   "source": [
    "info = mne.create_info(ch_labels, fsample, ch_types='ecog')\n",
    "raw = mne.io.RawArray(ieegdata, info)\n",
    "raw.set_eeg_reference(ref_channels=[]) # idea to set this writing out BIDS with rereference field \n",
    "\n",
    "#bids_basename = mne_bids.make_bids_basename(subject=subject_id, session=session, \\\n",
    "#                                            task=task, run=run)\n",
    "bids_basename = mne_bids.BIDSPath(subject=subject_id, session=session, \\\n",
    "                                            task=task, run=run, root=BIDS_path)\n",
    "pybv.write_brainvision(ieegdata, fsample, ch_labels, 'dummy_write', os.getcwd())\n",
    "\n",
    "bv_raw = mne.io.read_raw_brainvision('dummy_write.vhdr')\n",
    "\n",
    "# set all channel types to ECOG for iEEG - BIDS does not allow more than one channel type\n",
    "mapping = {}\n",
    "for ch in range(len(bv_raw.info['ch_names'])):\n",
    "    mapping[bv_raw.info['ch_names'][ch]] = 'ecog'\n",
    "bv_raw.set_channel_types(mapping)\n",
    "\n",
    "bv_raw.info['line_freq'] = 50\n",
    "mne_bids.write_raw_bids(bv_raw, bids_path=bids_basename, overwrite=True)\n",
    "\n",
    "#  remove dummy file\n",
    "os.remove('dummy_write.vhdr')\n",
    "os.remove('dummy_write.eeg')\n",
    "os.remove('dummy_write.vmrk')"
   ]
  },
  {
   "cell_type": "code",
   "execution_count": null,
   "metadata": {},
   "outputs": [],
   "source": []
  }
 ],
 "metadata": {
  "kernelspec": {
   "display_name": "Python 3",
   "language": "python",
   "name": "python3"
  },
  "language_info": {
   "codemirror_mode": {
    "name": "ipython",
    "version": 3
   },
   "file_extension": ".py",
   "mimetype": "text/x-python",
   "name": "python",
   "nbconvert_exporter": "python",
   "pygments_lexer": "ipython3",
   "version": "3.9.0"
  }
 },
 "nbformat": 4,
 "nbformat_minor": 4
}
