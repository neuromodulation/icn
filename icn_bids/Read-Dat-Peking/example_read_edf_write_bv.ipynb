{
 "cells": [
  {
   "cell_type": "code",
   "execution_count": 45,
   "metadata": {},
   "outputs": [],
   "source": [
    "import mne\n",
    "from matplotlib import pyplot as plt\n",
    "import mne_bids\n",
    "import pybv\n",
    "import os"
   ]
  },
  {
   "cell_type": "code",
   "execution_count": 23,
   "metadata": {},
   "outputs": [],
   "source": [
    "PATH_ = r'C:\\Users\\ICN_admin\\Charité - Universitätsmedizin Berlin\\Interventional Cognitive Neuromodulation - Data\\Datasets\\BIDS_Beijing\\sub-FOG008\\ses-postimp\\ieeg\\sub-FOG008_ses-postimp_task-buttonPress_run-01_ieeg.edf'"
   ]
  },
  {
   "cell_type": "code",
   "execution_count": 24,
   "metadata": {},
   "outputs": [
    {
     "name": "stdout",
     "output_type": "stream",
     "text": [
      "Extracting EDF parameters from C:\\Users\\ICN_admin\\Charité - Universitätsmedizin Berlin\\Interventional Cognitive Neuromodulation - Data\\Datasets\\BIDS_Beijing\\sub-FOG008\\ses-postimp\\ieeg\\sub-FOG008_ses-postimp_task-buttonPress_run-01_ieeg.edf...\n",
      "EDF file detected\n",
      "Setting channel info structure...\n",
      "Creating raw.info structure...\n"
     ]
    }
   ],
   "source": [
    "raw = mne.io.read_raw_edf(PATH_)"
   ]
  },
  {
   "cell_type": "code",
   "execution_count": 25,
   "metadata": {},
   "outputs": [
    {
     "data": {
      "text/plain": [
       "['POL RS1',\n",
       " 'POL RS2',\n",
       " 'POL RS3',\n",
       " 'POL RS4',\n",
       " 'POL RS5',\n",
       " 'POL RS6',\n",
       " 'POL RS7',\n",
       " 'POL RS8',\n",
       " 'POL LD1',\n",
       " 'POL LD2',\n",
       " 'POL RD1',\n",
       " 'POL RD2',\n",
       " 'POL RD3',\n",
       " 'POL RD4',\n",
       " 'POL LEMG1',\n",
       " 'POL LEMG2',\n",
       " 'POL REMG1',\n",
       " 'POL REMG2',\n",
       " 'POL E',\n",
       " 'POL LD3',\n",
       " 'POL LD4',\n",
       " 'POL DC10',\n",
       " 'POL DC11',\n",
       " 'POL $LD3',\n",
       " 'POL $LD4']"
      ]
     },
     "execution_count": 25,
     "metadata": {},
     "output_type": "execute_result"
    }
   ],
   "source": [
    "raw.ch_names"
   ]
  },
  {
   "cell_type": "code",
   "execution_count": 26,
   "metadata": {},
   "outputs": [
    {
     "data": {
      "text/plain": [
       "<RawEDF | sub-FOG008_ses-postimp_task-buttonPress_run-01_ieeg.edf, 25 x 1945107 (972.6 s), ~53 kB, data not loaded>"
      ]
     },
     "execution_count": 26,
     "metadata": {},
     "output_type": "execute_result"
    }
   ],
   "source": [
    "raw"
   ]
  },
  {
   "cell_type": "code",
   "execution_count": 27,
   "metadata": {},
   "outputs": [
    {
     "data": {
      "text/plain": [
       "<Info | 7 non-empty values\n",
       " bads: []\n",
       " ch_names: POL RS1, POL RS2, POL RS3, POL RS4, POL RS5, POL RS6, POL RS7, ...\n",
       " chs: 25 EEG\n",
       " custom_ref_applied: False\n",
       " highpass: 0.0 Hz\n",
       " lowpass: 1000.0 Hz\n",
       " meas_date: 2019-12-11 10:53:57 UTC\n",
       " nchan: 25\n",
       " projs: []\n",
       " sfreq: 2000.0 Hz\n",
       ">"
      ]
     },
     "execution_count": 27,
     "metadata": {},
     "output_type": "execute_result"
    }
   ],
   "source": [
    "raw.info"
   ]
  },
  {
   "cell_type": "code",
   "execution_count": 56,
   "metadata": {},
   "outputs": [
    {
     "data": {
      "text/plain": [
       "[<matplotlib.lines.Line2D at 0x1841b721d48>]"
      ]
     },
     "execution_count": 56,
     "metadata": {},
     "output_type": "execute_result"
    },
    {
     "data": {
      "image/png": "[encoded data removed]",
      "text/plain": [
       "<Figure size 432x288 with 1 Axes>"
      ]
     },
     "metadata": {
      "needs_background": "light"
     },
     "output_type": "display_data"
    }
   ],
   "source": [
    "plt.plot(raw.get_data()[1,:])"
   ]
  },
  {
   "cell_type": "markdown",
   "metadata": {},
   "source": [
    "### create new RawArray"
   ]
  },
  {
   "cell_type": "code",
   "execution_count": 39,
   "metadata": {},
   "outputs": [
    {
     "name": "stdout",
     "output_type": "stream",
     "text": [
      "Creating RawArray with float64 data, n_channels=25, n_times=1945107\n",
      "    Range : 0 ... 1945106 =      0.000 ...   972.553 secs\n",
      "Ready.\n"
     ]
    }
   ],
   "source": [
    "ieegdata = raw.get_data()\n",
    "info = mne.create_info(raw.ch_names, raw.info[\"sfreq\"], ch_types='ecog')\n",
    "raw_new = mne.io.RawArray(ieegdata, info)"
   ]
  },
  {
   "cell_type": "code",
   "execution_count": 42,
   "metadata": {},
   "outputs": [],
   "source": [
    "bids_basename = mne_bids.BIDSPath(subject=\"001\", session=\"1\", \\\n",
    "                                            task=\"1\", run=\"1\", root=r\"C:\\Users\\ICN_admin\\Documents\\Decoding_Toolbox\\Test_BIDS\")"
   ]
  },
  {
   "cell_type": "code",
   "execution_count": 46,
   "metadata": {},
   "outputs": [],
   "source": [
    "pybv.write_brainvision(ieegdata, raw.info[\"sfreq\"], raw.ch_names, 'dummy_write', os.getcwd())"
   ]
  },
  {
   "cell_type": "code",
   "execution_count": 47,
   "metadata": {},
   "outputs": [
    {
     "name": "stdout",
     "output_type": "stream",
     "text": [
      "Extracting parameters from dummy_write.vhdr...\n",
      "Setting channel info structure...\n"
     ]
    }
   ],
   "source": [
    "bv_raw = mne.io.read_raw_brainvision('dummy_write.vhdr')"
   ]
  },
  {
   "cell_type": "code",
   "execution_count": 48,
   "metadata": {},
   "outputs": [
    {
     "data": {
      "text/plain": [
       "<RawBrainVision | dummy_write.eeg, 25 x 1945107 (972.6 s), ~53 kB, data not loaded>"
      ]
     },
     "execution_count": 48,
     "metadata": {},
     "output_type": "execute_result"
    }
   ],
   "source": [
    "mapping = {}\n",
    "for ch in range(len(bv_raw.info['ch_names'])):\n",
    "    mapping[bv_raw.info['ch_names'][ch]] = 'ecog'\n",
    "bv_raw.set_channel_types(mapping)"
   ]
  },
  {
   "cell_type": "code",
   "execution_count": 49,
   "metadata": {},
   "outputs": [],
   "source": [
    "bv_raw.info['line_freq'] = 50"
   ]
  },
  {
   "cell_type": "code",
   "execution_count": 50,
   "metadata": {},
   "outputs": [
    {
     "name": "stdout",
     "output_type": "stream",
     "text": [
      "Extracting parameters from C:\\Users\\ICN_admin\\Documents\\Decoding_Toolbox\\dummy_write.vhdr...\n",
      "Setting channel info structure...\n",
      "\n",
      "Writing 'C:\\Users\\ICN_admin\\Documents\\Decoding_Toolbox\\Test_BIDS\\README'...\n",
      "\n",
      "References\n",
      "----------\n",
      "Appelhoff, S., Sanderson, M., Brooks, T., Vliet, M., Quentin, R., Holdgraf, C., Chaumon, M., Mikulan, E., Tavabi, K., Höchenberger, R., Welke, D., Brunner, C., Rockhill, A., Larson, E., Gramfort, A. and Jas, M. (2019). MNE-BIDS: Organizing electrophysiological data into the BIDS format and facilitating their analysis. Journal of Open Source Software 4: (1896). https://doi.org/10.21105/joss.01896\n",
      "\n",
      "Holdgraf, C., Appelhoff, S., Bickel, S., Bouchard, K., D'Ambrosio, S., David, O., … Hermes, D. (2019). iEEG-BIDS, extending the Brain Imaging Data Structure specification to human intracranial electrophysiology. Scientific Data, 6, 102. https://doi.org/10.1038/s41597-019-0105-7\n",
      "\n",
      "\n",
      "Writing 'C:\\Users\\ICN_admin\\Documents\\Decoding_Toolbox\\Test_BIDS\\participants.tsv'...\n",
      "\n",
      "participant_id\tage\tsex\thand\n",
      "sub-001\tn/a\tn/a\tn/a\n",
      "\n",
      "Writing 'C:\\Users\\ICN_admin\\Documents\\Decoding_Toolbox\\Test_BIDS\\participants.json'...\n",
      "\n",
      "{\n",
      "    \"participant_id\": {\n",
      "        \"Description\": \"Unique participant identifier\"\n",
      "    },\n",
      "    \"age\": {\n",
      "        \"Description\": \"Age of the participant at time of testing\",\n",
      "        \"Units\": \"years\"\n",
      "    },\n",
      "    \"sex\": {\n",
      "        \"Description\": \"Biological sex of the participant\",\n",
      "        \"Levels\": {\n",
      "            \"F\": \"female\",\n",
      "            \"M\": \"male\"\n",
      "        }\n",
      "    },\n",
      "    \"hand\": {\n",
      "        \"Description\": \"Handedness of the participant\",\n",
      "        \"Levels\": {\n",
      "            \"R\": \"right\",\n",
      "            \"L\": \"left\",\n",
      "            \"A\": \"ambidextrous\"\n",
      "        }\n",
      "    }\n",
      "}\n",
      "\n",
      "Writing 'C:\\Users\\ICN_admin\\Documents\\Decoding_Toolbox\\Test_BIDS\\dataset_description.json'...\n",
      "\n",
      "{\n",
      "    \"Name\": \" \",\n",
      "    \"BIDSVersion\": \"1.4.0\",\n",
      "    \"DatasetType\": \"raw\",\n",
      "    \"Authors\": [\n",
      "        \"Please cite MNE-BIDS in your publication before removing this (citations in README)\"\n",
      "    ]\n",
      "}\n",
      "\n",
      "Writing 'C:\\Users\\ICN_admin\\Documents\\Decoding_Toolbox\\Test_BIDS\\sub-001\\ses-1\\ieeg\\sub-001_ses-1_task-1_run-1_ieeg.json'...\n",
      "\n",
      "{\n",
      "    \"TaskName\": \"1\",\n",
      "    \"Manufacturer\": \"BrainProducts\",\n",
      "    \"PowerLineFrequency\": 50,\n",
      "    \"SamplingFrequency\": 2000.0,\n",
      "    \"SoftwareFilters\": \"n/a\",\n",
      "    \"RecordingDuration\": 972.553,\n",
      "    \"RecordingType\": \"continuous\",\n",
      "    \"iEEGReference\": \"n/a\",\n",
      "    \"ECOGChannelCount\": 25,\n",
      "    \"SEEGChannelCount\": 0,\n",
      "    \"EEGChannelCount\": 0,\n",
      "    \"EOGChannelCount\": 0,\n",
      "    \"ECGChannelCount\": 0,\n",
      "    \"EMGChannelCount\": 0,\n",
      "    \"MiscChannelCount\": 0,\n",
      "    \"TriggerChannelCount\": 0\n",
      "}\n",
      "\n",
      "Writing 'C:\\Users\\ICN_admin\\Documents\\Decoding_Toolbox\\Test_BIDS\\sub-001\\ses-1\\ieeg\\sub-001_ses-1_task-1_run-1_channels.tsv'...\n",
      "\n",
      "name\ttype\tunits\tlow_cutoff\thigh_cutoff\tdescription\tsampling_frequency\tstatus\tstatus_description\n",
      "POL RS1\tECOG\tnV\t0.0\t1000.0\tElectrocorticography\t2000.0\tgood\tn/a\n",
      "POL RS2\tECOG\tnV\t0.0\t1000.0\tElectrocorticography\t2000.0\tgood\tn/a\n",
      "POL RS3\tECOG\tnV\t0.0\t1000.0\tElectrocorticography\t2000.0\tgood\tn/a\n",
      "POL RS4\tECOG\tnV\t0.0\t1000.0\tElectrocorticography\t2000.0\tgood\tn/a\n",
      "POL RS5\tECOG\tnV\t0.0\t1000.0\tElectrocorticography\t2000.0\tgood\tn/a\n",
      "Copying data files to sub-001_ses-1_task-1_run-1_ieeg.vhdr\n"
     ]
    },
    {
     "name": "stderr",
     "output_type": "stream",
     "text": [
      "<ipython-input-50-01d1bea4e286>:1: RuntimeWarning: No events found or provided. Please add annotations to the raw data, or provide the events_data and event_id parameters. If this is resting state data it is recommended to name the task \"rest\".\n",
      "  mne_bids.write_raw_bids(bv_raw, bids_path=bids_basename, overwrite=True)\n"
     ]
    },
    {
     "name": "stdout",
     "output_type": "stream",
     "text": [
      "\r\n",
      "Writing 'C:\\Users\\ICN_admin\\Documents\\Decoding_Toolbox\\Test_BIDS\\sub-001\\ses-1\\sub-001_ses-1_scans.tsv'...\r\n",
      "\n",
      "filename\tacq_time\n",
      "ieeg/sub-001_ses-1_task-1_run-1_ieeg.vhdr\tn/a\n",
      "Wrote C:\\Users\\ICN_admin\\Documents\\Decoding_Toolbox\\Test_BIDS\\sub-001\\ses-1\\sub-001_ses-1_scans.tsv entry with ieeg\\sub-001_ses-1_task-1_run-1_ieeg.vhdr.\n"
     ]
    }
   ],
   "source": [
    "mne_bids.write_raw_bids(bv_raw, bids_path=bids_basename, overwrite=True)\n",
    "\n",
    "\n",
    "#  remove dummy file\n",
    "os.remove('dummy_write.vhdr')\n",
    "os.remove('dummy_write.eeg')\n",
    "os.remove('dummy_write.vmrk')"
   ]
  },
  {
   "cell_type": "markdown",
   "metadata": {},
   "source": [
    "### now check if it's possible to read BV "
   ]
  },
  {
   "cell_type": "code",
   "execution_count": 51,
   "metadata": {},
   "outputs": [],
   "source": [
    "PATH_BV = r\"C:\\Users\\ICN_admin\\Documents\\Decoding_Toolbox\\Test_BIDS\\sub-001\\ses-1\\ieeg\\sub-001_ses-1_task-1_run-1_ieeg.vhdr\""
   ]
  },
  {
   "cell_type": "code",
   "execution_count": 52,
   "metadata": {},
   "outputs": [
    {
     "name": "stdout",
     "output_type": "stream",
     "text": [
      "Extracting parameters from C:\\Users\\ICN_admin\\Documents\\Decoding_Toolbox\\Test_BIDS\\sub-001\\ses-1\\ieeg\\sub-001_ses-1_task-1_run-1_ieeg.vhdr...\n",
      "Setting channel info structure...\n"
     ]
    }
   ],
   "source": [
    "raw_BV = mne.io.read_raw_brainvision(PATH_BV)"
   ]
  },
  {
   "cell_type": "code",
   "execution_count": 53,
   "metadata": {},
   "outputs": [
    {
     "data": {
      "text/plain": [
       "(25, 1945107)"
      ]
     },
     "execution_count": 53,
     "metadata": {},
     "output_type": "execute_result"
    }
   ],
   "source": [
    "raw_BV.get_data().shape"
   ]
  },
  {
   "cell_type": "code",
   "execution_count": 55,
   "metadata": {},
   "outputs": [
    {
     "data": {
      "text/plain": [
       "[<matplotlib.lines.Line2D at 0x1841a5fbfc8>]"
      ]
     },
     "execution_count": 55,
     "metadata": {},
     "output_type": "execute_result"
    },
    {
     "data": {
      "image/png": "[encoded data removed]",
      "text/plain": [
       "<Figure size 432x288 with 1 Axes>"
      ]
     },
     "metadata": {
      "needs_background": "light"
     },
     "output_type": "display_data"
    }
   ],
   "source": [
    "plt.plot(raw_BV.get_data()[0,:])"
   ]
  },
  {
   "cell_type": "code",
   "execution_count": null,
   "metadata": {},
   "outputs": [],
   "source": []
  }
 ],
 "metadata": {
  "kernelspec": {
   "display_name": "Python 3",
   "language": "python",
   "name": "python3"
  },
  "language_info": {
   "codemirror_mode": {
    "name": "ipython",
    "version": 3
   },
   "file_extension": ".py",
   "mimetype": "text/x-python",
   "name": "python",
   "nbconvert_exporter": "python",
   "pygments_lexer": "ipython3",
   "version": "3.7.4"
  }
 },
 "nbformat": 4,
 "nbformat_minor": 2
}
