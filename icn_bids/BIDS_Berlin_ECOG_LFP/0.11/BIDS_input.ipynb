{
 "cells": [
  {
   "cell_type": "code",
   "execution_count": 3,
   "metadata": {},
   "outputs": [],
   "source": [
    "# conda install -c conda-forge ipywidgets\n",
    "# pip install ipywidgets\n",
    "import ipywidgets as widgets\n",
    "from IPython.display import display"
   ]
  },
  {
   "cell_type": "code",
   "execution_count": null,
   "metadata": {},
   "outputs": [],
   "source": [
    "from widg import *"
   ]
  },
  {
   "cell_type": "code",
   "execution_count": 84,
   "metadata": {},
   "outputs": [],
   "source": [
    "style = {\"description_width\": \"300px\"}\n",
    "layout = {\"width\": \"800px\"}"
   ]
  },
  {
   "cell_type": "code",
   "execution_count": 86,
   "metadata": {},
   "outputs": [
    {
     "name": "stdout",
     "output_type": "stream",
     "text": [
      "Subject-specific information\n"
     ]
    },
    {
     "data": {
      "application/vnd.jupyter.widget-view+json": {
       "model_id": "3705d734dbdf4df1be0b2591cb5cd0a5",
       "version_major": 2,
       "version_minor": 0
      },
      "text/plain": [
       "Dropdown(description='Sex:', layout=Layout(width='800px'), options=('n/a', 'female', 'male', 'other'), style=D…"
      ]
     },
     "metadata": {},
     "output_type": "display_data"
    },
    {
     "data": {
      "application/vnd.jupyter.widget-view+json": {
       "model_id": "9fd62a9673ca471d982de5a22aab6d5d",
       "version_major": 2,
       "version_minor": 0
      },
      "text/plain": [
       "BoundedIntText(value=0, description='Age:', layout=Layout(width='800px'), max=150, style=DescriptionStyle(desc…"
      ]
     },
     "metadata": {},
     "output_type": "display_data"
    },
    {
     "data": {
      "application/vnd.jupyter.widget-view+json": {
       "model_id": "967e565dd1d045bf9228386205f0b6a1",
       "version_major": 2,
       "version_minor": 0
      },
      "text/plain": [
       "RadioButtons(description='handedness', layout=Layout(width='800px'), options=('n/a', 'right', 'left'), style=D…"
      ]
     },
     "metadata": {},
     "output_type": "display_data"
    },
    {
     "data": {
      "application/vnd.jupyter.widget-view+json": {
       "model_id": "5f95cac129c74268ae00a4c98ae9109b",
       "version_major": 2,
       "version_minor": 0
      },
      "text/plain": [
       "DatePicker(value=None, description='Date of Implantation', layout=Layout(width='800px'), style=DescriptionStyl…"
      ]
     },
     "metadata": {},
     "output_type": "display_data"
    },
    {
     "data": {
      "application/vnd.jupyter.widget-view+json": {
       "model_id": "147cf4faafa8437093f17f46d9ba9781",
       "version_major": 2,
       "version_minor": 0
      },
      "text/plain": [
       "BoundedIntText(value=0, description='Disease duration:', layout=Layout(width='800px'), max=150, style=Descript…"
      ]
     },
     "metadata": {},
     "output_type": "display_data"
    },
    {
     "data": {
      "application/vnd.jupyter.widget-view+json": {
       "model_id": "9f967f51c84c43008d8a7520db26b00f",
       "version_major": 2,
       "version_minor": 0
      },
      "text/plain": [
       "RadioButtons(description='PD subtype', layout=Layout(width='800px'), options=('n/a', 'akinetic-rigid', 'tremor…"
      ]
     },
     "metadata": {},
     "output_type": "display_data"
    },
    {
     "data": {
      "application/vnd.jupyter.widget-view+json": {
       "model_id": "ba3e94efb9aa4c429ca086c3fb911ee4",
       "version_major": 2,
       "version_minor": 0
      },
      "text/plain": [
       "RadioButtons(description='symptom dominant side', layout=Layout(width='800px'), options=('n/a', 'right', 'left…"
      ]
     },
     "metadata": {},
     "output_type": "display_data"
    },
    {
     "data": {
      "application/vnd.jupyter.widget-view+json": {
       "model_id": "edd1d22dd4b64ab08a8b7f0f6c6f824a",
       "version_major": 2,
       "version_minor": 0
      },
      "text/plain": [
       "BoundedIntText(value=0, description='Levodopa equivalent daily dose (LEDD):', layout=Layout(width='800px'), ma…"
      ]
     },
     "metadata": {},
     "output_type": "display_data"
    },
    {
     "data": {
      "application/vnd.jupyter.widget-view+json": {
       "model_id": "6c051bf90e2046c3aefea81a9a560c68",
       "version_major": 2,
       "version_minor": 0
      },
      "text/plain": [
       "RadioButtons(description='DBS target', layout=Layout(width='800px'), options=('n/a', 'STN', 'GPI', 'VIM'), sty…"
      ]
     },
     "metadata": {},
     "output_type": "display_data"
    },
    {
     "data": {
      "application/vnd.jupyter.widget-view+json": {
       "model_id": "3277287fd53242f980af03c5effdbb45",
       "version_major": 2,
       "version_minor": 0
      },
      "text/plain": [
       "RadioButtons(description='DBS hemisphere', layout=Layout(width='800px'), options=('n/a', 'right', 'left', 'bil…"
      ]
     },
     "metadata": {},
     "output_type": "display_data"
    },
    {
     "data": {
      "application/vnd.jupyter.widget-view+json": {
       "model_id": "bd1d37d17d4a442880e7ea14f4d41552",
       "version_major": 2,
       "version_minor": 0
      },
      "text/plain": [
       "RadioButtons(description='DBS model', layout=Layout(width='800px'), options=('n/a', 'SenSight Short', 'SenSigh…"
      ]
     },
     "metadata": {},
     "output_type": "display_data"
    },
    {
     "data": {
      "application/vnd.jupyter.widget-view+json": {
       "model_id": "011e6981e2684066a72f8f98d1fc855c",
       "version_major": 2,
       "version_minor": 0
      },
      "text/plain": [
       "RadioButtons(description='DBS description', layout=Layout(width='800px'), options=('n/a', 'Medtronic: 8-contac…"
      ]
     },
     "metadata": {},
     "output_type": "display_data"
    },
    {
     "data": {
      "application/vnd.jupyter.widget-view+json": {
       "model_id": "0fed8459b7894352bb1134db933f386f",
       "version_major": 2,
       "version_minor": 0
      },
      "text/plain": [
       "Checkbox(value=False, description='ECOG present', layout=Layout(width='800px'), style=DescriptionStyle(descrip…"
      ]
     },
     "metadata": {},
     "output_type": "display_data"
    }
   ],
   "source": [
    "sex = widgets.Dropdown(\n",
    "    options=[\"n/a\", \"female\", \"male\", \"other\"],\n",
    "    description=\"Sex:\",\n",
    "    style=style,\n",
    "    layout=layout,\n",
    ")\n",
    "handedness = widgets.RadioButtons(\n",
    "    options=[\n",
    "        \"n/a\",\n",
    "        \"right\",\n",
    "        \"left\",\n",
    "    ],\n",
    "    description=\"handedness\",\n",
    "    style=style,\n",
    "    layout=layout,\n",
    ")\n",
    "\n",
    "age = widgets.BoundedIntText(\n",
    "    min=0, max=150, step=1, description=\"Age:\", style=style, layout=layout\n",
    ")\n",
    "date_of_implantation = widgets.DatePicker(\n",
    "    description=\"Date of Implantation\", style=style, layout=layout\n",
    ")\n",
    "disease_duration = widgets.BoundedIntText(\n",
    "    min=0, max=150, step=1, description=\"Disease duration:\", style=style, layout=layout\n",
    ")\n",
    "PD_subtype = widgets.RadioButtons(\n",
    "    options=[\"n/a\", \"akinetic-rigid\", \"tremor-dominant\", \"equivalent\"],\n",
    "    description=\"PD subtype\",\n",
    "    style=style,\n",
    "    layout=layout,\n",
    ")\n",
    "symptom_dominant_side = widgets.RadioButtons(\n",
    "    options=[\n",
    "        \"n/a\",\n",
    "        \"right\",\n",
    "        \"left\",\n",
    "    ],\n",
    "    description=\"symptom dominant side\",\n",
    "    style=style,\n",
    "    layout=layout,\n",
    ")\n",
    "LEDD = widgets.BoundedIntText(\n",
    "    max=10000,\n",
    "    step=1,\n",
    "    description=\"Levodopa equivalent daily dose (LEDD):\",\n",
    "    style=style,\n",
    "    layout=layout,\n",
    ")\n",
    "DBS_target = widgets.RadioButtons(\n",
    "    options=[\"n/a\", \"STN\", \"GPI\", \"VIM\"],\n",
    "    description=\"DBS target\",\n",
    "    style=style,\n",
    "    layout=layout,\n",
    ")\n",
    "DBD_hemispheres = widgets.RadioButtons(\n",
    "    options=[\"n/a\", \"right\", \"left\", \"bilateral\"],\n",
    "    description=\"DBS hemisphere\",\n",
    "    style=style,\n",
    "    layout=layout,\n",
    ")\n",
    "DBS_model = widgets.RadioButtons(\n",
    "    options=[\n",
    "        \"n/a\",\n",
    "        \"SenSight Short\",\n",
    "        \"SenSight Long\",\n",
    "        \"Vercise Cartesia X\",\n",
    "        \"Vercise Cartesia\",\n",
    "        \"Vercise Standard\",\n",
    "        \"Abbott Directed Long\",\n",
    "        \"Abbott Directed Short\",\n",
    "    ],\n",
    "    description=\"DBS model\",\n",
    "    style=style,\n",
    "    layout=layout,\n",
    ")\n",
    "DBS_description = widgets.RadioButtons(\n",
    "    options=[\n",
    "        \"n/a\",\n",
    "        \"Medtronic: 8-contact, 4-level, directional DBS lead. 0.5 mm spacing.\",\n",
    "        \"Medtronic: 8-contact, 4-level, directional DBS lead. 1.5 mm spacing.\",\n",
    "        \"Boston Scientific: 16-contact, 5-level, directional DBS lead. 0.5 mm spacing.\",\n",
    "        \"Boston Scientific: 8-contact, 4-level, directional DBS lead. 0.5 mm spacing.\",\n",
    "        \"Boston Scientific: 8-contact, 8-level, non-directional DBS lead. 0.5 mm spacing.\",\n",
    "        \"Abbott/St Jude: 8-contact, 4-level, directional DBS lead. 1.5 mm spacing.\",\n",
    "        \"Abbott/St Jude: 8-contact, 4-level, directional DBS lead. 0.5 mm spacing.\",\n",
    "    ],\n",
    "    description=\"DBS description\",\n",
    "    style=style,\n",
    "    layout=layout,\n",
    ")\n",
    "mylink = widgets.jslink((DBS_model, \"index\"), (DBS_description, \"index\"))\n",
    "ECOG_present = widgets.Checkbox(\n",
    "    value=False,\n",
    "    description=\"ECOG present?\",\n",
    "    style=style,\n",
    "    layout=layout,\n",
    ")\n",
    "\n",
    "\n",
    "print(\"Subject-specific information\")\n",
    "display(\n",
    "    sex,\n",
    "    age,\n",
    "    handedness,\n",
    "    date_of_implantation,\n",
    "    disease_duration,\n",
    "    PD_subtype,\n",
    "    symptom_dominant_side,\n",
    "    LEDD,\n",
    "    DBS_target,\n",
    "    DBD_hemispheres,\n",
    "    DBS_model,\n",
    "    DBS_description,\n",
    "    ECOG_present,\n",
    ")"
   ]
  },
  {
   "cell_type": "code",
   "execution_count": 93,
   "metadata": {},
   "outputs": [
    {
     "ename": "IndentationError",
     "evalue": "unexpected indent (<ipython-input-93-b3ea97b36d71>, line 40)",
     "output_type": "error",
     "traceback": [
      "\u001b[1;36m  File \u001b[1;32m\"<ipython-input-93-b3ea97b36d71>\"\u001b[1;36m, line \u001b[1;32m40\u001b[0m\n\u001b[1;33m    display(ECOG_target)\u001b[0m\n\u001b[1;37m    ^\u001b[0m\n\u001b[1;31mIndentationError\u001b[0m\u001b[1;31m:\u001b[0m unexpected indent\n"
     ]
    }
   ],
   "source": [
    "if ECOG_present.value:\n",
    "    ECOG_target = widgets.RadioButtons(\n",
    "        options=[\"n/a\", \"SMC\"],\n",
    "        description=\"ECOG target\",\n",
    "        style=style,\n",
    "        layout=layout,\n",
    "    )\n",
    "    ECOG_hemisphere = widgets.RadioButtons(\n",
    "    options=[\n",
    "        \"n/a\",\n",
    "        \"R\",\n",
    "        \"L\",\n",
    "    ],\n",
    "    description=\"ECOG hemisphere\",\n",
    "    style=style,\n",
    "    layout=layout,\n",
    "    )\n",
    "    ECOG_model = widgets.RadioButtons(\n",
    "    options=[\n",
    "        \"n/a\",\n",
    "        \"TS06R-AP10X-0W6\",\n",
    "        \"DS12A-SP10X-000\",\n",
    "    ],\n",
    "    description=\"DBS model\",\n",
    "    style=style,\n",
    "    layout=layout,\n",
    "    )\n",
    "    ECOG_description = widgets.RadioButtons(\n",
    "    options=[\n",
    "        \"n/a\",\n",
    "        \"Ad-Tech: 6-contact, 1x6 narrow-body long term monitoring strip. Platinum contacts, 10mm spacing, contact size 4.0 mm diameter/1.8 mm exposure.\",\n",
    "        \"Ad-Tech: 12-contact, 1x6 dual sided long term monitoring strip. Platinum contacts, 10mm spacing, contact size 4.0 mm diameter/2.3 mm exposure.\",\n",
    "    ],\n",
    "    description=\"DBS description\",\n",
    "    style=style,\n",
    "    layout=layout,\n",
    "    )\n",
    "mylink = widgets.jslink((ECOG_model, \"index\"), (ECOG_description, \"index\"))\n",
    "\n",
    "    display(ECOG_target)\n",
    "else:\n",
    "    print('There was no ECOG strip')\n"
   ]
  },
  {
   "cell_type": "code",
   "execution_count": 24,
   "metadata": {},
   "outputs": [
    {
     "name": "stdout",
     "output_type": "stream",
     "text": [
      "0\n"
     ]
    }
   ],
   "source": [
    "print(a.value)\n",
    "b.value\n",
    "c.value"
   ]
  }
 ],
 "metadata": {
  "interpreter": {
   "hash": "03eaa2ea944cf99881aa5fab8d165e2f17a4015119a862d5d367392066f26a1e"
  },
  "kernelspec": {
   "display_name": "Python 3.9.1 64-bit",
   "language": "python",
   "name": "python3"
  },
  "language_info": {
   "codemirror_mode": {
    "name": "ipython",
    "version": 3
   },
   "file_extension": ".py",
   "mimetype": "text/x-python",
   "name": "python",
   "nbconvert_exporter": "python",
   "pygments_lexer": "ipython3",
   "version": "3.9.1"
  }
 },
 "nbformat": 4,
 "nbformat_minor": 2
}
