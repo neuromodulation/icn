{
 "cells": [
  {
   "cell_type": "code",
   "execution_count": null,
   "metadata": {},
   "outputs": [],
   "source": [
    " %reset"
   ]
  },
  {
   "cell_type": "code",
   "execution_count": 1,
   "metadata": {},
   "outputs": [],
   "source": [
    "# conda install -c conda-forge ipywidgets\n",
    "# pip install ipywidgets\n",
    "import ipywidgets as widgets\n",
    "from IPython.display import display\n",
    "\n",
    "# pip install ipyfilechooser\n",
    "from ipyfilechooser import FileChooser\n",
    "import os\n",
    "\n",
    "import json"
   ]
  },
  {
   "cell_type": "code",
   "execution_count": 2,
   "metadata": {},
   "outputs": [],
   "source": [
    "# To Do\n",
    "# from widg import *"
   ]
  },
  {
   "cell_type": "code",
   "execution_count": 2,
   "metadata": {},
   "outputs": [],
   "source": [
    "style = {\"description_width\": \"300px\"}\n",
    "layout = {\"width\": \"800px\"}"
   ]
  },
  {
   "cell_type": "code",
   "execution_count": 3,
   "metadata": {},
   "outputs": [
    {
     "name": "stdout",
     "output_type": "stream",
     "text": [
      "Subject-specific information\n"
     ]
    },
    {
     "data": {
      "application/vnd.jupyter.widget-view+json": {
       "model_id": "2c8340e6ab414f139a2d6771d4338a0e",
       "version_major": 2,
       "version_minor": 0
      },
      "text/plain": [
       "BoundedIntText(value=0, description='Subject nr:', layout=Layout(width='800px'), max=150, style=DescriptionSty…"
      ]
     },
     "metadata": {},
     "output_type": "display_data"
    },
    {
     "data": {
      "application/vnd.jupyter.widget-view+json": {
       "model_id": "e5b401ac91e1487ea00b62ee879286e7",
       "version_major": 2,
       "version_minor": 0
      },
      "text/plain": [
       "Dropdown(description='Sex:', layout=Layout(width='800px'), options=('n/a', 'female', 'male', 'other'), style=D…"
      ]
     },
     "metadata": {},
     "output_type": "display_data"
    },
    {
     "data": {
      "application/vnd.jupyter.widget-view+json": {
       "model_id": "36e0b65b1c324c799347a7b8aec91dd1",
       "version_major": 2,
       "version_minor": 0
      },
      "text/plain": [
       "BoundedIntText(value=0, description='Age:', layout=Layout(width='800px'), max=150, style=DescriptionStyle(desc…"
      ]
     },
     "metadata": {},
     "output_type": "display_data"
    },
    {
     "data": {
      "application/vnd.jupyter.widget-view+json": {
       "model_id": "23cad7245b594c42a4e1171b55373758",
       "version_major": 2,
       "version_minor": 0
      },
      "text/plain": [
       "RadioButtons(description='handedness', layout=Layout(width='800px'), options=('n/a', 'right', 'left'), style=D…"
      ]
     },
     "metadata": {},
     "output_type": "display_data"
    },
    {
     "data": {
      "application/vnd.jupyter.widget-view+json": {
       "model_id": "4d091bc6eebb4276a185e1df707af425",
       "version_major": 2,
       "version_minor": 0
      },
      "text/plain": [
       "DatePicker(value=None, description='Date of Implantation', layout=Layout(width='800px'), style=DescriptionStyl…"
      ]
     },
     "metadata": {},
     "output_type": "display_data"
    },
    {
     "data": {
      "application/vnd.jupyter.widget-view+json": {
       "model_id": "661d90f53c7e46b59acb247a0b8121e9",
       "version_major": 2,
       "version_minor": 0
      },
      "text/plain": [
       "BoundedIntText(value=0, description='Disease duration:', layout=Layout(width='800px'), max=150, style=Descript…"
      ]
     },
     "metadata": {},
     "output_type": "display_data"
    },
    {
     "data": {
      "application/vnd.jupyter.widget-view+json": {
       "model_id": "fd55f70c25074104979bae84d3d78878",
       "version_major": 2,
       "version_minor": 0
      },
      "text/plain": [
       "RadioButtons(description='PD subtype', layout=Layout(width='800px'), options=('n/a', 'akinetic-rigid', 'tremor…"
      ]
     },
     "metadata": {},
     "output_type": "display_data"
    },
    {
     "data": {
      "application/vnd.jupyter.widget-view+json": {
       "model_id": "6446e24fa5b343ee85dab25f3dbce9c7",
       "version_major": 2,
       "version_minor": 0
      },
      "text/plain": [
       "RadioButtons(description='symptom dominant side', layout=Layout(width='800px'), options=('n/a', 'right', 'left…"
      ]
     },
     "metadata": {},
     "output_type": "display_data"
    },
    {
     "data": {
      "application/vnd.jupyter.widget-view+json": {
       "model_id": "ed29aabf688b474189ee742c7494f288",
       "version_major": 2,
       "version_minor": 0
      },
      "text/plain": [
       "BoundedIntText(value=0, description='Levodopa equivalent daily dose (LEDD):', layout=Layout(width='800px'), ma…"
      ]
     },
     "metadata": {},
     "output_type": "display_data"
    },
    {
     "data": {
      "application/vnd.jupyter.widget-view+json": {
       "model_id": "b94c28e79c5548ea8fc1176337f3ce04",
       "version_major": 2,
       "version_minor": 0
      },
      "text/plain": [
       "RadioButtons(description='DBS target', layout=Layout(width='800px'), options=('n/a', 'STN', 'GPI', 'VIM'), sty…"
      ]
     },
     "metadata": {},
     "output_type": "display_data"
    },
    {
     "data": {
      "application/vnd.jupyter.widget-view+json": {
       "model_id": "87ddd02db29845e1a53e61bf6e71de64",
       "version_major": 2,
       "version_minor": 0
      },
      "text/plain": [
       "RadioButtons(description='DBS hemisphere', layout=Layout(width='800px'), options=('n/a', 'right', 'left', 'bil…"
      ]
     },
     "metadata": {},
     "output_type": "display_data"
    },
    {
     "data": {
      "application/vnd.jupyter.widget-view+json": {
       "model_id": "1dc57831d76e4c8a918a523325dfc3c1",
       "version_major": 2,
       "version_minor": 0
      },
      "text/plain": [
       "RadioButtons(description='DBS model', layout=Layout(width='800px'), options=('n/a', 'SenSight Short', 'SenSigh…"
      ]
     },
     "metadata": {},
     "output_type": "display_data"
    },
    {
     "data": {
      "application/vnd.jupyter.widget-view+json": {
       "model_id": "de350d49be944f22b634c20744b1a01f",
       "version_major": 2,
       "version_minor": 0
      },
      "text/plain": [
       "RadioButtons(description='DBS description', layout=Layout(width='800px'), options=('n/a', 'Medtronic: 8-contac…"
      ]
     },
     "metadata": {},
     "output_type": "display_data"
    },
    {
     "data": {
      "application/vnd.jupyter.widget-view+json": {
       "model_id": "70a46890265446a6b25b7f5bddad5baa",
       "version_major": 2,
       "version_minor": 0
      },
      "text/plain": [
       "Button(description='ECOG present?', layout=Layout(width='800px'), style=ButtonStyle())"
      ]
     },
     "metadata": {},
     "output_type": "display_data"
    },
    {
     "data": {
      "application/vnd.jupyter.widget-view+json": {
       "model_id": "5410d014db544f10a6951dbd76416b82",
       "version_major": 2,
       "version_minor": 0
      },
      "text/plain": [
       "Output()"
      ]
     },
     "metadata": {},
     "output_type": "display_data"
    }
   ],
   "source": [
    "bids_subject = widgets.BoundedIntText(\n",
    "    min=0, max=150, step=1, description=\"Subject nr:\", style=style, layout=layout\n",
    ")\n",
    "bids_sex = widgets.Dropdown(\n",
    "    options=[\"n/a\", \"female\", \"male\", \"other\"],\n",
    "    description=\"Sex:\",\n",
    "    style=style,\n",
    "    layout=layout,\n",
    ")\n",
    "bids_handedness = widgets.RadioButtons(\n",
    "    options=[\n",
    "        \"n/a\",\n",
    "        \"right\",\n",
    "        \"left\",\n",
    "    ],\n",
    "    description=\"handedness\",\n",
    "    style=style,\n",
    "    layout=layout,\n",
    ")\n",
    "\n",
    "bids_age = widgets.BoundedIntText(\n",
    "    min=0, max=150, step=1, description=\"Age:\", style=style, layout=layout\n",
    ")\n",
    "bids_date_of_implantation = widgets.DatePicker(\n",
    "    description=\"Date of Implantation\", style=style, layout=layout\n",
    ")\n",
    "bids_disease_duration = widgets.BoundedIntText(\n",
    "    min=0, max=150, step=1, description=\"Disease duration:\", style=style, layout=layout\n",
    ")\n",
    "bids_PD_subtype = widgets.RadioButtons(\n",
    "    options=[\"n/a\", \"akinetic-rigid\", \"tremor-dominant\", \"equivalent\"],\n",
    "    description=\"PD subtype\",\n",
    "    style=style,\n",
    "    layout=layout,\n",
    ")\n",
    "bids_symptom_dominant_side = widgets.RadioButtons(\n",
    "    options=[\n",
    "        \"n/a\",\n",
    "        \"right\",\n",
    "        \"left\",\n",
    "    ],\n",
    "    description=\"symptom dominant side\",\n",
    "    style=style,\n",
    "    layout=layout,\n",
    ")\n",
    "bids_LEDD = widgets.BoundedIntText(\n",
    "    max=10000,\n",
    "    step=1,\n",
    "    description=\"Levodopa equivalent daily dose (LEDD):\",\n",
    "    style=style,\n",
    "    layout=layout,\n",
    ")\n",
    "bids_DBS_target = widgets.RadioButtons(\n",
    "    options=[\"n/a\", \"STN\", \"GPI\", \"VIM\"],\n",
    "    description=\"DBS target\",\n",
    "    style=style,\n",
    "    layout=layout,\n",
    ")\n",
    "bids_DBS_hemispheres = widgets.RadioButtons(\n",
    "    options=[\"n/a\", \"right\", \"left\", \"bilateral\"],\n",
    "    description=\"DBS hemisphere\",\n",
    "    style=style,\n",
    "    layout=layout,\n",
    ")\n",
    "bids_DBS_model = widgets.RadioButtons(\n",
    "    options=[\n",
    "        \"n/a\",\n",
    "        \"SenSight Short\",\n",
    "        \"SenSight Long\",\n",
    "        \"Vercise Cartesia X\",\n",
    "        \"Vercise Cartesia\",\n",
    "        \"Vercise Standard\",\n",
    "        \"Abbott Directed Long\",\n",
    "        \"Abbott Directed Short\",\n",
    "    ],\n",
    "    description=\"DBS model\",\n",
    "    style=style,\n",
    "    layout=layout,\n",
    ")\n",
    "bids_DBS_description = widgets.RadioButtons(\n",
    "    options=[\n",
    "        \"n/a\",\n",
    "        \"Medtronic: 8-contact, 4-level, directional DBS lead. 0.5 mm spacing.\",\n",
    "        \"Medtronic: 8-contact, 4-level, directional DBS lead. 1.5 mm spacing.\",\n",
    "        \"Boston Scientific: 16-contact, 5-level, directional DBS lead. 0.5 mm spacing.\",\n",
    "        \"Boston Scientific: 8-contact, 4-level, directional DBS lead. 0.5 mm spacing.\",\n",
    "        \"Boston Scientific: 8-contact, 8-level, non-directional DBS lead. 0.5 mm spacing.\",\n",
    "        \"Abbott/St Jude: 8-contact, 4-level, directional DBS lead. 1.5 mm spacing.\",\n",
    "        \"Abbott/St Jude: 8-contact, 4-level, directional DBS lead. 0.5 mm spacing.\",\n",
    "    ],\n",
    "    description=\"DBS description\",\n",
    "    style=style,\n",
    "    layout=layout,\n",
    ")\n",
    "mylink = widgets.jslink((bids_DBS_model, \"index\"), (bids_DBS_description, \"index\"))\n",
    "\n",
    "ECOG_present = widgets.Button(\n",
    "    value=False,\n",
    "    description=\"ECOG present?\",\n",
    "    style=style,\n",
    "    layout=layout,\n",
    ")\n",
    "\n",
    "\n",
    "def define_ECOG(click):\n",
    "    with output1:\n",
    "        ECOG_present.disabled = 1\n",
    "        display(\n",
    "            bids_ECOG_target,\n",
    "            bids_ECOG_hemisphere,\n",
    "            bids_ECOG_model,\n",
    "            bids_ECOG_description,\n",
    "        )\n",
    "\n",
    "\n",
    "ECOG_present.on_click(define_ECOG)\n",
    "\n",
    "bids_ECOG_target = widgets.RadioButtons(\n",
    "    options=[\"n/a\", \"SMC\"],\n",
    "    description=\"ECOG target\",\n",
    "    style=style,\n",
    "    layout=layout,\n",
    ")\n",
    "bids_ECOG_hemisphere = widgets.RadioButtons(\n",
    "    options=[\n",
    "        \"n/a\",\n",
    "        \"R\",\n",
    "        \"L\",\n",
    "    ],\n",
    "    description=\"ECOG hemisphere\",\n",
    "    style=style,\n",
    "    layout=layout,\n",
    ")\n",
    "bids_ECOG_model = widgets.RadioButtons(\n",
    "    options=[\n",
    "        \"n/a\",\n",
    "        \"TS06R-AP10X-0W6\",\n",
    "        \"DS12A-SP10X-000\",\n",
    "    ],\n",
    "    description=\"ECOG model\",\n",
    "    style=style,\n",
    "    layout=layout,\n",
    ")\n",
    "bids_ECOG_description = widgets.RadioButtons(\n",
    "    options=[\n",
    "        \"n/a\",\n",
    "        \"Ad-Tech: 6-contact, 1x6 narrow-body long term monitoring strip. Platinum contacts, 10mm spacing, contact size 4.0 mm diameter/1.8 mm exposure.\",\n",
    "        \"Ad-Tech: 12-contact, 1x6 dual sided long term monitoring strip. Platinum contacts, 10mm spacing, contact size 4.0 mm diameter/2.3 mm exposure.\",\n",
    "    ],\n",
    "    description=\"ECOG description\",\n",
    "    style=style,\n",
    "    layout={\"width\": \"max-content\"},\n",
    ")\n",
    "mylink = widgets.jslink((bids_ECOG_model, \"index\"), (bids_ECOG_description, \"index\"))\n",
    "\n",
    "\n",
    "output1 = widgets.Output()\n",
    "print(\"Subject-specific information\")\n",
    "display(\n",
    "    bids_subject,\n",
    "    bids_sex,\n",
    "    bids_age,\n",
    "    bids_handedness,\n",
    "    bids_date_of_implantation,\n",
    "    bids_disease_duration,\n",
    "    bids_PD_subtype,\n",
    "    bids_symptom_dominant_side,\n",
    "    bids_LEDD,\n",
    "    bids_DBS_target,\n",
    "    bids_DBS_hemispheres,\n",
    "    bids_DBS_model,\n",
    "    bids_DBS_description,\n",
    "    ECOG_present,\n",
    "    output1,\n",
    ")"
   ]
  },
  {
   "cell_type": "code",
   "execution_count": 10,
   "metadata": {},
   "outputs": [
    {
     "data": {
      "application/vnd.jupyter.widget-view+json": {
       "model_id": "6b5778e2fe5145c4805e62b7e2b64421",
       "version_major": 2,
       "version_minor": 0
      },
      "text/plain": [
       "Button(description='Create a session', layout=Layout(width='800px'), style=ButtonStyle())"
      ]
     },
     "metadata": {},
     "output_type": "display_data"
    },
    {
     "data": {
      "application/vnd.jupyter.widget-view+json": {
       "model_id": "745b25c6d24643698e2e3e7fda9c2200",
       "version_major": 2,
       "version_minor": 0
      },
      "text/plain": [
       "Output()"
      ]
     },
     "metadata": {},
     "output_type": "display_data"
    }
   ],
   "source": [
    "session_creation = widgets.Button(\n",
    "    description=\"Create a session\", style=style, layout=layout\n",
    ")\n",
    "\n",
    "\n",
    "def on_session_creation(click1):\n",
    "    with output2:\n",
    "\n",
    "        bids_session.append(\n",
    "            widgets.Text(\n",
    "                description=\"Session name:\",\n",
    "                placeholder=\"Give in the session name\",\n",
    "                style=style,\n",
    "                layout=layout,\n",
    "            )\n",
    "        )\n",
    "\n",
    "        bids_UPDRS_session.append(\n",
    "            widgets.Text(\n",
    "                description=\"UPDRS session:\",\n",
    "                value=\"n/a\",\n",
    "                placeholder=\"Give in UPDRS score or 'n/a'\",\n",
    "                style=style,\n",
    "                layout=layout,\n",
    "            )\n",
    "        )\n",
    "        bids_space.append(\n",
    "            widgets.Text(\n",
    "                description=\"Space session:\",\n",
    "                value=\"MNI152NLin2009bAsym\",\n",
    "                placeholder=\"Give in the space\",\n",
    "                style=style,\n",
    "                layout=layout,\n",
    "            )\n",
    "        )\n",
    "\n",
    "        display(\n",
    "            bids_session[-1],\n",
    "            bids_UPDRS_session[-1],\n",
    "            bids_space[-1],\n",
    "            specify_file,\n",
    "        )\n",
    "\n",
    "\n",
    "session_creation.on_click(on_session_creation)\n",
    "bids_session = []\n",
    "bids_UPDRS_session = []\n",
    "bids_space = []\n",
    "\n",
    "\n",
    "specify_file = widgets.Button(\n",
    "    description=\"specify file and specify recording-specific settings\",\n",
    "    style=style,\n",
    "    layout=layout,\n",
    ")\n",
    "\n",
    "########################### to the recordings ##################################################\n",
    "bids_filechooser = []\n",
    "# datafile=[]\n",
    "# root_to_datafile=[]\n",
    "bids_task = []\n",
    "bids_task_description = []\n",
    "bids_task_instructions = []\n",
    "bids_time_of_acquisition = []\n",
    "bids_run = []\n",
    "bids_acquisition = []\n",
    "\n",
    "\n",
    "\n",
    "task_options = [(\"n/a\", 0),\n",
    "                (\"Rest\", 1),\n",
    "                (\"UPDRSIII\", 2),\n",
    "                (\"SelfpacedRotationL\", 3),\n",
    "                (\"SelfpacedRotationR\", 4),\n",
    "                (\"BlockRotationL\", 5),\n",
    "                (\"BlockRotationR\", 6),\n",
    "                (\"Evoked\", 7),\n",
    "                (\"SelfpacedSpeech\", 8),\n",
    "                (\"ReadRelaxMoveR\", 9),\n",
    "                (\"VigorStimR\", 10),\n",
    "                (\"VigorStimL\", 11),\n",
    "                (\"SelfpacedHandFlipL\", 12),\n",
    "                (\"SelfpacedHandFlipR\", 13),\n",
    "                (\"Free\", 14),\n",
    "                \n",
    "            ]\n",
    "\n",
    "def go_to_subsession(*args):\n",
    "    def update_task(change):\n",
    "        with output2:\n",
    "            bids_task_description[-1].value = descriptions[change[\"new\"]]\n",
    "            bids_task_instructions[-1].value = instructions[change[\"new\"]]\n",
    "\n",
    "    bids_filechooser.append(FileChooser(os.getcwd()))\n",
    "    bids_filechooser[-1].title = \"selected POLY5 file to convert\"\n",
    "\n",
    "    bids_task.append(\n",
    "        widgets.Dropdown(\n",
    "            options=task_options,\n",
    "            value=0,\n",
    "            description=\"Task:\",\n",
    "            style=style,\n",
    "            layout=layout,\n",
    "        )\n",
    "    )\n",
    "    bids_task[-1].observe(update_task, names=\"value\")\n",
    "\n",
    "    descriptions = [\n",
    "        \"n/a\",\n",
    "        \"Rest recording\",\n",
    "        \"Recording performed during part III of the UPDRS (Unified Parkinson\"\n",
    "        \"s Disease Rating Scale) questionnaire.\",\n",
    "        \"Selfpaced left wrist rotations performed on custom-built analog rotameter which translates degree of rotation to volt.\",\n",
    "        \"Selfpaced right wrist rotations performed on custom-built analog rotameter which translates degree of rotation to volt.\",\n",
    "        \"Blocks of 30 seconds of rest followed by blocks of 30 seconds of continuous wrist rotation performed on a custom-built rotameter which translates degree of rotation to volt. Performed with the left hand.\",\n",
    "        \"Blocks of 30 seconds of rest followed by blocks of 30 seconds of continuous wrist rotation performed on a custom-built rotameter which translates degree of rotation to volt. Performed with the right hand.\",\n",
    "        \"Evoked potentials recording. Single stimulation pulses of fixed amplitude following periods of high frequency stimulation with varying amplitude (0, 1.5 and 3 mA) per block.\",\n",
    "        \"Selfpaced reading aloud of the fable \"\n",
    "        \"The Parrot and the Cat\"\n",
    "        \" by Aesop. Extended pauses in between sentences.\",\n",
    "        \"Block of 30 seconds of continuous right wrist rotation performed on a custom-built rotameter which translates degree of rotation to volt followed by a block of 30 seconds of rest followed by a block of 30 seconds of reading aloud (\"\n",
    "        \"The Parrot and the Cat\"\n",
    "        \" by Aesop). Multiple sets.\",\n",
    "        \"Performance of diagonal forearm movements with a cursor on a screen using a digitizing tablet. Start and stop events are visually cued on screen with a rest duration of 350 ms. 14 blocks with 32 movements each. In blocks 3-5/9-11 bilateral stimulation is applied for 300 ms if a movement is slower/faster than the previous two movements. The order of slow/fast blocks is alternated between participants.  Performed with the right hand.\",\n",
    "        \"Performance of diagonal forearm movements with a cursor on a screen using a digitizing tablet. Start and stop events are visually cued on screen with a rest duration of 350 ms. 14 blocks with 32 movements each. In blocks 3-5/9-11 bilateral stimulation is applied for 300 ms if a movement is slower/faster than the previous two movements. The order of slow/fast blocks is alternated between participants.  Performed with the left hand.\",\n",
    "        \"Selfpaced left hand rotations 180 every 10 seconds, without counting, in resting seated position.\",\n",
    "        \"Selfpaced right hand rotations 180 every 10 seconds, without counting, in resting seated position.\",\n",
    "        \"Free period, no instructions, during Dyskinesia-Protocol still recorded to monitor the increasing Dopamine-Level\",\n",
    "    ]\n",
    "    instructions = [\n",
    "        \"n/a\",\n",
    "        \"Do not move or speak and keep your eyes open.\",\n",
    "        \"See UPDRS questionnaire.\",\n",
    "        \"Perform 50 wrist rotations with your left hand with an interval of about 10 seconds. Do not count in between rotations.\",\n",
    "        \"Perform 50 wrist rotations with your right hand with an interval of about 10 seconds. Do not count in between rotations.\",\n",
    "        'Upon the auditory command \"start\", perform continuous wrist rotations with your left hand, until you perceive the auditory command \"stop\". Perform these wrist rotations as fast as possible and with the largest possible amplitude.',\n",
    "        'Upon the auditory command \"start\", perform continuous wrist rotations with your right hand, until you perceive the auditory command \"stop\". Perform these wrist rotations as fast as possible and with the largest possible amplitude.',\n",
    "        \"Do not move or speak and keep your eyes open.\",\n",
    "        \"Read aloud sentence by sentence the text in front of you. Leave a pause of several seconds in between sentences.\",\n",
    "        \"At the beginning of each block, a text will appear on the screen, specifying the task to be performed. An auditory cue will then be issued, marking the begin of your task. Perform the task until the next cue marks the end of the task. Tasks are either continuous right wrist rotation, resting with open eyes or reading aloud the text displayed on the screen.\",\n",
    "        \"Your task is to move your pen from one side of the screen to the other. When you see a square, please move your pen there and stay on the square until a new square appears on the other side. Then move the pen to the new square. Please move as fast as you can and touch the screen with the pen throughout the whole experiment.\",\n",
    "        \"Your task is to move your pen from one side of the screen to the other. When you see a square, please move your pen there and stay on the square until a new square appears on the other side. Then move the pen to the new square. Please move as fast as you can and touch the screen with the pen throughout the whole experiment.\",\n",
    "        \"Keep both hands resting on your legs, and rotate your left hand 180 degrees and back every 10 seconds. Do not count in between rotations.\",\n",
    "        \"Keep both hands resting on your legs, and rotate your right hand 180 degrees and back every 10 seconds. Do not count in between rotations.\",\n",
    "        \"Free period, without instructions or restrictions, of rest between Rest-measurement and Task-measurements\",\n",
    "    ]\n",
    "\n",
    "    bids_task_description.append(\n",
    "        widgets.Textarea(\n",
    "            value=descriptions[0],\n",
    "            description=\"Task description:\",\n",
    "            style=style,\n",
    "            layout=layout,\n",
    "        )\n",
    "    )\n",
    "    bids_task_instructions.append(\n",
    "        widgets.Textarea(\n",
    "            value=instructions[0],\n",
    "            description=\"Task instructions:\",\n",
    "            style=style,\n",
    "            layout=layout,\n",
    "        )\n",
    "    )\n",
    "\n",
    "    bids_time_of_acquisition.append(\n",
    "        widgets.Text(\n",
    "            description=\"Date and time of recording\",\n",
    "            placeholder=\"2022-01-24T09:36:27 (use this format)\",\n",
    "            style=style,\n",
    "            layout=layout,\n",
    "        )\n",
    "    )\n",
    "\n",
    "    bids_run.append(\n",
    "        widgets.BoundedIntText(\n",
    "            value=0,\n",
    "            min=0,\n",
    "            max=10,\n",
    "            step=1,\n",
    "            description=\"Run number (0 means not applicable):\",\n",
    "            style=style,\n",
    "            layout=layout,\n",
    "        )\n",
    "    )\n",
    "\n",
    "    bids_acquisition.append(\n",
    "        widgets.Text(\n",
    "            description=\"acquisition e.g. StimOff01 or StimOnDopa30\",\n",
    "            style=style,\n",
    "            layout=layout,\n",
    "        )\n",
    "    )\n",
    "\n",
    "    with output2:\n",
    "\n",
    "        display(\n",
    "            bids_filechooser[-1],\n",
    "            bids_task[-1],\n",
    "            bids_task_description[-1],\n",
    "            bids_task_instructions[-1],\n",
    "            bids_time_of_acquisition[-1],\n",
    "            bids_acquisition[-1],\n",
    "            bids_run[-1],\n",
    "            save_to_json,\n",
    "        )\n",
    "\n",
    "\n",
    "specify_file.on_click(go_to_subsession)\n",
    "save_to_json = widgets.Button(\n",
    "    description=\"Save this meta data to json\",\n",
    "    style=style,\n",
    "    layout=layout,\n",
    ")\n",
    "\n",
    "\n",
    "def multiplefunctions(*args):\n",
    "    save_all_information(*args)\n",
    "    go_to_subsession(*args)\n",
    "\n",
    "\n",
    "def save_all_information(*args):\n",
    "    # All the vars that I want to get start with bids_\n",
    "    bidsdict = {}\n",
    "    currentfile = []\n",
    "    prefix = \"bids_\"\n",
    "    sourcedict = locals().copy()\n",
    "    for v in sourcedict:\n",
    "        if v.startswith(prefix):\n",
    "            \n",
    "            if v == 'bids_filechooser':\n",
    "                val = sourcedict[v][-1].selected_filename\n",
    "                currentfile = val\n",
    "            elif v == \"bids_date_of_implantation\":\n",
    "                val = sourcedict[v].value\n",
    "                val = val.strftime(\"%m-%d-%YT00:00:00\")\n",
    "            elif v == \"bids_task\":\n",
    "                val = task_options[bids_task[-1].value][0]\n",
    "             elif v == \"bids_subject\":\n",
    "                val = str(bids_subject.value).zfill(3)\n",
    "\n",
    "            elif type(sourcedict[v])==list:\n",
    "                val = sourcedict[v][-1].value\n",
    "            else:\n",
    "                val = sourcedict[v].value\n",
    "            \n",
    "            bidsdict[v[len(prefix) : ]]=val\n",
    "    if isempty(currentfile):\n",
    "        with output2:\n",
    "            print(\"The information could not be saved, please select file\")\n",
    "    else:\n",
    "        currentfile+='.json'\n",
    "        with open(currentfile, 'w') as outfile:\n",
    "            json.dump(bidsdict, outfile,indent=4)\n",
    "\n",
    "        with output2:\n",
    "            print(\"information is saved and cannot be changed\")\n",
    "\n",
    "\n",
    "save_to_json.on_click(multiplefunctions)\n",
    "\n",
    "\n",
    "output2 = widgets.Output()\n",
    "display(session_creation, output2)"
   ]
  },
  {
   "cell_type": "code",
   "execution_count": null,
   "metadata": {},
   "outputs": [],
   "source": []
  },
  {
   "cell_type": "code",
   "execution_count": null,
   "metadata": {},
   "outputs": [],
   "source": []
  },
  {
   "cell_type": "code",
   "execution_count": null,
   "metadata": {},
   "outputs": [],
   "source": []
  },
  {
   "cell_type": "code",
   "execution_count": null,
   "metadata": {},
   "outputs": [],
   "source": []
  },
  {
   "cell_type": "code",
   "execution_count": null,
   "metadata": {},
   "outputs": [
    {
     "data": {
      "text/plain": [
       "'\\nsubject \\nsession + hardware + space + UPDRS + electrode localizations\\ntask  + run + channel names + reference + stimsettings + time of acquisition\\n\\n1 json file per recording\\n\\nTo Do: electrode size\\n'"
      ]
     },
     "execution_count": 54,
     "metadata": {},
     "output_type": "execute_result"
    }
   ],
   "source": [
    "\"\"\"\n",
    "subject \n",
    "session + hardware + space + UPDRS + electrode localizations\n",
    "task  + run + channel names + reference + stimsettings + time of acquisition\n",
    "\n",
    "1 json file per recording\n",
    "\n",
    "To Do: electrode size\n",
    "\"\"\""
   ]
  },
  {
   "cell_type": "code",
   "execution_count": 23,
   "metadata": {},
   "outputs": [
    {
     "name": "stdout",
     "output_type": "stream",
     "text": [
      "531AI63_MedOff1_ReadRelaxMoveR_StimOff_1-20220124T095015.DATA.Poly5.json\n",
      "{'sub': 9, 'sex': 'male', 'handedness': 'right', 'age': 59, 'date_of_implantation': '01-20-2022T00:00:00', 'disease_duration': 7, 'PD_subtype': 'akinetic-rigid', 'symptom_dominant_side': 'right', 'LEDD': 1600, 'DBS_target': 'STN', 'DBS_hemispheres': 'bilateral', 'DBS_model': 'SenSight Short', 'DBS_description': 'Medtronic: 8-contact, 4-level, directional DBS lead. 0.5 mm spacing.', 'ECOG_target': 'SMC', 'ECOG_hemisphere': 'L', 'ECOG_model': 'TS06R-AP10X-0W6', 'ECOG_description': 'Ad-Tech: 6-contact, 1x6 narrow-body long term monitoring strip. Platinum contacts, 10mm spacing, contact size 4.0 mm diameter/1.8 mm exposure.', 'session_name': 'EcogLfpMedOff01', 'UPDRS_session': '18', 'space_session': 'MNI152NLin2009bAsym', 'filechooser': '531AI63_MedOff1_ReadRelaxMoveR_StimOff_1-20220124T095015.DATA.Poly5', 'task': 9, 'task_description': 'Block of 30 seconds of continuous right wrist rotation performed on a custom-built rotameter which translates degree of rotation to volt followed by a block of 30 seconds of rest followed by a block of 30 seconds of reading aloud (The Parrot and the Cat by Aesop). Multiple sets.', 'task_instructions': 'At the beginning of each block, a text will appear on the screen, specifying the task to be performed. An auditory cue will then be issued, marking the begin of your task. Perform the task until the next cue marks the end of the task. Tasks are either continuous right wrist rotation, resting with open eyes or reading aloud the text displayed on the screen.', 'time_of_acquisition': '2022-01-24T09:50:15', 'run_number': 1, 'session': 'EcogLfpMedOff01', 'space': 'MNI152NLin2009bAsym', 'run': 1, 'acquisition': 'StimOff01'}\n"
     ]
    }
   ],
   "source": [
    "from datetime import datetime\n",
    "# All the vars that I want to get start with bids_\n",
    "bidsdict = {}\n",
    "prefix = \"bids_\"\n",
    "sourcedict = locals().copy()\n",
    "for v in sourcedict:\n",
    "    if v.startswith(prefix):\n",
    "\n",
    "        if v == \"bids_filechooser\":\n",
    "            val = sourcedict[v][-1].selected_filename\n",
    "            currentfile = val\n",
    "        elif v == \"bids_date_of_implantation\":\n",
    "            val = sourcedict[v].value\n",
    "            val = val.strftime(\"%m-%d-%YT00:00:00\")\n",
    "\n",
    "        elif type(sourcedict[v]) == list:\n",
    "            val = sourcedict[v][-1].value\n",
    "        else:\n",
    "            val = sourcedict[v].value\n",
    "\n",
    "        bidsdict[v[len(prefix) :]] = val\n",
    "currentfile += \".json\"\n",
    "print(currentfile)\n",
    "print(bidsdict)\n",
    "with open(currentfile, \"w\") as outfile:\n",
    "    json.dump(bidsdict, outfile, indent=4)"
   ]
  },
  {
   "cell_type": "code",
   "execution_count": 20,
   "metadata": {},
   "outputs": [
    {
     "data": {
      "text/plain": [
       "{}"
      ]
     },
     "execution_count": 20,
     "metadata": {},
     "output_type": "execute_result"
    }
   ],
   "source": [
    "val = bidsdict[\"date_of_implantation\"]\n",
    "val = val.strftime(\"%m/%d/%YT00:00:00\")\n",
    "val\n",
    "bidsdict = {}\n",
    "bidsdict"
   ]
  },
  {
   "cell_type": "code",
   "execution_count": 33,
   "metadata": {},
   "outputs": [
    {
     "data": {
      "text/plain": [
       "'VigorStimR'"
      ]
     },
     "execution_count": 33,
     "metadata": {},
     "output_type": "execute_result"
    }
   ],
   "source": [
    "task_options = [\n",
    "                (\"Rest\", 1),\n",
    "                (\"UPDRSIII\", 2),\n",
    "                (\"SelfpacedRotationL\", 3),\n",
    "                (\"SelfpacedRotationR\", 4),\n",
    "                (\"BlockRotationL\", 5),\n",
    "                (\"BlockRotationR\", 6),\n",
    "                (\"Evoked\", 7),\n",
    "                (\"SelfpacedSpeech\", 8),\n",
    "                (\"ReadRelaxMoveR\", 9),\n",
    "                (\"VigorStimR\", 10),\n",
    "                (\"VigorStimL\", 11),\n",
    "                (\"SelfpacedHandFlipL\", 12),\n",
    "                (\"SelfpacedHandFlipR\", 13),\n",
    "                (\"Free\", 14),\n",
    "                (\"n/a\", 0),\n",
    "            ]\n",
    "\n",
    "bids_task[-1].value\n",
    "task_options[bids_task[-1].value][0]"
   ]
  }
 ],
 "metadata": {
  "interpreter": {
   "hash": "03eaa2ea944cf99881aa5fab8d165e2f17a4015119a862d5d367392066f26a1e"
  },
  "kernelspec": {
   "display_name": "Python 3.9.1 64-bit",
   "language": "python",
   "name": "python3"
  },
  "language_info": {
   "codemirror_mode": {
    "name": "ipython",
    "version": 3
   },
   "file_extension": ".py",
   "mimetype": "text/x-python",
   "name": "python",
   "nbconvert_exporter": "python",
   "pygments_lexer": "ipython3",
   "version": "3.9.1"
  }
 },
 "nbformat": 4,
 "nbformat_minor": 2
}
