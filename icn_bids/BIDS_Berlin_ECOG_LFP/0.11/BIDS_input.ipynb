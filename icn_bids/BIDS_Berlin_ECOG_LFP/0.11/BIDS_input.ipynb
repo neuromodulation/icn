{
 "cells": [
  {
   "cell_type": "code",
   "execution_count": 3,
   "metadata": {},
   "outputs": [],
   "source": [
    "# conda install -c conda-forge ipywidgets\n",
    "# pip install ipywidgets\n",
    "import ipywidgets as widgets\n",
    "from IPython.display import display\n",
    "\n",
    "# pip install ipyfilechooser\n",
    "from ipyfilechooser import FileChooser\n",
    "import os"
   ]
  },
  {
   "cell_type": "code",
   "execution_count": null,
   "metadata": {},
   "outputs": [],
   "source": [
    "from widg import *"
   ]
  },
  {
   "cell_type": "code",
   "execution_count": 84,
   "metadata": {},
   "outputs": [],
   "source": [
    "style = {\"description_width\": \"300px\"}\n",
    "layout = {\"width\": \"800px\"}"
   ]
  },
  {
   "cell_type": "code",
   "execution_count": 147,
   "metadata": {},
   "outputs": [
    {
     "name": "stdout",
     "output_type": "stream",
     "text": [
      "Subject-specific information\n"
     ]
    },
    {
     "data": {
      "application/vnd.jupyter.widget-view+json": {
       "model_id": "fc8455204fd44f3787e83f6b6ca66042",
       "version_major": 2,
       "version_minor": 0
      },
      "text/plain": [
       "Dropdown(description='Sex:', layout=Layout(width='800px'), options=('n/a', 'female', 'male', 'other'), style=D…"
      ]
     },
     "metadata": {},
     "output_type": "display_data"
    },
    {
     "data": {
      "application/vnd.jupyter.widget-view+json": {
       "model_id": "e3aa69838de3453da962603bfc02d493",
       "version_major": 2,
       "version_minor": 0
      },
      "text/plain": [
       "BoundedIntText(value=0, description='Age:', layout=Layout(width='800px'), max=150, style=DescriptionStyle(desc…"
      ]
     },
     "metadata": {},
     "output_type": "display_data"
    },
    {
     "data": {
      "application/vnd.jupyter.widget-view+json": {
       "model_id": "9d516d2ea7294034be96762ddf55cb08",
       "version_major": 2,
       "version_minor": 0
      },
      "text/plain": [
       "RadioButtons(description='handedness', layout=Layout(width='800px'), options=('n/a', 'right', 'left'), style=D…"
      ]
     },
     "metadata": {},
     "output_type": "display_data"
    },
    {
     "data": {
      "application/vnd.jupyter.widget-view+json": {
       "model_id": "4d95d08143cf49519f22b521766a1c9b",
       "version_major": 2,
       "version_minor": 0
      },
      "text/plain": [
       "DatePicker(value=None, description='Date of Implantation', layout=Layout(width='800px'), style=DescriptionStyl…"
      ]
     },
     "metadata": {},
     "output_type": "display_data"
    },
    {
     "data": {
      "application/vnd.jupyter.widget-view+json": {
       "model_id": "4df97bd5ae21445694f7e77246891d70",
       "version_major": 2,
       "version_minor": 0
      },
      "text/plain": [
       "BoundedIntText(value=0, description='Disease duration:', layout=Layout(width='800px'), max=150, style=Descript…"
      ]
     },
     "metadata": {},
     "output_type": "display_data"
    },
    {
     "data": {
      "application/vnd.jupyter.widget-view+json": {
       "model_id": "a1ac586d4295454b9480584db853601e",
       "version_major": 2,
       "version_minor": 0
      },
      "text/plain": [
       "RadioButtons(description='PD subtype', layout=Layout(width='800px'), options=('n/a', 'akinetic-rigid', 'tremor…"
      ]
     },
     "metadata": {},
     "output_type": "display_data"
    },
    {
     "data": {
      "application/vnd.jupyter.widget-view+json": {
       "model_id": "ae9fb746db05422ba41b0dcd95f8273d",
       "version_major": 2,
       "version_minor": 0
      },
      "text/plain": [
       "RadioButtons(description='symptom dominant side', layout=Layout(width='800px'), options=('n/a', 'right', 'left…"
      ]
     },
     "metadata": {},
     "output_type": "display_data"
    },
    {
     "data": {
      "application/vnd.jupyter.widget-view+json": {
       "model_id": "565453f109ee4f40baa6cc38ee64c7d8",
       "version_major": 2,
       "version_minor": 0
      },
      "text/plain": [
       "BoundedIntText(value=0, description='Levodopa equivalent daily dose (LEDD):', layout=Layout(width='800px'), ma…"
      ]
     },
     "metadata": {},
     "output_type": "display_data"
    },
    {
     "data": {
      "application/vnd.jupyter.widget-view+json": {
       "model_id": "efe7cc8b54c64b0ab82f52bdd1e7df59",
       "version_major": 2,
       "version_minor": 0
      },
      "text/plain": [
       "RadioButtons(description='DBS target', layout=Layout(width='800px'), options=('n/a', 'STN', 'GPI', 'VIM'), sty…"
      ]
     },
     "metadata": {},
     "output_type": "display_data"
    },
    {
     "data": {
      "application/vnd.jupyter.widget-view+json": {
       "model_id": "e4d6e2a02b3d4c90bb6dae3cd0850890",
       "version_major": 2,
       "version_minor": 0
      },
      "text/plain": [
       "RadioButtons(description='DBS hemisphere', layout=Layout(width='800px'), options=('n/a', 'right', 'left', 'bil…"
      ]
     },
     "metadata": {},
     "output_type": "display_data"
    },
    {
     "data": {
      "application/vnd.jupyter.widget-view+json": {
       "model_id": "589e1f27ec9f441d9ee06dbf2996689c",
       "version_major": 2,
       "version_minor": 0
      },
      "text/plain": [
       "RadioButtons(description='DBS model', layout=Layout(width='800px'), options=('n/a', 'SenSight Short', 'SenSigh…"
      ]
     },
     "metadata": {},
     "output_type": "display_data"
    },
    {
     "data": {
      "application/vnd.jupyter.widget-view+json": {
       "model_id": "2ba21310ff974603b491e23235becc0c",
       "version_major": 2,
       "version_minor": 0
      },
      "text/plain": [
       "RadioButtons(description='DBS description', layout=Layout(width='800px'), options=('n/a', 'Medtronic: 8-contac…"
      ]
     },
     "metadata": {},
     "output_type": "display_data"
    },
    {
     "data": {
      "application/vnd.jupyter.widget-view+json": {
       "model_id": "63efff1aaa92417e9565f30ffbafc8be",
       "version_major": 2,
       "version_minor": 0
      },
      "text/plain": [
       "Button(description='ECOG present?', layout=Layout(width='800px'), style=ButtonStyle())"
      ]
     },
     "metadata": {},
     "output_type": "display_data"
    },
    {
     "data": {
      "application/vnd.jupyter.widget-view+json": {
       "model_id": "49a25bce72b94545ada5641fedddd4d6",
       "version_major": 2,
       "version_minor": 0
      },
      "text/plain": [
       "Output()"
      ]
     },
     "metadata": {},
     "output_type": "display_data"
    }
   ],
   "source": [
    "sex = widgets.Dropdown(\n",
    "    options=[\"n/a\", \"female\", \"male\", \"other\"],\n",
    "    description=\"Sex:\",\n",
    "    style=style,\n",
    "    layout=layout,\n",
    ")\n",
    "handedness = widgets.RadioButtons(\n",
    "    options=[\n",
    "        \"n/a\",\n",
    "        \"right\",\n",
    "        \"left\",\n",
    "    ],\n",
    "    description=\"handedness\",\n",
    "    style=style,\n",
    "    layout=layout,\n",
    ")\n",
    "\n",
    "age = widgets.BoundedIntText(\n",
    "    min=0, max=150, step=1, description=\"Age:\", style=style, layout=layout\n",
    ")\n",
    "date_of_implantation = widgets.DatePicker(\n",
    "    description=\"Date of Implantation\", style=style, layout=layout\n",
    ")\n",
    "disease_duration = widgets.BoundedIntText(\n",
    "    min=0, max=150, step=1, description=\"Disease duration:\", style=style, layout=layout\n",
    ")\n",
    "PD_subtype = widgets.RadioButtons(\n",
    "    options=[\"n/a\", \"akinetic-rigid\", \"tremor-dominant\", \"equivalent\"],\n",
    "    description=\"PD subtype\",\n",
    "    style=style,\n",
    "    layout=layout,\n",
    ")\n",
    "symptom_dominant_side = widgets.RadioButtons(\n",
    "    options=[\n",
    "        \"n/a\",\n",
    "        \"right\",\n",
    "        \"left\",\n",
    "    ],\n",
    "    description=\"symptom dominant side\",\n",
    "    style=style,\n",
    "    layout=layout,\n",
    ")\n",
    "LEDD = widgets.BoundedIntText(\n",
    "    max=10000,\n",
    "    step=1,\n",
    "    description=\"Levodopa equivalent daily dose (LEDD):\",\n",
    "    style=style,\n",
    "    layout=layout,\n",
    ")\n",
    "DBS_target = widgets.RadioButtons(\n",
    "    options=[\"n/a\", \"STN\", \"GPI\", \"VIM\"],\n",
    "    description=\"DBS target\",\n",
    "    style=style,\n",
    "    layout=layout,\n",
    ")\n",
    "DBD_hemispheres = widgets.RadioButtons(\n",
    "    options=[\"n/a\", \"right\", \"left\", \"bilateral\"],\n",
    "    description=\"DBS hemisphere\",\n",
    "    style=style,\n",
    "    layout=layout,\n",
    ")\n",
    "DBS_model = widgets.RadioButtons(\n",
    "    options=[\n",
    "        \"n/a\",\n",
    "        \"SenSight Short\",\n",
    "        \"SenSight Long\",\n",
    "        \"Vercise Cartesia X\",\n",
    "        \"Vercise Cartesia\",\n",
    "        \"Vercise Standard\",\n",
    "        \"Abbott Directed Long\",\n",
    "        \"Abbott Directed Short\",\n",
    "    ],\n",
    "    description=\"DBS model\",\n",
    "    style=style,\n",
    "    layout=layout,\n",
    ")\n",
    "DBS_description = widgets.RadioButtons(\n",
    "    options=[\n",
    "        \"n/a\",\n",
    "        \"Medtronic: 8-contact, 4-level, directional DBS lead. 0.5 mm spacing.\",\n",
    "        \"Medtronic: 8-contact, 4-level, directional DBS lead. 1.5 mm spacing.\",\n",
    "        \"Boston Scientific: 16-contact, 5-level, directional DBS lead. 0.5 mm spacing.\",\n",
    "        \"Boston Scientific: 8-contact, 4-level, directional DBS lead. 0.5 mm spacing.\",\n",
    "        \"Boston Scientific: 8-contact, 8-level, non-directional DBS lead. 0.5 mm spacing.\",\n",
    "        \"Abbott/St Jude: 8-contact, 4-level, directional DBS lead. 1.5 mm spacing.\",\n",
    "        \"Abbott/St Jude: 8-contact, 4-level, directional DBS lead. 0.5 mm spacing.\",\n",
    "    ],\n",
    "    description=\"DBS description\",\n",
    "    style=style,\n",
    "    layout=layout,\n",
    ")\n",
    "mylink = widgets.jslink((DBS_model, \"index\"), (DBS_description, \"index\"))\n",
    "\n",
    "ECOG_present = widgets.Button(\n",
    "    value=False,\n",
    "    description=\"ECOG present?\",\n",
    "    style=style,\n",
    "    layout=layout,\n",
    ")\n",
    "\n",
    "\n",
    "def define_ECOG(click):\n",
    "    with output:\n",
    "        ECOG_present.disabled = 1\n",
    "        display(ECOG_target, ECOG_hemisphere, ECOG_model, ECOG_description)\n",
    "\n",
    "\n",
    "ECOG_present.on_click(define_ECOG)\n",
    "\n",
    "ECOG_target = widgets.RadioButtons(\n",
    "    options=[\"n/a\", \"SMC\"],\n",
    "    description=\"ECOG target\",\n",
    "    style=style,\n",
    "    layout=layout,\n",
    ")\n",
    "ECOG_hemisphere = widgets.RadioButtons(\n",
    "    options=[\n",
    "        \"n/a\",\n",
    "        \"R\",\n",
    "        \"L\",\n",
    "    ],\n",
    "    description=\"ECOG hemisphere\",\n",
    "    style=style,\n",
    "    layout=layout,\n",
    ")\n",
    "ECOG_model = widgets.RadioButtons(\n",
    "    options=[\n",
    "        \"n/a\",\n",
    "        \"TS06R-AP10X-0W6\",\n",
    "        \"DS12A-SP10X-000\",\n",
    "    ],\n",
    "    description=\"ECOG model\",\n",
    "    style=style,\n",
    "    layout=layout,\n",
    ")\n",
    "ECOG_description = widgets.RadioButtons(\n",
    "    options=[\n",
    "        \"n/a\",\n",
    "        \"Ad-Tech: 6-contact, 1x6 narrow-body long term monitoring strip. Platinum contacts, 10mm spacing, contact size 4.0 mm diameter/1.8 mm exposure.\",\n",
    "        \"Ad-Tech: 12-contact, 1x6 dual sided long term monitoring strip. Platinum contacts, 10mm spacing, contact size 4.0 mm diameter/2.3 mm exposure.\",\n",
    "    ],\n",
    "    description=\"ECOG description\",\n",
    "    style=style,\n",
    "    layout={\"width\": \"max-content\"},\n",
    ")\n",
    "mylink = widgets.jslink((ECOG_model, \"index\"), (ECOG_description, \"index\"))\n",
    "\n",
    "\n",
    "output = widgets.Output()\n",
    "print(\"Subject-specific information\")\n",
    "display(\n",
    "    sex,\n",
    "    age,\n",
    "    handedness,\n",
    "    date_of_implantation,\n",
    "    disease_duration,\n",
    "    PD_subtype,\n",
    "    symptom_dominant_side,\n",
    "    LEDD,\n",
    "    DBS_target,\n",
    "    DBD_hemispheres,\n",
    "    DBS_model,\n",
    "    DBS_description,\n",
    "    ECOG_present,\n",
    "    output,\n",
    ")"
   ]
  },
  {
   "cell_type": "code",
   "execution_count": 105,
   "metadata": {},
   "outputs": [
    {
     "data": {
      "application/vnd.jupyter.widget-view+json": {
       "model_id": "b536b4e30f54470a837adaee95ffe6a8",
       "version_major": 2,
       "version_minor": 0
      },
      "text/plain": [
       "RadioButtons(description='ECOG target', layout=Layout(width='800px'), options=('n/a', 'SMC'), style=Descriptio…"
      ]
     },
     "metadata": {},
     "output_type": "display_data"
    },
    {
     "data": {
      "application/vnd.jupyter.widget-view+json": {
       "model_id": "3300971a4a4a47f5a78bf0ff2b96e412",
       "version_major": 2,
       "version_minor": 0
      },
      "text/plain": [
       "RadioButtons(description='ECOG model', layout=Layout(width='800px'), options=('n/a', 'TS06R-AP10X-0W6', 'DS12A…"
      ]
     },
     "metadata": {},
     "output_type": "display_data"
    },
    {
     "data": {
      "application/vnd.jupyter.widget-view+json": {
       "model_id": "eb63c8f2013d4d5086cb5f5a1131c770",
       "version_major": 2,
       "version_minor": 0
      },
      "text/plain": [
       "RadioButtons(description='ECOG description', layout=Layout(width='max-content'), options=('n/a', 'Ad-Tech: 6-c…"
      ]
     },
     "metadata": {},
     "output_type": "display_data"
    }
   ],
   "source": [
    "if ECOG_present.value:\n",
    "    ECOG_target = widgets.RadioButtons(\n",
    "        options=[\"n/a\", \"SMC\"],\n",
    "        description=\"ECOG target\",\n",
    "        style=style,\n",
    "        layout=layout,\n",
    "    )\n",
    "    ECOG_hemisphere = widgets.RadioButtons(\n",
    "        options=[\n",
    "            \"n/a\",\n",
    "            \"R\",\n",
    "            \"L\",\n",
    "        ],\n",
    "        description=\"ECOG hemisphere\",\n",
    "        style=style,\n",
    "        layout=layout,\n",
    "    )\n",
    "    ECOG_model = widgets.RadioButtons(\n",
    "        options=[\n",
    "            \"n/a\",\n",
    "            \"TS06R-AP10X-0W6\",\n",
    "            \"DS12A-SP10X-000\",\n",
    "        ],\n",
    "        description=\"ECOG model\",\n",
    "        style=style,\n",
    "        layout=layout,\n",
    "    )\n",
    "    ECOG_description = widgets.RadioButtons(\n",
    "        options=[\n",
    "            \"n/a\",\n",
    "            \"Ad-Tech: 6-contact, 1x6 narrow-body long term monitoring strip. Platinum contacts, 10mm spacing, contact size 4.0 mm diameter/1.8 mm exposure.\",\n",
    "            \"Ad-Tech: 12-contact, 1x6 dual sided long term monitoring strip. Platinum contacts, 10mm spacing, contact size 4.0 mm diameter/2.3 mm exposure.\",\n",
    "        ],\n",
    "        description=\"ECOG description\",\n",
    "        style=style,\n",
    "        layout={\"width\": \"max-content\"},\n",
    "    )\n",
    "    mylink = widgets.jslink((ECOG_model, \"index\"), (ECOG_description, \"index\"))\n",
    "\n",
    "    display(ECOG_target, ECOG_model, ECOG_description)\n",
    "else:\n",
    "    print(\"There was no ECOG strip\")"
   ]
  },
  {
   "cell_type": "code",
   "execution_count": 165,
   "metadata": {},
   "outputs": [
    {
     "ename": "AttributeError",
     "evalue": "'FileChooser' object has no attribute 'Output'",
     "output_type": "error",
     "traceback": [
      "\u001b[1;31m---------------------------------------------------------------------------\u001b[0m",
      "\u001b[1;31mAttributeError\u001b[0m                            Traceback (most recent call last)",
      "\u001b[1;32m<ipython-input-165-513a05e77b32>\u001b[0m in \u001b[0;36m<module>\u001b[1;34m\u001b[0m\n\u001b[0;32m     12\u001b[0m \u001b[1;33m\u001b[0m\u001b[0m\n\u001b[0;32m     13\u001b[0m \u001b[0mfc\u001b[0m\u001b[1;33m.\u001b[0m\u001b[0mregister_callback\u001b[0m\u001b[1;33m(\u001b[0m\u001b[0mprintfc\u001b[0m\u001b[1;33m)\u001b[0m\u001b[1;33m\u001b[0m\u001b[1;33m\u001b[0m\u001b[0m\n\u001b[1;32m---> 14\u001b[1;33m \u001b[0moutput\u001b[0m \u001b[1;33m=\u001b[0m \u001b[0mfc\u001b[0m\u001b[1;33m.\u001b[0m\u001b[0mOutput\u001b[0m\u001b[1;33m(\u001b[0m\u001b[1;33m)\u001b[0m\u001b[1;33m\u001b[0m\u001b[1;33m\u001b[0m\u001b[0m\n\u001b[0m\u001b[0;32m     15\u001b[0m \u001b[0mdisplay\u001b[0m\u001b[1;33m(\u001b[0m\u001b[0mfc\u001b[0m\u001b[1;33m,\u001b[0m\u001b[0moutput\u001b[0m\u001b[1;33m)\u001b[0m\u001b[1;33m\u001b[0m\u001b[1;33m\u001b[0m\u001b[0m\n",
      "\u001b[1;31mAttributeError\u001b[0m: 'FileChooser' object has no attribute 'Output'"
     ]
    }
   ],
   "source": [
    "# pip install ipyfilechooser\n",
    "from ipyfilechooser import FileChooser\n",
    "import os\n",
    "\n",
    "fc = FileChooser(os.getcwd())\n",
    "\n",
    "# Sample callback function\n",
    "def printfc(test):\n",
    "    with output:\n",
    "        test.title = \"executed\"\n",
    "        print(fc.selected_path)\n",
    "\n",
    "\n",
    "fc.register_callback(printfc)\n",
    "output = fc.Output()\n",
    "display(fc, output)"
   ]
  },
  {
   "cell_type": "code",
   "execution_count": 248,
   "metadata": {},
   "outputs": [
    {
     "data": {
      "application/vnd.jupyter.widget-view+json": {
       "model_id": "310c6abb40394fd09d08fa0c4f6c5d0b",
       "version_major": 2,
       "version_minor": 0
      },
      "text/plain": [
       "Button(description='Create a session', layout=Layout(width='800px'), style=ButtonStyle())"
      ]
     },
     "metadata": {},
     "output_type": "display_data"
    },
    {
     "data": {
      "application/vnd.jupyter.widget-view+json": {
       "model_id": "5e89cbd23ed549228092315da2bd7fad",
       "version_major": 2,
       "version_minor": 0
      },
      "text/plain": [
       "Output()"
      ]
     },
     "metadata": {},
     "output_type": "display_data"
    }
   ],
   "source": [
    "session_creation = widgets.Button(\n",
    "    description=\"Create a session\", style=style, layout=layout\n",
    ")\n",
    "\n",
    "\n",
    "def on_session_creation(click1):\n",
    "    with output:\n",
    "\n",
    "        session_name.append(\n",
    "            widgets.Text(\n",
    "                description=\"Session name:\",\n",
    "                placeholder=\"Give in the session name\",\n",
    "                style=style,\n",
    "                layout=layout,\n",
    "            )\n",
    "        )\n",
    "\n",
    "        UPDRS_session.append(\n",
    "            widgets.Text(\n",
    "                description=\"UPDRS session:\",\n",
    "                value=\"n/a\",\n",
    "                placeholder=\"Give in UPDRS score or 'n/a'\",\n",
    "                style=style,\n",
    "                layout=layout,\n",
    "            )\n",
    "        )\n",
    "        space_session.append(\n",
    "            widgets.Text(\n",
    "                description=\"Space session:\",\n",
    "                value=\"MNI152NLin2009bAsym\",\n",
    "                placeholder=\"Give in the space\",\n",
    "                style=style,\n",
    "                layout=layout,\n",
    "            )\n",
    "        )\n",
    "\n",
    "        fc = FileChooser(os.getcwd())\n",
    "        fc.title = \"selected POLY5 file to convert\"\n",
    "        display(\n",
    "            session_name[-1], UPDRS_session[-1], space_session[-1], fc, confirm_file\n",
    "        )\n",
    "\n",
    "\n",
    "session_creation.on_click(on_session_creation)\n",
    "session_name = []\n",
    "UPDRS_session = []\n",
    "space_session = []\n",
    "confirm_file = widgets.Button(\n",
    "    description=\"confirm file and specify recoding-specific settings\",\n",
    "    style=style,\n",
    "    layout=layout,\n",
    ")\n",
    "\n",
    "\n",
    "def go_to_subsession(click2):\n",
    "    with output:\n",
    "        task = widgets.Dropdown(\n",
    "            options=[\n",
    "                \"Rest\",\n",
    "                \"UPDRSIII\",\n",
    "                \"SelfpacedRotationL\",\n",
    "                \"SelfpacedRotationR\",\n",
    "                \"BlockRotationL\",\n",
    "                \"BlockRotationR\",\n",
    "                \"Evoked\",\n",
    "                \"SelfpacedSpeech\",\n",
    "                \"ReadRelaxMoveL\",\n",
    "                \"VigorStimR\",\n",
    "                \"VigorStimL\",\n",
    "                \"SelfpacedHandFlipL\",\n",
    "                \"SelfpacedHandFlipR\",\n",
    "                \"Free\",\n",
    "                \"n/a\",\n",
    "            ],\n",
    "            value=\"n/a\",\n",
    "            description=\"Task:\",\n",
    "            style=style,\n",
    "            layout=layout,\n",
    "        )\n",
    "        task_description = widgets.Textarea(\n",
    "            value=task.value,\n",
    "            description=\"Task description:\",\n",
    "            style=style,\n",
    "            layout=layout,\n",
    "        )\n",
    "        task_instructions = widgets.Textarea(\n",
    "            value=task.value,\n",
    "            description=\"Task instructions:\",\n",
    "            style=style,\n",
    "            layout=layout,\n",
    "        )\n",
    "        \n",
    "        display(task, task_description, task_instructions)\n",
    "\n",
    "\n",
    "confirm_file.on_click(go_to_subsession)\n",
    "\n",
    "\n",
    "output = widgets.Output()\n",
    "display(session_creation, output)"
   ]
  },
  {
   "cell_type": "code",
   "execution_count": null,
   "metadata": {},
   "outputs": [],
   "source": []
  },
  {
   "cell_type": "code",
   "execution_count": 252,
   "metadata": {},
   "outputs": [
    {
     "data": {
      "application/vnd.jupyter.widget-view+json": {
       "model_id": "310c6abb40394fd09d08fa0c4f6c5d0b",
       "version_major": 2,
       "version_minor": 0
      },
      "text/plain": [
       "Button(description='Create a session', layout=Layout(width='800px'), style=ButtonStyle())"
      ]
     },
     "metadata": {},
     "output_type": "display_data"
    },
    {
     "data": {
      "application/vnd.jupyter.widget-view+json": {
       "model_id": "778609a3ba2a4b9ebe42017ab78e94f8",
       "version_major": 2,
       "version_minor": 0
      },
      "text/plain": [
       "Output()"
      ]
     },
     "metadata": {},
     "output_type": "display_data"
    }
   ],
   "source": [
    "confirm_file = widgets.Button(\n",
    "    description=\"confirm file and specify recoding-specific settings\",\n",
    "    style=style,\n",
    "    layout=layout,\n",
    ")\n",
    "\n",
    "\n",
    "def update_task(change):\n",
    "    with output:\n",
    "        task_description.value = descriptions[change[\"new\"]]\n",
    "        task_instructions.value = instructions[change[\"new\"]]\n",
    "\n",
    "\n",
    "def go_to_subsession(click2):\n",
    "    with output:\n",
    "\n",
    "        display(task, task_description, task_instructions)\n",
    "\n",
    "\n",
    "task = widgets.Dropdown(\n",
    "    options=[\n",
    "        (\"Rest\", 1),\n",
    "        (\"UPDRSIII\", 2),\n",
    "        (\"SelfpacedRotationL\", 3),\n",
    "        (\"SelfpacedRotationR\", 4),\n",
    "        (\"BlockRotationL\", 5),\n",
    "        (\"BlockRotationR\", 6),\n",
    "        (\"Evoked\", 7),\n",
    "        (\"SelfpacedSpeech\", 8),\n",
    "        (\"ReadRelaxMoveL\", 9),\n",
    "        (\"VigorStimR\", 10),\n",
    "        (\"VigorStimL\", 11),\n",
    "        (\"SelfpacedHandFlipL\", 12),\n",
    "        (\"SelfpacedHandFlipR\", 13),\n",
    "        (\"Free\", 14),\n",
    "        (\"n/a\", 0),\n",
    "    ],\n",
    "    value=0,\n",
    "    description=\"Task:\",\n",
    "    style=style,\n",
    "    layout=layout,\n",
    ")\n",
    "\n",
    "\n",
    "descriptions = [\n",
    "    \"n/a\",\n",
    "    \"Rest recording\",\n",
    "    \"Recording performed during part III of the UPDRS (Unified Parkinson\"\n",
    "    \"s Disease Rating Scale) questionnaire.\",\n",
    "    \"Selfpaced left wrist rotations performed on custom-built analog rotameter which translates degree of rotation to volt.\",\n",
    "    \"Selfpaced right wrist rotations performed on custom-built analog rotameter which translates degree of rotation to volt.\",\n",
    "    \"Blocks of 30 seconds of rest followed by blocks of 30 seconds of continuous wrist rotation performed on a custom-built rotameter which translates degree of rotation to volt. Performed with the left hand.\",\n",
    "    \"Blocks of 30 seconds of rest followed by blocks of 30 seconds of continuous wrist rotation performed on a custom-built rotameter which translates degree of rotation to volt. Performed with the right hand.\",\n",
    "    \"Evoked potentials recording. Single stimulation pulses of fixed amplitude following periods of high frequency stimulation with varying amplitude (0, 1.5 and 3 mA) per block.\",\n",
    "    \"Selfpaced reading aloud of the fable \"\n",
    "    \"The Parrot and the Cat\"\n",
    "    \" by Aesop. Extended pauses in between sentences.\",\n",
    "    \"Block of 30 seconds of continuous left wrist rotation performed on a custom-built rotameter which translates degree of rotation to volt followed by a block of 30 seconds of rest followed by a block of 30 seconds of reading aloud (\"\n",
    "    \"The Parrot and the Cat\"\n",
    "    \" by Aesop). Multiple sets.\",\n",
    "    \"Performance of diagonal forearm movements with a cursor on a screen using a digitizing tablet. Start and stop events are visually cued on screen with a rest duration of 350 ms. 14 blocks with 32 movements each. In blocks 3-5/9-11 bilateral stimulation is applied for 300 ms if a movement is slower/faster than the previous two movements. The order of slow/fast blocks is alternated between participants.  Performed with the right hand.\",\n",
    "    \"Performance of diagonal forearm movements with a cursor on a screen using a digitizing tablet. Start and stop events are visually cued on screen with a rest duration of 350 ms. 14 blocks with 32 movements each. In blocks 3-5/9-11 bilateral stimulation is applied for 300 ms if a movement is slower/faster than the previous two movements. The order of slow/fast blocks is alternated between participants.  Performed with the left hand.\",\n",
    "    \"Selfpaced left hand rotations 180 every 10 seconds, without counting, in resting seated position.\",\n",
    "    \"Selfpaced right hand rotations 180 every 10 seconds, without counting, in resting seated position.\",\n",
    "    \"Free period, no instructions, during Dyskinesia-Protocol still recorded to monitor the increasing Dopamine-Level\",\n",
    "    \n",
    "]\n",
    "instructions = [\n",
    "    'n/a',\n",
    "    'Do not move or speak and keep your eyes open.',\n",
    "    'See UPDRS questionnaire.',\n",
    "    'Perform 50 wrist rotations with your left hand with an interval of about 10 seconds. Do not count in between rotations.',\n",
    "    'Perform 50 wrist rotations with your right hand with an interval of about 10 seconds. Do not count in between rotations.',\n",
    "    'Upon the auditory command \"start\", perform continuous wrist rotations with your left hand, until you perceive the auditory command \"stop\". Perform these wrist rotations as fast as possible and with the largest possible amplitude.',\n",
    "    'Upon the auditory command \"start\", perform continuous wrist rotations with your right hand, until you perceive the auditory command \"stop\". Perform these wrist rotations as fast as possible and with the largest possible amplitude.',\n",
    "    'Do not move or speak and keep your eyes open.',\n",
    "    'Read aloud sentence by sentence the text in front of you. Leave a pause of several seconds in between sentences.',\n",
    "    'At the beginning of each block, a text will appear on the screen, specifying the task to be performed. An auditory cue will then be issued, marking the begin of your task. Perform the task until the next cue marks the end of the task. Tasks are either continuous left wrist rotation, resting with open eyes or reading aloud the text displayed on the screen.',\n",
    "    'Your task is to move your pen from one side of the screen to the other. When you see a square, please move your pen there and stay on the square until a new square appears on the other side. Then move the pen to the new square. Please move as fast as you can and touch the screen with the pen throughout the whole experiment.',\n",
    "    'Your task is to move your pen from one side of the screen to the other. When you see a square, please move your pen there and stay on the square until a new square appears on the other side. Then move the pen to the new square. Please move as fast as you can and touch the screen with the pen throughout the whole experiment.',\n",
    "    'Keep both hands resting on your legs, and rotate your left hand 180 degrees and back every 10 seconds. Do not count in between rotations.',\n",
    "    'Keep both hands resting on your legs, and rotate your right hand 180 degrees and back every 10 seconds. Do not count in between rotations.',\n",
    "    'Free period, without instructions or restrictions, of rest between Rest-measurement and Task-measurements',\n",
    "    \n",
    "]\n",
    "\n",
    "\n",
    "task_description = widgets.Textarea(\n",
    "    value=descriptions[0], description=\"Task description:\", style=style, layout=layout\n",
    ")\n",
    "task_instructions = widgets.Textarea(\n",
    "    value=instructions[0], description=\"Task instructions:\", style=style, layout=layout\n",
    ")\n",
    "\n",
    "task.observe(update_task, names=\"value\")\n",
    "\n",
    "confirm_file.on_click(go_to_subsession)\n",
    "\n",
    "\n",
    "output = widgets.Output()\n",
    "display(session_creation, output)"
   ]
  },
  {
   "cell_type": "code",
   "execution_count": 236,
   "metadata": {},
   "outputs": [
    {
     "data": {
      "application/vnd.jupyter.widget-view+json": {
       "model_id": "2f914edb19ba40709f15d4bb10a4fd11",
       "version_major": 2,
       "version_minor": 0
      },
      "text/plain": [
       "interactive(children=(Textarea(value='Rest recording', description='Task description:', layout=Layout(width='8…"
      ]
     },
     "metadata": {},
     "output_type": "display_data"
    },
    {
     "data": {
      "application/vnd.jupyter.widget-view+json": {
       "model_id": "adfa174c4a904e58b82185879a66b812",
       "version_major": 2,
       "version_minor": 0
      },
      "text/plain": [
       "Button(description='Create a session', layout=Layout(width='800px'), style=ButtonStyle())"
      ]
     },
     "metadata": {},
     "output_type": "display_data"
    },
    {
     "data": {
      "application/vnd.jupyter.widget-view+json": {
       "model_id": "947fdf7ef58e470ea0646947b43a0b39",
       "version_major": 2,
       "version_minor": 0
      },
      "text/plain": [
       "Output()"
      ]
     },
     "metadata": {},
     "output_type": "display_data"
    }
   ],
   "source": [
    "confirm_file = widgets.Button(\n",
    "    description=\"confirm file and specify recoding-specific settings\",\n",
    "    style=style,\n",
    "    layout=layout,\n",
    ")\n",
    "\n",
    "\n",
    "def go_to_subsession(click2):\n",
    "    with output:\n",
    "        display(task)\n",
    "\n",
    "\n",
    "def update_task(*args):\n",
    "    task_description.value = str(task.value)\n",
    "\n",
    "\n",
    "def display_task(des, int):\n",
    "    print(des, int)\n",
    "\n",
    "\n",
    "task.observe(update_task, \"value\")\n",
    "interact(display_task, des=task_description, int=task_instructions)\n",
    "\n",
    "task = widgets.Dropdown(\n",
    "    options=[\n",
    "        (\"Rest\", 1),\n",
    "        (\"UPDRSIII\", 2),\n",
    "        (\"SelfpacedRotationL\", 3),\n",
    "        (\"SelfpacedRotationR\", 4),\n",
    "        (\"BlockRotationL\", 5),\n",
    "        (\"BlockRotationR\", 6),\n",
    "        (\"Evoked\", 7),\n",
    "        (\"SelfpacedSpeech\", 8),\n",
    "        (\"ReadRelaxMoveL\", 9),\n",
    "        (\"VigorStimR\", 10),\n",
    "        (\"VigorStimL\", 11),\n",
    "        (\"SelfpacedHandFlipL\", 12),\n",
    "        (\"SelfpacedHandFlipR\", 13),\n",
    "        (\"Free\", 14),\n",
    "        (\"n/a\", 0),\n",
    "    ],\n",
    "    value=0,\n",
    "    description=\"Task:\",\n",
    "    style=style,\n",
    "    layout=layout,\n",
    ")\n",
    "\n",
    "\n",
    "descriptions = [\n",
    "    \"Rest recording\",\n",
    "    \"Recording performed during part III of the UPDRS (Unified Parkinson\"\n",
    "    \"s Disease Rating Scale) questionnaire.\",\n",
    "    \"Selfpaced left wrist rotations performed on custom-built analog rotameter which translates degree of rotation to volt.\",\n",
    "    \"Selfpaced right wrist rotations performed on custom-built analog rotameter which translates degree of rotation to volt.\",\n",
    "    \"Blocks of 30 seconds of rest followed by blocks of 30 seconds of continuous wrist rotation performed on a custom-built rotameter which translates degree of rotation to volt. Performed with the left hand.\",\n",
    "    \"Blocks of 30 seconds of rest followed by blocks of 30 seconds of continuous wrist rotation performed on a custom-built rotameter which translates degree of rotation to volt. Performed with the right hand.\",\n",
    "    \"Evoked potentials recording. Single stimulation pulses of fixed amplitude following periods of high frequency stimulation with varying amplitude (0, 1.5 and 3 mA) per block.\",\n",
    "    \"Selfpaced reading aloud of the fable \"\n",
    "    \"The Parrot and the Cat\"\n",
    "    \" by Aesop. Extended pauses in between sentences.\",\n",
    "    \"Block of 30 seconds of continuous left wrist rotation performed on a custom-built rotameter which translates degree of rotation to volt followed by a block of 30 seconds of rest followed by a block of 30 seconds of reading aloud (\"\n",
    "    \"The Parrot and the Cat\"\n",
    "    \" by Aesop). Multiple sets.\",\n",
    "    \"Performance of diagonal forearm movements with a cursor on a screen using a digitizing tablet. Start and stop events are visually cued on screen with a rest duration of 350 ms. 14 blocks with 32 movements each. In blocks 3-5/9-11 bilateral stimulation is applied for 300 ms if a movement is slower/faster than the previous two movements. The order of slow/fast blocks is alternated between participants.  Performed with the right hand.\",\n",
    "    \"Performance of diagonal forearm movements with a cursor on a screen using a digitizing tablet. Start and stop events are visually cued on screen with a rest duration of 350 ms. 14 blocks with 32 movements each. In blocks 3-5/9-11 bilateral stimulation is applied for 300 ms if a movement is slower/faster than the previous two movements. The order of slow/fast blocks is alternated between participants.  Performed with the left hand.\",\n",
    "    \"Selfpaced left hand rotations 180 every 10 seconds, without counting, in resting seated position.\",\n",
    "    \"Selfpaced right hand rotations 180 every 10 seconds, without counting, in resting seated position.\",\n",
    "    \"Free period, no instructions, during Dyskinesia-Protocol still recorded to monitor the increasing Dopamine-Level\",\n",
    "    \"n/a\",\n",
    "]\n",
    "task_description = widgets.Textarea(\n",
    "    description=\"Task description:\", style=style, layout=layout\n",
    ")\n",
    "task_instructions = widgets.Textarea(\n",
    "    description=\"Task instructions:\", style=style, layout=layout\n",
    ")\n",
    "confirm_file.on_click(go_to_subsession)\n",
    "\n",
    "output = widgets.Output()\n",
    "display(session_creation, output)"
   ]
  },
  {
   "cell_type": "code",
   "execution_count": 237,
   "metadata": {},
   "outputs": [
    {
     "data": {
      "application/vnd.jupyter.widget-view+json": {
       "model_id": "fdaf74e1e4484923a0b6679a5b324d11",
       "version_major": 2,
       "version_minor": 0
      },
      "text/plain": [
       "IntSlider(value=5, max=10)"
      ]
     },
     "metadata": {},
     "output_type": "display_data"
    },
    {
     "data": {
      "application/vnd.jupyter.widget-view+json": {
       "model_id": "a54a8b9973334253b7f644cde34f31d5",
       "version_major": 2,
       "version_minor": 0
      },
      "text/plain": [
       "Output()"
      ]
     },
     "metadata": {},
     "output_type": "display_data"
    },
    {
     "data": {
      "application/vnd.jupyter.widget-view+json": {
       "model_id": "98dc8aedecec469589cb4a0489ed097d",
       "version_major": 2,
       "version_minor": 0
      },
      "text/plain": [
       "Output()"
      ]
     },
     "metadata": {},
     "output_type": "display_data"
    }
   ],
   "source": [
    "a = widgets.IntSlider(value=5, min=0, max=10)\n",
    "\n",
    "\n",
    "def f1(a):\n",
    "    display(a)\n",
    "\n",
    "\n",
    "def f2(a):\n",
    "    display(a * 2)\n",
    "\n",
    "\n",
    "out1 = widgets.interactive_output(f1, {\"a\": a})\n",
    "out2 = widgets.interactive_output(f2, {\"a\": a})\n",
    "\n",
    "display(a)\n",
    "display(out1)\n",
    "display(out2)"
   ]
  },
  {
   "cell_type": "code",
   "execution_count": 199,
   "metadata": {},
   "outputs": [
    {
     "data": {
      "application/vnd.jupyter.widget-view+json": {
       "model_id": "c5af3c6ebb78466f8732fcf6f93b9062",
       "version_major": 2,
       "version_minor": 0
      },
      "text/plain": [
       "HBox(children=(IntSlider(value=0), IntSlider(value=0), IntSlider(value=0)))"
      ]
     },
     "metadata": {},
     "output_type": "display_data"
    },
    {
     "data": {
      "application/vnd.jupyter.widget-view+json": {
       "model_id": "3c9ad31d861f4af585920dd97b793a2c",
       "version_major": 2,
       "version_minor": 0
      },
      "text/plain": [
       "Output()"
      ]
     },
     "metadata": {},
     "output_type": "display_data"
    }
   ],
   "source": [
    "a = widgets.IntSlider()\n",
    "b = widgets.IntSlider()\n",
    "c = widgets.IntSlider()\n",
    "ui = widgets.HBox([a, b, c])\n",
    "\n",
    "\n",
    "def f(a, b, c):\n",
    "    print((a, b, c))\n",
    "\n",
    "\n",
    "out = widgets.interactive_output(f, {\"a\": a, \"b\": b, \"c\": c})\n",
    "\n",
    "display(ui, out)"
   ]
  },
  {
   "cell_type": "code",
   "execution_count": 226,
   "metadata": {},
   "outputs": [
    {
     "data": {
      "application/vnd.jupyter.widget-view+json": {
       "model_id": "3c2ff08dccfc47b1918819dc7556637f",
       "version_major": 2,
       "version_minor": 0
      },
      "text/plain": [
       "IntSlider(value=0)"
      ]
     },
     "metadata": {},
     "output_type": "display_data"
    },
    {
     "data": {
      "application/vnd.jupyter.widget-view+json": {
       "model_id": "5900141a43de4ce2aac54ca034dcf29a",
       "version_major": 2,
       "version_minor": 0
      },
      "text/plain": [
       "Output()"
      ]
     },
     "metadata": {},
     "output_type": "display_data"
    }
   ],
   "source": [
    "from ipywidgets import interact\n",
    "\n",
    "x_widget = widgets.FloatSlider(min=0.0, max=10.0, step=0.05)\n",
    "y_widget = widgets.FloatSlider(min=0.5, max=10.0, step=0.05, value=5.0)\n",
    "\n",
    "\n",
    "def update_x_range(*args):\n",
    "    x_widget.max = 2.0 * y_widget.value\n",
    "\n",
    "\n",
    "y_widget.observe(update_x_range, \"value\")\n",
    "# def printer(x, y):\n",
    "#    print(x, y)\n",
    "interact(x=x_widget, y=y_widget)\n",
    "\n",
    "int_range = widgets.IntSlider()\n",
    "output2 = widgets.Output()\n",
    "\n",
    "display(int_range, output2)\n",
    "\n",
    "\n",
    "def on_value_change(change):\n",
    "    with output2:\n",
    "        print(change[\"new\"])\n",
    "\n",
    "\n",
    "int_range.observe(on_value_change, names=\"value\")"
   ]
  },
  {
   "cell_type": "code",
   "execution_count": 242,
   "metadata": {},
   "outputs": [
    {
     "data": {
      "application/vnd.jupyter.widget-view+json": {
       "model_id": "58c186d7d3f14deeac886bd2d419b022",
       "version_major": 2,
       "version_minor": 0
      },
      "text/plain": [
       "IntSlider(value=0)"
      ]
     },
     "metadata": {},
     "output_type": "display_data"
    },
    {
     "data": {
      "application/vnd.jupyter.widget-view+json": {
       "model_id": "429108289c4d4be68df424d2d2780864",
       "version_major": 2,
       "version_minor": 0
      },
      "text/plain": [
       "IntSlider(value=0)"
      ]
     },
     "metadata": {},
     "output_type": "display_data"
    },
    {
     "data": {
      "application/vnd.jupyter.widget-view+json": {
       "model_id": "da615dd9fec244d586fec9ffb7819157",
       "version_major": 2,
       "version_minor": 0
      },
      "text/plain": [
       "Output()"
      ]
     },
     "metadata": {},
     "output_type": "display_data"
    }
   ],
   "source": [
    "int_range = widgets.IntSlider()\n",
    "int_range2 = widgets.IntSlider()\n",
    "output2 = widgets.Output()\n",
    "\n",
    "display(int_range, int_range2, output2)\n",
    "\n",
    "\n",
    "def on_value_change(change):\n",
    "    with output2:\n",
    "        int_range2.value = change[\"new\"] * 2\n",
    "\n",
    "\n",
    "int_range.observe(on_value_change, names=\"value\")"
   ]
  }
 ],
 "metadata": {
  "interpreter": {
   "hash": "03eaa2ea944cf99881aa5fab8d165e2f17a4015119a862d5d367392066f26a1e"
  },
  "kernelspec": {
   "display_name": "Python 3.9.1 64-bit",
   "language": "python",
   "name": "python3"
  },
  "language_info": {
   "codemirror_mode": {
    "name": "ipython",
    "version": 3
   },
   "file_extension": ".py",
   "mimetype": "text/x-python",
   "name": "python",
   "nbconvert_exporter": "python",
   "pygments_lexer": "ipython3",
   "version": "3.9.1"
  }
 },
 "nbformat": 4,
 "nbformat_minor": 2
}
