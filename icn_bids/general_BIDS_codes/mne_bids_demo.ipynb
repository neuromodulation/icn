{
 "cells": [
  {
   "cell_type": "markdown",
   "metadata": {},
   "source": [
    "#### Append the \"icn/icn_m1/restructure\" repository path to \"sys\" in order to include our IO.py module"
   ]
  },
  {
   "cell_type": "code",
   "execution_count": 79,
   "metadata": {},
   "outputs": [],
   "source": [
    "import sys\n",
    "sys.path.append(\"/Users/richardkoehler/Documents/GitHub/icn/icn_m1/restructure\")\n",
    "\n",
    "import bids\n",
    "from matplotlib import pyplot as plt\n",
    "import mne\n",
    "import mne_bids\n",
    "import os\n",
    "import pybv\n",
    "\n",
    "import IO"
   ]
  },
  {
   "cell_type": "markdown",
   "metadata": {},
   "source": [
    "#### Enter location of Berlin_BIDS dataset"
   ]
  },
  {
   "cell_type": "code",
   "execution_count": 53,
   "metadata": {},
   "outputs": [],
   "source": [
    "root = '/Users/richardkoehler/Charité - Universitätsmedizin Berlin/Interventional Cognitive Neuromodulation - Data/Datasets/BIDS_Berlin/'"
   ]
  },
  {
   "cell_type": "markdown",
   "metadata": {},
   "source": [
    "#### Getting all of our  with pybids"
   ]
  },
  {
   "cell_type": "code",
   "execution_count": 64,
   "metadata": {},
   "outputs": [
    {
     "name": "stdout",
     "output_type": "stream",
     "text": [
      "There are 314 files in the layout.\n",
      "\n",
      "The first 5 files are:\n"
     ]
    },
    {
     "data": {
      "text/plain": [
       "[<BIDSJSONFile filename='/Users/richardkoehler/Charité - Universitätsmedizin Berlin/Interventional Cognitive Neuromodulation - Data/Datasets/BIDS_Berlin/dataset_description.json'>,\n",
       " <BIDSJSONFile filename='/Users/richardkoehler/Charité - Universitätsmedizin Berlin/Interventional Cognitive Neuromodulation - Data/Datasets/BIDS_Berlin/participants.json'>,\n",
       " <BIDSDataFile filename='/Users/richardkoehler/Charité - Universitätsmedizin Berlin/Interventional Cognitive Neuromodulation - Data/Datasets/BIDS_Berlin/participants.tsv'>,\n",
       " <BIDSFile filename='/Users/richardkoehler/Charité - Universitätsmedizin Berlin/Interventional Cognitive Neuromodulation - Data/Datasets/BIDS_Berlin/README'>,\n",
       " <BIDSDataFile filename='/Users/richardkoehler/Charité - Universitätsmedizin Berlin/Interventional Cognitive Neuromodulation - Data/Datasets/BIDS_Berlin/sub-001/ses-20171014/ieeg/sub-001_ses-20171014_task-30sblockrotaON_run-0_channels.tsv'>]"
      ]
     },
     "execution_count": 64,
     "metadata": {},
     "output_type": "execute_result"
    }
   ],
   "source": [
    "layout = bids.BIDSLayout(root)\n",
    "all_files = layout.get()\n",
    "print(\"There are {} files in the layout.\".format(len(all_files)))\n",
    "print(\"\\nThe first 5 files are:\")\n",
    "all_files[:5]"
   ]
  },
  {
   "cell_type": "markdown",
   "metadata": {},
   "source": [
    "#### Using pybids, read all different tasks in our dataset"
   ]
  },
  {
   "cell_type": "code",
   "execution_count": 85,
   "metadata": {},
   "outputs": [
    {
     "name": "stdout",
     "output_type": "stream",
     "text": [
      "There are 52 different tasks in the layout.\n",
      "\n",
      "The first 5 tasks are: \n"
     ]
    },
    {
     "data": {
      "text/plain": [
       "['30sblockrotaON',\n",
       " '30sblockrotaONstimOFFOFF25mASTNR18',\n",
       " '30sblockrotaONstimOFFON25mASTNL18',\n",
       " '30scuedstoppingstimOFFON25mASTNLRbilateralmedON',\n",
       " 'evoked202001310001']"
      ]
     },
     "execution_count": 85,
     "metadata": {},
     "output_type": "execute_result"
    }
   ],
   "source": [
    "tasks = layout.get_tasks()\n",
    "print(\"There are {} different tasks in the layout.\".format(len(tasks)))\n",
    "print(\"\\nThe first 5 tasks are: \")\n",
    "tasks[:5]"
   ]
  },
  {
   "cell_type": "markdown",
   "metadata": {},
   "source": [
    "#### Likewise, mne_bids can return a list of all entities (handles) in one dataset"
   ]
  },
  {
   "cell_type": "code",
   "execution_count": 87,
   "metadata": {},
   "outputs": [
    {
     "name": "stdout",
     "output_type": "stream",
     "text": [
      "list of subjects: \n"
     ]
    },
    {
     "data": {
      "text/plain": [
       "['001',\n",
       " '001-ses-001-1',\n",
       " '001-ses-001-AAHead',\n",
       " '001-ses-001-Kopf',\n",
       " '001-ses-001-ep2d',\n",
       " '001-ses-001-t1',\n",
       " '001-ses-001-t2',\n",
       " '002',\n",
       " '003',\n",
       " '004']"
      ]
     },
     "execution_count": 87,
     "metadata": {},
     "output_type": "execute_result"
    }
   ],
   "source": [
    "entity_vals = mne_bids.get_entity_vals(root, entity_key=\"subject\")\n",
    "print('list of subjects: ')\n",
    "entity_vals"
   ]
  },
  {
   "cell_type": "markdown",
   "metadata": {},
   "source": [
    "#### Oops, there seems to be a problem with a couple of imaging files, '001-ses-001-1' should be '001_ses-001-1' etc., but we can fix this later. Let's do some tests with our iEEG data for now:"
   ]
  },
  {
   "cell_type": "markdown",
   "metadata": {},
   "source": [
    "#### Get all SelfpacedRotation recordings from our BIDS_Berlin Dataset"
   ]
  },
  {
   "cell_type": "code",
   "execution_count": 4,
   "metadata": {},
   "outputs": [
    {
     "name": "stdout",
     "output_type": "stream",
     "text": [
      "0 :  sub-002_ses-20200131_task-SelfpacedRotationR_acq-MedOn+StimOff_run-4_ieeg.vhdr\n",
      "1 :  sub-002_ses-20200201_task-SelfpacedRotationR+MedOff+StimOn_run-3_ieeg.vhdr\n",
      "2 :  sub-002_ses-20200201_task-SelfpacedRotationR+MedOff+StimOff_run-2_ieeg.vhdr\n",
      "3 :  sub-004_ses-20200730_task-SelfpacedRotationR+MedOn+StimOff_run-8_ieeg.vhdr\n",
      "4 :  sub-004_ses-20200730_task-SelfpacedRotationR+MedOff+StimOff_run-16_ieeg.vhdr\n",
      "5 :  sub-004_ses-20200730_task-SelfpacedRotationL+MedOff+StimOff_run-15_ieeg.vhdr\n",
      "6 :  sub-004_ses-20200730_task-SelfpacedRotationL+MedOn+StimOff_run-9_ieeg.vhdr\n"
     ]
    }
   ],
   "source": [
    "task_prefix = [\"SelfpacedRotation\"]\n",
    "ieeg_files = IO.get_all_files(path=root, suffix=['.vhdr'], get_bids=True, prefix=task_prefix, bids_root=root)\n",
    "for idx, ieeg_file in enumerate(ieeg_files):\n",
    "    print(idx, \": \", os.path.basename(ieeg_file))"
   ]
  },
  {
   "cell_type": "markdown",
   "metadata": {},
   "source": [
    "#### Pick a file to do some tests"
   ]
  },
  {
   "cell_type": "code",
   "execution_count": 5,
   "metadata": {},
   "outputs": [],
   "source": [
    "test_file = ieeg_files[0]"
   ]
  },
  {
   "cell_type": "markdown",
   "metadata": {},
   "source": [
    "#### Using mne_bids read the raw data + electrodes + events"
   ]
  },
  {
   "cell_type": "code",
   "execution_count": 56,
   "metadata": {},
   "outputs": [
    {
     "name": "stdout",
     "output_type": "stream",
     "text": [
      "Extracting parameters from /Users/richardkoehler/Charité - Universitätsmedizin Berlin/Interventional Cognitive Neuromodulation - Data/Datasets/mne_bids_example/sub-002/ses-20200131/ieeg/sub-002_ses-20200131_task-SelfpacedRotationR_acq-MedOn+StimOff_run-4_ieeg.vhdr...\n",
      "Setting channel info structure...\n",
      "Reading events from /Users/richardkoehler/Charité - Universitätsmedizin Berlin/Interventional Cognitive Neuromodulation - Data/Datasets/mne_bids_example/sub-002/ses-20200131/ieeg/sub-002_ses-20200131_task-SelfpacedRotationR_acq-MedOn+StimOff_run-4_events.tsv.\n",
      "Reading channel info from /Users/richardkoehler/Charité - Universitätsmedizin Berlin/Interventional Cognitive Neuromodulation - Data/Datasets/mne_bids_example/sub-002/ses-20200131/ieeg/sub-002_ses-20200131_task-SelfpacedRotationR_acq-MedOn+StimOff_run-4_channels.tsv.\n",
      "Reading electrode coords from /Users/richardkoehler/Charité - Universitätsmedizin Berlin/Interventional Cognitive Neuromodulation - Data/Datasets/mne_bids_example/sub-002/ses-20200131/ieeg/sub-002_ses-20200131_acq-MedOn+StimOff_space-mni_electrodes.tsv.\n"
     ]
    },
    {
     "name": "stderr",
     "output_type": "stream",
     "text": [
      "<ipython-input-56-387f0b7138fe>:1: RuntimeWarning: There are channels without locations (n/a) that are not marked as bad: ['ANALOG_ROT_R_1']\n",
      "  raw = mne_bids.read_raw_bids(test_file, verbose=False)\n",
      "<ipython-input-56-387f0b7138fe>:1: RuntimeWarning: Fiducial point nasion not found, assuming identity unknown to head transformation\n",
      "  raw = mne_bids.read_raw_bids(test_file, verbose=False)\n"
     ]
    }
   ],
   "source": [
    "raw = mne_bids.read_raw_bids(test_file, verbose=False)"
   ]
  },
  {
   "cell_type": "markdown",
   "metadata": {},
   "source": [
    "#### mne_bids reads events automatically from **events.tsv"
   ]
  },
  {
   "cell_type": "code",
   "execution_count": 43,
   "metadata": {},
   "outputs": [
    {
     "name": "stdout",
     "output_type": "stream",
     "text": [
      "Used Annotations descriptions: ['Movement_End', 'Movement_Onset']\n",
      "[ 73681  74241  81648  82148  89575  90015  96983  97462 104910 105479\n",
      " 112707 113277 120484 120964 128281 128731 136428 136878 143645 144055\n",
      " 151782 152332 160869 161348 169136 169635 177203 177822 185419 185909\n",
      " 194606 195166 203942 204562 212589 213249 220966 221486 232302 233192\n",
      " 244447 245167 255953 256663 266719 267419 276615 277285 287921 288521\n",
      " 298957 299647 310252 310981 322317 322907 333293 334023 346238 346878\n",
      " 357784 358384 368200 368750 380145 380705 392071 392541 404236 404756\n",
      " 417082 417581 428307 428857 440983 441492 453838 454318 464654 465293\n",
      " 477459 477929 488535 489075 498991 499531 508537 508987 519233 519713\n",
      " 530889 531389 541995 542514 552621 553080 563007 563627 574712 575212\n",
      " 585108 585568 596144 596574]\n"
     ]
    }
   ],
   "source": [
    "events, event_id = mne.events_from_annotations(raw)\n",
    "print(events[:,0])"
   ]
  },
  {
   "cell_type": "markdown",
   "metadata": {},
   "source": [
    "#### Plot ECOG and DBS electrode locations"
   ]
  },
  {
   "cell_type": "code",
   "execution_count": 9,
   "metadata": {},
   "outputs": [
    {
     "data": {
      "image/png": "[encoded data removed]",
      "text/plain": [
       "<Figure size 432x432 with 1 Axes>"
      ]
     },
     "metadata": {
      "needs_background": "light"
     },
     "output_type": "display_data"
    },
    {
     "data": {
      "image/png": "[encoded data removed]",
      "text/plain": [
       "<Figure size 432x432 with 1 Axes>"
      ]
     },
     "metadata": {
      "needs_background": "light"
     },
     "output_type": "display_data"
    }
   ],
   "source": [
    "raw.plot_sensors(ch_type='ecog')\n",
    "plt.show()\n",
    "raw.plot_sensors(ch_type='seeg')\n",
    "plt.show()"
   ]
  },
  {
   "cell_type": "markdown",
   "metadata": {},
   "source": [
    "#### Using write_raw_bids, rewrite same file into \"Datasets/mne_bids_example/\" to do some tests"
   ]
  },
  {
   "cell_type": "code",
   "execution_count": 10,
   "metadata": {},
   "outputs": [
    {
     "name": "stdout",
     "output_type": "stream",
     "text": [
      "Extracting parameters from /Users/richardkoehler/Charité - Universitätsmedizin Berlin/Interventional Cognitive Neuromodulation - Data/Datasets/BIDS_Berlin/sub-002/ses-20200131/ieeg/sub-002_ses-20200131_task-SelfpacedRotationR_acq-MedOn+StimOff_run-4_ieeg.vhdr...\n",
      "Setting channel info structure...\n"
     ]
    },
    {
     "data": {
      "text/plain": [
       "BIDSPath(\n",
       "root: /Users/richardkoehler/Charité - Universitätsmedizin Berlin/Interventional Cognitive Neuromodulation - Data/Datasets/mne_bids_example\n",
       "datatype: ieeg\n",
       "basename: sub-002_ses-20200131_task-SelfpacedRotationR_acq-MedOn+StimOff_run-4_ieeg.vhdr)"
      ]
     },
     "execution_count": 10,
     "metadata": {},
     "output_type": "execute_result"
    }
   ],
   "source": [
    "new_root = '/Users/richardkoehler/Charité - Universitätsmedizin Berlin/Interventional Cognitive Neuromodulation - Data/Datasets/mne_bids_example/'\n",
    "test_file.update(root=new_root)\n",
    "mne_bids.write_raw_bids(raw, bids_path=test_file, verbose=False)"
   ]
  },
  {
   "cell_type": "markdown",
   "metadata": {},
   "source": [
    "#### Now rewrite file with non BIDS-compliant filename using pybv, as mne_bids only accepts entities (handles) that are defined in BIDS"
   ]
  },
  {
   "cell_type": "code",
   "execution_count": 11,
   "metadata": {},
   "outputs": [],
   "source": [
    "new_filename = \"sub-002_ses-20200131_task-SelfpacedRotationR_med-ON_stim-OFF_run-4_ieeg\"\n",
    "data = raw.get_data()\n",
    "sfreq = raw.info['sfreq']\n",
    "ch_names = raw.ch_names\n",
    "folder_out = test_file.directory"
   ]
  },
  {
   "cell_type": "code",
   "execution_count": 12,
   "metadata": {},
   "outputs": [],
   "source": [
    "pybv.write_brainvision(data=data, sfreq=sfreq, ch_names=ch_names,\n",
    "                           fname_base=new_filename,\n",
    "                           folder_out=folder_out,\n",
    "                           events=None, resolution=1e-7,\n",
    "                           fmt='binary_float32', meas_date=None)"
   ]
  },
  {
   "cell_type": "markdown",
   "metadata": {},
   "source": [
    "#### Now get the filepaths of our two datasets that are identical except for the filename"
   ]
  },
  {
   "cell_type": "code",
   "execution_count": 13,
   "metadata": {},
   "outputs": [
    {
     "name": "stdout",
     "output_type": "stream",
     "text": [
      "0 :  sub-002_ses-20200131_task-SelfpacedRotationR_acq-MedOn+StimOff_run-4_ieeg.vhdr\n",
      "1 :  sub-002_ses-20200131_task-SelfpacedRotationR_med-ON_stim-OFF_run-4_ieeg.vhdr\n"
     ]
    }
   ],
   "source": [
    "task_prefix = [\"SelfpacedRotation\"]\n",
    "ieeg_files = IO.get_all_files(path=new_root, suffix=['.vhdr'], get_bids=False, prefix=task_prefix, bids_root=new_root)\n",
    "for idx, ieeg_file in enumerate(ieeg_files):\n",
    "    print(idx, \": \", os.path.basename(ieeg_file))"
   ]
  },
  {
   "cell_type": "markdown",
   "metadata": {},
   "source": [
    "#### Get all entities (handles) from the BIDS-compliant file"
   ]
  },
  {
   "cell_type": "code",
   "execution_count": 15,
   "metadata": {},
   "outputs": [
    {
     "name": "stdout",
     "output_type": "stream",
     "text": [
      "{'subject': '002', 'session': '20200131', 'task': 'SelfpacedRotationR', 'acquisition': 'MedOn+StimOff', 'run': '4', 'processing': None, 'space': None, 'recording': None, 'split': None, 'suffix': 'ieeg'}\n"
     ]
    }
   ],
   "source": [
    "entities_0 = mne_bids.get_entities_from_fname(ieeg_files[0])\n",
    "print(entities_0)"
   ]
  },
  {
   "cell_type": "markdown",
   "metadata": {},
   "source": [
    "#### Problem: mne_bids doesn't work at all with non BIDS-compliant file names"
   ]
  },
  {
   "cell_type": "code",
   "execution_count": 16,
   "metadata": {},
   "outputs": [
    {
     "ename": "KeyError",
     "evalue": "'Unexpected entity \"med\" found in filename \"/Users/richardkoehler/Charité - Universitätsmedizin Berlin/Interventional Cognitive Neuromodulation - Data/Datasets/mne_bids_example/sub-002/ses-20200131/ieeg/sub-002_ses-20200131_task-SelfpacedRotationR_med-ON_stim-OFF_run-4_ieeg.vhdr\"'",
     "output_type": "error",
     "traceback": [
      "\u001b[0;31m---------------------------------------------------------------------------\u001b[0m",
      "\u001b[0;31mKeyError\u001b[0m                                  Traceback (most recent call last)",
      "\u001b[0;32m<ipython-input-16-9ed2cb2813cb>\u001b[0m in \u001b[0;36m<module>\u001b[0;34m\u001b[0m\n\u001b[0;32m----> 1\u001b[0;31m \u001b[0mentities_1\u001b[0m \u001b[0;34m=\u001b[0m \u001b[0mmne_bids\u001b[0m\u001b[0;34m.\u001b[0m\u001b[0mget_entities_from_fname\u001b[0m\u001b[0;34m(\u001b[0m\u001b[0mieeg_files\u001b[0m\u001b[0;34m[\u001b[0m\u001b[0;36m1\u001b[0m\u001b[0;34m]\u001b[0m\u001b[0;34m)\u001b[0m\u001b[0;34m\u001b[0m\u001b[0;34m\u001b[0m\u001b[0m\n\u001b[0m\u001b[1;32m      2\u001b[0m \u001b[0mprint\u001b[0m\u001b[0;34m(\u001b[0m\u001b[0mentities_1\u001b[0m\u001b[0;34m)\u001b[0m\u001b[0;34m\u001b[0m\u001b[0;34m\u001b[0m\u001b[0m\n",
      "\u001b[0;32m~/anaconda3/lib/python3.8/site-packages/mne_bids/path.py\u001b[0m in \u001b[0;36mget_entities_from_fname\u001b[0;34m(fname, on_error)\u001b[0m\n\u001b[1;32m    957\u001b[0m                        f'filename \"{fname}\"')\n\u001b[1;32m    958\u001b[0m                 \u001b[0;32mif\u001b[0m \u001b[0mon_error\u001b[0m \u001b[0;34m==\u001b[0m \u001b[0;34m'raise'\u001b[0m\u001b[0;34m:\u001b[0m\u001b[0;34m\u001b[0m\u001b[0;34m\u001b[0m\u001b[0m\n\u001b[0;32m--> 959\u001b[0;31m                     \u001b[0;32mraise\u001b[0m \u001b[0mKeyError\u001b[0m\u001b[0;34m(\u001b[0m\u001b[0mmsg\u001b[0m\u001b[0;34m)\u001b[0m\u001b[0;34m\u001b[0m\u001b[0;34m\u001b[0m\u001b[0m\n\u001b[0m\u001b[1;32m    960\u001b[0m                 \u001b[0;32melif\u001b[0m \u001b[0mon_error\u001b[0m \u001b[0;34m==\u001b[0m \u001b[0;34m'warn'\u001b[0m\u001b[0;34m:\u001b[0m\u001b[0;34m\u001b[0m\u001b[0;34m\u001b[0m\u001b[0m\n\u001b[1;32m    961\u001b[0m                     \u001b[0mwarn\u001b[0m\u001b[0;34m(\u001b[0m\u001b[0mmsg\u001b[0m\u001b[0;34m)\u001b[0m\u001b[0;34m\u001b[0m\u001b[0;34m\u001b[0m\u001b[0m\n",
      "\u001b[0;31mKeyError\u001b[0m: 'Unexpected entity \"med\" found in filename \"/Users/richardkoehler/Charité - Universitätsmedizin Berlin/Interventional Cognitive Neuromodulation - Data/Datasets/mne_bids_example/sub-002/ses-20200131/ieeg/sub-002_ses-20200131_task-SelfpacedRotationR_med-ON_stim-OFF_run-4_ieeg.vhdr\"'"
     ]
    }
   ],
   "source": [
    "entities_1 = mne_bids.get_entities_from_fname(ieeg_files[1])\n",
    "print(entities_1)"
   ]
  },
  {
   "cell_type": "markdown",
   "metadata": {},
   "source": [
    "#### But we can still read in non BIDS-compliant data using other functions..."
   ]
  },
  {
   "cell_type": "code",
   "execution_count": 26,
   "metadata": {},
   "outputs": [
    {
     "name": "stdout",
     "output_type": "stream",
     "text": [
      "Extracting parameters from /Users/richardkoehler/Charité - Universitätsmedizin Berlin/Interventional Cognitive Neuromodulation - Data/Datasets/mne_bids_example/sub-002/ses-20200131/ieeg/sub-002_ses-20200131_task-SelfpacedRotationR_med-ON_stim-OFF_run-4_ieeg.vhdr...\n",
      "Setting channel info structure...\n"
     ]
    }
   ],
   "source": [
    "raw_new = mne.io.read_raw_brainvision(ieeg_files[1])"
   ]
  },
  {
   "cell_type": "markdown",
   "metadata": {},
   "source": [
    "#### ...however, events are not extracted from the **events.tsv and added as annotations"
   ]
  },
  {
   "cell_type": "code",
   "execution_count": 42,
   "metadata": {},
   "outputs": [
    {
     "name": "stdout",
     "output_type": "stream",
     "text": [
      "[]\n"
     ]
    }
   ],
   "source": [
    "events, event_id = mne.events_from_annotations(raw_new)\n",
    "print(events)"
   ]
  }
 ],
 "metadata": {
  "kernelspec": {
   "display_name": "Python 3",
   "language": "python",
   "name": "python3"
  },
  "language_info": {
   "codemirror_mode": {
    "name": "ipython",
    "version": 3
   },
   "file_extension": ".py",
   "mimetype": "text/x-python",
   "name": "python",
   "nbconvert_exporter": "python",
   "pygments_lexer": "ipython3",
   "version": "3.8.6"
  }
 },
 "nbformat": 4,
 "nbformat_minor": 4
}
