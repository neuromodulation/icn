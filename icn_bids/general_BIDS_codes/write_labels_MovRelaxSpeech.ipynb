{
 "cells": [
  {
   "cell_type": "code",
   "execution_count": 5,
   "id": "9a1f5284",
   "metadata": {},
   "outputs": [],
   "source": [
    "import mne\n",
    "import pybv\n",
    "import mne_bids\n",
    "import os\n",
    "import numpy as np\n",
    "from matplotlib import pyplot as plt\n",
    "import scipy"
   ]
  },
  {
   "cell_type": "code",
   "execution_count": 8,
   "id": "b462c48c",
   "metadata": {},
   "outputs": [],
   "source": [
    "#from https://stackoverflow.com/questions/7008608/scipy-io-loadmat-nested-structures-i-e-dictionaries\n",
    "import scipy.io as spio\n",
    "\n",
    "def loadmat(filename):\n",
    "    '''\n",
    "    this function should be called instead of direct spio.loadmat\n",
    "    as it cures the problem of not properly recovering python dictionaries\n",
    "    from mat files. It calls the function check keys to cure all entries\n",
    "    which are still mat-objects\n",
    "    '''\n",
    "    data = spio.loadmat(filename, struct_as_record=False, squeeze_me=True)\n",
    "    return _check_keys(data)\n",
    "\n",
    "def _check_keys(dict):\n",
    "    '''\n",
    "    checks if entries in dictionary are mat-objects. If yes\n",
    "    todict is called to change them to nested dictionaries\n",
    "    '''\n",
    "    for key in dict:\n",
    "        if isinstance(dict[key], spio.matlab.mio5_params.mat_struct):\n",
    "            dict[key] = _todict(dict[key])\n",
    "    return dict        \n",
    "\n",
    "def _todict(matobj):\n",
    "    '''\n",
    "    A recursive function which constructs from matobjects nested dictionaries\n",
    "    '''\n",
    "    dict = {}\n",
    "    for strg in matobj._fieldnames:\n",
    "        elem = matobj.__dict__[strg]\n",
    "        if isinstance(elem, spio.matlab.mio5_params.mat_struct):\n",
    "            dict[strg] = _todict(elem)\n",
    "        else:\n",
    "            dict[strg] = elem\n",
    "    return dict\n",
    "\n",
    "\n",
    "def read_BIDS_data(PATH_RUN, BIDS_PATH):\n",
    "    \"\"\"Given a run path and bids data path, read the respective data\n",
    "    Parameters\n",
    "    ----------\n",
    "    PATH_RUN : string\n",
    "    BIDS_PATH : string\n",
    "    Returns\n",
    "    -------\n",
    "    raw_arr : mne.io.RawArray\n",
    "    raw_arr_data : np.ndarray\n",
    "    fs : int\n",
    "    line_noise : int\n",
    "    \"\"\"\n",
    "    entities = mne_bids.get_entities_from_fname(PATH_RUN)\n",
    "\n",
    "    bids_path = mne_bids.BIDSPath(subject=entities[\"subject\"],\n",
    "                                  session=entities[\"session\"],\n",
    "                                  task=entities[\"task\"],\n",
    "                                  run=entities[\"run\"],\n",
    "                                  acquisition=entities[\"acquisition\"],\n",
    "                                  datatype=\"ieeg\", root=BIDS_PATH)\n",
    "    print(bids_path)\n",
    "    raw_arr = mne_bids.read_raw_bids(bids_path)\n",
    "\n",
    "    return (raw_arr, raw_arr.get_data(), int(np.ceil(raw_arr.info[\"sfreq\"])),\n",
    "            int(raw_arr.info[\"line_freq\"]))"
   ]
  },
  {
   "cell_type": "code",
   "execution_count": 36,
   "id": "6e14376a",
   "metadata": {},
   "outputs": [],
   "source": [
    "BIDS_PATH = r\"C:\\Users\\ICN_admin\\OneDrive - Charité - Universitätsmedizin Berlin\\Data\\BIDS_Berlin_ECOG_LFP\\rawdata\"\n",
    "PATH_RUN = r\"C:\\Users\\ICN_admin\\OneDrive - Charité - Universitätsmedizin Berlin\\Data\\BIDS_Berlin_ECOG_LFP\\rawdata\\sub-005\\ses-EphysMedOff01\\ieeg\\sub-005_ses-EphysMedOff01_task-BlockRotationL_acq-StimOff_run-01_ieeg.vhdr\""
   ]
  },
  {
   "cell_type": "code",
   "execution_count": 40,
   "id": "2097fa70",
   "metadata": {},
   "outputs": [],
   "source": [
    "PATH_RUN = r\"C:\\Users\\ICN_admin\\OneDrive - Charité - Universitätsmedizin Berlin\\Data\\BIDS_Berlin_ECOG_LFP\\rawdata\\sub-006\\ses-EphysMedOff02\\ieeg\\sub-006_ses-EphysMedOff02_task-ReadRelaxMoveL_acq-StimOff_run-01_ieeg.vhdr\""
   ]
  },
  {
   "cell_type": "code",
   "execution_count": 46,
   "id": "f23d1e24",
   "metadata": {},
   "outputs": [
    {
     "data": {
      "text/plain": [
       "'C:\\\\Users\\\\ICN_admin\\\\OneDrive - Charité - Universitätsmedizin Berlin\\\\Data\\\\BIDS_Berlin_ECOG_LFP\\\\rawdata'"
      ]
     },
     "execution_count": 46,
     "metadata": {},
     "output_type": "execute_result"
    }
   ],
   "source": [
    "BIDS_PATH"
   ]
  },
  {
   "cell_type": "code",
   "execution_count": 47,
   "id": "f33fa1cd",
   "metadata": {},
   "outputs": [
    {
     "data": {
      "text/plain": [
       "'C:\\\\Users\\\\ICN_admin\\\\OneDrive - Charité - Universitätsmedizin Berlin\\\\Data\\\\BIDS_Berlin_ECOG_LFP\\\\rawdata\\\\sub-006\\\\ses-EphysMedOff02\\\\ieeg\\\\sub-006_ses-EphysMedOff02_task-ReadRelaxMoveL_acq-StimOff_run-01_ieeg.vhdr'"
      ]
     },
     "execution_count": 47,
     "metadata": {},
     "output_type": "execute_result"
    }
   ],
   "source": [
    "PATH_RUN"
   ]
  },
  {
   "cell_type": "code",
   "execution_count": 48,
   "id": "898da93a",
   "metadata": {
    "scrolled": true
   },
   "outputs": [
    {
     "data": {
      "text/plain": [
       "'0.8'"
      ]
     },
     "execution_count": 48,
     "metadata": {},
     "output_type": "execute_result"
    }
   ],
   "source": [
    "mne_bids.__version__"
   ]
  },
  {
   "cell_type": "code",
   "execution_count": 49,
   "id": "65cc4442",
   "metadata": {},
   "outputs": [
    {
     "name": "stdout",
     "output_type": "stream",
     "text": [
      "C:/Users/ICN_admin/OneDrive - Charité - Universitätsmedizin Berlin/Data/BIDS_Berlin_ECOG_LFP/rawdata/sub-006/ses-EphysMedOff02/ieeg/sub-006_ses-EphysMedOff02_task-ReadRelaxMoveL_acq-StimOff_run-01_ieeg.vhdr\n"
     ]
    }
   ],
   "source": [
    "entities = mne_bids.get_entities_from_fname(PATH_RUN)\n",
    "\n",
    "bids_path = mne_bids.BIDSPath(subject=entities[\"subject\"],\n",
    "                              session=entities[\"session\"],\n",
    "                              task=entities[\"task\"],\n",
    "                              run=entities[\"run\"],\n",
    "                              acquisition=entities[\"acquisition\"],\n",
    "                              datatype=\"ieeg\", root=BIDS_PATH)\n",
    "print(bids_path)"
   ]
  },
  {
   "cell_type": "code",
   "execution_count": 50,
   "id": "804ed17c",
   "metadata": {
    "scrolled": false
   },
   "outputs": [
    {
     "name": "stdout",
     "output_type": "stream",
     "text": [
      "Extracting parameters from C:\\Users\\ICN_admin\\OneDrive - Charité - Universitätsmedizin Berlin\\Data\\BIDS_Berlin_ECOG_LFP\\rawdata\\sub-006\\ses-EphysMedOff02\\ieeg\\sub-006_ses-EphysMedOff02_task-ReadRelaxMoveL_acq-StimOff_run-01_ieeg.vhdr...\n",
      "Setting channel info structure...\n",
      "Reading channel info from C:\\Users\\ICN_admin\\OneDrive - Charité - Universitätsmedizin Berlin\\Data\\BIDS_Berlin_ECOG_LFP\\rawdata\\sub-006\\ses-EphysMedOff02\\ieeg\\sub-006_ses-EphysMedOff02_task-ReadRelaxMoveL_acq-StimOff_run-01_channels.tsv.\n",
      "Reading in coordinate system frame Other: None.\n",
      "Reading electrode coords from C:\\Users\\ICN_admin\\OneDrive - Charité - Universitätsmedizin Berlin\\Data\\BIDS_Berlin_ECOG_LFP\\rawdata\\sub-006\\ses-EphysMedOff02\\ieeg\\sub-006_ses-EphysMedOff02_electrodes.tsv.\n",
      "The read in electrodes file is: \n",
      " [('name', ['LFP_R_1_STN_MT', 'LFP_R_2_STN_MT', 'LFP_R_3_STN_MT', 'LFP_R_4_STN_MT', 'LFP_R_5_STN_MT', 'LFP_R_6_STN_MT', 'LFP_R_7_STN_MT', 'LFP_R_8_STN_MT', 'LFP_L_1_STN_MT', 'LFP_L_2_STN_MT', 'LFP_L_3_STN_MT', 'LFP_L_4_STN_MT', 'LFP_L_5_STN_MT', 'LFP_L_6_STN_MT', 'LFP_L_7_STN_MT', 'LFP_L_8_STN_MT', 'ECOG_R_1_SMC_AT', 'ECOG_R_2_SMC_AT', 'ECOG_R_3_SMC_AT', 'ECOG_R_4_SMC_AT', 'ECOG_R_5_SMC_AT', 'ECOG_R_6_SMC_AT']), ('x', ['12.5437', '12.3982', '13.2188', '13.459', '12.893', '13.7156', '13.9535', '14.0308', '-11.3242', '-11.4257', '-12.5513', '-12.0225', '-12.1912', '-13.3134', '-12.7893', '-13.638', '27', '28.5', '29.5', '29.5', '30', '30']), ('y', ['-14.3213', '-12.5857', '-13.3106', '-12.579', '-11.1698', '-11.8946', '-11.1695', '-10.0053', '-15.95', '-14.2053', '-14.585', '-15.1594', '-12.9976', '-13.3803', '-13.9541', '-12.2658', '-42', '-32', '-22', '-13', '-3', '6.5']), ('z', ['-8.73599', '-7.02221', '-6.4531', '-7.35344', '-5.2104', '-4.6459', '-5.54201', '-3.21796', '-9.44454', '-7.77541', '-7.95048', '-7.14027', '-5.95772', '-6.1373', '-5.31891', '-3.88983', '76', '75.5', '74', '73', '69', '65']), ('size', ['6', '1.5', '1.5', '1.5', '1.5', '1.5', '1.5', '6', '6', '1.5', '1.5', '1.5', '1.5', '1.5', '1.5', '6', '12.57', '12.57', '12.57', '12.57', '12.57', '12.57'])]\n"
     ]
    },
    {
     "name": "stderr",
     "output_type": "stream",
     "text": [
      "C:\\Users\\ICN_admin\\Anaconda3\\envs\\pyneuromodulation\\lib\\site-packages\\mne_bids\\path.py:1303: RuntimeWarning: Did not find any events.tsv associated with sub-006_ses-EphysMedOff02_task-ReadRelaxMoveL_acq-StimOff_run-01.\n",
      "\n",
      "The search_str was \"C:\\Users\\ICN_admin\\OneDrive - Charité - Universitätsmedizin Berlin\\Data\\BIDS_Berlin_ECOG_LFP\\rawdata\\sub-006\\**\\sub-006_ses-EphysMedOff02*events.tsv\"\n",
      "  warn(msg)\n",
      "C:\\Users\\ICN_admin\\Anaconda3\\envs\\pyneuromodulation\\lib\\site-packages\\mne_bids\\dig.py:467: RuntimeWarning: Defaulting coordinate frame to unknown from coordinate system input Other\n",
      "  warn(f\"Defaulting coordinate frame to unknown \"\n",
      "C:\\Users\\ICN_admin\\Anaconda3\\envs\\pyneuromodulation\\lib\\site-packages\\mne_bids\\dig.py:521: RuntimeWarning: Fiducial point nasion not found, assuming identity unknown to head transformation\n",
      "  raw.set_montage(montage, on_missing='warn', verbose=verbose)\n",
      "C:\\Users\\ICN_admin\\Anaconda3\\envs\\pyneuromodulation\\lib\\site-packages\\mne_bids\\dig.py:521: RuntimeWarning: DigMontage is only a subset of info. There are 2 channel positions not present in the DigMontage. The required channels are:\n",
      "\n",
      "['EEG_Cz_TM', 'EEG_Fz_TM'].\n",
      "\n",
      "Consider using inst.set_channel_types if these are not EEG channels, or use the on_missing parameter if the channel positions are allowed to be unknown in your analyses.\n",
      "  raw.set_montage(montage, on_missing='warn', verbose=verbose)\n"
     ]
    },
    {
     "data": {
      "text/html": [
       "\n",
       "\n",
       "<table class=\"table table-hover\">\n",
       "    <tr>\n",
       "        <th>Measurement date</th>\n",
       "        <td>August 31, 2021  10:08:45 GMT</td>\n",
       "        \n",
       "    </tr>\n",
       "    <tr>\n",
       "        <th>Experimenter</th>\n",
       "        <td>mne_anonymize</td>\n",
       "        \n",
       "    </tr>\n",
       "        <th>Participant</th>\n",
       "            <td>sub-006</td>\n",
       "        \n",
       "    </tr>\n",
       "    <tr>\n",
       "        <th>Digitized points</th>\n",
       "        <td>22 points</td>\n",
       "    </tr>\n",
       "    <tr>\n",
       "        <th>Good channels</th>\n",
       "        <td>0 magnetometer, 0 gradiometer,\n",
       "            and 2 EEG channels</td>\n",
       "    </tr>\n",
       "    <tr>\n",
       "        <th>Bad channels</th>\n",
       "        <td>LFP_L_1_STN_MT, LFP_L_2_STN_MT</td>\n",
       "        \n",
       "    </tr>\n",
       "    <tr>\n",
       "        <th>EOG channels</th>\n",
       "        <td>Not available</td>\n",
       "    </tr>\n",
       "    <tr>\n",
       "        <th>ECG channels</th>\n",
       "        <td>Not available</td>\n",
       "    <tr>\n",
       "        <th>Sampling frequency</th>\n",
       "        <td>4000.00 Hz</td>\n",
       "    </tr>\n",
       "    <tr>\n",
       "        <th>Highpass</th>\n",
       "        <td>0.00 Hz</td>\n",
       "    </tr>\n",
       "     <tr>\n",
       "        <th>Lowpass</th>\n",
       "        <td>2000.00 Hz</td>\n",
       "    </tr>\n",
       "\n",
       "    <tr>\n",
       "        <th>Filenames</th>\n",
       "        <td>sub-006_ses-EphysMedOff02_task-ReadRelaxMoveL_acq-StimOff_run-01_ieeg.eeg</td>\n",
       "    </tr>\n",
       "    <tr>\n",
       "        <th>Duration</th>\n",
       "        <td>00:08:00 (HH:MM:SS)</td>\n",
       "    </tr>\n",
       "</table>\n"
      ],
      "text/plain": [
       "<RawBrainVision | sub-006_ses-EphysMedOff02_task-ReadRelaxMoveL_acq-StimOff_run-01_ieeg.eeg, 33 x 1921185 (480.3 s), ~52 kB, data not loaded>"
      ]
     },
     "execution_count": 50,
     "metadata": {},
     "output_type": "execute_result"
    }
   ],
   "source": [
    "mne_bids.read_raw_bids(bids_path)"
   ]
  },
  {
   "cell_type": "code",
   "execution_count": null,
   "id": "803059df",
   "metadata": {},
   "outputs": [],
   "source": []
  },
  {
   "cell_type": "code",
   "execution_count": null,
   "id": "cf9be689",
   "metadata": {},
   "outputs": [],
   "source": [
    "raw_arr, data, fs, line_noise = read_BIDS_data(PATH_DATA, BIDS_PATH)"
   ]
  },
  {
   "cell_type": "code",
   "execution_count": 3,
   "id": "9f7ee728",
   "metadata": {},
   "outputs": [],
   "source": [
    "dat = loadmat(\"data.mat\")"
   ]
  },
  {
   "cell_type": "code",
   "execution_count": 5,
   "id": "b5809e99",
   "metadata": {},
   "outputs": [
    {
     "data": {
      "text/plain": [
       "(38, 1921185)"
      ]
     },
     "execution_count": 5,
     "metadata": {},
     "output_type": "execute_result"
    }
   ],
   "source": [
    "dat[\"data\"][\"trial\"].shape"
   ]
  },
  {
   "cell_type": "code",
   "execution_count": 10,
   "id": "35e4e4a2",
   "metadata": {},
   "outputs": [
    {
     "data": {
      "text/plain": [
       "4000"
      ]
     },
     "execution_count": 10,
     "metadata": {},
     "output_type": "execute_result"
    }
   ],
   "source": [
    "dat[\"data\"][\"fsample\"]"
   ]
  },
  {
   "cell_type": "code",
   "execution_count": 12,
   "id": "fbf97ea3",
   "metadata": {},
   "outputs": [
    {
     "data": {
      "text/plain": [
       "array(['LFPR1STNM', 'LFPR2STNM', 'LFPR3STNM', 'LFPR4STNM', 'LFPR5STNM',\n",
       "       'LFPR6STNM', 'LFPR7STNM', 'LFPR8STNM', 'LFPL1STNM', 'LFPL2STNM',\n",
       "       'LFPL3STNM', 'LFPL4STNM', 'LFPL5STNM', 'LFPL6STNM', 'LFPL7STNM',\n",
       "       'LFPL8STNM', 'ECXR1SM_A', 'ECXR2SM_A', 'ECXR3SM_A', 'ECXR4SM_A',\n",
       "       'ECXR5SM_A', 'ECXR6SM_A', 'EEGC1Cz_T', 'EEGC1Fz_T', 'BIP 01',\n",
       "       'BIP 02', 'BIP 03', 'X', 'Y', 'Z', 'X', 'Y', 'Z', 'ISO aux',\n",
       "       'ISO aux', 'AUX 3-3', 'STATUS', 'Counter 2power24'], dtype=object)"
      ]
     },
     "execution_count": 12,
     "metadata": {},
     "output_type": "execute_result"
    }
   ],
   "source": [
    "dat[\"data\"][\"label\"]"
   ]
  },
  {
   "cell_type": "code",
   "execution_count": 18,
   "id": "2b0fdc9f",
   "metadata": {},
   "outputs": [
    {
     "data": {
      "text/plain": [
       "'BIP 01'"
      ]
     },
     "execution_count": 18,
     "metadata": {},
     "output_type": "execute_result"
    }
   ],
   "source": [
    "dat[\"data\"][\"label\"][24]"
   ]
  },
  {
   "cell_type": "code",
   "execution_count": 65,
   "id": "998c52da",
   "metadata": {},
   "outputs": [
    {
     "data": {
      "text/plain": [
       "[<matplotlib.lines.Line2D at 0x223b04db9a0>]"
      ]
     },
     "execution_count": 65,
     "metadata": {},
     "output_type": "execute_result"
    },
    {
     "data": {
      "image/png": "[encoded data removed]",
      "text/plain": [
       "<Figure size 432x288 with 1 Axes>"
      ]
     },
     "metadata": {
      "needs_background": "light"
     },
     "output_type": "display_data"
    }
   ],
   "source": [
    "plt.plot(dat[\"data\"][\"trial\"][25,:])"
   ]
  },
  {
   "cell_type": "code",
   "execution_count": 113,
   "id": "c46fbd65",
   "metadata": {},
   "outputs": [
    {
     "data": {
      "text/plain": [
       "[<matplotlib.lines.Line2D at 0x223ccd78b50>]"
      ]
     },
     "execution_count": 113,
     "metadata": {},
     "output_type": "execute_result"
    },
    {
     "data": {
      "image/png": "[encoded data removed]",
      "text/plain": [
       "<Figure size 432x288 with 1 Axes>"
      ]
     },
     "metadata": {
      "needs_background": "light"
     },
     "output_type": "display_data"
    }
   ],
   "source": [
    "plt.plot(dat[\"data\"][\"trial\"][25,52000:60000])"
   ]
  },
  {
   "cell_type": "code",
   "execution_count": 115,
   "id": "b9b44da2",
   "metadata": {},
   "outputs": [
    {
     "data": {
      "text/plain": [
       "1921185"
      ]
     },
     "execution_count": 115,
     "metadata": {},
     "output_type": "execute_result"
    }
   ],
   "source": [
    "dat[\"data\"][\"trial\"].shape[1]"
   ]
  },
  {
   "cell_type": "code",
   "execution_count": 116,
   "id": "30ce8d36",
   "metadata": {},
   "outputs": [],
   "source": [
    "time_ = np.arange(0, dat[\"data\"][\"trial\"].shape[1], 1)/4000\n",
    "label_ = np.zeros(dat[\"data\"][\"trial\"].shape[1]) # CODE: 0 - prep, 1 - mov, 2 - rest, 3 - speech\n"
   ]
  },
  {
   "cell_type": "code",
   "execution_count": 117,
   "id": "4044523c",
   "metadata": {},
   "outputs": [],
   "source": [
    "START_INDEX_MOV = 52000\n",
    "TIME_START = time_[START_INDEX_MOV]"
   ]
  },
  {
   "cell_type": "code",
   "execution_count": 118,
   "id": "482a3177",
   "metadata": {},
   "outputs": [
    {
     "data": {
      "text/plain": [
       "13.0"
      ]
     },
     "execution_count": 118,
     "metadata": {},
     "output_type": "execute_result"
    }
   ],
   "source": [
    "TIME_START"
   ]
  },
  {
   "cell_type": "code",
   "execution_count": 120,
   "id": "7baf408f",
   "metadata": {},
   "outputs": [],
   "source": [
    "MOV_SEGMENT_0 = np.array([135451, 135481]) - 135451 + TIME_START\n",
    "MOV_SEGMENT_1 = np.array([135618, 135648]) - 135451 + TIME_START\n",
    "MOV_SEGMENT_2 = np.array([135762, 135792]) - 135451 + TIME_START\n",
    "\n",
    "for seg in [MOV_SEGMENT_0, MOV_SEGMENT_1, MOV_SEGMENT_2]:\n",
    "    label_[np.where((time_ > seg[0]) & (time_ < seg[1]))[0]] = 1\n",
    "    \n",
    "REST_SEGMENT_0 = np.array([135500, 135530]) - 135451 + TIME_START\n",
    "REST_SEGMENT_1 = np.array([135662, 135693]) - 135451 + TIME_START\n",
    "REST_SEGMENT_2 = np.array([135807, 135837]) - 135451 + TIME_START\n",
    "\n",
    "for seg in [REST_SEGMENT_0, REST_SEGMENT_1, REST_SEGMENT_2]:\n",
    "    label_[np.where((time_ > seg[0]) & (time_ < seg[1]))[0]] = 2\n",
    "    \n",
    "SPEECH_SEGMENT_0 = np.array([135553, 135598]) - 135451 + TIME_START\n",
    "SPEECH_SEGMENT_1 = np.array([135707, 135745]) - 135451 + TIME_START\n",
    "SPEECH_SEGMENT_2 = np.array([135853, 135899]) - 135451 + TIME_START\n",
    "\n",
    "for seg in [SPEECH_SEGMENT_0, SPEECH_SEGMENT_1, SPEECH_SEGMENT_2]:\n",
    "    label_[np.where((time_ > seg[0]) & (time_ < seg[1]))[0]] = 3"
   ]
  },
  {
   "cell_type": "code",
   "execution_count": 128,
   "id": "31fa17d5",
   "metadata": {},
   "outputs": [
    {
     "data": {
      "text/plain": [
       "Text(0.5, 1.0, '0-prep, 1-mov, 2-rest, 3-speech')"
      ]
     },
     "execution_count": 128,
     "metadata": {},
     "output_type": "execute_result"
    },
    {
     "data": {
      "image/png": "[encoded data removed]",
      "text/plain": [
       "<Figure size 432x288 with 1 Axes>"
      ]
     },
     "metadata": {
      "needs_background": "light"
     },
     "output_type": "display_data"
    }
   ],
   "source": [
    "plt.plot(label_, label='label')\n",
    "plt.plot(dat[\"data\"][\"trial\"][25,:]/2000+8, label=\"EMG\")\n",
    "#plt.legend()\n",
    "plt.title(\"0-prep, 1-mov, 2-rest, 3-speech\")"
   ]
  },
  {
   "cell_type": "code",
   "execution_count": 133,
   "id": "7f4da4e1",
   "metadata": {},
   "outputs": [
    {
     "data": {
      "text/plain": [
       "4000.0"
      ]
     },
     "execution_count": 133,
     "metadata": {},
     "output_type": "execute_result"
    }
   ],
   "source": [
    "1/(time_[1]-time_[0])"
   ]
  },
  {
   "cell_type": "code",
   "execution_count": 136,
   "id": "21445482",
   "metadata": {},
   "outputs": [],
   "source": [
    "dict_out = {\"time\" : time_.tolist(), \n",
    "            \"label\" : label_.tolist(), \n",
    "            \"description\" : \"0-prep, 1-mov, 2-rest, 3-speech\"\n",
    "           }"
   ]
  },
  {
   "cell_type": "code",
   "execution_count": 137,
   "id": "33c1a36d",
   "metadata": {},
   "outputs": [],
   "source": [
    "import json\n",
    "\n",
    "with open('sub-006_ses-EphysMedOff02_task-movrestspeech_run-0_ieeg_label.json', 'w') as fp:\n",
    "    json.dump(dict_out, fp)"
   ]
  },
  {
   "cell_type": "code",
   "execution_count": null,
   "id": "6295cbb6",
   "metadata": {},
   "outputs": [],
   "source": []
  },
  {
   "cell_type": "code",
   "execution_count": null,
   "id": "1061ee07",
   "metadata": {},
   "outputs": [],
   "source": []
  },
  {
   "cell_type": "code",
   "execution_count": 80,
   "id": "db28b08c",
   "metadata": {},
   "outputs": [],
   "source": [
    "ch_labels = [\"LFP_BS_STN_R_1\", \"LFP_BS_STN_R_2\",\"LFP_BS_STN_R_3\",\"LFP_BS_STN_R_4\",\n",
    "          \"LFP_BS_STN_R_5\",\"LFP_BS_STN_R_6\",\"LFP_BS_STN_R_7\",\"LFP_BS_STN_R_8\",\n",
    "          \"LFP_BS_STN_L_1\", \"LFP_BS_STN_L_2\",\"LFP_BS_STN_L_3\",\"LFP_BS_STN_L_4\",\n",
    "          \"LFP_BS_STN_L_5\",\"LFP_BS_STN_L_6\",\"LFP_BS_STN_L_7\",\"LFP_BS_STN_L_8\",\n",
    "          \"ECOG_AT_SM_R_1\", \"ECOG_AT_SM_R_2\", \n",
    "          \"ECOG_AT_SM_RR_3\", \"ECOG_AT_SM_R_4\", \"ECOG_AT_SM_R_5\", \"ECOG_AT_SM_R_6\",\n",
    "          \"EEG_TM_Cz__1\", \"EEG_TM_Fz__2\", \"EMG_1\", \"BIP02\", \"BIP03\",\n",
    "          'X', 'Y', 'Z', 'X_', 'Y_', 'Z_', 'ISO aux',\n",
    "          'ISO aux_', 'AUX 3-3', 'STATUS', 'Counter 2power24']"
   ]
  },
  {
   "cell_type": "code",
   "execution_count": 81,
   "id": "e3c1b49b",
   "metadata": {},
   "outputs": [],
   "source": [
    "BIDS_path = \"C:\\\\Users\\\\ICN_admin\\\\Documents\\\\WRITE_BERLIN_BIDS\\\\neu_hier\\\\\"\n",
    "subject_id = \"006\"\n",
    "session = \"EphysMedOff02\"\n",
    "task = \"movrestspeech\"\n",
    "run = \"0\"\n",
    "fsample = dat[\"data\"][\"fsample\"]\n",
    "ieegdata = dat[\"data\"][\"trial\"]"
   ]
  },
  {
   "cell_type": "code",
   "execution_count": 82,
   "id": "efb49605",
   "metadata": {},
   "outputs": [
    {
     "name": "stdout",
     "output_type": "stream",
     "text": [
      "Creating RawArray with float64 data, n_channels=38, n_times=1921185\n",
      "    Range : 0 ... 1921184 =      0.000 ...   480.296 secs\n",
      "Ready.\n"
     ]
    }
   ],
   "source": [
    "info = mne.create_info(ch_labels, fsample, ch_types='ecog')\n",
    "raw = mne.io.RawArray(ieegdata, info)"
   ]
  },
  {
   "cell_type": "code",
   "execution_count": 83,
   "id": "222ed45d",
   "metadata": {},
   "outputs": [],
   "source": [
    "pybv.write_brainvision?"
   ]
  },
  {
   "cell_type": "code",
   "execution_count": 84,
   "id": "f5012db1",
   "metadata": {},
   "outputs": [],
   "source": [
    "bids_basename = mne_bids.BIDSPath(subject=subject_id, session=session, \\\n",
    "                                            task=task, run=run, root=BIDS_path)\n",
    "pybv.write_brainvision(data=ieegdata, sfreq=fsample, ch_names=ch_labels, fname_base='dummy_write',\n",
    "                       folder_out=os.getcwd())"
   ]
  },
  {
   "cell_type": "code",
   "execution_count": 85,
   "id": "d6451af5",
   "metadata": {},
   "outputs": [
    {
     "name": "stdout",
     "output_type": "stream",
     "text": [
      "Extracting parameters from dummy_write.vhdr...\n",
      "Setting channel info structure...\n"
     ]
    }
   ],
   "source": [
    "bv_raw = mne.io.read_raw_brainvision('dummy_write.vhdr')"
   ]
  },
  {
   "cell_type": "code",
   "execution_count": 86,
   "id": "5738f4ef",
   "metadata": {},
   "outputs": [
    {
     "data": {
      "text/plain": [
       "37"
      ]
     },
     "execution_count": 86,
     "metadata": {},
     "output_type": "execute_result"
    }
   ],
   "source": [
    "ch"
   ]
  },
  {
   "cell_type": "code",
   "execution_count": 87,
   "id": "102b0908",
   "metadata": {},
   "outputs": [
    {
     "data": {
      "text/html": [
       "\n",
       "\n",
       "<table class=\"table table-hover\">\n",
       "    <tr>\n",
       "        <th>Measurement date</th>\n",
       "<td>Unknown</td>\n",
       "    </tr>\n",
       "    <tr>\n",
       "        <th>Experimenter</th>\n",
       "<td>Unknown</td>\n",
       "    </tr>\n",
       "        <th>Participant</th>\n",
       "<td>Unknown</td>\n",
       "    </tr>\n",
       "    <tr>\n",
       "        <th>Digitized points</th>\n",
       "        <td>Not available</td>\n",
       "    </tr>\n",
       "    <tr>\n",
       "        <th>Good channels</th>\n",
       "        <td>0 magnetometer, 0 gradiometer,\n",
       "            and 0 EEG channels</td>\n",
       "    </tr>\n",
       "    <tr>\n",
       "        <th>Bad channels</th>\n",
       "        <td></td>\n",
       "        \n",
       "    </tr>\n",
       "    <tr>\n",
       "        <th>EOG channels</th>\n",
       "        <td>Not available</td>\n",
       "    </tr>\n",
       "    <tr>\n",
       "        <th>ECG channels</th>\n",
       "        <td>Not available</td>\n",
       "    <tr>\n",
       "        <th>Sampling frequency</th>\n",
       "        <td>4000.00 Hz</td>\n",
       "    </tr>\n",
       "    <tr>\n",
       "        <th>Highpass</th>\n",
       "        <td>0.00 Hz</td>\n",
       "    </tr>\n",
       "     <tr>\n",
       "        <th>Lowpass</th>\n",
       "        <td>2000.00 Hz</td>\n",
       "    </tr>\n",
       "\n",
       "    <tr>\n",
       "        <th>Filenames</th>\n",
       "        <td>dummy_write.eeg</td>\n",
       "    </tr>\n",
       "    <tr>\n",
       "        <th>Duration</th>\n",
       "        <td>00:08:00 (HH:MM:SS)</td>\n",
       "    </tr>\n",
       "</table>\n"
      ],
      "text/plain": [
       "<RawBrainVision | dummy_write.eeg, 38 x 1921185 (480.3 s), ~43 kB, data not loaded>"
      ]
     },
     "execution_count": 87,
     "metadata": {},
     "output_type": "execute_result"
    }
   ],
   "source": [
    "mapping = {}\n",
    "for ch in range(len(bv_raw.info['ch_names'])):\n",
    "    #if 'ECOG' in bv_raw.info['ch_names'][ch]: \n",
    "    #    mapping[bv_raw.info['ch_names'][ch]] = 'ecog'\n",
    "    #elif 'LFP' in bv_raw.info['ch_names'][ch]:\n",
    "    #    mapping[bv_raw.info['ch_names'][ch]] = 'dbs'\n",
    "    #else:\n",
    "    #    mapping[bv_raw.info['ch_names'][ch]] = 'misc'\n",
    "    ch_name = bv_raw.info['ch_names'][ch]\n",
    "    if ch_name.startswith('ECOG'):\n",
    "        mapping[ch_name] = 'ecog'\n",
    "    elif ch_name.startswith(('LFP', 'STN')):\n",
    "        mapping[ch_name] = 'seeg'\n",
    "    elif ch_name.startswith('EMG'):\n",
    "        mapping[ch_name] = 'emg'\n",
    "    # mne_bids cannot handle both eeg and ieeg channel types in the same data\n",
    "    elif ch_name.startswith('EEG'):\n",
    "        mapping[ch_name] = 'misc'\n",
    "    elif ch_name.startswith(('MOV', 'ANALOG', 'ROT', 'ACC', 'AUX', 'X', 'Y', 'Z')):\n",
    "        mapping[ch_name] = 'misc'\n",
    "    else:\n",
    "        mapping[ch_name] = 'misc'\n",
    "bv_raw.set_channel_types(mapping)"
   ]
  },
  {
   "cell_type": "code",
   "execution_count": 88,
   "id": "c57645ee",
   "metadata": {
    "scrolled": true
   },
   "outputs": [
    {
     "data": {
      "text/plain": [
       "['seeg',\n",
       " 'seeg',\n",
       " 'seeg',\n",
       " 'seeg',\n",
       " 'seeg',\n",
       " 'seeg',\n",
       " 'seeg',\n",
       " 'seeg',\n",
       " 'seeg',\n",
       " 'seeg',\n",
       " 'seeg',\n",
       " 'seeg',\n",
       " 'seeg',\n",
       " 'seeg',\n",
       " 'seeg',\n",
       " 'seeg',\n",
       " 'ecog',\n",
       " 'ecog',\n",
       " 'ecog',\n",
       " 'ecog',\n",
       " 'ecog',\n",
       " 'ecog',\n",
       " 'misc',\n",
       " 'misc',\n",
       " 'emg',\n",
       " 'misc',\n",
       " 'misc',\n",
       " 'misc',\n",
       " 'misc',\n",
       " 'misc',\n",
       " 'misc',\n",
       " 'misc',\n",
       " 'misc',\n",
       " 'misc',\n",
       " 'misc',\n",
       " 'misc',\n",
       " 'misc',\n",
       " 'misc']"
      ]
     },
     "execution_count": 88,
     "metadata": {},
     "output_type": "execute_result"
    }
   ],
   "source": [
    "bv_raw.get_channel_types()"
   ]
  },
  {
   "cell_type": "code",
   "execution_count": 89,
   "id": "83fe1e5f",
   "metadata": {},
   "outputs": [
    {
     "data": {
      "text/plain": [
       "BIDSPath(\n",
       "root: C:/Users/ICN_admin/Documents/WRITE_BERLIN_BIDS/neu_hier\n",
       "datatype: None\n",
       "basename: sub-006_ses-EphysMedOff02_task-movrestspeech_run-0)"
      ]
     },
     "execution_count": 89,
     "metadata": {},
     "output_type": "execute_result"
    }
   ],
   "source": [
    "bids_basename"
   ]
  },
  {
   "cell_type": "code",
   "execution_count": 90,
   "id": "1e33fb36",
   "metadata": {},
   "outputs": [
    {
     "data": {
      "text/plain": [
       "'0.8'"
      ]
     },
     "execution_count": 90,
     "metadata": {},
     "output_type": "execute_result"
    }
   ],
   "source": [
    "mne_bids.__version__"
   ]
  },
  {
   "cell_type": "code",
   "execution_count": 91,
   "id": "439eb314",
   "metadata": {},
   "outputs": [
    {
     "data": {
      "text/html": [
       "\n",
       "\n",
       "<table class=\"table table-hover\">\n",
       "    <tr>\n",
       "        <th>Measurement date</th>\n",
       "<td>Unknown</td>\n",
       "    </tr>\n",
       "    <tr>\n",
       "        <th>Experimenter</th>\n",
       "<td>Unknown</td>\n",
       "    </tr>\n",
       "        <th>Participant</th>\n",
       "<td>Unknown</td>\n",
       "    </tr>\n",
       "    <tr>\n",
       "        <th>Digitized points</th>\n",
       "        <td>Not available</td>\n",
       "    </tr>\n",
       "    <tr>\n",
       "        <th>Good channels</th>\n",
       "        <td>0 magnetometer, 0 gradiometer,\n",
       "            and 0 EEG channels</td>\n",
       "    </tr>\n",
       "    <tr>\n",
       "        <th>Bad channels</th>\n",
       "        <td></td>\n",
       "        \n",
       "    </tr>\n",
       "    <tr>\n",
       "        <th>EOG channels</th>\n",
       "        <td>Not available</td>\n",
       "    </tr>\n",
       "    <tr>\n",
       "        <th>ECG channels</th>\n",
       "        <td>Not available</td>\n",
       "    <tr>\n",
       "        <th>Sampling frequency</th>\n",
       "        <td>4000.00 Hz</td>\n",
       "    </tr>\n",
       "    <tr>\n",
       "        <th>Highpass</th>\n",
       "        <td>0.00 Hz</td>\n",
       "    </tr>\n",
       "     <tr>\n",
       "        <th>Lowpass</th>\n",
       "        <td>2000.00 Hz</td>\n",
       "    </tr>\n",
       "\n",
       "    <tr>\n",
       "        <th>Filenames</th>\n",
       "        <td>dummy_write.eeg</td>\n",
       "    </tr>\n",
       "    <tr>\n",
       "        <th>Duration</th>\n",
       "        <td>00:08:00 (HH:MM:SS)</td>\n",
       "    </tr>\n",
       "</table>\n"
      ],
      "text/plain": [
       "<RawBrainVision | dummy_write.eeg, 38 x 1921185 (480.3 s), ~43 kB, data not loaded>"
      ]
     },
     "execution_count": 91,
     "metadata": {},
     "output_type": "execute_result"
    }
   ],
   "source": [
    "bv_raw"
   ]
  },
  {
   "cell_type": "code",
   "execution_count": 92,
   "id": "2707e39e",
   "metadata": {
    "scrolled": true
   },
   "outputs": [
    {
     "name": "stdout",
     "output_type": "stream",
     "text": [
      "Extracting parameters from C:\\Users\\ICN_admin\\Documents\\Decoding_Toolbox\\sub006\\dummy_write.vhdr...\n",
      "Setting channel info structure...\n",
      "\n",
      "Writing 'C:\\Users\\ICN_admin\\Documents\\WRITE_BERLIN_BIDS\\neu_hier\\README'...\n",
      "\n",
      "References\n",
      "----------\n",
      "Appelhoff, S., Sanderson, M., Brooks, T., Vliet, M., Quentin, R., Holdgraf, C., Chaumon, M., Mikulan, E., Tavabi, K., Höchenberger, R., Welke, D., Brunner, C., Rockhill, A., Larson, E., Gramfort, A. and Jas, M. (2019). MNE-BIDS: Organizing electrophysiological data into the BIDS format and facilitating their analysis. Journal of Open Source Software 4: (1896). https://doi.org/10.21105/joss.01896\n",
      "\n",
      "Holdgraf, C., Appelhoff, S., Bickel, S., Bouchard, K., D'Ambrosio, S., David, O., … Hermes, D. (2019). iEEG-BIDS, extending the Brain Imaging Data Structure specification to human intracranial electrophysiology. Scientific Data, 6, 102. https://doi.org/10.1038/s41597-019-0105-7\n",
      "\n",
      "\n",
      "Writing 'C:\\Users\\ICN_admin\\Documents\\WRITE_BERLIN_BIDS\\neu_hier\\participants.tsv'...\n",
      "\n",
      "participant_id\tage\tsex\thand\n",
      "sub-006\tn/a\tn/a\tn/a\n",
      "\n",
      "Writing 'C:\\Users\\ICN_admin\\Documents\\WRITE_BERLIN_BIDS\\neu_hier\\participants.json'...\n",
      "\n",
      "{\n",
      "    \"participant_id\": {\n",
      "        \"Description\": \"Unique participant identifier\"\n",
      "    },\n",
      "    \"age\": {\n",
      "        \"Description\": \"Age of the participant at time of testing\",\n",
      "        \"Units\": \"years\"\n",
      "    },\n",
      "    \"sex\": {\n",
      "        \"Description\": \"Biological sex of the participant\",\n",
      "        \"Levels\": {\n",
      "            \"F\": \"female\",\n",
      "            \"M\": \"male\"\n",
      "        }\n",
      "    },\n",
      "    \"hand\": {\n",
      "        \"Description\": \"Handedness of the participant\",\n",
      "        \"Levels\": {\n",
      "            \"R\": \"right\",\n",
      "            \"L\": \"left\",\n",
      "            \"A\": \"ambidextrous\"\n",
      "        }\n",
      "    }\n",
      "}\n",
      "\n",
      "Writing 'C:\\Users\\ICN_admin\\Documents\\WRITE_BERLIN_BIDS\\neu_hier\\dataset_description.json'...\n",
      "\n",
      "{\n",
      "    \"Name\": \" \",\n",
      "    \"BIDSVersion\": \"1.6.0\",\n",
      "    \"DatasetType\": \"raw\",\n",
      "    \"Authors\": [\n",
      "        \"[Unspecified]\"\n",
      "    ]\n",
      "}\n",
      "\n",
      "Writing 'C:\\Users\\ICN_admin\\Documents\\WRITE_BERLIN_BIDS\\neu_hier\\sub-006\\ses-EphysMedOff02\\ieeg\\sub-006_ses-EphysMedOff02_task-movrestspeech_run-0_ieeg.json'...\n",
      "\n",
      "{\n",
      "    \"TaskName\": \"movrestspeech\",\n",
      "    \"Manufacturer\": \"BrainProducts\",\n",
      "    \"PowerLineFrequency\": 50,\n",
      "    \"SamplingFrequency\": 4000.0,\n",
      "    \"SoftwareFilters\": \"n/a\",\n",
      "    \"RecordingDuration\": 480.296,\n",
      "    \"RecordingType\": \"continuous\",\n",
      "    \"iEEGReference\": \"n/a\",\n",
      "    \"ECOGChannelCount\": 6,\n",
      "    \"SEEGChannelCount\": 16,\n",
      "    \"EEGChannelCount\": 0,\n",
      "    \"EOGChannelCount\": 0,\n",
      "    \"ECGChannelCount\": 0,\n",
      "    \"EMGChannelCount\": 1,\n",
      "    \"MiscChannelCount\": 15,\n",
      "    \"TriggerChannelCount\": 0\n",
      "}\n",
      "\n",
      "Writing 'C:\\Users\\ICN_admin\\Documents\\WRITE_BERLIN_BIDS\\neu_hier\\sub-006\\ses-EphysMedOff02\\ieeg\\sub-006_ses-EphysMedOff02_task-movrestspeech_run-0_channels.tsv'...\n",
      "\n",
      "name\ttype\tunits\tlow_cutoff\thigh_cutoff\tdescription\tsampling_frequency\tstatus\tstatus_description\n",
      "LFP_BS_STN_R_1\tSEEG\tµV\t0.0\t2000.0\tStereoEEG\t4000.0\tgood\tn/a\n",
      "LFP_BS_STN_R_2\tSEEG\tµV\t0.0\t2000.0\tStereoEEG\t4000.0\tgood\tn/a\n",
      "LFP_BS_STN_R_3\tSEEG\tµV\t0.0\t2000.0\tStereoEEG\t4000.0\tgood\tn/a\n",
      "LFP_BS_STN_R_4\tSEEG\tµV\t0.0\t2000.0\tStereoEEG\t4000.0\tgood\tn/a\n",
      "LFP_BS_STN_R_5\tSEEG\tµV\t0.0\t2000.0\tStereoEEG\t4000.0\tgood\tn/a\n",
      "Copying data files to sub-006_ses-EphysMedOff02_task-movrestspeech_run-0_ieeg.vhdr\n"
     ]
    },
    {
     "name": "stderr",
     "output_type": "stream",
     "text": [
      "C:\\Users\\ICN_admin\\Anaconda3\\envs\\pyneuromodulation\\lib\\site-packages\\mne_bids\\read.py:164: RuntimeWarning: No events found or provided. Please add annotations to the raw data, or provide the events_data and event_id parameters. For resting state data, BIDS recommends naming the task using labels beginning with \"rest\".\n",
      "  warn('No events found or provided. Please add annotations to the raw '\n"
     ]
    },
    {
     "name": "stdout",
     "output_type": "stream",
     "text": [
      "\r\n",
      "Writing 'C:\\Users\\ICN_admin\\Documents\\WRITE_BERLIN_BIDS\\neu_hier\\sub-006\\ses-EphysMedOff02\\sub-006_ses-EphysMedOff02_scans.tsv'...\r\n",
      "\n",
      "filename\tacq_time\n",
      "ieeg/sub-006_ses-EphysMedOff02_task-movrestspeech_run-0_ieeg.vhdr\tn/a\n",
      "Wrote C:\\Users\\ICN_admin\\Documents\\WRITE_BERLIN_BIDS\\neu_hier\\sub-006\\ses-EphysMedOff02\\sub-006_ses-EphysMedOff02_scans.tsv entry with ieeg\\sub-006_ses-EphysMedOff02_task-movrestspeech_run-0_ieeg.vhdr.\n"
     ]
    }
   ],
   "source": [
    "bv_raw.info['line_freq'] = 50\n",
    "mne_bids.write_raw_bids(bv_raw, bids_path=bids_basename, overwrite=True)\n",
    "\n",
    "#  remove dummy file\n",
    "os.remove('dummy_write.vhdr')\n",
    "os.remove('dummy_write.eeg')\n",
    "os.remove('dummy_write.vmrk')\n",
    "\n"
   ]
  },
  {
   "cell_type": "code",
   "execution_count": 93,
   "id": "e9829c3f",
   "metadata": {},
   "outputs": [],
   "source": [
    "### check read now"
   ]
  },
  {
   "cell_type": "code",
   "execution_count": 94,
   "id": "9c27dc5b",
   "metadata": {},
   "outputs": [],
   "source": [
    "PATH_RUN = r\"C:\\Users\\ICN_admin\\OneDrive - Charité - Universitätsmedizin Berlin\\Data\\BIDS_Berlin_ECOG_LFP\\rawdata\\sub-006\\ses-EphysMedOff02\\ieeg\\sub-006_ses-EphysMedOff02_task-movrestspeech_run-0_ieeg.vhdr\""
   ]
  },
  {
   "cell_type": "code",
   "execution_count": null,
   "id": "6d14282b",
   "metadata": {},
   "outputs": [],
   "source": []
  },
  {
   "cell_type": "code",
   "execution_count": 96,
   "id": "a3ceef97",
   "metadata": {},
   "outputs": [],
   "source": [
    "bids_basename = mne_bids.BIDSPath(subject=subject_id, session=session, \\\n",
    "                                            task=task, run=run,\n",
    "                        root=r\"C:\\Users\\ICN_admin\\OneDrive - Charité - Universitätsmedizin Berlin\\Data\\BIDS_Berlin_ECOG_LFP\\rawdata\")"
   ]
  },
  {
   "cell_type": "code",
   "execution_count": 97,
   "id": "5d62fbf1",
   "metadata": {},
   "outputs": [
    {
     "name": "stdout",
     "output_type": "stream",
     "text": [
      "Extracting parameters from C:\\Users\\ICN_admin\\OneDrive - Charité - Universitätsmedizin Berlin\\Data\\BIDS_Berlin_ECOG_LFP\\rawdata\\sub-006\\ses-EphysMedOff02\\ieeg\\sub-006_ses-EphysMedOff02_task-movrestspeech_run-0_ieeg.vhdr...\n",
      "Setting channel info structure...\n",
      "Reading channel info from C:\\Users\\ICN_admin\\OneDrive - Charité - Universitätsmedizin Berlin\\Data\\BIDS_Berlin_ECOG_LFP\\rawdata\\sub-006\\ses-EphysMedOff02\\ieeg\\sub-006_ses-EphysMedOff02_task-movrestspeech_run-0_channels.tsv.\n"
     ]
    },
    {
     "name": "stderr",
     "output_type": "stream",
     "text": [
      "C:\\Users\\ICN_admin\\Anaconda3\\envs\\pyneuromodulation\\lib\\site-packages\\mne_bids\\path.py:1303: RuntimeWarning: Did not find any events.tsv associated with sub-006_ses-EphysMedOff02_task-movrestspeech_run-0.\n",
      "\n",
      "The search_str was \"C:\\Users\\ICN_admin\\OneDrive - Charité - Universitätsmedizin Berlin\\Data\\BIDS_Berlin_ECOG_LFP\\rawdata\\sub-006\\**\\sub-006_ses-EphysMedOff02*events.tsv\"\n",
      "  warn(msg)\n"
     ]
    }
   ],
   "source": [
    "out_ = mne_bids.read_raw_bids(bids_basename)"
   ]
  },
  {
   "cell_type": "code",
   "execution_count": 99,
   "id": "83b9621b",
   "metadata": {},
   "outputs": [
    {
     "data": {
      "text/plain": [
       "(38, 1921185)"
      ]
     },
     "execution_count": 99,
     "metadata": {},
     "output_type": "execute_result"
    }
   ],
   "source": [
    "out_.get_data().shape"
   ]
  },
  {
   "cell_type": "code",
   "execution_count": null,
   "id": "98408b06",
   "metadata": {},
   "outputs": [],
   "source": []
  }
 ],
 "metadata": {
  "kernelspec": {
   "display_name": "pyneuromodulation",
   "language": "python",
   "name": "pyneuromodulation"
  },
  "language_info": {
   "codemirror_mode": {
    "name": "ipython",
    "version": 3
   },
   "file_extension": ".py",
   "mimetype": "text/x-python",
   "name": "python",
   "nbconvert_exporter": "python",
   "pygments_lexer": "ipython3",
   "version": "3.9.6"
  }
 },
 "nbformat": 4,
 "nbformat_minor": 5
}
