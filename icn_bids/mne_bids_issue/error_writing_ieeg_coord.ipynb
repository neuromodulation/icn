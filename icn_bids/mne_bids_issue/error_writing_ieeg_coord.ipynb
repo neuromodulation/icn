{
 "cells": [
  {
   "cell_type": "code",
   "execution_count": 1,
   "id": "southeast-story",
   "metadata": {},
   "outputs": [],
   "source": [
    "import mne_bids\n",
    "\n",
    "run_file = r'C:\\Users\\ICN_admin\\Documents\\Decoding_Toolbox\\write_Beijing_again\\BIDS_here\\sub-FOGC001\\ses-EphysMedOff\\ieeg\\sub-FOGC001_ses-EphysMedOff_task-Rest_acq-StimOff_run-01_ieeg.vhdr'\n",
    "BIDS_PATH = 'C:\\\\Users\\\\ICN_admin\\\\Documents\\\\Decoding_Toolbox\\\\write_Beijing_again\\\\BIDS_update_1003'\n",
    "\n",
    "entities = mne_bids.get_entities_from_fname(run_file)\n",
    "bids_path = mne_bids.BIDSPath(subject=entities[\"subject\"], session=entities[\"session\"], task=entities[\"task\"], \\\n",
    "        run=entities[\"run\"], acquisition=entities[\"acquisition\"], datatype=\"ieeg\", root=BIDS_PATH)"
   ]
  },
  {
   "cell_type": "code",
   "execution_count": 2,
   "id": "broad-jackson",
   "metadata": {},
   "outputs": [
    {
     "name": "stdout",
     "output_type": "stream",
     "text": [
      "Extracting parameters from C:\\Users\\ICN_admin\\Documents\\Decoding_Toolbox\\write_Beijing_again\\BIDS_update_1003\\sub-FOGC001\\ses-EphysMedOff\\ieeg\\sub-FOGC001_ses-EphysMedOff_task-Rest_acq-StimOff_run-01_ieeg.vhdr...\n",
      "Setting channel info structure...\n",
      "Reading channel info from C:\\Users\\ICN_admin\\Documents\\Decoding_Toolbox\\write_Beijing_again\\BIDS_update_1003\\sub-FOGC001\\ses-EphysMedOff\\ieeg\\sub-FOGC001_ses-EphysMedOff_task-Rest_acq-StimOff_run-01_channels.tsv.\n",
      "Reading in coordinate system frame Other: None.\n",
      "Reading electrode coords from C:\\Users\\ICN_admin\\Documents\\Decoding_Toolbox\\write_Beijing_again\\BIDS_update_1003\\sub-FOGC001\\ses-EphysMedOff\\ieeg\\sub-FOGC001_ses-EphysMedOff_acq-StimOff_space-mni_electrodes.tsv.\n",
      "The read in electrodes file is: \n",
      " [('name', ['ECOG_1_R_SM_HH', 'ECOG_2_R_SM_HH', 'ECOG_3_R_SM_HH', 'ECOG_4_R_SM_HH', 'ECOG_5_R_SM_HH', 'ECOG_6_R_SM_HH', 'ECOG_7_R_SM_HH', 'ECOG_8_R_SM_HH', 'LFP_1_L_STN_PI', 'LFP_2_L_STN_PI', 'LFP_1_R_STN_PI', 'LFP_2_R_STN_PI', 'LFP_3_R_STN_PI', 'LFP_4_R_STN_PI', 'EMG_1_L_HAND_PI', 'EMG_2_L_HAND_PI', 'EMG_1_R_HAND_PI', 'EMG_2_R_HAND_PI', 'MISC_GROUND', 'LFP_3_L_STN_PI', 'LFP_4_L_STN_PI', 'MISC_10_TTL', 'MISC_11_NONE', 'MISC_3_L_STN_PI', 'MISC_4_L_STN_PI', 'TTL_1_clean']), ('x', ['29.826', '30.497', '40.803', '35.557', '35.884', '32.322', '26.242', '20.624', 'n/a', 'n/a', 'n/a', 'n/a', 'n/a', 'n/a', 'n/a', 'n/a', 'n/a', 'n/a', 'n/a', 'n/a', 'n/a', 'n/a', 'n/a', 'n/a', 'n/a', 'n/a']), ('y', ['26.873', '25.779', '14.965', '2.507', '-4.177', '-14.243', '-30.302', '-36.944', 'n/a', 'n/a', 'n/a', 'n/a', 'n/a', 'n/a', 'n/a', 'n/a', 'n/a', 'n/a', 'n/a', 'n/a', 'n/a', 'n/a', 'n/a', 'n/a', 'n/a', 'n/a']), ('z', ['39.996', '48.107', '38.515', '51.948', '52.448', '53.985', '49.711', '52.164', 'n/a', 'n/a', 'n/a', 'n/a', 'n/a', 'n/a', 'n/a', 'n/a', 'n/a', 'n/a', 'n/a', 'n/a', 'n/a', 'n/a', 'n/a', 'n/a', 'n/a', 'n/a']), ('size', ['n/a', 'n/a', 'n/a', 'n/a', 'n/a', 'n/a', 'n/a', 'n/a', 'n/a', 'n/a', 'n/a', 'n/a', 'n/a', 'n/a', 'n/a', 'n/a', 'n/a', 'n/a', 'n/a', 'n/a', 'n/a', 'n/a', 'n/a', 'n/a', 'n/a', 'n/a'])]\n"
     ]
    },
    {
     "name": "stderr",
     "output_type": "stream",
     "text": [
      "c:\\users\\icn_admin\\documents\\mne-bids\\mne_bids\\path.py:1092: RuntimeWarning: Did not find any events.tsv associated with sub-FOGC001_ses-EphysMedOff_task-Rest_acq-StimOff_run-01.\n",
      "\n",
      "The search_str was \"C:\\Users\\ICN_admin\\Documents\\Decoding_Toolbox\\write_Beijing_again\\BIDS_update_1003\\sub-FOGC001\\**\\sub-FOGC001_ses-EphysMedOff*events.tsv\"\n",
      "  warn(msg)\n",
      "c:\\users\\icn_admin\\documents\\mne-bids\\mne_bids\\dig.py:468: RuntimeWarning: Defaulting coordinate frame to unknown from coordinate system input Other\n",
      "  warn(f\"Defaulting coordinate frame to unknown \"\n",
      "c:\\users\\icn_admin\\documents\\mne-bids\\mne_bids\\dig.py:515: RuntimeWarning: There are channels without locations (n/a) that are not marked as bad: ['LFP_1_L_STN_PI', 'LFP_2_L_STN_PI', 'LFP_1_R_STN_PI', 'LFP_2_R_STN_PI', 'LFP_3_R_STN_PI', 'LFP_4_R_STN_PI', 'EMG_1_L_HAND_PI', 'EMG_2_L_HAND_PI', 'EMG_1_R_HAND_PI', 'EMG_2_R_HAND_PI', 'MISC_GROUND', 'LFP_3_L_STN_PI', 'LFP_4_L_STN_PI', 'MISC_10_TTL', 'MISC_11_NONE', 'MISC_3_L_STN_PI', 'MISC_4_L_STN_PI', 'TTL_1_clean']\n",
      "  warn(f\"There are channels without locations \"\n",
      "c:\\users\\icn_admin\\documents\\mne-bids\\mne_bids\\dig.py:519: RuntimeWarning: Fiducial point nasion not found, assuming identity unknown to head transformation\n",
      "  raw.set_montage(montage, on_missing='warn', verbose=verbose)\n"
     ]
    }
   ],
   "source": [
    "arr = mne_bids.read_raw_bids(bids_path)"
   ]
  },
  {
   "cell_type": "code",
   "execution_count": 4,
   "id": "tracked-pharmacy",
   "metadata": {},
   "outputs": [
    {
     "data": {
      "text/plain": [
       "['ECOG_1_R_SM_HH',\n",
       " 'ECOG_2_R_SM_HH',\n",
       " 'ECOG_3_R_SM_HH',\n",
       " 'ECOG_4_R_SM_HH',\n",
       " 'ECOG_5_R_SM_HH',\n",
       " 'ECOG_6_R_SM_HH',\n",
       " 'ECOG_7_R_SM_HH',\n",
       " 'ECOG_8_R_SM_HH',\n",
       " 'LFP_1_L_STN_PI',\n",
       " 'LFP_2_L_STN_PI',\n",
       " 'LFP_1_R_STN_PI',\n",
       " 'LFP_2_R_STN_PI',\n",
       " 'LFP_3_R_STN_PI',\n",
       " 'LFP_4_R_STN_PI',\n",
       " 'LFP_3_L_STN_PI',\n",
       " 'LFP_4_L_STN_PI']"
      ]
     },
     "execution_count": 4,
     "metadata": {},
     "output_type": "execute_result"
    }
   ],
   "source": [
    "arr.get_montage().ch_names"
   ]
  },
  {
   "cell_type": "code",
   "execution_count": 5,
   "id": "hungry-emission",
   "metadata": {},
   "outputs": [
    {
     "data": {
      "text/plain": [
       "{'ch_pos': OrderedDict([('ECOG_1_R_SM_HH', array([29.826, 26.873, 39.996])),\n",
       "              ('ECOG_2_R_SM_HH', array([30.497, 25.779, 48.107])),\n",
       "              ('ECOG_3_R_SM_HH', array([40.803, 14.965, 38.515])),\n",
       "              ('ECOG_4_R_SM_HH', array([35.557,  2.507, 51.948])),\n",
       "              ('ECOG_5_R_SM_HH', array([35.884, -4.177, 52.448])),\n",
       "              ('ECOG_6_R_SM_HH', array([ 32.322, -14.243,  53.985])),\n",
       "              ('ECOG_7_R_SM_HH', array([ 26.242, -30.302,  49.711])),\n",
       "              ('ECOG_8_R_SM_HH', array([ 20.624, -36.944,  52.164])),\n",
       "              ('LFP_1_L_STN_PI', array([nan, nan, nan])),\n",
       "              ('LFP_2_L_STN_PI', array([nan, nan, nan])),\n",
       "              ('LFP_1_R_STN_PI', array([nan, nan, nan])),\n",
       "              ('LFP_2_R_STN_PI', array([nan, nan, nan])),\n",
       "              ('LFP_3_R_STN_PI', array([nan, nan, nan])),\n",
       "              ('LFP_4_R_STN_PI', array([nan, nan, nan])),\n",
       "              ('LFP_3_L_STN_PI', array([nan, nan, nan])),\n",
       "              ('LFP_4_L_STN_PI', array([nan, nan, nan]))]),\n",
       " 'coord_frame': 'head',\n",
       " 'nasion': None,\n",
       " 'lpa': None,\n",
       " 'rpa': None,\n",
       " 'hsp': None,\n",
       " 'hpi': None}"
      ]
     },
     "execution_count": 5,
     "metadata": {},
     "output_type": "execute_result"
    }
   ],
   "source": [
    "arr.get_montage().get_positions()"
   ]
  },
  {
   "cell_type": "code",
   "execution_count": 7,
   "id": "scheduled-immune",
   "metadata": {},
   "outputs": [],
   "source": [
    "BIDS_PATH_NEW = r\"C:\\Users\\ICN_admin\\Documents\\Decoding_Toolbox\\write_Beijing_again\\BIDS_WRITE_OUT_TEST\"\n",
    "bids_path = mne_bids.BIDSPath(subject=entities[\"subject\"], session=entities[\"session\"], task=entities[\"task\"], \\\n",
    "        run=entities[\"run\"], acquisition=entities[\"acquisition\"], datatype=\"ieeg\", root=BIDS_PATH_NEW)"
   ]
  },
  {
   "cell_type": "code",
   "execution_count": 8,
   "id": "ruled-citation",
   "metadata": {},
   "outputs": [
    {
     "name": "stdout",
     "output_type": "stream",
     "text": [
      "Extracting parameters from C:\\Users\\ICN_admin\\Documents\\Decoding_Toolbox\\write_Beijing_again\\BIDS_update_1003\\sub-FOGC001\\ses-EphysMedOff\\ieeg\\sub-FOGC001_ses-EphysMedOff_task-Rest_acq-StimOff_run-01_ieeg.vhdr...\n",
      "Setting channel info structure...\n",
      "\n",
      "Writing 'C:\\Users\\ICN_admin\\Documents\\Decoding_Toolbox\\write_Beijing_again\\BIDS_WRITE_OUT_TEST\\README'...\n",
      "\n",
      "References\n",
      "----------\n",
      "Appelhoff, S., Sanderson, M., Brooks, T., Vliet, M., Quentin, R., Holdgraf, C., Chaumon, M., Mikulan, E., Tavabi, K., Höchenberger, R., Welke, D., Brunner, C., Rockhill, A., Larson, E., Gramfort, A. and Jas, M. (2019). MNE-BIDS: Organizing electrophysiological data into the BIDS format and facilitating their analysis. Journal of Open Source Software 4: (1896). https://doi.org/10.21105/joss.01896\n",
      "\n",
      "Holdgraf, C., Appelhoff, S., Bickel, S., Bouchard, K., D'Ambrosio, S., David, O., … Hermes, D. (2019). iEEG-BIDS, extending the Brain Imaging Data Structure specification to human intracranial electrophysiology. Scientific Data, 6, 102. https://doi.org/10.1038/s41597-019-0105-7\n",
      "\n",
      "\n",
      "Writing 'C:\\Users\\ICN_admin\\Documents\\Decoding_Toolbox\\write_Beijing_again\\BIDS_WRITE_OUT_TEST\\participants.tsv'...\n",
      "\n",
      "participant_id\tage\tsex\thand\n",
      "sub-FOGC001\tn/a\tn/a\tn/a\n",
      "\n",
      "Writing 'C:\\Users\\ICN_admin\\Documents\\Decoding_Toolbox\\write_Beijing_again\\BIDS_WRITE_OUT_TEST\\participants.json'...\n",
      "\n",
      "{\n",
      "    \"participant_id\": {\n",
      "        \"Description\": \"Unique participant identifier\"\n",
      "    },\n",
      "    \"age\": {\n",
      "        \"Description\": \"Age of the participant at time of testing\",\n",
      "        \"Units\": \"years\"\n",
      "    },\n",
      "    \"sex\": {\n",
      "        \"Description\": \"Biological sex of the participant\",\n",
      "        \"Levels\": {\n",
      "            \"F\": \"female\",\n",
      "            \"M\": \"male\"\n",
      "        }\n",
      "    },\n",
      "    \"hand\": {\n",
      "        \"Description\": \"Handedness of the participant\",\n",
      "        \"Levels\": {\n",
      "            \"R\": \"right\",\n",
      "            \"L\": \"left\",\n",
      "            \"A\": \"ambidextrous\"\n",
      "        }\n",
      "    }\n",
      "}\n",
      "Writing electrodes file to...  C:\\Users\\ICN_admin\\Documents\\Decoding_Toolbox\\write_Beijing_again\\BIDS_WRITE_OUT_TEST\\sub-FOGC001\\ses-EphysMedOff\\ieeg\\sub-FOGC001_ses-EphysMedOff_acq-StimOff_electrodes.tsv\n",
      "Writing coordsytem file to...  C:\\Users\\ICN_admin\\Documents\\Decoding_Toolbox\\write_Beijing_again\\BIDS_WRITE_OUT_TEST\\sub-FOGC001\\ses-EphysMedOff\\ieeg\\sub-FOGC001_ses-EphysMedOff_acq-StimOff_coordsystem.json\n"
     ]
    },
    {
     "ename": "ValueError",
     "evalue": "space (CapTrak) is not valid for datatype (ieeg).\nShould be one of ['ICBM452AirSpace', 'ICBM452Warp5Space', 'IXI549Space', 'fsaverage', 'fsaverageSym', 'fsLR', 'MNIColin27', 'MNI152Lin', 'MNI152NLin2009aSym', 'MNI152NLin2009bSym', 'MNI152NLin2009cSym', 'MNI152NLin2009aAsym', 'MNI152NLin2009bAsym', 'MNI152NLin2009cAsym', 'MNI152NLin6Sym', 'MNI152NLin6ASym', 'MNI305', 'NIHPD', 'OASIS30AntsOASISAnts', 'OASIS30Atropos', 'Talairach', 'UNCInfant', 'fsaverage3', 'fsaverage4', 'fsaverage5', 'fsaverage6', 'fsaveragesym', 'UNCInfant0V21', 'UNCInfant1V21', 'UNCInfant2V21', 'UNCInfant0V22', 'UNCInfant1V22', 'UNCInfant2V22', 'UNCInfant0V23', 'UNCInfant1V23', 'UNCInfant2V23', 'Other', 'Pixels', 'ACPC']",
     "output_type": "error",
     "traceback": [
      "\u001b[1;31m---------------------------------------------------------------------------\u001b[0m",
      "\u001b[1;31mValueError\u001b[0m                                Traceback (most recent call last)",
      "\u001b[1;32m<ipython-input-8-22e6060b6f19>\u001b[0m in \u001b[0;36m<module>\u001b[1;34m\u001b[0m\n\u001b[1;32m----> 1\u001b[1;33m \u001b[0mmne_bids\u001b[0m\u001b[1;33m.\u001b[0m\u001b[0mwrite_raw_bids\u001b[0m\u001b[1;33m(\u001b[0m\u001b[0marr\u001b[0m\u001b[1;33m,\u001b[0m \u001b[0mbids_path\u001b[0m\u001b[1;33m)\u001b[0m\u001b[1;33m\u001b[0m\u001b[1;33m\u001b[0m\u001b[0m\n\u001b[0m",
      "\u001b[1;32mc:\\users\\icn_admin\\documents\\mne-bids\\mne_bids\\write.py\u001b[0m in \u001b[0;36mwrite_raw_bids\u001b[1;34m(raw, bids_path, events_data, event_id, anonymize, format, overwrite, verbose)\u001b[0m\n\u001b[0;32m   1265\u001b[0m         \u001b[1;31m# if we have an available DigMontage\u001b[0m\u001b[1;33m\u001b[0m\u001b[1;33m\u001b[0m\u001b[1;33m\u001b[0m\u001b[0m\n\u001b[0;32m   1266\u001b[0m         \u001b[1;32mif\u001b[0m \u001b[0mraw\u001b[0m\u001b[1;33m.\u001b[0m\u001b[0minfo\u001b[0m\u001b[1;33m[\u001b[0m\u001b[1;34m'dig'\u001b[0m\u001b[1;33m]\u001b[0m \u001b[1;32mis\u001b[0m \u001b[1;32mnot\u001b[0m \u001b[1;32mNone\u001b[0m \u001b[1;32mand\u001b[0m \u001b[0mraw\u001b[0m\u001b[1;33m.\u001b[0m\u001b[0minfo\u001b[0m\u001b[1;33m[\u001b[0m\u001b[1;34m'dig'\u001b[0m\u001b[1;33m]\u001b[0m\u001b[1;33m:\u001b[0m\u001b[1;33m\u001b[0m\u001b[1;33m\u001b[0m\u001b[0m\n\u001b[1;32m-> 1267\u001b[1;33m             \u001b[0m_write_dig_bids\u001b[0m\u001b[1;33m(\u001b[0m\u001b[0mbids_path\u001b[0m\u001b[1;33m,\u001b[0m \u001b[0mraw\u001b[0m\u001b[1;33m,\u001b[0m \u001b[0moverwrite\u001b[0m\u001b[1;33m,\u001b[0m \u001b[0mverbose\u001b[0m\u001b[1;33m)\u001b[0m\u001b[1;33m\u001b[0m\u001b[1;33m\u001b[0m\u001b[0m\n\u001b[0m\u001b[0;32m   1268\u001b[0m     \u001b[1;32melse\u001b[0m\u001b[1;33m:\u001b[0m\u001b[1;33m\u001b[0m\u001b[1;33m\u001b[0m\u001b[0m\n\u001b[0;32m   1269\u001b[0m         logger.warning(f'Writing of electrodes.tsv is not supported '\n",
      "\u001b[1;32mc:\\users\\icn_admin\\documents\\mne-bids\\mne_bids\\dig.py\u001b[0m in \u001b[0;36m_write_dig_bids\u001b[1;34m(bids_path, raw, overwrite, verbose)\u001b[0m\n\u001b[0;32m    367\u001b[0m             \u001b[1;31m# XXX: To improve when mne-python allows coord_frame='unknown'\u001b[0m\u001b[1;33m\u001b[0m\u001b[1;33m\u001b[0m\u001b[1;33m\u001b[0m\u001b[0m\n\u001b[0;32m    368\u001b[0m             \u001b[1;31m# coordinate frame is either\u001b[0m\u001b[1;33m\u001b[0m\u001b[1;33m\u001b[0m\u001b[1;33m\u001b[0m\u001b[0m\n\u001b[1;32m--> 369\u001b[1;33m             \u001b[0mcoordsystem_path\u001b[0m\u001b[1;33m.\u001b[0m\u001b[0mupdate\u001b[0m\u001b[1;33m(\u001b[0m\u001b[0mspace\u001b[0m\u001b[1;33m=\u001b[0m\u001b[0mcoord_frame\u001b[0m\u001b[1;33m)\u001b[0m\u001b[1;33m\u001b[0m\u001b[1;33m\u001b[0m\u001b[0m\n\u001b[0m\u001b[0;32m    370\u001b[0m             \u001b[0melectrodes_path\u001b[0m\u001b[1;33m.\u001b[0m\u001b[0mupdate\u001b[0m\u001b[1;33m(\u001b[0m\u001b[0mspace\u001b[0m\u001b[1;33m=\u001b[0m\u001b[0mcoord_frame\u001b[0m\u001b[1;33m)\u001b[0m\u001b[1;33m\u001b[0m\u001b[1;33m\u001b[0m\u001b[0m\n\u001b[0;32m    371\u001b[0m \u001b[1;33m\u001b[0m\u001b[0m\n",
      "\u001b[1;32mc:\\users\\icn_admin\\documents\\mne-bids\\mne_bids\\path.py\u001b[0m in \u001b[0;36mupdate\u001b[1;34m(self, check, **kwargs)\u001b[0m\n\u001b[0;32m    589\u001b[0m         \u001b[1;32mif\u001b[0m \u001b[0mcheck\u001b[0m \u001b[1;32mis\u001b[0m \u001b[1;32mnot\u001b[0m \u001b[1;32mNone\u001b[0m\u001b[1;33m:\u001b[0m\u001b[1;33m\u001b[0m\u001b[1;33m\u001b[0m\u001b[0m\n\u001b[0;32m    590\u001b[0m             \u001b[0mself\u001b[0m\u001b[1;33m.\u001b[0m\u001b[0mcheck\u001b[0m \u001b[1;33m=\u001b[0m \u001b[0mcheck\u001b[0m\u001b[1;33m\u001b[0m\u001b[1;33m\u001b[0m\u001b[0m\n\u001b[1;32m--> 591\u001b[1;33m         \u001b[0mself\u001b[0m\u001b[1;33m.\u001b[0m\u001b[0m_check\u001b[0m\u001b[1;33m(\u001b[0m\u001b[1;33m)\u001b[0m\u001b[1;33m\u001b[0m\u001b[1;33m\u001b[0m\u001b[0m\n\u001b[0m\u001b[0;32m    592\u001b[0m         \u001b[1;32mreturn\u001b[0m \u001b[0mself\u001b[0m\u001b[1;33m\u001b[0m\u001b[1;33m\u001b[0m\u001b[0m\n\u001b[0;32m    593\u001b[0m \u001b[1;33m\u001b[0m\u001b[0m\n",
      "\u001b[1;32mc:\\users\\icn_admin\\documents\\mne-bids\\mne_bids\\path.py\u001b[0m in \u001b[0;36m_check\u001b[1;34m(self)\u001b[0m\n\u001b[0;32m    680\u001b[0m                                      f'{self.datatype}')\n\u001b[0;32m    681\u001b[0m                 \u001b[1;32melif\u001b[0m \u001b[0mspace\u001b[0m \u001b[1;32mnot\u001b[0m \u001b[1;32min\u001b[0m \u001b[0mallowed_spaces_for_dtype\u001b[0m\u001b[1;33m:\u001b[0m\u001b[1;33m\u001b[0m\u001b[1;33m\u001b[0m\u001b[0m\n\u001b[1;32m--> 682\u001b[1;33m                     raise ValueError(f'space ({space}) is not valid for '\n\u001b[0m\u001b[0;32m    683\u001b[0m                                      \u001b[1;34mf'datatype ({self.datatype}).\\n'\u001b[0m\u001b[1;33m\u001b[0m\u001b[1;33m\u001b[0m\u001b[0m\n\u001b[0;32m    684\u001b[0m                                      \u001b[1;34mf'Should be one of '\u001b[0m\u001b[1;33m\u001b[0m\u001b[1;33m\u001b[0m\u001b[0m\n",
      "\u001b[1;31mValueError\u001b[0m: space (CapTrak) is not valid for datatype (ieeg).\nShould be one of ['ICBM452AirSpace', 'ICBM452Warp5Space', 'IXI549Space', 'fsaverage', 'fsaverageSym', 'fsLR', 'MNIColin27', 'MNI152Lin', 'MNI152NLin2009aSym', 'MNI152NLin2009bSym', 'MNI152NLin2009cSym', 'MNI152NLin2009aAsym', 'MNI152NLin2009bAsym', 'MNI152NLin2009cAsym', 'MNI152NLin6Sym', 'MNI152NLin6ASym', 'MNI305', 'NIHPD', 'OASIS30AntsOASISAnts', 'OASIS30Atropos', 'Talairach', 'UNCInfant', 'fsaverage3', 'fsaverage4', 'fsaverage5', 'fsaverage6', 'fsaveragesym', 'UNCInfant0V21', 'UNCInfant1V21', 'UNCInfant2V21', 'UNCInfant0V22', 'UNCInfant1V22', 'UNCInfant2V22', 'UNCInfant0V23', 'UNCInfant1V23', 'UNCInfant2V23', 'Other', 'Pixels', 'ACPC']"
     ]
    }
   ],
   "source": [
    "mne_bids.write_raw_bids(arr, bids_path)"
   ]
  },
  {
   "cell_type": "code",
   "execution_count": null,
   "id": "organizational-extreme",
   "metadata": {},
   "outputs": [],
   "source": []
  },
  {
   "cell_type": "code",
   "execution_count": null,
   "id": "integral-malawi",
   "metadata": {},
   "outputs": [],
   "source": []
  }
 ],
 "metadata": {
  "kernelspec": {
   "display_name": "Python 3",
   "language": "python",
   "name": "python3"
  },
  "language_info": {
   "codemirror_mode": {
    "name": "ipython",
    "version": 3
   },
   "file_extension": ".py",
   "mimetype": "text/x-python",
   "name": "python",
   "nbconvert_exporter": "python",
   "pygments_lexer": "ipython3",
   "version": "3.7.4"
  }
 },
 "nbformat": 4,
 "nbformat_minor": 5
}
